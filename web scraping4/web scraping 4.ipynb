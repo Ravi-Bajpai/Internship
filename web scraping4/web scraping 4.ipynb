{
 "cells": [
  {
   "cell_type": "code",
   "execution_count": 2,
   "id": "a6be639b",
   "metadata": {},
   "outputs": [],
   "source": [
    "import selenium\n",
    "from selenium import webdriver\n",
    "import pandas as pd\n",
    "import warnings\n",
    "warnings.filterwarnings(\"ignore\")"
   ]
  },
  {
   "cell_type": "markdown",
   "id": "a5c03060",
   "metadata": {},
   "source": [
    "# QUESTION 1 WIKIPEDIA OF MOST VIEWED VIDEOS"
   ]
  },
  {
   "cell_type": "code",
   "execution_count": 2,
   "id": "ff5af957",
   "metadata": {},
   "outputs": [],
   "source": [
    "driver=webdriver.Chrome(r'D:\\flip robo\\chromedriver_win32\\chromedriver.exe')"
   ]
  },
  {
   "cell_type": "code",
   "execution_count": 3,
   "id": "02188158",
   "metadata": {},
   "outputs": [],
   "source": [
    "url=\"https://en.wikipedia.org/wiki/List_of_most-viewed_YouTube_videos\"\n",
    "driver.get(url)"
   ]
  },
  {
   "cell_type": "code",
   "execution_count": 4,
   "id": "478f5abe",
   "metadata": {},
   "outputs": [],
   "source": [
    "from selenium.webdriver.common.by import By"
   ]
  },
  {
   "cell_type": "markdown",
   "id": "b5c7e23b",
   "metadata": {},
   "source": [
    "rank_tag=driver.find_elements(By.XPATH,'//table[2][@class=\"wikitable sortable jquery-tablesorter\"]//td[1]')\n",
    "rank=[]\n",
    "for i in rank_tag4:\n",
    "       rank.append(i.text)\n",
    "rank\n",
    "    "
   ]
  },
  {
   "cell_type": "code",
   "execution_count": 126,
   "id": "fb75e1bf",
   "metadata": {},
   "outputs": [
    {
     "data": {
      "text/plain": [
       "['1.', '2.', '3.', '4.', '5.']"
      ]
     },
     "execution_count": 126,
     "metadata": {},
     "output_type": "execute_result"
    }
   ],
   "source": [
    "rank_tag=driver.find_elements(By.XPATH,'//table[2][@class=\"wikitable sortable jquery-tablesorter\"]//td[1]')\n",
    "rank=[]\n",
    "for i in rank_tag:\n",
    "    rank.append(i.text)\n",
    "rank[:5]"
   ]
  },
  {
   "cell_type": "code",
   "execution_count": 127,
   "id": "3d82ba4f",
   "metadata": {},
   "outputs": [
    {
     "data": {
      "text/plain": [
       "['\"Baby Shark Dance\"[4]',\n",
       " '\"Despacito\"[7]',\n",
       " '\"Johny Johny Yes Papa\"[14]',\n",
       " '\"Bath Song\"[15]',\n",
       " '\"Shape of You\"[16]']"
      ]
     },
     "execution_count": 127,
     "metadata": {},
     "output_type": "execute_result"
    }
   ],
   "source": [
    "name_tag=driver.find_elements(By.XPATH,'//table[2][@class=\"wikitable sortable jquery-tablesorter\"]//td[2]')\n",
    "name=[]\n",
    "for i in name_tag:\n",
    "    name.append(i.text)\n",
    "name[:5]"
   ]
  },
  {
   "cell_type": "code",
   "execution_count": 128,
   "id": "d3e9a319",
   "metadata": {},
   "outputs": [
    {
     "data": {
      "text/plain": [
       "[\"Pinkfong Baby Shark - Kids' Songs & Stories\",\n",
       " 'Luis Fonsi',\n",
       " 'LooLoo Kids',\n",
       " 'Cocomelon – Nursery Rhymes',\n",
       " 'Ed Sheeran']"
      ]
     },
     "execution_count": 128,
     "metadata": {},
     "output_type": "execute_result"
    }
   ],
   "source": [
    "artist_tag=driver.find_elements(By.XPATH,'//table[2][@class=\"wikitable sortable jquery-tablesorter\"]//td[3]')\n",
    "artist=[]\n",
    "for i in artist_tag:\n",
    "    artist.append(i.text)\n",
    "artist[:5]"
   ]
  },
  {
   "cell_type": "code",
   "execution_count": null,
   "id": "8967c510",
   "metadata": {},
   "outputs": [],
   "source": []
  },
  {
   "cell_type": "code",
   "execution_count": 129,
   "id": "b7aaae63",
   "metadata": {},
   "outputs": [
    {
     "data": {
      "text/plain": [
       "['12.55', '8.11', '6.66', '6.08', '5.95']"
      ]
     },
     "execution_count": 129,
     "metadata": {},
     "output_type": "execute_result"
    }
   ],
   "source": [
    "view_tag=driver.find_elements(By.XPATH,'//table[2][@class=\"wikitable sortable jquery-tablesorter\"]//td[4]')\n",
    "view=[]\n",
    "for i in view_tag:\n",
    "    view.append(i.text)\n",
    "view[:5]"
   ]
  },
  {
   "cell_type": "code",
   "execution_count": 130,
   "id": "4d87bc85",
   "metadata": {},
   "outputs": [
    {
     "data": {
      "text/plain": [
       "['June 17, 2016',\n",
       " 'January 12, 2017',\n",
       " 'October 8, 2016',\n",
       " 'May 2, 2018',\n",
       " 'January 30, 2017']"
      ]
     },
     "execution_count": 130,
     "metadata": {},
     "output_type": "execute_result"
    }
   ],
   "source": [
    "date_tag=driver.find_elements(By.XPATH,'//table[2][@class=\"wikitable sortable jquery-tablesorter\"]//td[5]')\n",
    "date=[]\n",
    "for i in date_tag:\n",
    "    date.append(i.text)\n",
    "date[:5]"
   ]
  },
  {
   "cell_type": "code",
   "execution_count": 123,
   "id": "1922a176",
   "metadata": {},
   "outputs": [],
   "source": [
    "df=pd.DataFrame()"
   ]
  },
  {
   "cell_type": "code",
   "execution_count": 124,
   "id": "5704cb59",
   "metadata": {},
   "outputs": [],
   "source": [
    "df['RANK']=rank\n",
    "df['NAME']=name\n",
    "df['ARTIST']=artist\n",
    "df['VIEWS']=view\n",
    "df['DATE']=date\n"
   ]
  },
  {
   "cell_type": "code",
   "execution_count": 125,
   "id": "ba559e32",
   "metadata": {},
   "outputs": [
    {
     "data": {
      "text/html": [
       "<div>\n",
       "<style scoped>\n",
       "    .dataframe tbody tr th:only-of-type {\n",
       "        vertical-align: middle;\n",
       "    }\n",
       "\n",
       "    .dataframe tbody tr th {\n",
       "        vertical-align: top;\n",
       "    }\n",
       "\n",
       "    .dataframe thead th {\n",
       "        text-align: right;\n",
       "    }\n",
       "</style>\n",
       "<table border=\"1\" class=\"dataframe\">\n",
       "  <thead>\n",
       "    <tr style=\"text-align: right;\">\n",
       "      <th></th>\n",
       "      <th>RANK</th>\n",
       "      <th>NAME</th>\n",
       "      <th>ARTIST</th>\n",
       "      <th>VIEWS</th>\n",
       "      <th>DATE</th>\n",
       "    </tr>\n",
       "  </thead>\n",
       "  <tbody>\n",
       "    <tr>\n",
       "      <th>0</th>\n",
       "      <td>1.</td>\n",
       "      <td>\"Baby Shark Dance\"[4]</td>\n",
       "      <td>Pinkfong Baby Shark - Kids' Songs &amp; Stories</td>\n",
       "      <td>12.55</td>\n",
       "      <td>June 17, 2016</td>\n",
       "    </tr>\n",
       "    <tr>\n",
       "      <th>1</th>\n",
       "      <td>2.</td>\n",
       "      <td>\"Despacito\"[7]</td>\n",
       "      <td>Luis Fonsi</td>\n",
       "      <td>8.11</td>\n",
       "      <td>January 12, 2017</td>\n",
       "    </tr>\n",
       "    <tr>\n",
       "      <th>2</th>\n",
       "      <td>3.</td>\n",
       "      <td>\"Johny Johny Yes Papa\"[14]</td>\n",
       "      <td>LooLoo Kids</td>\n",
       "      <td>6.66</td>\n",
       "      <td>October 8, 2016</td>\n",
       "    </tr>\n",
       "    <tr>\n",
       "      <th>3</th>\n",
       "      <td>4.</td>\n",
       "      <td>\"Bath Song\"[15]</td>\n",
       "      <td>Cocomelon – Nursery Rhymes</td>\n",
       "      <td>6.08</td>\n",
       "      <td>May 2, 2018</td>\n",
       "    </tr>\n",
       "    <tr>\n",
       "      <th>4</th>\n",
       "      <td>5.</td>\n",
       "      <td>\"Shape of You\"[16]</td>\n",
       "      <td>Ed Sheeran</td>\n",
       "      <td>5.95</td>\n",
       "      <td>January 30, 2017</td>\n",
       "    </tr>\n",
       "    <tr>\n",
       "      <th>5</th>\n",
       "      <td>6.</td>\n",
       "      <td>\"See You Again\"[18]</td>\n",
       "      <td>Wiz Khalifa</td>\n",
       "      <td>5.82</td>\n",
       "      <td>April 6, 2015</td>\n",
       "    </tr>\n",
       "    <tr>\n",
       "      <th>6</th>\n",
       "      <td>7.</td>\n",
       "      <td>\"Phonics Song with Two Words\"[23]</td>\n",
       "      <td>ChuChu TV</td>\n",
       "      <td>5.22</td>\n",
       "      <td>March 6, 2014</td>\n",
       "    </tr>\n",
       "    <tr>\n",
       "      <th>7</th>\n",
       "      <td>8.</td>\n",
       "      <td>\"Wheels on the Bus\"[24]</td>\n",
       "      <td>Cocomelon – Nursery Rhymes</td>\n",
       "      <td>5.04</td>\n",
       "      <td>May 24, 2018</td>\n",
       "    </tr>\n",
       "    <tr>\n",
       "      <th>8</th>\n",
       "      <td>9.</td>\n",
       "      <td>\"Uptown Funk\"[25]</td>\n",
       "      <td>Mark Ronson</td>\n",
       "      <td>4.87</td>\n",
       "      <td>November 19, 2014</td>\n",
       "    </tr>\n",
       "    <tr>\n",
       "      <th>9</th>\n",
       "      <td>10.</td>\n",
       "      <td>\"Learning Colors – Colorful Eggs on a Farm\"[26]</td>\n",
       "      <td>Miroshka TV</td>\n",
       "      <td>4.86</td>\n",
       "      <td>February 27, 2018</td>\n",
       "    </tr>\n",
       "    <tr>\n",
       "      <th>10</th>\n",
       "      <td>11.</td>\n",
       "      <td>\"Gangnam Style\"[27]</td>\n",
       "      <td>Psy</td>\n",
       "      <td>4.73</td>\n",
       "      <td>July 15, 2012</td>\n",
       "    </tr>\n",
       "    <tr>\n",
       "      <th>11</th>\n",
       "      <td>12.</td>\n",
       "      <td>\"Masha and the Bear – Recipe for Disaster\"[32]</td>\n",
       "      <td>Get Movies</td>\n",
       "      <td>4.54</td>\n",
       "      <td>January 31, 2012</td>\n",
       "    </tr>\n",
       "    <tr>\n",
       "      <th>12</th>\n",
       "      <td>13.</td>\n",
       "      <td>\"Dame Tu Cosita\"[33]</td>\n",
       "      <td>El Chombo</td>\n",
       "      <td>4.28</td>\n",
       "      <td>April 5, 2018</td>\n",
       "    </tr>\n",
       "    <tr>\n",
       "      <th>13</th>\n",
       "      <td>14.</td>\n",
       "      <td>\"Sugar\"[34]</td>\n",
       "      <td>Maroon 5</td>\n",
       "      <td>3.84</td>\n",
       "      <td>January 14, 2015</td>\n",
       "    </tr>\n",
       "    <tr>\n",
       "      <th>14</th>\n",
       "      <td>15.</td>\n",
       "      <td>\"Axel F\"[35]</td>\n",
       "      <td>Crazy Frog</td>\n",
       "      <td>3.82</td>\n",
       "      <td>June 16, 2009</td>\n",
       "    </tr>\n",
       "    <tr>\n",
       "      <th>15</th>\n",
       "      <td>16.</td>\n",
       "      <td>\"Roar\"[36]</td>\n",
       "      <td>Katy Perry</td>\n",
       "      <td>3.76</td>\n",
       "      <td>September 5, 2013</td>\n",
       "    </tr>\n",
       "    <tr>\n",
       "      <th>16</th>\n",
       "      <td>17.</td>\n",
       "      <td>\"Counting Stars\"[37]</td>\n",
       "      <td>OneRepublic</td>\n",
       "      <td>3.75</td>\n",
       "      <td>May 31, 2013</td>\n",
       "    </tr>\n",
       "    <tr>\n",
       "      <th>17</th>\n",
       "      <td>18.</td>\n",
       "      <td>\"Sorry\"[38]</td>\n",
       "      <td>Justin Bieber</td>\n",
       "      <td>3.64</td>\n",
       "      <td>October 22, 2015</td>\n",
       "    </tr>\n",
       "    <tr>\n",
       "      <th>18</th>\n",
       "      <td>19.</td>\n",
       "      <td>\"Thinking Out Loud\"[39]</td>\n",
       "      <td>Ed Sheeran</td>\n",
       "      <td>3.57</td>\n",
       "      <td>October 7, 2014</td>\n",
       "    </tr>\n",
       "    <tr>\n",
       "      <th>19</th>\n",
       "      <td>20.</td>\n",
       "      <td>\"Baa Baa Black Sheep\"[40]</td>\n",
       "      <td>Cocomelon – Nursery Rhymes</td>\n",
       "      <td>3.56</td>\n",
       "      <td>June 25, 2018</td>\n",
       "    </tr>\n",
       "    <tr>\n",
       "      <th>20</th>\n",
       "      <td>21.</td>\n",
       "      <td>\"Waka Waka (This Time for Africa)\"[41]</td>\n",
       "      <td>Shakira</td>\n",
       "      <td>3.52</td>\n",
       "      <td>June 4, 2010</td>\n",
       "    </tr>\n",
       "    <tr>\n",
       "      <th>21</th>\n",
       "      <td>22.</td>\n",
       "      <td>\"Dark Horse\"[42]</td>\n",
       "      <td>Katy Perry</td>\n",
       "      <td>3.48</td>\n",
       "      <td>February 20, 2014</td>\n",
       "    </tr>\n",
       "    <tr>\n",
       "      <th>22</th>\n",
       "      <td>23.</td>\n",
       "      <td>\"Faded\"[43]</td>\n",
       "      <td>Alan Walker</td>\n",
       "      <td>3.42</td>\n",
       "      <td>December 3, 2015</td>\n",
       "    </tr>\n",
       "    <tr>\n",
       "      <th>23</th>\n",
       "      <td>24.</td>\n",
       "      <td>\"Let Her Go\"[44]</td>\n",
       "      <td>Passenger</td>\n",
       "      <td>3.40</td>\n",
       "      <td>July 25, 2012</td>\n",
       "    </tr>\n",
       "    <tr>\n",
       "      <th>24</th>\n",
       "      <td>25.</td>\n",
       "      <td>\"Perfect\"[45]</td>\n",
       "      <td>Ed Sheeran</td>\n",
       "      <td>3.40</td>\n",
       "      <td>November 9, 2017</td>\n",
       "    </tr>\n",
       "    <tr>\n",
       "      <th>25</th>\n",
       "      <td>26.</td>\n",
       "      <td>\"Girls Like You\"[46]</td>\n",
       "      <td>Maroon 5</td>\n",
       "      <td>3.39</td>\n",
       "      <td>May 31, 2018</td>\n",
       "    </tr>\n",
       "    <tr>\n",
       "      <th>26</th>\n",
       "      <td>27.</td>\n",
       "      <td>\"Lakdi Ki Kathi\"[47]</td>\n",
       "      <td>Jingle Toons</td>\n",
       "      <td>3.37</td>\n",
       "      <td>June 14, 2018</td>\n",
       "    </tr>\n",
       "    <tr>\n",
       "      <th>27</th>\n",
       "      <td>28.</td>\n",
       "      <td>\"Bailando\"[48]</td>\n",
       "      <td>Enrique Iglesias</td>\n",
       "      <td>3.35</td>\n",
       "      <td>April 11, 2014</td>\n",
       "    </tr>\n",
       "    <tr>\n",
       "      <th>28</th>\n",
       "      <td>29.</td>\n",
       "      <td>\"Lean On\"[49]</td>\n",
       "      <td>Major Lazer</td>\n",
       "      <td>3.35</td>\n",
       "      <td>March 22, 2015</td>\n",
       "    </tr>\n",
       "    <tr>\n",
       "      <th>29</th>\n",
       "      <td>30.</td>\n",
       "      <td>\"Humpty the train on a fruits ride\"[50]</td>\n",
       "      <td>Kiddiestv Hindi – Nursery Rhymes &amp; Kids Songs</td>\n",
       "      <td>3.34</td>\n",
       "      <td>January 26, 2018</td>\n",
       "    </tr>\n",
       "  </tbody>\n",
       "</table>\n",
       "</div>"
      ],
      "text/plain": [
       "   RANK                                             NAME  \\\n",
       "0    1.                            \"Baby Shark Dance\"[4]   \n",
       "1    2.                                   \"Despacito\"[7]   \n",
       "2    3.                       \"Johny Johny Yes Papa\"[14]   \n",
       "3    4.                                  \"Bath Song\"[15]   \n",
       "4    5.                               \"Shape of You\"[16]   \n",
       "5    6.                              \"See You Again\"[18]   \n",
       "6    7.                \"Phonics Song with Two Words\"[23]   \n",
       "7    8.                          \"Wheels on the Bus\"[24]   \n",
       "8    9.                                \"Uptown Funk\"[25]   \n",
       "9   10.  \"Learning Colors – Colorful Eggs on a Farm\"[26]   \n",
       "10  11.                              \"Gangnam Style\"[27]   \n",
       "11  12.   \"Masha and the Bear – Recipe for Disaster\"[32]   \n",
       "12  13.                             \"Dame Tu Cosita\"[33]   \n",
       "13  14.                                      \"Sugar\"[34]   \n",
       "14  15.                                     \"Axel F\"[35]   \n",
       "15  16.                                       \"Roar\"[36]   \n",
       "16  17.                             \"Counting Stars\"[37]   \n",
       "17  18.                                      \"Sorry\"[38]   \n",
       "18  19.                          \"Thinking Out Loud\"[39]   \n",
       "19  20.                        \"Baa Baa Black Sheep\"[40]   \n",
       "20  21.           \"Waka Waka (This Time for Africa)\"[41]   \n",
       "21  22.                                 \"Dark Horse\"[42]   \n",
       "22  23.                                      \"Faded\"[43]   \n",
       "23  24.                                 \"Let Her Go\"[44]   \n",
       "24  25.                                    \"Perfect\"[45]   \n",
       "25  26.                             \"Girls Like You\"[46]   \n",
       "26  27.                             \"Lakdi Ki Kathi\"[47]   \n",
       "27  28.                                   \"Bailando\"[48]   \n",
       "28  29.                                    \"Lean On\"[49]   \n",
       "29  30.          \"Humpty the train on a fruits ride\"[50]   \n",
       "\n",
       "                                           ARTIST  VIEWS               DATE  \n",
       "0     Pinkfong Baby Shark - Kids' Songs & Stories  12.55      June 17, 2016  \n",
       "1                                      Luis Fonsi   8.11   January 12, 2017  \n",
       "2                                     LooLoo Kids   6.66    October 8, 2016  \n",
       "3                      Cocomelon – Nursery Rhymes   6.08        May 2, 2018  \n",
       "4                                      Ed Sheeran   5.95   January 30, 2017  \n",
       "5                                     Wiz Khalifa   5.82      April 6, 2015  \n",
       "6                                       ChuChu TV   5.22      March 6, 2014  \n",
       "7                      Cocomelon – Nursery Rhymes   5.04       May 24, 2018  \n",
       "8                                     Mark Ronson   4.87  November 19, 2014  \n",
       "9                                     Miroshka TV   4.86  February 27, 2018  \n",
       "10                                            Psy   4.73      July 15, 2012  \n",
       "11                                     Get Movies   4.54   January 31, 2012  \n",
       "12                                      El Chombo   4.28      April 5, 2018  \n",
       "13                                       Maroon 5   3.84   January 14, 2015  \n",
       "14                                     Crazy Frog   3.82      June 16, 2009  \n",
       "15                                     Katy Perry   3.76  September 5, 2013  \n",
       "16                                    OneRepublic   3.75       May 31, 2013  \n",
       "17                                  Justin Bieber   3.64   October 22, 2015  \n",
       "18                                     Ed Sheeran   3.57    October 7, 2014  \n",
       "19                     Cocomelon – Nursery Rhymes   3.56      June 25, 2018  \n",
       "20                                        Shakira   3.52       June 4, 2010  \n",
       "21                                     Katy Perry   3.48  February 20, 2014  \n",
       "22                                    Alan Walker   3.42   December 3, 2015  \n",
       "23                                      Passenger   3.40      July 25, 2012  \n",
       "24                                     Ed Sheeran   3.40   November 9, 2017  \n",
       "25                                       Maroon 5   3.39       May 31, 2018  \n",
       "26                                   Jingle Toons   3.37      June 14, 2018  \n",
       "27                               Enrique Iglesias   3.35     April 11, 2014  \n",
       "28                                    Major Lazer   3.35     March 22, 2015  \n",
       "29  Kiddiestv Hindi – Nursery Rhymes & Kids Songs   3.34   January 26, 2018  "
      ]
     },
     "execution_count": 125,
     "metadata": {},
     "output_type": "execute_result"
    }
   ],
   "source": [
    "df"
   ]
  },
  {
   "cell_type": "code",
   "execution_count": null,
   "id": "4c3f1e47",
   "metadata": {},
   "outputs": [],
   "source": []
  },
  {
   "cell_type": "markdown",
   "id": "668074a8",
   "metadata": {},
   "source": [
    "# QUESTION 2  BCCI.TV"
   ]
  },
  {
   "cell_type": "code",
   "execution_count": 131,
   "id": "29011ae0",
   "metadata": {},
   "outputs": [],
   "source": [
    "driver=webdriver.Chrome(r'D:\\flip robo\\chromedriver_win32\\chromedriver.exe')"
   ]
  },
  {
   "cell_type": "code",
   "execution_count": 132,
   "id": "eb27d3f3",
   "metadata": {},
   "outputs": [],
   "source": [
    "url=\"http://www.bcci.tv/\"\n",
    "driver.get(url)"
   ]
  },
  {
   "cell_type": "code",
   "execution_count": 133,
   "id": "ad17606f",
   "metadata": {},
   "outputs": [],
   "source": [
    "from selenium.webdriver.common.by import By"
   ]
  },
  {
   "cell_type": "markdown",
   "id": "f99e1428",
   "metadata": {},
   "source": [
    "No fixure is available on the website i have raise the ticket,sir had ask to skip the question"
   ]
  },
  {
   "cell_type": "markdown",
   "id": "70eac715",
   "metadata": {},
   "source": [
    "# QUESTION 3  guru99.com"
   ]
  },
  {
   "cell_type": "code",
   "execution_count": 30,
   "id": "eff34db2",
   "metadata": {},
   "outputs": [],
   "source": [
    "driver=webdriver.Chrome(r'D:\\flip robo\\chromedriver_win32\\chromedriver.exe')"
   ]
  },
  {
   "cell_type": "code",
   "execution_count": 31,
   "id": "d22678e8",
   "metadata": {},
   "outputs": [],
   "source": [
    "url=\"http://www.guru99.com/\"\n",
    "driver.get(url)"
   ]
  },
  {
   "cell_type": "code",
   "execution_count": 32,
   "id": "18a238fd",
   "metadata": {},
   "outputs": [],
   "source": [
    "from selenium.webdriver.common.by import By"
   ]
  },
  {
   "cell_type": "code",
   "execution_count": 33,
   "id": "6a33eb6a",
   "metadata": {},
   "outputs": [],
   "source": [
    "selenium_page=driver.find_element(By.XPATH,'/html/body/footer/div/div[1]/div/div/div/div/div/div/section/div/div/div[2]/div/div/div/div/div[2]/div/div/div[2]/div/div[2]/div/div/div[3]/div/div/div[2]/div/div/a/div[2]/h5')\n",
    "selenium_page.click()"
   ]
  },
  {
   "cell_type": "code",
   "execution_count": 34,
   "id": "31ddbddc",
   "metadata": {},
   "outputs": [],
   "source": [
    "exception_Page=driver.find_element(By.XPATH,'/html/body/div[1]/div/div/div/main/div/article/div/div/table[5]/tbody/tr[34]/td[1]/a')\n",
    "exception_Page.click()"
   ]
  },
  {
   "cell_type": "code",
   "execution_count": 35,
   "id": "50a07819",
   "metadata": {},
   "outputs": [],
   "source": [
    "alldata_tag=driver.find_elements(By.XPATH,'//div[@class=\"entry-content single-content\"]')"
   ]
  },
  {
   "cell_type": "code",
   "execution_count": 36,
   "id": "e86de642",
   "metadata": {},
   "outputs": [
    {
     "data": {
      "text/plain": [
       "[<selenium.webdriver.remote.webelement.WebElement (session=\"9b3b6d0b43c6dccf981918fff20d987a\", element=\"5bf3e96d-4529-4f07-bcbe-eda3e8866807\")>]"
      ]
     },
     "execution_count": 36,
     "metadata": {},
     "output_type": "execute_result"
    }
   ],
   "source": [
    "alldata_tag"
   ]
  },
  {
   "cell_type": "code",
   "execution_count": 37,
   "id": "57bfd2a9",
   "metadata": {},
   "outputs": [],
   "source": [
    "\n",
    "alldata_tag2=driver.find_elements(By.XPATH,'//div[@class=\"entry-content single-content\"]//p')\n",
    "nam=[]\n",
    "for i in alldata_tag2:\n",
    "    nam.append(i.text.split(':'))\n",
    "name2=nam[2:44]"
   ]
  },
  {
   "cell_type": "code",
   "execution_count": 38,
   "id": "8159f8c3",
   "metadata": {},
   "outputs": [
    {
     "data": {
      "text/plain": [
       "[['1. ElementNotVisibleException',\n",
       "  ' This type of Selenium exception occurs when an existing element in DOM has a feature set as hidden.'],\n",
       " ['2. ElementNotSelectableException',\n",
       "  ' This Selenium exception occurs when an element is presented in the DOM, but you can be able to select. Therefore, it is not possible to interact.'],\n",
       " ['3. NoSuchElementException',\n",
       "  ' This Exception occurs if an element could not be found.'],\n",
       " ['4. NoSuchFrameException',\n",
       "  ' This Exception occurs if the frame target to be switched to does not exist.'],\n",
       " ['5. NoAlertPresentException',\n",
       "  ' This Exception occurs when you switch to no presented alert.']]"
      ]
     },
     "execution_count": 38,
     "metadata": {},
     "output_type": "execute_result"
    }
   ],
   "source": [
    "name2[:5]"
   ]
  },
  {
   "cell_type": "code",
   "execution_count": null,
   "id": "1f94dc04",
   "metadata": {},
   "outputs": [],
   "source": []
  },
  {
   "cell_type": "markdown",
   "id": "331257a9",
   "metadata": {},
   "source": [
    "# QUESTION 4 STATE WISE GDP OF INDIA"
   ]
  },
  {
   "cell_type": "code",
   "execution_count": 260,
   "id": "3df1d09e",
   "metadata": {},
   "outputs": [],
   "source": [
    "driver=webdriver.Chrome(r'D:\\flip robo\\chromedriver_win32\\chromedriver.exe')"
   ]
  },
  {
   "cell_type": "code",
   "execution_count": 261,
   "id": "77f830ca",
   "metadata": {},
   "outputs": [],
   "source": [
    "url=\"http://statisticstimes.com/\"\n",
    "driver.get(url)"
   ]
  },
  {
   "cell_type": "code",
   "execution_count": 262,
   "id": "f7c09b1f",
   "metadata": {},
   "outputs": [],
   "source": [
    "from selenium.webdriver.common.by import By"
   ]
  },
  {
   "cell_type": "code",
   "execution_count": 263,
   "id": "a1552030",
   "metadata": {},
   "outputs": [],
   "source": [
    "economybtn=driver.find_element(By.XPATH,'/html/body/div[2]/div[1]/div[2]/div[2]/button')\n",
    "economybtn.click()"
   ]
  },
  {
   "cell_type": "code",
   "execution_count": 264,
   "id": "b8e02583",
   "metadata": {},
   "outputs": [],
   "source": [
    "indiapage=driver.find_element(By.XPATH,'/html/body/div[2]/div[1]/div[2]/div[2]/div/a[3]')\n",
    "indiapage.click()"
   ]
  },
  {
   "cell_type": "code",
   "execution_count": 265,
   "id": "fc5c7fd4",
   "metadata": {},
   "outputs": [],
   "source": [
    "gdppage=driver.find_element(By.XPATH,'/html/body/div[2]/div[2]/div[2]/ul/li[1]/a')\n",
    "gdppage.click()"
   ]
  },
  {
   "cell_type": "code",
   "execution_count": 275,
   "id": "b1da1807",
   "metadata": {},
   "outputs": [
    {
     "data": {
      "text/plain": [
       "['1', '2', '3', '4', '5']"
      ]
     },
     "execution_count": 275,
     "metadata": {},
     "output_type": "execute_result"
    }
   ],
   "source": [
    "rank_tag=driver.find_elements(By.XPATH,'//td[@class=\"data1\"]')\n",
    "rank=[]\n",
    "for i in rank_tag:\n",
    "    rank.append(i.text)\n",
    "rank[:5]"
   ]
  },
  {
   "cell_type": "code",
   "execution_count": 292,
   "id": "5e8ef116",
   "metadata": {},
   "outputs": [],
   "source": [
    "rank1=rank[:32]"
   ]
  },
  {
   "cell_type": "code",
   "execution_count": 276,
   "id": "6ae82796",
   "metadata": {},
   "outputs": [
    {
     "data": {
      "text/plain": [
       "['Maharashtra', 'Tamil Nadu', 'Uttar Pradesh', 'Gujarat', 'Karnataka']"
      ]
     },
     "execution_count": 276,
     "metadata": {},
     "output_type": "execute_result"
    }
   ],
   "source": [
    "state_tag=driver.find_elements(By.XPATH,'//td[@class=\"name\"]')\n",
    "state=[]\n",
    "for i in state_tag:\n",
    "    state.append(i.text)\n",
    "state[:5]"
   ]
  },
  {
   "cell_type": "code",
   "execution_count": 293,
   "id": "d273ddf1",
   "metadata": {},
   "outputs": [],
   "source": [
    "state1=state[:32]"
   ]
  },
  {
   "cell_type": "code",
   "execution_count": 280,
   "id": "aa73e370",
   "metadata": {},
   "outputs": [
    {
     "data": {
      "text/plain": [
       "['-', '1,845,853', '1,687,818', '-', '1,631,977']"
      ]
     },
     "execution_count": 280,
     "metadata": {},
     "output_type": "execute_result"
    }
   ],
   "source": [
    "gsdp_tag1=driver.find_elements(By.XPATH,'//td[3][@class=\"data\"]')\n",
    "gsdp1920=[]\n",
    "for i in gsdp_tag1:\n",
    "    gsdp1920.append(i.text)\n",
    "gsdp1920[:5]"
   ]
  },
  {
   "cell_type": "code",
   "execution_count": 296,
   "id": "0fa5efc1",
   "metadata": {},
   "outputs": [],
   "source": [
    "gsdp19_20=gsdp1920[:32]"
   ]
  },
  {
   "cell_type": "code",
   "execution_count": 282,
   "id": "aa322f5c",
   "metadata": {},
   "outputs": [
    {
     "data": {
      "text/plain": [
       "['2,632,792', '1,630,208', '1,584,764', '1,502,899', '1,493,127']"
      ]
     },
     "execution_count": 282,
     "metadata": {},
     "output_type": "execute_result"
    }
   ],
   "source": [
    "gsdp_tag2=driver.find_elements(By.XPATH,'//td[@class=\"data sorting_1\"]')\n",
    "gsdp1819=[]\n",
    "for i in gsdp_tag2:\n",
    "    gsdp1819.append(i.text)\n",
    "gsdp1819[:5]"
   ]
  },
  {
   "cell_type": "code",
   "execution_count": 297,
   "id": "78f032a2",
   "metadata": {},
   "outputs": [],
   "source": [
    "gsdp18_19=gsdp1819[:32]"
   ]
  },
  {
   "cell_type": "code",
   "execution_count": 285,
   "id": "247410de",
   "metadata": {},
   "outputs": [
    {
     "data": {
      "text/plain": [
       "['13.94%', '8.63%', '8.39%', '7.96%', '7.91%']"
      ]
     },
     "execution_count": 285,
     "metadata": {},
     "output_type": "execute_result"
    }
   ],
   "source": [
    "share_tag=driver.find_elements(By.XPATH,'//td[5][@class=\"data\"]')\n",
    "share=[]\n",
    "for i in share_tag:\n",
    "    share.append(i.text)\n",
    "share[:5]"
   ]
  },
  {
   "cell_type": "code",
   "execution_count": 298,
   "id": "69943064",
   "metadata": {},
   "outputs": [],
   "source": [
    "share1=share[:32]"
   ]
  },
  {
   "cell_type": "code",
   "execution_count": 287,
   "id": "c4209c27",
   "metadata": {},
   "outputs": [
    {
     "data": {
      "text/plain": [
       "['399.921', '247.629', '240.726', '228.290', '226.806']"
      ]
     },
     "execution_count": 287,
     "metadata": {},
     "output_type": "execute_result"
    }
   ],
   "source": [
    "gdp_tag=driver.find_elements(By.XPATH,'//td[6][@class=\"data\"]')\n",
    "gdp=[]\n",
    "for i in gdp_tag:\n",
    "    gdp.append(i.text)\n",
    "gdp[:5]"
   ]
  },
  {
   "cell_type": "code",
   "execution_count": 299,
   "id": "9ea7c1fa",
   "metadata": {},
   "outputs": [],
   "source": [
    "gdp1=gdp[:32]"
   ]
  },
  {
   "cell_type": "code",
   "execution_count": 300,
   "id": "403df04b",
   "metadata": {},
   "outputs": [],
   "source": [
    "df=pd.DataFrame()"
   ]
  },
  {
   "cell_type": "code",
   "execution_count": 301,
   "id": "ec63af38",
   "metadata": {},
   "outputs": [],
   "source": [
    "df[\"RANK\"]=rank1\n",
    "df[\"STATE\"]=state1\n",
    "df[\"GSDP1920\"]=gsdp19_20\n",
    "df[\"GSDP1819\"]=gsdp18_19\n",
    "df[\"SHARE\"]=share1\n",
    "df[\"GDP\"]=gdp1"
   ]
  },
  {
   "cell_type": "code",
   "execution_count": 302,
   "id": "f8da4612",
   "metadata": {},
   "outputs": [
    {
     "data": {
      "text/html": [
       "<div>\n",
       "<style scoped>\n",
       "    .dataframe tbody tr th:only-of-type {\n",
       "        vertical-align: middle;\n",
       "    }\n",
       "\n",
       "    .dataframe tbody tr th {\n",
       "        vertical-align: top;\n",
       "    }\n",
       "\n",
       "    .dataframe thead th {\n",
       "        text-align: right;\n",
       "    }\n",
       "</style>\n",
       "<table border=\"1\" class=\"dataframe\">\n",
       "  <thead>\n",
       "    <tr style=\"text-align: right;\">\n",
       "      <th></th>\n",
       "      <th>RANK</th>\n",
       "      <th>STATE</th>\n",
       "      <th>GSDP1920</th>\n",
       "      <th>GSDP1819</th>\n",
       "      <th>SHARE</th>\n",
       "      <th>GDP</th>\n",
       "    </tr>\n",
       "  </thead>\n",
       "  <tbody>\n",
       "    <tr>\n",
       "      <th>0</th>\n",
       "      <td>1</td>\n",
       "      <td>Maharashtra</td>\n",
       "      <td>-</td>\n",
       "      <td>2,632,792</td>\n",
       "      <td>13.94%</td>\n",
       "      <td>399.921</td>\n",
       "    </tr>\n",
       "    <tr>\n",
       "      <th>1</th>\n",
       "      <td>2</td>\n",
       "      <td>Tamil Nadu</td>\n",
       "      <td>1,845,853</td>\n",
       "      <td>1,630,208</td>\n",
       "      <td>8.63%</td>\n",
       "      <td>247.629</td>\n",
       "    </tr>\n",
       "    <tr>\n",
       "      <th>2</th>\n",
       "      <td>3</td>\n",
       "      <td>Uttar Pradesh</td>\n",
       "      <td>1,687,818</td>\n",
       "      <td>1,584,764</td>\n",
       "      <td>8.39%</td>\n",
       "      <td>240.726</td>\n",
       "    </tr>\n",
       "    <tr>\n",
       "      <th>3</th>\n",
       "      <td>4</td>\n",
       "      <td>Gujarat</td>\n",
       "      <td>-</td>\n",
       "      <td>1,502,899</td>\n",
       "      <td>7.96%</td>\n",
       "      <td>228.290</td>\n",
       "    </tr>\n",
       "    <tr>\n",
       "      <th>4</th>\n",
       "      <td>5</td>\n",
       "      <td>Karnataka</td>\n",
       "      <td>1,631,977</td>\n",
       "      <td>1,493,127</td>\n",
       "      <td>7.91%</td>\n",
       "      <td>226.806</td>\n",
       "    </tr>\n",
       "    <tr>\n",
       "      <th>5</th>\n",
       "      <td>6</td>\n",
       "      <td>West Bengal</td>\n",
       "      <td>1,253,832</td>\n",
       "      <td>1,089,898</td>\n",
       "      <td>5.77%</td>\n",
       "      <td>165.556</td>\n",
       "    </tr>\n",
       "    <tr>\n",
       "      <th>6</th>\n",
       "      <td>7</td>\n",
       "      <td>Rajasthan</td>\n",
       "      <td>1,020,989</td>\n",
       "      <td>942,586</td>\n",
       "      <td>4.99%</td>\n",
       "      <td>143.179</td>\n",
       "    </tr>\n",
       "    <tr>\n",
       "      <th>7</th>\n",
       "      <td>8</td>\n",
       "      <td>Andhra Pradesh</td>\n",
       "      <td>972,782</td>\n",
       "      <td>862,957</td>\n",
       "      <td>4.57%</td>\n",
       "      <td>131.083</td>\n",
       "    </tr>\n",
       "    <tr>\n",
       "      <th>8</th>\n",
       "      <td>9</td>\n",
       "      <td>Telangana</td>\n",
       "      <td>969,604</td>\n",
       "      <td>861,031</td>\n",
       "      <td>4.56%</td>\n",
       "      <td>130.791</td>\n",
       "    </tr>\n",
       "    <tr>\n",
       "      <th>9</th>\n",
       "      <td>10</td>\n",
       "      <td>Madhya Pradesh</td>\n",
       "      <td>906,672</td>\n",
       "      <td>809,592</td>\n",
       "      <td>4.29%</td>\n",
       "      <td>122.977</td>\n",
       "    </tr>\n",
       "    <tr>\n",
       "      <th>10</th>\n",
       "      <td>11</td>\n",
       "      <td>Kerala</td>\n",
       "      <td>-</td>\n",
       "      <td>781,653</td>\n",
       "      <td>4.14%</td>\n",
       "      <td>118.733</td>\n",
       "    </tr>\n",
       "    <tr>\n",
       "      <th>11</th>\n",
       "      <td>12</td>\n",
       "      <td>Delhi</td>\n",
       "      <td>856,112</td>\n",
       "      <td>774,870</td>\n",
       "      <td>4.10%</td>\n",
       "      <td>117.703</td>\n",
       "    </tr>\n",
       "    <tr>\n",
       "      <th>12</th>\n",
       "      <td>13</td>\n",
       "      <td>Haryana</td>\n",
       "      <td>831,610</td>\n",
       "      <td>734,163</td>\n",
       "      <td>3.89%</td>\n",
       "      <td>111.519</td>\n",
       "    </tr>\n",
       "    <tr>\n",
       "      <th>13</th>\n",
       "      <td>14</td>\n",
       "      <td>Bihar</td>\n",
       "      <td>611,804</td>\n",
       "      <td>530,363</td>\n",
       "      <td>2.81%</td>\n",
       "      <td>80.562</td>\n",
       "    </tr>\n",
       "    <tr>\n",
       "      <th>14</th>\n",
       "      <td>15</td>\n",
       "      <td>Punjab</td>\n",
       "      <td>574,760</td>\n",
       "      <td>526,376</td>\n",
       "      <td>2.79%</td>\n",
       "      <td>79.957</td>\n",
       "    </tr>\n",
       "    <tr>\n",
       "      <th>15</th>\n",
       "      <td>16</td>\n",
       "      <td>Odisha</td>\n",
       "      <td>521,275</td>\n",
       "      <td>487,805</td>\n",
       "      <td>2.58%</td>\n",
       "      <td>74.098</td>\n",
       "    </tr>\n",
       "    <tr>\n",
       "      <th>16</th>\n",
       "      <td>17</td>\n",
       "      <td>Assam</td>\n",
       "      <td>-</td>\n",
       "      <td>315,881</td>\n",
       "      <td>1.67%</td>\n",
       "      <td>47.982</td>\n",
       "    </tr>\n",
       "    <tr>\n",
       "      <th>17</th>\n",
       "      <td>18</td>\n",
       "      <td>Chhattisgarh</td>\n",
       "      <td>329,180</td>\n",
       "      <td>304,063</td>\n",
       "      <td>1.61%</td>\n",
       "      <td>46.187</td>\n",
       "    </tr>\n",
       "    <tr>\n",
       "      <th>18</th>\n",
       "      <td>19</td>\n",
       "      <td>Jharkhand</td>\n",
       "      <td>328,598</td>\n",
       "      <td>297,204</td>\n",
       "      <td>1.57%</td>\n",
       "      <td>45.145</td>\n",
       "    </tr>\n",
       "    <tr>\n",
       "      <th>19</th>\n",
       "      <td>20</td>\n",
       "      <td>Uttarakhand</td>\n",
       "      <td>-</td>\n",
       "      <td>245,895</td>\n",
       "      <td>1.30%</td>\n",
       "      <td>37.351</td>\n",
       "    </tr>\n",
       "    <tr>\n",
       "      <th>20</th>\n",
       "      <td>21</td>\n",
       "      <td>Jammu &amp; Kashmir</td>\n",
       "      <td>-</td>\n",
       "      <td>155,956</td>\n",
       "      <td>0.83%</td>\n",
       "      <td>23.690</td>\n",
       "    </tr>\n",
       "    <tr>\n",
       "      <th>21</th>\n",
       "      <td>22</td>\n",
       "      <td>Himachal Pradesh</td>\n",
       "      <td>165,472</td>\n",
       "      <td>153,845</td>\n",
       "      <td>0.81%</td>\n",
       "      <td>23.369</td>\n",
       "    </tr>\n",
       "    <tr>\n",
       "      <th>22</th>\n",
       "      <td>23</td>\n",
       "      <td>Goa</td>\n",
       "      <td>80,449</td>\n",
       "      <td>73,170</td>\n",
       "      <td>0.39%</td>\n",
       "      <td>11.115</td>\n",
       "    </tr>\n",
       "    <tr>\n",
       "      <th>23</th>\n",
       "      <td>24</td>\n",
       "      <td>Tripura</td>\n",
       "      <td>55,984</td>\n",
       "      <td>49,845</td>\n",
       "      <td>0.26%</td>\n",
       "      <td>7.571</td>\n",
       "    </tr>\n",
       "    <tr>\n",
       "      <th>24</th>\n",
       "      <td>25</td>\n",
       "      <td>Chandigarh</td>\n",
       "      <td>-</td>\n",
       "      <td>42,114</td>\n",
       "      <td>0.22%</td>\n",
       "      <td>6.397</td>\n",
       "    </tr>\n",
       "    <tr>\n",
       "      <th>25</th>\n",
       "      <td>26</td>\n",
       "      <td>Puducherry</td>\n",
       "      <td>38,253</td>\n",
       "      <td>34,433</td>\n",
       "      <td>0.18%</td>\n",
       "      <td>5.230</td>\n",
       "    </tr>\n",
       "    <tr>\n",
       "      <th>26</th>\n",
       "      <td>27</td>\n",
       "      <td>Meghalaya</td>\n",
       "      <td>36,572</td>\n",
       "      <td>33,481</td>\n",
       "      <td>0.18%</td>\n",
       "      <td>5.086</td>\n",
       "    </tr>\n",
       "    <tr>\n",
       "      <th>27</th>\n",
       "      <td>28</td>\n",
       "      <td>Sikkim</td>\n",
       "      <td>32,496</td>\n",
       "      <td>28,723</td>\n",
       "      <td>0.15%</td>\n",
       "      <td>4.363</td>\n",
       "    </tr>\n",
       "    <tr>\n",
       "      <th>28</th>\n",
       "      <td>29</td>\n",
       "      <td>Manipur</td>\n",
       "      <td>31,790</td>\n",
       "      <td>27,870</td>\n",
       "      <td>0.15%</td>\n",
       "      <td>4.233</td>\n",
       "    </tr>\n",
       "    <tr>\n",
       "      <th>29</th>\n",
       "      <td>30</td>\n",
       "      <td>Nagaland</td>\n",
       "      <td>-</td>\n",
       "      <td>27,283</td>\n",
       "      <td>0.14%</td>\n",
       "      <td>4.144</td>\n",
       "    </tr>\n",
       "    <tr>\n",
       "      <th>30</th>\n",
       "      <td>31</td>\n",
       "      <td>Arunachal Pradesh</td>\n",
       "      <td>-</td>\n",
       "      <td>24,603</td>\n",
       "      <td>0.13%</td>\n",
       "      <td>3.737</td>\n",
       "    </tr>\n",
       "    <tr>\n",
       "      <th>31</th>\n",
       "      <td>32</td>\n",
       "      <td>Mizoram</td>\n",
       "      <td>26,503</td>\n",
       "      <td>22,287</td>\n",
       "      <td>0.12%</td>\n",
       "      <td>3.385</td>\n",
       "    </tr>\n",
       "  </tbody>\n",
       "</table>\n",
       "</div>"
      ],
      "text/plain": [
       "   RANK              STATE   GSDP1920   GSDP1819   SHARE      GDP\n",
       "0     1        Maharashtra          -  2,632,792  13.94%  399.921\n",
       "1     2         Tamil Nadu  1,845,853  1,630,208   8.63%  247.629\n",
       "2     3      Uttar Pradesh  1,687,818  1,584,764   8.39%  240.726\n",
       "3     4            Gujarat          -  1,502,899   7.96%  228.290\n",
       "4     5          Karnataka  1,631,977  1,493,127   7.91%  226.806\n",
       "5     6        West Bengal  1,253,832  1,089,898   5.77%  165.556\n",
       "6     7          Rajasthan  1,020,989    942,586   4.99%  143.179\n",
       "7     8     Andhra Pradesh    972,782    862,957   4.57%  131.083\n",
       "8     9          Telangana    969,604    861,031   4.56%  130.791\n",
       "9    10     Madhya Pradesh    906,672    809,592   4.29%  122.977\n",
       "10   11             Kerala          -    781,653   4.14%  118.733\n",
       "11   12              Delhi    856,112    774,870   4.10%  117.703\n",
       "12   13            Haryana    831,610    734,163   3.89%  111.519\n",
       "13   14              Bihar    611,804    530,363   2.81%   80.562\n",
       "14   15             Punjab    574,760    526,376   2.79%   79.957\n",
       "15   16             Odisha    521,275    487,805   2.58%   74.098\n",
       "16   17              Assam          -    315,881   1.67%   47.982\n",
       "17   18       Chhattisgarh    329,180    304,063   1.61%   46.187\n",
       "18   19          Jharkhand    328,598    297,204   1.57%   45.145\n",
       "19   20        Uttarakhand          -    245,895   1.30%   37.351\n",
       "20   21    Jammu & Kashmir          -    155,956   0.83%   23.690\n",
       "21   22   Himachal Pradesh    165,472    153,845   0.81%   23.369\n",
       "22   23                Goa     80,449     73,170   0.39%   11.115\n",
       "23   24            Tripura     55,984     49,845   0.26%    7.571\n",
       "24   25         Chandigarh          -     42,114   0.22%    6.397\n",
       "25   26         Puducherry     38,253     34,433   0.18%    5.230\n",
       "26   27          Meghalaya     36,572     33,481   0.18%    5.086\n",
       "27   28             Sikkim     32,496     28,723   0.15%    4.363\n",
       "28   29            Manipur     31,790     27,870   0.15%    4.233\n",
       "29   30           Nagaland          -     27,283   0.14%    4.144\n",
       "30   31  Arunachal Pradesh          -     24,603   0.13%    3.737\n",
       "31   32            Mizoram     26,503     22,287   0.12%    3.385"
      ]
     },
     "execution_count": 302,
     "metadata": {},
     "output_type": "execute_result"
    }
   ],
   "source": [
    "df"
   ]
  },
  {
   "cell_type": "code",
   "execution_count": null,
   "id": "70f02aac",
   "metadata": {},
   "outputs": [],
   "source": []
  },
  {
   "cell_type": "markdown",
   "id": "8e92f250",
   "metadata": {},
   "source": [
    "# QUESTION 5 GITHUB"
   ]
  },
  {
   "cell_type": "code",
   "execution_count": 46,
   "id": "63cdddbd",
   "metadata": {},
   "outputs": [],
   "source": [
    "driver=webdriver.Chrome(r'D:\\flip robo\\chromedriver_win32\\chromedriver.exe')"
   ]
  },
  {
   "cell_type": "code",
   "execution_count": 47,
   "id": "14220613",
   "metadata": {},
   "outputs": [],
   "source": [
    "url=\"https://github.com/\"\n",
    "driver.get(url)\n"
   ]
  },
  {
   "cell_type": "code",
   "execution_count": 48,
   "id": "57454a04",
   "metadata": {},
   "outputs": [],
   "source": [
    "from selenium.webdriver.common.by import By"
   ]
  },
  {
   "cell_type": "code",
   "execution_count": 49,
   "id": "7c21e3fc",
   "metadata": {},
   "outputs": [],
   "source": [
    "opensource=driver.find_element(By.XPATH,\"/html/body/div[1]/div[1]/header/div/div[2]/div/nav/ul/li[3]/button\")\n",
    "opensource.click()"
   ]
  },
  {
   "cell_type": "code",
   "execution_count": 50,
   "id": "2c58c6eb",
   "metadata": {},
   "outputs": [],
   "source": [
    "trending_tag=driver.find_element(By.XPATH,'/html/body/div[1]/div[1]/header/div/div[2]/div/nav/ul/li[3]/div/ul[3]/li[3]/a')\n",
    "trending_tag.click()"
   ]
  },
  {
   "cell_type": "code",
   "execution_count": 51,
   "id": "571da271",
   "metadata": {},
   "outputs": [
    {
     "data": {
      "text/plain": [
       "['IDEA-Research / Grounded-Segment-Anything',\n",
       " 'reworkd / AgentGPT',\n",
       " 'vinta / awesome-python',\n",
       " 'sdatkinson / neural-amp-modeler',\n",
       " 'baaivision / Painter']"
      ]
     },
     "execution_count": 51,
     "metadata": {},
     "output_type": "execute_result"
    }
   ],
   "source": [
    "repository_title=driver.find_elements(By.XPATH,'//h1[@class=\"h3 lh-condensed\"]/a')\n",
    "title=[]\n",
    "for i in repository_title:\n",
    "    title.append(i.text)\n",
    "title[:5]"
   ]
  },
  {
   "cell_type": "code",
   "execution_count": 52,
   "id": "79e60253",
   "metadata": {},
   "outputs": [],
   "source": [
    "from selenium.common.exceptions import StaleElementReferenceException, NoSuchElementException"
   ]
  },
  {
   "cell_type": "code",
   "execution_count": 53,
   "id": "9b17d746",
   "metadata": {},
   "outputs": [
    {
     "data": {
      "text/plain": [
       "['Marrying Grounding DINO with Segment Anything & Stable Diffusion & BLIP & Whisper - Automatically Detect , Segment and Generate Anything with Image, Text, and Speech Inputs',\n",
       " '🤖 Assemble, configure, and deploy autonomous AI Agents in your browser.',\n",
       " 'A curated list of awesome Python frameworks, libraries, software and resources',\n",
       " 'Neural network emulator for guitar amplifiers.',\n",
       " 'Painter & SegGPT Series: Vision Foundation Models from BAAI']"
      ]
     },
     "execution_count": 53,
     "metadata": {},
     "output_type": "execute_result"
    }
   ],
   "source": [
    "description=driver.find_elements(By.XPATH,'//p[@class=\"col-9 color-fg-muted my-1 pr-4\"]')\n",
    "descript=[]\n",
    "for i in description:\n",
    "    descript.append(i.text)\n",
    "descript[:5]\n"
   ]
  },
  {
   "cell_type": "code",
   "execution_count": 54,
   "id": "432603cf",
   "metadata": {},
   "outputs": [],
   "source": [
    "descript.insert(3,'--')"
   ]
  },
  {
   "cell_type": "code",
   "execution_count": 55,
   "id": "fcf1f45e",
   "metadata": {},
   "outputs": [],
   "source": [
    "descript.insert(24,'--')"
   ]
  },
  {
   "cell_type": "code",
   "execution_count": 56,
   "id": "c4b3a511",
   "metadata": {},
   "outputs": [
    {
     "data": {
      "text/plain": [
       "['Marrying Grounding DINO with Segment Anything & Stable Diffusion & BLIP & Whisper - Automatically Detect , Segment and Generate Anything with Image, Text, and Speech Inputs',\n",
       " '🤖 Assemble, configure, and deploy autonomous AI Agents in your browser.',\n",
       " 'A curated list of awesome Python frameworks, libraries, software and resources',\n",
       " '--',\n",
       " 'Neural network emulator for guitar amplifiers.',\n",
       " 'Painter & SegGPT Series: Vision Foundation Models from BAAI',\n",
       " 'gpt4all chatbot ui',\n",
       " 'An open source application built using the new router, server components and everything new in Next.js 13.',\n",
       " '闻达：一个LLM调用平台。旨在通过使用为小模型外挂知识库查找的方式，在不能涌现的前提下实现近似于大模型的生成能力',\n",
       " '🥣 AIGC 提示词可视化编辑器',\n",
       " '（CVPR 2023）SadTalker：Learning Realistic 3D Motion Coefficients for Stylized Audio-Driven Single Image Talking Face Animation',\n",
       " 'A gradio web UI for running Large Language Models like LLaMA, llama.cpp, GPT-J, Pythia, OPT, and GALACTICA.',\n",
       " 'This codebase is for an React and Electron-based app that executes the FreedomGPT LLM locally (offline and private) on Mac and Windows using a chat-based interface (based on Alpaca Lora)',\n",
       " '🧠 A curated list of awesome ChatGPT resources, including libraries, SDKs, APIs, and more. 🌟 Please consider supporting this project by giving it a star.',\n",
       " 'the open source embedding database',\n",
       " 'The official implementation of \"Grounding DINO: Marrying DINO with Grounded Pre-Training for Open-Set Object Detection\"',\n",
       " 'ChatGLM-6B：开源双语对话语言模型 | An Open Bilingual Dialogue Language Model',\n",
       " 'C++那些事',\n",
       " 'This roadmap contains 16 Chapters that can be completed in 8 months, whether you are a fresher in the field or an experienced professional who wants to transition into Data Science.']"
      ]
     },
     "execution_count": 56,
     "metadata": {},
     "output_type": "execute_result"
    }
   ],
   "source": [
    "descript[:-5]"
   ]
  },
  {
   "cell_type": "code",
   "execution_count": 57,
   "id": "46fb7748",
   "metadata": {},
   "outputs": [
    {
     "data": {
      "text/plain": [
       "24"
      ]
     },
     "execution_count": 57,
     "metadata": {},
     "output_type": "execute_result"
    }
   ],
   "source": [
    "len(descript)"
   ]
  },
  {
   "cell_type": "code",
   "execution_count": 101,
   "id": "1693c20b",
   "metadata": {},
   "outputs": [],
   "source": [
    "language=[]\n",
    "lang_tag=driver.find_elements(By.XPATH,'//span[@class=\"d-inline-block ml-0 mr-3\"]')\n",
    "for i in lang_tag:\n",
    "    language.append(i.text)"
   ]
  },
  {
   "cell_type": "code",
   "execution_count": 102,
   "id": "72d0421a",
   "metadata": {},
   "outputs": [
    {
     "data": {
      "text/plain": [
       "['Jupyter Notebook', 'Python', 'Python', 'Python', 'Rust']"
      ]
     },
     "execution_count": 102,
     "metadata": {},
     "output_type": "execute_result"
    }
   ],
   "source": [
    "language[:5]"
   ]
  },
  {
   "cell_type": "code",
   "execution_count": null,
   "id": "3619ff55",
   "metadata": {},
   "outputs": [],
   "source": []
  },
  {
   "cell_type": "code",
   "execution_count": 103,
   "id": "d7dd7d65",
   "metadata": {},
   "outputs": [],
   "source": [
    "df=pd.DataFrame()"
   ]
  },
  {
   "cell_type": "code",
   "execution_count": 104,
   "id": "e9f2b768",
   "metadata": {},
   "outputs": [],
   "source": [
    "\n",
    "df[\"REPOSITORY TITLE\"]=title\n",
    "df[\"DESCRIPTION\"]=descript\n",
    "df[\"LANGUAGE\"]=language"
   ]
  },
  {
   "cell_type": "code",
   "execution_count": 105,
   "id": "dce807ee",
   "metadata": {},
   "outputs": [
    {
     "data": {
      "text/html": [
       "<div>\n",
       "<style scoped>\n",
       "    .dataframe tbody tr th:only-of-type {\n",
       "        vertical-align: middle;\n",
       "    }\n",
       "\n",
       "    .dataframe tbody tr th {\n",
       "        vertical-align: top;\n",
       "    }\n",
       "\n",
       "    .dataframe thead th {\n",
       "        text-align: right;\n",
       "    }\n",
       "</style>\n",
       "<table border=\"1\" class=\"dataframe\">\n",
       "  <thead>\n",
       "    <tr style=\"text-align: right;\">\n",
       "      <th></th>\n",
       "      <th>REPOSITORY TITLE</th>\n",
       "      <th>DESCRIPTION</th>\n",
       "      <th>LANGUAGE</th>\n",
       "    </tr>\n",
       "  </thead>\n",
       "  <tbody>\n",
       "    <tr>\n",
       "      <th>0</th>\n",
       "      <td>IDEA-Research / Grounded-Segment-Anything</td>\n",
       "      <td>Marrying Grounding DINO with Segment Anything ...</td>\n",
       "      <td>Jupyter Notebook</td>\n",
       "    </tr>\n",
       "    <tr>\n",
       "      <th>1</th>\n",
       "      <td>oobabooga / text-generation-webui</td>\n",
       "      <td>A gradio web UI for running Large Language Mod...</td>\n",
       "      <td>Python</td>\n",
       "    </tr>\n",
       "    <tr>\n",
       "      <th>2</th>\n",
       "      <td>chroma-core / chroma</td>\n",
       "      <td>the open source embedding database</td>\n",
       "      <td>Python</td>\n",
       "    </tr>\n",
       "    <tr>\n",
       "      <th>3</th>\n",
       "      <td>vinta / awesome-python</td>\n",
       "      <td>--</td>\n",
       "      <td>Python</td>\n",
       "    </tr>\n",
       "    <tr>\n",
       "      <th>4</th>\n",
       "      <td>facebook / buck2</td>\n",
       "      <td>A curated list of awesome Python frameworks, l...</td>\n",
       "      <td>Rust</td>\n",
       "    </tr>\n",
       "    <tr>\n",
       "      <th>5</th>\n",
       "      <td>trekhleb / javascript-algorithms</td>\n",
       "      <td>Build system, successor to Buck</td>\n",
       "      <td>JavaScript</td>\n",
       "    </tr>\n",
       "    <tr>\n",
       "      <th>6</th>\n",
       "      <td>Instruction-Tuning-with-GPT-4 / GPT-4-LLM</td>\n",
       "      <td>📝 Algorithms and data structures implemented i...</td>\n",
       "      <td>HTML</td>\n",
       "    </tr>\n",
       "    <tr>\n",
       "      <th>7</th>\n",
       "      <td>Moonvy / OpenPromptStudio</td>\n",
       "      <td>🥣 AIGC 提示词可视化编辑器</td>\n",
       "      <td>Vue</td>\n",
       "    </tr>\n",
       "    <tr>\n",
       "      <th>8</th>\n",
       "      <td>yoheinakajima / babyagi</td>\n",
       "      <td>Arroyo is a distributed stream processing engi...</td>\n",
       "      <td>Python</td>\n",
       "    </tr>\n",
       "    <tr>\n",
       "      <th>9</th>\n",
       "      <td>ArroyoSystems / arroyo</td>\n",
       "      <td>WebUI extension for ControlNet</td>\n",
       "      <td>Rust</td>\n",
       "    </tr>\n",
       "    <tr>\n",
       "      <th>10</th>\n",
       "      <td>Mikubill / sd-webui-controlnet</td>\n",
       "      <td>General-purpose programming language and toolc...</td>\n",
       "      <td>Python</td>\n",
       "    </tr>\n",
       "    <tr>\n",
       "      <th>11</th>\n",
       "      <td>ziglang / zig</td>\n",
       "      <td>Python - 100天从新手到大师</td>\n",
       "      <td>Zig</td>\n",
       "    </tr>\n",
       "    <tr>\n",
       "      <th>12</th>\n",
       "      <td>jackfrued / Python-100-Days</td>\n",
       "      <td>Train transformer language models with reinfor...</td>\n",
       "      <td>Python</td>\n",
       "    </tr>\n",
       "    <tr>\n",
       "      <th>13</th>\n",
       "      <td>lvwerra / trl</td>\n",
       "      <td>🔍 A Hex Editor for Reverse Engineers, Programm...</td>\n",
       "      <td>Python</td>\n",
       "    </tr>\n",
       "    <tr>\n",
       "      <th>14</th>\n",
       "      <td>WerWolv / ImHex</td>\n",
       "      <td>OpenAssistant is a chat-based assistant that u...</td>\n",
       "      <td>C++</td>\n",
       "    </tr>\n",
       "    <tr>\n",
       "      <th>15</th>\n",
       "      <td>LAION-AI / Open-Assistant</td>\n",
       "      <td>Python bindings for llama.cpp</td>\n",
       "      <td>Python</td>\n",
       "    </tr>\n",
       "    <tr>\n",
       "      <th>16</th>\n",
       "      <td>abetlen / llama-cpp-python</td>\n",
       "      <td>Have a conversation with files ｜与你的文件对话</td>\n",
       "      <td>Python</td>\n",
       "    </tr>\n",
       "    <tr>\n",
       "      <th>17</th>\n",
       "      <td>guangzhengli / ChatFiles</td>\n",
       "      <td>Python training for business analysts and traders</td>\n",
       "      <td>TypeScript</td>\n",
       "    </tr>\n",
       "    <tr>\n",
       "      <th>18</th>\n",
       "      <td>jpmorganchase / python-training</td>\n",
       "      <td>gpt4all chatbot ui</td>\n",
       "      <td>Jupyter Notebook</td>\n",
       "    </tr>\n",
       "    <tr>\n",
       "      <th>19</th>\n",
       "      <td>nomic-ai / gpt4all-ui</td>\n",
       "      <td>ChatRWKV is like ChatGPT but powered by RWKV (...</td>\n",
       "      <td>Python</td>\n",
       "    </tr>\n",
       "    <tr>\n",
       "      <th>20</th>\n",
       "      <td>BlinkDL / ChatRWKV</td>\n",
       "      <td>Everything required to run your own Base node</td>\n",
       "      <td>Python</td>\n",
       "    </tr>\n",
       "    <tr>\n",
       "      <th>21</th>\n",
       "      <td>base-org / node</td>\n",
       "      <td>Singing Voice Conversion via diffusion model</td>\n",
       "      <td>Shell</td>\n",
       "    </tr>\n",
       "    <tr>\n",
       "      <th>22</th>\n",
       "      <td>prophesier / diff-svc</td>\n",
       "      <td>（CVPR 2023）SadTalker：Learning Realistic 3D Mot...</td>\n",
       "      <td>Jupyter Notebook</td>\n",
       "    </tr>\n",
       "    <tr>\n",
       "      <th>23</th>\n",
       "      <td>Winfredy / SadTalker</td>\n",
       "      <td>Desktop application of new Bing's AI-powered c...</td>\n",
       "      <td>Python</td>\n",
       "    </tr>\n",
       "    <tr>\n",
       "      <th>24</th>\n",
       "      <td>dice2o / BingGPT</td>\n",
       "      <td>--</td>\n",
       "      <td>JavaScript</td>\n",
       "    </tr>\n",
       "  </tbody>\n",
       "</table>\n",
       "</div>"
      ],
      "text/plain": [
       "                             REPOSITORY TITLE  \\\n",
       "0   IDEA-Research / Grounded-Segment-Anything   \n",
       "1           oobabooga / text-generation-webui   \n",
       "2                        chroma-core / chroma   \n",
       "3                      vinta / awesome-python   \n",
       "4                            facebook / buck2   \n",
       "5            trekhleb / javascript-algorithms   \n",
       "6   Instruction-Tuning-with-GPT-4 / GPT-4-LLM   \n",
       "7                   Moonvy / OpenPromptStudio   \n",
       "8                     yoheinakajima / babyagi   \n",
       "9                      ArroyoSystems / arroyo   \n",
       "10             Mikubill / sd-webui-controlnet   \n",
       "11                              ziglang / zig   \n",
       "12                jackfrued / Python-100-Days   \n",
       "13                              lvwerra / trl   \n",
       "14                            WerWolv / ImHex   \n",
       "15                  LAION-AI / Open-Assistant   \n",
       "16                 abetlen / llama-cpp-python   \n",
       "17                   guangzhengli / ChatFiles   \n",
       "18            jpmorganchase / python-training   \n",
       "19                      nomic-ai / gpt4all-ui   \n",
       "20                         BlinkDL / ChatRWKV   \n",
       "21                            base-org / node   \n",
       "22                      prophesier / diff-svc   \n",
       "23                       Winfredy / SadTalker   \n",
       "24                           dice2o / BingGPT   \n",
       "\n",
       "                                          DESCRIPTION          LANGUAGE  \n",
       "0   Marrying Grounding DINO with Segment Anything ...  Jupyter Notebook  \n",
       "1   A gradio web UI for running Large Language Mod...            Python  \n",
       "2                  the open source embedding database            Python  \n",
       "3                                                  --            Python  \n",
       "4   A curated list of awesome Python frameworks, l...              Rust  \n",
       "5                     Build system, successor to Buck        JavaScript  \n",
       "6   📝 Algorithms and data structures implemented i...              HTML  \n",
       "7                                    🥣 AIGC 提示词可视化编辑器               Vue  \n",
       "8   Arroyo is a distributed stream processing engi...            Python  \n",
       "9                      WebUI extension for ControlNet              Rust  \n",
       "10  General-purpose programming language and toolc...            Python  \n",
       "11                                Python - 100天从新手到大师               Zig  \n",
       "12  Train transformer language models with reinfor...            Python  \n",
       "13  🔍 A Hex Editor for Reverse Engineers, Programm...            Python  \n",
       "14  OpenAssistant is a chat-based assistant that u...               C++  \n",
       "15                      Python bindings for llama.cpp            Python  \n",
       "16            Have a conversation with files ｜与你的文件对话            Python  \n",
       "17  Python training for business analysts and traders        TypeScript  \n",
       "18                                 gpt4all chatbot ui  Jupyter Notebook  \n",
       "19  ChatRWKV is like ChatGPT but powered by RWKV (...            Python  \n",
       "20      Everything required to run your own Base node            Python  \n",
       "21       Singing Voice Conversion via diffusion model             Shell  \n",
       "22  （CVPR 2023）SadTalker：Learning Realistic 3D Mot...  Jupyter Notebook  \n",
       "23  Desktop application of new Bing's AI-powered c...            Python  \n",
       "24                                                 --        JavaScript  "
      ]
     },
     "execution_count": 105,
     "metadata": {},
     "output_type": "execute_result"
    }
   ],
   "source": [
    "df"
   ]
  },
  {
   "cell_type": "code",
   "execution_count": null,
   "id": "9d036e08",
   "metadata": {},
   "outputs": [],
   "source": []
  },
  {
   "cell_type": "markdown",
   "id": "5984f16f",
   "metadata": {},
   "source": [
    "# question 6 https://www.billboard.com/\n"
   ]
  },
  {
   "cell_type": "code",
   "execution_count": 3,
   "id": "c56a3c7b",
   "metadata": {},
   "outputs": [],
   "source": [
    "driver=webdriver.Chrome(r'D:\\flip robo\\chromedriver_win32\\chromedriver.exe')"
   ]
  },
  {
   "cell_type": "code",
   "execution_count": 4,
   "id": "3789b07e",
   "metadata": {},
   "outputs": [],
   "source": [
    "url=\"https://www.billboard.com/\"\n",
    "driver.get(url)"
   ]
  },
  {
   "cell_type": "code",
   "execution_count": 5,
   "id": "afabcd72",
   "metadata": {},
   "outputs": [],
   "source": [
    "from selenium.webdriver.common.by import By"
   ]
  },
  {
   "cell_type": "code",
   "execution_count": 16,
   "id": "dc0ed17c",
   "metadata": {},
   "outputs": [
    {
     "data": {
      "text/plain": [
       "['Like Crazy\\nJimin\\n-\\n1\\n1',\n",
       " 'Flowers\\nMiley Cyrus\\n1\\n1\\n11',\n",
       " 'Last Night\\nMorgan Wallen\\n2\\n1\\n9',\n",
       " 'Kill Bill\\nSZA\\n3\\n2\\n16',\n",
       " \"Creepin'\\nMetro Boomin, The Weeknd & 21 Savage\\n4\\n3\\n17\"]"
      ]
     },
     "execution_count": 16,
     "metadata": {},
     "output_type": "execute_result"
    }
   ],
   "source": [
    "tabledetail=[]\n",
    "Song_name=[]\n",
    "Artist_name=[]\n",
    "Lastweek_rank=[]\n",
    "Peak_rank=[]\n",
    "Weekson_board=[]\n",
    "tabledetail_tag=driver.find_elements(By.XPATH,'//li[@class=\"lrv-u-width-100p\"]')\n",
    "for i in tabledetail_tag:\n",
    "    tabledetail.append(i.text)\n",
    "    Song_name.append(i.text.split('\\n')[0])\n",
    "    Artist_name.append(i.text.split('\\n')[1])\n",
    "    Lastweek_rank.append(i.text.split('\\n')[2])\n",
    "    Peak_rank.append(i.text.split('\\n')[3])\n",
    "    Weekson_board.append(i.text.split('\\n')[4])\n",
    "    \n",
    "tabledetail[:5]\n",
    "    "
   ]
  },
  {
   "cell_type": "code",
   "execution_count": 7,
   "id": "3cb870a2",
   "metadata": {},
   "outputs": [],
   "source": [
    "tabledetail_tag=driver.find_element(By.XPATH,'//li[@class=\"lrv-u-width-100p\"]')"
   ]
  },
  {
   "cell_type": "code",
   "execution_count": 8,
   "id": "40099042",
   "metadata": {},
   "outputs": [
    {
     "data": {
      "text/plain": [
       "<selenium.webdriver.remote.webelement.WebElement (session=\"1a68f75b8ea85e629ec944f01d132b52\", element=\"1f3c04df-b9ad-4d77-9beb-01b6df6ec415\")>"
      ]
     },
     "execution_count": 8,
     "metadata": {},
     "output_type": "execute_result"
    }
   ],
   "source": [
    "tabledetail_tag"
   ]
  },
  {
   "cell_type": "code",
   "execution_count": 19,
   "id": "87e27fd4",
   "metadata": {},
   "outputs": [
    {
     "data": {
      "text/plain": [
       "['1', '11', '9', '16', '17']"
      ]
     },
     "execution_count": 19,
     "metadata": {},
     "output_type": "execute_result"
    }
   ],
   "source": [
    "Weekson_board[:5]"
   ]
  },
  {
   "cell_type": "code",
   "execution_count": 20,
   "id": "dfae6b42",
   "metadata": {},
   "outputs": [
    {
     "data": {
      "text/plain": [
       "['Jimin',\n",
       " 'Miley Cyrus',\n",
       " 'Morgan Wallen',\n",
       " 'SZA',\n",
       " 'Metro Boomin, The Weeknd & 21 Savage']"
      ]
     },
     "execution_count": 20,
     "metadata": {},
     "output_type": "execute_result"
    }
   ],
   "source": [
    "Artist_name[:5]"
   ]
  },
  {
   "cell_type": "code",
   "execution_count": 21,
   "id": "b477637b",
   "metadata": {},
   "outputs": [],
   "source": [
    "df=pd.DataFrame()"
   ]
  },
  {
   "cell_type": "code",
   "execution_count": 22,
   "id": "dfba6b57",
   "metadata": {},
   "outputs": [],
   "source": [
    "df[\"Song name\"]=Song_name\n",
    "df[\"Artist name\"]=Artist_name\n",
    "df[\"Last week rank\"]=Lastweek_rank\n",
    "df[\"Peak rank\"]=Peak_rank\n",
    "df[\"Weeks on board\"]=Weekson_board\n"
   ]
  },
  {
   "cell_type": "code",
   "execution_count": 23,
   "id": "b08b622f",
   "metadata": {},
   "outputs": [
    {
     "data": {
      "text/html": [
       "<div>\n",
       "<style scoped>\n",
       "    .dataframe tbody tr th:only-of-type {\n",
       "        vertical-align: middle;\n",
       "    }\n",
       "\n",
       "    .dataframe tbody tr th {\n",
       "        vertical-align: top;\n",
       "    }\n",
       "\n",
       "    .dataframe thead th {\n",
       "        text-align: right;\n",
       "    }\n",
       "</style>\n",
       "<table border=\"1\" class=\"dataframe\">\n",
       "  <thead>\n",
       "    <tr style=\"text-align: right;\">\n",
       "      <th></th>\n",
       "      <th>Song name</th>\n",
       "      <th>Artist name</th>\n",
       "      <th>Last week rank</th>\n",
       "      <th>Peak rank</th>\n",
       "      <th>Weeks on board</th>\n",
       "    </tr>\n",
       "  </thead>\n",
       "  <tbody>\n",
       "    <tr>\n",
       "      <th>0</th>\n",
       "      <td>Like Crazy</td>\n",
       "      <td>Jimin</td>\n",
       "      <td>-</td>\n",
       "      <td>1</td>\n",
       "      <td>1</td>\n",
       "    </tr>\n",
       "    <tr>\n",
       "      <th>1</th>\n",
       "      <td>Flowers</td>\n",
       "      <td>Miley Cyrus</td>\n",
       "      <td>1</td>\n",
       "      <td>1</td>\n",
       "      <td>11</td>\n",
       "    </tr>\n",
       "    <tr>\n",
       "      <th>2</th>\n",
       "      <td>Last Night</td>\n",
       "      <td>Morgan Wallen</td>\n",
       "      <td>2</td>\n",
       "      <td>1</td>\n",
       "      <td>9</td>\n",
       "    </tr>\n",
       "    <tr>\n",
       "      <th>3</th>\n",
       "      <td>Kill Bill</td>\n",
       "      <td>SZA</td>\n",
       "      <td>3</td>\n",
       "      <td>2</td>\n",
       "      <td>16</td>\n",
       "    </tr>\n",
       "    <tr>\n",
       "      <th>4</th>\n",
       "      <td>Creepin'</td>\n",
       "      <td>Metro Boomin, The Weeknd &amp; 21 Savage</td>\n",
       "      <td>4</td>\n",
       "      <td>3</td>\n",
       "      <td>17</td>\n",
       "    </tr>\n",
       "    <tr>\n",
       "      <th>...</th>\n",
       "      <td>...</td>\n",
       "      <td>...</td>\n",
       "      <td>...</td>\n",
       "      <td>...</td>\n",
       "      <td>...</td>\n",
       "    </tr>\n",
       "    <tr>\n",
       "      <th>95</th>\n",
       "      <td>Eat Your Young</td>\n",
       "      <td>Hozier</td>\n",
       "      <td>67</td>\n",
       "      <td>67</td>\n",
       "      <td>2</td>\n",
       "    </tr>\n",
       "    <tr>\n",
       "      <th>96</th>\n",
       "      <td>Ch y La Pizza</td>\n",
       "      <td>Fuerza Regida X Natanael Cano</td>\n",
       "      <td>-</td>\n",
       "      <td>97</td>\n",
       "      <td>1</td>\n",
       "    </tr>\n",
       "    <tr>\n",
       "      <th>97</th>\n",
       "      <td>Whiskey Friends</td>\n",
       "      <td>Morgan Wallen</td>\n",
       "      <td>80</td>\n",
       "      <td>35</td>\n",
       "      <td>4</td>\n",
       "    </tr>\n",
       "    <tr>\n",
       "      <th>98</th>\n",
       "      <td>Moonlight</td>\n",
       "      <td>Kali Uchis</td>\n",
       "      <td>92</td>\n",
       "      <td>92</td>\n",
       "      <td>2</td>\n",
       "    </tr>\n",
       "    <tr>\n",
       "      <th>99</th>\n",
       "      <td>Memory Lane</td>\n",
       "      <td>Old Dominion</td>\n",
       "      <td>-</td>\n",
       "      <td>100</td>\n",
       "      <td>1</td>\n",
       "    </tr>\n",
       "  </tbody>\n",
       "</table>\n",
       "<p>100 rows × 5 columns</p>\n",
       "</div>"
      ],
      "text/plain": [
       "          Song name                           Artist name Last week rank  \\\n",
       "0        Like Crazy                                 Jimin              -   \n",
       "1           Flowers                           Miley Cyrus              1   \n",
       "2        Last Night                         Morgan Wallen              2   \n",
       "3         Kill Bill                                   SZA              3   \n",
       "4          Creepin'  Metro Boomin, The Weeknd & 21 Savage              4   \n",
       "..              ...                                   ...            ...   \n",
       "95   Eat Your Young                                Hozier             67   \n",
       "96    Ch y La Pizza         Fuerza Regida X Natanael Cano              -   \n",
       "97  Whiskey Friends                         Morgan Wallen             80   \n",
       "98        Moonlight                            Kali Uchis             92   \n",
       "99      Memory Lane                          Old Dominion              -   \n",
       "\n",
       "   Peak rank Weeks on board  \n",
       "0          1              1  \n",
       "1          1             11  \n",
       "2          1              9  \n",
       "3          2             16  \n",
       "4          3             17  \n",
       "..       ...            ...  \n",
       "95        67              2  \n",
       "96        97              1  \n",
       "97        35              4  \n",
       "98        92              2  \n",
       "99       100              1  \n",
       "\n",
       "[100 rows x 5 columns]"
      ]
     },
     "execution_count": 23,
     "metadata": {},
     "output_type": "execute_result"
    }
   ],
   "source": [
    "df"
   ]
  },
  {
   "cell_type": "code",
   "execution_count": null,
   "id": "6c34d333",
   "metadata": {},
   "outputs": [],
   "source": []
  },
  {
   "cell_type": "markdown",
   "id": "7b25644a",
   "metadata": {},
   "source": [
    "# Question 7 naukri.com"
   ]
  },
  {
   "cell_type": "code",
   "execution_count": 38,
   "id": "cc5dafb4",
   "metadata": {},
   "outputs": [],
   "source": [
    "driver=webdriver.Chrome(r'D:\\flip robo\\chromedriver_win32\\chromedriver.exe')"
   ]
  },
  {
   "cell_type": "code",
   "execution_count": 39,
   "id": "7f3a28d0",
   "metadata": {},
   "outputs": [],
   "source": [
    "url=\"https://www.naukri.com/hr-recruiters-consultants\"\n",
    "driver.get(url)"
   ]
  },
  {
   "cell_type": "code",
   "execution_count": 40,
   "id": "127157cb",
   "metadata": {},
   "outputs": [],
   "source": [
    "from selenium.webdriver.common.by import By"
   ]
  },
  {
   "cell_type": "code",
   "execution_count": 44,
   "id": "2014d30a",
   "metadata": {},
   "outputs": [],
   "source": [
    "search_tag=driver.find_element(By.XPATH,'/html/body/div[2]/div[2]/div[1]/div[1]/form/div[1]/div/div[1]/div[1]/div[2]/input')\n",
    "search_tag.send_keys('Data Science')"
   ]
  },
  {
   "cell_type": "code",
   "execution_count": 46,
   "id": "0fa3cd3f",
   "metadata": {},
   "outputs": [],
   "source": [
    "search_button=driver.find_element(By.XPATH,'/html/body/div[2]/div[2]/div[1]/div[1]/form/div[1]/button')\n",
    "search_button.click()"
   ]
  },
  {
   "cell_type": "code",
   "execution_count": 69,
   "id": "d2176c5a",
   "metadata": {},
   "outputs": [],
   "source": [
    "detail=[]\n",
    "name=[]\n",
    "designation=[]\n",
    "company=[]\n",
    "location=[]\n",
    "detail_tag=driver.find_elements(By.XPATH,'//p[@class=\"highlightable\"]')\n",
    "for i in detail_tag:\n",
    "    detail.append(i.text)\n",
    "    name.append(i.text.split('\\n')[0])\n",
    "    designation.append(i.text.split('\\n')[1])\n",
    "    company.append(i.text.split('\\n')[2])\n",
    "try:\n",
    "    location_tag=driver.find_elements(By.XPATH,'//small[@class=\"ellipsis\"]')\n",
    "    for i in location_tag:\n",
    "        location.append(i.text)\n",
    "except NoSuchElementException:\n",
    "    location.append('-')\n",
    "    "
   ]
  },
  {
   "cell_type": "code",
   "execution_count": 74,
   "id": "9b62f6e6",
   "metadata": {},
   "outputs": [
    {
     "data": {
      "text/plain": [
       "30"
      ]
     },
     "execution_count": 74,
     "metadata": {},
     "output_type": "execute_result"
    }
   ],
   "source": [
    "name.index('Sunil Vedula')\n"
   ]
  },
  {
   "cell_type": "code",
   "execution_count": 76,
   "id": "2f44f8bb",
   "metadata": {},
   "outputs": [],
   "source": [
    "location.insert(30,'--')"
   ]
  },
  {
   "cell_type": "code",
   "execution_count": 77,
   "id": "b1dd0658",
   "metadata": {},
   "outputs": [
    {
     "data": {
      "text/plain": [
       "['Classic ASP Developer, Internet Marketing Professional, Data Science SME, Content Writers, SEO Professional, Revenue Professional',\n",
       " '.Net, Java, Data Science, Linux Administration, Sql Server Development, Winforms, Wcf Services, Wpf, Telecom Engineering, Technical Management, Software',\n",
       " 'Data Science, Artificial Intelligence, Machine Learning, Business Analytics, Deep Learning, statistics, Data Analytics, Data Analysis, support vector machine',\n",
       " 'Mean Stack, javascript, angularjs, mongodb, Web Services, rest, express, Node.js, Big Data, iot, Data Science, Cloud Computing, saas, Aws',\n",
       " 'Hadoop, Spark, Digital Strategy, Data Architecture, Command Center, Cdp, Dmp, Kafka, Data Science, Data Analysis, Big Data Analytics, Real Time Analysis, SQL']"
      ]
     },
     "execution_count": 77,
     "metadata": {},
     "output_type": "execute_result"
    }
   ],
   "source": [
    "skill=[]\n",
    "skill_tag=driver.find_elements(By.XPATH,'//div[@class=\"hireSec highlightable\"]')\n",
    "for i in skill_tag:\n",
    "    skill.append(i.text)\n",
    "skill[:5]"
   ]
  },
  {
   "cell_type": "code",
   "execution_count": 79,
   "id": "6e0499bd",
   "metadata": {},
   "outputs": [],
   "source": [
    "df=pd.DataFrame()"
   ]
  },
  {
   "cell_type": "code",
   "execution_count": 80,
   "id": "bb76b972",
   "metadata": {},
   "outputs": [],
   "source": [
    "df[\"NAME\"]=name\n",
    "df[\"DESIGNATION\"]=designation\n",
    "df[\"COMPANY\"]=company\n",
    "df[\"LOCATION\"]=location\n",
    "df[\"SKILL\"]=skill"
   ]
  },
  {
   "cell_type": "code",
   "execution_count": 82,
   "id": "4f1272dc",
   "metadata": {},
   "outputs": [
    {
     "data": {
      "text/html": [
       "<div>\n",
       "<style scoped>\n",
       "    .dataframe tbody tr th:only-of-type {\n",
       "        vertical-align: middle;\n",
       "    }\n",
       "\n",
       "    .dataframe tbody tr th {\n",
       "        vertical-align: top;\n",
       "    }\n",
       "\n",
       "    .dataframe thead th {\n",
       "        text-align: right;\n",
       "    }\n",
       "</style>\n",
       "<table border=\"1\" class=\"dataframe\">\n",
       "  <thead>\n",
       "    <tr style=\"text-align: right;\">\n",
       "      <th></th>\n",
       "      <th>NAME</th>\n",
       "      <th>DESIGNATION</th>\n",
       "      <th>COMPANY</th>\n",
       "      <th>LOCATION</th>\n",
       "      <th>SKILL</th>\n",
       "    </tr>\n",
       "  </thead>\n",
       "  <tbody>\n",
       "    <tr>\n",
       "      <th>0</th>\n",
       "      <td>Aakash Harit</td>\n",
       "      <td>HR Manager</td>\n",
       "      <td>Data Science Network</td>\n",
       "      <td>Delhi</td>\n",
       "      <td>Classic ASP Developer, Internet Marketing Prof...</td>\n",
       "    </tr>\n",
       "    <tr>\n",
       "      <th>1</th>\n",
       "      <td>shravan Kumar Gaddam</td>\n",
       "      <td>Company Recruiter</td>\n",
       "      <td>Shore Infotech India Pvt. Ltd</td>\n",
       "      <td>Hyderabad / Secunderabad</td>\n",
       "      <td>.Net, Java, Data Science, Linux Administration...</td>\n",
       "    </tr>\n",
       "    <tr>\n",
       "      <th>2</th>\n",
       "      <td>MARSIAN Technologies LLP</td>\n",
       "      <td>Company HR</td>\n",
       "      <td>MARSIAN Technologies LLP</td>\n",
       "      <td>Pune</td>\n",
       "      <td>Data Science, Artificial Intelligence, Machine...</td>\n",
       "    </tr>\n",
       "    <tr>\n",
       "      <th>3</th>\n",
       "      <td>Anik Agrawal</td>\n",
       "      <td>Company Recruiter</td>\n",
       "      <td>Enerlytics Software Solutions Pvt Ltd</td>\n",
       "      <td>Ahmedabad</td>\n",
       "      <td>Mean Stack, javascript, angularjs, mongodb, We...</td>\n",
       "    </tr>\n",
       "    <tr>\n",
       "      <th>4</th>\n",
       "      <td>subhas patel</td>\n",
       "      <td>Founder CEO</td>\n",
       "      <td>LibraryXProject</td>\n",
       "      <td>UK - (london)</td>\n",
       "      <td>Hadoop, Spark, Digital Strategy, Data Architec...</td>\n",
       "    </tr>\n",
       "  </tbody>\n",
       "</table>\n",
       "</div>"
      ],
      "text/plain": [
       "                       NAME        DESIGNATION  \\\n",
       "0              Aakash Harit         HR Manager   \n",
       "1      shravan Kumar Gaddam  Company Recruiter   \n",
       "2  MARSIAN Technologies LLP         Company HR   \n",
       "3              Anik Agrawal  Company Recruiter   \n",
       "4              subhas patel        Founder CEO   \n",
       "\n",
       "                                 COMPANY                  LOCATION  \\\n",
       "0                   Data Science Network                     Delhi   \n",
       "1          Shore Infotech India Pvt. Ltd  Hyderabad / Secunderabad   \n",
       "2               MARSIAN Technologies LLP                      Pune   \n",
       "3  Enerlytics Software Solutions Pvt Ltd                 Ahmedabad   \n",
       "4                        LibraryXProject             UK - (london)   \n",
       "\n",
       "                                               SKILL  \n",
       "0  Classic ASP Developer, Internet Marketing Prof...  \n",
       "1  .Net, Java, Data Science, Linux Administration...  \n",
       "2  Data Science, Artificial Intelligence, Machine...  \n",
       "3  Mean Stack, javascript, angularjs, mongodb, We...  \n",
       "4  Hadoop, Spark, Digital Strategy, Data Architec...  "
      ]
     },
     "execution_count": 82,
     "metadata": {},
     "output_type": "execute_result"
    }
   ],
   "source": [
    "df[:5]"
   ]
  },
  {
   "cell_type": "code",
   "execution_count": null,
   "id": "2ed143b5",
   "metadata": {},
   "outputs": [],
   "source": []
  },
  {
   "cell_type": "markdown",
   "id": "97288b62",
   "metadata": {},
   "source": [
    "# QUESTION 8 http://www.theguardian.com/news/datablog/2012/aug/09/best-selling-books-all-time-fifty-shades-grey-"
   ]
  },
  {
   "cell_type": "code",
   "execution_count": 3,
   "id": "73951528",
   "metadata": {},
   "outputs": [],
   "source": [
    "driver=webdriver.Chrome(r'D:\\flip robo\\chromedriver_win32\\chromedriver.exe')"
   ]
  },
  {
   "cell_type": "code",
   "execution_count": 4,
   "id": "199bf8f8",
   "metadata": {},
   "outputs": [],
   "source": [
    "url=\"http://www.theguardian.com/news/datablog/2012/aug/09/best-selling-books-all-time-fifty-shades-grey-compare\"\n",
    "driver.get(url)"
   ]
  },
  {
   "cell_type": "code",
   "execution_count": 5,
   "id": "e229d262",
   "metadata": {},
   "outputs": [],
   "source": [
    "from selenium.webdriver.common.by import By"
   ]
  },
  {
   "cell_type": "code",
   "execution_count": 12,
   "id": "6f8d4559",
   "metadata": {},
   "outputs": [],
   "source": [
    "table=[]\n",
    "rank=[]\n",
    "book_name=[]\n",
    "author_name=[]\n",
    "volumes_sold=[]\n",
    "publisher=[]\n",
    "genre=[]\n",
    "table_tag=driver.find_elements(By.XPATH,'//tbody/tr')\n",
    "for i in table_tag:\n",
    "    table.append(i.text)\n",
    "table\n",
    "book_tag=driver.find_elements(By.XPATH,'//tbody/tr/td[2]')\n",
    "for i in book_tag:\n",
    "    book_name.append(i.text)\n",
    "author_tag=driver.find_elements(By.XPATH,'//tbody/tr/td[3]')\n",
    "for i in author_tag:\n",
    "    author_name.append(i.text)\n",
    "volumesold_tag=driver.find_elements(By.XPATH,'//tbody/tr/td[4]')\n",
    "for i in volumesold_tag:\n",
    "    volumes_sold.append(i.text)\n",
    "publisher_tag=driver.find_elements(By.XPATH,'//tbody/tr/td[5]')\n",
    "for i in publisher_tag:\n",
    "    publisher.append(i.text)\n",
    "genre_tag=driver.find_elements(By.XPATH,'//tbody/tr/td[6]')\n",
    "for i in genre_tag:\n",
    "    genre.append(i.text)"
   ]
  },
  {
   "cell_type": "code",
   "execution_count": 14,
   "id": "fd0b8ceb",
   "metadata": {},
   "outputs": [
    {
     "data": {
      "text/plain": [
       "['Da Vinci Code,The',\n",
       " 'Harry Potter and the Deathly Hallows',\n",
       " \"Harry Potter and the Philosopher's Stone\",\n",
       " 'Harry Potter and the Order of the Phoenix',\n",
       " 'Fifty Shades of Grey']"
      ]
     },
     "execution_count": 14,
     "metadata": {},
     "output_type": "execute_result"
    }
   ],
   "source": [
    "book_name[:5]\n"
   ]
  },
  {
   "cell_type": "code",
   "execution_count": 15,
   "id": "2346f3fb",
   "metadata": {},
   "outputs": [
    {
     "data": {
      "text/plain": [
       "['Brown, Dan',\n",
       " 'Rowling, J.K.',\n",
       " 'Rowling, J.K.',\n",
       " 'Rowling, J.K.',\n",
       " 'James, E. L.']"
      ]
     },
     "execution_count": 15,
     "metadata": {},
     "output_type": "execute_result"
    }
   ],
   "source": [
    "author_name[:5]\n"
   ]
  },
  {
   "cell_type": "code",
   "execution_count": 16,
   "id": "a2a08492",
   "metadata": {},
   "outputs": [
    {
     "data": {
      "text/plain": [
       "['5,094,805', '4,475,152', '4,200,654', '4,179,479', '3,758,936']"
      ]
     },
     "execution_count": 16,
     "metadata": {},
     "output_type": "execute_result"
    }
   ],
   "source": [
    "volumes_sold[:5]\n"
   ]
  },
  {
   "cell_type": "code",
   "execution_count": 17,
   "id": "6f5ea4b3",
   "metadata": {},
   "outputs": [
    {
     "data": {
      "text/plain": [
       "['Transworld', 'Bloomsbury', 'Bloomsbury', 'Bloomsbury', 'Random House']"
      ]
     },
     "execution_count": 17,
     "metadata": {},
     "output_type": "execute_result"
    }
   ],
   "source": [
    "publisher[:5]\n"
   ]
  },
  {
   "cell_type": "code",
   "execution_count": 18,
   "id": "ee63e9ee",
   "metadata": {},
   "outputs": [
    {
     "data": {
      "text/plain": [
       "['Crime, Thriller & Adventure',\n",
       " \"Children's Fiction\",\n",
       " \"Children's Fiction\",\n",
       " \"Children's Fiction\",\n",
       " 'Romance & Sagas']"
      ]
     },
     "execution_count": 18,
     "metadata": {},
     "output_type": "execute_result"
    }
   ],
   "source": [
    "genre[:5]"
   ]
  },
  {
   "cell_type": "code",
   "execution_count": 19,
   "id": "49654b77",
   "metadata": {},
   "outputs": [],
   "source": [
    "df=pd.DataFrame()"
   ]
  },
  {
   "cell_type": "code",
   "execution_count": 20,
   "id": "5408834f",
   "metadata": {},
   "outputs": [],
   "source": [
    "df[\"BOOK NAME\"]=book_name\n",
    "df[\"AUTHOR NAME\"]=author_name\n",
    "df[\"VOLUME SOLD\"]=volumes_sold\n",
    "df[\"PUBLISHER\"]=publisher\n",
    "df[\"GENRE\"]=genre\n"
   ]
  },
  {
   "cell_type": "code",
   "execution_count": 21,
   "id": "739d3407",
   "metadata": {},
   "outputs": [
    {
     "data": {
      "text/html": [
       "<div>\n",
       "<style scoped>\n",
       "    .dataframe tbody tr th:only-of-type {\n",
       "        vertical-align: middle;\n",
       "    }\n",
       "\n",
       "    .dataframe tbody tr th {\n",
       "        vertical-align: top;\n",
       "    }\n",
       "\n",
       "    .dataframe thead th {\n",
       "        text-align: right;\n",
       "    }\n",
       "</style>\n",
       "<table border=\"1\" class=\"dataframe\">\n",
       "  <thead>\n",
       "    <tr style=\"text-align: right;\">\n",
       "      <th></th>\n",
       "      <th>BOOK NAME</th>\n",
       "      <th>AUTHOR NAME</th>\n",
       "      <th>VOLUME SOLD</th>\n",
       "      <th>PUBLISHER</th>\n",
       "      <th>GENRE</th>\n",
       "    </tr>\n",
       "  </thead>\n",
       "  <tbody>\n",
       "    <tr>\n",
       "      <th>0</th>\n",
       "      <td>Da Vinci Code,The</td>\n",
       "      <td>Brown, Dan</td>\n",
       "      <td>5,094,805</td>\n",
       "      <td>Transworld</td>\n",
       "      <td>Crime, Thriller &amp; Adventure</td>\n",
       "    </tr>\n",
       "    <tr>\n",
       "      <th>1</th>\n",
       "      <td>Harry Potter and the Deathly Hallows</td>\n",
       "      <td>Rowling, J.K.</td>\n",
       "      <td>4,475,152</td>\n",
       "      <td>Bloomsbury</td>\n",
       "      <td>Children's Fiction</td>\n",
       "    </tr>\n",
       "    <tr>\n",
       "      <th>2</th>\n",
       "      <td>Harry Potter and the Philosopher's Stone</td>\n",
       "      <td>Rowling, J.K.</td>\n",
       "      <td>4,200,654</td>\n",
       "      <td>Bloomsbury</td>\n",
       "      <td>Children's Fiction</td>\n",
       "    </tr>\n",
       "    <tr>\n",
       "      <th>3</th>\n",
       "      <td>Harry Potter and the Order of the Phoenix</td>\n",
       "      <td>Rowling, J.K.</td>\n",
       "      <td>4,179,479</td>\n",
       "      <td>Bloomsbury</td>\n",
       "      <td>Children's Fiction</td>\n",
       "    </tr>\n",
       "    <tr>\n",
       "      <th>4</th>\n",
       "      <td>Fifty Shades of Grey</td>\n",
       "      <td>James, E. L.</td>\n",
       "      <td>3,758,936</td>\n",
       "      <td>Random House</td>\n",
       "      <td>Romance &amp; Sagas</td>\n",
       "    </tr>\n",
       "    <tr>\n",
       "      <th>...</th>\n",
       "      <td>...</td>\n",
       "      <td>...</td>\n",
       "      <td>...</td>\n",
       "      <td>...</td>\n",
       "      <td>...</td>\n",
       "    </tr>\n",
       "    <tr>\n",
       "      <th>95</th>\n",
       "      <td>Ghost,The</td>\n",
       "      <td>Harris, Robert</td>\n",
       "      <td>807,311</td>\n",
       "      <td>Random House</td>\n",
       "      <td>General &amp; Literary Fiction</td>\n",
       "    </tr>\n",
       "    <tr>\n",
       "      <th>96</th>\n",
       "      <td>Happy Days with the Naked Chef</td>\n",
       "      <td>Oliver, Jamie</td>\n",
       "      <td>794,201</td>\n",
       "      <td>Penguin</td>\n",
       "      <td>Food &amp; Drink: General</td>\n",
       "    </tr>\n",
       "    <tr>\n",
       "      <th>97</th>\n",
       "      <td>Hunger Games,The:Hunger Games Trilogy</td>\n",
       "      <td>Collins, Suzanne</td>\n",
       "      <td>792,187</td>\n",
       "      <td>Scholastic Ltd.</td>\n",
       "      <td>Young Adult Fiction</td>\n",
       "    </tr>\n",
       "    <tr>\n",
       "      <th>98</th>\n",
       "      <td>Lost Boy,The:A Foster Child's Search for the L...</td>\n",
       "      <td>Pelzer, Dave</td>\n",
       "      <td>791,507</td>\n",
       "      <td>Orion</td>\n",
       "      <td>Biography: General</td>\n",
       "    </tr>\n",
       "    <tr>\n",
       "      <th>99</th>\n",
       "      <td>Jamie's Ministry of Food:Anyone Can Learn to C...</td>\n",
       "      <td>Oliver, Jamie</td>\n",
       "      <td>791,095</td>\n",
       "      <td>Penguin</td>\n",
       "      <td>Food &amp; Drink: General</td>\n",
       "    </tr>\n",
       "  </tbody>\n",
       "</table>\n",
       "<p>100 rows × 5 columns</p>\n",
       "</div>"
      ],
      "text/plain": [
       "                                            BOOK NAME       AUTHOR NAME  \\\n",
       "0                                   Da Vinci Code,The        Brown, Dan   \n",
       "1                Harry Potter and the Deathly Hallows     Rowling, J.K.   \n",
       "2            Harry Potter and the Philosopher's Stone     Rowling, J.K.   \n",
       "3           Harry Potter and the Order of the Phoenix     Rowling, J.K.   \n",
       "4                                Fifty Shades of Grey      James, E. L.   \n",
       "..                                                ...               ...   \n",
       "95                                          Ghost,The    Harris, Robert   \n",
       "96                     Happy Days with the Naked Chef     Oliver, Jamie   \n",
       "97              Hunger Games,The:Hunger Games Trilogy  Collins, Suzanne   \n",
       "98  Lost Boy,The:A Foster Child's Search for the L...      Pelzer, Dave   \n",
       "99  Jamie's Ministry of Food:Anyone Can Learn to C...     Oliver, Jamie   \n",
       "\n",
       "   VOLUME SOLD        PUBLISHER                        GENRE  \n",
       "0    5,094,805       Transworld  Crime, Thriller & Adventure  \n",
       "1    4,475,152       Bloomsbury           Children's Fiction  \n",
       "2    4,200,654       Bloomsbury           Children's Fiction  \n",
       "3    4,179,479       Bloomsbury           Children's Fiction  \n",
       "4    3,758,936     Random House              Romance & Sagas  \n",
       "..         ...              ...                          ...  \n",
       "95     807,311     Random House   General & Literary Fiction  \n",
       "96     794,201          Penguin        Food & Drink: General  \n",
       "97     792,187  Scholastic Ltd.          Young Adult Fiction  \n",
       "98     791,507            Orion           Biography: General  \n",
       "99     791,095          Penguin        Food & Drink: General  \n",
       "\n",
       "[100 rows x 5 columns]"
      ]
     },
     "execution_count": 21,
     "metadata": {},
     "output_type": "execute_result"
    }
   ],
   "source": [
    "df"
   ]
  },
  {
   "cell_type": "markdown",
   "id": "642681f5",
   "metadata": {},
   "source": [
    "# QUESTION 9 imdb "
   ]
  },
  {
   "cell_type": "code",
   "execution_count": 39,
   "id": "fc222a2b",
   "metadata": {},
   "outputs": [],
   "source": [
    "driver=webdriver.Chrome(r'D:\\flip robo\\chromedriver_win32\\chromedriver.exe')"
   ]
  },
  {
   "cell_type": "code",
   "execution_count": 40,
   "id": "b85d2a28",
   "metadata": {},
   "outputs": [],
   "source": [
    "url=\"http://www.imdb.com/list/ls095964455/\"\n",
    "driver.get(url)"
   ]
  },
  {
   "cell_type": "code",
   "execution_count": 41,
   "id": "18592086",
   "metadata": {},
   "outputs": [],
   "source": [
    "from selenium.webdriver.common.by import By"
   ]
  },
  {
   "cell_type": "code",
   "execution_count": 42,
   "id": "06a0a9d0",
   "metadata": {},
   "outputs": [
    {
     "data": {
      "text/plain": [
       "['1. Game of Thrones (2011–2019)\\nTV-MA | 57 min | Action, Adventure, Drama\\n9.2\\nRate\\nNine noble families fight for control over the lands of Westeros, while an ancient enemy returns after being dormant for millennia.\\nStars: Emilia Clarke, Peter Dinklage, Kit Harington, Lena Headey\\nVotes: 2,147,880',\n",
       " '2. Stranger Things (2016–2024)\\nTV-14 | 51 min | Drama, Fantasy, Horror\\n8.7\\nRate\\nWhen a young boy disappears, his mother, a police chief and his friends must confront terrifying supernatural forces in order to get him back.\\nStars: Millie Bobby Brown, Finn Wolfhard, Winona Ryder, David Harbour\\nVotes: 1,230,990\\nWatch on Netflix\\nwith subscription',\n",
       " '3. The Walking Dead (2010–2022)\\nTV-MA | 44 min | Drama, Horror, Thriller\\n8.1\\nRate\\nSheriff Deputy Rick Grimes wakes up from a coma to learn the world is in ruins and must lead a group of survivors to stay alive.\\nStars: Andrew Lincoln, Norman Reedus, Melissa McBride, Lauren Cohan\\nVotes: 1,020,010',\n",
       " '4. 13 Reasons Why (2017–2020)\\nTV-MA | 60 min | Drama, Mystery, Thriller\\n7.5\\nRate\\nFollows teenager Clay Jensen, in his quest to uncover the story behind his classmate and crush, Hannah, and her decision to end her life.\\nStars: Dylan Minnette, Katherine Langford, Christian Navarro, Alisha Boe\\nVotes: 300,363',\n",
       " \"5. The 100 (2014–2020)\\nTV-14 | 43 min | Drama, Mystery, Sci-Fi\\n7.6\\nRate\\nSet 97 years after a nuclear war destroyed civilization, when a spaceship housing humanity's lone survivors sends 100 juvenile delinquents back to Earth, hoping to repopulate the planet.\\nStars: Eliza Taylor, Bob Morley, Marie Avgeropoulos, Isaiah Washington\\nVotes: 259,180\"]"
      ]
     },
     "execution_count": 42,
     "metadata": {},
     "output_type": "execute_result"
    }
   ],
   "source": [
    "tabledetail1=[]\n",
    "Name=[]\n",
    "Year_span=[]\n",
    "Genre=[]\n",
    "Run_time=[]\n",
    "Ratings=[]\n",
    "Votes=[]\n",
    "\n",
    "tabledetail_tag1=driver.find_elements(By.XPATH,'//div[@class=\"lister-item-content\"]')\n",
    "for i in tabledetail_tag1:\n",
    "    tabledetail1.append(i.text)\n",
    "    Name.append(i.text.split('\\n')[0].split('(')[0])\n",
    "    Year_span.append(i.text.split('\\n')[0].split('(')[1])\n",
    "    Genre.append(i.text.split('\\n')[1].split('|')[2])\n",
    "    Ratings.append(i.text.split('\\n')[2])\n",
    "    Run_time.append(i.text.split('\\n')[1].split('|')[1])\n",
    "    Votes.append(i.text.split('\\n')[6].split(':')[1])\n",
    "tabledetail1[:5]"
   ]
  },
  {
   "cell_type": "code",
   "execution_count": 43,
   "id": "d59a6760",
   "metadata": {},
   "outputs": [],
   "source": [
    "df=pd.DataFrame()"
   ]
  },
  {
   "cell_type": "code",
   "execution_count": 44,
   "id": "a4f83847",
   "metadata": {},
   "outputs": [],
   "source": [
    "df[\"NAME\"]=Name\n",
    "\n",
    "df[\"YEAR\"]=Year_span\n",
    "df[\"GENRE\"]=Genre\n",
    "\n",
    "\n",
    "df[\"RUN TIME\"]=Run_time\n",
    "df[\"RATING\"]=Ratings\n",
    "df[\"VOTE\"]=Votes"
   ]
  },
  {
   "cell_type": "code",
   "execution_count": 45,
   "id": "56012df2",
   "metadata": {},
   "outputs": [
    {
     "data": {
      "text/html": [
       "<div>\n",
       "<style scoped>\n",
       "    .dataframe tbody tr th:only-of-type {\n",
       "        vertical-align: middle;\n",
       "    }\n",
       "\n",
       "    .dataframe tbody tr th {\n",
       "        vertical-align: top;\n",
       "    }\n",
       "\n",
       "    .dataframe thead th {\n",
       "        text-align: right;\n",
       "    }\n",
       "</style>\n",
       "<table border=\"1\" class=\"dataframe\">\n",
       "  <thead>\n",
       "    <tr style=\"text-align: right;\">\n",
       "      <th></th>\n",
       "      <th>NAME</th>\n",
       "      <th>YEAR</th>\n",
       "      <th>GENRE</th>\n",
       "      <th>RUN TIME</th>\n",
       "      <th>RATING</th>\n",
       "      <th>VOTE</th>\n",
       "    </tr>\n",
       "  </thead>\n",
       "  <tbody>\n",
       "    <tr>\n",
       "      <th>0</th>\n",
       "      <td>1. Game of Thrones</td>\n",
       "      <td>2011–2019)</td>\n",
       "      <td>Action, Adventure, Drama</td>\n",
       "      <td>57 min</td>\n",
       "      <td>9.2</td>\n",
       "      <td>2,147,880</td>\n",
       "    </tr>\n",
       "    <tr>\n",
       "      <th>1</th>\n",
       "      <td>2. Stranger Things</td>\n",
       "      <td>2016–2024)</td>\n",
       "      <td>Drama, Fantasy, Horror</td>\n",
       "      <td>51 min</td>\n",
       "      <td>8.7</td>\n",
       "      <td>1,230,990</td>\n",
       "    </tr>\n",
       "    <tr>\n",
       "      <th>2</th>\n",
       "      <td>3. The Walking Dead</td>\n",
       "      <td>2010–2022)</td>\n",
       "      <td>Drama, Horror, Thriller</td>\n",
       "      <td>44 min</td>\n",
       "      <td>8.1</td>\n",
       "      <td>1,020,010</td>\n",
       "    </tr>\n",
       "    <tr>\n",
       "      <th>3</th>\n",
       "      <td>4. 13 Reasons Why</td>\n",
       "      <td>2017–2020)</td>\n",
       "      <td>Drama, Mystery, Thriller</td>\n",
       "      <td>60 min</td>\n",
       "      <td>7.5</td>\n",
       "      <td>300,363</td>\n",
       "    </tr>\n",
       "    <tr>\n",
       "      <th>4</th>\n",
       "      <td>5. The 100</td>\n",
       "      <td>2014–2020)</td>\n",
       "      <td>Drama, Mystery, Sci-Fi</td>\n",
       "      <td>43 min</td>\n",
       "      <td>7.6</td>\n",
       "      <td>259,180</td>\n",
       "    </tr>\n",
       "    <tr>\n",
       "      <th>...</th>\n",
       "      <td>...</td>\n",
       "      <td>...</td>\n",
       "      <td>...</td>\n",
       "      <td>...</td>\n",
       "      <td>...</td>\n",
       "      <td>...</td>\n",
       "    </tr>\n",
       "    <tr>\n",
       "      <th>95</th>\n",
       "      <td>96. Reign</td>\n",
       "      <td>2013–2017)</td>\n",
       "      <td>Drama</td>\n",
       "      <td>42 min</td>\n",
       "      <td>7.4</td>\n",
       "      <td>51,258</td>\n",
       "    </tr>\n",
       "    <tr>\n",
       "      <th>96</th>\n",
       "      <td>97. A Series of Unfortunate Events</td>\n",
       "      <td>2017–2019)</td>\n",
       "      <td>Adventure, Comedy, Drama</td>\n",
       "      <td>50 min</td>\n",
       "      <td>7.8</td>\n",
       "      <td>63,268</td>\n",
       "    </tr>\n",
       "    <tr>\n",
       "      <th>97</th>\n",
       "      <td>98. Criminal Minds</td>\n",
       "      <td>2005– )</td>\n",
       "      <td>Crime, Drama, Mystery</td>\n",
       "      <td>42 min</td>\n",
       "      <td>8.1</td>\n",
       "      <td>206,177</td>\n",
       "    </tr>\n",
       "    <tr>\n",
       "      <th>98</th>\n",
       "      <td>99. Scream: The TV Series</td>\n",
       "      <td>2015–2019)</td>\n",
       "      <td>Comedy, Crime, Drama</td>\n",
       "      <td>45 min</td>\n",
       "      <td>7</td>\n",
       "      <td>42,783</td>\n",
       "    </tr>\n",
       "    <tr>\n",
       "      <th>99</th>\n",
       "      <td>100. The Haunting of Hill House</td>\n",
       "      <td>2018)</td>\n",
       "      <td>Drama, Horror, Mystery</td>\n",
       "      <td>572 min</td>\n",
       "      <td>8.6</td>\n",
       "      <td>255,413</td>\n",
       "    </tr>\n",
       "  </tbody>\n",
       "</table>\n",
       "<p>100 rows × 6 columns</p>\n",
       "</div>"
      ],
      "text/plain": [
       "                                   NAME        YEAR  \\\n",
       "0                   1. Game of Thrones   2011–2019)   \n",
       "1                   2. Stranger Things   2016–2024)   \n",
       "2                  3. The Walking Dead   2010–2022)   \n",
       "3                    4. 13 Reasons Why   2017–2020)   \n",
       "4                           5. The 100   2014–2020)   \n",
       "..                                  ...         ...   \n",
       "95                           96. Reign   2013–2017)   \n",
       "96  97. A Series of Unfortunate Events   2017–2019)   \n",
       "97                  98. Criminal Minds      2005– )   \n",
       "98           99. Scream: The TV Series   2015–2019)   \n",
       "99     100. The Haunting of Hill House        2018)   \n",
       "\n",
       "                        GENRE   RUN TIME RATING        VOTE  \n",
       "0    Action, Adventure, Drama    57 min     9.2   2,147,880  \n",
       "1      Drama, Fantasy, Horror    51 min     8.7   1,230,990  \n",
       "2     Drama, Horror, Thriller    44 min     8.1   1,020,010  \n",
       "3    Drama, Mystery, Thriller    60 min     7.5     300,363  \n",
       "4      Drama, Mystery, Sci-Fi    43 min     7.6     259,180  \n",
       "..                        ...        ...    ...         ...  \n",
       "95                      Drama    42 min     7.4      51,258  \n",
       "96   Adventure, Comedy, Drama    50 min     7.8      63,268  \n",
       "97      Crime, Drama, Mystery    42 min     8.1     206,177  \n",
       "98       Comedy, Crime, Drama    45 min       7      42,783  \n",
       "99     Drama, Horror, Mystery   572 min     8.6     255,413  \n",
       "\n",
       "[100 rows x 6 columns]"
      ]
     },
     "execution_count": 45,
     "metadata": {},
     "output_type": "execute_result"
    }
   ],
   "source": [
    "df"
   ]
  },
  {
   "cell_type": "code",
   "execution_count": null,
   "id": "9f595223",
   "metadata": {},
   "outputs": [],
   "source": []
  },
  {
   "cell_type": "markdown",
   "id": "5c1038b7",
   "metadata": {},
   "source": [
    "# QUESTION 10 https://archive.ics.uci.edu/"
   ]
  },
  {
   "cell_type": "code",
   "execution_count": 33,
   "id": "7509d4ab",
   "metadata": {},
   "outputs": [],
   "source": [
    "driver=webdriver.Chrome(r'D:\\flip robo\\chromedriver_win32\\chromedriver.exe')"
   ]
  },
  {
   "cell_type": "code",
   "execution_count": 34,
   "id": "49a313b7",
   "metadata": {},
   "outputs": [],
   "source": [
    "url=\"https://archive.ics.uci.edu/\"\n",
    "driver.get(url)"
   ]
  },
  {
   "cell_type": "code",
   "execution_count": 35,
   "id": "45e86631",
   "metadata": {},
   "outputs": [],
   "source": [
    "from selenium.webdriver.common.by import By"
   ]
  },
  {
   "cell_type": "code",
   "execution_count": 36,
   "id": "307394d3",
   "metadata": {},
   "outputs": [],
   "source": [
    "viewall_page=driver.find_element(By.XPATH,'//b[contains(text(),\"View ALL Data Sets\")]')\n",
    "viewall_page.click()"
   ]
  },
  {
   "cell_type": "code",
   "execution_count": 37,
   "id": "9f043da4",
   "metadata": {},
   "outputs": [
    {
     "data": {
      "text/plain": [
       "['Name\\nData Types\\nDefault Task\\nAttribute Types\\n# Instances\\n# Attributes\\nYear',\n",
       " '  Abalone\\nMultivariate \\nClassification \\nCategorical, Integer, Real \\n4177 \\n8 \\n1995 ',\n",
       " '  Adult\\nMultivariate \\nClassification \\nCategorical, Integer \\n48842 \\n14 \\n1996 ',\n",
       " '  Annealing\\nMultivariate \\nClassification \\nCategorical, Integer, Real \\n798 \\n38 \\n ',\n",
       " '  Anonymous Microsoft Web Data\\n  Recommender-Systems \\nCategorical \\n37711 \\n294 \\n1998 ']"
      ]
     },
     "execution_count": 37,
     "metadata": {},
     "output_type": "execute_result"
    }
   ],
   "source": [
    "tablename1=[]\n",
    "tablename=[]\n",
    "Dataset_name=[]\n",
    "Data_type=[]\n",
    "Task=[]\n",
    "Attribute_type=[]\n",
    "No_of_instances=[]\n",
    "No_of_attribute=[]\n",
    "Year=[]\n",
    "tablename_tag=driver.find_elements(By.XPATH,'//table[@border=\"1\"]/tbody/tr')\n",
    "for i in tablename_tag:\n",
    "    tablename1.append(i.text)\n",
    "    Dataset_name.append(i.text.split('\\n')[0])\n",
    "    Data_type.append(i.text.split('\\n')[1])\n",
    "tablename1[:5]\n"
   ]
  },
  {
   "cell_type": "code",
   "execution_count": 38,
   "id": "4a39c804",
   "metadata": {},
   "outputs": [
    {
     "data": {
      "text/plain": [
       "['Name',\n",
       " '  Abalone',\n",
       " '  Adult',\n",
       " '  Annealing',\n",
       " '  Anonymous Microsoft Web Data']"
      ]
     },
     "execution_count": 38,
     "metadata": {},
     "output_type": "execute_result"
    }
   ],
   "source": [
    "Dataset_name[:5]"
   ]
  },
  {
   "cell_type": "code",
   "execution_count": 39,
   "id": "c1fa9167",
   "metadata": {},
   "outputs": [
    {
     "data": {
      "text/plain": [
       "['Data Types',\n",
       " 'Multivariate ',\n",
       " 'Multivariate ',\n",
       " 'Multivariate ',\n",
       " '  Recommender-Systems ']"
      ]
     },
     "execution_count": 39,
     "metadata": {},
     "output_type": "execute_result"
    }
   ],
   "source": [
    "Data_type[:5]"
   ]
  },
  {
   "cell_type": "code",
   "execution_count": 40,
   "id": "77ccb31e",
   "metadata": {},
   "outputs": [
    {
     "data": {
      "text/plain": [
       "['Default Task',\n",
       " 'Classification ',\n",
       " 'Classification ',\n",
       " 'Classification ',\n",
       " 'Recommender-Systems ']"
      ]
     },
     "execution_count": 40,
     "metadata": {},
     "output_type": "execute_result"
    }
   ],
   "source": [
    "default_task=driver.find_elements(By.XPATH,'//tbody/tr/td[3]/p[1]')\n",
    "for i in default_task:\n",
    "    Task.append(i.text)\n",
    "lastelement=Task.pop()\n",
    "Task[:5]"
   ]
  },
  {
   "cell_type": "code",
   "execution_count": 41,
   "id": "9808cce4",
   "metadata": {},
   "outputs": [
    {
     "data": {
      "text/plain": [
       "['Attribute Types',\n",
       " 'Categorical, Integer, Real ',\n",
       " 'Categorical, Integer ',\n",
       " 'Categorical, Integer, Real ',\n",
       " 'Categorical ']"
      ]
     },
     "execution_count": 41,
     "metadata": {},
     "output_type": "execute_result"
    }
   ],
   "source": [
    "attribute_type=driver.find_elements(By.XPATH,'//tbody/tr/td[4]/p[1]')\n",
    "for i in attribute_type:\n",
    "    Attribute_type.append(i.text)\n",
    "Attribute_type[:5]\n",
    "\n",
    "    "
   ]
  },
  {
   "cell_type": "code",
   "execution_count": 42,
   "id": "a21e4c13",
   "metadata": {},
   "outputs": [
    {
     "data": {
      "text/plain": [
       "['# Instances', '4177 ', '48842 ', '798 ', '37711 ']"
      ]
     },
     "execution_count": 42,
     "metadata": {},
     "output_type": "execute_result"
    }
   ],
   "source": [
    "instances_tag=driver.find_elements(By.XPATH,'//tbody/tr/td[5]/p[1]')\n",
    "for i in instances_tag:\n",
    "    No_of_instances.append(i.text)\n",
    "No_of_instances[:5]\n",
    "    "
   ]
  },
  {
   "cell_type": "code",
   "execution_count": 43,
   "id": "853b3ab7",
   "metadata": {},
   "outputs": [
    {
     "data": {
      "text/plain": [
       "['# Attributes', '8 ', '14 ', '38 ', '294 ']"
      ]
     },
     "execution_count": 43,
     "metadata": {},
     "output_type": "execute_result"
    }
   ],
   "source": [
    "attribute_tag=driver.find_elements(By.XPATH,'//tbody/tr/td[6]/p[1]')\n",
    "for i in attribute_tag:\n",
    "    No_of_attribute.append(i.text)\n",
    "No_of_attribute[:5]\n",
    "    \n"
   ]
  },
  {
   "cell_type": "code",
   "execution_count": 44,
   "id": "7cc912e2",
   "metadata": {},
   "outputs": [
    {
     "data": {
      "text/plain": [
       "['Year', '1995 ', '1996 ', ' ', '1998 ']"
      ]
     },
     "execution_count": 44,
     "metadata": {},
     "output_type": "execute_result"
    }
   ],
   "source": [
    "year_tag=driver.find_elements(By.XPATH,'//tbody/tr/td[7]/p[1]')\n",
    "for i in year_tag:\n",
    "    Year.append(i.text)\n",
    "Year[:5]\n",
    "    "
   ]
  },
  {
   "cell_type": "code",
   "execution_count": 45,
   "id": "a85fc7eb",
   "metadata": {},
   "outputs": [],
   "source": [
    "df=pd.DataFrame()"
   ]
  },
  {
   "cell_type": "code",
   "execution_count": 46,
   "id": "080d4bae",
   "metadata": {},
   "outputs": [],
   "source": [
    "df[\"DATA SET\"]=Dataset_name\n",
    "df[\"DATA TYPE\"]=Data_type\n",
    "df[\"TASK\"]=Task\n",
    "df[\"ATTRIBUTE TYPE\"]=Attribute_type\n",
    "df[\"NO OF INSTANCES\"]=No_of_instances\n",
    "df[\"NO OF ATTRIBUTE\"]=No_of_attribute\n",
    "df[\"YEAR\"]=Year"
   ]
  },
  {
   "cell_type": "code",
   "execution_count": 47,
   "id": "ca97f42e",
   "metadata": {},
   "outputs": [
    {
     "data": {
      "text/html": [
       "<div>\n",
       "<style scoped>\n",
       "    .dataframe tbody tr th:only-of-type {\n",
       "        vertical-align: middle;\n",
       "    }\n",
       "\n",
       "    .dataframe tbody tr th {\n",
       "        vertical-align: top;\n",
       "    }\n",
       "\n",
       "    .dataframe thead th {\n",
       "        text-align: right;\n",
       "    }\n",
       "</style>\n",
       "<table border=\"1\" class=\"dataframe\">\n",
       "  <thead>\n",
       "    <tr style=\"text-align: right;\">\n",
       "      <th></th>\n",
       "      <th>DATA SET</th>\n",
       "      <th>DATA TYPE</th>\n",
       "      <th>TASK</th>\n",
       "      <th>ATTRIBUTE TYPE</th>\n",
       "      <th>NO OF INSTANCES</th>\n",
       "      <th>NO OF ATTRIBUTE</th>\n",
       "      <th>YEAR</th>\n",
       "    </tr>\n",
       "  </thead>\n",
       "  <tbody>\n",
       "    <tr>\n",
       "      <th>0</th>\n",
       "      <td>Name</td>\n",
       "      <td>Data Types</td>\n",
       "      <td>Default Task</td>\n",
       "      <td>Attribute Types</td>\n",
       "      <td># Instances</td>\n",
       "      <td># Attributes</td>\n",
       "      <td>Year</td>\n",
       "    </tr>\n",
       "    <tr>\n",
       "      <th>1</th>\n",
       "      <td>Abalone</td>\n",
       "      <td>Multivariate</td>\n",
       "      <td>Classification</td>\n",
       "      <td>Categorical, Integer, Real</td>\n",
       "      <td>4177</td>\n",
       "      <td>8</td>\n",
       "      <td>1995</td>\n",
       "    </tr>\n",
       "    <tr>\n",
       "      <th>2</th>\n",
       "      <td>Adult</td>\n",
       "      <td>Multivariate</td>\n",
       "      <td>Classification</td>\n",
       "      <td>Categorical, Integer</td>\n",
       "      <td>48842</td>\n",
       "      <td>14</td>\n",
       "      <td>1996</td>\n",
       "    </tr>\n",
       "    <tr>\n",
       "      <th>3</th>\n",
       "      <td>Annealing</td>\n",
       "      <td>Multivariate</td>\n",
       "      <td>Classification</td>\n",
       "      <td>Categorical, Integer, Real</td>\n",
       "      <td>798</td>\n",
       "      <td>38</td>\n",
       "      <td></td>\n",
       "    </tr>\n",
       "    <tr>\n",
       "      <th>4</th>\n",
       "      <td>Anonymous Microsoft Web Data</td>\n",
       "      <td>Recommender-Systems</td>\n",
       "      <td>Recommender-Systems</td>\n",
       "      <td>Categorical</td>\n",
       "      <td>37711</td>\n",
       "      <td>294</td>\n",
       "      <td>1998</td>\n",
       "    </tr>\n",
       "    <tr>\n",
       "      <th>...</th>\n",
       "      <td>...</td>\n",
       "      <td>...</td>\n",
       "      <td>...</td>\n",
       "      <td>...</td>\n",
       "      <td>...</td>\n",
       "      <td>...</td>\n",
       "      <td>...</td>\n",
       "    </tr>\n",
       "    <tr>\n",
       "      <th>618</th>\n",
       "      <td>Influenza outbreak event prediction via Twit...</td>\n",
       "      <td>Multivariate</td>\n",
       "      <td>Classification</td>\n",
       "      <td>Integer, Real</td>\n",
       "      <td>75840</td>\n",
       "      <td>525</td>\n",
       "      <td>2020</td>\n",
       "    </tr>\n",
       "    <tr>\n",
       "      <th>619</th>\n",
       "      <td>Turkish Music Emotion Dataset</td>\n",
       "      <td>Multivariate</td>\n",
       "      <td>Classification</td>\n",
       "      <td>Integer, Real</td>\n",
       "      <td>400</td>\n",
       "      <td>50</td>\n",
       "      <td>2020</td>\n",
       "    </tr>\n",
       "    <tr>\n",
       "      <th>620</th>\n",
       "      <td>Maternal Health Risk Data Set</td>\n",
       "      <td>Classification</td>\n",
       "      <td>Classification</td>\n",
       "      <td></td>\n",
       "      <td>1014</td>\n",
       "      <td>7</td>\n",
       "      <td>2020</td>\n",
       "    </tr>\n",
       "    <tr>\n",
       "      <th>621</th>\n",
       "      <td>Room Occupancy Estimation</td>\n",
       "      <td>Multivariate, Time-Series</td>\n",
       "      <td>Classification</td>\n",
       "      <td>Real</td>\n",
       "      <td>10129</td>\n",
       "      <td>16</td>\n",
       "      <td>2021</td>\n",
       "    </tr>\n",
       "    <tr>\n",
       "      <th>622</th>\n",
       "      <td>Image Recognition Task Execution Times in Mo...</td>\n",
       "      <td>Univariate</td>\n",
       "      <td>Regression</td>\n",
       "      <td>Real</td>\n",
       "      <td>4000</td>\n",
       "      <td>2</td>\n",
       "      <td>2021</td>\n",
       "    </tr>\n",
       "  </tbody>\n",
       "</table>\n",
       "<p>623 rows × 7 columns</p>\n",
       "</div>"
      ],
      "text/plain": [
       "                                              DATA SET  \\\n",
       "0                                                 Name   \n",
       "1                                              Abalone   \n",
       "2                                                Adult   \n",
       "3                                            Annealing   \n",
       "4                         Anonymous Microsoft Web Data   \n",
       "..                                                 ...   \n",
       "618    Influenza outbreak event prediction via Twit...   \n",
       "619                      Turkish Music Emotion Dataset   \n",
       "620                      Maternal Health Risk Data Set   \n",
       "621                          Room Occupancy Estimation   \n",
       "622    Image Recognition Task Execution Times in Mo...   \n",
       "\n",
       "                      DATA TYPE                  TASK  \\\n",
       "0                    Data Types          Default Task   \n",
       "1                 Multivariate        Classification    \n",
       "2                 Multivariate        Classification    \n",
       "3                 Multivariate        Classification    \n",
       "4          Recommender-Systems   Recommender-Systems    \n",
       "..                          ...                   ...   \n",
       "618               Multivariate        Classification    \n",
       "619               Multivariate        Classification    \n",
       "620             Classification        Classification    \n",
       "621  Multivariate, Time-Series        Classification    \n",
       "622                 Univariate            Regression    \n",
       "\n",
       "                  ATTRIBUTE TYPE NO OF INSTANCES NO OF ATTRIBUTE   YEAR  \n",
       "0                Attribute Types     # Instances    # Attributes   Year  \n",
       "1    Categorical, Integer, Real            4177               8   1995   \n",
       "2          Categorical, Integer           48842              14   1996   \n",
       "3    Categorical, Integer, Real             798              38          \n",
       "4                   Categorical           37711             294   1998   \n",
       "..                           ...             ...             ...    ...  \n",
       "618               Integer, Real           75840             525   2020   \n",
       "619               Integer, Real             400              50   2020   \n",
       "620                                        1014               7   2020   \n",
       "621                        Real           10129              16   2021   \n",
       "622                        Real            4000               2   2021   \n",
       "\n",
       "[623 rows x 7 columns]"
      ]
     },
     "execution_count": 47,
     "metadata": {},
     "output_type": "execute_result"
    }
   ],
   "source": [
    "df"
   ]
  },
  {
   "cell_type": "code",
   "execution_count": null,
   "id": "3e414143",
   "metadata": {},
   "outputs": [],
   "source": []
  },
  {
   "cell_type": "code",
   "execution_count": null,
   "id": "26008fa4",
   "metadata": {},
   "outputs": [],
   "source": []
  }
 ],
 "metadata": {
  "kernelspec": {
   "display_name": "Python 3 (ipykernel)",
   "language": "python",
   "name": "python3"
  },
  "language_info": {
   "codemirror_mode": {
    "name": "ipython",
    "version": 3
   },
   "file_extension": ".py",
   "mimetype": "text/x-python",
   "name": "python",
   "nbconvert_exporter": "python",
   "pygments_lexer": "ipython3",
   "version": "3.9.7"
  }
 },
 "nbformat": 4,
 "nbformat_minor": 5
}
