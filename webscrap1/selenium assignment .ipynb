{
 "cells": [
  {
   "cell_type": "markdown",
   "id": "c6456dab",
   "metadata": {},
   "source": [
    "# Data Analyst"
   ]
  },
  {
   "cell_type": "code",
   "execution_count": 1,
   "id": "613b239f",
   "metadata": {},
   "outputs": [],
   "source": [
    "import selenium\n",
    "from selenium import webdriver\n",
    "import pandas as pd\n",
    "import warnings\n",
    "warnings.filterwarnings(\"ignore\")"
   ]
  },
  {
   "cell_type": "code",
   "execution_count": 4,
   "id": "36249547",
   "metadata": {},
   "outputs": [],
   "source": [
    "driver=webdriver.Chrome('chromedriver.exe')"
   ]
  },
  {
   "cell_type": "code",
   "execution_count": 5,
   "id": "82c28b7a",
   "metadata": {},
   "outputs": [],
   "source": [
    "url=\"https://www.naukri.com/\"\n",
    "driver.get(url)"
   ]
  },
  {
   "cell_type": "code",
   "execution_count": 6,
   "id": "934d4ad8",
   "metadata": {},
   "outputs": [],
   "source": [
    "from selenium.webdriver.common.by import By"
   ]
  },
  {
   "cell_type": "code",
   "execution_count": 7,
   "id": "62b0da99",
   "metadata": {},
   "outputs": [
    {
     "data": {
      "text/plain": [
       "<selenium.webdriver.remote.webelement.WebElement (session=\"aea6078efc0917c19e2b698083edc40f\", element=\"572fd494-9974-4cfd-84c6-cabcf749df50\")>"
      ]
     },
     "execution_count": 7,
     "metadata": {},
     "output_type": "execute_result"
    }
   ],
   "source": [
    "search_job = driver.find_element(By.CLASS_NAME,\"suggestor-input\")\n",
    "search_job"
   ]
  },
  {
   "cell_type": "code",
   "execution_count": 9,
   "id": "505abeb6",
   "metadata": {},
   "outputs": [],
   "source": [
    "search_job.send_keys(\"Data analyst\")"
   ]
  },
  {
   "cell_type": "code",
   "execution_count": 10,
   "id": "a4196463",
   "metadata": {},
   "outputs": [
    {
     "data": {
      "text/plain": [
       "<selenium.webdriver.remote.webelement.WebElement (session=\"aea6078efc0917c19e2b698083edc40f\", element=\"641af796-a28f-4d3e-84f0-34017be4fc52\")>"
      ]
     },
     "execution_count": 10,
     "metadata": {},
     "output_type": "execute_result"
    }
   ],
   "source": [
    "search_locn=driver.find_element(By.XPATH,'/html/body/div[1]/div[2]/div[3]/div/div/div[5]/div/div/div/input')\n",
    "search_locn"
   ]
  },
  {
   "cell_type": "code",
   "execution_count": 11,
   "id": "b96d36ea",
   "metadata": {},
   "outputs": [],
   "source": [
    "search_locn.send_keys(\"Bangalore\")"
   ]
  },
  {
   "cell_type": "code",
   "execution_count": 12,
   "id": "4fffefc8",
   "metadata": {},
   "outputs": [
    {
     "data": {
      "text/plain": [
       "<selenium.webdriver.remote.webelement.WebElement (session=\"aea6078efc0917c19e2b698083edc40f\", element=\"28a3fc58-7617-4d61-85fd-f1964ba5c08c\")>"
      ]
     },
     "execution_count": 12,
     "metadata": {},
     "output_type": "execute_result"
    }
   ],
   "source": [
    "search_btn=driver.find_element(By.XPATH,'/html/body/div[1]/div[2]/div[3]/div/div/div[6]')\n",
    "search_btn"
   ]
  },
  {
   "cell_type": "code",
   "execution_count": 13,
   "id": "05162d83",
   "metadata": {},
   "outputs": [],
   "source": [
    "search_btn.click()"
   ]
  },
  {
   "cell_type": "code",
   "execution_count": 14,
   "id": "ca8d26b7",
   "metadata": {},
   "outputs": [],
   "source": [
    "title_tag=driver.find_elements(By.XPATH,'//a[@class=\"title fw500 ellipsis\"]')"
   ]
  },
  {
   "cell_type": "code",
   "execution_count": 15,
   "id": "24ea5217",
   "metadata": {},
   "outputs": [],
   "source": [
    "job_title=[]\n",
    "for i in title_tag:\n",
    "    job_title.append(i.text)"
   ]
  },
  {
   "cell_type": "code",
   "execution_count": 17,
   "id": "7fdba433",
   "metadata": {},
   "outputs": [
    {
     "data": {
      "text/plain": [
       "['Sr.Business Data Analyst',\n",
       " 'Sr Data Analyst',\n",
       " 'Senior Data Analysis Analyst',\n",
       " 'Data Analyst',\n",
       " 'Data Analyst/Senior Data Analyst',\n",
       " 'Financial Data Analyst',\n",
       " 'Data Analyst II',\n",
       " 'Senior Data Analyst II',\n",
       " 'Senior Data Management Analyst',\n",
       " 'Data Analyst - CRM Platform']"
      ]
     },
     "execution_count": 17,
     "metadata": {},
     "output_type": "execute_result"
    }
   ],
   "source": [
    "job_title[:10]"
   ]
  },
  {
   "cell_type": "code",
   "execution_count": 33,
   "id": "e69105d1",
   "metadata": {},
   "outputs": [],
   "source": [
    "locn_tag=driver.find_elements(By.XPATH,'//li[@class=\"fleft grey-text br2 placeHolderLi location\"]')"
   ]
  },
  {
   "cell_type": "code",
   "execution_count": 34,
   "id": "7e864745",
   "metadata": {},
   "outputs": [],
   "source": [
    "job_locn=[]\n",
    "for i in locn_tag:\n",
    "    job_locn.append(i.text)"
   ]
  },
  {
   "cell_type": "code",
   "execution_count": 36,
   "id": "8b9a9bdf",
   "metadata": {},
   "outputs": [
    {
     "data": {
      "text/plain": [
       "['Bangalore/Bengaluru, karnataka\\n(WFH during Covid)',\n",
       " 'Bangalore/Bengaluru',\n",
       " 'Bangalore/Bengaluru, Pune, Chennai',\n",
       " 'Bangalore/Bengaluru',\n",
       " 'Bangalore/Bengaluru',\n",
       " 'Bangalore/Bengaluru',\n",
       " 'Bangalore/Bengaluru',\n",
       " 'Bangalore/Bengaluru',\n",
       " 'Bangalore/Bengaluru',\n",
       " 'Bangalore/Bengaluru, Mumbai, Hyderabad/Secunderabad, Pune, Chennai, Ahmedabad']"
      ]
     },
     "execution_count": 36,
     "metadata": {},
     "output_type": "execute_result"
    }
   ],
   "source": [
    "job_locn[:10]"
   ]
  },
  {
   "cell_type": "code",
   "execution_count": 37,
   "id": "b73aceed",
   "metadata": {},
   "outputs": [],
   "source": [
    "comp_name=driver.find_elements(By.XPATH,'//a[@class=\"subTitle ellipsis fleft\"]')"
   ]
  },
  {
   "cell_type": "code",
   "execution_count": 38,
   "id": "6ad20049",
   "metadata": {},
   "outputs": [],
   "source": [
    "company=[]\n",
    "for i in comp_name:\n",
    "    company.append(i.text)"
   ]
  },
  {
   "cell_type": "code",
   "execution_count": 39,
   "id": "b86f47be",
   "metadata": {},
   "outputs": [
    {
     "data": {
      "text/plain": [
       "['Collabera',\n",
       " 'Thomson Reuters',\n",
       " 'Capco',\n",
       " 'Thomson Reuters',\n",
       " 'Meesho',\n",
       " 'Nuance India',\n",
       " 'Cerner',\n",
       " 'Flipkart',\n",
       " 'Wells Fargo',\n",
       " 'Artech infosystem']"
      ]
     },
     "execution_count": 39,
     "metadata": {},
     "output_type": "execute_result"
    }
   ],
   "source": [
    "company[:10]"
   ]
  },
  {
   "cell_type": "code",
   "execution_count": 62,
   "id": "08519d05",
   "metadata": {},
   "outputs": [],
   "source": [
    "exp_tag=driver.find_elements(By.XPATH,'//li[@class=\"fleft grey-text br2 placeHolderLi experience\"]')"
   ]
  },
  {
   "cell_type": "code",
   "execution_count": 63,
   "id": "3a474b81",
   "metadata": {},
   "outputs": [],
   "source": [
    "exp=[]\n",
    "for i in exp_tag:\n",
    "    exp.append(i.text)\n",
    "    len(exp)"
   ]
  },
  {
   "cell_type": "code",
   "execution_count": 65,
   "id": "7a285c1b",
   "metadata": {},
   "outputs": [
    {
     "data": {
      "text/plain": [
       "['6-11 Yrs',\n",
       " '5-8 Yrs',\n",
       " '7-12 Yrs',\n",
       " '2-3 Yrs',\n",
       " '3-6 Yrs',\n",
       " '3-8 Yrs',\n",
       " '2-4 Yrs',\n",
       " '3-6 Yrs',\n",
       " '4-7 Yrs',\n",
       " '1-6 Yrs']"
      ]
     },
     "execution_count": 65,
     "metadata": {},
     "output_type": "execute_result"
    }
   ],
   "source": [
    "exp[:10]"
   ]
  },
  {
   "cell_type": "code",
   "execution_count": 67,
   "id": "ae569ed6",
   "metadata": {},
   "outputs": [],
   "source": [
    "jobs=pd.DataFrame()\n",
    "jobs['Job Title']=job_title\n",
    "jobs['Job Location']=job_locn\n",
    "jobs['Company Name']=company\n",
    "jobs['Experience']=exp"
   ]
  },
  {
   "cell_type": "code",
   "execution_count": 69,
   "id": "5bec4d59",
   "metadata": {},
   "outputs": [
    {
     "data": {
      "text/html": [
       "<div>\n",
       "<style scoped>\n",
       "    .dataframe tbody tr th:only-of-type {\n",
       "        vertical-align: middle;\n",
       "    }\n",
       "\n",
       "    .dataframe tbody tr th {\n",
       "        vertical-align: top;\n",
       "    }\n",
       "\n",
       "    .dataframe thead th {\n",
       "        text-align: right;\n",
       "    }\n",
       "</style>\n",
       "<table border=\"1\" class=\"dataframe\">\n",
       "  <thead>\n",
       "    <tr style=\"text-align: right;\">\n",
       "      <th></th>\n",
       "      <th>Job Title</th>\n",
       "      <th>Job Location</th>\n",
       "      <th>Company Name</th>\n",
       "      <th>Experience</th>\n",
       "    </tr>\n",
       "  </thead>\n",
       "  <tbody>\n",
       "    <tr>\n",
       "      <th>0</th>\n",
       "      <td>Sr.Business Data Analyst</td>\n",
       "      <td>Bangalore/Bengaluru, karnataka\\n(WFH during Co...</td>\n",
       "      <td>Collabera</td>\n",
       "      <td>6-11 Yrs</td>\n",
       "    </tr>\n",
       "    <tr>\n",
       "      <th>1</th>\n",
       "      <td>Sr Data Analyst</td>\n",
       "      <td>Bangalore/Bengaluru</td>\n",
       "      <td>Thomson Reuters</td>\n",
       "      <td>5-8 Yrs</td>\n",
       "    </tr>\n",
       "    <tr>\n",
       "      <th>2</th>\n",
       "      <td>Senior Data Analysis Analyst</td>\n",
       "      <td>Bangalore/Bengaluru, Pune, Chennai</td>\n",
       "      <td>Capco</td>\n",
       "      <td>7-12 Yrs</td>\n",
       "    </tr>\n",
       "    <tr>\n",
       "      <th>3</th>\n",
       "      <td>Data Analyst</td>\n",
       "      <td>Bangalore/Bengaluru</td>\n",
       "      <td>Thomson Reuters</td>\n",
       "      <td>2-3 Yrs</td>\n",
       "    </tr>\n",
       "    <tr>\n",
       "      <th>4</th>\n",
       "      <td>Data Analyst/Senior Data Analyst</td>\n",
       "      <td>Bangalore/Bengaluru</td>\n",
       "      <td>Meesho</td>\n",
       "      <td>3-6 Yrs</td>\n",
       "    </tr>\n",
       "    <tr>\n",
       "      <th>5</th>\n",
       "      <td>Financial Data Analyst</td>\n",
       "      <td>Bangalore/Bengaluru</td>\n",
       "      <td>Nuance India</td>\n",
       "      <td>3-8 Yrs</td>\n",
       "    </tr>\n",
       "    <tr>\n",
       "      <th>6</th>\n",
       "      <td>Data Analyst II</td>\n",
       "      <td>Bangalore/Bengaluru</td>\n",
       "      <td>Cerner</td>\n",
       "      <td>2-4 Yrs</td>\n",
       "    </tr>\n",
       "    <tr>\n",
       "      <th>7</th>\n",
       "      <td>Senior Data Analyst II</td>\n",
       "      <td>Bangalore/Bengaluru</td>\n",
       "      <td>Flipkart</td>\n",
       "      <td>3-6 Yrs</td>\n",
       "    </tr>\n",
       "    <tr>\n",
       "      <th>8</th>\n",
       "      <td>Senior Data Management Analyst</td>\n",
       "      <td>Bangalore/Bengaluru</td>\n",
       "      <td>Wells Fargo</td>\n",
       "      <td>4-7 Yrs</td>\n",
       "    </tr>\n",
       "    <tr>\n",
       "      <th>9</th>\n",
       "      <td>Data Analyst - CRM Platform</td>\n",
       "      <td>Bangalore/Bengaluru, Mumbai, Hyderabad/Secunde...</td>\n",
       "      <td>Artech infosystem</td>\n",
       "      <td>1-6 Yrs</td>\n",
       "    </tr>\n",
       "  </tbody>\n",
       "</table>\n",
       "</div>"
      ],
      "text/plain": [
       "                          Job Title  \\\n",
       "0          Sr.Business Data Analyst   \n",
       "1                   Sr Data Analyst   \n",
       "2      Senior Data Analysis Analyst   \n",
       "3                      Data Analyst   \n",
       "4  Data Analyst/Senior Data Analyst   \n",
       "5            Financial Data Analyst   \n",
       "6                   Data Analyst II   \n",
       "7            Senior Data Analyst II   \n",
       "8    Senior Data Management Analyst   \n",
       "9       Data Analyst - CRM Platform   \n",
       "\n",
       "                                        Job Location       Company Name  \\\n",
       "0  Bangalore/Bengaluru, karnataka\\n(WFH during Co...          Collabera   \n",
       "1                                Bangalore/Bengaluru    Thomson Reuters   \n",
       "2                 Bangalore/Bengaluru, Pune, Chennai              Capco   \n",
       "3                                Bangalore/Bengaluru    Thomson Reuters   \n",
       "4                                Bangalore/Bengaluru             Meesho   \n",
       "5                                Bangalore/Bengaluru       Nuance India   \n",
       "6                                Bangalore/Bengaluru             Cerner   \n",
       "7                                Bangalore/Bengaluru           Flipkart   \n",
       "8                                Bangalore/Bengaluru        Wells Fargo   \n",
       "9  Bangalore/Bengaluru, Mumbai, Hyderabad/Secunde...  Artech infosystem   \n",
       "\n",
       "  Experience  \n",
       "0   6-11 Yrs  \n",
       "1    5-8 Yrs  \n",
       "2   7-12 Yrs  \n",
       "3    2-3 Yrs  \n",
       "4    3-6 Yrs  \n",
       "5    3-8 Yrs  \n",
       "6    2-4 Yrs  \n",
       "7    3-6 Yrs  \n",
       "8    4-7 Yrs  \n",
       "9    1-6 Yrs  "
      ]
     },
     "execution_count": 69,
     "metadata": {},
     "output_type": "execute_result"
    }
   ],
   "source": [
    "jobs[:10]"
   ]
  },
  {
   "cell_type": "markdown",
   "id": "3a896881",
   "metadata": {},
   "source": [
    "# Data Scientist/Bangalore\n"
   ]
  },
  {
   "cell_type": "code",
   "execution_count": null,
   "id": "5c04f9d4",
   "metadata": {},
   "outputs": [],
   "source": [
    "import selenium\n",
    "from selenium import webdriver\n",
    "import pandas as pd\n",
    "import warnings\n",
    "warnings.filterwarnings(\"ignore\")"
   ]
  },
  {
   "cell_type": "code",
   "execution_count": 87,
   "id": "309c7f5b",
   "metadata": {},
   "outputs": [],
   "source": [
    "driver=webdriver.Chrome('chromedriver.exe')"
   ]
  },
  {
   "cell_type": "code",
   "execution_count": 88,
   "id": "c541238b",
   "metadata": {},
   "outputs": [],
   "source": [
    "url=\"https://www.naukri.com/\"\n",
    "driver.get(url)"
   ]
  },
  {
   "cell_type": "code",
   "execution_count": 89,
   "id": "fd3cf180",
   "metadata": {},
   "outputs": [],
   "source": [
    "from selenium.webdriver.common.by import By"
   ]
  },
  {
   "cell_type": "code",
   "execution_count": 90,
   "id": "6dcc4d17",
   "metadata": {},
   "outputs": [
    {
     "data": {
      "text/plain": [
       "<selenium.webdriver.remote.webelement.WebElement (session=\"1ce725fdd626bbcc23b53439b1aa3049\", element=\"e3578ed0-faf8-4e71-b23a-529c8f5fc1b1\")>"
      ]
     },
     "execution_count": 90,
     "metadata": {},
     "output_type": "execute_result"
    }
   ],
   "source": [
    "search_job = driver.find_element(By.CLASS_NAME,\"suggestor-input\")\n",
    "search_job"
   ]
  },
  {
   "cell_type": "code",
   "execution_count": 91,
   "id": "32b711e5",
   "metadata": {},
   "outputs": [],
   "source": [
    "search_job.send_keys(\"Data scientist\")"
   ]
  },
  {
   "cell_type": "code",
   "execution_count": 92,
   "id": "532af0c9",
   "metadata": {},
   "outputs": [
    {
     "data": {
      "text/plain": [
       "<selenium.webdriver.remote.webelement.WebElement (session=\"1ce725fdd626bbcc23b53439b1aa3049\", element=\"c3dcbc46-7f8c-431b-8aff-0696f2ed177c\")>"
      ]
     },
     "execution_count": 92,
     "metadata": {},
     "output_type": "execute_result"
    }
   ],
   "source": [
    "search_locn=driver.find_element(By.XPATH,'/html/body/div[1]/div[2]/div[3]/div/div/div[5]/div/div/div/input')\n",
    "search_locn"
   ]
  },
  {
   "cell_type": "code",
   "execution_count": 93,
   "id": "940930a7",
   "metadata": {},
   "outputs": [],
   "source": [
    "search_locn.send_keys(\"Bangalore\")"
   ]
  },
  {
   "cell_type": "code",
   "execution_count": 94,
   "id": "290bb7bc",
   "metadata": {},
   "outputs": [
    {
     "data": {
      "text/plain": [
       "<selenium.webdriver.remote.webelement.WebElement (session=\"1ce725fdd626bbcc23b53439b1aa3049\", element=\"697ddc50-580f-4a3e-8812-a9a7fa65add5\")>"
      ]
     },
     "execution_count": 94,
     "metadata": {},
     "output_type": "execute_result"
    }
   ],
   "source": [
    "search_btn=driver.find_element(By.XPATH,'/html/body/div[1]/div[2]/div[3]/div/div/div[6]')\n",
    "search_btn"
   ]
  },
  {
   "cell_type": "code",
   "execution_count": 95,
   "id": "c8a19e09",
   "metadata": {},
   "outputs": [],
   "source": [
    "search_btn.click()"
   ]
  },
  {
   "cell_type": "code",
   "execution_count": 103,
   "id": "e468caf4",
   "metadata": {},
   "outputs": [],
   "source": [
    "title_tag=driver.find_elements(By.XPATH,'//a[@class=\"title fw500 ellipsis\"]')"
   ]
  },
  {
   "cell_type": "code",
   "execution_count": 104,
   "id": "affb638f",
   "metadata": {},
   "outputs": [],
   "source": [
    "job_title=[]\n",
    "for i in title_tag:\n",
    "    job_title.append(i.text)"
   ]
  },
  {
   "cell_type": "code",
   "execution_count": 106,
   "id": "cf95b243",
   "metadata": {},
   "outputs": [
    {
     "data": {
      "text/plain": [
       "['Urgent Job Opening For AI Practitioner - Data Science at Wipro Holmes',\n",
       " 'Dataiku Consultant',\n",
       " 'Data Scientist: Advanced Analytics',\n",
       " 'Research Scientist',\n",
       " 'Data Science - Senior Data Scientist - Analytics',\n",
       " 'Principal - Data Scientist',\n",
       " 'Research and Development -AI/ML -(PhD )',\n",
       " 'Opportunity For Data Scientist - Female Candidates ONLY',\n",
       " 'Senior Data Science Engineer',\n",
       " 'Data Science - Engineering Manager']"
      ]
     },
     "execution_count": 106,
     "metadata": {},
     "output_type": "execute_result"
    }
   ],
   "source": [
    "job_title[:10]"
   ]
  },
  {
   "cell_type": "code",
   "execution_count": 107,
   "id": "c62b934b",
   "metadata": {},
   "outputs": [],
   "source": [
    "locn_tag=driver.find_elements(By.XPATH,'//li[@class=\"fleft grey-text br2 placeHolderLi location\"]')"
   ]
  },
  {
   "cell_type": "code",
   "execution_count": 108,
   "id": "0516f0bf",
   "metadata": {},
   "outputs": [],
   "source": [
    "job_locn=[]\n",
    "for i in locn_tag:\n",
    "    job_locn.append(i.text)"
   ]
  },
  {
   "cell_type": "code",
   "execution_count": 109,
   "id": "9bc245d2",
   "metadata": {},
   "outputs": [
    {
     "data": {
      "text/plain": [
       "['Bangalore/Bengaluru, Kochi/Cochin, New Delhi, Coimbatore, Chennai, Pune, Mumbai, Hyderabad',\n",
       " 'Bangalore/Bengaluru, Pune, Chennai',\n",
       " 'Bangalore/Bengaluru',\n",
       " 'Bangalore/Bengaluru',\n",
       " 'Bangalore/Bengaluru, Noida',\n",
       " 'Bangalore/Bengaluru',\n",
       " 'Bangalore/Bengaluru, Noida, Hyderabad/Secunderabad, Pune, Gurgaon/Gurugram, Chennai, Delhi / NCR',\n",
       " 'Bangalore/Bengaluru, Gurgaon/Gurugram, Mumbai (All Areas)',\n",
       " 'Bangalore/Bengaluru, Gurgaon/Gurugram, Mumbai (All Areas)',\n",
       " 'Bangalore/Bengaluru, Noida, Mumbai']"
      ]
     },
     "execution_count": 109,
     "metadata": {},
     "output_type": "execute_result"
    }
   ],
   "source": [
    "job_locn[:10]"
   ]
  },
  {
   "cell_type": "code",
   "execution_count": 110,
   "id": "57ae0d7d",
   "metadata": {},
   "outputs": [],
   "source": [
    "comp_name=driver.find_elements(By.XPATH,'//a[@class=\"subTitle ellipsis fleft\"]')\n"
   ]
  },
  {
   "cell_type": "code",
   "execution_count": 111,
   "id": "86f4466d",
   "metadata": {},
   "outputs": [],
   "source": [
    "company=[]\n",
    "for i in comp_name:\n",
    "    company.append(i.text)"
   ]
  },
  {
   "cell_type": "code",
   "execution_count": 112,
   "id": "76d8eec7",
   "metadata": {},
   "outputs": [
    {
     "data": {
      "text/plain": [
       "['Wipro',\n",
       " 'Wipro',\n",
       " 'IBM',\n",
       " 'IBM',\n",
       " 'Paytm',\n",
       " 'Schneider Electric',\n",
       " 'EXL',\n",
       " 'PayU',\n",
       " 'Fractal Analytics',\n",
       " 'Paytm']"
      ]
     },
     "execution_count": 112,
     "metadata": {},
     "output_type": "execute_result"
    }
   ],
   "source": [
    "company[:10]"
   ]
  },
  {
   "cell_type": "code",
   "execution_count": 113,
   "id": "e2c5ae2f",
   "metadata": {},
   "outputs": [],
   "source": [
    "jobs=pd.DataFrame()\n",
    "jobs['Job Title']=job_title\n",
    "jobs['Job Location']=job_locn\n",
    "jobs['Company Name']=company"
   ]
  },
  {
   "cell_type": "code",
   "execution_count": 115,
   "id": "7f585366",
   "metadata": {},
   "outputs": [
    {
     "data": {
      "text/html": [
       "<div>\n",
       "<style scoped>\n",
       "    .dataframe tbody tr th:only-of-type {\n",
       "        vertical-align: middle;\n",
       "    }\n",
       "\n",
       "    .dataframe tbody tr th {\n",
       "        vertical-align: top;\n",
       "    }\n",
       "\n",
       "    .dataframe thead th {\n",
       "        text-align: right;\n",
       "    }\n",
       "</style>\n",
       "<table border=\"1\" class=\"dataframe\">\n",
       "  <thead>\n",
       "    <tr style=\"text-align: right;\">\n",
       "      <th></th>\n",
       "      <th>Job Title</th>\n",
       "      <th>Job Location</th>\n",
       "      <th>Company Name</th>\n",
       "    </tr>\n",
       "  </thead>\n",
       "  <tbody>\n",
       "    <tr>\n",
       "      <th>0</th>\n",
       "      <td>Urgent Job Opening For AI Practitioner - Data ...</td>\n",
       "      <td>Bangalore/Bengaluru, Kochi/Cochin, New Delhi, ...</td>\n",
       "      <td>Wipro</td>\n",
       "    </tr>\n",
       "    <tr>\n",
       "      <th>1</th>\n",
       "      <td>Dataiku Consultant</td>\n",
       "      <td>Bangalore/Bengaluru, Pune, Chennai</td>\n",
       "      <td>Wipro</td>\n",
       "    </tr>\n",
       "    <tr>\n",
       "      <th>2</th>\n",
       "      <td>Data Scientist: Advanced Analytics</td>\n",
       "      <td>Bangalore/Bengaluru</td>\n",
       "      <td>IBM</td>\n",
       "    </tr>\n",
       "    <tr>\n",
       "      <th>3</th>\n",
       "      <td>Research Scientist</td>\n",
       "      <td>Bangalore/Bengaluru</td>\n",
       "      <td>IBM</td>\n",
       "    </tr>\n",
       "    <tr>\n",
       "      <th>4</th>\n",
       "      <td>Data Science - Senior Data Scientist - Analytics</td>\n",
       "      <td>Bangalore/Bengaluru, Noida</td>\n",
       "      <td>Paytm</td>\n",
       "    </tr>\n",
       "    <tr>\n",
       "      <th>5</th>\n",
       "      <td>Principal - Data Scientist</td>\n",
       "      <td>Bangalore/Bengaluru</td>\n",
       "      <td>Schneider Electric</td>\n",
       "    </tr>\n",
       "    <tr>\n",
       "      <th>6</th>\n",
       "      <td>Research and Development -AI/ML -(PhD )</td>\n",
       "      <td>Bangalore/Bengaluru, Noida, Hyderabad/Secunder...</td>\n",
       "      <td>EXL</td>\n",
       "    </tr>\n",
       "    <tr>\n",
       "      <th>7</th>\n",
       "      <td>Opportunity For Data Scientist - Female Candid...</td>\n",
       "      <td>Bangalore/Bengaluru, Gurgaon/Gurugram, Mumbai ...</td>\n",
       "      <td>PayU</td>\n",
       "    </tr>\n",
       "    <tr>\n",
       "      <th>8</th>\n",
       "      <td>Senior Data Science Engineer</td>\n",
       "      <td>Bangalore/Bengaluru, Gurgaon/Gurugram, Mumbai ...</td>\n",
       "      <td>Fractal Analytics</td>\n",
       "    </tr>\n",
       "    <tr>\n",
       "      <th>9</th>\n",
       "      <td>Data Science - Engineering Manager</td>\n",
       "      <td>Bangalore/Bengaluru, Noida, Mumbai</td>\n",
       "      <td>Paytm</td>\n",
       "    </tr>\n",
       "  </tbody>\n",
       "</table>\n",
       "</div>"
      ],
      "text/plain": [
       "                                           Job Title  \\\n",
       "0  Urgent Job Opening For AI Practitioner - Data ...   \n",
       "1                                 Dataiku Consultant   \n",
       "2                 Data Scientist: Advanced Analytics   \n",
       "3                                 Research Scientist   \n",
       "4   Data Science - Senior Data Scientist - Analytics   \n",
       "5                         Principal - Data Scientist   \n",
       "6            Research and Development -AI/ML -(PhD )   \n",
       "7  Opportunity For Data Scientist - Female Candid...   \n",
       "8                       Senior Data Science Engineer   \n",
       "9                 Data Science - Engineering Manager   \n",
       "\n",
       "                                        Job Location        Company Name  \n",
       "0  Bangalore/Bengaluru, Kochi/Cochin, New Delhi, ...               Wipro  \n",
       "1                 Bangalore/Bengaluru, Pune, Chennai               Wipro  \n",
       "2                                Bangalore/Bengaluru                 IBM  \n",
       "3                                Bangalore/Bengaluru                 IBM  \n",
       "4                         Bangalore/Bengaluru, Noida               Paytm  \n",
       "5                                Bangalore/Bengaluru  Schneider Electric  \n",
       "6  Bangalore/Bengaluru, Noida, Hyderabad/Secunder...                 EXL  \n",
       "7  Bangalore/Bengaluru, Gurgaon/Gurugram, Mumbai ...                PayU  \n",
       "8  Bangalore/Bengaluru, Gurgaon/Gurugram, Mumbai ...   Fractal Analytics  \n",
       "9                 Bangalore/Bengaluru, Noida, Mumbai               Paytm  "
      ]
     },
     "execution_count": 115,
     "metadata": {},
     "output_type": "execute_result"
    }
   ],
   "source": [
    "jobs[:10]"
   ]
  },
  {
   "cell_type": "markdown",
   "id": "bbbfccac",
   "metadata": {},
   "source": [
    "# Filter Search\n"
   ]
  },
  {
   "cell_type": "code",
   "execution_count": 1,
   "id": "ea63f23f",
   "metadata": {},
   "outputs": [],
   "source": [
    "import selenium\n",
    "from selenium import webdriver\n",
    "import pandas as pd\n",
    "import warnings\n",
    "warnings.filterwarnings(\"ignore\")"
   ]
  },
  {
   "cell_type": "code",
   "execution_count": 2,
   "id": "dea601e3",
   "metadata": {},
   "outputs": [],
   "source": [
    "driver=webdriver.Chrome('chromedriver.exe')"
   ]
  },
  {
   "cell_type": "code",
   "execution_count": 3,
   "id": "a0a9a038",
   "metadata": {},
   "outputs": [],
   "source": [
    "url=\"https://www.naukri.com/\"\n",
    "driver.get(url)"
   ]
  },
  {
   "cell_type": "code",
   "execution_count": 4,
   "id": "e1da598f",
   "metadata": {},
   "outputs": [],
   "source": [
    "from selenium.webdriver.common.by import By"
   ]
  },
  {
   "cell_type": "code",
   "execution_count": 5,
   "id": "2fd14882",
   "metadata": {},
   "outputs": [
    {
     "data": {
      "text/plain": [
       "<selenium.webdriver.remote.webelement.WebElement (session=\"f71a6d371a2b658492dcab5e2b032ac5\", element=\"45239e2c-4bf4-46e5-8d24-e284288d7fc6\")>"
      ]
     },
     "execution_count": 5,
     "metadata": {},
     "output_type": "execute_result"
    }
   ],
   "source": [
    "search_job = driver.find_element(By.CLASS_NAME,\"suggestor-input\")\n",
    "search_job"
   ]
  },
  {
   "cell_type": "code",
   "execution_count": 6,
   "id": "f6dc01ea",
   "metadata": {},
   "outputs": [],
   "source": [
    "search_job.send_keys(\"Data scientist\")"
   ]
  },
  {
   "cell_type": "code",
   "execution_count": 7,
   "id": "8f12022d",
   "metadata": {},
   "outputs": [
    {
     "data": {
      "text/plain": [
       "<selenium.webdriver.remote.webelement.WebElement (session=\"f71a6d371a2b658492dcab5e2b032ac5\", element=\"f9797325-3877-4219-ba8c-cacd4825547c\")>"
      ]
     },
     "execution_count": 7,
     "metadata": {},
     "output_type": "execute_result"
    }
   ],
   "source": [
    "search_btn=driver.find_element(By.XPATH,'/html/body/div[1]/div[2]/div[3]/div/div/div[6]')\n",
    "search_btn"
   ]
  },
  {
   "cell_type": "code",
   "execution_count": 8,
   "id": "90cb161f",
   "metadata": {},
   "outputs": [],
   "source": [
    "search_btn.click()"
   ]
  },
  {
   "cell_type": "code",
   "execution_count": 11,
   "id": "5ec5f39b",
   "metadata": {},
   "outputs": [],
   "source": [
    "locn_check=driver.find_element(By.XPATH,'/html/body/div[1]/div[3]/div[2]/section[1]/div[2]/div[6]/div[2]/div[2]/label/i')"
   ]
  },
  {
   "cell_type": "code",
   "execution_count": 12,
   "id": "48440346",
   "metadata": {},
   "outputs": [],
   "source": [
    "locn_check.click()"
   ]
  },
  {
   "cell_type": "code",
   "execution_count": 9,
   "id": "c5637d72",
   "metadata": {},
   "outputs": [],
   "source": [
    "salary_check=driver.find_element(By.XPATH,'/html/body/div[1]/div[3]/div[2]/section[1]/div[2]/div[6]/div[2]/div[1]/label/i')"
   ]
  },
  {
   "cell_type": "code",
   "execution_count": 10,
   "id": "15a545b0",
   "metadata": {},
   "outputs": [],
   "source": [
    "salary_check.click()"
   ]
  },
  {
   "cell_type": "code",
   "execution_count": 13,
   "id": "c1a699a6",
   "metadata": {},
   "outputs": [],
   "source": [
    "title_tag=driver.find_elements(By.XPATH,'//a[@class=\"title fw500 ellipsis\"]')"
   ]
  },
  {
   "cell_type": "code",
   "execution_count": 14,
   "id": "78392d40",
   "metadata": {},
   "outputs": [],
   "source": [
    "job_title=[]\n",
    "for i in title_tag:\n",
    "    job_title.append(i.text)"
   ]
  },
  {
   "cell_type": "code",
   "execution_count": 15,
   "id": "e531afac",
   "metadata": {},
   "outputs": [
    {
     "data": {
      "text/plain": [
       "['Data Scientist For Healthcare Product team',\n",
       " 'Data Scientist For Healthcare Product team',\n",
       " 'Hiring For Data Science Intern- DataTrained Education',\n",
       " 'Knowledge/Data Scientist',\n",
       " 'Data Scientist',\n",
       " 'Data Scientist',\n",
       " 'Data Science',\n",
       " 'Data Science',\n",
       " 'Data Scientist']"
      ]
     },
     "execution_count": 15,
     "metadata": {},
     "output_type": "execute_result"
    }
   ],
   "source": [
    "job_title[:10]"
   ]
  },
  {
   "cell_type": "code",
   "execution_count": 16,
   "id": "d64d9a4e",
   "metadata": {},
   "outputs": [],
   "source": [
    "locn_tag=driver.find_elements(By.XPATH,'//li[@class=\"fleft grey-text br2 placeHolderLi location\"]')"
   ]
  },
  {
   "cell_type": "code",
   "execution_count": 17,
   "id": "00ce5c9c",
   "metadata": {},
   "outputs": [],
   "source": [
    "job_locn=[]\n",
    "for i in locn_tag:\n",
    "    job_locn.append(i.text)"
   ]
  },
  {
   "cell_type": "code",
   "execution_count": 18,
   "id": "166b0444",
   "metadata": {},
   "outputs": [
    {
     "data": {
      "text/plain": [
       "['Delhi / NCR, Chennai, Bangalore/Bengaluru',\n",
       " 'Delhi / NCR, Chennai, Bangalore/Bengaluru',\n",
       " 'Delhi / NCR, Gurgaon/Gurugram, Bangalore/Bengaluru',\n",
       " 'Delhi / NCR',\n",
       " 'Delhi / NCR, Pune, Bangalore/Bengaluru',\n",
       " 'Delhi / NCR, Pune, Bangalore/Bengaluru',\n",
       " 'Delhi / NCR, Noida, Faridabad, Gurgaon/Gurugram, Bangalore/Bengaluru, Greater Noida',\n",
       " 'Delhi / NCR, Noida, Faridabad, Gurgaon/Gurugram, Bangalore/Bengaluru, Greater Noida',\n",
       " 'Gurgaon/Gurugram']"
      ]
     },
     "execution_count": 18,
     "metadata": {},
     "output_type": "execute_result"
    }
   ],
   "source": [
    "job_locn[:10]"
   ]
  },
  {
   "cell_type": "code",
   "execution_count": 19,
   "id": "e4f1357d",
   "metadata": {},
   "outputs": [],
   "source": [
    "comp_name=driver.find_elements(By.XPATH,'//a[@class=\"subTitle ellipsis fleft\"]')\n"
   ]
  },
  {
   "cell_type": "code",
   "execution_count": 20,
   "id": "acaf61f7",
   "metadata": {},
   "outputs": [],
   "source": [
    "company=[]\n",
    "for i in comp_name:\n",
    "    company.append(i.text)"
   ]
  },
  {
   "cell_type": "code",
   "execution_count": 21,
   "id": "5b796ab9",
   "metadata": {},
   "outputs": [
    {
     "data": {
      "text/plain": [
       "['8KMiles Software Services',\n",
       " '8KMiles Software Services',\n",
       " 'DataTrained',\n",
       " 'BOLD Technology Systems',\n",
       " 'Mount Talent Consulting Private Limited',\n",
       " 'Mount Talent Consulting Private Limited',\n",
       " 'Mount Talent Consulting Private Limited',\n",
       " 'Mount Talent Consulting Private Limited',\n",
       " 'PRASU SOFTWARE SOLUTIONS PRIVATE LIMITED']"
      ]
     },
     "execution_count": 21,
     "metadata": {},
     "output_type": "execute_result"
    }
   ],
   "source": [
    "company[:10]"
   ]
  },
  {
   "cell_type": "code",
   "execution_count": 23,
   "id": "f555f06b",
   "metadata": {},
   "outputs": [],
   "source": [
    "exp_tag=driver.find_elements(By.XPATH,'//li[@class=\"fleft grey-text br2 placeHolderLi experience\"]')"
   ]
  },
  {
   "cell_type": "code",
   "execution_count": 24,
   "id": "8ca705c0",
   "metadata": {},
   "outputs": [],
   "source": [
    "exp=[]\n",
    "for i in exp_tag:\n",
    "    exp.append(i.text)\n",
    "    len(exp)"
   ]
  },
  {
   "cell_type": "code",
   "execution_count": 25,
   "id": "9c1eba07",
   "metadata": {},
   "outputs": [
    {
     "data": {
      "text/plain": [
       "['2-7 Yrs',\n",
       " '2-7 Yrs',\n",
       " '0-2 Yrs',\n",
       " '3-6 Yrs',\n",
       " '2-4 Yrs',\n",
       " '2-4 Yrs',\n",
       " '2-5 Yrs',\n",
       " '2-5 Yrs',\n",
       " '2-4 Yrs']"
      ]
     },
     "execution_count": 25,
     "metadata": {},
     "output_type": "execute_result"
    }
   ],
   "source": [
    "exp[:10]"
   ]
  },
  {
   "cell_type": "code",
   "execution_count": 26,
   "id": "962d67fa",
   "metadata": {},
   "outputs": [],
   "source": [
    "jobs=pd.DataFrame()\n",
    "jobs['Job Title']=job_title\n",
    "jobs['Job Location']=job_locn\n",
    "jobs['Company Name']=company\n",
    "jobs['Experience']=exp"
   ]
  },
  {
   "cell_type": "code",
   "execution_count": 27,
   "id": "9db74d3b",
   "metadata": {},
   "outputs": [
    {
     "data": {
      "text/html": [
       "<div>\n",
       "<style scoped>\n",
       "    .dataframe tbody tr th:only-of-type {\n",
       "        vertical-align: middle;\n",
       "    }\n",
       "\n",
       "    .dataframe tbody tr th {\n",
       "        vertical-align: top;\n",
       "    }\n",
       "\n",
       "    .dataframe thead th {\n",
       "        text-align: right;\n",
       "    }\n",
       "</style>\n",
       "<table border=\"1\" class=\"dataframe\">\n",
       "  <thead>\n",
       "    <tr style=\"text-align: right;\">\n",
       "      <th></th>\n",
       "      <th>Job Title</th>\n",
       "      <th>Job Location</th>\n",
       "      <th>Company Name</th>\n",
       "      <th>Experience</th>\n",
       "    </tr>\n",
       "  </thead>\n",
       "  <tbody>\n",
       "    <tr>\n",
       "      <th>0</th>\n",
       "      <td>Data Scientist For Healthcare Product team</td>\n",
       "      <td>Delhi / NCR, Chennai, Bangalore/Bengaluru</td>\n",
       "      <td>8KMiles Software Services</td>\n",
       "      <td>2-7 Yrs</td>\n",
       "    </tr>\n",
       "    <tr>\n",
       "      <th>1</th>\n",
       "      <td>Data Scientist For Healthcare Product team</td>\n",
       "      <td>Delhi / NCR, Chennai, Bangalore/Bengaluru</td>\n",
       "      <td>8KMiles Software Services</td>\n",
       "      <td>2-7 Yrs</td>\n",
       "    </tr>\n",
       "    <tr>\n",
       "      <th>2</th>\n",
       "      <td>Hiring For Data Science Intern- DataTrained Ed...</td>\n",
       "      <td>Delhi / NCR, Gurgaon/Gurugram, Bangalore/Benga...</td>\n",
       "      <td>DataTrained</td>\n",
       "      <td>0-2 Yrs</td>\n",
       "    </tr>\n",
       "    <tr>\n",
       "      <th>3</th>\n",
       "      <td>Knowledge/Data Scientist</td>\n",
       "      <td>Delhi / NCR</td>\n",
       "      <td>BOLD Technology Systems</td>\n",
       "      <td>3-6 Yrs</td>\n",
       "    </tr>\n",
       "    <tr>\n",
       "      <th>4</th>\n",
       "      <td>Data Scientist</td>\n",
       "      <td>Delhi / NCR, Pune, Bangalore/Bengaluru</td>\n",
       "      <td>Mount Talent Consulting Private Limited</td>\n",
       "      <td>2-4 Yrs</td>\n",
       "    </tr>\n",
       "    <tr>\n",
       "      <th>5</th>\n",
       "      <td>Data Scientist</td>\n",
       "      <td>Delhi / NCR, Pune, Bangalore/Bengaluru</td>\n",
       "      <td>Mount Talent Consulting Private Limited</td>\n",
       "      <td>2-4 Yrs</td>\n",
       "    </tr>\n",
       "    <tr>\n",
       "      <th>6</th>\n",
       "      <td>Data Science</td>\n",
       "      <td>Delhi / NCR, Noida, Faridabad, Gurgaon/Gurugra...</td>\n",
       "      <td>Mount Talent Consulting Private Limited</td>\n",
       "      <td>2-5 Yrs</td>\n",
       "    </tr>\n",
       "    <tr>\n",
       "      <th>7</th>\n",
       "      <td>Data Science</td>\n",
       "      <td>Delhi / NCR, Noida, Faridabad, Gurgaon/Gurugra...</td>\n",
       "      <td>Mount Talent Consulting Private Limited</td>\n",
       "      <td>2-5 Yrs</td>\n",
       "    </tr>\n",
       "    <tr>\n",
       "      <th>8</th>\n",
       "      <td>Data Scientist</td>\n",
       "      <td>Gurgaon/Gurugram</td>\n",
       "      <td>PRASU SOFTWARE SOLUTIONS PRIVATE LIMITED</td>\n",
       "      <td>2-4 Yrs</td>\n",
       "    </tr>\n",
       "  </tbody>\n",
       "</table>\n",
       "</div>"
      ],
      "text/plain": [
       "                                           Job Title  \\\n",
       "0         Data Scientist For Healthcare Product team   \n",
       "1         Data Scientist For Healthcare Product team   \n",
       "2  Hiring For Data Science Intern- DataTrained Ed...   \n",
       "3                           Knowledge/Data Scientist   \n",
       "4                                     Data Scientist   \n",
       "5                                     Data Scientist   \n",
       "6                                       Data Science   \n",
       "7                                       Data Science   \n",
       "8                                     Data Scientist   \n",
       "\n",
       "                                        Job Location  \\\n",
       "0          Delhi / NCR, Chennai, Bangalore/Bengaluru   \n",
       "1          Delhi / NCR, Chennai, Bangalore/Bengaluru   \n",
       "2  Delhi / NCR, Gurgaon/Gurugram, Bangalore/Benga...   \n",
       "3                                        Delhi / NCR   \n",
       "4             Delhi / NCR, Pune, Bangalore/Bengaluru   \n",
       "5             Delhi / NCR, Pune, Bangalore/Bengaluru   \n",
       "6  Delhi / NCR, Noida, Faridabad, Gurgaon/Gurugra...   \n",
       "7  Delhi / NCR, Noida, Faridabad, Gurgaon/Gurugra...   \n",
       "8                                   Gurgaon/Gurugram   \n",
       "\n",
       "                               Company Name Experience  \n",
       "0                 8KMiles Software Services    2-7 Yrs  \n",
       "1                 8KMiles Software Services    2-7 Yrs  \n",
       "2                               DataTrained    0-2 Yrs  \n",
       "3                   BOLD Technology Systems    3-6 Yrs  \n",
       "4   Mount Talent Consulting Private Limited    2-4 Yrs  \n",
       "5   Mount Talent Consulting Private Limited    2-4 Yrs  \n",
       "6   Mount Talent Consulting Private Limited    2-5 Yrs  \n",
       "7   Mount Talent Consulting Private Limited    2-5 Yrs  \n",
       "8  PRASU SOFTWARE SOLUTIONS PRIVATE LIMITED    2-4 Yrs  "
      ]
     },
     "execution_count": 27,
     "metadata": {},
     "output_type": "execute_result"
    }
   ],
   "source": [
    "jobs[:10]"
   ]
  },
  {
   "cell_type": "code",
   "execution_count": null,
   "id": "2b630535",
   "metadata": {},
   "outputs": [],
   "source": [
    "#only 9 results are showing in website so in data frame and in other list also their are 9 rows"
   ]
  },
  {
   "cell_type": "code",
   "execution_count": null,
   "id": "4f9b712f",
   "metadata": {},
   "outputs": [],
   "source": []
  },
  {
   "cell_type": "markdown",
   "id": "7a08648e",
   "metadata": {},
   "source": [
    "# FLIPKART\n"
   ]
  },
  {
   "cell_type": "code",
   "execution_count": 95,
   "id": "29dd6503",
   "metadata": {},
   "outputs": [],
   "source": [
    "import selenium\n",
    "from selenium import webdriver\n",
    "import pandas as pd\n",
    "import warnings\n",
    "warnings.filterwarnings(\"ignore\")"
   ]
  },
  {
   "cell_type": "code",
   "execution_count": 96,
   "id": "67a2ad14",
   "metadata": {},
   "outputs": [],
   "source": [
    "driver=webdriver.Chrome('chromedriver.exe')"
   ]
  },
  {
   "cell_type": "code",
   "execution_count": 97,
   "id": "d163c543",
   "metadata": {},
   "outputs": [],
   "source": [
    "url=\"https://www.flipkart.com/\"\n",
    "driver.get(url)"
   ]
  },
  {
   "cell_type": "code",
   "execution_count": 98,
   "id": "023d6716",
   "metadata": {},
   "outputs": [],
   "source": [
    "from selenium.webdriver.common.by import By"
   ]
  },
  {
   "cell_type": "code",
   "execution_count": 99,
   "id": "252538ec",
   "metadata": {},
   "outputs": [
    {
     "data": {
      "text/plain": [
       "<selenium.webdriver.remote.webelement.WebElement (session=\"67b38e4e8f89b6859d191a93757ea00e\", element=\"6d25320f-31b6-453e-81e5-17dedbcb5ac6\")>"
      ]
     },
     "execution_count": 99,
     "metadata": {},
     "output_type": "execute_result"
    }
   ],
   "source": [
    "search_product= driver.find_element(By.CLASS_NAME,\"_3704LK\")\n",
    "search_product"
   ]
  },
  {
   "cell_type": "code",
   "execution_count": 100,
   "id": "c5bdb6d3",
   "metadata": {},
   "outputs": [],
   "source": [
    "search_product.send_keys(\"sunglasses\")"
   ]
  },
  {
   "cell_type": "code",
   "execution_count": 101,
   "id": "09a54599",
   "metadata": {},
   "outputs": [
    {
     "data": {
      "text/plain": [
       "<selenium.webdriver.remote.webelement.WebElement (session=\"67b38e4e8f89b6859d191a93757ea00e\", element=\"44a9b6a2-19f8-4915-9d9c-7fa7e6903f77\")>"
      ]
     },
     "execution_count": 101,
     "metadata": {},
     "output_type": "execute_result"
    }
   ],
   "source": [
    "search_btn=driver.find_element(By.XPATH,'/html/body/div[1]/div/div[1]/div[1]/div[2]/div[2]/form/div/button')\n",
    "search_btn"
   ]
  },
  {
   "cell_type": "code",
   "execution_count": 104,
   "id": "30bbd0d7",
   "metadata": {},
   "outputs": [],
   "source": [
    "search_btn.click()"
   ]
  },
  {
   "cell_type": "code",
   "execution_count": 105,
   "id": "a687f8cd",
   "metadata": {},
   "outputs": [],
   "source": [
    "brand_tag=driver.find_elements(By.XPATH,'//div[@class=\"_2WkVRV\"]')"
   ]
  },
  {
   "cell_type": "code",
   "execution_count": 106,
   "id": "5ec82773",
   "metadata": {},
   "outputs": [],
   "source": [
    "brand=[]\n",
    "for i in brand_tag:\n",
    "    brand.append(i.text)"
   ]
  },
  {
   "cell_type": "code",
   "execution_count": 107,
   "id": "11b72dd6",
   "metadata": {},
   "outputs": [
    {
     "data": {
      "text/plain": [
       "['DAHAAZIL', 'New Specs', 'Fastrack', 'SUNBEE', 'Elligator']"
      ]
     },
     "execution_count": 107,
     "metadata": {},
     "output_type": "execute_result"
    }
   ],
   "source": [
    "brand[:5]"
   ]
  },
  {
   "cell_type": "code",
   "execution_count": 108,
   "id": "c76154af",
   "metadata": {},
   "outputs": [],
   "source": [
    "product_des=driver.find_elements(By.XPATH,'//a[@class=\"IRpwTa\"]')"
   ]
  },
  {
   "cell_type": "code",
   "execution_count": 109,
   "id": "55a0d044",
   "metadata": {},
   "outputs": [],
   "source": [
    "product=[]\n",
    "for i in product_des:\n",
    "    \n",
    "     product.append(i.text)\n"
   ]
  },
  {
   "cell_type": "code",
   "execution_count": 110,
   "id": "56533ffb",
   "metadata": {},
   "outputs": [
    {
     "data": {
      "text/plain": [
       "['UV Protection, Night Vision, Riding Glasses Wayfarer, W...',\n",
       " 'UV Protection Rectangular Sunglasses (Free Size)',\n",
       " 'UV Protection Rectangular Sunglasses (Free Size)',\n",
       " 'UV Protection, Polarized, Mirrored Retro Square Sunglas...',\n",
       " 'UV Protection Round Sunglasses (54)']"
      ]
     },
     "execution_count": 110,
     "metadata": {},
     "output_type": "execute_result"
    }
   ],
   "source": [
    "product[:5]"
   ]
  },
  {
   "cell_type": "code",
   "execution_count": 111,
   "id": "ef6f33d5",
   "metadata": {},
   "outputs": [],
   "source": [
    "price_tag=driver.find_elements(By.XPATH,'//div[@class=\"_30jeq3\"]')"
   ]
  },
  {
   "cell_type": "code",
   "execution_count": 112,
   "id": "a54f8042",
   "metadata": {},
   "outputs": [],
   "source": [
    "price=[]\n",
    "for i in price_tag:\n",
    "    price.append(i.text)"
   ]
  },
  {
   "cell_type": "code",
   "execution_count": 113,
   "id": "05ce01c0",
   "metadata": {},
   "outputs": [
    {
     "data": {
      "text/plain": [
       "['₹177', '₹264', '₹639', '₹259', '₹315']"
      ]
     },
     "execution_count": 113,
     "metadata": {},
     "output_type": "execute_result"
    }
   ],
   "source": [
    "price[:5]"
   ]
  },
  {
   "cell_type": "code",
   "execution_count": 114,
   "id": "a41353c1",
   "metadata": {},
   "outputs": [
    {
     "data": {
      "text/plain": [
       "<selenium.webdriver.remote.webelement.WebElement (session=\"67b38e4e8f89b6859d191a93757ea00e\", element=\"01548f1e-6dfd-4e6d-9747-52b58dfa26ce\")>"
      ]
     },
     "execution_count": 114,
     "metadata": {},
     "output_type": "execute_result"
    }
   ],
   "source": [
    "next_btn=driver.find_element(By.XPATH,'/html/body/div[1]/div/div[3]/div[1]/div[2]/div[12]/div/div/nav/a[11]')\n",
    "next_btn"
   ]
  },
  {
   "cell_type": "code",
   "execution_count": 115,
   "id": "f0e02665",
   "metadata": {},
   "outputs": [],
   "source": [
    "next_btn.click()"
   ]
  },
  {
   "cell_type": "code",
   "execution_count": 116,
   "id": "6046ab5f",
   "metadata": {},
   "outputs": [],
   "source": [
    "brand_tag=driver.find_elements(By.XPATH,'//div[@class=\"_2WkVRV\"]')"
   ]
  },
  {
   "cell_type": "code",
   "execution_count": 117,
   "id": "50d50fb1",
   "metadata": {},
   "outputs": [],
   "source": [
    "brand\n",
    "for i in brand_tag:\n",
    "    brand.append(i.text)"
   ]
  },
  {
   "cell_type": "code",
   "execution_count": 118,
   "id": "251b3692",
   "metadata": {},
   "outputs": [
    {
     "data": {
      "text/plain": [
       "80"
      ]
     },
     "execution_count": 118,
     "metadata": {},
     "output_type": "execute_result"
    }
   ],
   "source": [
    "len(brand)"
   ]
  },
  {
   "cell_type": "code",
   "execution_count": 119,
   "id": "5f7901eb",
   "metadata": {},
   "outputs": [],
   "source": [
    "product_des=driver.find_elements(By.XPATH,'//a[@class=\"IRpwTa\"]')"
   ]
  },
  {
   "cell_type": "code",
   "execution_count": 120,
   "id": "255e9880",
   "metadata": {},
   "outputs": [],
   "source": [
    "product\n",
    "for i in product_des:\n",
    "    \n",
    "     product.append(i.text)\n"
   ]
  },
  {
   "cell_type": "code",
   "execution_count": 121,
   "id": "c14a2fce",
   "metadata": {},
   "outputs": [
    {
     "data": {
      "text/plain": [
       "80"
      ]
     },
     "execution_count": 121,
     "metadata": {},
     "output_type": "execute_result"
    }
   ],
   "source": [
    "len(product)"
   ]
  },
  {
   "cell_type": "code",
   "execution_count": 122,
   "id": "b9af20bb",
   "metadata": {},
   "outputs": [],
   "source": [
    "price_tag=driver.find_elements(By.XPATH,'//div[@class=\"_30jeq3\"]')"
   ]
  },
  {
   "cell_type": "code",
   "execution_count": 123,
   "id": "fff52e86",
   "metadata": {},
   "outputs": [],
   "source": [
    "price\n",
    "for i in price_tag:\n",
    "    price.append(i.text)"
   ]
  },
  {
   "cell_type": "code",
   "execution_count": 124,
   "id": "5d157e91",
   "metadata": {},
   "outputs": [
    {
     "data": {
      "text/plain": [
       "80"
      ]
     },
     "execution_count": 124,
     "metadata": {},
     "output_type": "execute_result"
    }
   ],
   "source": [
    "len(price)"
   ]
  },
  {
   "cell_type": "code",
   "execution_count": 125,
   "id": "4cca1f2a",
   "metadata": {},
   "outputs": [
    {
     "data": {
      "text/plain": [
       "<selenium.webdriver.remote.webelement.WebElement (session=\"67b38e4e8f89b6859d191a93757ea00e\", element=\"82877a1d-27e2-46d5-804a-911b696ef588\")>"
      ]
     },
     "execution_count": 125,
     "metadata": {},
     "output_type": "execute_result"
    }
   ],
   "source": [
    "next_btn=driver.find_element(By.XPATH,'/html/body/div[1]/div/div[3]/div[1]/div[2]/div[12]/div/div/nav/a[11]')\n",
    "next_btn"
   ]
  },
  {
   "cell_type": "code",
   "execution_count": 126,
   "id": "9e263389",
   "metadata": {},
   "outputs": [],
   "source": [
    "next_btn.click()"
   ]
  },
  {
   "cell_type": "code",
   "execution_count": 127,
   "id": "12f9b46c",
   "metadata": {},
   "outputs": [],
   "source": [
    "brand_tag=driver.find_elements(By.XPATH,'//div[@class=\"_2WkVRV\"]')"
   ]
  },
  {
   "cell_type": "code",
   "execution_count": 128,
   "id": "6a251caf",
   "metadata": {},
   "outputs": [],
   "source": [
    "brand\n",
    "for i in brand_tag:\n",
    "    brand.append(i.text)"
   ]
  },
  {
   "cell_type": "code",
   "execution_count": 129,
   "id": "e2098cf5",
   "metadata": {},
   "outputs": [
    {
     "data": {
      "text/plain": [
       "120"
      ]
     },
     "execution_count": 129,
     "metadata": {},
     "output_type": "execute_result"
    }
   ],
   "source": [
    "len(brand)"
   ]
  },
  {
   "cell_type": "code",
   "execution_count": 130,
   "id": "73bce7a6",
   "metadata": {},
   "outputs": [],
   "source": [
    "product_des=driver.find_elements(By.XPATH,'//a[@class=\"IRpwTa\"]')"
   ]
  },
  {
   "cell_type": "code",
   "execution_count": 131,
   "id": "beca0abc",
   "metadata": {},
   "outputs": [],
   "source": [
    "product\n",
    "for i in product_des:\n",
    "    \n",
    "     product.append(i.text)\n"
   ]
  },
  {
   "cell_type": "code",
   "execution_count": 132,
   "id": "e3b19dee",
   "metadata": {},
   "outputs": [
    {
     "data": {
      "text/plain": [
       "120"
      ]
     },
     "execution_count": 132,
     "metadata": {},
     "output_type": "execute_result"
    }
   ],
   "source": [
    "len(product)"
   ]
  },
  {
   "cell_type": "code",
   "execution_count": 133,
   "id": "b4e41f60",
   "metadata": {},
   "outputs": [],
   "source": [
    "price_tag=driver.find_elements(By.XPATH,'//div[@class=\"_30jeq3\"]')"
   ]
  },
  {
   "cell_type": "code",
   "execution_count": 134,
   "id": "6901f9a6",
   "metadata": {},
   "outputs": [],
   "source": [
    "price\n",
    "for i in price_tag:\n",
    "    price.append(i.text)"
   ]
  },
  {
   "cell_type": "code",
   "execution_count": 135,
   "id": "e9a6e40d",
   "metadata": {},
   "outputs": [
    {
     "data": {
      "text/plain": [
       "120"
      ]
     },
     "execution_count": 135,
     "metadata": {},
     "output_type": "execute_result"
    }
   ],
   "source": [
    "len(price)"
   ]
  },
  {
   "cell_type": "code",
   "execution_count": 136,
   "id": "08313b58",
   "metadata": {},
   "outputs": [
    {
     "name": "stdout",
     "output_type": "stream",
     "text": [
      "120 120 120\n"
     ]
    }
   ],
   "source": [
    "print(len(brand),len(product),len(price))"
   ]
  },
  {
   "cell_type": "code",
   "execution_count": 137,
   "id": "73ae6dda",
   "metadata": {},
   "outputs": [],
   "source": [
    "sunglasses=pd.DataFrame()\n",
    "sunglasses['BRAND']=brand\n",
    "sunglasses['Product Description']=product\n",
    "sunglasses['Price']=price\n",
    "\n"
   ]
  },
  {
   "cell_type": "code",
   "execution_count": 139,
   "id": "d854eb0c",
   "metadata": {},
   "outputs": [
    {
     "data": {
      "text/html": [
       "<div>\n",
       "<style scoped>\n",
       "    .dataframe tbody tr th:only-of-type {\n",
       "        vertical-align: middle;\n",
       "    }\n",
       "\n",
       "    .dataframe tbody tr th {\n",
       "        vertical-align: top;\n",
       "    }\n",
       "\n",
       "    .dataframe thead th {\n",
       "        text-align: right;\n",
       "    }\n",
       "</style>\n",
       "<table border=\"1\" class=\"dataframe\">\n",
       "  <thead>\n",
       "    <tr style=\"text-align: right;\">\n",
       "      <th></th>\n",
       "      <th>BRAND</th>\n",
       "      <th>Product Description</th>\n",
       "      <th>Price</th>\n",
       "    </tr>\n",
       "  </thead>\n",
       "  <tbody>\n",
       "    <tr>\n",
       "      <th>0</th>\n",
       "      <td>DAHAAZIL</td>\n",
       "      <td>UV Protection, Night Vision, Riding Glasses Wa...</td>\n",
       "      <td>₹177</td>\n",
       "    </tr>\n",
       "    <tr>\n",
       "      <th>1</th>\n",
       "      <td>New Specs</td>\n",
       "      <td>UV Protection Rectangular Sunglasses (Free Size)</td>\n",
       "      <td>₹264</td>\n",
       "    </tr>\n",
       "    <tr>\n",
       "      <th>2</th>\n",
       "      <td>Fastrack</td>\n",
       "      <td>UV Protection Rectangular Sunglasses (Free Size)</td>\n",
       "      <td>₹639</td>\n",
       "    </tr>\n",
       "    <tr>\n",
       "      <th>3</th>\n",
       "      <td>SUNBEE</td>\n",
       "      <td>UV Protection, Polarized, Mirrored Retro Squar...</td>\n",
       "      <td>₹259</td>\n",
       "    </tr>\n",
       "    <tr>\n",
       "      <th>4</th>\n",
       "      <td>Elligator</td>\n",
       "      <td>UV Protection Round Sunglasses (54)</td>\n",
       "      <td>₹315</td>\n",
       "    </tr>\n",
       "    <tr>\n",
       "      <th>...</th>\n",
       "      <td>...</td>\n",
       "      <td>...</td>\n",
       "      <td>...</td>\n",
       "    </tr>\n",
       "    <tr>\n",
       "      <th>95</th>\n",
       "      <td>GANSTA</td>\n",
       "      <td>UV Protection Aviator Sunglasses (57)</td>\n",
       "      <td>₹323</td>\n",
       "    </tr>\n",
       "    <tr>\n",
       "      <th>96</th>\n",
       "      <td>AISLIN</td>\n",
       "      <td>UV Protection Shield, Wayfarer Sunglasses (61)</td>\n",
       "      <td>₹375</td>\n",
       "    </tr>\n",
       "    <tr>\n",
       "      <th>97</th>\n",
       "      <td>ROYAL SON</td>\n",
       "      <td>UV Protection, Polarized Round Sunglasses (54)</td>\n",
       "      <td>₹664</td>\n",
       "    </tr>\n",
       "    <tr>\n",
       "      <th>98</th>\n",
       "      <td>AISLIN</td>\n",
       "      <td>UV Protection, Gradient Butterfly, Over-sized ...</td>\n",
       "      <td>₹648</td>\n",
       "    </tr>\n",
       "    <tr>\n",
       "      <th>99</th>\n",
       "      <td>Ray-Ban</td>\n",
       "      <td>UV Protection Aviator Sunglasses (58)</td>\n",
       "      <td>₹10,206</td>\n",
       "    </tr>\n",
       "  </tbody>\n",
       "</table>\n",
       "<p>100 rows × 3 columns</p>\n",
       "</div>"
      ],
      "text/plain": [
       "        BRAND                                Product Description    Price\n",
       "0    DAHAAZIL  UV Protection, Night Vision, Riding Glasses Wa...     ₹177\n",
       "1   New Specs   UV Protection Rectangular Sunglasses (Free Size)     ₹264\n",
       "2    Fastrack   UV Protection Rectangular Sunglasses (Free Size)     ₹639\n",
       "3      SUNBEE  UV Protection, Polarized, Mirrored Retro Squar...     ₹259\n",
       "4   Elligator                UV Protection Round Sunglasses (54)     ₹315\n",
       "..        ...                                                ...      ...\n",
       "95     GANSTA              UV Protection Aviator Sunglasses (57)     ₹323\n",
       "96     AISLIN     UV Protection Shield, Wayfarer Sunglasses (61)     ₹375\n",
       "97  ROYAL SON     UV Protection, Polarized Round Sunglasses (54)     ₹664\n",
       "98     AISLIN  UV Protection, Gradient Butterfly, Over-sized ...     ₹648\n",
       "99    Ray-Ban              UV Protection Aviator Sunglasses (58)  ₹10,206\n",
       "\n",
       "[100 rows x 3 columns]"
      ]
     },
     "execution_count": 139,
     "metadata": {},
     "output_type": "execute_result"
    }
   ],
   "source": [
    "sunglasses[:100]"
   ]
  },
  {
   "cell_type": "markdown",
   "id": "42556cbb",
   "metadata": {},
   "source": [
    "# flipkart iphone"
   ]
  },
  {
   "cell_type": "code",
   "execution_count": 70,
   "id": "b2737247",
   "metadata": {},
   "outputs": [],
   "source": [
    "import selenium\n",
    "from selenium import webdriver\n",
    "import pandas as pd\n",
    "import warnings\n",
    "warnings.filterwarnings(\"ignore\")"
   ]
  },
  {
   "cell_type": "code",
   "execution_count": 71,
   "id": "50cf028b",
   "metadata": {},
   "outputs": [],
   "source": [
    "driver=webdriver.Chrome(r'D:\\flip robo\\chromedriver_win32\\chromedriver.exe')"
   ]
  },
  {
   "cell_type": "code",
   "execution_count": 72,
   "id": "a356d6d2",
   "metadata": {},
   "outputs": [],
   "source": [
    "url=\"https://www.flipkart.com/\"\n",
    "driver.get(url)"
   ]
  },
  {
   "cell_type": "code",
   "execution_count": 73,
   "id": "f1c6bcd4",
   "metadata": {},
   "outputs": [],
   "source": [
    "from selenium.webdriver.common.by import By"
   ]
  },
  {
   "cell_type": "code",
   "execution_count": 74,
   "id": "41082a61",
   "metadata": {},
   "outputs": [
    {
     "data": {
      "text/plain": [
       "<selenium.webdriver.remote.webelement.WebElement (session=\"8a39db9239c1320dc2e8333638b75e18\", element=\"3a833b7d-c15d-4acd-b206-2d7e78b69ad4\")>"
      ]
     },
     "execution_count": 74,
     "metadata": {},
     "output_type": "execute_result"
    }
   ],
   "source": [
    "search_product= driver.find_element(By.CLASS_NAME,\"_3704LK\")\n",
    "search_product"
   ]
  },
  {
   "cell_type": "code",
   "execution_count": 75,
   "id": "c8a9713b",
   "metadata": {},
   "outputs": [],
   "source": [
    "search_product.send_keys(\"iphone11 black 128gb\")\n",
    "#i have written complete name "
   ]
  },
  {
   "cell_type": "code",
   "execution_count": 76,
   "id": "c34fc07e",
   "metadata": {},
   "outputs": [
    {
     "data": {
      "text/plain": [
       "<selenium.webdriver.remote.webelement.WebElement (session=\"8a39db9239c1320dc2e8333638b75e18\", element=\"6fff4321-fd82-43e1-9f06-fdb22b443d96\")>"
      ]
     },
     "execution_count": 76,
     "metadata": {},
     "output_type": "execute_result"
    }
   ],
   "source": [
    "search_btn=driver.find_element(By.XPATH,'/html/body/div[1]/div/div[1]/div[1]/div[2]/div[2]/form/div/button')\n",
    "search_btn"
   ]
  },
  {
   "cell_type": "code",
   "execution_count": 78,
   "id": "62486c4a",
   "metadata": {},
   "outputs": [],
   "source": [
    "search_btn.click()"
   ]
  },
  {
   "cell_type": "code",
   "execution_count": 79,
   "id": "b55c6c59",
   "metadata": {},
   "outputs": [
    {
     "data": {
      "text/plain": [
       "<selenium.webdriver.remote.webelement.WebElement (session=\"8a39db9239c1320dc2e8333638b75e18\", element=\"9cb4ecd3-a3bd-4b44-9f1e-b122d7472369\")>"
      ]
     },
     "execution_count": 79,
     "metadata": {},
     "output_type": "execute_result"
    }
   ],
   "source": [
    "first_product=driver.find_element(By.XPATH,'/html/body/div[1]/div/div[3]/div[1]/div[2]/div[2]/div/div/div/a/div[1]/div[1]/div/div/img')\n",
    "first_product"
   ]
  },
  {
   "cell_type": "code",
   "execution_count": 80,
   "id": "1452a1b8",
   "metadata": {},
   "outputs": [],
   "source": [
    "first_product.click()"
   ]
  },
  {
   "cell_type": "code",
   "execution_count": 139,
   "id": "b420c7d7",
   "metadata": {},
   "outputs": [],
   "source": [
    "rating_tag=driver.find_elements(By.XPATH,'//div[@class=\"_3LWZlK _1BLPMq\"]')"
   ]
  },
  {
   "cell_type": "code",
   "execution_count": 15,
   "id": "50bcfb67",
   "metadata": {},
   "outputs": [],
   "source": [
    "rating=[]\n",
    "for i in rating_tag:\n",
    "    rating.append(i.text)"
   ]
  },
  {
   "cell_type": "code",
   "execution_count": 99,
   "id": "7de50022",
   "metadata": {},
   "outputs": [
    {
     "data": {
      "text/plain": [
       "['5', '5', '5', '', '', '', '', '', '', '']"
      ]
     },
     "execution_count": 99,
     "metadata": {},
     "output_type": "execute_result"
    }
   ],
   "source": [
    "rating"
   ]
  },
  {
   "cell_type": "code",
   "execution_count": 129,
   "id": "21d19e91",
   "metadata": {},
   "outputs": [],
   "source": [
    "reviews=driver.find_elements(By.XPATH,'//p[@class=\"_2-N8zT\"]')"
   ]
  },
  {
   "cell_type": "code",
   "execution_count": 132,
   "id": "bf9ae334",
   "metadata": {},
   "outputs": [],
   "source": [
    "reviewsum=[]\n",
    "for i in reviews:\n",
    "    reviewsum.append(i.text)\n"
   ]
  },
  {
   "cell_type": "code",
   "execution_count": 133,
   "id": "79855be7",
   "metadata": {},
   "outputs": [
    {
     "data": {
      "text/plain": [
       "[]"
      ]
     },
     "execution_count": 133,
     "metadata": {},
     "output_type": "execute_result"
    }
   ],
   "source": [
    "reviewsum"
   ]
  },
  {
   "cell_type": "code",
   "execution_count": 136,
   "id": "a7507fac",
   "metadata": {},
   "outputs": [],
   "source": [
    "fullreviews=driver.find_elements(By.XPATH,'/html/body/div[1]/div/div[3]/div[1]/div[2]/div[9]/div[5]/div/div[4]/div[2]/div/div/div[2]/div/div/div/text()')"
   ]
  },
  {
   "cell_type": "code",
   "execution_count": 137,
   "id": "bda6da53",
   "metadata": {},
   "outputs": [],
   "source": [
    "reviewfullsum=[]\n",
    "for i in fullreviews:\n",
    "    reviewfullsum.append(i.text)\n"
   ]
  },
  {
   "cell_type": "code",
   "execution_count": 138,
   "id": "c81e4147",
   "metadata": {},
   "outputs": [
    {
     "data": {
      "text/plain": [
       "[]"
      ]
     },
     "execution_count": 138,
     "metadata": {},
     "output_type": "execute_result"
    }
   ],
   "source": [
    " reviewfullsum"
   ]
  },
  {
   "cell_type": "markdown",
   "id": "3f99168e",
   "metadata": {},
   "source": [
    "# Sneakers\n"
   ]
  },
  {
   "cell_type": "code",
   "execution_count": 223,
   "id": "68c4ca82",
   "metadata": {},
   "outputs": [],
   "source": [
    "import selenium\n",
    "from selenium import webdriver\n",
    "import pandas as pd\n",
    "import warnings\n",
    "warnings.filterwarnings(\"ignore\")"
   ]
  },
  {
   "cell_type": "code",
   "execution_count": 224,
   "id": "3142d7a9",
   "metadata": {},
   "outputs": [],
   "source": [
    "driver=webdriver.Chrome(r'D:\\flip robo\\chromedriver_win32\\chromedriver.exe')"
   ]
  },
  {
   "cell_type": "code",
   "execution_count": 225,
   "id": "b074a168",
   "metadata": {},
   "outputs": [],
   "source": [
    "url=\"https://www.flipkart.com/\"\n",
    "driver.get(url)"
   ]
  },
  {
   "cell_type": "code",
   "execution_count": 226,
   "id": "612f3207",
   "metadata": {},
   "outputs": [],
   "source": [
    "from selenium.webdriver.common.by import By"
   ]
  },
  {
   "cell_type": "code",
   "execution_count": 227,
   "id": "51b3a23f",
   "metadata": {},
   "outputs": [
    {
     "data": {
      "text/plain": [
       "<selenium.webdriver.remote.webelement.WebElement (session=\"cdc451389f969d0979c96b3c2e2da2cc\", element=\"7b1f1be1-453c-4931-8cfe-dd8af12f70c1\")>"
      ]
     },
     "execution_count": 227,
     "metadata": {},
     "output_type": "execute_result"
    }
   ],
   "source": [
    "search_product= driver.find_element(By.CLASS_NAME,\"_3704LK\")\n",
    "search_product"
   ]
  },
  {
   "cell_type": "code",
   "execution_count": 228,
   "id": "09f96a0c",
   "metadata": {},
   "outputs": [],
   "source": [
    "search_product.send_keys(\"sneakers\")"
   ]
  },
  {
   "cell_type": "code",
   "execution_count": 229,
   "id": "1e3d9431",
   "metadata": {},
   "outputs": [
    {
     "data": {
      "text/plain": [
       "<selenium.webdriver.remote.webelement.WebElement (session=\"cdc451389f969d0979c96b3c2e2da2cc\", element=\"63b30afb-4623-4b6f-ac1d-5b3e14f3a300\")>"
      ]
     },
     "execution_count": 229,
     "metadata": {},
     "output_type": "execute_result"
    }
   ],
   "source": [
    "search_btn=driver.find_element(By.XPATH,'/html/body/div[1]/div/div[1]/div[1]/div[2]/div[2]/form/div/button')\n",
    "search_btn"
   ]
  },
  {
   "cell_type": "code",
   "execution_count": 235,
   "id": "459d59d6",
   "metadata": {},
   "outputs": [],
   "source": [
    "search_btn.click()"
   ]
  },
  {
   "cell_type": "code",
   "execution_count": 236,
   "id": "89c7d9d0",
   "metadata": {},
   "outputs": [],
   "source": [
    "brand_tag=driver.find_elements(By.XPATH,'//div[@class=\"_2WkVRV\"]')"
   ]
  },
  {
   "cell_type": "code",
   "execution_count": 237,
   "id": "d4419d10",
   "metadata": {},
   "outputs": [],
   "source": [
    "brand=[]\n",
    "for i in brand_tag:\n",
    "    brand.append(i.text)"
   ]
  },
  {
   "cell_type": "code",
   "execution_count": 238,
   "id": "2851d18f",
   "metadata": {},
   "outputs": [
    {
     "data": {
      "text/plain": [
       "['BRUTON', 'Magnolia', 'URBANBOX', 'PUMA', 'BRUTON']"
      ]
     },
     "execution_count": 238,
     "metadata": {},
     "output_type": "execute_result"
    }
   ],
   "source": [
    "brand[:5]"
   ]
  },
  {
   "cell_type": "code",
   "execution_count": 239,
   "id": "41c04cf5",
   "metadata": {},
   "outputs": [],
   "source": [
    "product_desp=driver.find_elements(By.XPATH,'//a[@class=\"IRpwTa\"]')"
   ]
  },
  {
   "cell_type": "code",
   "execution_count": 240,
   "id": "3773b631",
   "metadata": {},
   "outputs": [],
   "source": [
    "products=[]\n",
    "for i in product_desp:\n",
    "    \n",
    "     products.append(i.text)"
   ]
  },
  {
   "cell_type": "code",
   "execution_count": 241,
   "id": "97fae1cc",
   "metadata": {},
   "outputs": [
    {
     "data": {
      "text/plain": [
       "['Modern Trendy Sneakers Shoes Sneakers For Men',\n",
       " 'Sneakers For Men',\n",
       " 'Puma Smash v2 L Sneakers For Men',\n",
       " 'Modern Trendy Sneakers Shoes Sneakers For Men',\n",
       " 'Sneakers For Men']"
      ]
     },
     "execution_count": 241,
     "metadata": {},
     "output_type": "execute_result"
    }
   ],
   "source": [
    "products[:5]"
   ]
  },
  {
   "cell_type": "code",
   "execution_count": 243,
   "id": "14a94332",
   "metadata": {},
   "outputs": [],
   "source": [
    "price_tag=driver.find_elements(By.XPATH,'//div[@class=\"_30jeq3\"]')"
   ]
  },
  {
   "cell_type": "code",
   "execution_count": 244,
   "id": "12a2c1c1",
   "metadata": {},
   "outputs": [],
   "source": [
    "price=[]\n",
    "for i in price_tag:\n",
    "    price.append(i.text)"
   ]
  },
  {
   "cell_type": "code",
   "execution_count": 245,
   "id": "22cd2c89",
   "metadata": {},
   "outputs": [
    {
     "data": {
      "text/plain": [
       "['₹284', '₹399', '₹219', '₹1,467', '₹299']"
      ]
     },
     "execution_count": 245,
     "metadata": {},
     "output_type": "execute_result"
    }
   ],
   "source": [
    "price[:5]"
   ]
  },
  {
   "cell_type": "code",
   "execution_count": 247,
   "id": "e2b92fcc",
   "metadata": {},
   "outputs": [],
   "source": [
    "discount_tag=driver.find_elements(By.XPATH,'//div[@class=\"_3Ay6Sb\"]')"
   ]
  },
  {
   "cell_type": "code",
   "execution_count": 248,
   "id": "4e931b39",
   "metadata": {},
   "outputs": [],
   "source": [
    "discount=[]\n",
    "for i in discount_tag:\n",
    "    discount.append(i.text)\n"
   ]
  },
  {
   "cell_type": "code",
   "execution_count": 249,
   "id": "8cbda82f",
   "metadata": {},
   "outputs": [
    {
     "data": {
      "text/plain": [
       "['78% off', '60% off', '78% off', '58% off', '76% off']"
      ]
     },
     "execution_count": 249,
     "metadata": {},
     "output_type": "execute_result"
    }
   ],
   "source": [
    "discount[:5]"
   ]
  },
  {
   "cell_type": "code",
   "execution_count": 250,
   "id": "ccd983b6",
   "metadata": {},
   "outputs": [
    {
     "data": {
      "text/plain": [
       "<selenium.webdriver.remote.webelement.WebElement (session=\"cdc451389f969d0979c96b3c2e2da2cc\", element=\"14210fa7-168b-4044-9f4e-6efe09c7d918\")>"
      ]
     },
     "execution_count": 250,
     "metadata": {},
     "output_type": "execute_result"
    }
   ],
   "source": [
    "next_btn=driver.find_element(By.XPATH,'/html/body/div[1]/div/div[3]/div[1]/div[2]/div[12]/div/div/nav/a[11]')\n",
    "next_btn"
   ]
  },
  {
   "cell_type": "code",
   "execution_count": 251,
   "id": "05ef3f52",
   "metadata": {},
   "outputs": [],
   "source": [
    "next_btn.click()"
   ]
  },
  {
   "cell_type": "code",
   "execution_count": 252,
   "id": "2b435e49",
   "metadata": {},
   "outputs": [],
   "source": [
    "brand_tag=driver.find_elements(By.XPATH,'//div[@class=\"_2WkVRV\"]')"
   ]
  },
  {
   "cell_type": "code",
   "execution_count": 253,
   "id": "3742b766",
   "metadata": {},
   "outputs": [],
   "source": [
    "brand\n",
    "for i in brand_tag:\n",
    "    brand.append(i.text)"
   ]
  },
  {
   "cell_type": "code",
   "execution_count": 254,
   "id": "4277b8b9",
   "metadata": {},
   "outputs": [
    {
     "data": {
      "text/plain": [
       "80"
      ]
     },
     "execution_count": 254,
     "metadata": {},
     "output_type": "execute_result"
    }
   ],
   "source": [
    "len(brand)"
   ]
  },
  {
   "cell_type": "code",
   "execution_count": 255,
   "id": "8628418f",
   "metadata": {},
   "outputs": [],
   "source": [
    "product_desp=driver.find_elements(By.XPATH,'//a[@class=\"IRpwTa\"]')"
   ]
  },
  {
   "cell_type": "code",
   "execution_count": 256,
   "id": "7898516f",
   "metadata": {},
   "outputs": [],
   "source": [
    "products\n",
    "for i in product_desp:\n",
    "    \n",
    "     products.append(i.text)"
   ]
  },
  {
   "cell_type": "code",
   "execution_count": 257,
   "id": "87145b36",
   "metadata": {},
   "outputs": [
    {
     "data": {
      "text/plain": [
       "69"
      ]
     },
     "execution_count": 257,
     "metadata": {},
     "output_type": "execute_result"
    }
   ],
   "source": [
    "len(products)"
   ]
  },
  {
   "cell_type": "code",
   "execution_count": 259,
   "id": "b5dec3d0",
   "metadata": {},
   "outputs": [],
   "source": [
    "price_tag=driver.find_elements(By.XPATH,'//div[@class=\"_30jeq3\"]')"
   ]
  },
  {
   "cell_type": "code",
   "execution_count": 260,
   "id": "94c9c4fd",
   "metadata": {},
   "outputs": [],
   "source": [
    "price\n",
    "for i in price_tag:\n",
    "    price.append(i.text)"
   ]
  },
  {
   "cell_type": "code",
   "execution_count": 261,
   "id": "a64f13dc",
   "metadata": {},
   "outputs": [
    {
     "data": {
      "text/plain": [
       "80"
      ]
     },
     "execution_count": 261,
     "metadata": {},
     "output_type": "execute_result"
    }
   ],
   "source": [
    "len(price)"
   ]
  },
  {
   "cell_type": "code",
   "execution_count": 262,
   "id": "915c448e",
   "metadata": {},
   "outputs": [],
   "source": [
    "discount_tag=driver.find_elements(By.XPATH,'//div[@class=\"_3Ay6Sb\"]')"
   ]
  },
  {
   "cell_type": "code",
   "execution_count": 263,
   "id": "b79f6922",
   "metadata": {},
   "outputs": [],
   "source": [
    "discount\n",
    "for i in discount_tag:\n",
    "    discount.append(i.text)"
   ]
  },
  {
   "cell_type": "code",
   "execution_count": 264,
   "id": "1871cb77",
   "metadata": {},
   "outputs": [
    {
     "data": {
      "text/plain": [
       "80"
      ]
     },
     "execution_count": 264,
     "metadata": {},
     "output_type": "execute_result"
    }
   ],
   "source": [
    "len(discount)"
   ]
  },
  {
   "cell_type": "code",
   "execution_count": 265,
   "id": "f5fe4d4b",
   "metadata": {},
   "outputs": [
    {
     "data": {
      "text/plain": [
       "<selenium.webdriver.remote.webelement.WebElement (session=\"cdc451389f969d0979c96b3c2e2da2cc\", element=\"fed5eff0-0307-4f22-ba85-196efccfaa43\")>"
      ]
     },
     "execution_count": 265,
     "metadata": {},
     "output_type": "execute_result"
    }
   ],
   "source": [
    "next_btn=driver.find_element(By.XPATH,'/html/body/div[1]/div/div[3]/div[1]/div[2]/div[12]/div/div/nav/a[11]')\n",
    "next_btn"
   ]
  },
  {
   "cell_type": "code",
   "execution_count": 266,
   "id": "450261ea",
   "metadata": {},
   "outputs": [],
   "source": [
    "next_btn.click()"
   ]
  },
  {
   "cell_type": "code",
   "execution_count": 268,
   "id": "d2f95e8c",
   "metadata": {},
   "outputs": [],
   "source": [
    "brand_tag=driver.find_elements(By.XPATH,'//div[@class=\"_2WkVRV\"]')"
   ]
  },
  {
   "cell_type": "code",
   "execution_count": 269,
   "id": "619ee019",
   "metadata": {},
   "outputs": [],
   "source": [
    "brand\n",
    "for i in brand_tag:\n",
    "    brand.append(i.text)"
   ]
  },
  {
   "cell_type": "code",
   "execution_count": 270,
   "id": "a1833974",
   "metadata": {},
   "outputs": [
    {
     "data": {
      "text/plain": [
       "120"
      ]
     },
     "execution_count": 270,
     "metadata": {},
     "output_type": "execute_result"
    }
   ],
   "source": [
    "len(brand)"
   ]
  },
  {
   "cell_type": "code",
   "execution_count": 275,
   "id": "4548b198",
   "metadata": {},
   "outputs": [
    {
     "data": {
      "text/plain": [
       "['BRUTON', 'Magnolia', 'URBANBOX', 'PUMA', 'BRUTON']"
      ]
     },
     "execution_count": 275,
     "metadata": {},
     "output_type": "execute_result"
    }
   ],
   "source": [
    "finalbrand=list(brand[:100])\n",
    "finalbrand[:5]"
   ]
  },
  {
   "cell_type": "code",
   "execution_count": 276,
   "id": "c1810863",
   "metadata": {},
   "outputs": [],
   "source": [
    "product_desp=driver.find_elements(By.XPATH,'//a[@class=\"IRpwTa\"]')"
   ]
  },
  {
   "cell_type": "code",
   "execution_count": 277,
   "id": "70f9ca85",
   "metadata": {},
   "outputs": [],
   "source": [
    "products\n",
    "for i in product_desp:\n",
    "    \n",
    "     products.append(i.text)"
   ]
  },
  {
   "cell_type": "code",
   "execution_count": 278,
   "id": "fb07591b",
   "metadata": {},
   "outputs": [
    {
     "data": {
      "text/plain": [
       "103"
      ]
     },
     "execution_count": 278,
     "metadata": {},
     "output_type": "execute_result"
    }
   ],
   "source": [
    "len(products)"
   ]
  },
  {
   "cell_type": "code",
   "execution_count": 281,
   "id": "366db97c",
   "metadata": {},
   "outputs": [
    {
     "data": {
      "text/plain": [
       "['Modern Trendy Sneakers Shoes Sneakers For Men',\n",
       " 'Sneakers For Men',\n",
       " 'Puma Smash v2 L Sneakers For Men',\n",
       " 'Modern Trendy Sneakers Shoes Sneakers For Men',\n",
       " 'Sneakers For Men']"
      ]
     },
     "execution_count": 281,
     "metadata": {},
     "output_type": "execute_result"
    }
   ],
   "source": [
    "finalproduct=list(products[:100])\n",
    "finalproduct[:5]"
   ]
  },
  {
   "cell_type": "code",
   "execution_count": 282,
   "id": "9693f29d",
   "metadata": {},
   "outputs": [],
   "source": [
    "price_tag=driver.find_elements(By.XPATH,'//div[@class=\"_30jeq3\"]')"
   ]
  },
  {
   "cell_type": "code",
   "execution_count": 283,
   "id": "377a0306",
   "metadata": {},
   "outputs": [],
   "source": [
    "price\n",
    "for i in price_tag:\n",
    "    price.append(i.text)"
   ]
  },
  {
   "cell_type": "code",
   "execution_count": 284,
   "id": "ea6c1193",
   "metadata": {},
   "outputs": [
    {
     "data": {
      "text/plain": [
       "120"
      ]
     },
     "execution_count": 284,
     "metadata": {},
     "output_type": "execute_result"
    }
   ],
   "source": [
    "len(price)"
   ]
  },
  {
   "cell_type": "code",
   "execution_count": 286,
   "id": "0f3f9f44",
   "metadata": {},
   "outputs": [
    {
     "data": {
      "text/plain": [
       "['₹284', '₹399', '₹219', '₹1,467', '₹299']"
      ]
     },
     "execution_count": 286,
     "metadata": {},
     "output_type": "execute_result"
    }
   ],
   "source": [
    "finalprice=list(price[:100])\n",
    "finalprice[:5]"
   ]
  },
  {
   "cell_type": "code",
   "execution_count": 287,
   "id": "32962033",
   "metadata": {},
   "outputs": [],
   "source": [
    "discount_tag=driver.find_elements(By.XPATH,'//div[@class=\"_3Ay6Sb\"]')"
   ]
  },
  {
   "cell_type": "code",
   "execution_count": 288,
   "id": "997efd5e",
   "metadata": {},
   "outputs": [],
   "source": [
    "discount\n",
    "for i in discount_tag:\n",
    "    discount.append(i.text)"
   ]
  },
  {
   "cell_type": "code",
   "execution_count": 289,
   "id": "4eb908ef",
   "metadata": {},
   "outputs": [
    {
     "data": {
      "text/plain": [
       "119"
      ]
     },
     "execution_count": 289,
     "metadata": {},
     "output_type": "execute_result"
    }
   ],
   "source": [
    "len(discount)"
   ]
  },
  {
   "cell_type": "code",
   "execution_count": 291,
   "id": "e40869b4",
   "metadata": {},
   "outputs": [
    {
     "data": {
      "text/plain": [
       "['78% off', '60% off', '78% off', '58% off', '76% off']"
      ]
     },
     "execution_count": 291,
     "metadata": {},
     "output_type": "execute_result"
    }
   ],
   "source": [
    "finaldiscount=list(discount[:100])\n",
    "finaldiscount[:5]"
   ]
  },
  {
   "cell_type": "code",
   "execution_count": 292,
   "id": "489c69e2",
   "metadata": {},
   "outputs": [],
   "source": [
    "df=pd.DataFrame()"
   ]
  },
  {
   "cell_type": "code",
   "execution_count": 293,
   "id": "1f79027e",
   "metadata": {},
   "outputs": [],
   "source": [
    "df['BRAND']=finalbrand\n",
    "df['PRODUCT_DESCRP']=finalproduct\n",
    "df['PRICE']=finalprice\n",
    "df['DISCOUNT']=finaldiscount\n"
   ]
  },
  {
   "cell_type": "code",
   "execution_count": 294,
   "id": "c5850dd9",
   "metadata": {},
   "outputs": [
    {
     "data": {
      "text/html": [
       "<div>\n",
       "<style scoped>\n",
       "    .dataframe tbody tr th:only-of-type {\n",
       "        vertical-align: middle;\n",
       "    }\n",
       "\n",
       "    .dataframe tbody tr th {\n",
       "        vertical-align: top;\n",
       "    }\n",
       "\n",
       "    .dataframe thead th {\n",
       "        text-align: right;\n",
       "    }\n",
       "</style>\n",
       "<table border=\"1\" class=\"dataframe\">\n",
       "  <thead>\n",
       "    <tr style=\"text-align: right;\">\n",
       "      <th></th>\n",
       "      <th>BRAND</th>\n",
       "      <th>PRODUCT_DESCRP</th>\n",
       "      <th>PRICE</th>\n",
       "      <th>DISCOUNT</th>\n",
       "    </tr>\n",
       "  </thead>\n",
       "  <tbody>\n",
       "    <tr>\n",
       "      <th>0</th>\n",
       "      <td>BRUTON</td>\n",
       "      <td>Modern Trendy Sneakers Shoes Sneakers For Men</td>\n",
       "      <td>₹284</td>\n",
       "      <td>78% off</td>\n",
       "    </tr>\n",
       "    <tr>\n",
       "      <th>1</th>\n",
       "      <td>Magnolia</td>\n",
       "      <td>Sneakers For Men</td>\n",
       "      <td>₹399</td>\n",
       "      <td>60% off</td>\n",
       "    </tr>\n",
       "    <tr>\n",
       "      <th>2</th>\n",
       "      <td>URBANBOX</td>\n",
       "      <td>Puma Smash v2 L Sneakers For Men</td>\n",
       "      <td>₹219</td>\n",
       "      <td>78% off</td>\n",
       "    </tr>\n",
       "    <tr>\n",
       "      <th>3</th>\n",
       "      <td>PUMA</td>\n",
       "      <td>Modern Trendy Sneakers Shoes Sneakers For Men</td>\n",
       "      <td>₹1,467</td>\n",
       "      <td>58% off</td>\n",
       "    </tr>\n",
       "    <tr>\n",
       "      <th>4</th>\n",
       "      <td>BRUTON</td>\n",
       "      <td>Sneakers For Men</td>\n",
       "      <td>₹299</td>\n",
       "      <td>76% off</td>\n",
       "    </tr>\n",
       "    <tr>\n",
       "      <th>...</th>\n",
       "      <td>...</td>\n",
       "      <td>...</td>\n",
       "      <td>...</td>\n",
       "      <td>...</td>\n",
       "    </tr>\n",
       "    <tr>\n",
       "      <th>95</th>\n",
       "      <td>WOODLAND</td>\n",
       "      <td>Ferrari Electron E Pro Sneakers For Men</td>\n",
       "      <td>₹1,947</td>\n",
       "      <td>34% off</td>\n",
       "    </tr>\n",
       "    <tr>\n",
       "      <th>96</th>\n",
       "      <td>Kirjak</td>\n",
       "      <td>Sneakers For Men</td>\n",
       "      <td>₹490</td>\n",
       "      <td>75% off</td>\n",
       "    </tr>\n",
       "    <tr>\n",
       "      <th>97</th>\n",
       "      <td>PUMA</td>\n",
       "      <td>Cape Sneakers For Men</td>\n",
       "      <td>₹2,470</td>\n",
       "      <td>61% off</td>\n",
       "    </tr>\n",
       "    <tr>\n",
       "      <th>98</th>\n",
       "      <td>Hida</td>\n",
       "      <td>SS1100 Sneakers For Men</td>\n",
       "      <td>₹501</td>\n",
       "      <td>49% off</td>\n",
       "    </tr>\n",
       "    <tr>\n",
       "      <th>99</th>\n",
       "      <td>Dizzler</td>\n",
       "      <td>Perfect Combo Sport Shoes for Running Training...</td>\n",
       "      <td>₹435</td>\n",
       "      <td>39% off</td>\n",
       "    </tr>\n",
       "  </tbody>\n",
       "</table>\n",
       "<p>100 rows × 4 columns</p>\n",
       "</div>"
      ],
      "text/plain": [
       "       BRAND                                     PRODUCT_DESCRP   PRICE  \\\n",
       "0     BRUTON      Modern Trendy Sneakers Shoes Sneakers For Men    ₹284   \n",
       "1   Magnolia                                   Sneakers For Men    ₹399   \n",
       "2   URBANBOX                   Puma Smash v2 L Sneakers For Men    ₹219   \n",
       "3       PUMA      Modern Trendy Sneakers Shoes Sneakers For Men  ₹1,467   \n",
       "4     BRUTON                                   Sneakers For Men    ₹299   \n",
       "..       ...                                                ...     ...   \n",
       "95  WOODLAND            Ferrari Electron E Pro Sneakers For Men  ₹1,947   \n",
       "96    Kirjak                                   Sneakers For Men    ₹490   \n",
       "97      PUMA                              Cape Sneakers For Men  ₹2,470   \n",
       "98      Hida                            SS1100 Sneakers For Men    ₹501   \n",
       "99   Dizzler  Perfect Combo Sport Shoes for Running Training...    ₹435   \n",
       "\n",
       "   DISCOUNT  \n",
       "0   78% off  \n",
       "1   60% off  \n",
       "2   78% off  \n",
       "3   58% off  \n",
       "4   76% off  \n",
       "..      ...  \n",
       "95  34% off  \n",
       "96  75% off  \n",
       "97  61% off  \n",
       "98  49% off  \n",
       "99  39% off  \n",
       "\n",
       "[100 rows x 4 columns]"
      ]
     },
     "execution_count": 294,
     "metadata": {},
     "output_type": "execute_result"
    }
   ],
   "source": [
    "df"
   ]
  },
  {
   "cell_type": "markdown",
   "id": "20bcadf0",
   "metadata": {},
   "source": [
    "# AMAZON \n"
   ]
  },
  {
   "cell_type": "code",
   "execution_count": 34,
   "id": "daccb915",
   "metadata": {},
   "outputs": [],
   "source": [
    "import selenium\n",
    "from selenium import webdriver\n",
    "import pandas as pd\n",
    "import warnings\n",
    "warnings.filterwarnings(\"ignore\")"
   ]
  },
  {
   "cell_type": "code",
   "execution_count": 35,
   "id": "10a3ba2b",
   "metadata": {},
   "outputs": [],
   "source": [
    "driver=webdriver.Chrome(r'D:\\flip robo\\chromedriver_win32\\chromedriver.exe')"
   ]
  },
  {
   "cell_type": "code",
   "execution_count": 36,
   "id": "8667c99a",
   "metadata": {},
   "outputs": [],
   "source": [
    "url=\"https://www.amazon.in/\"\n",
    "driver.get(url)"
   ]
  },
  {
   "cell_type": "code",
   "execution_count": 37,
   "id": "cccf1ced",
   "metadata": {},
   "outputs": [],
   "source": [
    "from selenium.webdriver.common.by import By"
   ]
  },
  {
   "cell_type": "code",
   "execution_count": 38,
   "id": "cd83552e",
   "metadata": {},
   "outputs": [
    {
     "data": {
      "text/plain": [
       "<selenium.webdriver.remote.webelement.WebElement (session=\"4955518506b23b8e0c73ec0a6cda4586\", element=\"be1930b7-cd76-40d8-84aa-bc823253fb2a\")>"
      ]
     },
     "execution_count": 38,
     "metadata": {},
     "output_type": "execute_result"
    }
   ],
   "source": [
    "search_amz=driver.find_element(By.XPATH,'/html/body/div[1]/header/div/div[1]/div[2]/div/form/div[2]/div[1]/input')\n",
    "search_amz"
   ]
  },
  {
   "cell_type": "code",
   "execution_count": 39,
   "id": "49e4e592",
   "metadata": {},
   "outputs": [],
   "source": [
    "search_amz.send_keys('laptop')"
   ]
  },
  {
   "cell_type": "code",
   "execution_count": 40,
   "id": "e4c34144",
   "metadata": {},
   "outputs": [
    {
     "data": {
      "text/plain": [
       "<selenium.webdriver.remote.webelement.WebElement (session=\"4955518506b23b8e0c73ec0a6cda4586\", element=\"3c555d82-118c-4fe0-8c71-e65d99f1161f\")>"
      ]
     },
     "execution_count": 40,
     "metadata": {},
     "output_type": "execute_result"
    }
   ],
   "source": [
    "search_btn=driver.find_element(By.XPATH,'/html/body/div[1]/header/div/div[1]/div[2]/div/form/div[3]/div/span/input')\n",
    "search_btn"
   ]
  },
  {
   "cell_type": "code",
   "execution_count": 41,
   "id": "82d1d5a3",
   "metadata": {},
   "outputs": [],
   "source": [
    "search_btn.click()"
   ]
  },
  {
   "cell_type": "code",
   "execution_count": null,
   "id": "05a8d842",
   "metadata": {},
   "outputs": [],
   "source": []
  },
  {
   "cell_type": "code",
   "execution_count": 42,
   "id": "614d13cd",
   "metadata": {},
   "outputs": [
    {
     "data": {
      "text/plain": [
       "<selenium.webdriver.remote.webelement.WebElement (session=\"4955518506b23b8e0c73ec0a6cda4586\", element=\"49f0e467-2063-4607-abf8-f18f793bc0d0\")>"
      ]
     },
     "execution_count": 42,
     "metadata": {},
     "output_type": "execute_result"
    }
   ],
   "source": [
    "cpu_check=driver.find_element(By.XPATH,'/html/body/div[1]/div[2]/div[1]/div[2]/div/div[3]/span/div[1]/div/div/div[5]/ul[4]/li[12]/span/a/div/label/i')\n",
    "cpu_check"
   ]
  },
  {
   "cell_type": "code",
   "execution_count": 43,
   "id": "7a0f20f5",
   "metadata": {},
   "outputs": [],
   "source": [
    "cpu_check.click()"
   ]
  },
  {
   "cell_type": "code",
   "execution_count": 56,
   "id": "c8b2cf58",
   "metadata": {},
   "outputs": [],
   "source": [
    "company_tag=driver.find_elements(By.XPATH,'//span[@class=\"a-size-medium a-color-base a-text-normal\"]')"
   ]
  },
  {
   "cell_type": "code",
   "execution_count": 57,
   "id": "5349c2db",
   "metadata": {},
   "outputs": [],
   "source": [
    "company=[]\n",
    "for i in company_tag:\n",
    "    company.append(i.text)"
   ]
  },
  {
   "cell_type": "code",
   "execution_count": 59,
   "id": "69e97abd",
   "metadata": {},
   "outputs": [
    {
     "data": {
      "text/plain": [
       "['Acer Extensa Intel Core i3 11th Gen Intel Core i3 15.6\" (39.6 cms) Laptop - (4 GB/256 GB SSD/Windows 11 Home/Intel UHD Graphics /1.7Kg/Black) EX215-54',\n",
       " 'Lenovo IdeaPad Slim 3 Intel Core i3 12th Gen 15.6\" (39.62cm) FHD Thin & Light Laptop (8GB/512GB SSD/Windows 11/Office 2021/2Yr Warranty/3months Game Pass/Arctic Grey/1.63Kg), 82RK006DIN',\n",
       " 'ASUS VivoBook 14 (2021), 14-inch (35.56 cm) HD, Intel Core i3-1005G1 10th Gen, Thin and Light Laptop (8GB/1TB HDD/Windows 11/Integrated Graphics/Grey/1.6 kg), X415JA-BV301W',\n",
       " 'Lenovo IdeaPad Slim 3 Intel Core i3 11th Gen 15.6\" (39.62cm) FHD Thin & Light Laptop (8GB/512GB SSD/Windows 11/Office 2021/2Yr Warranty/3months Game Pass/Arctic Grey/1.65Kg), 82H802FJIN',\n",
       " 'Hp 14S, 11Th Gen Intel Core I3, 8Gb Ram/512Gb Ssd 14 Inches (35.6 cm) Fhd,Micro-Edge, IPS Display/Alexa Built-in/Windows 11 Home/Backlit Keyboard/Uhd Graphics/Dual Speakers/Ms Office, 14S-Dq2606Tu',\n",
       " 'Lenovo IdeaPad Slim 3 Intel Core i3 10th Gen 15.6\" (39.62cm) HD Thin & Light Laptop (8GB/512GB SSD/Windows 11/Office 2021/2Yr Warranty/3months Game Pass/Platinum Grey/1.85Kg), 81WE01QLIN',\n",
       " 'Hp 14S 11Th Gen Intel Core I3- 8Gb Ram/256Gb Ssd 14 Inches Fhd,Micro-Edge,Anti-Glare,IPS Display/Uhd Graphics/ Windows 11 Home/ Ms Office/ Alexa Built-in/ 1.46Kg/ Natural Silver - 14S-Dy2506Tu',\n",
       " 'Honor MagicBook X 15, Intel Core i3-10110U / 15.6 inch (39.62 cm) FHD IPS Anti-Glare Thin and Light Laptop (8GB/256GB PCIe SSD/Windows 10/Aluminium Metal Body/1.56Kg), Silver, (BohrBR-WAI9A)',\n",
       " 'HP 15s-11th Gen Intel Core i3- 8GB RAM/512GB SSD 15.6 inch(39.6cm) FHD,Micro-Edge, Anti-Glare Display (UHD Graphics/Alexa/Dual Speakers/Fast Charge/Win 11/MS Office), 15s- fr2508TU',\n",
       " 'Hp 15S, 11Th Gen Intel Core I3, 8Gb Ram/512Gb Ssd 15 Inches (39.6 Cm) Fhd, Micro-Edge, Anti-Glare Display/Alexa Built-In/Windows 11 Home/Uhd Graphics/Dual Speakers/ Ms Office, 15S- Fq2627Tu, Jet Black']"
      ]
     },
     "execution_count": 59,
     "metadata": {},
     "output_type": "execute_result"
    }
   ],
   "source": [
    "company[:10]"
   ]
  },
  {
   "cell_type": "code",
   "execution_count": 64,
   "id": "83534340",
   "metadata": {},
   "outputs": [],
   "source": [
    "brand=list(company[:10])"
   ]
  },
  {
   "cell_type": "code",
   "execution_count": 48,
   "id": "51f3c550",
   "metadata": {},
   "outputs": [],
   "source": [
    "titles_rat=driver.find_elements(By.XPATH,\"//div[@class='a-row a-size-small']/span\")\n",
    "Rating=[]\n",
    "for i in titles_rat:\n",
    "\n",
    "    Rating.append(i.get_attribute(\"aria-label\"))"
   ]
  },
  {
   "cell_type": "code",
   "execution_count": 50,
   "id": "d9de352f",
   "metadata": {},
   "outputs": [
    {
     "data": {
      "text/plain": [
       "['3.4 out of 5 stars',\n",
       " '114',\n",
       " '4.2 out of 5 stars',\n",
       " '110',\n",
       " '4.1 out of 5 stars',\n",
       " '93',\n",
       " '4.6 out of 5 stars',\n",
       " '3',\n",
       " '4.2 out of 5 stars',\n",
       " '2,359']"
      ]
     },
     "execution_count": 50,
     "metadata": {},
     "output_type": "execute_result"
    }
   ],
   "source": [
    "Rating[:10]"
   ]
  },
  {
   "cell_type": "code",
   "execution_count": 63,
   "id": "a0ed622e",
   "metadata": {},
   "outputs": [],
   "source": [
    "Ratings=list(Rating[:10])"
   ]
  },
  {
   "cell_type": "code",
   "execution_count": 52,
   "id": "1124eaa9",
   "metadata": {},
   "outputs": [],
   "source": [
    "price_tag=driver.find_elements(By.XPATH,'//span[@class=\"a-price-whole\"]')"
   ]
  },
  {
   "cell_type": "code",
   "execution_count": 53,
   "id": "65cc641b",
   "metadata": {},
   "outputs": [],
   "source": [
    "price=[]\n",
    "for i in price_tag:\n",
    "    price.append(i.text)"
   ]
  },
  {
   "cell_type": "code",
   "execution_count": 55,
   "id": "ac521500",
   "metadata": {},
   "outputs": [
    {
     "data": {
      "text/plain": [
       "['33,490',\n",
       " '46,490',\n",
       " '28,990',\n",
       " '37,990',\n",
       " '40,900',\n",
       " '34,790',\n",
       " '36,990',\n",
       " '32,990',\n",
       " '40,845',\n",
       " '39,890']"
      ]
     },
     "execution_count": 55,
     "metadata": {},
     "output_type": "execute_result"
    }
   ],
   "source": [
    "price[:10]"
   ]
  },
  {
   "cell_type": "code",
   "execution_count": 66,
   "id": "0876b0bb",
   "metadata": {},
   "outputs": [],
   "source": [
    "prices=list(price[:10])"
   ]
  },
  {
   "cell_type": "code",
   "execution_count": 67,
   "id": "4d045153",
   "metadata": {},
   "outputs": [],
   "source": [
    "df=pd.DataFrame()"
   ]
  },
  {
   "cell_type": "code",
   "execution_count": 68,
   "id": "a0792262",
   "metadata": {},
   "outputs": [],
   "source": [
    "df['BRAND']=brand\n",
    "df['RATING']=Ratings\n",
    "df['PRICE']=prices"
   ]
  },
  {
   "cell_type": "code",
   "execution_count": 69,
   "id": "11c7c92f",
   "metadata": {},
   "outputs": [
    {
     "data": {
      "text/html": [
       "<div>\n",
       "<style scoped>\n",
       "    .dataframe tbody tr th:only-of-type {\n",
       "        vertical-align: middle;\n",
       "    }\n",
       "\n",
       "    .dataframe tbody tr th {\n",
       "        vertical-align: top;\n",
       "    }\n",
       "\n",
       "    .dataframe thead th {\n",
       "        text-align: right;\n",
       "    }\n",
       "</style>\n",
       "<table border=\"1\" class=\"dataframe\">\n",
       "  <thead>\n",
       "    <tr style=\"text-align: right;\">\n",
       "      <th></th>\n",
       "      <th>BRAND</th>\n",
       "      <th>RATING</th>\n",
       "      <th>PRICE</th>\n",
       "    </tr>\n",
       "  </thead>\n",
       "  <tbody>\n",
       "    <tr>\n",
       "      <th>0</th>\n",
       "      <td>Acer Extensa Intel Core i3 11th Gen Intel Core...</td>\n",
       "      <td>3.4 out of 5 stars</td>\n",
       "      <td>33,490</td>\n",
       "    </tr>\n",
       "    <tr>\n",
       "      <th>1</th>\n",
       "      <td>Lenovo IdeaPad Slim 3 Intel Core i3 12th Gen 1...</td>\n",
       "      <td>114</td>\n",
       "      <td>46,490</td>\n",
       "    </tr>\n",
       "    <tr>\n",
       "      <th>2</th>\n",
       "      <td>ASUS VivoBook 14 (2021), 14-inch (35.56 cm) HD...</td>\n",
       "      <td>4.2 out of 5 stars</td>\n",
       "      <td>28,990</td>\n",
       "    </tr>\n",
       "    <tr>\n",
       "      <th>3</th>\n",
       "      <td>Lenovo IdeaPad Slim 3 Intel Core i3 11th Gen 1...</td>\n",
       "      <td>110</td>\n",
       "      <td>37,990</td>\n",
       "    </tr>\n",
       "    <tr>\n",
       "      <th>4</th>\n",
       "      <td>Hp 14S, 11Th Gen Intel Core I3, 8Gb Ram/512Gb ...</td>\n",
       "      <td>4.1 out of 5 stars</td>\n",
       "      <td>40,900</td>\n",
       "    </tr>\n",
       "    <tr>\n",
       "      <th>5</th>\n",
       "      <td>Lenovo IdeaPad Slim 3 Intel Core i3 10th Gen 1...</td>\n",
       "      <td>93</td>\n",
       "      <td>34,790</td>\n",
       "    </tr>\n",
       "    <tr>\n",
       "      <th>6</th>\n",
       "      <td>Hp 14S 11Th Gen Intel Core I3- 8Gb Ram/256Gb S...</td>\n",
       "      <td>4.6 out of 5 stars</td>\n",
       "      <td>36,990</td>\n",
       "    </tr>\n",
       "    <tr>\n",
       "      <th>7</th>\n",
       "      <td>Honor MagicBook X 15, Intel Core i3-10110U / 1...</td>\n",
       "      <td>3</td>\n",
       "      <td>32,990</td>\n",
       "    </tr>\n",
       "    <tr>\n",
       "      <th>8</th>\n",
       "      <td>HP 15s-11th Gen Intel Core i3- 8GB RAM/512GB S...</td>\n",
       "      <td>4.2 out of 5 stars</td>\n",
       "      <td>40,845</td>\n",
       "    </tr>\n",
       "    <tr>\n",
       "      <th>9</th>\n",
       "      <td>Hp 15S, 11Th Gen Intel Core I3, 8Gb Ram/512Gb ...</td>\n",
       "      <td>2,359</td>\n",
       "      <td>39,890</td>\n",
       "    </tr>\n",
       "  </tbody>\n",
       "</table>\n",
       "</div>"
      ],
      "text/plain": [
       "                                               BRAND              RATING  \\\n",
       "0  Acer Extensa Intel Core i3 11th Gen Intel Core...  3.4 out of 5 stars   \n",
       "1  Lenovo IdeaPad Slim 3 Intel Core i3 12th Gen 1...                 114   \n",
       "2  ASUS VivoBook 14 (2021), 14-inch (35.56 cm) HD...  4.2 out of 5 stars   \n",
       "3  Lenovo IdeaPad Slim 3 Intel Core i3 11th Gen 1...                 110   \n",
       "4  Hp 14S, 11Th Gen Intel Core I3, 8Gb Ram/512Gb ...  4.1 out of 5 stars   \n",
       "5  Lenovo IdeaPad Slim 3 Intel Core i3 10th Gen 1...                  93   \n",
       "6  Hp 14S 11Th Gen Intel Core I3- 8Gb Ram/256Gb S...  4.6 out of 5 stars   \n",
       "7  Honor MagicBook X 15, Intel Core i3-10110U / 1...                   3   \n",
       "8  HP 15s-11th Gen Intel Core i3- 8GB RAM/512GB S...  4.2 out of 5 stars   \n",
       "9  Hp 15S, 11Th Gen Intel Core I3, 8Gb Ram/512Gb ...               2,359   \n",
       "\n",
       "    PRICE  \n",
       "0  33,490  \n",
       "1  46,490  \n",
       "2  28,990  \n",
       "3  37,990  \n",
       "4  40,900  \n",
       "5  34,790  \n",
       "6  36,990  \n",
       "7  32,990  \n",
       "8  40,845  \n",
       "9  39,890  "
      ]
     },
     "execution_count": 69,
     "metadata": {},
     "output_type": "execute_result"
    }
   ],
   "source": [
    "df"
   ]
  },
  {
   "cell_type": "markdown",
   "id": "065f76e7",
   "metadata": {},
   "source": [
    "# ambition box"
   ]
  },
  {
   "cell_type": "code",
   "execution_count": 1,
   "id": "0269615a",
   "metadata": {},
   "outputs": [],
   "source": [
    "import selenium\n",
    "from selenium import webdriver\n",
    "import pandas as pd\n",
    "import warnings\n",
    "warnings.filterwarnings(\"ignore\")"
   ]
  },
  {
   "cell_type": "code",
   "execution_count": 2,
   "id": "cc074db4",
   "metadata": {},
   "outputs": [],
   "source": [
    "driver=webdriver.Chrome('chromedriver.exe')"
   ]
  },
  {
   "cell_type": "code",
   "execution_count": 3,
   "id": "95e350b1",
   "metadata": {},
   "outputs": [],
   "source": [
    "url=\"https://www.ambitionbox.com/\"\n",
    "driver.get(url)"
   ]
  },
  {
   "cell_type": "code",
   "execution_count": 4,
   "id": "540786c1",
   "metadata": {},
   "outputs": [],
   "source": [
    "from selenium.webdriver.common.by import By"
   ]
  },
  {
   "cell_type": "code",
   "execution_count": 5,
   "id": "b407a2d9",
   "metadata": {},
   "outputs": [
    {
     "data": {
      "text/plain": [
       "<selenium.webdriver.remote.webelement.WebElement (session=\"9601564b9c417b350af96dcd60282692\", element=\"04f69e8e-32b5-4a47-a870-8392dd3234af\")>"
      ]
     },
     "execution_count": 5,
     "metadata": {},
     "output_type": "execute_result"
    }
   ],
   "source": [
    "job_btn=driver.find_element(By.XPATH,'/html/body/div[1]/nav/nav/a[6]')\n",
    "job_btn"
   ]
  },
  {
   "cell_type": "code",
   "execution_count": 6,
   "id": "18f6c9c2",
   "metadata": {},
   "outputs": [],
   "source": [
    "job_btn.click()"
   ]
  },
  {
   "cell_type": "code",
   "execution_count": 16,
   "id": "6db3eed4",
   "metadata": {},
   "outputs": [
    {
     "data": {
      "text/plain": [
       "<selenium.webdriver.remote.webelement.WebElement (session=\"9601564b9c417b350af96dcd60282692\", element=\"e6dca7c4-a7a0-4fea-b68d-fd51414df5b3\")>"
      ]
     },
     "execution_count": 16,
     "metadata": {},
     "output_type": "execute_result"
    }
   ],
   "source": [
    "search_job=driver.find_element(By.XPATH,'/html/body/div/div/div/div[2]/div[1]/div[1]/div/div/div/div/span/input')\n",
    "search_job"
   ]
  },
  {
   "cell_type": "code",
   "execution_count": 17,
   "id": "de96d41b",
   "metadata": {},
   "outputs": [],
   "source": [
    "search_job.send_keys(\"data scientist\")"
   ]
  },
  {
   "cell_type": "code",
   "execution_count": 18,
   "id": "9a478e01",
   "metadata": {},
   "outputs": [
    {
     "data": {
      "text/plain": [
       "<selenium.webdriver.remote.webelement.WebElement (session=\"9601564b9c417b350af96dcd60282692\", element=\"0fe1ec3d-c164-488f-b731-3a055a9d865a\")>"
      ]
     },
     "execution_count": 18,
     "metadata": {},
     "output_type": "execute_result"
    }
   ],
   "source": [
    "search_btn1=driver.find_element(By.XPATH,'/html/body/div/div/div/div[2]/div[1]/div[1]/div/div/div/button')\n",
    "search_btn1"
   ]
  },
  {
   "cell_type": "code",
   "execution_count": 19,
   "id": "7f33e994",
   "metadata": {},
   "outputs": [],
   "source": [
    "search_btn1.click()"
   ]
  },
  {
   "cell_type": "code",
   "execution_count": 20,
   "id": "49bf4f67",
   "metadata": {},
   "outputs": [
    {
     "data": {
      "text/plain": [
       "<selenium.webdriver.remote.webelement.WebElement (session=\"9601564b9c417b350af96dcd60282692\", element=\"a27feea9-571d-46a7-b646-bfc898f860e1\")>"
      ]
     },
     "execution_count": 20,
     "metadata": {},
     "output_type": "execute_result"
    }
   ],
   "source": [
    "location=driver.find_element(By.XPATH,'/html/body/div/div/div/div[2]/div[1]/div[2]/div[1]/div/div/div/div[2]/div[1]/p')\n",
    "location"
   ]
  },
  {
   "cell_type": "code",
   "execution_count": 21,
   "id": "6631506b",
   "metadata": {},
   "outputs": [
    {
     "data": {
      "text/plain": [
       "<selenium.webdriver.remote.webelement.WebElement (session=\"9601564b9c417b350af96dcd60282692\", element=\"e6a59cb9-1746-433a-b232-a5d250251895\")>"
      ]
     },
     "execution_count": 21,
     "metadata": {},
     "output_type": "execute_result"
    }
   ],
   "source": [
    "search_locn=driver.find_element(By.XPATH,'/html/body/div/div/div/div[2]/div[1]/div[2]/div[1]/div/div/div/div[2]/div[2]/div/div[2]/input')\n",
    "search_locn"
   ]
  },
  {
   "cell_type": "code",
   "execution_count": 23,
   "id": "2e4187a2",
   "metadata": {},
   "outputs": [],
   "source": [
    "search_locn.send_keys(\"noida\")"
   ]
  },
  {
   "cell_type": "code",
   "execution_count": 25,
   "id": "5ee3e2d6",
   "metadata": {},
   "outputs": [],
   "source": [
    "select_locn=driver.find_element(By.XPATH,'/html/body/div/div/div/div[2]/div[1]/div[2]/div[1]/div/div/div/div[2]/div[2]/div/div[3]/div[1]/div[1]/div/label')\n",
    "select_locn.click()"
   ]
  },
  {
   "cell_type": "code",
   "execution_count": 26,
   "id": "5dd0178a",
   "metadata": {},
   "outputs": [],
   "source": [
    "title_tag=driver.find_elements(By.XPATH,'//a[@class=\"title noclick\"]')"
   ]
  },
  {
   "cell_type": "code",
   "execution_count": 27,
   "id": "0bb092f1",
   "metadata": {},
   "outputs": [],
   "source": [
    "job_title=[]\n",
    "for i in title_tag:\n",
    "    job_title.append(i.text)"
   ]
  },
  {
   "cell_type": "code",
   "execution_count": 28,
   "id": "5ad4b626",
   "metadata": {},
   "outputs": [
    {
     "data": {
      "text/plain": [
       "['Senior Data Scientist',\n",
       " 'Data Scientist- Forecasting and R or Python',\n",
       " 'LatentBridge - Data Scientist - Python/R (2-6 yrs)',\n",
       " 'Data Scientist - Machine Learning Algorithms (3-8 yrs)',\n",
       " 'Data Scientist - Machine Learning/Big Data (0-4 yrs)',\n",
       " 'Info Edge - Data Scientist - Machine Learning/NLP (0-2 yrs)',\n",
       " 'Info Edge - Senior Data Scientist - Machine Learning/Deep Learning (3-5 yrs)',\n",
       " 'Data Science Trainer | AI | Machine Learning | Python |',\n",
       " 'Data Scientist - NLP',\n",
       " 'Principal Scientist - Machine Learning - IT (15-26 yrs)']"
      ]
     },
     "execution_count": 28,
     "metadata": {},
     "output_type": "execute_result"
    }
   ],
   "source": [
    "job_title[:10]"
   ]
  },
  {
   "cell_type": "code",
   "execution_count": 29,
   "id": "59a82002",
   "metadata": {},
   "outputs": [],
   "source": [
    "jobs=pd.DataFrame()\n",
    "jobs['Job Title']=job_title"
   ]
  },
  {
   "cell_type": "code",
   "execution_count": 30,
   "id": "c1ccdd56",
   "metadata": {},
   "outputs": [
    {
     "data": {
      "text/html": [
       "<div>\n",
       "<style scoped>\n",
       "    .dataframe tbody tr th:only-of-type {\n",
       "        vertical-align: middle;\n",
       "    }\n",
       "\n",
       "    .dataframe tbody tr th {\n",
       "        vertical-align: top;\n",
       "    }\n",
       "\n",
       "    .dataframe thead th {\n",
       "        text-align: right;\n",
       "    }\n",
       "</style>\n",
       "<table border=\"1\" class=\"dataframe\">\n",
       "  <thead>\n",
       "    <tr style=\"text-align: right;\">\n",
       "      <th></th>\n",
       "      <th>Job Title</th>\n",
       "    </tr>\n",
       "  </thead>\n",
       "  <tbody>\n",
       "    <tr>\n",
       "      <th>0</th>\n",
       "      <td>Senior Data Scientist</td>\n",
       "    </tr>\n",
       "    <tr>\n",
       "      <th>1</th>\n",
       "      <td>Data Scientist- Forecasting and R or Python</td>\n",
       "    </tr>\n",
       "    <tr>\n",
       "      <th>2</th>\n",
       "      <td>LatentBridge - Data Scientist - Python/R (2-6 ...</td>\n",
       "    </tr>\n",
       "    <tr>\n",
       "      <th>3</th>\n",
       "      <td>Data Scientist - Machine Learning Algorithms (...</td>\n",
       "    </tr>\n",
       "    <tr>\n",
       "      <th>4</th>\n",
       "      <td>Data Scientist - Machine Learning/Big Data (0-...</td>\n",
       "    </tr>\n",
       "    <tr>\n",
       "      <th>5</th>\n",
       "      <td>Info Edge - Data Scientist - Machine Learning/...</td>\n",
       "    </tr>\n",
       "    <tr>\n",
       "      <th>6</th>\n",
       "      <td>Info Edge - Senior Data Scientist - Machine Le...</td>\n",
       "    </tr>\n",
       "    <tr>\n",
       "      <th>7</th>\n",
       "      <td>Data Science Trainer | AI | Machine Learning |...</td>\n",
       "    </tr>\n",
       "    <tr>\n",
       "      <th>8</th>\n",
       "      <td>Data Scientist - NLP</td>\n",
       "    </tr>\n",
       "    <tr>\n",
       "      <th>9</th>\n",
       "      <td>Principal Scientist - Machine Learning - IT (1...</td>\n",
       "    </tr>\n",
       "  </tbody>\n",
       "</table>\n",
       "</div>"
      ],
      "text/plain": [
       "                                           Job Title\n",
       "0                              Senior Data Scientist\n",
       "1        Data Scientist- Forecasting and R or Python\n",
       "2  LatentBridge - Data Scientist - Python/R (2-6 ...\n",
       "3  Data Scientist - Machine Learning Algorithms (...\n",
       "4  Data Scientist - Machine Learning/Big Data (0-...\n",
       "5  Info Edge - Data Scientist - Machine Learning/...\n",
       "6  Info Edge - Senior Data Scientist - Machine Le...\n",
       "7  Data Science Trainer | AI | Machine Learning |...\n",
       "8                               Data Scientist - NLP\n",
       "9  Principal Scientist - Machine Learning - IT (1..."
      ]
     },
     "execution_count": 30,
     "metadata": {},
     "output_type": "execute_result"
    }
   ],
   "source": [
    "jobs[:10]"
   ]
  },
  {
   "cell_type": "code",
   "execution_count": null,
   "id": "b8c35951",
   "metadata": {},
   "outputs": [],
   "source": []
  },
  {
   "cell_type": "markdown",
   "id": "d83827f7",
   "metadata": {},
   "source": [
    "# salary comparsion"
   ]
  },
  {
   "cell_type": "code",
   "execution_count": 140,
   "id": "ecdd09d2",
   "metadata": {},
   "outputs": [],
   "source": [
    "import selenium\n",
    "from selenium import webdriver\n",
    "import pandas as pd\n",
    "import warnings\n",
    "warnings.filterwarnings(\"ignore\")"
   ]
  },
  {
   "cell_type": "code",
   "execution_count": 141,
   "id": "6f4ca548",
   "metadata": {},
   "outputs": [],
   "source": [
    "driver=webdriver.Chrome('chromedriver.exe')"
   ]
  },
  {
   "cell_type": "code",
   "execution_count": 142,
   "id": "c7af0a75",
   "metadata": {},
   "outputs": [],
   "source": [
    "url=\"https://www.ambitionbox.com/\"\n",
    "driver.get(url)"
   ]
  },
  {
   "cell_type": "code",
   "execution_count": 143,
   "id": "2a2a062d",
   "metadata": {},
   "outputs": [],
   "source": [
    "from selenium.webdriver.common.by import By"
   ]
  },
  {
   "cell_type": "code",
   "execution_count": 144,
   "id": "075ffd59",
   "metadata": {},
   "outputs": [
    {
     "data": {
      "text/plain": [
       "<selenium.webdriver.remote.webelement.WebElement (session=\"328b2abdb90d63396407c33a309f9163\", element=\"24e3d735-d22e-4e8e-8163-43b92c8d8ded\")>"
      ]
     },
     "execution_count": 144,
     "metadata": {},
     "output_type": "execute_result"
    }
   ],
   "source": [
    "salary_btn=driver.find_element(By.XPATH,'//a[@href=\"https://www.ambitionbox.com/salaries\"]')\n",
    "salary_btn"
   ]
  },
  {
   "cell_type": "code",
   "execution_count": 145,
   "id": "13c04418",
   "metadata": {},
   "outputs": [],
   "source": [
    "salary_btn.click()"
   ]
  },
  {
   "cell_type": "code",
   "execution_count": 146,
   "id": "35aeebad",
   "metadata": {},
   "outputs": [
    {
     "data": {
      "text/plain": [
       "<selenium.webdriver.remote.webelement.WebElement (session=\"328b2abdb90d63396407c33a309f9163\", element=\"2832d9b0-ef86-4f75-a212-e333fe02ec34\")>"
      ]
     },
     "execution_count": 146,
     "metadata": {},
     "output_type": "execute_result"
    }
   ],
   "source": [
    "searchjob_search=driver.find_element(By.XPATH,'/html/body/div/div/div/main/section[1]/div[2]/div[1]/span/input')\n",
    "searchjob_search"
   ]
  },
  {
   "cell_type": "code",
   "execution_count": 147,
   "id": "0cfd807d",
   "metadata": {},
   "outputs": [],
   "source": [
    "searchjob_search.send_keys(\"data scientist\")"
   ]
  },
  {
   "cell_type": "code",
   "execution_count": 148,
   "id": "f314d348",
   "metadata": {},
   "outputs": [
    {
     "data": {
      "text/plain": [
       "[]"
      ]
     },
     "execution_count": 148,
     "metadata": {},
     "output_type": "execute_result"
    }
   ],
   "source": [
    "suggestion=driver.find_elements(By.XPATH,'//div[@class=\"tt_text\"]')\n",
    "suggestion"
   ]
  },
  {
   "cell_type": "code",
   "execution_count": 10,
   "id": "1d1061a8",
   "metadata": {},
   "outputs": [
    {
     "ename": "AttributeError",
     "evalue": "'list' object has no attribute 'click'",
     "output_type": "error",
     "traceback": [
      "\u001b[1;31m---------------------------------------------------------------------------\u001b[0m",
      "\u001b[1;31mAttributeError\u001b[0m                            Traceback (most recent call last)",
      "\u001b[1;32m~\\AppData\\Local\\Temp/ipykernel_16628/1940124518.py\u001b[0m in \u001b[0;36m<module>\u001b[1;34m\u001b[0m\n\u001b[1;32m----> 1\u001b[1;33m \u001b[0msuggestion\u001b[0m\u001b[1;33m.\u001b[0m\u001b[0mclick\u001b[0m\u001b[1;33m(\u001b[0m\u001b[1;33m)\u001b[0m\u001b[1;33m\u001b[0m\u001b[1;33m\u001b[0m\u001b[0m\n\u001b[0m",
      "\u001b[1;31mAttributeError\u001b[0m: 'list' object has no attribute 'click'"
     ]
    }
   ],
   "source": [
    "suggestion.click()"
   ]
  },
  {
   "cell_type": "code",
   "execution_count": 168,
   "id": "d0a8a78f",
   "metadata": {},
   "outputs": [],
   "source": [
    "comp_name=driver.find_elements(By.CLASS_NAME,\"company-info\")"
   ]
  },
  {
   "cell_type": "code",
   "execution_count": 169,
   "id": "2b29ea47",
   "metadata": {},
   "outputs": [],
   "source": [
    "company=[]\n",
    "for i in comp_name:\n",
    "    \n",
    "    company.append(i.text.split('\\n')[0])\n",
    "       \n",
    "     "
   ]
  },
  {
   "cell_type": "code",
   "execution_count": 171,
   "id": "b96d533d",
   "metadata": {},
   "outputs": [
    {
     "data": {
      "text/plain": [
       "['Google',\n",
       " 'Microsoft Corporation',\n",
       " 'Goldman Sachs',\n",
       " 'Tekion',\n",
       " 'Amazon',\n",
       " 'Servicenow Software Development India',\n",
       " 'Flipkart',\n",
       " 'Walmart',\n",
       " 'PayPal',\n",
       " 'Myntra']"
      ]
     },
     "execution_count": 171,
     "metadata": {},
     "output_type": "execute_result"
    }
   ],
   "source": [
    "company[:10]"
   ]
  },
  {
   "cell_type": "code",
   "execution_count": 172,
   "id": "802135e8",
   "metadata": {},
   "outputs": [],
   "source": [
    "company1=list(company[:10])"
   ]
  },
  {
   "cell_type": "code",
   "execution_count": 173,
   "id": "eb0679a0",
   "metadata": {},
   "outputs": [
    {
     "data": {
      "text/plain": [
       "['Google',\n",
       " 'Microsoft Corporation',\n",
       " 'Goldman Sachs',\n",
       " 'Tekion',\n",
       " 'Amazon',\n",
       " 'Servicenow Software Development India',\n",
       " 'Flipkart',\n",
       " 'Walmart',\n",
       " 'PayPal',\n",
       " 'Myntra']"
      ]
     },
     "execution_count": 173,
     "metadata": {},
     "output_type": "execute_result"
    }
   ],
   "source": [
    "company1"
   ]
  },
  {
   "cell_type": "code",
   "execution_count": 19,
   "id": "815f5af4",
   "metadata": {},
   "outputs": [],
   "source": [
    "exp=driver.find_elements(By.CLASS_NAME,\"sbold-list-header\")"
   ]
  },
  {
   "cell_type": "code",
   "execution_count": 20,
   "id": "a4a5f699",
   "metadata": {},
   "outputs": [],
   "source": [
    "exper=[]\n",
    "for i in exp:\n",
    "    exper.append(i.text.split('(')[0])\n",
    "   \n"
   ]
  },
  {
   "cell_type": "code",
   "execution_count": 165,
   "id": "2fe5a079",
   "metadata": {},
   "outputs": [
    {
     "data": {
      "text/plain": [
       "['3 yrs experience ',\n",
       " '3-4 yrs experience ',\n",
       " '2 yrs experience ',\n",
       " '3-4 yrs experience ',\n",
       " '3-4 yrs experience ',\n",
       " '2-4 yrs experience ',\n",
       " '2-4 yrs experience ',\n",
       " '2-4 yrs experience ',\n",
       " '3-4 yrs experience ',\n",
       " '2-4 yrs experience ']"
      ]
     },
     "execution_count": 165,
     "metadata": {},
     "output_type": "execute_result"
    }
   ],
   "source": [
    "exper[:10]"
   ]
  },
  {
   "cell_type": "code",
   "execution_count": 166,
   "id": "2db4838a",
   "metadata": {},
   "outputs": [],
   "source": [
    "experience=list(exper[:10])"
   ]
  },
  {
   "cell_type": "code",
   "execution_count": 167,
   "id": "bf0f20fd",
   "metadata": {},
   "outputs": [
    {
     "data": {
      "text/plain": [
       "['3 yrs experience ',\n",
       " '3-4 yrs experience ',\n",
       " '2 yrs experience ',\n",
       " '3-4 yrs experience ',\n",
       " '3-4 yrs experience ',\n",
       " '2-4 yrs experience ',\n",
       " '2-4 yrs experience ',\n",
       " '2-4 yrs experience ',\n",
       " '3-4 yrs experience ',\n",
       " '2-4 yrs experience ']"
      ]
     },
     "execution_count": 167,
     "metadata": {},
     "output_type": "execute_result"
    }
   ],
   "source": [
    "experience"
   ]
  },
  {
   "cell_type": "code",
   "execution_count": 43,
   "id": "ba3e3134",
   "metadata": {},
   "outputs": [],
   "source": [
    "nos=driver.find_elements(By.CLASS_NAME,\"datapoints\")"
   ]
  },
  {
   "cell_type": "code",
   "execution_count": 44,
   "id": "277af9e1",
   "metadata": {},
   "outputs": [],
   "source": [
    "nosal=[]\n",
    "for i in nos:\n",
    "    nosal.append(i.text.split('(')[1])"
   ]
  },
  {
   "cell_type": "code",
   "execution_count": 45,
   "id": "f1e79bbe",
   "metadata": {},
   "outputs": [
    {
     "data": {
      "text/plain": [
       "['based on 12 salaries)',\n",
       " 'based on 33 salaries)',\n",
       " 'based on 15 salaries)',\n",
       " 'based on 32 salaries)',\n",
       " 'based on 21 salaries)',\n",
       " 'based on 89 salaries)',\n",
       " 'based on 51 salaries)',\n",
       " 'based on 57 salaries)',\n",
       " 'based on 21 salaries)',\n",
       " 'based on 69 salaries)']"
      ]
     },
     "execution_count": 45,
     "metadata": {},
     "output_type": "execute_result"
    }
   ],
   "source": [
    "nosal"
   ]
  },
  {
   "cell_type": "code",
   "execution_count": 25,
   "id": "adaab40b",
   "metadata": {},
   "outputs": [],
   "source": [
    "min_sal=driver.find_elements(By.CLASS_NAME,\"salary-values\")"
   ]
  },
  {
   "cell_type": "code",
   "execution_count": 26,
   "id": "26e4409c",
   "metadata": {},
   "outputs": [],
   "source": [
    "minsalary=[]\n",
    "for i in min_sal:\n",
    "    minsalary.append(i.text.split('\\n')[0])"
   ]
  },
  {
   "cell_type": "code",
   "execution_count": 177,
   "id": "645c3590",
   "metadata": {},
   "outputs": [
    {
     "data": {
      "text/plain": [
       "['₹ 25.0L',\n",
       " '₹ 15.0L',\n",
       " '₹ 11.0L',\n",
       " '₹ 11.0L',\n",
       " '₹ 5.6L',\n",
       " '₹ 10.0L',\n",
       " '₹ 9.0L',\n",
       " '₹ 8.3L',\n",
       " '₹ 7.6L',\n",
       " '₹ 7.0L']"
      ]
     },
     "execution_count": 177,
     "metadata": {},
     "output_type": "execute_result"
    }
   ],
   "source": [
    "minsalary[:10]"
   ]
  },
  {
   "cell_type": "code",
   "execution_count": 178,
   "id": "90649792",
   "metadata": {},
   "outputs": [],
   "source": [
    "minimumsalary=list(minsalary)"
   ]
  },
  {
   "cell_type": "code",
   "execution_count": 179,
   "id": "6a2a4ed0",
   "metadata": {},
   "outputs": [
    {
     "data": {
      "text/plain": [
       "['₹ 25.0L',\n",
       " '₹ 15.0L',\n",
       " '₹ 11.0L',\n",
       " '₹ 11.0L',\n",
       " '₹ 5.6L',\n",
       " '₹ 10.0L',\n",
       " '₹ 9.0L',\n",
       " '₹ 8.3L',\n",
       " '₹ 7.6L',\n",
       " '₹ 7.0L']"
      ]
     },
     "execution_count": 179,
     "metadata": {},
     "output_type": "execute_result"
    }
   ],
   "source": [
    "minimumsalary"
   ]
  },
  {
   "cell_type": "code",
   "execution_count": 28,
   "id": "cee70f5e",
   "metadata": {},
   "outputs": [],
   "source": [
    "max_sal=driver.find_elements(By.CLASS_NAME,\"salary-values\")"
   ]
  },
  {
   "cell_type": "code",
   "execution_count": 29,
   "id": "5fbcb883",
   "metadata": {},
   "outputs": [],
   "source": [
    "maxsalary=[]\n",
    "for i in max_sal:\n",
    "    maxsalary.append(i.text.split('\\n')[1])"
   ]
  },
  {
   "cell_type": "code",
   "execution_count": 40,
   "id": "328072cb",
   "metadata": {},
   "outputs": [
    {
     "data": {
      "text/plain": [
       "['₹ 36.0L',\n",
       " '₹ 26.2L',\n",
       " '₹ 22.0L',\n",
       " '₹ 22.5L',\n",
       " '₹ 26.2L',\n",
       " '₹ 23.0L',\n",
       " '₹ 20.0L',\n",
       " '₹ 21.1L',\n",
       " '₹ 21.0L',\n",
       " '₹ 25.0L']"
      ]
     },
     "execution_count": 40,
     "metadata": {},
     "output_type": "execute_result"
    }
   ],
   "source": [
    "maxsalary"
   ]
  },
  {
   "cell_type": "code",
   "execution_count": 174,
   "id": "c958c09e",
   "metadata": {},
   "outputs": [],
   "source": [
    "maximumsalary=list(maxsalary)"
   ]
  },
  {
   "cell_type": "code",
   "execution_count": 31,
   "id": "90fdad8e",
   "metadata": {},
   "outputs": [],
   "source": [
    "avg_sal=driver.find_elements(By.CLASS_NAME,\"averageCtc\")"
   ]
  },
  {
   "cell_type": "code",
   "execution_count": 32,
   "id": "b9db78f3",
   "metadata": {},
   "outputs": [],
   "source": [
    "average_sal=[]\n",
    "for i in avg_sal:\n",
    "    average_sal.append(i.text)"
   ]
  },
  {
   "cell_type": "code",
   "execution_count": 41,
   "id": "d4e30e6b",
   "metadata": {},
   "outputs": [
    {
     "data": {
      "text/plain": [
       "['₹ 30.6L',\n",
       " '₹ 20.8L',\n",
       " '₹ 16.7L',\n",
       " '₹ 15.9L',\n",
       " '₹ 15.7L',\n",
       " '₹ 15.5L',\n",
       " '₹ 14.8L',\n",
       " '₹ 14.0L',\n",
       " '₹ 13.2L',\n",
       " '₹ 12.8L']"
      ]
     },
     "execution_count": 41,
     "metadata": {},
     "output_type": "execute_result"
    }
   ],
   "source": [
    "average_sal"
   ]
  },
  {
   "cell_type": "code",
   "execution_count": 180,
   "id": "51aeff2a",
   "metadata": {},
   "outputs": [],
   "source": [
    "sal=pd.DataFrame()\n",
    "sal['Company']=company1\n",
    "sal['Experience']=experience\n",
    "sal['No. of Salary']=nosal\n",
    "sal['Mininumsalary']=minimumsalary\n",
    "sal['Maximumsalary']=maximumsalary\n",
    "sal['Averagesalary']=average_sal"
   ]
  },
  {
   "cell_type": "code",
   "execution_count": 181,
   "id": "5b6bc60a",
   "metadata": {},
   "outputs": [
    {
     "data": {
      "text/html": [
       "<div>\n",
       "<style scoped>\n",
       "    .dataframe tbody tr th:only-of-type {\n",
       "        vertical-align: middle;\n",
       "    }\n",
       "\n",
       "    .dataframe tbody tr th {\n",
       "        vertical-align: top;\n",
       "    }\n",
       "\n",
       "    .dataframe thead th {\n",
       "        text-align: right;\n",
       "    }\n",
       "</style>\n",
       "<table border=\"1\" class=\"dataframe\">\n",
       "  <thead>\n",
       "    <tr style=\"text-align: right;\">\n",
       "      <th></th>\n",
       "      <th>Company</th>\n",
       "      <th>Experience</th>\n",
       "      <th>No. of Salary</th>\n",
       "      <th>Mininumsalary</th>\n",
       "      <th>Maximumsalary</th>\n",
       "      <th>Averagesalary</th>\n",
       "    </tr>\n",
       "  </thead>\n",
       "  <tbody>\n",
       "    <tr>\n",
       "      <th>0</th>\n",
       "      <td>Google</td>\n",
       "      <td>3 yrs experience</td>\n",
       "      <td>based on 12 salaries)</td>\n",
       "      <td>₹ 25.0L</td>\n",
       "      <td>₹ 36.0L</td>\n",
       "      <td>₹ 30.6L</td>\n",
       "    </tr>\n",
       "    <tr>\n",
       "      <th>1</th>\n",
       "      <td>Microsoft Corporation</td>\n",
       "      <td>3-4 yrs experience</td>\n",
       "      <td>based on 33 salaries)</td>\n",
       "      <td>₹ 15.0L</td>\n",
       "      <td>₹ 26.2L</td>\n",
       "      <td>₹ 20.8L</td>\n",
       "    </tr>\n",
       "    <tr>\n",
       "      <th>2</th>\n",
       "      <td>Goldman Sachs</td>\n",
       "      <td>2 yrs experience</td>\n",
       "      <td>based on 15 salaries)</td>\n",
       "      <td>₹ 11.0L</td>\n",
       "      <td>₹ 22.0L</td>\n",
       "      <td>₹ 16.7L</td>\n",
       "    </tr>\n",
       "    <tr>\n",
       "      <th>3</th>\n",
       "      <td>Tekion</td>\n",
       "      <td>3-4 yrs experience</td>\n",
       "      <td>based on 32 salaries)</td>\n",
       "      <td>₹ 11.0L</td>\n",
       "      <td>₹ 22.5L</td>\n",
       "      <td>₹ 15.9L</td>\n",
       "    </tr>\n",
       "    <tr>\n",
       "      <th>4</th>\n",
       "      <td>Amazon</td>\n",
       "      <td>3-4 yrs experience</td>\n",
       "      <td>based on 21 salaries)</td>\n",
       "      <td>₹ 5.6L</td>\n",
       "      <td>₹ 26.2L</td>\n",
       "      <td>₹ 15.7L</td>\n",
       "    </tr>\n",
       "    <tr>\n",
       "      <th>5</th>\n",
       "      <td>Servicenow Software Development India</td>\n",
       "      <td>2-4 yrs experience</td>\n",
       "      <td>based on 89 salaries)</td>\n",
       "      <td>₹ 10.0L</td>\n",
       "      <td>₹ 23.0L</td>\n",
       "      <td>₹ 15.5L</td>\n",
       "    </tr>\n",
       "    <tr>\n",
       "      <th>6</th>\n",
       "      <td>Flipkart</td>\n",
       "      <td>2-4 yrs experience</td>\n",
       "      <td>based on 51 salaries)</td>\n",
       "      <td>₹ 9.0L</td>\n",
       "      <td>₹ 20.0L</td>\n",
       "      <td>₹ 14.8L</td>\n",
       "    </tr>\n",
       "    <tr>\n",
       "      <th>7</th>\n",
       "      <td>Walmart</td>\n",
       "      <td>2-4 yrs experience</td>\n",
       "      <td>based on 57 salaries)</td>\n",
       "      <td>₹ 8.3L</td>\n",
       "      <td>₹ 21.1L</td>\n",
       "      <td>₹ 14.0L</td>\n",
       "    </tr>\n",
       "    <tr>\n",
       "      <th>8</th>\n",
       "      <td>PayPal</td>\n",
       "      <td>3-4 yrs experience</td>\n",
       "      <td>based on 21 salaries)</td>\n",
       "      <td>₹ 7.6L</td>\n",
       "      <td>₹ 21.0L</td>\n",
       "      <td>₹ 13.2L</td>\n",
       "    </tr>\n",
       "    <tr>\n",
       "      <th>9</th>\n",
       "      <td>Myntra</td>\n",
       "      <td>2-4 yrs experience</td>\n",
       "      <td>based on 69 salaries)</td>\n",
       "      <td>₹ 7.0L</td>\n",
       "      <td>₹ 25.0L</td>\n",
       "      <td>₹ 12.8L</td>\n",
       "    </tr>\n",
       "  </tbody>\n",
       "</table>\n",
       "</div>"
      ],
      "text/plain": [
       "                                 Company           Experience  \\\n",
       "0                                 Google    3 yrs experience    \n",
       "1                  Microsoft Corporation  3-4 yrs experience    \n",
       "2                          Goldman Sachs    2 yrs experience    \n",
       "3                                 Tekion  3-4 yrs experience    \n",
       "4                                 Amazon  3-4 yrs experience    \n",
       "5  Servicenow Software Development India  2-4 yrs experience    \n",
       "6                               Flipkart  2-4 yrs experience    \n",
       "7                                Walmart  2-4 yrs experience    \n",
       "8                                 PayPal  3-4 yrs experience    \n",
       "9                                 Myntra  2-4 yrs experience    \n",
       "\n",
       "           No. of Salary Mininumsalary Maximumsalary Averagesalary  \n",
       "0  based on 12 salaries)       ₹ 25.0L       ₹ 36.0L       ₹ 30.6L  \n",
       "1  based on 33 salaries)       ₹ 15.0L       ₹ 26.2L       ₹ 20.8L  \n",
       "2  based on 15 salaries)       ₹ 11.0L       ₹ 22.0L       ₹ 16.7L  \n",
       "3  based on 32 salaries)       ₹ 11.0L       ₹ 22.5L       ₹ 15.9L  \n",
       "4  based on 21 salaries)        ₹ 5.6L       ₹ 26.2L       ₹ 15.7L  \n",
       "5  based on 89 salaries)       ₹ 10.0L       ₹ 23.0L       ₹ 15.5L  \n",
       "6  based on 51 salaries)        ₹ 9.0L       ₹ 20.0L       ₹ 14.8L  \n",
       "7  based on 57 salaries)        ₹ 8.3L       ₹ 21.1L       ₹ 14.0L  \n",
       "8  based on 21 salaries)        ₹ 7.6L       ₹ 21.0L       ₹ 13.2L  \n",
       "9  based on 69 salaries)        ₹ 7.0L       ₹ 25.0L       ₹ 12.8L  "
      ]
     },
     "execution_count": 181,
     "metadata": {},
     "output_type": "execute_result"
    }
   ],
   "source": [
    "sal[:10]"
   ]
  },
  {
   "cell_type": "code",
   "execution_count": null,
   "id": "3e5b53bf",
   "metadata": {},
   "outputs": [],
   "source": []
  },
  {
   "cell_type": "code",
   "execution_count": null,
   "id": "678e8133",
   "metadata": {},
   "outputs": [],
   "source": []
  }
 ],
 "metadata": {
  "kernelspec": {
   "display_name": "Python 3 (ipykernel)",
   "language": "python",
   "name": "python3"
  },
  "language_info": {
   "codemirror_mode": {
    "name": "ipython",
    "version": 3
   },
   "file_extension": ".py",
   "mimetype": "text/x-python",
   "name": "python",
   "nbconvert_exporter": "python",
   "pygments_lexer": "ipython3",
   "version": "3.9.7"
  }
 },
 "nbformat": 4,
 "nbformat_minor": 5
}
