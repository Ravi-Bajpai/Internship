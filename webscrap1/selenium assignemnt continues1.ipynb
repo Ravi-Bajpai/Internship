{
 "cells": [
  {
   "cell_type": "code",
   "execution_count": 3,
   "id": "a5594dc8",
   "metadata": {},
   "outputs": [],
   "source": [
    "import selenium\n",
    "from selenium import webdriver\n",
    "import pandas as pd\n",
    "import warnings\n",
    "warnings.filterwarnings(\"ignore\")"
   ]
  },
  {
   "cell_type": "code",
   "execution_count": 4,
   "id": "bc958995",
   "metadata": {},
   "outputs": [],
   "source": [
    "driver=webdriver.Chrome(r'D:\\flip robo\\chromedriver_win32\\chromedriver.exe')"
   ]
  },
  {
   "cell_type": "code",
   "execution_count": 5,
   "id": "196df223",
   "metadata": {},
   "outputs": [],
   "source": [
    "url=\"https://www.amazon.in/\"\n",
    "driver.get(url)"
   ]
  },
  {
   "cell_type": "code",
   "execution_count": 6,
   "id": "6c325444",
   "metadata": {},
   "outputs": [],
   "source": [
    "from selenium.webdriver.common.by import By"
   ]
  },
  {
   "cell_type": "code",
   "execution_count": 7,
   "id": "67c3c3ca",
   "metadata": {},
   "outputs": [
    {
     "data": {
      "text/plain": [
       "<selenium.webdriver.remote.webelement.WebElement (session=\"d90bae9fff77e9dd83bee96e4fe6b982\", element=\"412f06e3-3f93-44ee-b60d-08b51df5eb7f\")>"
      ]
     },
     "execution_count": 7,
     "metadata": {},
     "output_type": "execute_result"
    }
   ],
   "source": [
    "search_amz=driver.find_element(By.XPATH,'/html/body/div[1]/header/div/div[1]/div[2]/div/form/div[2]/div[1]/input')\n",
    "search_amz"
   ]
  },
  {
   "cell_type": "code",
   "execution_count": 1,
   "id": "194900d9",
   "metadata": {},
   "outputs": [
    {
     "name": "stdout",
     "output_type": "stream",
     "text": [
      "enter the productwindow a.c\n",
      "window a.c\n"
     ]
    }
   ],
   "source": [
    "product=input(\"enter the product\")\n",
    "print(product)\n"
   ]
  },
  {
   "cell_type": "code",
   "execution_count": 8,
   "id": "ade87622",
   "metadata": {},
   "outputs": [],
   "source": [
    "search_amz.send_keys(product)"
   ]
  },
  {
   "cell_type": "code",
   "execution_count": 9,
   "id": "2c59d4df",
   "metadata": {},
   "outputs": [
    {
     "data": {
      "text/plain": [
       "<selenium.webdriver.remote.webelement.WebElement (session=\"d90bae9fff77e9dd83bee96e4fe6b982\", element=\"1eb64955-397d-43cd-b0ae-e3c7dcab5113\")>"
      ]
     },
     "execution_count": 9,
     "metadata": {},
     "output_type": "execute_result"
    }
   ],
   "source": [
    "search_btn=driver.find_element(By.XPATH,'/html/body/div[1]/header/div/div[1]/div[2]/div/form/div[3]/div/span/input')\n",
    "search_btn"
   ]
  },
  {
   "cell_type": "code",
   "execution_count": 10,
   "id": "231bb13e",
   "metadata": {},
   "outputs": [],
   "source": [
    "search_btn.click()"
   ]
  },
  {
   "cell_type": "code",
   "execution_count": 11,
   "id": "06ac8938",
   "metadata": {},
   "outputs": [],
   "source": [
    "brand=[]\n",
    "start=0\n",
    "end=2\n",
    "for b in range(start,end):\n",
    "    brand_tag=driver.find_elements(By.XPATH,'//span[@class=\"a-size-medium a-color-base a-text-normal\"]')\n",
    "    for i in brand_tag:\n",
    "        brand.append(i.text)\n",
    "    next_btn=driver.find_elements(By.XPATH,'/html/body/div[1]/div[2]/div[1]/div[1]/div/span[3]/div[2]/div[28]/div/div/span/a[3]')"
   ]
  },
  {
   "cell_type": "code",
   "execution_count": 12,
   "id": "1977442c",
   "metadata": {},
   "outputs": [
    {
     "data": {
      "text/plain": [
       "42"
      ]
     },
     "execution_count": 12,
     "metadata": {},
     "output_type": "execute_result"
    }
   ],
   "source": [
    "len(brand)"
   ]
  },
  {
   "cell_type": "code",
   "execution_count": 13,
   "id": "341917fe",
   "metadata": {},
   "outputs": [],
   "source": [
    "price_tag=driver.find_elements(By.XPATH,'//span[@class=\"a-price-whole\"]')"
   ]
  },
  {
   "cell_type": "code",
   "execution_count": 14,
   "id": "40098301",
   "metadata": {},
   "outputs": [],
   "source": [
    "price=[]\n",
    "start=0\n",
    "end=2\n",
    "for p in range(start,end):\n",
    "    price_tag=driver.find_elements(By.XPATH,'//span[@class=\"a-price-whole\"]')\n",
    "    for i in price_tag:\n",
    "        price.append(i.text)\n",
    "    next_btn=driver.find_elements(By.XPATH,'/html/body/div[1]/div[2]/div[1]/div[1]/div/span[3]/div[2]/div[28]/div/div/span/a[3]')"
   ]
  },
  {
   "cell_type": "code",
   "execution_count": 15,
   "id": "c92f6693",
   "metadata": {},
   "outputs": [
    {
     "data": {
      "text/plain": [
       "['42,990', '36,990', '36,490', '27,499', '26,999']"
      ]
     },
     "execution_count": 15,
     "metadata": {},
     "output_type": "execute_result"
    }
   ],
   "source": [
    "price[:5]"
   ]
  },
  {
   "cell_type": "code",
   "execution_count": 16,
   "id": "6d6251cd",
   "metadata": {},
   "outputs": [],
   "source": [
    "delivery_tag=driver.find_elements(By.XPATH,'//SPAN[@class=\"a-color-base a-text-bold\"]')"
   ]
  },
  {
   "cell_type": "code",
   "execution_count": 17,
   "id": "2600da1e",
   "metadata": {},
   "outputs": [],
   "source": [
    "delivery=[]\n",
    "start=0\n",
    "end=2\n",
    "for d in range(start,end):\n",
    "    delivery_tag=driver.find_elements(By.XPATH,'//SPAN[@class=\"a-color-base a-text-bold\"]')\n",
    "    for i in delivery_tag:\n",
    "        delivery.append(i.text)\n",
    "    next_btn=driver.find_elements(By.XPATH,'/html/body/div[1]/div[2]/div[1]/div[1]/div/span[3]/div[2]/div[28]/div/div/span/a[3]')"
   ]
  },
  {
   "cell_type": "code",
   "execution_count": 18,
   "id": "608fe057",
   "metadata": {},
   "outputs": [
    {
     "data": {
      "text/plain": [
       "28"
      ]
     },
     "execution_count": 18,
     "metadata": {},
     "output_type": "execute_result"
    }
   ],
   "source": [
    "len(delivery)"
   ]
  },
  {
   "cell_type": "code",
   "execution_count": 19,
   "id": "a97ee4e7",
   "metadata": {},
   "outputs": [],
   "source": [
    "returns_tag=driver.find_elements(By.XPATH,'/html/body/div[2]/div[2]/div[5]/div[4]/div[4]/div[22]/div[2]/div/div/div/div[1]/span/div[2]')"
   ]
  },
  {
   "cell_type": "code",
   "execution_count": 20,
   "id": "357c5174",
   "metadata": {},
   "outputs": [],
   "source": [
    "returns=[]\n",
    "for i in returns_tag:\n",
    "    returns.append(i.get_attribute('href'))"
   ]
  },
  {
   "cell_type": "code",
   "execution_count": 21,
   "id": "f9315aba",
   "metadata": {},
   "outputs": [
    {
     "data": {
      "text/plain": [
       "[]"
      ]
     },
     "execution_count": 21,
     "metadata": {},
     "output_type": "execute_result"
    }
   ],
   "source": [
    "returns"
   ]
  },
  {
   "cell_type": "code",
   "execution_count": 25,
   "id": "d2a4e053",
   "metadata": {},
   "outputs": [
    {
     "data": {
      "text/plain": [
       "[]"
      ]
     },
     "execution_count": 25,
     "metadata": {},
     "output_type": "execute_result"
    }
   ],
   "source": [
    "#product_url=driver.find_elements(By.XPATH,'/html/body/div[1]/div[2]/div[1]/div[1]/div/span[3]/div[2]/div[3]/div/div/div/div/div/div/div/div[2]/div/div/div[1]/h2/a')\n",
    "product_url=driver.find_elements(By.CLASS_NAME,'a-link-normal s-underline-text s-underline-link-text s-link-style a-text-normal')\n",
    "product_url"
   ]
  },
  {
   "cell_type": "code",
   "execution_count": 23,
   "id": "80535d31",
   "metadata": {},
   "outputs": [],
   "source": [
    "product=[]\n",
    "start=0\n",
    "end=2\n",
    "for p in range(start,end):\n",
    "    product_url=driver.find_elements(By.XPATH,'//a[@href]')\n",
    "    for i in product_url:\n",
    "        product.append(i.get_attribute('href'))\n",
    "    next_btn=driver.find_elements(By.XPATH,'/html/body/div[1]/div[2]/div[1]/div[1]/div/span[3]/div[2]/div[28]/div/div/span/a[3]')"
   ]
  },
  {
   "cell_type": "code",
   "execution_count": 24,
   "id": "3de3aff4",
   "metadata": {},
   "outputs": [
    {
     "data": {
      "text/plain": [
       "['https://www.amazon.in/ref=nav_logo',\n",
       " 'https://www.amazon.in/customer-preferences/edit?ie=UTF8&preferencesReturnUrl=%2Fs%3Fk%3Dwindow%2Ba.c%26crid%3D3HI4YQZMX3EQD%26sprefix%3Dwindow%2Ba.c%252Caps%252C530%26ref%3Dnb_sb_noss_1&ref_=topnav_lang',\n",
       " 'https://www.amazon.in/ap/signin?openid.pape.max_auth_age=0&openid.return_to=https%3A%2F%2Fwww.amazon.in%2Fs%3Fk%3Dwindow%2Ba.c%26crid%3D3HI4YQZMX3EQD%26sprefix%3Dwindow%2Ba.c%252Caps%252C530%26ref%3Dnav_ya_signin&openid.identity=http%3A%2F%2Fspecs.openid.net%2Fauth%2F2.0%2Fidentifier_select&openid.assoc_handle=inflex&openid.mode=checkid_setup&openid.claimed_id=http%3A%2F%2Fspecs.openid.net%2Fauth%2F2.0%2Fidentifier_select&openid.ns=http%3A%2F%2Fspecs.openid.net%2Fauth%2F2.0&',\n",
       " 'https://www.amazon.in/gp/css/order-history?ref_=nav_orders_first',\n",
       " 'https://www.amazon.in/gp/cart/view.html?ref_=nav_cart',\n",
       " 'https://www.amazon.in/ap/signin?openid.pape.max_auth_age=0&openid.return_to=https%3A%2F%2Fwww.amazon.in%2Fs%3Fk%3Dwindow%2Ba.c%26crid%3D3HI4YQZMX3EQD%26sprefix%3Dwindow%2Ba.c%252Caps%252C530%26ref%3Dnav_signin&openid.identity=http%3A%2F%2Fspecs.openid.net%2Fauth%2F2.0%2Fidentifier_select&openid.assoc_handle=inflex&openid.mode=checkid_setup&openid.claimed_id=http%3A%2F%2Fspecs.openid.net%2Fauth%2F2.0%2Fidentifier_select&openid.ns=http%3A%2F%2Fspecs.openid.net%2Fauth%2F2.0&',\n",
       " 'https://www.amazon.in/ap/register?openid.pape.max_auth_age=0&openid.return_to=https%3A%2F%2Fwww.amazon.in%2Fs%2Fref%3Dnb_sb_noss_1%2F%3F_encoding%3DUTF8%26crid%3D3HI4YQZMX3EQD%26field-keywords%3Dwindow%2520a.c%26sprefix%3Dwindow%2520a.c%252Caps%252C530%26url%3Dsearch-alias%253Daps%26ref_%3Dnav_newcust&openid.identity=http%3A%2F%2Fspecs.openid.net%2Fauth%2F2.0%2Fidentifier_select&openid.assoc_handle=inflex&openid.mode=checkid_setup&openid.claimed_id=http%3A%2F%2Fspecs.openid.net%2Fauth%2F2.0%2Fidentifier_select&openid.ns=http%3A%2F%2Fspecs.openid.net%2Fauth%2F2.0&',\n",
       " 'https://www.amazon.in/hz/wishlist/ls?triggerElementID=createList&ref_=nav_ListFlyout_navFlyout_createList_lv_redirect',\n",
       " 'https://www.amazon.in/wishlist/universal?ref_=nav_ListFlyout_gno_listpop_uwl',\n",
       " 'https://www.amazon.in/baby-reg/homepage?ref_=nav_ListFlyout_gno_listpop_br',\n",
       " 'https://www.amazon.in/discover/?ref_=nav_ListFlyout_sbl',\n",
       " 'https://www.amazon.in/showroom?ref_=nav_ListFlyout_srm_your_desk_wl_in',\n",
       " 'https://www.amazon.in/gp/css/homepage.html?ref_=nav_AccountFlyout_ya',\n",
       " 'https://www.amazon.in/gp/css/order-history?ref_=nav_AccountFlyout_orders',\n",
       " 'https://www.amazon.in/hz/wishlist/ls?requiresSignIn=1&ref_=nav_AccountFlyout_wl',\n",
       " 'https://www.amazon.in/gp/yourstore?ref_=nav_AccountFlyout_recs',\n",
       " 'https://www.amazon.in/gp/primecentral?ref_=nav_AccountFlyout_prime',\n",
       " 'https://www.amazon.in/gp/redirect.html?location=https%3A%2F%2Fwww.primevideo.com%2F%3Fref_%3D_apv&source=nav_linktree&token=13D4F90D28CD96790B94E6091246BB1B2AE9FA05',\n",
       " 'https://www.amazon.in/auto-deliveries?ref_=nav_AccountFlyout_sns',\n",
       " 'https://www.amazon.in/hz5/yourmembershipsandsubscriptions?ref_=nav_AccountFlyout_digital_subscriptions',\n",
       " 'https://www.amazon.in/gp/browse.html?node=21102587031&ref_=nav_ya_flyout_b2b_reg',\n",
       " 'https://www.amazon.in/b/?node=2838698031&ld=AZINSOAYAFlyout&ref_=nav_AccountFlyout_sell',\n",
       " 'https://www.amazon.in/hz/mycd/myx?ref_=nav_AccountFlyout_myk',\n",
       " 'javascript: void(0)',\n",
       " 'https://www.amazon.in/gp/bestsellers/?ref_=nav_cs_bestsellers',\n",
       " 'https://www.amazon.in/mobile-phones/b/?ie=UTF8&node=1389401031&ref_=nav_cs_mobiles',\n",
       " 'https://www.amazon.in/deals?ref_=nav_cs_gb',\n",
       " 'https://www.amazon.in/gp/help/customer/display.html?nodeId=200507590&ref_=nav_cs_help',\n",
       " 'https://www.amazon.in/Books/b/?ie=UTF8&node=976389031&ref_=nav_cs_books',\n",
       " 'https://www.amazon.in/electronics/b/?ie=UTF8&node=976419031&ref_=nav_cs_electronics',\n",
       " 'https://www.amazon.in/prime?ref_=nav_cs_primelink_nonmember',\n",
       " 'https://www.amazon.in/gp/browse.html?node=6648217031&ref_=nav_cs_fashion',\n",
       " 'https://www.amazon.in/gp/new-releases/?ref_=nav_cs_newreleases',\n",
       " 'https://www.amazon.in/Home-Kitchen/b/?ie=UTF8&node=976442031&ref_=nav_cs_home',\n",
       " 'https://www.amazon.in/gp/sva/dashboard?ref_=nav_cs_apay',\n",
       " 'https://www.amazon.in/computers-and-accessories/b/?ie=UTF8&node=976392031&ref_=nav_cs_pc',\n",
       " 'https://www.amazon.in/amazon-coupons/b/?_encoding=UTF8&node=10465704031&ref_=nav_cs_coupons',\n",
       " 'https://www.amazon.in/Toys-Games/b/?ie=UTF8&node=1350380031&ref_=nav_cs_toys',\n",
       " 'https://www.amazon.in/b/?node=2838698031&ld=AZINSOANavDesktop&ref_=nav_cs_sell',\n",
       " 'https://www.amazon.in/beauty/b/?ie=UTF8&node=1355016031&ref_=nav_cs_beauty',\n",
       " 'https://www.amazon.in/Car-Motorbike-Store/b/?ie=UTF8&node=4772060031&ref_=nav_cs_automotive',\n",
       " 'https://www.amazon.in/Gourmet-Specialty-Foods/b/?ie=UTF8&node=2454178031&ref_=nav_cs_grocery',\n",
       " 'https://www.amazon.in/Sports/b/?ie=UTF8&node=1984443031&ref_=nav_cs_sports',\n",
       " 'https://www.amazon.in/health-and-personal-care/b/?ie=UTF8&node=1350384031&ref_=nav_cs_hpc',\n",
       " 'https://www.amazon.in/gift-card-store/b/?ie=UTF8&node=3704982031&ref_=nav_cs_gc',\n",
       " 'https://www.amazon.in/video-games/b/?ie=UTF8&node=976460031&ref_=nav_cs_video_games',\n",
       " 'https://www.amazon.in/Baby/b/?ie=UTF8&node=1571274031&ref_=nav_cs_baby',\n",
       " 'https://www.amazon.in/Pet-Supplies/b/?ie=UTF8&node=2454181031&ref_=nav_cs_pets',\n",
       " 'https://www.amazon.in/gp/browse.html?node=3704992031&ref_=nav_cs_hi',\n",
       " 'https://www.amazon.in/Audible-Books-and-Originals/b/?ie=UTF8&node=17941593031&ref_=nav_cs_audible',\n",
       " 'https://www.amazon.in/gcx/-/gfhz/?ref_=nav_cs_giftfinder',\n",
       " 'https://www.amazon.in/b/?node=6637738031&ref_=nav_cs_amazonbasics',\n",
       " 'https://www.amazon.in/Kindle-eBooks/b/?ie=UTF8&node=1634753031&ref_=nav_cs_kindle_books',\n",
       " 'https://www.amazon.in/auto-deliveries/landing?ref_=nav_cs_sns',\n",
       " 'https://www.amazon.in/events/greatfreedomsale/?_encoding=UTF8&ref_=nav_swm_swm_gd&pf_rd_p=7a728353-5d1a-4eb5-94c4-08d0254da558&pf_rd_s=nav-sitewide-msg&pf_rd_t=4201&pf_rd_i=navbar-4201&pf_rd_m=A21TJRUUN4KGV&pf_rd_r=HEQZ9FHAGV10V113VF8V',\n",
       " 'https://aax-eu.amazon.in/x/c/Q83FEHy5rgyPFfFaqH2egzwAAAGCcuvFHQMAAAH2AQAz7UCz/https://www.amazon.in/stores/page/BDB74DA5-A67A-4B5B-9E38-FA6345BB38D4/?_encoding=UTF8&store_ref=SB_A022489928OVCOEMKT2HF&pd_rd_plhdr=t&aaxitk=b4603a5c3d515c82442c55f39b35eb9b&hsa_cr_id=9387835380202&lp_asins=B09R29RSFH%2CB09R3XHPVZ%2CB09R248ZWX&lp_query=window%20a.c&lp_slot=auto-sparkle-hsa-tetris&ref_=sbx_be_s_sparkle_lsi4d_bkgd&pd_rd_w=sCcu0&content-id=amzn1.sym.c679a10e-5f33-4f2e-b014-f92eed44a58f%3Aamzn1.sym.c679a10e-5f33-4f2e-b014-f92eed44a58f&pf_rd_p=c679a10e-5f33-4f2e-b014-f92eed44a58f&pf_rd_r=HEQZ9FHAGV10V113VF8V&pd_rd_wg=9YxbR&pd_rd_r=4777072b-85c7-45c1-968d-d9c9acfe382d',\n",
       " 'https://aax-eu.amazon.in/x/c/Q83FEHy5rgyPFfFaqH2egzwAAAGCcuvFHQMAAAH2AQAz7UCz/https://www.amazon.in/stores/page/BDB74DA5-A67A-4B5B-9E38-FA6345BB38D4/?_encoding=UTF8&store_ref=SB_A022489928OVCOEMKT2HF&pd_rd_plhdr=t&aaxitk=b4603a5c3d515c82442c55f39b35eb9b&hsa_cr_id=9387835380202&lp_asins=B09R29RSFH%2CB09R3XHPVZ%2CB09R248ZWX&lp_query=window%20a.c&lp_slot=auto-sparkle-hsa-tetris&ref_=sbx_be_s_sparkle_lsi4d_logo&pd_rd_w=sCcu0&content-id=amzn1.sym.c679a10e-5f33-4f2e-b014-f92eed44a58f%3Aamzn1.sym.c679a10e-5f33-4f2e-b014-f92eed44a58f&pf_rd_p=c679a10e-5f33-4f2e-b014-f92eed44a58f&pf_rd_r=HEQZ9FHAGV10V113VF8V&pd_rd_wg=9YxbR&pd_rd_r=4777072b-85c7-45c1-968d-d9c9acfe382d',\n",
       " 'https://aax-eu.amazon.in/x/c/Q83FEHy5rgyPFfFaqH2egzwAAAGCcuvFHQMAAAH2AQAz7UCz/https://www.amazon.in/stores/page/BDB74DA5-A67A-4B5B-9E38-FA6345BB38D4/?_encoding=UTF8&store_ref=SB_A022489928OVCOEMKT2HF&pd_rd_plhdr=t&aaxitk=b4603a5c3d515c82442c55f39b35eb9b&hsa_cr_id=9387835380202&lp_asins=B09R29RSFH%2CB09R3XHPVZ%2CB09R248ZWX&lp_query=window%20a.c&lp_slot=auto-sparkle-hsa-tetris&ref_=sbx_be_s_sparkle_lsi4d_hl&pd_rd_w=sCcu0&content-id=amzn1.sym.c679a10e-5f33-4f2e-b014-f92eed44a58f%3Aamzn1.sym.c679a10e-5f33-4f2e-b014-f92eed44a58f&pf_rd_p=c679a10e-5f33-4f2e-b014-f92eed44a58f&pf_rd_r=HEQZ9FHAGV10V113VF8V&pd_rd_wg=9YxbR&pd_rd_r=4777072b-85c7-45c1-968d-d9c9acfe382d',\n",
       " 'https://aax-eu.amazon.in/x/c/Q83FEHy5rgyPFfFaqH2egzwAAAGCcuvFHQMAAAH2AQAz7UCz/https://www.amazon.in/stores/page/BDB74DA5-A67A-4B5B-9E38-FA6345BB38D4/?_encoding=UTF8&store_ref=SB_A022489928OVCOEMKT2HF&pd_rd_plhdr=t&aaxitk=b4603a5c3d515c82442c55f39b35eb9b&hsa_cr_id=9387835380202&lp_asins=B09R29RSFH%2CB09R3XHPVZ%2CB09R248ZWX&lp_query=window%20a.c&lp_slot=auto-sparkle-hsa-tetris&ref_=sbx_be_s_sparkle_lsi4d_cta&pd_rd_w=sCcu0&content-id=amzn1.sym.c679a10e-5f33-4f2e-b014-f92eed44a58f%3Aamzn1.sym.c679a10e-5f33-4f2e-b014-f92eed44a58f&pf_rd_p=c679a10e-5f33-4f2e-b014-f92eed44a58f&pf_rd_r=HEQZ9FHAGV10V113VF8V&pd_rd_wg=9YxbR&pd_rd_r=4777072b-85c7-45c1-968d-d9c9acfe382d',\n",
       " 'https://aax-eu.amazon.in/x/c/Q83FEHy5rgyPFfFaqH2egzwAAAGCcuvFHQMAAAH2AQAz7UCz/https://www.amazon.in/stores/page/BDB74DA5-A67A-4B5B-9E38-FA6345BB38D4/?_encoding=UTF8&store_ref=SB_A022489928OVCOEMKT2HF&pd_rd_plhdr=t&aaxitk=b4603a5c3d515c82442c55f39b35eb9b&hsa_cr_id=9387835380202&lp_asins=B09R29RSFH%2CB09R3XHPVZ%2CB09R248ZWX&lp_query=window%20a.c&lp_slot=auto-sparkle-hsa-tetris&ref_=sbx_be_s_sparkle_lsi4d_ls&pd_rd_w=sCcu0&content-id=amzn1.sym.c679a10e-5f33-4f2e-b014-f92eed44a58f%3Aamzn1.sym.c679a10e-5f33-4f2e-b014-f92eed44a58f&pf_rd_p=c679a10e-5f33-4f2e-b014-f92eed44a58f&pf_rd_r=HEQZ9FHAGV10V113VF8V&pd_rd_wg=9YxbR&pd_rd_r=4777072b-85c7-45c1-968d-d9c9acfe382d',\n",
       " 'https://aax-eu.amazon.in/x/c/Q83FEHy5rgyPFfFaqH2egzwAAAGCcuvFHQMAAAH2AQAz7UCz/https://www.amazon.in/gp/aw/d/B09R29RSFH/?_encoding=UTF8&pd_rd_plhdr=t&aaxitk=b4603a5c3d515c82442c55f39b35eb9b&hsa_cr_id=9387835380202&qid=1659785430&sr=1-1-fd947bf3-57d2-4cc9-939d-2805f92cef28&ref_=sbx_be_s_sparkle_lsi4d_asin_0_bkgd&pd_rd_w=sCcu0&content-id=amzn1.sym.c679a10e-5f33-4f2e-b014-f92eed44a58f%3Aamzn1.sym.c679a10e-5f33-4f2e-b014-f92eed44a58f&pf_rd_p=c679a10e-5f33-4f2e-b014-f92eed44a58f&pf_rd_r=HEQZ9FHAGV10V113VF8V&pd_rd_wg=9YxbR&pd_rd_r=4777072b-85c7-45c1-968d-d9c9acfe382d',\n",
       " 'https://aax-eu.amazon.in/x/c/Q83FEHy5rgyPFfFaqH2egzwAAAGCcuvFHQMAAAH2AQAz7UCz/https://www.amazon.in/gp/aw/d/B09R29RSFH/?_encoding=UTF8&pd_rd_plhdr=t&aaxitk=b4603a5c3d515c82442c55f39b35eb9b&hsa_cr_id=9387835380202&qid=1659785430&sr=1-1-fd947bf3-57d2-4cc9-939d-2805f92cef28&ref_=sbx_be_s_sparkle_lsi4d_asin_0_img&pd_rd_w=sCcu0&content-id=amzn1.sym.c679a10e-5f33-4f2e-b014-f92eed44a58f%3Aamzn1.sym.c679a10e-5f33-4f2e-b014-f92eed44a58f&pf_rd_p=c679a10e-5f33-4f2e-b014-f92eed44a58f&pf_rd_r=HEQZ9FHAGV10V113VF8V&pd_rd_wg=9YxbR&pd_rd_r=4777072b-85c7-45c1-968d-d9c9acfe382d',\n",
       " 'https://aax-eu.amazon.in/x/c/Q83FEHy5rgyPFfFaqH2egzwAAAGCcuvFHQMAAAH2AQAz7UCz/https://www.amazon.in/gp/aw/d/B09R29RSFH/?_encoding=UTF8&pd_rd_plhdr=t&aaxitk=b4603a5c3d515c82442c55f39b35eb9b&hsa_cr_id=9387835380202&qid=1659785430&sr=1-1-fd947bf3-57d2-4cc9-939d-2805f92cef28&ref_=sbx_be_s_sparkle_lsi4d_asin_0_bkgd&pd_rd_w=sCcu0&content-id=amzn1.sym.c679a10e-5f33-4f2e-b014-f92eed44a58f%3Aamzn1.sym.c679a10e-5f33-4f2e-b014-f92eed44a58f&pf_rd_p=c679a10e-5f33-4f2e-b014-f92eed44a58f&pf_rd_r=HEQZ9FHAGV10V113VF8V&pd_rd_wg=9YxbR&pd_rd_r=4777072b-85c7-45c1-968d-d9c9acfe382d',\n",
       " 'https://aax-eu.amazon.in/x/c/Q83FEHy5rgyPFfFaqH2egzwAAAGCcuvFHQMAAAH2AQAz7UCz/https://www.amazon.in/gp/aw/d/B09R29RSFH/?_encoding=UTF8&pd_rd_plhdr=t&aaxitk=b4603a5c3d515c82442c55f39b35eb9b&hsa_cr_id=9387835380202&qid=1659785430&sr=1-1-fd947bf3-57d2-4cc9-939d-2805f92cef28&ref_=sbx_be_s_sparkle_lsi4d_asin_0_price&pd_rd_w=sCcu0&content-id=amzn1.sym.c679a10e-5f33-4f2e-b014-f92eed44a58f%3Aamzn1.sym.c679a10e-5f33-4f2e-b014-f92eed44a58f&pf_rd_p=c679a10e-5f33-4f2e-b014-f92eed44a58f&pf_rd_r=HEQZ9FHAGV10V113VF8V&pd_rd_wg=9YxbR&pd_rd_r=4777072b-85c7-45c1-968d-d9c9acfe382d',\n",
       " 'https://aax-eu.amazon.in/x/c/Q83FEHy5rgyPFfFaqH2egzwAAAGCcuvFHQMAAAH2AQAz7UCz/https://www.amazon.in/gp/aw/d/B09R29RSFH/?_encoding=UTF8&pd_rd_plhdr=t&aaxitk=b4603a5c3d515c82442c55f39b35eb9b&hsa_cr_id=9387835380202&qid=1659785430&sr=1-1-fd947bf3-57d2-4cc9-939d-2805f92cef28&ref_=sbx_be_s_sparkle_lsi4d_asin_0_price&pd_rd_w=sCcu0&content-id=amzn1.sym.c679a10e-5f33-4f2e-b014-f92eed44a58f%3Aamzn1.sym.c679a10e-5f33-4f2e-b014-f92eed44a58f&pf_rd_p=c679a10e-5f33-4f2e-b014-f92eed44a58f&pf_rd_r=HEQZ9FHAGV10V113VF8V&pd_rd_wg=9YxbR&pd_rd_r=4777072b-85c7-45c1-968d-d9c9acfe382d',\n",
       " 'https://aax-eu.amazon.in/x/c/Q83FEHy5rgyPFfFaqH2egzwAAAGCcuvFHQMAAAH2AQAz7UCz/https://www.amazon.in/gp/aw/d/B09R29RSFH/?_encoding=UTF8&pd_rd_plhdr=t&aaxitk=b4603a5c3d515c82442c55f39b35eb9b&hsa_cr_id=9387835380202&qid=1659785430&sr=1-1-fd947bf3-57d2-4cc9-939d-2805f92cef28&ref_=sbx_be_s_sparkle_lsi4d_asin_0_price&pd_rd_w=sCcu0&content-id=amzn1.sym.c679a10e-5f33-4f2e-b014-f92eed44a58f%3Aamzn1.sym.c679a10e-5f33-4f2e-b014-f92eed44a58f&pf_rd_p=c679a10e-5f33-4f2e-b014-f92eed44a58f&pf_rd_r=HEQZ9FHAGV10V113VF8V&pd_rd_wg=9YxbR&pd_rd_r=4777072b-85c7-45c1-968d-d9c9acfe382d',\n",
       " 'https://aax-eu.amazon.in/x/c/Q83FEHy5rgyPFfFaqH2egzwAAAGCcuvFHQMAAAH2AQAz7UCz/https://www.amazon.in/gp/aw/d/B09R29RSFH/?_encoding=UTF8&pd_rd_plhdr=t&aaxitk=b4603a5c3d515c82442c55f39b35eb9b&hsa_cr_id=9387835380202&qid=1659785430&sr=1-1-fd947bf3-57d2-4cc9-939d-2805f92cef28&ref_=sbx_be_s_sparkle_lsi4d_asin_0_badge&pd_rd_w=sCcu0&content-id=amzn1.sym.c679a10e-5f33-4f2e-b014-f92eed44a58f%3Aamzn1.sym.c679a10e-5f33-4f2e-b014-f92eed44a58f&pf_rd_p=c679a10e-5f33-4f2e-b014-f92eed44a58f&pf_rd_r=HEQZ9FHAGV10V113VF8V&pd_rd_wg=9YxbR&pd_rd_r=4777072b-85c7-45c1-968d-d9c9acfe382d',\n",
       " 'https://aax-eu.amazon.in/x/c/Q83FEHy5rgyPFfFaqH2egzwAAAGCcuvFHQMAAAH2AQAz7UCz/https://www.amazon.in/gp/aw/d/B09R29RSFH/?_encoding=UTF8&pd_rd_plhdr=t&aaxitk=b4603a5c3d515c82442c55f39b35eb9b&hsa_cr_id=9387835380202&qid=1659785430&sr=1-1-fd947bf3-57d2-4cc9-939d-2805f92cef28&ref_=sbx_be_s_sparkle_lsi4d_asin_0_price&pd_rd_w=sCcu0&content-id=amzn1.sym.c679a10e-5f33-4f2e-b014-f92eed44a58f%3Aamzn1.sym.c679a10e-5f33-4f2e-b014-f92eed44a58f&pf_rd_p=c679a10e-5f33-4f2e-b014-f92eed44a58f&pf_rd_r=HEQZ9FHAGV10V113VF8V&pd_rd_wg=9YxbR&pd_rd_r=4777072b-85c7-45c1-968d-d9c9acfe382d',\n",
       " 'https://aax-eu.amazon.in/x/c/Q83FEHy5rgyPFfFaqH2egzwAAAGCcuvFHQMAAAH2AQAz7UCz/https://www.amazon.in/gp/aw/d/B09R3XHPVZ/?_encoding=UTF8&pd_rd_plhdr=t&aaxitk=b4603a5c3d515c82442c55f39b35eb9b&hsa_cr_id=9387835380202&qid=1659785430&sr=1-2-fd947bf3-57d2-4cc9-939d-2805f92cef28&ref_=sbx_be_s_sparkle_lsi4d_asin_1_bkgd&pd_rd_w=sCcu0&content-id=amzn1.sym.c679a10e-5f33-4f2e-b014-f92eed44a58f%3Aamzn1.sym.c679a10e-5f33-4f2e-b014-f92eed44a58f&pf_rd_p=c679a10e-5f33-4f2e-b014-f92eed44a58f&pf_rd_r=HEQZ9FHAGV10V113VF8V&pd_rd_wg=9YxbR&pd_rd_r=4777072b-85c7-45c1-968d-d9c9acfe382d',\n",
       " 'https://aax-eu.amazon.in/x/c/Q83FEHy5rgyPFfFaqH2egzwAAAGCcuvFHQMAAAH2AQAz7UCz/https://www.amazon.in/gp/aw/d/B09R3XHPVZ/?_encoding=UTF8&pd_rd_plhdr=t&aaxitk=b4603a5c3d515c82442c55f39b35eb9b&hsa_cr_id=9387835380202&qid=1659785430&sr=1-2-fd947bf3-57d2-4cc9-939d-2805f92cef28&ref_=sbx_be_s_sparkle_lsi4d_asin_1_img&pd_rd_w=sCcu0&content-id=amzn1.sym.c679a10e-5f33-4f2e-b014-f92eed44a58f%3Aamzn1.sym.c679a10e-5f33-4f2e-b014-f92eed44a58f&pf_rd_p=c679a10e-5f33-4f2e-b014-f92eed44a58f&pf_rd_r=HEQZ9FHAGV10V113VF8V&pd_rd_wg=9YxbR&pd_rd_r=4777072b-85c7-45c1-968d-d9c9acfe382d',\n",
       " 'https://aax-eu.amazon.in/x/c/Q83FEHy5rgyPFfFaqH2egzwAAAGCcuvFHQMAAAH2AQAz7UCz/https://www.amazon.in/gp/aw/d/B09R3XHPVZ/?_encoding=UTF8&pd_rd_plhdr=t&aaxitk=b4603a5c3d515c82442c55f39b35eb9b&hsa_cr_id=9387835380202&qid=1659785430&sr=1-2-fd947bf3-57d2-4cc9-939d-2805f92cef28&ref_=sbx_be_s_sparkle_lsi4d_asin_1_bkgd&pd_rd_w=sCcu0&content-id=amzn1.sym.c679a10e-5f33-4f2e-b014-f92eed44a58f%3Aamzn1.sym.c679a10e-5f33-4f2e-b014-f92eed44a58f&pf_rd_p=c679a10e-5f33-4f2e-b014-f92eed44a58f&pf_rd_r=HEQZ9FHAGV10V113VF8V&pd_rd_wg=9YxbR&pd_rd_r=4777072b-85c7-45c1-968d-d9c9acfe382d',\n",
       " 'https://aax-eu.amazon.in/x/c/Q83FEHy5rgyPFfFaqH2egzwAAAGCcuvFHQMAAAH2AQAz7UCz/https://www.amazon.in/gp/aw/d/B09R3XHPVZ/?_encoding=UTF8&pd_rd_plhdr=t&aaxitk=b4603a5c3d515c82442c55f39b35eb9b&hsa_cr_id=9387835380202&qid=1659785430&sr=1-2-fd947bf3-57d2-4cc9-939d-2805f92cef28&ref_=sbx_be_s_sparkle_lsi4d_asin_1_price&pd_rd_w=sCcu0&content-id=amzn1.sym.c679a10e-5f33-4f2e-b014-f92eed44a58f%3Aamzn1.sym.c679a10e-5f33-4f2e-b014-f92eed44a58f&pf_rd_p=c679a10e-5f33-4f2e-b014-f92eed44a58f&pf_rd_r=HEQZ9FHAGV10V113VF8V&pd_rd_wg=9YxbR&pd_rd_r=4777072b-85c7-45c1-968d-d9c9acfe382d',\n",
       " 'https://aax-eu.amazon.in/x/c/Q83FEHy5rgyPFfFaqH2egzwAAAGCcuvFHQMAAAH2AQAz7UCz/https://www.amazon.in/gp/aw/d/B09R3XHPVZ/?_encoding=UTF8&pd_rd_plhdr=t&aaxitk=b4603a5c3d515c82442c55f39b35eb9b&hsa_cr_id=9387835380202&qid=1659785430&sr=1-2-fd947bf3-57d2-4cc9-939d-2805f92cef28&ref_=sbx_be_s_sparkle_lsi4d_asin_1_price&pd_rd_w=sCcu0&content-id=amzn1.sym.c679a10e-5f33-4f2e-b014-f92eed44a58f%3Aamzn1.sym.c679a10e-5f33-4f2e-b014-f92eed44a58f&pf_rd_p=c679a10e-5f33-4f2e-b014-f92eed44a58f&pf_rd_r=HEQZ9FHAGV10V113VF8V&pd_rd_wg=9YxbR&pd_rd_r=4777072b-85c7-45c1-968d-d9c9acfe382d',\n",
       " 'https://aax-eu.amazon.in/x/c/Q83FEHy5rgyPFfFaqH2egzwAAAGCcuvFHQMAAAH2AQAz7UCz/https://www.amazon.in/gp/aw/d/B09R3XHPVZ/?_encoding=UTF8&pd_rd_plhdr=t&aaxitk=b4603a5c3d515c82442c55f39b35eb9b&hsa_cr_id=9387835380202&qid=1659785430&sr=1-2-fd947bf3-57d2-4cc9-939d-2805f92cef28&ref_=sbx_be_s_sparkle_lsi4d_asin_1_price&pd_rd_w=sCcu0&content-id=amzn1.sym.c679a10e-5f33-4f2e-b014-f92eed44a58f%3Aamzn1.sym.c679a10e-5f33-4f2e-b014-f92eed44a58f&pf_rd_p=c679a10e-5f33-4f2e-b014-f92eed44a58f&pf_rd_r=HEQZ9FHAGV10V113VF8V&pd_rd_wg=9YxbR&pd_rd_r=4777072b-85c7-45c1-968d-d9c9acfe382d',\n",
       " 'https://aax-eu.amazon.in/x/c/Q83FEHy5rgyPFfFaqH2egzwAAAGCcuvFHQMAAAH2AQAz7UCz/https://www.amazon.in/gp/aw/d/B09R3XHPVZ/?_encoding=UTF8&pd_rd_plhdr=t&aaxitk=b4603a5c3d515c82442c55f39b35eb9b&hsa_cr_id=9387835380202&qid=1659785430&sr=1-2-fd947bf3-57d2-4cc9-939d-2805f92cef28&ref_=sbx_be_s_sparkle_lsi4d_asin_1_badge&pd_rd_w=sCcu0&content-id=amzn1.sym.c679a10e-5f33-4f2e-b014-f92eed44a58f%3Aamzn1.sym.c679a10e-5f33-4f2e-b014-f92eed44a58f&pf_rd_p=c679a10e-5f33-4f2e-b014-f92eed44a58f&pf_rd_r=HEQZ9FHAGV10V113VF8V&pd_rd_wg=9YxbR&pd_rd_r=4777072b-85c7-45c1-968d-d9c9acfe382d',\n",
       " 'https://aax-eu.amazon.in/x/c/Q83FEHy5rgyPFfFaqH2egzwAAAGCcuvFHQMAAAH2AQAz7UCz/https://www.amazon.in/gp/aw/d/B09R3XHPVZ/?_encoding=UTF8&pd_rd_plhdr=t&aaxitk=b4603a5c3d515c82442c55f39b35eb9b&hsa_cr_id=9387835380202&qid=1659785430&sr=1-2-fd947bf3-57d2-4cc9-939d-2805f92cef28&ref_=sbx_be_s_sparkle_lsi4d_asin_1_price&pd_rd_w=sCcu0&content-id=amzn1.sym.c679a10e-5f33-4f2e-b014-f92eed44a58f%3Aamzn1.sym.c679a10e-5f33-4f2e-b014-f92eed44a58f&pf_rd_p=c679a10e-5f33-4f2e-b014-f92eed44a58f&pf_rd_r=HEQZ9FHAGV10V113VF8V&pd_rd_wg=9YxbR&pd_rd_r=4777072b-85c7-45c1-968d-d9c9acfe382d',\n",
       " 'https://aax-eu.amazon.in/x/c/Q83FEHy5rgyPFfFaqH2egzwAAAGCcuvFHQMAAAH2AQAz7UCz/https://www.amazon.in/gp/aw/d/B09R248ZWX/?_encoding=UTF8&pd_rd_plhdr=t&aaxitk=b4603a5c3d515c82442c55f39b35eb9b&hsa_cr_id=9387835380202&qid=1659785430&sr=1-3-fd947bf3-57d2-4cc9-939d-2805f92cef28&ref_=sbx_be_s_sparkle_lsi4d_asin_2_bkgd&pd_rd_w=sCcu0&content-id=amzn1.sym.c679a10e-5f33-4f2e-b014-f92eed44a58f%3Aamzn1.sym.c679a10e-5f33-4f2e-b014-f92eed44a58f&pf_rd_p=c679a10e-5f33-4f2e-b014-f92eed44a58f&pf_rd_r=HEQZ9FHAGV10V113VF8V&pd_rd_wg=9YxbR&pd_rd_r=4777072b-85c7-45c1-968d-d9c9acfe382d',\n",
       " 'https://aax-eu.amazon.in/x/c/Q83FEHy5rgyPFfFaqH2egzwAAAGCcuvFHQMAAAH2AQAz7UCz/https://www.amazon.in/gp/aw/d/B09R248ZWX/?_encoding=UTF8&pd_rd_plhdr=t&aaxitk=b4603a5c3d515c82442c55f39b35eb9b&hsa_cr_id=9387835380202&qid=1659785430&sr=1-3-fd947bf3-57d2-4cc9-939d-2805f92cef28&ref_=sbx_be_s_sparkle_lsi4d_asin_2_img&pd_rd_w=sCcu0&content-id=amzn1.sym.c679a10e-5f33-4f2e-b014-f92eed44a58f%3Aamzn1.sym.c679a10e-5f33-4f2e-b014-f92eed44a58f&pf_rd_p=c679a10e-5f33-4f2e-b014-f92eed44a58f&pf_rd_r=HEQZ9FHAGV10V113VF8V&pd_rd_wg=9YxbR&pd_rd_r=4777072b-85c7-45c1-968d-d9c9acfe382d',\n",
       " 'https://aax-eu.amazon.in/x/c/Q83FEHy5rgyPFfFaqH2egzwAAAGCcuvFHQMAAAH2AQAz7UCz/https://www.amazon.in/gp/aw/d/B09R248ZWX/?_encoding=UTF8&pd_rd_plhdr=t&aaxitk=b4603a5c3d515c82442c55f39b35eb9b&hsa_cr_id=9387835380202&qid=1659785430&sr=1-3-fd947bf3-57d2-4cc9-939d-2805f92cef28&ref_=sbx_be_s_sparkle_lsi4d_asin_2_bkgd&pd_rd_w=sCcu0&content-id=amzn1.sym.c679a10e-5f33-4f2e-b014-f92eed44a58f%3Aamzn1.sym.c679a10e-5f33-4f2e-b014-f92eed44a58f&pf_rd_p=c679a10e-5f33-4f2e-b014-f92eed44a58f&pf_rd_r=HEQZ9FHAGV10V113VF8V&pd_rd_wg=9YxbR&pd_rd_r=4777072b-85c7-45c1-968d-d9c9acfe382d',\n",
       " 'https://aax-eu.amazon.in/x/c/Q83FEHy5rgyPFfFaqH2egzwAAAGCcuvFHQMAAAH2AQAz7UCz/https://www.amazon.in/gp/aw/d/B09R248ZWX/?_encoding=UTF8&pd_rd_plhdr=t&aaxitk=b4603a5c3d515c82442c55f39b35eb9b&hsa_cr_id=9387835380202&qid=1659785430&sr=1-3-fd947bf3-57d2-4cc9-939d-2805f92cef28&ref_=sbx_be_s_sparkle_lsi4d_asin_2_price&pd_rd_w=sCcu0&content-id=amzn1.sym.c679a10e-5f33-4f2e-b014-f92eed44a58f%3Aamzn1.sym.c679a10e-5f33-4f2e-b014-f92eed44a58f&pf_rd_p=c679a10e-5f33-4f2e-b014-f92eed44a58f&pf_rd_r=HEQZ9FHAGV10V113VF8V&pd_rd_wg=9YxbR&pd_rd_r=4777072b-85c7-45c1-968d-d9c9acfe382d',\n",
       " 'https://aax-eu.amazon.in/x/c/Q83FEHy5rgyPFfFaqH2egzwAAAGCcuvFHQMAAAH2AQAz7UCz/https://www.amazon.in/gp/aw/d/B09R248ZWX/?_encoding=UTF8&pd_rd_plhdr=t&aaxitk=b4603a5c3d515c82442c55f39b35eb9b&hsa_cr_id=9387835380202&qid=1659785430&sr=1-3-fd947bf3-57d2-4cc9-939d-2805f92cef28&ref_=sbx_be_s_sparkle_lsi4d_asin_2_price&pd_rd_w=sCcu0&content-id=amzn1.sym.c679a10e-5f33-4f2e-b014-f92eed44a58f%3Aamzn1.sym.c679a10e-5f33-4f2e-b014-f92eed44a58f&pf_rd_p=c679a10e-5f33-4f2e-b014-f92eed44a58f&pf_rd_r=HEQZ9FHAGV10V113VF8V&pd_rd_wg=9YxbR&pd_rd_r=4777072b-85c7-45c1-968d-d9c9acfe382d',\n",
       " 'https://aax-eu.amazon.in/x/c/Q83FEHy5rgyPFfFaqH2egzwAAAGCcuvFHQMAAAH2AQAz7UCz/https://www.amazon.in/gp/aw/d/B09R248ZWX/?_encoding=UTF8&pd_rd_plhdr=t&aaxitk=b4603a5c3d515c82442c55f39b35eb9b&hsa_cr_id=9387835380202&qid=1659785430&sr=1-3-fd947bf3-57d2-4cc9-939d-2805f92cef28&ref_=sbx_be_s_sparkle_lsi4d_asin_2_price&pd_rd_w=sCcu0&content-id=amzn1.sym.c679a10e-5f33-4f2e-b014-f92eed44a58f%3Aamzn1.sym.c679a10e-5f33-4f2e-b014-f92eed44a58f&pf_rd_p=c679a10e-5f33-4f2e-b014-f92eed44a58f&pf_rd_r=HEQZ9FHAGV10V113VF8V&pd_rd_wg=9YxbR&pd_rd_r=4777072b-85c7-45c1-968d-d9c9acfe382d',\n",
       " 'https://aax-eu.amazon.in/x/c/Q83FEHy5rgyPFfFaqH2egzwAAAGCcuvFHQMAAAH2AQAz7UCz/https://www.amazon.in/gp/aw/d/B09R248ZWX/?_encoding=UTF8&pd_rd_plhdr=t&aaxitk=b4603a5c3d515c82442c55f39b35eb9b&hsa_cr_id=9387835380202&qid=1659785430&sr=1-3-fd947bf3-57d2-4cc9-939d-2805f92cef28&ref_=sbx_be_s_sparkle_lsi4d_asin_2_badge&pd_rd_w=sCcu0&content-id=amzn1.sym.c679a10e-5f33-4f2e-b014-f92eed44a58f%3Aamzn1.sym.c679a10e-5f33-4f2e-b014-f92eed44a58f&pf_rd_p=c679a10e-5f33-4f2e-b014-f92eed44a58f&pf_rd_r=HEQZ9FHAGV10V113VF8V&pd_rd_wg=9YxbR&pd_rd_r=4777072b-85c7-45c1-968d-d9c9acfe382d',\n",
       " 'https://aax-eu.amazon.in/x/c/Q83FEHy5rgyPFfFaqH2egzwAAAGCcuvFHQMAAAH2AQAz7UCz/https://www.amazon.in/gp/aw/d/B09R248ZWX/?_encoding=UTF8&pd_rd_plhdr=t&aaxitk=b4603a5c3d515c82442c55f39b35eb9b&hsa_cr_id=9387835380202&qid=1659785430&sr=1-3-fd947bf3-57d2-4cc9-939d-2805f92cef28&ref_=sbx_be_s_sparkle_lsi4d_asin_2_price&pd_rd_w=sCcu0&content-id=amzn1.sym.c679a10e-5f33-4f2e-b014-f92eed44a58f%3Aamzn1.sym.c679a10e-5f33-4f2e-b014-f92eed44a58f&pf_rd_p=c679a10e-5f33-4f2e-b014-f92eed44a58f&pf_rd_r=HEQZ9FHAGV10V113VF8V&pd_rd_wg=9YxbR&pd_rd_r=4777072b-85c7-45c1-968d-d9c9acfe382d',\n",
       " 'https://aax-eu.amazon.in/x/c/Q83FEHy5rgyPFfFaqH2egzwAAAGCcuvFHQMAAAH2AQAz7UCz/https://www.amazon.in/stores/page/BDB74DA5-A67A-4B5B-9E38-FA6345BB38D4/?_encoding=UTF8&store_ref=SB_A022489928OVCOEMKT2HF&pd_rd_plhdr=t&aaxitk=b4603a5c3d515c82442c55f39b35eb9b&hsa_cr_id=9387835380202&lp_asins=B09R29RSFH%2CB09R3XHPVZ%2CB09R248ZWX&lp_query=window%20a.c&lp_slot=auto-sparkle-hsa-tetris&ref_=sbx_be_s_sparkle_lsi4d_bkgd&pd_rd_w=sCcu0&content-id=amzn1.sym.c679a10e-5f33-4f2e-b014-f92eed44a58f%3Aamzn1.sym.c679a10e-5f33-4f2e-b014-f92eed44a58f&pf_rd_p=c679a10e-5f33-4f2e-b014-f92eed44a58f&pf_rd_r=HEQZ9FHAGV10V113VF8V&pd_rd_wg=9YxbR&pd_rd_r=4777072b-85c7-45c1-968d-d9c9acfe382d',\n",
       " 'https://www.amazon.in/gp/slredirect/picassoRedirect.html/ref=pa_sp_atf_aps_sr_pg1_1?ie=UTF8&adId=A091874831GTQ1Z1UFY6K&url=%2FAmazonBasics-Star-Inverter-Split-White%2Fdp%2FB08J8R76J8%2Fref%3Dsr_1_1_sspa%3Fcrid%3D3HI4YQZMX3EQD%26keywords%3Dwindow%2Ba.c%26qid%3D1659785430%26sprefix%3Dwindow%2Ba.c%252Caps%252C530%26sr%3D8-1-spons%26psc%3D1&qualifier=1659785430&id=1951265962231133&widgetName=sp_atf',\n",
       " 'javascript:void(0)',\n",
       " 'https://www.amazon.in/s?k=window+a.c&crid=3HI4YQZMX3EQD&sprefix=window+a.c%2Caps%2C530&ref=nb_sb_noss_1#',\n",
       " 'https://www.amazon.in/gp/slredirect/picassoRedirect.html/ref=pa_sp_atf_aps_sr_pg1_1?ie=UTF8&adId=A091874831GTQ1Z1UFY6K&url=%2FAmazonBasics-Star-Inverter-Split-White%2Fdp%2FB08J8R76J8%2Fref%3Dsr_1_1_sspa%3Fcrid%3D3HI4YQZMX3EQD%26keywords%3Dwindow%2Ba.c%26qid%3D1659785430%26sprefix%3Dwindow%2Ba.c%252Caps%252C530%26sr%3D8-1-spons%26psc%3D1&qualifier=1659785430&id=1951265962231133&widgetName=sp_atf',\n",
       " 'javascript:void(0)',\n",
       " 'https://www.amazon.in/gp/slredirect/picassoRedirect.html/ref=pa_sp_atf_aps_sr_pg1_1?ie=UTF8&adId=A091874831GTQ1Z1UFY6K&url=%2FAmazonBasics-Star-Inverter-Split-White%2Fdp%2FB08J8R76J8%2Fref%3Dsr_1_1_sspa%3Fcrid%3D3HI4YQZMX3EQD%26keywords%3Dwindow%2Ba.c%26qid%3D1659785430%26sprefix%3Dwindow%2Ba.c%252Caps%252C530%26sr%3D8-1-spons%26psc%3D1&qualifier=1659785430&id=1951265962231133&widgetName=sp_atf#customerReviews',\n",
       " 'https://www.amazon.in/greatindianfestival',\n",
       " 'https://www.amazon.in/gp/slredirect/picassoRedirect.html/ref=pa_sp_atf_aps_sr_pg1_1?ie=UTF8&adId=A091874831GTQ1Z1UFY6K&url=%2FAmazonBasics-Star-Inverter-Split-White%2Fdp%2FB08J8R76J8%2Fref%3Dsr_1_1_sspa%3Fcrid%3D3HI4YQZMX3EQD%26keywords%3Dwindow%2Ba.c%26qid%3D1659785430%26sprefix%3Dwindow%2Ba.c%252Caps%252C530%26sr%3D8-1-spons%26psc%3D1&qualifier=1659785430&id=1951265962231133&widgetName=sp_atf',\n",
       " 'https://www.amazon.in/gp/slredirect/picassoRedirect.html/ref=pa_sp_atf_aps_sr_pg1_1?ie=UTF8&adId=A08977923A3HZ9GQYVR74&url=%2FAmazonBasics-1-5-Ton-Air-Conditioner%2Fdp%2FB08J8SF74V%2Fref%3Dsr_1_2_sspa%3Fcrid%3D3HI4YQZMX3EQD%26keywords%3Dwindow%2Ba.c%26qid%3D1659785430%26sprefix%3Dwindow%2Ba.c%252Caps%252C530%26sr%3D8-2-spons%26psc%3D1&qualifier=1659785430&id=1951265962231133&widgetName=sp_atf',\n",
       " 'javascript:void(0)',\n",
       " 'https://www.amazon.in/s?k=window+a.c&crid=3HI4YQZMX3EQD&sprefix=window+a.c%2Caps%2C530&ref=nb_sb_noss_1#',\n",
       " 'https://www.amazon.in/gp/slredirect/picassoRedirect.html/ref=pa_sp_atf_aps_sr_pg1_1?ie=UTF8&adId=A08977923A3HZ9GQYVR74&url=%2FAmazonBasics-1-5-Ton-Air-Conditioner%2Fdp%2FB08J8SF74V%2Fref%3Dsr_1_2_sspa%3Fcrid%3D3HI4YQZMX3EQD%26keywords%3Dwindow%2Ba.c%26qid%3D1659785430%26sprefix%3Dwindow%2Ba.c%252Caps%252C530%26sr%3D8-2-spons%26psc%3D1&qualifier=1659785430&id=1951265962231133&widgetName=sp_atf',\n",
       " 'javascript:void(0)',\n",
       " 'https://www.amazon.in/gp/slredirect/picassoRedirect.html/ref=pa_sp_atf_aps_sr_pg1_1?ie=UTF8&adId=A08977923A3HZ9GQYVR74&url=%2FAmazonBasics-1-5-Ton-Air-Conditioner%2Fdp%2FB08J8SF74V%2Fref%3Dsr_1_2_sspa%3Fcrid%3D3HI4YQZMX3EQD%26keywords%3Dwindow%2Ba.c%26qid%3D1659785430%26sprefix%3Dwindow%2Ba.c%252Caps%252C530%26sr%3D8-2-spons%26psc%3D1&qualifier=1659785430&id=1951265962231133&widgetName=sp_atf#customerReviews',\n",
       " 'https://www.amazon.in/greatindianfestival',\n",
       " 'https://www.amazon.in/gp/slredirect/picassoRedirect.html/ref=pa_sp_atf_aps_sr_pg1_1?ie=UTF8&adId=A08977923A3HZ9GQYVR74&url=%2FAmazonBasics-1-5-Ton-Air-Conditioner%2Fdp%2FB08J8SF74V%2Fref%3Dsr_1_2_sspa%3Fcrid%3D3HI4YQZMX3EQD%26keywords%3Dwindow%2Ba.c%26qid%3D1659785430%26sprefix%3Dwindow%2Ba.c%252Caps%252C530%26sr%3D8-2-spons%26psc%3D1&qualifier=1659785430&id=1951265962231133&widgetName=sp_atf',\n",
       " 'javascript:void(0)',\n",
       " 'https://www.amazon.in/Havells-Lloyd-Window-GLW18B3YWSES-Copper/dp/B09SGNMD7R/ref=sr_1_3?crid=3HI4YQZMX3EQD&keywords=window+a.c&qid=1659785430&sprefix=window+a.c%2Caps%2C530&sr=8-3',\n",
       " 'https://www.amazon.in/Havells-Lloyd-Window-GLW18B3YWSES-Copper/dp/B09SGNMD7R/ref=sr_1_3?crid=3HI4YQZMX3EQD&keywords=window+a.c&qid=1659785430&sprefix=window+a.c%2Caps%2C530&sr=8-3',\n",
       " 'javascript:void(0)',\n",
       " 'https://www.amazon.in/Havells-Lloyd-Window-GLW18B3YWSES-Copper/dp/B09SGNMD7R/ref=sr_1_3?crid=3HI4YQZMX3EQD&keywords=window+a.c&qid=1659785430&sprefix=window+a.c%2Caps%2C530&sr=8-3#customerReviews',\n",
       " 'https://www.amazon.in/greatindianfestival',\n",
       " 'https://www.amazon.in/Havells-Lloyd-Window-GLW18B3YWSES-Copper/dp/B09SGNMD7R/ref=sr_1_3?crid=3HI4YQZMX3EQD&keywords=window+a.c&qid=1659785430&sprefix=window+a.c%2Caps%2C530&sr=8-3',\n",
       " 'https://www.amazon.in/gp/offer-listing/B09SGNMD7R/ref=sr_1_3_olp?keywords=window+a.c&crid=3HI4YQZMX3EQD&sprefix=window+a.c%2Caps%2C530&qid=1659785430&sr=8-3',\n",
       " 'https://www.amazon.in/AmazonBasics-1-5-Ton-Air-Conditioner/dp/B08J8V4QHD/ref=sr_1_4?crid=3HI4YQZMX3EQD&keywords=window+a.c&qid=1659785430&sprefix=window+a.c%2Caps%2C530&sr=8-4',\n",
       " 'https://www.amazon.in/AmazonBasics-1-5-Ton-Air-Conditioner/dp/B08J8V4QHD/ref=sr_1_4?crid=3HI4YQZMX3EQD&keywords=window+a.c&qid=1659785430&sprefix=window+a.c%2Caps%2C530&sr=8-4',\n",
       " 'javascript:void(0)',\n",
       " 'https://www.amazon.in/AmazonBasics-1-5-Ton-Air-Conditioner/dp/B08J8V4QHD/ref=sr_1_4?crid=3HI4YQZMX3EQD&keywords=window+a.c&qid=1659785430&sprefix=window+a.c%2Caps%2C530&sr=8-4#customerReviews',\n",
       " 'https://www.amazon.in/AmazonBasics-1-5-Ton-Air-Conditioner/dp/B08J8V4QHD/ref=sr_1_4?crid=3HI4YQZMX3EQD&keywords=window+a.c&qid=1659785430&sprefix=window+a.c%2Caps%2C530&sr=8-4',\n",
       " 'https://www.amazon.in/Blue-Star-Window-Copper-WFA518LL/dp/B09VKNYNBV/ref=sr_1_5?crid=3HI4YQZMX3EQD&keywords=window+a.c&qid=1659785430&sprefix=window+a.c%2Caps%2C530&sr=8-5',\n",
       " 'https://www.amazon.in/Blue-Star-Window-Copper-WFA518LL/dp/B09VKNYNBV/ref=sr_1_5?crid=3HI4YQZMX3EQD&keywords=window+a.c&qid=1659785430&sprefix=window+a.c%2Caps%2C530&sr=8-5',\n",
       " 'javascript:void(0)',\n",
       " 'https://www.amazon.in/Blue-Star-Window-Copper-WFA518LL/dp/B09VKNYNBV/ref=sr_1_5?crid=3HI4YQZMX3EQD&keywords=window+a.c&qid=1659785430&sprefix=window+a.c%2Caps%2C530&sr=8-5#customerReviews',\n",
       " 'https://www.amazon.in/Voltas-Window-Copper-18H-DZB/dp/B08MFM4G64/ref=sr_1_6?crid=3HI4YQZMX3EQD&keywords=window+a.c&qid=1659785430&sprefix=window+a.c%2Caps%2C530&sr=8-6',\n",
       " 'https://www.amazon.in/Voltas-Window-Copper-18H-DZB/dp/B08MFM4G64/ref=sr_1_6?crid=3HI4YQZMX3EQD&keywords=window+a.c&qid=1659785430&sprefix=window+a.c%2Caps%2C530&sr=8-6',\n",
       " 'javascript:void(0)',\n",
       " 'https://www.amazon.in/Voltas-Window-Copper-18H-DZB/dp/B08MFM4G64/ref=sr_1_6?crid=3HI4YQZMX3EQD&keywords=window+a.c&qid=1659785430&sprefix=window+a.c%2Caps%2C530&sr=8-6#customerReviews',\n",
       " 'https://www.amazon.in/LG-Inverter-Convertible-cooling-PW-Q18WUXA/dp/B09PZ1GZ8R/ref=sr_1_7?crid=3HI4YQZMX3EQD&keywords=window+a.c&qid=1659785430&sprefix=window+a.c%2Caps%2C530&sr=8-7',\n",
       " 'https://www.amazon.in/LG-Inverter-Convertible-cooling-PW-Q18WUXA/dp/B09PZ1GZ8R/ref=sr_1_7?crid=3HI4YQZMX3EQD&keywords=window+a.c&qid=1659785430&sprefix=window+a.c%2Caps%2C530&sr=8-7',\n",
       " 'javascript:void(0)',\n",
       " 'https://www.amazon.in/LG-Inverter-Convertible-cooling-PW-Q18WUXA/dp/B09PZ1GZ8R/ref=sr_1_7?crid=3HI4YQZMX3EQD&keywords=window+a.c&qid=1659785430&sprefix=window+a.c%2Caps%2C530&sr=8-7#customerReviews',\n",
       " 'https://www.amazon.in/LG-Inverter-Window-JW-Q18WUXA1-Discharge/dp/B082TG8SP1/ref=sr_1_8?crid=3HI4YQZMX3EQD&keywords=window+a.c&qid=1659785430&sprefix=window+a.c%2Caps%2C530&sr=8-8',\n",
       " 'https://www.amazon.in/LG-Inverter-Window-JW-Q18WUXA1-Discharge/dp/B082TG8SP1/ref=sr_1_8?crid=3HI4YQZMX3EQD&keywords=window+a.c&qid=1659785430&sprefix=window+a.c%2Caps%2C530&sr=8-8',\n",
       " 'javascript:void(0)',\n",
       " 'https://www.amazon.in/LG-Inverter-Window-JW-Q18WUXA1-Discharge/dp/B082TG8SP1/ref=sr_1_8?crid=3HI4YQZMX3EQD&keywords=window+a.c&qid=1659785430&sprefix=window+a.c%2Caps%2C530&sr=8-8#customerReviews',\n",
       " 'https://www.amazon.in/Lloyd-Window-GLW18B5YWGEW-Copper-Golden/dp/B09SGLJVLS/ref=sr_1_9?crid=3HI4YQZMX3EQD&keywords=window+a.c&qid=1659785430&sprefix=window+a.c%2Caps%2C530&sr=8-9',\n",
       " 'https://www.amazon.in/Lloyd-Window-GLW18B5YWGEW-Copper-Golden/dp/B09SGLJVLS/ref=sr_1_9?crid=3HI4YQZMX3EQD&keywords=window+a.c&qid=1659785430&sprefix=window+a.c%2Caps%2C530&sr=8-9',\n",
       " 'javascript:void(0)',\n",
       " 'https://www.amazon.in/Lloyd-Window-GLW18B5YWGEW-Copper-Golden/dp/B09SGLJVLS/ref=sr_1_9?crid=3HI4YQZMX3EQD&keywords=window+a.c&qid=1659785430&sprefix=window+a.c%2Caps%2C530&sr=8-9#customerReviews',\n",
       " 'https://www.amazon.in/Lloyd-Window-GLW18B5YWGEW-Copper-Golden/dp/B09SGLJVLS/ref=sr_1_9?crid=3HI4YQZMX3EQD&keywords=window+a.c&qid=1659785430&sprefix=window+a.c%2Caps%2C530&sr=8-9',\n",
       " 'https://www.amazon.in/Blue-Star-Window-Copper-WFA512LL/dp/B09RTGTRTH/ref=sr_1_10?crid=3HI4YQZMX3EQD&keywords=window+a.c&qid=1659785430&sprefix=window+a.c%2Caps%2C530&sr=8-10',\n",
       " 'https://www.amazon.in/Blue-Star-Window-Copper-WFA512LL/dp/B09RTGTRTH/ref=sr_1_10?crid=3HI4YQZMX3EQD&keywords=window+a.c&qid=1659785430&sprefix=window+a.c%2Caps%2C530&sr=8-10',\n",
       " 'javascript:void(0)',\n",
       " 'https://www.amazon.in/Blue-Star-Window-Copper-WFA512LL/dp/B09RTGTRTH/ref=sr_1_10?crid=3HI4YQZMX3EQD&keywords=window+a.c&qid=1659785430&sprefix=window+a.c%2Caps%2C530&sr=8-10#customerReviews',\n",
       " 'https://www.amazon.in/Blue-Star-Window-Copper-WFA512LL/dp/B09RTGTRTH/ref=sr_1_10?crid=3HI4YQZMX3EQD&keywords=window+a.c&qid=1659785430&sprefix=window+a.c%2Caps%2C530&sr=8-10',\n",
       " 'https://www.amazon.in/gp/slredirect/picassoRedirect.html/ref=pa_sp_mtf_aps_sr_pg1_1?ie=UTF8&adId=A0547090HRPCBZEBXQ35&url=%2FGodrej-GSC-18-RGN-CWQR%2Fdp%2FB079MDCHZ2%2Fref%3Dsr_1_11_sspa%3Fcrid%3D3HI4YQZMX3EQD%26keywords%3Dwindow%2Ba.c%26qid%3D1659785430%26sprefix%3Dwindow%2Ba.c%252Caps%252C530%26sr%3D8-11-spons%26psc%3D1&qualifier=1659785430&id=1951265962231133&widgetName=sp_mtf',\n",
       " 'javascript:void(0)',\n",
       " 'https://www.amazon.in/s?k=window+a.c&crid=3HI4YQZMX3EQD&sprefix=window+a.c%2Caps%2C530&ref=nb_sb_noss_1#',\n",
       " 'https://www.amazon.in/gp/slredirect/picassoRedirect.html/ref=pa_sp_mtf_aps_sr_pg1_1?ie=UTF8&adId=A0547090HRPCBZEBXQ35&url=%2FGodrej-GSC-18-RGN-CWQR%2Fdp%2FB079MDCHZ2%2Fref%3Dsr_1_11_sspa%3Fcrid%3D3HI4YQZMX3EQD%26keywords%3Dwindow%2Ba.c%26qid%3D1659785430%26sprefix%3Dwindow%2Ba.c%252Caps%252C530%26sr%3D8-11-spons%26psc%3D1&qualifier=1659785430&id=1951265962231133&widgetName=sp_mtf',\n",
       " 'javascript:void(0)',\n",
       " 'https://www.amazon.in/gp/slredirect/picassoRedirect.html/ref=pa_sp_mtf_aps_sr_pg1_1?ie=UTF8&adId=A0547090HRPCBZEBXQ35&url=%2FGodrej-GSC-18-RGN-CWQR%2Fdp%2FB079MDCHZ2%2Fref%3Dsr_1_11_sspa%3Fcrid%3D3HI4YQZMX3EQD%26keywords%3Dwindow%2Ba.c%26qid%3D1659785430%26sprefix%3Dwindow%2Ba.c%252Caps%252C530%26sr%3D8-11-spons%26psc%3D1&qualifier=1659785430&id=1951265962231133&widgetName=sp_mtf#customerReviews',\n",
       " 'https://www.amazon.in/gp/slredirect/picassoRedirect.html/ref=pa_sp_mtf_aps_sr_pg1_1?ie=UTF8&adId=A00296043CGDTC5JCF0YU&url=%2FDaikin-Inverter-Split-Copper-FTKF50TV%2Fdp%2FB07HFK5FSD%2Fref%3Dsr_1_12_sspa%3Fcrid%3D3HI4YQZMX3EQD%26keywords%3Dwindow%2Ba.c%26qid%3D1659785430%26sprefix%3Dwindow%2Ba.c%252Caps%252C530%26sr%3D8-12-spons%26psc%3D1&qualifier=1659785430&id=1951265962231133&widgetName=sp_mtf',\n",
       " 'javascript:void(0)',\n",
       " 'https://www.amazon.in/s?k=window+a.c&crid=3HI4YQZMX3EQD&sprefix=window+a.c%2Caps%2C530&ref=nb_sb_noss_1#',\n",
       " 'https://www.amazon.in/gp/slredirect/picassoRedirect.html/ref=pa_sp_mtf_aps_sr_pg1_1?ie=UTF8&adId=A00296043CGDTC5JCF0YU&url=%2FDaikin-Inverter-Split-Copper-FTKF50TV%2Fdp%2FB07HFK5FSD%2Fref%3Dsr_1_12_sspa%3Fcrid%3D3HI4YQZMX3EQD%26keywords%3Dwindow%2Ba.c%26qid%3D1659785430%26sprefix%3Dwindow%2Ba.c%252Caps%252C530%26sr%3D8-12-spons%26psc%3D1&qualifier=1659785430&id=1951265962231133&widgetName=sp_mtf',\n",
       " 'javascript:void(0)',\n",
       " 'https://www.amazon.in/gp/slredirect/picassoRedirect.html/ref=pa_sp_mtf_aps_sr_pg1_1?ie=UTF8&adId=A00296043CGDTC5JCF0YU&url=%2FDaikin-Inverter-Split-Copper-FTKF50TV%2Fdp%2FB07HFK5FSD%2Fref%3Dsr_1_12_sspa%3Fcrid%3D3HI4YQZMX3EQD%26keywords%3Dwindow%2Ba.c%26qid%3D1659785430%26sprefix%3Dwindow%2Ba.c%252Caps%252C530%26sr%3D8-12-spons%26psc%3D1&qualifier=1659785430&id=1951265962231133&widgetName=sp_mtf#customerReviews',\n",
       " 'https://www.amazon.in/gp/slredirect/picassoRedirect.html/ref=pa_sp_mtf_aps_sr_pg1_1?ie=UTF8&adId=A00296043CGDTC5JCF0YU&url=%2FDaikin-Inverter-Split-Copper-FTKF50TV%2Fdp%2FB07HFK5FSD%2Fref%3Dsr_1_12_sspa%3Fcrid%3D3HI4YQZMX3EQD%26keywords%3Dwindow%2Ba.c%26qid%3D1659785430%26sprefix%3Dwindow%2Ba.c%252Caps%252C530%26sr%3D8-12-spons%26psc%3D1&qualifier=1659785430&id=1951265962231133&widgetName=sp_mtf',\n",
       " 'https://www.amazon.in/Voltas-Window-183CYA-183-CZP/dp/B00NBM4LJ0/ref=sr_1_13?crid=3HI4YQZMX3EQD&keywords=window+a.c&qid=1659785430&sprefix=window+a.c%2Caps%2C530&sr=8-13',\n",
       " 'https://www.amazon.in/Voltas-Window-183CYA-183-CZP/dp/B00NBM4LJ0/ref=sr_1_13?crid=3HI4YQZMX3EQD&keywords=window+a.c&qid=1659785430&sprefix=window+a.c%2Caps%2C530&sr=8-13',\n",
       " 'javascript:void(0)',\n",
       " 'https://www.amazon.in/Voltas-Window-183CYA-183-CZP/dp/B00NBM4LJ0/ref=sr_1_13?crid=3HI4YQZMX3EQD&keywords=window+a.c&qid=1659785430&sprefix=window+a.c%2Caps%2C530&sr=8-13#customerReviews',\n",
       " 'https://www.amazon.in/greatindianfestival',\n",
       " 'https://www.amazon.in/Voltas-Window-183CYA-183-CZP/dp/B00NBM4LJ0/ref=sr_1_13?crid=3HI4YQZMX3EQD&keywords=window+a.c&qid=1659785430&sprefix=window+a.c%2Caps%2C530&sr=8-13',\n",
       " 'https://www.amazon.in/Blue-Star-Window-Copper-WFA312LL/dp/B09RTG11JY/ref=sr_1_14?crid=3HI4YQZMX3EQD&keywords=window+a.c&qid=1659785430&sprefix=window+a.c%2Caps%2C530&sr=8-14',\n",
       " 'https://www.amazon.in/Blue-Star-Window-Copper-WFA312LL/dp/B09RTG11JY/ref=sr_1_14?crid=3HI4YQZMX3EQD&keywords=window+a.c&qid=1659785430&sprefix=window+a.c%2Caps%2C530&sr=8-14',\n",
       " 'javascript:void(0)',\n",
       " 'https://www.amazon.in/Blue-Star-Window-Copper-WFA312LL/dp/B09RTG11JY/ref=sr_1_14?crid=3HI4YQZMX3EQD&keywords=window+a.c&qid=1659785430&sprefix=window+a.c%2Caps%2C530&sr=8-14#customerReviews',\n",
       " 'https://www.amazon.in/Blue-Star-Window-Copper-WFA312LL/dp/B09RTG11JY/ref=sr_1_14?crid=3HI4YQZMX3EQD&keywords=window+a.c&qid=1659785430&sprefix=window+a.c%2Caps%2C530&sr=8-14',\n",
       " 'https://www.amazon.in/Havells-Lloyd-Window-GLW12B3YWSEW-Copper/dp/B09SGMJD2P/ref=sr_1_15?crid=3HI4YQZMX3EQD&keywords=window+a.c&qid=1659785430&sprefix=window+a.c%2Caps%2C530&sr=8-15',\n",
       " 'https://www.amazon.in/Havells-Lloyd-Window-GLW12B3YWSEW-Copper/dp/B09SGMJD2P/ref=sr_1_15?crid=3HI4YQZMX3EQD&keywords=window+a.c&qid=1659785430&sprefix=window+a.c%2Caps%2C530&sr=8-15',\n",
       " 'javascript:void(0)',\n",
       " 'https://www.amazon.in/Havells-Lloyd-Window-GLW12B3YWSEW-Copper/dp/B09SGMJD2P/ref=sr_1_15?crid=3HI4YQZMX3EQD&keywords=window+a.c&qid=1659785430&sprefix=window+a.c%2Caps%2C530&sr=8-15#customerReviews',\n",
       " 'https://www.amazon.in/Havells-Lloyd-Window-GLW12B3YWSEW-Copper/dp/B09SGMJD2P/ref=sr_1_15?crid=3HI4YQZMX3EQD&keywords=window+a.c&qid=1659785430&sprefix=window+a.c%2Caps%2C530&sr=8-15',\n",
       " 'https://www.amazon.in/Voltas-Star-Window-Copper-White/dp/B09WVQR375/ref=sr_1_16?crid=3HI4YQZMX3EQD&keywords=window+a.c&qid=1659785430&sprefix=window+a.c%2Caps%2C530&sr=8-16',\n",
       " 'https://www.amazon.in/Voltas-Star-Window-Copper-White/dp/B09WVQR375/ref=sr_1_16?crid=3HI4YQZMX3EQD&keywords=window+a.c&qid=1659785430&sprefix=window+a.c%2Caps%2C530&sr=8-16',\n",
       " 'javascript:void(0)',\n",
       " 'https://www.amazon.in/Voltas-Star-Window-Copper-White/dp/B09WVQR375/ref=sr_1_16?crid=3HI4YQZMX3EQD&keywords=window+a.c&qid=1659785430&sprefix=window+a.c%2Caps%2C530&sr=8-16#customerReviews',\n",
       " 'https://www.amazon.in/Voltas-Star-Window-Copper-White/dp/B09WVQR375/ref=sr_1_16?crid=3HI4YQZMX3EQD&keywords=window+a.c&qid=1659785430&sprefix=window+a.c%2Caps%2C530&sr=8-16',\n",
       " 'https://www.amazon.in/Panasonic-Window-Copper-Filter-CW-LN182AM/dp/B09RPFQ8Z5/ref=sr_1_17?crid=3HI4YQZMX3EQD&keywords=window+a.c&qid=1659785430&sprefix=window+a.c%2Caps%2C530&sr=8-17',\n",
       " 'https://www.amazon.in/Panasonic-Window-Copper-Filter-CW-LN182AM/dp/B09RPFQ8Z5/ref=sr_1_17?crid=3HI4YQZMX3EQD&keywords=window+a.c&qid=1659785430&sprefix=window+a.c%2Caps%2C530&sr=8-17',\n",
       " 'javascript:void(0)',\n",
       " 'https://www.amazon.in/Panasonic-Window-Copper-Filter-CW-LN182AM/dp/B09RPFQ8Z5/ref=sr_1_17?crid=3HI4YQZMX3EQD&keywords=window+a.c&qid=1659785430&sprefix=window+a.c%2Caps%2C530&sr=8-17#customerReviews',\n",
       " 'https://www.amazon.in/greatindianfestival',\n",
       " 'https://www.amazon.in/Panasonic-Window-Copper-Filter-CW-LN182AM/dp/B09RPFQ8Z5/ref=sr_1_17?crid=3HI4YQZMX3EQD&keywords=window+a.c&qid=1659785430&sprefix=window+a.c%2Caps%2C530&sr=8-17',\n",
       " 'https://www.amazon.in/Blue-Star-Portable-Copper-PC12DB/dp/B07W6NX7BJ/ref=sr_1_18?crid=3HI4YQZMX3EQD&keywords=window+a.c&qid=1659785430&sprefix=window+a.c%2Caps%2C530&sr=8-18',\n",
       " 'https://www.amazon.in/Blue-Star-Portable-Copper-PC12DB/dp/B07W6NX7BJ/ref=sr_1_18?crid=3HI4YQZMX3EQD&keywords=window+a.c&qid=1659785430&sprefix=window+a.c%2Caps%2C530&sr=8-18',\n",
       " 'javascript:void(0)',\n",
       " 'https://www.amazon.in/Blue-Star-Portable-Copper-PC12DB/dp/B07W6NX7BJ/ref=sr_1_18?crid=3HI4YQZMX3EQD&keywords=window+a.c&qid=1659785430&sprefix=window+a.c%2Caps%2C530&sr=8-18#customerReviews',\n",
       " 'https://www.amazon.in/Voltas-Window-173-DZA-regular/dp/B08SWDZT17/ref=sr_1_19?crid=3HI4YQZMX3EQD&keywords=window+a.c&qid=1659785430&sprefix=window+a.c%2Caps%2C530&sr=8-19',\n",
       " 'https://www.amazon.in/Voltas-Window-173-DZA-regular/dp/B08SWDZT17/ref=sr_1_19?crid=3HI4YQZMX3EQD&keywords=window+a.c&qid=1659785430&sprefix=window+a.c%2Caps%2C530&sr=8-19',\n",
       " 'javascript:void(0)',\n",
       " 'https://www.amazon.in/Voltas-Window-173-DZA-regular/dp/B08SWDZT17/ref=sr_1_19?crid=3HI4YQZMX3EQD&keywords=window+a.c&qid=1659785430&sprefix=window+a.c%2Caps%2C530&sr=8-19#customerReviews',\n",
       " 'https://www.amazon.in/Blue-Star-Inverter-Window-WIA418LL/dp/B09RTGCQ2R/ref=sr_1_20?crid=3HI4YQZMX3EQD&keywords=window+a.c&qid=1659785430&sprefix=window+a.c%2Caps%2C530&sr=8-20',\n",
       " 'https://www.amazon.in/Blue-Star-Inverter-Window-WIA418LL/dp/B09RTGCQ2R/ref=sr_1_20?crid=3HI4YQZMX3EQD&keywords=window+a.c&qid=1659785430&sprefix=window+a.c%2Caps%2C530&sr=8-20',\n",
       " 'javascript:void(0)',\n",
       " 'https://www.amazon.in/Blue-Star-Inverter-Window-WIA418LL/dp/B09RTGCQ2R/ref=sr_1_20?crid=3HI4YQZMX3EQD&keywords=window+a.c&qid=1659785430&sprefix=window+a.c%2Caps%2C530&sr=8-20#customerReviews',\n",
       " 'https://www.amazon.in/Blue-Star-Inverter-Window-WIA418LL/dp/B09RTGCQ2R/ref=sr_1_20?crid=3HI4YQZMX3EQD&keywords=window+a.c&qid=1659785430&sprefix=window+a.c%2Caps%2C530&sr=8-20',\n",
       " 'https://www.amazon.in/gp/slredirect/picassoRedirect.html/ref=pa_sp_btf_aps_sr_pg1_1?ie=UTF8&adId=A00298484V2J4OMS771I&url=%2FDaikin-Inverter-Split-Copper-JTKJ50TV%2Fdp%2FB07HFFRC3V%2Fref%3Dsr_1_21_sspa%3Fcrid%3D3HI4YQZMX3EQD%26keywords%3Dwindow%2Ba.c%26qid%3D1659785430%26sprefix%3Dwindow%2Ba.c%252Caps%252C530%26sr%3D8-21-spons%26psc%3D1&qualifier=1659785430&id=1951265962231133&widgetName=sp_btf',\n",
       " 'javascript:void(0)',\n",
       " 'https://www.amazon.in/s?k=window+a.c&crid=3HI4YQZMX3EQD&sprefix=window+a.c%2Caps%2C530&ref=nb_sb_noss_1#',\n",
       " 'https://www.amazon.in/gp/slredirect/picassoRedirect.html/ref=pa_sp_btf_aps_sr_pg1_1?ie=UTF8&adId=A00298484V2J4OMS771I&url=%2FDaikin-Inverter-Split-Copper-JTKJ50TV%2Fdp%2FB07HFFRC3V%2Fref%3Dsr_1_21_sspa%3Fcrid%3D3HI4YQZMX3EQD%26keywords%3Dwindow%2Ba.c%26qid%3D1659785430%26sprefix%3Dwindow%2Ba.c%252Caps%252C530%26sr%3D8-21-spons%26psc%3D1&qualifier=1659785430&id=1951265962231133&widgetName=sp_btf',\n",
       " 'javascript:void(0)',\n",
       " 'https://www.amazon.in/gp/slredirect/picassoRedirect.html/ref=pa_sp_btf_aps_sr_pg1_1?ie=UTF8&adId=A00298484V2J4OMS771I&url=%2FDaikin-Inverter-Split-Copper-JTKJ50TV%2Fdp%2FB07HFFRC3V%2Fref%3Dsr_1_21_sspa%3Fcrid%3D3HI4YQZMX3EQD%26keywords%3Dwindow%2Ba.c%26qid%3D1659785430%26sprefix%3Dwindow%2Ba.c%252Caps%252C530%26sr%3D8-21-spons%26psc%3D1&qualifier=1659785430&id=1951265962231133&widgetName=sp_btf#customerReviews',\n",
       " 'https://www.amazon.in/gp/slredirect/picassoRedirect.html/ref=pa_sp_btf_aps_sr_pg1_1?ie=UTF8&adId=A00298484V2J4OMS771I&url=%2FDaikin-Inverter-Split-Copper-JTKJ50TV%2Fdp%2FB07HFFRC3V%2Fref%3Dsr_1_21_sspa%3Fcrid%3D3HI4YQZMX3EQD%26keywords%3Dwindow%2Ba.c%26qid%3D1659785430%26sprefix%3Dwindow%2Ba.c%252Caps%252C530%26sr%3D8-21-spons%26psc%3D1&qualifier=1659785430&id=1951265962231133&widgetName=sp_btf',\n",
       " 'https://www.amazon.in/s?k=window+a.c&page=2&crid=3HI4YQZMX3EQD&qid=1659785430&sprefix=window+a.c%2Caps%2C530&ref=sr_pg_2',\n",
       " 'https://www.amazon.in/s?k=window+a.c&page=3&crid=3HI4YQZMX3EQD&qid=1659785430&sprefix=window+a.c%2Caps%2C530&ref=sr_pg_3',\n",
       " 'https://www.amazon.in/s?k=window+a.c&page=2&crid=3HI4YQZMX3EQD&qid=1659785430&sprefix=window+a.c%2Caps%2C530&ref=sr_pg_1',\n",
       " 'https://www.amazon.in/gp/help/customer/display.html?nodeId=200533820',\n",
       " 'https://www.amazon.in/gp/help/customer/contact-us',\n",
       " 'https://www.amazon.in/s?k=window+a.c&crid=3HI4YQZMX3EQD&sprefix=window+a.c%2Caps%2C530&ref=nb_sb_noss_1#',\n",
       " 'https://www.amazon.in/s?k=window+a.c&crid=3HI4YQZMX3EQD&sprefix=window+a.c%2Caps%2C530&ref=nb_sb_noss_1#s-skipLinkTargetForFilterOptions',\n",
       " 'https://www.amazon.in/s?k=window+a.c&crid=3HI4YQZMX3EQD&sprefix=window+a.c%2Caps%2C530&ref=nb_sb_noss_1#s-skipLinkTargetForMainSearchResults',\n",
       " 'https://www.amazon.in/s?k=window+a.c&rh=n%3A1380263031&dc&crid=3HI4YQZMX3EQD&qid=1659785430&rnid=3576079031&sprefix=window+a.c%2Caps%2C530&ref=sr_nr_n_1&ds=v1%3AFYGbrBoYX9B79ukyL%2F9KS28loj%2BLqIt3YqrS35g%2F2Ws',\n",
       " 'https://www.amazon.in/s?k=window+a.c&rh=n%3A1380263031%2Cn%3A3474656031&dc&crid=3HI4YQZMX3EQD&qid=1659785430&rnid=3576079031&sprefix=window+a.c%2Caps%2C530&ref=sr_nr_n_2&ds=v1%3AjChBJYPrpImvHYoW96U7vf%2BRkFeD0QBVf%2FXUoJNoSkc',\n",
       " 'https://www.amazon.in/s?k=window+a.c&i=kitchen&dc&crid=3HI4YQZMX3EQD&qid=1659785430&sprefix=window+a.c%2Caps%2C530&ref=sr_nr_i_3&ds=v1%3ActoJuMJaIr7AQ9H4LhhEGbJMRdEKocHvuqCXRPnEhOw',\n",
       " 'https://www.amazon.in/s?k=window+a.c&i=appliances&dc&crid=3HI4YQZMX3EQD&qid=1659785430&sprefix=window+a.c%2Caps%2C530&ref=sr_nr_i_4&ds=v1%3Av92W1B269rohZ7m5xr5GekZU8fAO%2FRh3s2FUngww1Ns',\n",
       " 'https://www.amazon.in/s?k=window+a.c&i=automotive&dc&crid=3HI4YQZMX3EQD&qid=1659785430&sprefix=window+a.c%2Caps%2C530&ref=sr_nr_i_5&ds=v1%3AVQXig9nZdMkxTUTDwnnNimjyokCvvnywsFKucwCkq6Q',\n",
       " 'https://www.amazon.in/s?k=window+a.c&i=home-improvement&dc&crid=3HI4YQZMX3EQD&qid=1659785430&sprefix=window+a.c%2Caps%2C530&ref=sr_nr_i_6&ds=v1%3AUhLEvUWtTdZlcup3NR%2BiZxqs%2FGXug56vU9mMTn9gwrg',\n",
       " 'https://www.amazon.in/s?k=window+a.c&i=hpc&dc&crid=3HI4YQZMX3EQD&qid=1659785430&sprefix=window+a.c%2Caps%2C530&ref=sr_nr_i_7&ds=v1%3AU%2BzMIa3huEOVJzjLUn0vj5y5ntdHwRYR8nSqETlQ%2BIM',\n",
       " 'https://www.amazon.in/s?k=window+a.c&i=computers&dc&crid=3HI4YQZMX3EQD&qid=1659785430&sprefix=window+a.c%2Caps%2C530&ref=sr_nr_i_8&ds=v1%3AGJgXluO6VSQWPrzzZ0GKlZvcbcBBzy1%2Bml1E7vChhRg',\n",
       " 'https://www.amazon.in/s?k=window+a.c&i=electronics&dc&crid=3HI4YQZMX3EQD&qid=1659785430&sprefix=window+a.c%2Caps%2C530&ref=sr_nr_i_9&ds=v1%3AwOpD2GoUpmFARGOGT5WqXZjYsR3l%2F7OqcDSdMBDyZmM',\n",
       " 'javascript:void(0)',\n",
       " 'https://www.amazon.in/s?k=window+a.c&rh=p_72%3A1318476031&dc&crid=3HI4YQZMX3EQD&qid=1659785430&rnid=1318475031&sprefix=window+a.c%2Caps%2C530&ref=sr_nr_p_72_1&ds=v1%3AWCnHMBEi1RTbbvAxp2QzQVPCg%2BbOzwwIsgkC3pTTfA4',\n",
       " 'https://www.amazon.in/s?k=window+a.c&rh=p_72%3A1318477031&dc&crid=3HI4YQZMX3EQD&qid=1659785430&rnid=1318475031&sprefix=window+a.c%2Caps%2C530&ref=sr_nr_p_72_2&ds=v1%3AEEyJTN865nsPxSP3nm8ogNoqOZyf1CB%2BCG3fWRiq7HE',\n",
       " 'https://www.amazon.in/s?k=window+a.c&rh=p_72%3A1318478031&dc&crid=3HI4YQZMX3EQD&qid=1659785430&rnid=1318475031&sprefix=window+a.c%2Caps%2C530&ref=sr_nr_p_72_3&ds=v1%3Ah1iTaLxseozZ6BP9Arhr%2Bv1MVJ8jvh4ocFNVeJiPiu4',\n",
       " 'https://www.amazon.in/s?k=window+a.c&rh=p_72%3A1318479031&dc&crid=3HI4YQZMX3EQD&qid=1659785430&rnid=1318475031&sprefix=window+a.c%2Caps%2C530&ref=sr_nr_p_72_4&ds=v1%3A7f%2Fvi1FahQD5fSn8gunVeVbmCRHTtOc0eOBhkBUNA74',\n",
       " 'https://www.amazon.in/s?k=window+a.c&rh=n%3A3474656031%2Cp_89%3AVoltas&dc&crid=3HI4YQZMX3EQD&qid=1659785430&rnid=3837712031&sprefix=window+a.c%2Caps%2C530&ref=sr_nr_p_89_1&ds=v1%3AWZZr2J5sVFNX2bsSZ2OOa4AmZ0xkKX9MdV9wE%2FPSN%2Bs',\n",
       " 'https://www.amazon.in/s?k=window+a.c&rh=n%3A3474656031%2Cp_89%3ASamsung&dc&crid=3HI4YQZMX3EQD&qid=1659785430&rnid=3837712031&sprefix=window+a.c%2Caps%2C530&ref=sr_nr_p_89_2&ds=v1%3Aa%2FPdChgZtFxvRD1W1bpQGZLXvr%2BBUepCMZHLNQYv62k',\n",
       " 'https://www.amazon.in/s?k=window+a.c&rh=n%3A3474656031%2Cp_89%3ABlue+Star&dc&crid=3HI4YQZMX3EQD&qid=1659785430&rnid=3837712031&sprefix=window+a.c%2Caps%2C530&ref=sr_nr_p_89_3&ds=v1%3AH7mjl7eOIMKgCNl3PqUJTPn%2B4VVsOVkSmrZvl%2FiX5MM',\n",
       " 'https://www.amazon.in/s?k=window+a.c&rh=n%3A3474656031%2Cp_89%3ALG&dc&crid=3HI4YQZMX3EQD&qid=1659785430&rnid=3837712031&sprefix=window+a.c%2Caps%2C530&ref=sr_nr_p_89_4&ds=v1%3AJSVVwhVuOLyOmhaBkkZjtrZu3SeqWuwrfes0CTVbNHM',\n",
       " 'https://www.amazon.in/s?k=window+a.c&rh=n%3A3474656031%2Cp_89%3AGeneric&dc&crid=3HI4YQZMX3EQD&qid=1659785430&rnid=3837712031&sprefix=window+a.c%2Caps%2C530&ref=sr_nr_p_89_5&ds=v1%3AfgItsjdtKEc8neZZqxgMG%2BJybG5ftB2MtgH1epT5XWM',\n",
       " 'https://www.amazon.in/s?k=window+a.c&rh=n%3A3474656031%2Cp_89%3ACarrier&dc&crid=3HI4YQZMX3EQD&qid=1659785430&rnid=3837712031&sprefix=window+a.c%2Caps%2C530&ref=sr_nr_p_89_6&ds=v1%3ApQy61wWHEnNrsUkREXvVU20WnZe2abl9BCXQEmmq4H8',\n",
       " 'https://www.amazon.in/s?k=window+a.c&rh=p_n_is_cod_eligible%3A4931671031&dc&crid=3HI4YQZMX3EQD&qid=1659785430&rnid=4931670031&sprefix=window+a.c%2Caps%2C530&ref=sr_nr_p_n_is_cod_eligible_1&ds=v1%3A%2FrfRIVeG7PYLIvqLqHM1lhF%2Bh%2B9YmpPF3RBlACeLdio',\n",
       " 'https://www.amazon.in/s?k=window+a.c&rh=n%3A3474656031%2Cp_n_format_browse-bin%3A13462099031&dc&crid=3HI4YQZMX3EQD&qid=1659785430&rnid=13462098031&sprefix=window+a.c%2Caps%2C530&ref=sr_nr_p_n_format_browse-bin_1&ds=v1%3AIEd%2B%2FG0s4ABuc7QwJ8pzGS9UjIIk7xRzOGzwGZn%2FJww',\n",
       " 'https://www.amazon.in/s?k=window+a.c&rh=n%3A3474656031%2Cp_n_feature_thirteen_browse-bin%3A2753050031&dc&crid=3HI4YQZMX3EQD&qid=1659785430&rnid=2753046031&sprefix=window+a.c%2Caps%2C530&ref=sr_nr_p_n_feature_thirteen_browse-bin_1&ds=v1%3A3xUQ9hcgC%2FfS6yC5obuA22lY5val%2BLuU4CyQhjFdcqM',\n",
       " 'https://www.amazon.in/s?k=window+a.c&rh=n%3A3474656031%2Cp_n_feature_thirteen_browse-bin%3A2753048031&dc&crid=3HI4YQZMX3EQD&qid=1659785430&rnid=2753046031&sprefix=window+a.c%2Caps%2C530&ref=sr_nr_p_n_feature_thirteen_browse-bin_2&ds=v1%3AfK953%2FuVx5fCSaFX7VtO14FDMF3kX0R7BaubmSjczzU',\n",
       " 'https://www.amazon.in/s?k=window+a.c&rh=n%3A3474656031%2Cp_n_feature_thirteen_browse-bin%3A2753047031&dc&crid=3HI4YQZMX3EQD&qid=1659785430&rnid=2753046031&sprefix=window+a.c%2Caps%2C530&ref=sr_nr_p_n_feature_thirteen_browse-bin_3&ds=v1%3Ai0PCJytTl0kUhzGOAGLwf9jGVnd20RdbLTp44OmXY4c',\n",
       " 'https://www.amazon.in/s?k=window+a.c&rh=n%3A3474656031%2Cp_n_feature_four_browse-bin%3A13678226031&dc&crid=3HI4YQZMX3EQD&qid=1659785430&rnid=13678225031&sprefix=window+a.c%2Caps%2C530&ref=sr_nr_p_n_feature_four_browse-bin_1&ds=v1%3AM61xvlG8UmHOzXnDzOic1JTurKNXiQ2TqZTtI8aVdDI',\n",
       " 'https://www.amazon.in/s?k=window+a.c&rh=n%3A3474656031%2Cp_n_feature_four_browse-bin%3A13678227031&dc&crid=3HI4YQZMX3EQD&qid=1659785430&rnid=13678225031&sprefix=window+a.c%2Caps%2C530&ref=sr_nr_p_n_feature_four_browse-bin_2&ds=v1%3An4kQnYvwnit21bp1lnYGU%2BDhHLS2erKzHHWwDQKo1QI',\n",
       " 'https://www.amazon.in/s?k=window+a.c&rh=n%3A3474656031%2Cp_n_feature_four_browse-bin%3A13678228031&dc&crid=3HI4YQZMX3EQD&qid=1659785430&rnid=13678225031&sprefix=window+a.c%2Caps%2C530&ref=sr_nr_p_n_feature_four_browse-bin_3&ds=v1%3ARjGWJe%2B4DdDCsevNoba%2BlM9BhkyraUfZ%2BFRbbw8kjv4',\n",
       " 'https://www.amazon.in/s?k=window+a.c&rh=n%3A3474656031%2Cp_n_feature_six_browse-bin%3A28237228031&dc&crid=3HI4YQZMX3EQD&qid=1659785430&rnid=28237207031&sprefix=window+a.c%2Caps%2C530&ref=sr_nr_p_n_feature_six_browse-bin_1&ds=v1%3Atk9YgzAXE%2BhUHOzMm7z6ZeGEqidsc3IuJve1sA9avxk',\n",
       " 'https://www.amazon.in/s?k=window+a.c&rh=n%3A3474656031%2Cp_n_feature_six_browse-bin%3A28237221031&dc&crid=3HI4YQZMX3EQD&qid=1659785430&rnid=28237207031&sprefix=window+a.c%2Caps%2C530&ref=sr_nr_p_n_feature_six_browse-bin_2&ds=v1%3AfMdiVw%2F61KeM9%2B9X80c6FYDs02tqvr9DNA8N02NlqAw',\n",
       " 'https://www.amazon.in/s?k=window+a.c&rh=n%3A3474656031%2Cp_n_feature_six_browse-bin%3A28237217031&dc&crid=3HI4YQZMX3EQD&qid=1659785430&rnid=28237207031&sprefix=window+a.c%2Caps%2C530&ref=sr_nr_p_n_feature_six_browse-bin_3&ds=v1%3At5%2FrBm6C0nk97Z9QDbzgtvfYpqBuYyKOlsHtWQyKcWE',\n",
       " 'https://www.amazon.in/s?k=window+a.c&rh=n%3A3474656031%2Cp_n_feature_six_browse-bin%3A28237229031&dc&crid=3HI4YQZMX3EQD&qid=1659785430&rnid=28237207031&sprefix=window+a.c%2Caps%2C530&ref=sr_nr_p_n_feature_six_browse-bin_4&ds=v1%3AEtKUt4OCAJXH7%2B2KnzeSxOIY6QA4rpEzVlPIG7cSVU4',\n",
       " 'https://www.amazon.in/s?k=window+a.c&rh=n%3A3474656031%2Cp_n_feature_six_browse-bin%3A28237225031&dc&crid=3HI4YQZMX3EQD&qid=1659785430&rnid=28237207031&sprefix=window+a.c%2Caps%2C530&ref=sr_nr_p_n_feature_six_browse-bin_5&ds=v1%3AMHGHa%2BVQYqpy0BYsM5X4SB%2BYpoikMf%2BrqesIzAWQWWI',\n",
       " 'https://www.amazon.in/s?k=window+a.c&rh=n%3A3474656031%2Cp_n_feature_six_browse-bin%3A28237222031&dc&crid=3HI4YQZMX3EQD&qid=1659785430&rnid=28237207031&sprefix=window+a.c%2Caps%2C530&ref=sr_nr_p_n_feature_six_browse-bin_6&ds=v1%3A6iKE5b7jEOId7LfOHJGL5%2BH4%2BVriZi57y3W4f4ZhulY',\n",
       " 'https://www.amazon.in/s?k=window+a.c&rh=n%3A3474656031%2Cp_n_feature_six_browse-bin%3A28237218031&dc&crid=3HI4YQZMX3EQD&qid=1659785430&rnid=28237207031&sprefix=window+a.c%2Caps%2C530&ref=sr_nr_p_n_feature_six_browse-bin_7&ds=v1%3AqOBN25cx6F%2FX8WprTan5AEJ9PIOkgGN0z3BZ8OMXt2E',\n",
       " 'https://www.amazon.in/s?k=window+a.c&rh=n%3A3474656031%2Cp_n_feature_eleven_browse-bin%3A2753097031&dc&crid=3HI4YQZMX3EQD&qid=1659785430&rnid=2753095031&sprefix=window+a.c%2Caps%2C530&ref=sr_nr_p_n_feature_eleven_browse-bin_1&ds=v1%3AFHRFYwBzf1cqFU3CpBaxncki%2FFCkrbCiq1ROlMHQzr0',\n",
       " 'https://www.amazon.in/s?k=window+a.c&rh=n%3A3474656031%2Cp_n_feature_eleven_browse-bin%3A2753098031&dc&crid=3HI4YQZMX3EQD&qid=1659785430&rnid=2753095031&sprefix=window+a.c%2Caps%2C530&ref=sr_nr_p_n_feature_eleven_browse-bin_2&ds=v1%3ASGOiV7XnQI5Mg99gwU3VGsxqkDw0rV6oQTRLDfPul70',\n",
       " 'https://www.amazon.in/s?k=window+a.c&rh=n%3A3474656031%2Cp_n_feature_eleven_browse-bin%3A2753100031&dc&crid=3HI4YQZMX3EQD&qid=1659785430&rnid=2753095031&sprefix=window+a.c%2Caps%2C530&ref=sr_nr_p_n_feature_eleven_browse-bin_3&ds=v1%3A1OjjdVQ0PCMAwLxkEPWZmega74CQ4DJjO7HzHHnWqF8',\n",
       " 'https://www.amazon.in/s?k=window+a.c&rh=n%3A3474656031%2Cp_n_feature_two_browse-bin%3A12440953031&dc&crid=3HI4YQZMX3EQD&qid=1659785430&rnid=12440951031&sprefix=window+a.c%2Caps%2C530&ref=sr_nr_p_n_feature_two_browse-bin_1&ds=v1%3AW6q4X8gigmD2LNrX9lxkqymso1tj2DyYhITkp8ylDrM',\n",
       " 'https://www.amazon.in/s?k=window+a.c&rh=n%3A3474656031%2Cp_n_feature_three_browse-bin%3A16279412031&dc&crid=3HI4YQZMX3EQD&qid=1659785430&rnid=16279411031&sprefix=window+a.c%2Caps%2C530&ref=sr_nr_p_n_feature_three_browse-bin_1&ds=v1%3A3%2Bue81iqCVfZxRg4zmsafksN0tIt8C3cMHGIXkBY9L8',\n",
       " 'https://www.amazon.in/s?k=window+a.c&rh=n%3A3474656031%2Cp_n_feature_three_browse-bin%3A16279415031&dc&crid=3HI4YQZMX3EQD&qid=1659785430&rnid=16279411031&sprefix=window+a.c%2Caps%2C530&ref=sr_nr_p_n_feature_three_browse-bin_2&ds=v1%3A9Mi3wEMCaDkB8fS6b8sWnYF9UjGtPi55ZvgqfDU9%2BAE',\n",
       " 'https://www.amazon.in/s?k=window+a.c&rh=n%3A3474656031%2Cp_n_feature_three_browse-bin%3A16279413031&dc&crid=3HI4YQZMX3EQD&qid=1659785430&rnid=16279411031&sprefix=window+a.c%2Caps%2C530&ref=sr_nr_p_n_feature_three_browse-bin_3&ds=v1%3A9gYmubiBzBHQ9PSPlq9KpsGbTiC7r40%2FzLz%2BQXaWnW4',\n",
       " 'https://www.amazon.in/s?k=window+a.c&rh=n%3A3474656031%2Cp_n_size_two_browse-vebin%3A1480416031&dc&crid=3HI4YQZMX3EQD&qid=1659785430&rnid=1480399031&sprefix=window+a.c%2Caps%2C530&ref=sr_nr_p_n_size_two_browse-vebin_1&ds=v1%3AiJgqbXGDYQKCxGTVtMyB7d9JRRjIqdzCWS95tNtsaBc',\n",
       " 'https://www.amazon.in/s?k=window+a.c&rh=n%3A3474656031%2Cp_n_size_two_browse-vebin%3A1480403031&dc&crid=3HI4YQZMX3EQD&qid=1659785430&rnid=1480399031&sprefix=window+a.c%2Caps%2C530&ref=sr_nr_p_n_size_two_browse-vebin_2&ds=v1%3AqcwqG1XuxqzP3iaPJmKpJYgaxPsdRruTzbRcWzlov%2BE',\n",
       " 'https://www.amazon.in/s?k=window+a.c&rh=n%3A3474656031%2Cp_n_size_two_browse-vebin%3A1480411031&dc&crid=3HI4YQZMX3EQD&qid=1659785430&rnid=1480399031&sprefix=window+a.c%2Caps%2C530&ref=sr_nr_p_n_size_two_browse-vebin_3&ds=v1%3AwzWJRhRWLTW78QThYcVTRU76IUeuW4sSvO3hSLZdYLo',\n",
       " 'https://www.amazon.in/s?k=window+a.c&rh=n%3A3474656031%2Cp_n_size_two_browse-vebin%3A1480405031&dc&crid=3HI4YQZMX3EQD&qid=1659785430&rnid=1480399031&sprefix=window+a.c%2Caps%2C530&ref=sr_nr_p_n_size_two_browse-vebin_4&ds=v1%3ALSYIkfGxQWWq3TvPGRisRRsFhty%2BKj0Ev9Yx1yxuHB4',\n",
       " 'https://www.amazon.in/s?k=window+a.c&rh=n%3A3474656031%2Cp_n_feature_five_browse-bin%3A28237212031&dc&crid=3HI4YQZMX3EQD&qid=1659785430&rnid=28237206031&sprefix=window+a.c%2Caps%2C530&ref=sr_nr_p_n_feature_five_browse-bin_1&ds=v1%3AzmIt88CxuZ5O%2Fj8bQ1qWEW0EAxIPENVe8kiTuUVPQ3g',\n",
       " 'https://www.amazon.in/s?k=window+a.c&rh=n%3A3474656031%2Cp_n_feature_five_browse-bin%3A28237215031&dc&crid=3HI4YQZMX3EQD&qid=1659785430&rnid=28237206031&sprefix=window+a.c%2Caps%2C530&ref=sr_nr_p_n_feature_five_browse-bin_2&ds=v1%3AN7SNbywpjltimnomB76SKTHrwE5Bb3NYe%2BqCVPE6mbM',\n",
       " 'https://www.amazon.in/s?k=window+a.c&rh=n%3A3474656031%2Cp_n_feature_five_browse-bin%3A28237214031&dc&crid=3HI4YQZMX3EQD&qid=1659785430&rnid=28237206031&sprefix=window+a.c%2Caps%2C530&ref=sr_nr_p_n_feature_five_browse-bin_3&ds=v1%3ARw8dSEiG0QvKvXUnzabDNkPqHq%2B0%2Bxq7uIZyDW362qI',\n",
       " 'https://www.amazon.in/s?k=window+a.c&rh=n%3A976442031%2Cp_n_condition-type%3A8609960031&dc&crid=3HI4YQZMX3EQD&qid=1659785430&rnid=8609959031&sprefix=window+a.c%2Caps%2C530&ref=sr_nr_p_n_condition-type_1&ds=v1%3AZ76I%2BUwvuOjP9T5tQ8yy9Q8J6A4drEO22zptQ1cuQ%2FE',\n",
       " 'https://www.amazon.in/s?k=window+a.c&rh=n%3A976442031%2Cp_n_pct-off-with-tax%3A2665399031&dc&crid=3HI4YQZMX3EQD&qid=1659785430&rnid=2665398031&sprefix=window+a.c%2Caps%2C530&ref=sr_nr_p_n_pct-off-with-tax_1&ds=v1%3AMRImUdnJZSHqRSjxuoZJ4p8IkUr6a%2BeajksZxobwm0g',\n",
       " 'https://www.amazon.in/s?k=window+a.c&rh=n%3A976442031%2Cp_n_pct-off-with-tax%3A2665400031&dc&crid=3HI4YQZMX3EQD&qid=1659785430&rnid=2665398031&sprefix=window+a.c%2Caps%2C530&ref=sr_nr_p_n_pct-off-with-tax_2&ds=v1%3A74pMEzC9D%2FIWTNix9beP8tIWvHJr8NmD4vHa1x%2BTgBE',\n",
       " 'https://www.amazon.in/s?k=window+a.c&rh=n%3A976442031%2Cp_n_pct-off-with-tax%3A2665402031&dc&crid=3HI4YQZMX3EQD&qid=1659785430&rnid=2665398031&sprefix=window+a.c%2Caps%2C530&ref=sr_nr_p_n_pct-off-with-tax_3&ds=v1%3Av5VxGtBflg4XguwV6bfwRkUvSjEWY0JGbvuAQyzfFf8',\n",
       " 'https://www.amazon.in/s?k=window+a.c&rh=n%3A976442031%2Cp_n_pct-off-with-tax%3A2665401031&dc&crid=3HI4YQZMX3EQD&qid=1659785430&rnid=2665398031&sprefix=window+a.c%2Caps%2C530&ref=sr_nr_p_n_pct-off-with-tax_4&ds=v1%3AoWMwx04w9Lygf%2BYtQbJzcPxfJSfhtaRJpKt99so3sSA',\n",
       " 'https://www.amazon.in/s?k=window+a.c&rh=n%3A976442031%2Cp_n_pct-off-with-tax%3A27060456031&dc&crid=3HI4YQZMX3EQD&qid=1659785430&rnid=2665398031&sprefix=window+a.c%2Caps%2C530&ref=sr_nr_p_n_pct-off-with-tax_5&ds=v1%3AvmOTifbGv%2BtNZ8ePqJjaLf12ccsHTJRnmrpCGPZg06c',\n",
       " 'https://www.amazon.in/s?k=window+a.c&rh=n%3A976442031%2Cp_n_pct-off-with-tax%3A27060457031&dc&crid=3HI4YQZMX3EQD&qid=1659785430&rnid=2665398031&sprefix=window+a.c%2Caps%2C530&ref=sr_nr_p_n_pct-off-with-tax_6&ds=v1%3APVZ36WnxKQ5zpeoUyFp2wlHUJcVr6FNoENyNf8ZZQ4Y',\n",
       " 'https://www.amazon.in/s?k=window+a.c&rh=p_n_availability%3A1318485031&dc&crid=3HI4YQZMX3EQD&qid=1659785430&rnid=1318483031&sprefix=window+a.c%2Caps%2C530&ref=sr_nr_p_n_availability_2&ds=v1%3AuU3L22fr6P6%2Fayd49qXp20FJgFS4454nMumuH1B0n3s',\n",
       " 'https://www.amazon.in/s?k=window+a.c&crid=3HI4YQZMX3EQD&sprefix=window+a.c%2Caps%2C530&ref=nb_sb_noss_1#',\n",
       " 'https://www.amazon.in/gp/history',\n",
       " 'https://www.amazon.in/s?k=window+a.c&crid=3HI4YQZMX3EQD&sprefix=window+a.c%2Caps%2C530&ref=nb_sb_noss_1#nav-top',\n",
       " 'https://www.aboutamazon.in/?utm_source=gateway&utm_medium=footer',\n",
       " 'https://amazon.jobs/',\n",
       " 'https://press.aboutamazon.in/?utm_source=gateway&utm_medium=footer',\n",
       " 'https://www.amazon.in/gp/browse.html?node=8872558031&ref_=footer_cares',\n",
       " 'https://www.amazon.in/gp/browse.html?node=4594605031&ref_=footer_smile',\n",
       " 'https://www.amazon.science/',\n",
       " 'https://www.amazon.in/gp/redirect.html/ref=footer_fb?location=http://www.facebook.com/AmazonIN&token=2075D5EAC7BB214089728E2183FD391706D41E94&6',\n",
       " 'https://www.amazon.in/gp/redirect.html/ref=footer_twitter?location=http://twitter.com/AmazonIN&token=A309DFBFCB1E37A808FF531934855DC817F130B6&6',\n",
       " 'https://www.amazon.in/gp/redirect.html?location=https://www.instagram.com/amazondotin&token=264882C912E9D005CB1D9B61F12E125D5DF9BFC7&source=standards',\n",
       " 'https://www.amazon.in/b/?node=2838698031&ld=AZINSOANavDesktopFooter&ref_=nav_footer_sell',\n",
       " 'https://accelerator.amazon.in/?ref_=map_1_b2b_GW_FT',\n",
       " 'https://sell.amazon.in/grow-your-business/amazon-global-selling.html?ld=AZIN_Footer_V1&ref=AZIN_Footer_V1',\n",
       " 'https://affiliate-program.amazon.in/?utm_campaign=assocshowcase&utm_medium=footer&utm_source=GW&ref_=footer_assoc',\n",
       " 'https://services.amazon.in/services/fulfilment-by-amazon/benefits.html/ref=az_footer_fba?ld=AWRGINFBAfooter',\n",
       " 'https://advertising.amazon.in/?ref=Amz.in',\n",
       " 'https://www.amazonpay.in/merchant',\n",
       " 'https://www.amazon.in/gp/help/customer/display.html?nodeId=GDFU3JS5AL6SYHRD&ref_=footer_covid',\n",
       " 'https://www.amazon.in/gp/css/homepage.html?ref_=footer_ya',\n",
       " 'https://www.amazon.in/gp/css/returns/homepage.html?ref_=footer_hy_f_4',\n",
       " 'https://www.amazon.in/gp/help/customer/display.html?nodeId=201083470&ref_=footer_swc',\n",
       " 'https://www.amazon.in/gp/browse.html?node=6967393031&ref_=footer_mobapp',\n",
       " 'https://www.amazon.in/gp/BIT/theamazonapp/ref=footer_assistant_download_copy',\n",
       " 'https://www.amazon.in/gp/help/customer/display.html?nodeId=200507590&ref_=footer_gw_m_b_he',\n",
       " 'https://www.amazon.in/ref=footer_logo',\n",
       " 'https://www.amazon.in/customer-preferences/edit?ie=UTF8&preferencesReturnUrl=%2Fs%3Fk%3Dwindow%2Ba.c%26crid%3D3HI4YQZMX3EQD%26sprefix%3Dwindow%2Ba.c%252Caps%252C530%26ref%3Dnb_sb_noss_1&ref_=footer_lang',\n",
       " 'https://www.amazon.com.au/ref=footer_au',\n",
       " 'https://www.amazon.com.br/ref=footer_br',\n",
       " 'https://www.amazon.ca/ref=footer_ca',\n",
       " 'https://www.amazon.cn/ref=footer_cn',\n",
       " 'https://www.amazon.fr/ref=footer_fr',\n",
       " 'https://www.amazon.de/ref=footer_de',\n",
       " 'https://www.amazon.it/ref=footer_it',\n",
       " 'https://www.amazon.co.jp/ref=footer_jp',\n",
       " 'https://www.amazon.com.mx/ref=footer_mx',\n",
       " 'https://www.amazon.nl/ref=footer_nl',\n",
       " 'https://www.amazon.pl/ref=footer_pl',\n",
       " 'https://www.amazon.sg/ref=footer_sg',\n",
       " 'https://www.amazon.es/ref=footer_es',\n",
       " 'https://www.amazon.com.tr/ref=footer_tr',\n",
       " 'https://www.amazon.ae/ref=footer_ae',\n",
       " 'https://www.amazon.co.uk/ref=footer_uk',\n",
       " 'https://www.amazon.com/ref=footer_us',\n",
       " 'https://www.abebooks.com/',\n",
       " 'https://aws.amazon.com/what-is-cloud-computing/?sc_channel=EL&sc_campaign=IN_amazonfooter',\n",
       " 'https://www.audible.in/',\n",
       " 'https://www.dpreview.com/',\n",
       " 'https://www.imdb.com/',\n",
       " 'https://www.shopbop.com/',\n",
       " 'https://www.amazon.in/business?ref=footer_aingw',\n",
       " 'https://www.amazon.in/now?ref=footer_amznow',\n",
       " 'https://www.amazon.in/music/prime?ref=footer_apm',\n",
       " 'https://www.amazon.in/gp/help/customer/display.html?nodeId=200545940&ref_=footer_cou',\n",
       " 'https://www.amazon.in/gp/help/customer/display.html?nodeId=200534380&ref_=footer_privacy',\n",
       " 'https://www.amazon.in/gp/help/customer/display.html?nodeId=202075050&ref_=footer_iba',\n",
       " 'https://www.amazon.in/ref=nav_logo',\n",
       " 'https://www.amazon.in/customer-preferences/edit?ie=UTF8&preferencesReturnUrl=%2Fs%3Fk%3Dwindow%2Ba.c%26crid%3D3HI4YQZMX3EQD%26sprefix%3Dwindow%2Ba.c%252Caps%252C530%26ref%3Dnb_sb_noss_1&ref_=topnav_lang',\n",
       " 'https://www.amazon.in/ap/signin?openid.pape.max_auth_age=0&openid.return_to=https%3A%2F%2Fwww.amazon.in%2Fs%3Fk%3Dwindow%2Ba.c%26crid%3D3HI4YQZMX3EQD%26sprefix%3Dwindow%2Ba.c%252Caps%252C530%26ref%3Dnav_ya_signin&openid.identity=http%3A%2F%2Fspecs.openid.net%2Fauth%2F2.0%2Fidentifier_select&openid.assoc_handle=inflex&openid.mode=checkid_setup&openid.claimed_id=http%3A%2F%2Fspecs.openid.net%2Fauth%2F2.0%2Fidentifier_select&openid.ns=http%3A%2F%2Fspecs.openid.net%2Fauth%2F2.0&',\n",
       " 'https://www.amazon.in/gp/css/order-history?ref_=nav_orders_first',\n",
       " 'https://www.amazon.in/gp/cart/view.html?ref_=nav_cart',\n",
       " 'https://www.amazon.in/ap/signin?openid.pape.max_auth_age=0&openid.return_to=https%3A%2F%2Fwww.amazon.in%2Fs%3Fk%3Dwindow%2Ba.c%26crid%3D3HI4YQZMX3EQD%26sprefix%3Dwindow%2Ba.c%252Caps%252C530%26ref%3Dnav_signin&openid.identity=http%3A%2F%2Fspecs.openid.net%2Fauth%2F2.0%2Fidentifier_select&openid.assoc_handle=inflex&openid.mode=checkid_setup&openid.claimed_id=http%3A%2F%2Fspecs.openid.net%2Fauth%2F2.0%2Fidentifier_select&openid.ns=http%3A%2F%2Fspecs.openid.net%2Fauth%2F2.0&',\n",
       " 'https://www.amazon.in/ap/register?openid.pape.max_auth_age=0&openid.return_to=https%3A%2F%2Fwww.amazon.in%2Fs%2Fref%3Dnb_sb_noss_1%2F%3F_encoding%3DUTF8%26crid%3D3HI4YQZMX3EQD%26field-keywords%3Dwindow%2520a.c%26sprefix%3Dwindow%2520a.c%252Caps%252C530%26url%3Dsearch-alias%253Daps%26ref_%3Dnav_newcust&openid.identity=http%3A%2F%2Fspecs.openid.net%2Fauth%2F2.0%2Fidentifier_select&openid.assoc_handle=inflex&openid.mode=checkid_setup&openid.claimed_id=http%3A%2F%2Fspecs.openid.net%2Fauth%2F2.0%2Fidentifier_select&openid.ns=http%3A%2F%2Fspecs.openid.net%2Fauth%2F2.0&',\n",
       " 'https://www.amazon.in/hz/wishlist/ls?triggerElementID=createList&ref_=nav_ListFlyout_navFlyout_createList_lv_redirect',\n",
       " 'https://www.amazon.in/wishlist/universal?ref_=nav_ListFlyout_gno_listpop_uwl',\n",
       " 'https://www.amazon.in/baby-reg/homepage?ref_=nav_ListFlyout_gno_listpop_br',\n",
       " 'https://www.amazon.in/discover/?ref_=nav_ListFlyout_sbl',\n",
       " 'https://www.amazon.in/showroom?ref_=nav_ListFlyout_srm_your_desk_wl_in',\n",
       " 'https://www.amazon.in/gp/css/homepage.html?ref_=nav_AccountFlyout_ya',\n",
       " 'https://www.amazon.in/gp/css/order-history?ref_=nav_AccountFlyout_orders',\n",
       " 'https://www.amazon.in/hz/wishlist/ls?requiresSignIn=1&ref_=nav_AccountFlyout_wl',\n",
       " 'https://www.amazon.in/gp/yourstore?ref_=nav_AccountFlyout_recs',\n",
       " 'https://www.amazon.in/gp/primecentral?ref_=nav_AccountFlyout_prime',\n",
       " 'https://www.amazon.in/gp/redirect.html?location=https%3A%2F%2Fwww.primevideo.com%2F%3Fref_%3D_apv&source=nav_linktree&token=13D4F90D28CD96790B94E6091246BB1B2AE9FA05',\n",
       " 'https://www.amazon.in/auto-deliveries?ref_=nav_AccountFlyout_sns',\n",
       " 'https://www.amazon.in/hz5/yourmembershipsandsubscriptions?ref_=nav_AccountFlyout_digital_subscriptions',\n",
       " 'https://www.amazon.in/gp/browse.html?node=21102587031&ref_=nav_ya_flyout_b2b_reg',\n",
       " 'https://www.amazon.in/b/?node=2838698031&ld=AZINSOAYAFlyout&ref_=nav_AccountFlyout_sell',\n",
       " 'https://www.amazon.in/hz/mycd/myx?ref_=nav_AccountFlyout_myk',\n",
       " 'javascript: void(0)',\n",
       " 'https://www.amazon.in/gp/bestsellers/?ref_=nav_cs_bestsellers',\n",
       " 'https://www.amazon.in/mobile-phones/b/?ie=UTF8&node=1389401031&ref_=nav_cs_mobiles',\n",
       " 'https://www.amazon.in/deals?ref_=nav_cs_gb',\n",
       " 'https://www.amazon.in/gp/help/customer/display.html?nodeId=200507590&ref_=nav_cs_help',\n",
       " 'https://www.amazon.in/Books/b/?ie=UTF8&node=976389031&ref_=nav_cs_books',\n",
       " 'https://www.amazon.in/electronics/b/?ie=UTF8&node=976419031&ref_=nav_cs_electronics',\n",
       " 'https://www.amazon.in/prime?ref_=nav_cs_primelink_nonmember',\n",
       " 'https://www.amazon.in/gp/browse.html?node=6648217031&ref_=nav_cs_fashion',\n",
       " 'https://www.amazon.in/gp/new-releases/?ref_=nav_cs_newreleases',\n",
       " 'https://www.amazon.in/Home-Kitchen/b/?ie=UTF8&node=976442031&ref_=nav_cs_home',\n",
       " 'https://www.amazon.in/gp/sva/dashboard?ref_=nav_cs_apay',\n",
       " 'https://www.amazon.in/computers-and-accessories/b/?ie=UTF8&node=976392031&ref_=nav_cs_pc',\n",
       " 'https://www.amazon.in/amazon-coupons/b/?_encoding=UTF8&node=10465704031&ref_=nav_cs_coupons',\n",
       " 'https://www.amazon.in/Toys-Games/b/?ie=UTF8&node=1350380031&ref_=nav_cs_toys',\n",
       " 'https://www.amazon.in/b/?node=2838698031&ld=AZINSOANavDesktop&ref_=nav_cs_sell',\n",
       " 'https://www.amazon.in/beauty/b/?ie=UTF8&node=1355016031&ref_=nav_cs_beauty',\n",
       " 'https://www.amazon.in/Car-Motorbike-Store/b/?ie=UTF8&node=4772060031&ref_=nav_cs_automotive',\n",
       " 'https://www.amazon.in/Gourmet-Specialty-Foods/b/?ie=UTF8&node=2454178031&ref_=nav_cs_grocery',\n",
       " 'https://www.amazon.in/Sports/b/?ie=UTF8&node=1984443031&ref_=nav_cs_sports',\n",
       " 'https://www.amazon.in/health-and-personal-care/b/?ie=UTF8&node=1350384031&ref_=nav_cs_hpc',\n",
       " 'https://www.amazon.in/gift-card-store/b/?ie=UTF8&node=3704982031&ref_=nav_cs_gc',\n",
       " 'https://www.amazon.in/video-games/b/?ie=UTF8&node=976460031&ref_=nav_cs_video_games',\n",
       " 'https://www.amazon.in/Baby/b/?ie=UTF8&node=1571274031&ref_=nav_cs_baby',\n",
       " 'https://www.amazon.in/Pet-Supplies/b/?ie=UTF8&node=2454181031&ref_=nav_cs_pets',\n",
       " 'https://www.amazon.in/gp/browse.html?node=3704992031&ref_=nav_cs_hi',\n",
       " 'https://www.amazon.in/Audible-Books-and-Originals/b/?ie=UTF8&node=17941593031&ref_=nav_cs_audible',\n",
       " 'https://www.amazon.in/gcx/-/gfhz/?ref_=nav_cs_giftfinder',\n",
       " 'https://www.amazon.in/b/?node=6637738031&ref_=nav_cs_amazonbasics',\n",
       " 'https://www.amazon.in/Kindle-eBooks/b/?ie=UTF8&node=1634753031&ref_=nav_cs_kindle_books',\n",
       " 'https://www.amazon.in/auto-deliveries/landing?ref_=nav_cs_sns',\n",
       " 'https://www.amazon.in/events/greatfreedomsale/?_encoding=UTF8&ref_=nav_swm_swm_gd&pf_rd_p=7a728353-5d1a-4eb5-94c4-08d0254da558&pf_rd_s=nav-sitewide-msg&pf_rd_t=4201&pf_rd_i=navbar-4201&pf_rd_m=A21TJRUUN4KGV&pf_rd_r=HEQZ9FHAGV10V113VF8V',\n",
       " 'https://aax-eu.amazon.in/x/c/Q83FEHy5rgyPFfFaqH2egzwAAAGCcuvFHQMAAAH2AQAz7UCz/https://www.amazon.in/stores/page/BDB74DA5-A67A-4B5B-9E38-FA6345BB38D4/?_encoding=UTF8&store_ref=SB_A022489928OVCOEMKT2HF&pd_rd_plhdr=t&aaxitk=b4603a5c3d515c82442c55f39b35eb9b&hsa_cr_id=9387835380202&lp_asins=B09R29RSFH%2CB09R3XHPVZ%2CB09R248ZWX&lp_query=window%20a.c&lp_slot=auto-sparkle-hsa-tetris&ref_=sbx_be_s_sparkle_lsi4d_bkgd&pd_rd_w=sCcu0&content-id=amzn1.sym.c679a10e-5f33-4f2e-b014-f92eed44a58f%3Aamzn1.sym.c679a10e-5f33-4f2e-b014-f92eed44a58f&pf_rd_p=c679a10e-5f33-4f2e-b014-f92eed44a58f&pf_rd_r=HEQZ9FHAGV10V113VF8V&pd_rd_wg=9YxbR&pd_rd_r=4777072b-85c7-45c1-968d-d9c9acfe382d',\n",
       " 'https://aax-eu.amazon.in/x/c/Q83FEHy5rgyPFfFaqH2egzwAAAGCcuvFHQMAAAH2AQAz7UCz/https://www.amazon.in/stores/page/BDB74DA5-A67A-4B5B-9E38-FA6345BB38D4/?_encoding=UTF8&store_ref=SB_A022489928OVCOEMKT2HF&pd_rd_plhdr=t&aaxitk=b4603a5c3d515c82442c55f39b35eb9b&hsa_cr_id=9387835380202&lp_asins=B09R29RSFH%2CB09R3XHPVZ%2CB09R248ZWX&lp_query=window%20a.c&lp_slot=auto-sparkle-hsa-tetris&ref_=sbx_be_s_sparkle_lsi4d_logo&pd_rd_w=sCcu0&content-id=amzn1.sym.c679a10e-5f33-4f2e-b014-f92eed44a58f%3Aamzn1.sym.c679a10e-5f33-4f2e-b014-f92eed44a58f&pf_rd_p=c679a10e-5f33-4f2e-b014-f92eed44a58f&pf_rd_r=HEQZ9FHAGV10V113VF8V&pd_rd_wg=9YxbR&pd_rd_r=4777072b-85c7-45c1-968d-d9c9acfe382d',\n",
       " 'https://aax-eu.amazon.in/x/c/Q83FEHy5rgyPFfFaqH2egzwAAAGCcuvFHQMAAAH2AQAz7UCz/https://www.amazon.in/stores/page/BDB74DA5-A67A-4B5B-9E38-FA6345BB38D4/?_encoding=UTF8&store_ref=SB_A022489928OVCOEMKT2HF&pd_rd_plhdr=t&aaxitk=b4603a5c3d515c82442c55f39b35eb9b&hsa_cr_id=9387835380202&lp_asins=B09R29RSFH%2CB09R3XHPVZ%2CB09R248ZWX&lp_query=window%20a.c&lp_slot=auto-sparkle-hsa-tetris&ref_=sbx_be_s_sparkle_lsi4d_hl&pd_rd_w=sCcu0&content-id=amzn1.sym.c679a10e-5f33-4f2e-b014-f92eed44a58f%3Aamzn1.sym.c679a10e-5f33-4f2e-b014-f92eed44a58f&pf_rd_p=c679a10e-5f33-4f2e-b014-f92eed44a58f&pf_rd_r=HEQZ9FHAGV10V113VF8V&pd_rd_wg=9YxbR&pd_rd_r=4777072b-85c7-45c1-968d-d9c9acfe382d',\n",
       " 'https://aax-eu.amazon.in/x/c/Q83FEHy5rgyPFfFaqH2egzwAAAGCcuvFHQMAAAH2AQAz7UCz/https://www.amazon.in/stores/page/BDB74DA5-A67A-4B5B-9E38-FA6345BB38D4/?_encoding=UTF8&store_ref=SB_A022489928OVCOEMKT2HF&pd_rd_plhdr=t&aaxitk=b4603a5c3d515c82442c55f39b35eb9b&hsa_cr_id=9387835380202&lp_asins=B09R29RSFH%2CB09R3XHPVZ%2CB09R248ZWX&lp_query=window%20a.c&lp_slot=auto-sparkle-hsa-tetris&ref_=sbx_be_s_sparkle_lsi4d_cta&pd_rd_w=sCcu0&content-id=amzn1.sym.c679a10e-5f33-4f2e-b014-f92eed44a58f%3Aamzn1.sym.c679a10e-5f33-4f2e-b014-f92eed44a58f&pf_rd_p=c679a10e-5f33-4f2e-b014-f92eed44a58f&pf_rd_r=HEQZ9FHAGV10V113VF8V&pd_rd_wg=9YxbR&pd_rd_r=4777072b-85c7-45c1-968d-d9c9acfe382d',\n",
       " 'https://aax-eu.amazon.in/x/c/Q83FEHy5rgyPFfFaqH2egzwAAAGCcuvFHQMAAAH2AQAz7UCz/https://www.amazon.in/stores/page/BDB74DA5-A67A-4B5B-9E38-FA6345BB38D4/?_encoding=UTF8&store_ref=SB_A022489928OVCOEMKT2HF&pd_rd_plhdr=t&aaxitk=b4603a5c3d515c82442c55f39b35eb9b&hsa_cr_id=9387835380202&lp_asins=B09R29RSFH%2CB09R3XHPVZ%2CB09R248ZWX&lp_query=window%20a.c&lp_slot=auto-sparkle-hsa-tetris&ref_=sbx_be_s_sparkle_lsi4d_ls&pd_rd_w=sCcu0&content-id=amzn1.sym.c679a10e-5f33-4f2e-b014-f92eed44a58f%3Aamzn1.sym.c679a10e-5f33-4f2e-b014-f92eed44a58f&pf_rd_p=c679a10e-5f33-4f2e-b014-f92eed44a58f&pf_rd_r=HEQZ9FHAGV10V113VF8V&pd_rd_wg=9YxbR&pd_rd_r=4777072b-85c7-45c1-968d-d9c9acfe382d',\n",
       " 'https://aax-eu.amazon.in/x/c/Q83FEHy5rgyPFfFaqH2egzwAAAGCcuvFHQMAAAH2AQAz7UCz/https://www.amazon.in/gp/aw/d/B09R29RSFH/?_encoding=UTF8&pd_rd_plhdr=t&aaxitk=b4603a5c3d515c82442c55f39b35eb9b&hsa_cr_id=9387835380202&qid=1659785430&sr=1-1-fd947bf3-57d2-4cc9-939d-2805f92cef28&ref_=sbx_be_s_sparkle_lsi4d_asin_0_bkgd&pd_rd_w=sCcu0&content-id=amzn1.sym.c679a10e-5f33-4f2e-b014-f92eed44a58f%3Aamzn1.sym.c679a10e-5f33-4f2e-b014-f92eed44a58f&pf_rd_p=c679a10e-5f33-4f2e-b014-f92eed44a58f&pf_rd_r=HEQZ9FHAGV10V113VF8V&pd_rd_wg=9YxbR&pd_rd_r=4777072b-85c7-45c1-968d-d9c9acfe382d',\n",
       " 'https://aax-eu.amazon.in/x/c/Q83FEHy5rgyPFfFaqH2egzwAAAGCcuvFHQMAAAH2AQAz7UCz/https://www.amazon.in/gp/aw/d/B09R29RSFH/?_encoding=UTF8&pd_rd_plhdr=t&aaxitk=b4603a5c3d515c82442c55f39b35eb9b&hsa_cr_id=9387835380202&qid=1659785430&sr=1-1-fd947bf3-57d2-4cc9-939d-2805f92cef28&ref_=sbx_be_s_sparkle_lsi4d_asin_0_img&pd_rd_w=sCcu0&content-id=amzn1.sym.c679a10e-5f33-4f2e-b014-f92eed44a58f%3Aamzn1.sym.c679a10e-5f33-4f2e-b014-f92eed44a58f&pf_rd_p=c679a10e-5f33-4f2e-b014-f92eed44a58f&pf_rd_r=HEQZ9FHAGV10V113VF8V&pd_rd_wg=9YxbR&pd_rd_r=4777072b-85c7-45c1-968d-d9c9acfe382d',\n",
       " 'https://aax-eu.amazon.in/x/c/Q83FEHy5rgyPFfFaqH2egzwAAAGCcuvFHQMAAAH2AQAz7UCz/https://www.amazon.in/gp/aw/d/B09R29RSFH/?_encoding=UTF8&pd_rd_plhdr=t&aaxitk=b4603a5c3d515c82442c55f39b35eb9b&hsa_cr_id=9387835380202&qid=1659785430&sr=1-1-fd947bf3-57d2-4cc9-939d-2805f92cef28&ref_=sbx_be_s_sparkle_lsi4d_asin_0_bkgd&pd_rd_w=sCcu0&content-id=amzn1.sym.c679a10e-5f33-4f2e-b014-f92eed44a58f%3Aamzn1.sym.c679a10e-5f33-4f2e-b014-f92eed44a58f&pf_rd_p=c679a10e-5f33-4f2e-b014-f92eed44a58f&pf_rd_r=HEQZ9FHAGV10V113VF8V&pd_rd_wg=9YxbR&pd_rd_r=4777072b-85c7-45c1-968d-d9c9acfe382d',\n",
       " 'https://aax-eu.amazon.in/x/c/Q83FEHy5rgyPFfFaqH2egzwAAAGCcuvFHQMAAAH2AQAz7UCz/https://www.amazon.in/gp/aw/d/B09R29RSFH/?_encoding=UTF8&pd_rd_plhdr=t&aaxitk=b4603a5c3d515c82442c55f39b35eb9b&hsa_cr_id=9387835380202&qid=1659785430&sr=1-1-fd947bf3-57d2-4cc9-939d-2805f92cef28&ref_=sbx_be_s_sparkle_lsi4d_asin_0_price&pd_rd_w=sCcu0&content-id=amzn1.sym.c679a10e-5f33-4f2e-b014-f92eed44a58f%3Aamzn1.sym.c679a10e-5f33-4f2e-b014-f92eed44a58f&pf_rd_p=c679a10e-5f33-4f2e-b014-f92eed44a58f&pf_rd_r=HEQZ9FHAGV10V113VF8V&pd_rd_wg=9YxbR&pd_rd_r=4777072b-85c7-45c1-968d-d9c9acfe382d',\n",
       " 'https://aax-eu.amazon.in/x/c/Q83FEHy5rgyPFfFaqH2egzwAAAGCcuvFHQMAAAH2AQAz7UCz/https://www.amazon.in/gp/aw/d/B09R29RSFH/?_encoding=UTF8&pd_rd_plhdr=t&aaxitk=b4603a5c3d515c82442c55f39b35eb9b&hsa_cr_id=9387835380202&qid=1659785430&sr=1-1-fd947bf3-57d2-4cc9-939d-2805f92cef28&ref_=sbx_be_s_sparkle_lsi4d_asin_0_price&pd_rd_w=sCcu0&content-id=amzn1.sym.c679a10e-5f33-4f2e-b014-f92eed44a58f%3Aamzn1.sym.c679a10e-5f33-4f2e-b014-f92eed44a58f&pf_rd_p=c679a10e-5f33-4f2e-b014-f92eed44a58f&pf_rd_r=HEQZ9FHAGV10V113VF8V&pd_rd_wg=9YxbR&pd_rd_r=4777072b-85c7-45c1-968d-d9c9acfe382d',\n",
       " 'https://aax-eu.amazon.in/x/c/Q83FEHy5rgyPFfFaqH2egzwAAAGCcuvFHQMAAAH2AQAz7UCz/https://www.amazon.in/gp/aw/d/B09R29RSFH/?_encoding=UTF8&pd_rd_plhdr=t&aaxitk=b4603a5c3d515c82442c55f39b35eb9b&hsa_cr_id=9387835380202&qid=1659785430&sr=1-1-fd947bf3-57d2-4cc9-939d-2805f92cef28&ref_=sbx_be_s_sparkle_lsi4d_asin_0_price&pd_rd_w=sCcu0&content-id=amzn1.sym.c679a10e-5f33-4f2e-b014-f92eed44a58f%3Aamzn1.sym.c679a10e-5f33-4f2e-b014-f92eed44a58f&pf_rd_p=c679a10e-5f33-4f2e-b014-f92eed44a58f&pf_rd_r=HEQZ9FHAGV10V113VF8V&pd_rd_wg=9YxbR&pd_rd_r=4777072b-85c7-45c1-968d-d9c9acfe382d',\n",
       " 'https://aax-eu.amazon.in/x/c/Q83FEHy5rgyPFfFaqH2egzwAAAGCcuvFHQMAAAH2AQAz7UCz/https://www.amazon.in/gp/aw/d/B09R29RSFH/?_encoding=UTF8&pd_rd_plhdr=t&aaxitk=b4603a5c3d515c82442c55f39b35eb9b&hsa_cr_id=9387835380202&qid=1659785430&sr=1-1-fd947bf3-57d2-4cc9-939d-2805f92cef28&ref_=sbx_be_s_sparkle_lsi4d_asin_0_badge&pd_rd_w=sCcu0&content-id=amzn1.sym.c679a10e-5f33-4f2e-b014-f92eed44a58f%3Aamzn1.sym.c679a10e-5f33-4f2e-b014-f92eed44a58f&pf_rd_p=c679a10e-5f33-4f2e-b014-f92eed44a58f&pf_rd_r=HEQZ9FHAGV10V113VF8V&pd_rd_wg=9YxbR&pd_rd_r=4777072b-85c7-45c1-968d-d9c9acfe382d',\n",
       " 'https://aax-eu.amazon.in/x/c/Q83FEHy5rgyPFfFaqH2egzwAAAGCcuvFHQMAAAH2AQAz7UCz/https://www.amazon.in/gp/aw/d/B09R29RSFH/?_encoding=UTF8&pd_rd_plhdr=t&aaxitk=b4603a5c3d515c82442c55f39b35eb9b&hsa_cr_id=9387835380202&qid=1659785430&sr=1-1-fd947bf3-57d2-4cc9-939d-2805f92cef28&ref_=sbx_be_s_sparkle_lsi4d_asin_0_price&pd_rd_w=sCcu0&content-id=amzn1.sym.c679a10e-5f33-4f2e-b014-f92eed44a58f%3Aamzn1.sym.c679a10e-5f33-4f2e-b014-f92eed44a58f&pf_rd_p=c679a10e-5f33-4f2e-b014-f92eed44a58f&pf_rd_r=HEQZ9FHAGV10V113VF8V&pd_rd_wg=9YxbR&pd_rd_r=4777072b-85c7-45c1-968d-d9c9acfe382d',\n",
       " 'https://aax-eu.amazon.in/x/c/Q83FEHy5rgyPFfFaqH2egzwAAAGCcuvFHQMAAAH2AQAz7UCz/https://www.amazon.in/gp/aw/d/B09R3XHPVZ/?_encoding=UTF8&pd_rd_plhdr=t&aaxitk=b4603a5c3d515c82442c55f39b35eb9b&hsa_cr_id=9387835380202&qid=1659785430&sr=1-2-fd947bf3-57d2-4cc9-939d-2805f92cef28&ref_=sbx_be_s_sparkle_lsi4d_asin_1_bkgd&pd_rd_w=sCcu0&content-id=amzn1.sym.c679a10e-5f33-4f2e-b014-f92eed44a58f%3Aamzn1.sym.c679a10e-5f33-4f2e-b014-f92eed44a58f&pf_rd_p=c679a10e-5f33-4f2e-b014-f92eed44a58f&pf_rd_r=HEQZ9FHAGV10V113VF8V&pd_rd_wg=9YxbR&pd_rd_r=4777072b-85c7-45c1-968d-d9c9acfe382d',\n",
       " 'https://aax-eu.amazon.in/x/c/Q83FEHy5rgyPFfFaqH2egzwAAAGCcuvFHQMAAAH2AQAz7UCz/https://www.amazon.in/gp/aw/d/B09R3XHPVZ/?_encoding=UTF8&pd_rd_plhdr=t&aaxitk=b4603a5c3d515c82442c55f39b35eb9b&hsa_cr_id=9387835380202&qid=1659785430&sr=1-2-fd947bf3-57d2-4cc9-939d-2805f92cef28&ref_=sbx_be_s_sparkle_lsi4d_asin_1_img&pd_rd_w=sCcu0&content-id=amzn1.sym.c679a10e-5f33-4f2e-b014-f92eed44a58f%3Aamzn1.sym.c679a10e-5f33-4f2e-b014-f92eed44a58f&pf_rd_p=c679a10e-5f33-4f2e-b014-f92eed44a58f&pf_rd_r=HEQZ9FHAGV10V113VF8V&pd_rd_wg=9YxbR&pd_rd_r=4777072b-85c7-45c1-968d-d9c9acfe382d',\n",
       " 'https://aax-eu.amazon.in/x/c/Q83FEHy5rgyPFfFaqH2egzwAAAGCcuvFHQMAAAH2AQAz7UCz/https://www.amazon.in/gp/aw/d/B09R3XHPVZ/?_encoding=UTF8&pd_rd_plhdr=t&aaxitk=b4603a5c3d515c82442c55f39b35eb9b&hsa_cr_id=9387835380202&qid=1659785430&sr=1-2-fd947bf3-57d2-4cc9-939d-2805f92cef28&ref_=sbx_be_s_sparkle_lsi4d_asin_1_bkgd&pd_rd_w=sCcu0&content-id=amzn1.sym.c679a10e-5f33-4f2e-b014-f92eed44a58f%3Aamzn1.sym.c679a10e-5f33-4f2e-b014-f92eed44a58f&pf_rd_p=c679a10e-5f33-4f2e-b014-f92eed44a58f&pf_rd_r=HEQZ9FHAGV10V113VF8V&pd_rd_wg=9YxbR&pd_rd_r=4777072b-85c7-45c1-968d-d9c9acfe382d',\n",
       " 'https://aax-eu.amazon.in/x/c/Q83FEHy5rgyPFfFaqH2egzwAAAGCcuvFHQMAAAH2AQAz7UCz/https://www.amazon.in/gp/aw/d/B09R3XHPVZ/?_encoding=UTF8&pd_rd_plhdr=t&aaxitk=b4603a5c3d515c82442c55f39b35eb9b&hsa_cr_id=9387835380202&qid=1659785430&sr=1-2-fd947bf3-57d2-4cc9-939d-2805f92cef28&ref_=sbx_be_s_sparkle_lsi4d_asin_1_price&pd_rd_w=sCcu0&content-id=amzn1.sym.c679a10e-5f33-4f2e-b014-f92eed44a58f%3Aamzn1.sym.c679a10e-5f33-4f2e-b014-f92eed44a58f&pf_rd_p=c679a10e-5f33-4f2e-b014-f92eed44a58f&pf_rd_r=HEQZ9FHAGV10V113VF8V&pd_rd_wg=9YxbR&pd_rd_r=4777072b-85c7-45c1-968d-d9c9acfe382d',\n",
       " 'https://aax-eu.amazon.in/x/c/Q83FEHy5rgyPFfFaqH2egzwAAAGCcuvFHQMAAAH2AQAz7UCz/https://www.amazon.in/gp/aw/d/B09R3XHPVZ/?_encoding=UTF8&pd_rd_plhdr=t&aaxitk=b4603a5c3d515c82442c55f39b35eb9b&hsa_cr_id=9387835380202&qid=1659785430&sr=1-2-fd947bf3-57d2-4cc9-939d-2805f92cef28&ref_=sbx_be_s_sparkle_lsi4d_asin_1_price&pd_rd_w=sCcu0&content-id=amzn1.sym.c679a10e-5f33-4f2e-b014-f92eed44a58f%3Aamzn1.sym.c679a10e-5f33-4f2e-b014-f92eed44a58f&pf_rd_p=c679a10e-5f33-4f2e-b014-f92eed44a58f&pf_rd_r=HEQZ9FHAGV10V113VF8V&pd_rd_wg=9YxbR&pd_rd_r=4777072b-85c7-45c1-968d-d9c9acfe382d',\n",
       " 'https://aax-eu.amazon.in/x/c/Q83FEHy5rgyPFfFaqH2egzwAAAGCcuvFHQMAAAH2AQAz7UCz/https://www.amazon.in/gp/aw/d/B09R3XHPVZ/?_encoding=UTF8&pd_rd_plhdr=t&aaxitk=b4603a5c3d515c82442c55f39b35eb9b&hsa_cr_id=9387835380202&qid=1659785430&sr=1-2-fd947bf3-57d2-4cc9-939d-2805f92cef28&ref_=sbx_be_s_sparkle_lsi4d_asin_1_price&pd_rd_w=sCcu0&content-id=amzn1.sym.c679a10e-5f33-4f2e-b014-f92eed44a58f%3Aamzn1.sym.c679a10e-5f33-4f2e-b014-f92eed44a58f&pf_rd_p=c679a10e-5f33-4f2e-b014-f92eed44a58f&pf_rd_r=HEQZ9FHAGV10V113VF8V&pd_rd_wg=9YxbR&pd_rd_r=4777072b-85c7-45c1-968d-d9c9acfe382d',\n",
       " 'https://aax-eu.amazon.in/x/c/Q83FEHy5rgyPFfFaqH2egzwAAAGCcuvFHQMAAAH2AQAz7UCz/https://www.amazon.in/gp/aw/d/B09R3XHPVZ/?_encoding=UTF8&pd_rd_plhdr=t&aaxitk=b4603a5c3d515c82442c55f39b35eb9b&hsa_cr_id=9387835380202&qid=1659785430&sr=1-2-fd947bf3-57d2-4cc9-939d-2805f92cef28&ref_=sbx_be_s_sparkle_lsi4d_asin_1_badge&pd_rd_w=sCcu0&content-id=amzn1.sym.c679a10e-5f33-4f2e-b014-f92eed44a58f%3Aamzn1.sym.c679a10e-5f33-4f2e-b014-f92eed44a58f&pf_rd_p=c679a10e-5f33-4f2e-b014-f92eed44a58f&pf_rd_r=HEQZ9FHAGV10V113VF8V&pd_rd_wg=9YxbR&pd_rd_r=4777072b-85c7-45c1-968d-d9c9acfe382d',\n",
       " 'https://aax-eu.amazon.in/x/c/Q83FEHy5rgyPFfFaqH2egzwAAAGCcuvFHQMAAAH2AQAz7UCz/https://www.amazon.in/gp/aw/d/B09R3XHPVZ/?_encoding=UTF8&pd_rd_plhdr=t&aaxitk=b4603a5c3d515c82442c55f39b35eb9b&hsa_cr_id=9387835380202&qid=1659785430&sr=1-2-fd947bf3-57d2-4cc9-939d-2805f92cef28&ref_=sbx_be_s_sparkle_lsi4d_asin_1_price&pd_rd_w=sCcu0&content-id=amzn1.sym.c679a10e-5f33-4f2e-b014-f92eed44a58f%3Aamzn1.sym.c679a10e-5f33-4f2e-b014-f92eed44a58f&pf_rd_p=c679a10e-5f33-4f2e-b014-f92eed44a58f&pf_rd_r=HEQZ9FHAGV10V113VF8V&pd_rd_wg=9YxbR&pd_rd_r=4777072b-85c7-45c1-968d-d9c9acfe382d',\n",
       " 'https://aax-eu.amazon.in/x/c/Q83FEHy5rgyPFfFaqH2egzwAAAGCcuvFHQMAAAH2AQAz7UCz/https://www.amazon.in/gp/aw/d/B09R248ZWX/?_encoding=UTF8&pd_rd_plhdr=t&aaxitk=b4603a5c3d515c82442c55f39b35eb9b&hsa_cr_id=9387835380202&qid=1659785430&sr=1-3-fd947bf3-57d2-4cc9-939d-2805f92cef28&ref_=sbx_be_s_sparkle_lsi4d_asin_2_bkgd&pd_rd_w=sCcu0&content-id=amzn1.sym.c679a10e-5f33-4f2e-b014-f92eed44a58f%3Aamzn1.sym.c679a10e-5f33-4f2e-b014-f92eed44a58f&pf_rd_p=c679a10e-5f33-4f2e-b014-f92eed44a58f&pf_rd_r=HEQZ9FHAGV10V113VF8V&pd_rd_wg=9YxbR&pd_rd_r=4777072b-85c7-45c1-968d-d9c9acfe382d',\n",
       " 'https://aax-eu.amazon.in/x/c/Q83FEHy5rgyPFfFaqH2egzwAAAGCcuvFHQMAAAH2AQAz7UCz/https://www.amazon.in/gp/aw/d/B09R248ZWX/?_encoding=UTF8&pd_rd_plhdr=t&aaxitk=b4603a5c3d515c82442c55f39b35eb9b&hsa_cr_id=9387835380202&qid=1659785430&sr=1-3-fd947bf3-57d2-4cc9-939d-2805f92cef28&ref_=sbx_be_s_sparkle_lsi4d_asin_2_img&pd_rd_w=sCcu0&content-id=amzn1.sym.c679a10e-5f33-4f2e-b014-f92eed44a58f%3Aamzn1.sym.c679a10e-5f33-4f2e-b014-f92eed44a58f&pf_rd_p=c679a10e-5f33-4f2e-b014-f92eed44a58f&pf_rd_r=HEQZ9FHAGV10V113VF8V&pd_rd_wg=9YxbR&pd_rd_r=4777072b-85c7-45c1-968d-d9c9acfe382d',\n",
       " 'https://aax-eu.amazon.in/x/c/Q83FEHy5rgyPFfFaqH2egzwAAAGCcuvFHQMAAAH2AQAz7UCz/https://www.amazon.in/gp/aw/d/B09R248ZWX/?_encoding=UTF8&pd_rd_plhdr=t&aaxitk=b4603a5c3d515c82442c55f39b35eb9b&hsa_cr_id=9387835380202&qid=1659785430&sr=1-3-fd947bf3-57d2-4cc9-939d-2805f92cef28&ref_=sbx_be_s_sparkle_lsi4d_asin_2_bkgd&pd_rd_w=sCcu0&content-id=amzn1.sym.c679a10e-5f33-4f2e-b014-f92eed44a58f%3Aamzn1.sym.c679a10e-5f33-4f2e-b014-f92eed44a58f&pf_rd_p=c679a10e-5f33-4f2e-b014-f92eed44a58f&pf_rd_r=HEQZ9FHAGV10V113VF8V&pd_rd_wg=9YxbR&pd_rd_r=4777072b-85c7-45c1-968d-d9c9acfe382d',\n",
       " 'https://aax-eu.amazon.in/x/c/Q83FEHy5rgyPFfFaqH2egzwAAAGCcuvFHQMAAAH2AQAz7UCz/https://www.amazon.in/gp/aw/d/B09R248ZWX/?_encoding=UTF8&pd_rd_plhdr=t&aaxitk=b4603a5c3d515c82442c55f39b35eb9b&hsa_cr_id=9387835380202&qid=1659785430&sr=1-3-fd947bf3-57d2-4cc9-939d-2805f92cef28&ref_=sbx_be_s_sparkle_lsi4d_asin_2_price&pd_rd_w=sCcu0&content-id=amzn1.sym.c679a10e-5f33-4f2e-b014-f92eed44a58f%3Aamzn1.sym.c679a10e-5f33-4f2e-b014-f92eed44a58f&pf_rd_p=c679a10e-5f33-4f2e-b014-f92eed44a58f&pf_rd_r=HEQZ9FHAGV10V113VF8V&pd_rd_wg=9YxbR&pd_rd_r=4777072b-85c7-45c1-968d-d9c9acfe382d',\n",
       " 'https://aax-eu.amazon.in/x/c/Q83FEHy5rgyPFfFaqH2egzwAAAGCcuvFHQMAAAH2AQAz7UCz/https://www.amazon.in/gp/aw/d/B09R248ZWX/?_encoding=UTF8&pd_rd_plhdr=t&aaxitk=b4603a5c3d515c82442c55f39b35eb9b&hsa_cr_id=9387835380202&qid=1659785430&sr=1-3-fd947bf3-57d2-4cc9-939d-2805f92cef28&ref_=sbx_be_s_sparkle_lsi4d_asin_2_price&pd_rd_w=sCcu0&content-id=amzn1.sym.c679a10e-5f33-4f2e-b014-f92eed44a58f%3Aamzn1.sym.c679a10e-5f33-4f2e-b014-f92eed44a58f&pf_rd_p=c679a10e-5f33-4f2e-b014-f92eed44a58f&pf_rd_r=HEQZ9FHAGV10V113VF8V&pd_rd_wg=9YxbR&pd_rd_r=4777072b-85c7-45c1-968d-d9c9acfe382d',\n",
       " 'https://aax-eu.amazon.in/x/c/Q83FEHy5rgyPFfFaqH2egzwAAAGCcuvFHQMAAAH2AQAz7UCz/https://www.amazon.in/gp/aw/d/B09R248ZWX/?_encoding=UTF8&pd_rd_plhdr=t&aaxitk=b4603a5c3d515c82442c55f39b35eb9b&hsa_cr_id=9387835380202&qid=1659785430&sr=1-3-fd947bf3-57d2-4cc9-939d-2805f92cef28&ref_=sbx_be_s_sparkle_lsi4d_asin_2_price&pd_rd_w=sCcu0&content-id=amzn1.sym.c679a10e-5f33-4f2e-b014-f92eed44a58f%3Aamzn1.sym.c679a10e-5f33-4f2e-b014-f92eed44a58f&pf_rd_p=c679a10e-5f33-4f2e-b014-f92eed44a58f&pf_rd_r=HEQZ9FHAGV10V113VF8V&pd_rd_wg=9YxbR&pd_rd_r=4777072b-85c7-45c1-968d-d9c9acfe382d',\n",
       " 'https://aax-eu.amazon.in/x/c/Q83FEHy5rgyPFfFaqH2egzwAAAGCcuvFHQMAAAH2AQAz7UCz/https://www.amazon.in/gp/aw/d/B09R248ZWX/?_encoding=UTF8&pd_rd_plhdr=t&aaxitk=b4603a5c3d515c82442c55f39b35eb9b&hsa_cr_id=9387835380202&qid=1659785430&sr=1-3-fd947bf3-57d2-4cc9-939d-2805f92cef28&ref_=sbx_be_s_sparkle_lsi4d_asin_2_badge&pd_rd_w=sCcu0&content-id=amzn1.sym.c679a10e-5f33-4f2e-b014-f92eed44a58f%3Aamzn1.sym.c679a10e-5f33-4f2e-b014-f92eed44a58f&pf_rd_p=c679a10e-5f33-4f2e-b014-f92eed44a58f&pf_rd_r=HEQZ9FHAGV10V113VF8V&pd_rd_wg=9YxbR&pd_rd_r=4777072b-85c7-45c1-968d-d9c9acfe382d',\n",
       " 'https://aax-eu.amazon.in/x/c/Q83FEHy5rgyPFfFaqH2egzwAAAGCcuvFHQMAAAH2AQAz7UCz/https://www.amazon.in/gp/aw/d/B09R248ZWX/?_encoding=UTF8&pd_rd_plhdr=t&aaxitk=b4603a5c3d515c82442c55f39b35eb9b&hsa_cr_id=9387835380202&qid=1659785430&sr=1-3-fd947bf3-57d2-4cc9-939d-2805f92cef28&ref_=sbx_be_s_sparkle_lsi4d_asin_2_price&pd_rd_w=sCcu0&content-id=amzn1.sym.c679a10e-5f33-4f2e-b014-f92eed44a58f%3Aamzn1.sym.c679a10e-5f33-4f2e-b014-f92eed44a58f&pf_rd_p=c679a10e-5f33-4f2e-b014-f92eed44a58f&pf_rd_r=HEQZ9FHAGV10V113VF8V&pd_rd_wg=9YxbR&pd_rd_r=4777072b-85c7-45c1-968d-d9c9acfe382d',\n",
       " 'https://aax-eu.amazon.in/x/c/Q83FEHy5rgyPFfFaqH2egzwAAAGCcuvFHQMAAAH2AQAz7UCz/https://www.amazon.in/stores/page/BDB74DA5-A67A-4B5B-9E38-FA6345BB38D4/?_encoding=UTF8&store_ref=SB_A022489928OVCOEMKT2HF&pd_rd_plhdr=t&aaxitk=b4603a5c3d515c82442c55f39b35eb9b&hsa_cr_id=9387835380202&lp_asins=B09R29RSFH%2CB09R3XHPVZ%2CB09R248ZWX&lp_query=window%20a.c&lp_slot=auto-sparkle-hsa-tetris&ref_=sbx_be_s_sparkle_lsi4d_bkgd&pd_rd_w=sCcu0&content-id=amzn1.sym.c679a10e-5f33-4f2e-b014-f92eed44a58f%3Aamzn1.sym.c679a10e-5f33-4f2e-b014-f92eed44a58f&pf_rd_p=c679a10e-5f33-4f2e-b014-f92eed44a58f&pf_rd_r=HEQZ9FHAGV10V113VF8V&pd_rd_wg=9YxbR&pd_rd_r=4777072b-85c7-45c1-968d-d9c9acfe382d',\n",
       " 'https://www.amazon.in/gp/slredirect/picassoRedirect.html/ref=pa_sp_atf_aps_sr_pg1_1?ie=UTF8&adId=A091874831GTQ1Z1UFY6K&url=%2FAmazonBasics-Star-Inverter-Split-White%2Fdp%2FB08J8R76J8%2Fref%3Dsr_1_1_sspa%3Fcrid%3D3HI4YQZMX3EQD%26keywords%3Dwindow%2Ba.c%26qid%3D1659785430%26sprefix%3Dwindow%2Ba.c%252Caps%252C530%26sr%3D8-1-spons%26psc%3D1&qualifier=1659785430&id=1951265962231133&widgetName=sp_atf',\n",
       " 'javascript:void(0)',\n",
       " 'https://www.amazon.in/s?k=window+a.c&crid=3HI4YQZMX3EQD&sprefix=window+a.c%2Caps%2C530&ref=nb_sb_noss_1#',\n",
       " 'https://www.amazon.in/gp/slredirect/picassoRedirect.html/ref=pa_sp_atf_aps_sr_pg1_1?ie=UTF8&adId=A091874831GTQ1Z1UFY6K&url=%2FAmazonBasics-Star-Inverter-Split-White%2Fdp%2FB08J8R76J8%2Fref%3Dsr_1_1_sspa%3Fcrid%3D3HI4YQZMX3EQD%26keywords%3Dwindow%2Ba.c%26qid%3D1659785430%26sprefix%3Dwindow%2Ba.c%252Caps%252C530%26sr%3D8-1-spons%26psc%3D1&qualifier=1659785430&id=1951265962231133&widgetName=sp_atf',\n",
       " 'javascript:void(0)',\n",
       " 'https://www.amazon.in/gp/slredirect/picassoRedirect.html/ref=pa_sp_atf_aps_sr_pg1_1?ie=UTF8&adId=A091874831GTQ1Z1UFY6K&url=%2FAmazonBasics-Star-Inverter-Split-White%2Fdp%2FB08J8R76J8%2Fref%3Dsr_1_1_sspa%3Fcrid%3D3HI4YQZMX3EQD%26keywords%3Dwindow%2Ba.c%26qid%3D1659785430%26sprefix%3Dwindow%2Ba.c%252Caps%252C530%26sr%3D8-1-spons%26psc%3D1&qualifier=1659785430&id=1951265962231133&widgetName=sp_atf#customerReviews',\n",
       " 'https://www.amazon.in/greatindianfestival',\n",
       " 'https://www.amazon.in/gp/slredirect/picassoRedirect.html/ref=pa_sp_atf_aps_sr_pg1_1?ie=UTF8&adId=A091874831GTQ1Z1UFY6K&url=%2FAmazonBasics-Star-Inverter-Split-White%2Fdp%2FB08J8R76J8%2Fref%3Dsr_1_1_sspa%3Fcrid%3D3HI4YQZMX3EQD%26keywords%3Dwindow%2Ba.c%26qid%3D1659785430%26sprefix%3Dwindow%2Ba.c%252Caps%252C530%26sr%3D8-1-spons%26psc%3D1&qualifier=1659785430&id=1951265962231133&widgetName=sp_atf',\n",
       " 'https://www.amazon.in/gp/slredirect/picassoRedirect.html/ref=pa_sp_atf_aps_sr_pg1_1?ie=UTF8&adId=A08977923A3HZ9GQYVR74&url=%2FAmazonBasics-1-5-Ton-Air-Conditioner%2Fdp%2FB08J8SF74V%2Fref%3Dsr_1_2_sspa%3Fcrid%3D3HI4YQZMX3EQD%26keywords%3Dwindow%2Ba.c%26qid%3D1659785430%26sprefix%3Dwindow%2Ba.c%252Caps%252C530%26sr%3D8-2-spons%26psc%3D1&qualifier=1659785430&id=1951265962231133&widgetName=sp_atf',\n",
       " 'javascript:void(0)',\n",
       " 'https://www.amazon.in/s?k=window+a.c&crid=3HI4YQZMX3EQD&sprefix=window+a.c%2Caps%2C530&ref=nb_sb_noss_1#',\n",
       " 'https://www.amazon.in/gp/slredirect/picassoRedirect.html/ref=pa_sp_atf_aps_sr_pg1_1?ie=UTF8&adId=A08977923A3HZ9GQYVR74&url=%2FAmazonBasics-1-5-Ton-Air-Conditioner%2Fdp%2FB08J8SF74V%2Fref%3Dsr_1_2_sspa%3Fcrid%3D3HI4YQZMX3EQD%26keywords%3Dwindow%2Ba.c%26qid%3D1659785430%26sprefix%3Dwindow%2Ba.c%252Caps%252C530%26sr%3D8-2-spons%26psc%3D1&qualifier=1659785430&id=1951265962231133&widgetName=sp_atf',\n",
       " 'javascript:void(0)',\n",
       " 'https://www.amazon.in/gp/slredirect/picassoRedirect.html/ref=pa_sp_atf_aps_sr_pg1_1?ie=UTF8&adId=A08977923A3HZ9GQYVR74&url=%2FAmazonBasics-1-5-Ton-Air-Conditioner%2Fdp%2FB08J8SF74V%2Fref%3Dsr_1_2_sspa%3Fcrid%3D3HI4YQZMX3EQD%26keywords%3Dwindow%2Ba.c%26qid%3D1659785430%26sprefix%3Dwindow%2Ba.c%252Caps%252C530%26sr%3D8-2-spons%26psc%3D1&qualifier=1659785430&id=1951265962231133&widgetName=sp_atf#customerReviews',\n",
       " 'https://www.amazon.in/greatindianfestival',\n",
       " 'https://www.amazon.in/gp/slredirect/picassoRedirect.html/ref=pa_sp_atf_aps_sr_pg1_1?ie=UTF8&adId=A08977923A3HZ9GQYVR74&url=%2FAmazonBasics-1-5-Ton-Air-Conditioner%2Fdp%2FB08J8SF74V%2Fref%3Dsr_1_2_sspa%3Fcrid%3D3HI4YQZMX3EQD%26keywords%3Dwindow%2Ba.c%26qid%3D1659785430%26sprefix%3Dwindow%2Ba.c%252Caps%252C530%26sr%3D8-2-spons%26psc%3D1&qualifier=1659785430&id=1951265962231133&widgetName=sp_atf',\n",
       " 'javascript:void(0)',\n",
       " 'https://www.amazon.in/Havells-Lloyd-Window-GLW18B3YWSES-Copper/dp/B09SGNMD7R/ref=sr_1_3?crid=3HI4YQZMX3EQD&keywords=window+a.c&qid=1659785430&sprefix=window+a.c%2Caps%2C530&sr=8-3',\n",
       " 'https://www.amazon.in/Havells-Lloyd-Window-GLW18B3YWSES-Copper/dp/B09SGNMD7R/ref=sr_1_3?crid=3HI4YQZMX3EQD&keywords=window+a.c&qid=1659785430&sprefix=window+a.c%2Caps%2C530&sr=8-3',\n",
       " 'javascript:void(0)',\n",
       " 'https://www.amazon.in/Havells-Lloyd-Window-GLW18B3YWSES-Copper/dp/B09SGNMD7R/ref=sr_1_3?crid=3HI4YQZMX3EQD&keywords=window+a.c&qid=1659785430&sprefix=window+a.c%2Caps%2C530&sr=8-3#customerReviews',\n",
       " 'https://www.amazon.in/greatindianfestival',\n",
       " 'https://www.amazon.in/Havells-Lloyd-Window-GLW18B3YWSES-Copper/dp/B09SGNMD7R/ref=sr_1_3?crid=3HI4YQZMX3EQD&keywords=window+a.c&qid=1659785430&sprefix=window+a.c%2Caps%2C530&sr=8-3',\n",
       " 'https://www.amazon.in/gp/offer-listing/B09SGNMD7R/ref=sr_1_3_olp?keywords=window+a.c&crid=3HI4YQZMX3EQD&sprefix=window+a.c%2Caps%2C530&qid=1659785430&sr=8-3',\n",
       " 'https://www.amazon.in/AmazonBasics-1-5-Ton-Air-Conditioner/dp/B08J8V4QHD/ref=sr_1_4?crid=3HI4YQZMX3EQD&keywords=window+a.c&qid=1659785430&sprefix=window+a.c%2Caps%2C530&sr=8-4',\n",
       " 'https://www.amazon.in/AmazonBasics-1-5-Ton-Air-Conditioner/dp/B08J8V4QHD/ref=sr_1_4?crid=3HI4YQZMX3EQD&keywords=window+a.c&qid=1659785430&sprefix=window+a.c%2Caps%2C530&sr=8-4',\n",
       " 'javascript:void(0)',\n",
       " 'https://www.amazon.in/AmazonBasics-1-5-Ton-Air-Conditioner/dp/B08J8V4QHD/ref=sr_1_4?crid=3HI4YQZMX3EQD&keywords=window+a.c&qid=1659785430&sprefix=window+a.c%2Caps%2C530&sr=8-4#customerReviews',\n",
       " 'https://www.amazon.in/AmazonBasics-1-5-Ton-Air-Conditioner/dp/B08J8V4QHD/ref=sr_1_4?crid=3HI4YQZMX3EQD&keywords=window+a.c&qid=1659785430&sprefix=window+a.c%2Caps%2C530&sr=8-4',\n",
       " 'https://www.amazon.in/Blue-Star-Window-Copper-WFA518LL/dp/B09VKNYNBV/ref=sr_1_5?crid=3HI4YQZMX3EQD&keywords=window+a.c&qid=1659785430&sprefix=window+a.c%2Caps%2C530&sr=8-5',\n",
       " 'https://www.amazon.in/Blue-Star-Window-Copper-WFA518LL/dp/B09VKNYNBV/ref=sr_1_5?crid=3HI4YQZMX3EQD&keywords=window+a.c&qid=1659785430&sprefix=window+a.c%2Caps%2C530&sr=8-5',\n",
       " 'javascript:void(0)',\n",
       " 'https://www.amazon.in/Blue-Star-Window-Copper-WFA518LL/dp/B09VKNYNBV/ref=sr_1_5?crid=3HI4YQZMX3EQD&keywords=window+a.c&qid=1659785430&sprefix=window+a.c%2Caps%2C530&sr=8-5#customerReviews',\n",
       " 'https://www.amazon.in/Voltas-Window-Copper-18H-DZB/dp/B08MFM4G64/ref=sr_1_6?crid=3HI4YQZMX3EQD&keywords=window+a.c&qid=1659785430&sprefix=window+a.c%2Caps%2C530&sr=8-6',\n",
       " 'https://www.amazon.in/Voltas-Window-Copper-18H-DZB/dp/B08MFM4G64/ref=sr_1_6?crid=3HI4YQZMX3EQD&keywords=window+a.c&qid=1659785430&sprefix=window+a.c%2Caps%2C530&sr=8-6',\n",
       " 'javascript:void(0)',\n",
       " 'https://www.amazon.in/Voltas-Window-Copper-18H-DZB/dp/B08MFM4G64/ref=sr_1_6?crid=3HI4YQZMX3EQD&keywords=window+a.c&qid=1659785430&sprefix=window+a.c%2Caps%2C530&sr=8-6#customerReviews',\n",
       " 'https://www.amazon.in/LG-Inverter-Convertible-cooling-PW-Q18WUXA/dp/B09PZ1GZ8R/ref=sr_1_7?crid=3HI4YQZMX3EQD&keywords=window+a.c&qid=1659785430&sprefix=window+a.c%2Caps%2C530&sr=8-7',\n",
       " 'https://www.amazon.in/LG-Inverter-Convertible-cooling-PW-Q18WUXA/dp/B09PZ1GZ8R/ref=sr_1_7?crid=3HI4YQZMX3EQD&keywords=window+a.c&qid=1659785430&sprefix=window+a.c%2Caps%2C530&sr=8-7',\n",
       " 'javascript:void(0)',\n",
       " 'https://www.amazon.in/LG-Inverter-Convertible-cooling-PW-Q18WUXA/dp/B09PZ1GZ8R/ref=sr_1_7?crid=3HI4YQZMX3EQD&keywords=window+a.c&qid=1659785430&sprefix=window+a.c%2Caps%2C530&sr=8-7#customerReviews',\n",
       " 'https://www.amazon.in/LG-Inverter-Window-JW-Q18WUXA1-Discharge/dp/B082TG8SP1/ref=sr_1_8?crid=3HI4YQZMX3EQD&keywords=window+a.c&qid=1659785430&sprefix=window+a.c%2Caps%2C530&sr=8-8',\n",
       " 'https://www.amazon.in/LG-Inverter-Window-JW-Q18WUXA1-Discharge/dp/B082TG8SP1/ref=sr_1_8?crid=3HI4YQZMX3EQD&keywords=window+a.c&qid=1659785430&sprefix=window+a.c%2Caps%2C530&sr=8-8',\n",
       " 'javascript:void(0)',\n",
       " 'https://www.amazon.in/LG-Inverter-Window-JW-Q18WUXA1-Discharge/dp/B082TG8SP1/ref=sr_1_8?crid=3HI4YQZMX3EQD&keywords=window+a.c&qid=1659785430&sprefix=window+a.c%2Caps%2C530&sr=8-8#customerReviews',\n",
       " 'https://www.amazon.in/Lloyd-Window-GLW18B5YWGEW-Copper-Golden/dp/B09SGLJVLS/ref=sr_1_9?crid=3HI4YQZMX3EQD&keywords=window+a.c&qid=1659785430&sprefix=window+a.c%2Caps%2C530&sr=8-9',\n",
       " 'https://www.amazon.in/Lloyd-Window-GLW18B5YWGEW-Copper-Golden/dp/B09SGLJVLS/ref=sr_1_9?crid=3HI4YQZMX3EQD&keywords=window+a.c&qid=1659785430&sprefix=window+a.c%2Caps%2C530&sr=8-9',\n",
       " 'javascript:void(0)',\n",
       " 'https://www.amazon.in/Lloyd-Window-GLW18B5YWGEW-Copper-Golden/dp/B09SGLJVLS/ref=sr_1_9?crid=3HI4YQZMX3EQD&keywords=window+a.c&qid=1659785430&sprefix=window+a.c%2Caps%2C530&sr=8-9#customerReviews',\n",
       " 'https://www.amazon.in/Lloyd-Window-GLW18B5YWGEW-Copper-Golden/dp/B09SGLJVLS/ref=sr_1_9?crid=3HI4YQZMX3EQD&keywords=window+a.c&qid=1659785430&sprefix=window+a.c%2Caps%2C530&sr=8-9',\n",
       " 'https://www.amazon.in/Blue-Star-Window-Copper-WFA512LL/dp/B09RTGTRTH/ref=sr_1_10?crid=3HI4YQZMX3EQD&keywords=window+a.c&qid=1659785430&sprefix=window+a.c%2Caps%2C530&sr=8-10',\n",
       " 'https://www.amazon.in/Blue-Star-Window-Copper-WFA512LL/dp/B09RTGTRTH/ref=sr_1_10?crid=3HI4YQZMX3EQD&keywords=window+a.c&qid=1659785430&sprefix=window+a.c%2Caps%2C530&sr=8-10',\n",
       " 'javascript:void(0)',\n",
       " 'https://www.amazon.in/Blue-Star-Window-Copper-WFA512LL/dp/B09RTGTRTH/ref=sr_1_10?crid=3HI4YQZMX3EQD&keywords=window+a.c&qid=1659785430&sprefix=window+a.c%2Caps%2C530&sr=8-10#customerReviews',\n",
       " 'https://www.amazon.in/Blue-Star-Window-Copper-WFA512LL/dp/B09RTGTRTH/ref=sr_1_10?crid=3HI4YQZMX3EQD&keywords=window+a.c&qid=1659785430&sprefix=window+a.c%2Caps%2C530&sr=8-10',\n",
       " 'https://www.amazon.in/gp/slredirect/picassoRedirect.html/ref=pa_sp_mtf_aps_sr_pg1_1?ie=UTF8&adId=A0547090HRPCBZEBXQ35&url=%2FGodrej-GSC-18-RGN-CWQR%2Fdp%2FB079MDCHZ2%2Fref%3Dsr_1_11_sspa%3Fcrid%3D3HI4YQZMX3EQD%26keywords%3Dwindow%2Ba.c%26qid%3D1659785430%26sprefix%3Dwindow%2Ba.c%252Caps%252C530%26sr%3D8-11-spons%26psc%3D1&qualifier=1659785430&id=1951265962231133&widgetName=sp_mtf',\n",
       " 'javascript:void(0)',\n",
       " 'https://www.amazon.in/s?k=window+a.c&crid=3HI4YQZMX3EQD&sprefix=window+a.c%2Caps%2C530&ref=nb_sb_noss_1#',\n",
       " 'https://www.amazon.in/gp/slredirect/picassoRedirect.html/ref=pa_sp_mtf_aps_sr_pg1_1?ie=UTF8&adId=A0547090HRPCBZEBXQ35&url=%2FGodrej-GSC-18-RGN-CWQR%2Fdp%2FB079MDCHZ2%2Fref%3Dsr_1_11_sspa%3Fcrid%3D3HI4YQZMX3EQD%26keywords%3Dwindow%2Ba.c%26qid%3D1659785430%26sprefix%3Dwindow%2Ba.c%252Caps%252C530%26sr%3D8-11-spons%26psc%3D1&qualifier=1659785430&id=1951265962231133&widgetName=sp_mtf',\n",
       " 'javascript:void(0)',\n",
       " 'https://www.amazon.in/gp/slredirect/picassoRedirect.html/ref=pa_sp_mtf_aps_sr_pg1_1?ie=UTF8&adId=A0547090HRPCBZEBXQ35&url=%2FGodrej-GSC-18-RGN-CWQR%2Fdp%2FB079MDCHZ2%2Fref%3Dsr_1_11_sspa%3Fcrid%3D3HI4YQZMX3EQD%26keywords%3Dwindow%2Ba.c%26qid%3D1659785430%26sprefix%3Dwindow%2Ba.c%252Caps%252C530%26sr%3D8-11-spons%26psc%3D1&qualifier=1659785430&id=1951265962231133&widgetName=sp_mtf#customerReviews',\n",
       " 'https://www.amazon.in/gp/slredirect/picassoRedirect.html/ref=pa_sp_mtf_aps_sr_pg1_1?ie=UTF8&adId=A00296043CGDTC5JCF0YU&url=%2FDaikin-Inverter-Split-Copper-FTKF50TV%2Fdp%2FB07HFK5FSD%2Fref%3Dsr_1_12_sspa%3Fcrid%3D3HI4YQZMX3EQD%26keywords%3Dwindow%2Ba.c%26qid%3D1659785430%26sprefix%3Dwindow%2Ba.c%252Caps%252C530%26sr%3D8-12-spons%26psc%3D1&qualifier=1659785430&id=1951265962231133&widgetName=sp_mtf',\n",
       " 'javascript:void(0)',\n",
       " 'https://www.amazon.in/s?k=window+a.c&crid=3HI4YQZMX3EQD&sprefix=window+a.c%2Caps%2C530&ref=nb_sb_noss_1#',\n",
       " 'https://www.amazon.in/gp/slredirect/picassoRedirect.html/ref=pa_sp_mtf_aps_sr_pg1_1?ie=UTF8&adId=A00296043CGDTC5JCF0YU&url=%2FDaikin-Inverter-Split-Copper-FTKF50TV%2Fdp%2FB07HFK5FSD%2Fref%3Dsr_1_12_sspa%3Fcrid%3D3HI4YQZMX3EQD%26keywords%3Dwindow%2Ba.c%26qid%3D1659785430%26sprefix%3Dwindow%2Ba.c%252Caps%252C530%26sr%3D8-12-spons%26psc%3D1&qualifier=1659785430&id=1951265962231133&widgetName=sp_mtf',\n",
       " 'javascript:void(0)',\n",
       " 'https://www.amazon.in/gp/slredirect/picassoRedirect.html/ref=pa_sp_mtf_aps_sr_pg1_1?ie=UTF8&adId=A00296043CGDTC5JCF0YU&url=%2FDaikin-Inverter-Split-Copper-FTKF50TV%2Fdp%2FB07HFK5FSD%2Fref%3Dsr_1_12_sspa%3Fcrid%3D3HI4YQZMX3EQD%26keywords%3Dwindow%2Ba.c%26qid%3D1659785430%26sprefix%3Dwindow%2Ba.c%252Caps%252C530%26sr%3D8-12-spons%26psc%3D1&qualifier=1659785430&id=1951265962231133&widgetName=sp_mtf#customerReviews',\n",
       " 'https://www.amazon.in/gp/slredirect/picassoRedirect.html/ref=pa_sp_mtf_aps_sr_pg1_1?ie=UTF8&adId=A00296043CGDTC5JCF0YU&url=%2FDaikin-Inverter-Split-Copper-FTKF50TV%2Fdp%2FB07HFK5FSD%2Fref%3Dsr_1_12_sspa%3Fcrid%3D3HI4YQZMX3EQD%26keywords%3Dwindow%2Ba.c%26qid%3D1659785430%26sprefix%3Dwindow%2Ba.c%252Caps%252C530%26sr%3D8-12-spons%26psc%3D1&qualifier=1659785430&id=1951265962231133&widgetName=sp_mtf',\n",
       " 'https://www.amazon.in/Voltas-Window-183CYA-183-CZP/dp/B00NBM4LJ0/ref=sr_1_13?crid=3HI4YQZMX3EQD&keywords=window+a.c&qid=1659785430&sprefix=window+a.c%2Caps%2C530&sr=8-13',\n",
       " 'https://www.amazon.in/Voltas-Window-183CYA-183-CZP/dp/B00NBM4LJ0/ref=sr_1_13?crid=3HI4YQZMX3EQD&keywords=window+a.c&qid=1659785430&sprefix=window+a.c%2Caps%2C530&sr=8-13',\n",
       " 'javascript:void(0)',\n",
       " 'https://www.amazon.in/Voltas-Window-183CYA-183-CZP/dp/B00NBM4LJ0/ref=sr_1_13?crid=3HI4YQZMX3EQD&keywords=window+a.c&qid=1659785430&sprefix=window+a.c%2Caps%2C530&sr=8-13#customerReviews',\n",
       " 'https://www.amazon.in/greatindianfestival',\n",
       " 'https://www.amazon.in/Voltas-Window-183CYA-183-CZP/dp/B00NBM4LJ0/ref=sr_1_13?crid=3HI4YQZMX3EQD&keywords=window+a.c&qid=1659785430&sprefix=window+a.c%2Caps%2C530&sr=8-13',\n",
       " 'https://www.amazon.in/Blue-Star-Window-Copper-WFA312LL/dp/B09RTG11JY/ref=sr_1_14?crid=3HI4YQZMX3EQD&keywords=window+a.c&qid=1659785430&sprefix=window+a.c%2Caps%2C530&sr=8-14',\n",
       " 'https://www.amazon.in/Blue-Star-Window-Copper-WFA312LL/dp/B09RTG11JY/ref=sr_1_14?crid=3HI4YQZMX3EQD&keywords=window+a.c&qid=1659785430&sprefix=window+a.c%2Caps%2C530&sr=8-14',\n",
       " 'javascript:void(0)',\n",
       " 'https://www.amazon.in/Blue-Star-Window-Copper-WFA312LL/dp/B09RTG11JY/ref=sr_1_14?crid=3HI4YQZMX3EQD&keywords=window+a.c&qid=1659785430&sprefix=window+a.c%2Caps%2C530&sr=8-14#customerReviews',\n",
       " 'https://www.amazon.in/Blue-Star-Window-Copper-WFA312LL/dp/B09RTG11JY/ref=sr_1_14?crid=3HI4YQZMX3EQD&keywords=window+a.c&qid=1659785430&sprefix=window+a.c%2Caps%2C530&sr=8-14',\n",
       " 'https://www.amazon.in/Havells-Lloyd-Window-GLW12B3YWSEW-Copper/dp/B09SGMJD2P/ref=sr_1_15?crid=3HI4YQZMX3EQD&keywords=window+a.c&qid=1659785430&sprefix=window+a.c%2Caps%2C530&sr=8-15',\n",
       " 'https://www.amazon.in/Havells-Lloyd-Window-GLW12B3YWSEW-Copper/dp/B09SGMJD2P/ref=sr_1_15?crid=3HI4YQZMX3EQD&keywords=window+a.c&qid=1659785430&sprefix=window+a.c%2Caps%2C530&sr=8-15',\n",
       " 'javascript:void(0)',\n",
       " 'https://www.amazon.in/Havells-Lloyd-Window-GLW12B3YWSEW-Copper/dp/B09SGMJD2P/ref=sr_1_15?crid=3HI4YQZMX3EQD&keywords=window+a.c&qid=1659785430&sprefix=window+a.c%2Caps%2C530&sr=8-15#customerReviews',\n",
       " 'https://www.amazon.in/Havells-Lloyd-Window-GLW12B3YWSEW-Copper/dp/B09SGMJD2P/ref=sr_1_15?crid=3HI4YQZMX3EQD&keywords=window+a.c&qid=1659785430&sprefix=window+a.c%2Caps%2C530&sr=8-15',\n",
       " 'https://www.amazon.in/Voltas-Star-Window-Copper-White/dp/B09WVQR375/ref=sr_1_16?crid=3HI4YQZMX3EQD&keywords=window+a.c&qid=1659785430&sprefix=window+a.c%2Caps%2C530&sr=8-16',\n",
       " 'https://www.amazon.in/Voltas-Star-Window-Copper-White/dp/B09WVQR375/ref=sr_1_16?crid=3HI4YQZMX3EQD&keywords=window+a.c&qid=1659785430&sprefix=window+a.c%2Caps%2C530&sr=8-16',\n",
       " 'javascript:void(0)',\n",
       " 'https://www.amazon.in/Voltas-Star-Window-Copper-White/dp/B09WVQR375/ref=sr_1_16?crid=3HI4YQZMX3EQD&keywords=window+a.c&qid=1659785430&sprefix=window+a.c%2Caps%2C530&sr=8-16#customerReviews',\n",
       " 'https://www.amazon.in/Voltas-Star-Window-Copper-White/dp/B09WVQR375/ref=sr_1_16?crid=3HI4YQZMX3EQD&keywords=window+a.c&qid=1659785430&sprefix=window+a.c%2Caps%2C530&sr=8-16',\n",
       " 'https://www.amazon.in/Panasonic-Window-Copper-Filter-CW-LN182AM/dp/B09RPFQ8Z5/ref=sr_1_17?crid=3HI4YQZMX3EQD&keywords=window+a.c&qid=1659785430&sprefix=window+a.c%2Caps%2C530&sr=8-17',\n",
       " 'https://www.amazon.in/Panasonic-Window-Copper-Filter-CW-LN182AM/dp/B09RPFQ8Z5/ref=sr_1_17?crid=3HI4YQZMX3EQD&keywords=window+a.c&qid=1659785430&sprefix=window+a.c%2Caps%2C530&sr=8-17',\n",
       " 'javascript:void(0)',\n",
       " 'https://www.amazon.in/Panasonic-Window-Copper-Filter-CW-LN182AM/dp/B09RPFQ8Z5/ref=sr_1_17?crid=3HI4YQZMX3EQD&keywords=window+a.c&qid=1659785430&sprefix=window+a.c%2Caps%2C530&sr=8-17#customerReviews',\n",
       " 'https://www.amazon.in/greatindianfestival',\n",
       " 'https://www.amazon.in/Panasonic-Window-Copper-Filter-CW-LN182AM/dp/B09RPFQ8Z5/ref=sr_1_17?crid=3HI4YQZMX3EQD&keywords=window+a.c&qid=1659785430&sprefix=window+a.c%2Caps%2C530&sr=8-17',\n",
       " 'https://www.amazon.in/Blue-Star-Portable-Copper-PC12DB/dp/B07W6NX7BJ/ref=sr_1_18?crid=3HI4YQZMX3EQD&keywords=window+a.c&qid=1659785430&sprefix=window+a.c%2Caps%2C530&sr=8-18',\n",
       " 'https://www.amazon.in/Blue-Star-Portable-Copper-PC12DB/dp/B07W6NX7BJ/ref=sr_1_18?crid=3HI4YQZMX3EQD&keywords=window+a.c&qid=1659785430&sprefix=window+a.c%2Caps%2C530&sr=8-18',\n",
       " 'javascript:void(0)',\n",
       " 'https://www.amazon.in/Blue-Star-Portable-Copper-PC12DB/dp/B07W6NX7BJ/ref=sr_1_18?crid=3HI4YQZMX3EQD&keywords=window+a.c&qid=1659785430&sprefix=window+a.c%2Caps%2C530&sr=8-18#customerReviews',\n",
       " 'https://www.amazon.in/Voltas-Window-173-DZA-regular/dp/B08SWDZT17/ref=sr_1_19?crid=3HI4YQZMX3EQD&keywords=window+a.c&qid=1659785430&sprefix=window+a.c%2Caps%2C530&sr=8-19',\n",
       " 'https://www.amazon.in/Voltas-Window-173-DZA-regular/dp/B08SWDZT17/ref=sr_1_19?crid=3HI4YQZMX3EQD&keywords=window+a.c&qid=1659785430&sprefix=window+a.c%2Caps%2C530&sr=8-19',\n",
       " 'javascript:void(0)',\n",
       " 'https://www.amazon.in/Voltas-Window-173-DZA-regular/dp/B08SWDZT17/ref=sr_1_19?crid=3HI4YQZMX3EQD&keywords=window+a.c&qid=1659785430&sprefix=window+a.c%2Caps%2C530&sr=8-19#customerReviews',\n",
       " 'https://www.amazon.in/Blue-Star-Inverter-Window-WIA418LL/dp/B09RTGCQ2R/ref=sr_1_20?crid=3HI4YQZMX3EQD&keywords=window+a.c&qid=1659785430&sprefix=window+a.c%2Caps%2C530&sr=8-20',\n",
       " 'https://www.amazon.in/Blue-Star-Inverter-Window-WIA418LL/dp/B09RTGCQ2R/ref=sr_1_20?crid=3HI4YQZMX3EQD&keywords=window+a.c&qid=1659785430&sprefix=window+a.c%2Caps%2C530&sr=8-20',\n",
       " 'javascript:void(0)',\n",
       " 'https://www.amazon.in/Blue-Star-Inverter-Window-WIA418LL/dp/B09RTGCQ2R/ref=sr_1_20?crid=3HI4YQZMX3EQD&keywords=window+a.c&qid=1659785430&sprefix=window+a.c%2Caps%2C530&sr=8-20#customerReviews',\n",
       " 'https://www.amazon.in/Blue-Star-Inverter-Window-WIA418LL/dp/B09RTGCQ2R/ref=sr_1_20?crid=3HI4YQZMX3EQD&keywords=window+a.c&qid=1659785430&sprefix=window+a.c%2Caps%2C530&sr=8-20',\n",
       " 'https://www.amazon.in/gp/slredirect/picassoRedirect.html/ref=pa_sp_btf_aps_sr_pg1_1?ie=UTF8&adId=A00298484V2J4OMS771I&url=%2FDaikin-Inverter-Split-Copper-JTKJ50TV%2Fdp%2FB07HFFRC3V%2Fref%3Dsr_1_21_sspa%3Fcrid%3D3HI4YQZMX3EQD%26keywords%3Dwindow%2Ba.c%26qid%3D1659785430%26sprefix%3Dwindow%2Ba.c%252Caps%252C530%26sr%3D8-21-spons%26psc%3D1&qualifier=1659785430&id=1951265962231133&widgetName=sp_btf',\n",
       " 'javascript:void(0)',\n",
       " 'https://www.amazon.in/s?k=window+a.c&crid=3HI4YQZMX3EQD&sprefix=window+a.c%2Caps%2C530&ref=nb_sb_noss_1#',\n",
       " 'https://www.amazon.in/gp/slredirect/picassoRedirect.html/ref=pa_sp_btf_aps_sr_pg1_1?ie=UTF8&adId=A00298484V2J4OMS771I&url=%2FDaikin-Inverter-Split-Copper-JTKJ50TV%2Fdp%2FB07HFFRC3V%2Fref%3Dsr_1_21_sspa%3Fcrid%3D3HI4YQZMX3EQD%26keywords%3Dwindow%2Ba.c%26qid%3D1659785430%26sprefix%3Dwindow%2Ba.c%252Caps%252C530%26sr%3D8-21-spons%26psc%3D1&qualifier=1659785430&id=1951265962231133&widgetName=sp_btf',\n",
       " 'javascript:void(0)',\n",
       " 'https://www.amazon.in/gp/slredirect/picassoRedirect.html/ref=pa_sp_btf_aps_sr_pg1_1?ie=UTF8&adId=A00298484V2J4OMS771I&url=%2FDaikin-Inverter-Split-Copper-JTKJ50TV%2Fdp%2FB07HFFRC3V%2Fref%3Dsr_1_21_sspa%3Fcrid%3D3HI4YQZMX3EQD%26keywords%3Dwindow%2Ba.c%26qid%3D1659785430%26sprefix%3Dwindow%2Ba.c%252Caps%252C530%26sr%3D8-21-spons%26psc%3D1&qualifier=1659785430&id=1951265962231133&widgetName=sp_btf#customerReviews',\n",
       " 'https://www.amazon.in/gp/slredirect/picassoRedirect.html/ref=pa_sp_btf_aps_sr_pg1_1?ie=UTF8&adId=A00298484V2J4OMS771I&url=%2FDaikin-Inverter-Split-Copper-JTKJ50TV%2Fdp%2FB07HFFRC3V%2Fref%3Dsr_1_21_sspa%3Fcrid%3D3HI4YQZMX3EQD%26keywords%3Dwindow%2Ba.c%26qid%3D1659785430%26sprefix%3Dwindow%2Ba.c%252Caps%252C530%26sr%3D8-21-spons%26psc%3D1&qualifier=1659785430&id=1951265962231133&widgetName=sp_btf',\n",
       " 'https://www.amazon.in/s?k=window+a.c&page=2&crid=3HI4YQZMX3EQD&qid=1659785430&sprefix=window+a.c%2Caps%2C530&ref=sr_pg_2',\n",
       " 'https://www.amazon.in/s?k=window+a.c&page=3&crid=3HI4YQZMX3EQD&qid=1659785430&sprefix=window+a.c%2Caps%2C530&ref=sr_pg_3',\n",
       " 'https://www.amazon.in/s?k=window+a.c&page=2&crid=3HI4YQZMX3EQD&qid=1659785430&sprefix=window+a.c%2Caps%2C530&ref=sr_pg_1',\n",
       " 'https://www.amazon.in/gp/help/customer/display.html?nodeId=200533820',\n",
       " 'https://www.amazon.in/gp/help/customer/contact-us',\n",
       " 'https://www.amazon.in/s?k=window+a.c&crid=3HI4YQZMX3EQD&sprefix=window+a.c%2Caps%2C530&ref=nb_sb_noss_1#',\n",
       " 'https://www.amazon.in/s?k=window+a.c&crid=3HI4YQZMX3EQD&sprefix=window+a.c%2Caps%2C530&ref=nb_sb_noss_1#s-skipLinkTargetForFilterOptions',\n",
       " 'https://www.amazon.in/s?k=window+a.c&crid=3HI4YQZMX3EQD&sprefix=window+a.c%2Caps%2C530&ref=nb_sb_noss_1#s-skipLinkTargetForMainSearchResults',\n",
       " 'https://www.amazon.in/s?k=window+a.c&rh=n%3A1380263031&dc&crid=3HI4YQZMX3EQD&qid=1659785430&rnid=3576079031&sprefix=window+a.c%2Caps%2C530&ref=sr_nr_n_1&ds=v1%3AFYGbrBoYX9B79ukyL%2F9KS28loj%2BLqIt3YqrS35g%2F2Ws',\n",
       " 'https://www.amazon.in/s?k=window+a.c&rh=n%3A1380263031%2Cn%3A3474656031&dc&crid=3HI4YQZMX3EQD&qid=1659785430&rnid=3576079031&sprefix=window+a.c%2Caps%2C530&ref=sr_nr_n_2&ds=v1%3AjChBJYPrpImvHYoW96U7vf%2BRkFeD0QBVf%2FXUoJNoSkc',\n",
       " 'https://www.amazon.in/s?k=window+a.c&i=kitchen&dc&crid=3HI4YQZMX3EQD&qid=1659785430&sprefix=window+a.c%2Caps%2C530&ref=sr_nr_i_3&ds=v1%3ActoJuMJaIr7AQ9H4LhhEGbJMRdEKocHvuqCXRPnEhOw',\n",
       " 'https://www.amazon.in/s?k=window+a.c&i=appliances&dc&crid=3HI4YQZMX3EQD&qid=1659785430&sprefix=window+a.c%2Caps%2C530&ref=sr_nr_i_4&ds=v1%3Av92W1B269rohZ7m5xr5GekZU8fAO%2FRh3s2FUngww1Ns',\n",
       " 'https://www.amazon.in/s?k=window+a.c&i=automotive&dc&crid=3HI4YQZMX3EQD&qid=1659785430&sprefix=window+a.c%2Caps%2C530&ref=sr_nr_i_5&ds=v1%3AVQXig9nZdMkxTUTDwnnNimjyokCvvnywsFKucwCkq6Q',\n",
       " 'https://www.amazon.in/s?k=window+a.c&i=home-improvement&dc&crid=3HI4YQZMX3EQD&qid=1659785430&sprefix=window+a.c%2Caps%2C530&ref=sr_nr_i_6&ds=v1%3AUhLEvUWtTdZlcup3NR%2BiZxqs%2FGXug56vU9mMTn9gwrg',\n",
       " 'https://www.amazon.in/s?k=window+a.c&i=hpc&dc&crid=3HI4YQZMX3EQD&qid=1659785430&sprefix=window+a.c%2Caps%2C530&ref=sr_nr_i_7&ds=v1%3AU%2BzMIa3huEOVJzjLUn0vj5y5ntdHwRYR8nSqETlQ%2BIM',\n",
       " 'https://www.amazon.in/s?k=window+a.c&i=computers&dc&crid=3HI4YQZMX3EQD&qid=1659785430&sprefix=window+a.c%2Caps%2C530&ref=sr_nr_i_8&ds=v1%3AGJgXluO6VSQWPrzzZ0GKlZvcbcBBzy1%2Bml1E7vChhRg',\n",
       " 'https://www.amazon.in/s?k=window+a.c&i=electronics&dc&crid=3HI4YQZMX3EQD&qid=1659785430&sprefix=window+a.c%2Caps%2C530&ref=sr_nr_i_9&ds=v1%3AwOpD2GoUpmFARGOGT5WqXZjYsR3l%2F7OqcDSdMBDyZmM',\n",
       " 'javascript:void(0)',\n",
       " 'https://www.amazon.in/s?k=window+a.c&rh=p_72%3A1318476031&dc&crid=3HI4YQZMX3EQD&qid=1659785430&rnid=1318475031&sprefix=window+a.c%2Caps%2C530&ref=sr_nr_p_72_1&ds=v1%3AWCnHMBEi1RTbbvAxp2QzQVPCg%2BbOzwwIsgkC3pTTfA4',\n",
       " 'https://www.amazon.in/s?k=window+a.c&rh=p_72%3A1318477031&dc&crid=3HI4YQZMX3EQD&qid=1659785430&rnid=1318475031&sprefix=window+a.c%2Caps%2C530&ref=sr_nr_p_72_2&ds=v1%3AEEyJTN865nsPxSP3nm8ogNoqOZyf1CB%2BCG3fWRiq7HE',\n",
       " 'https://www.amazon.in/s?k=window+a.c&rh=p_72%3A1318478031&dc&crid=3HI4YQZMX3EQD&qid=1659785430&rnid=1318475031&sprefix=window+a.c%2Caps%2C530&ref=sr_nr_p_72_3&ds=v1%3Ah1iTaLxseozZ6BP9Arhr%2Bv1MVJ8jvh4ocFNVeJiPiu4',\n",
       " 'https://www.amazon.in/s?k=window+a.c&rh=p_72%3A1318479031&dc&crid=3HI4YQZMX3EQD&qid=1659785430&rnid=1318475031&sprefix=window+a.c%2Caps%2C530&ref=sr_nr_p_72_4&ds=v1%3A7f%2Fvi1FahQD5fSn8gunVeVbmCRHTtOc0eOBhkBUNA74',\n",
       " 'https://www.amazon.in/s?k=window+a.c&rh=n%3A3474656031%2Cp_89%3AVoltas&dc&crid=3HI4YQZMX3EQD&qid=1659785430&rnid=3837712031&sprefix=window+a.c%2Caps%2C530&ref=sr_nr_p_89_1&ds=v1%3AWZZr2J5sVFNX2bsSZ2OOa4AmZ0xkKX9MdV9wE%2FPSN%2Bs',\n",
       " 'https://www.amazon.in/s?k=window+a.c&rh=n%3A3474656031%2Cp_89%3ASamsung&dc&crid=3HI4YQZMX3EQD&qid=1659785430&rnid=3837712031&sprefix=window+a.c%2Caps%2C530&ref=sr_nr_p_89_2&ds=v1%3Aa%2FPdChgZtFxvRD1W1bpQGZLXvr%2BBUepCMZHLNQYv62k',\n",
       " 'https://www.amazon.in/s?k=window+a.c&rh=n%3A3474656031%2Cp_89%3ABlue+Star&dc&crid=3HI4YQZMX3EQD&qid=1659785430&rnid=3837712031&sprefix=window+a.c%2Caps%2C530&ref=sr_nr_p_89_3&ds=v1%3AH7mjl7eOIMKgCNl3PqUJTPn%2B4VVsOVkSmrZvl%2FiX5MM',\n",
       " 'https://www.amazon.in/s?k=window+a.c&rh=n%3A3474656031%2Cp_89%3ALG&dc&crid=3HI4YQZMX3EQD&qid=1659785430&rnid=3837712031&sprefix=window+a.c%2Caps%2C530&ref=sr_nr_p_89_4&ds=v1%3AJSVVwhVuOLyOmhaBkkZjtrZu3SeqWuwrfes0CTVbNHM',\n",
       " 'https://www.amazon.in/s?k=window+a.c&rh=n%3A3474656031%2Cp_89%3AGeneric&dc&crid=3HI4YQZMX3EQD&qid=1659785430&rnid=3837712031&sprefix=window+a.c%2Caps%2C530&ref=sr_nr_p_89_5&ds=v1%3AfgItsjdtKEc8neZZqxgMG%2BJybG5ftB2MtgH1epT5XWM',\n",
       " 'https://www.amazon.in/s?k=window+a.c&rh=n%3A3474656031%2Cp_89%3ACarrier&dc&crid=3HI4YQZMX3EQD&qid=1659785430&rnid=3837712031&sprefix=window+a.c%2Caps%2C530&ref=sr_nr_p_89_6&ds=v1%3ApQy61wWHEnNrsUkREXvVU20WnZe2abl9BCXQEmmq4H8',\n",
       " 'https://www.amazon.in/s?k=window+a.c&rh=p_n_is_cod_eligible%3A4931671031&dc&crid=3HI4YQZMX3EQD&qid=1659785430&rnid=4931670031&sprefix=window+a.c%2Caps%2C530&ref=sr_nr_p_n_is_cod_eligible_1&ds=v1%3A%2FrfRIVeG7PYLIvqLqHM1lhF%2Bh%2B9YmpPF3RBlACeLdio',\n",
       " 'https://www.amazon.in/s?k=window+a.c&rh=n%3A3474656031%2Cp_n_format_browse-bin%3A13462099031&dc&crid=3HI4YQZMX3EQD&qid=1659785430&rnid=13462098031&sprefix=window+a.c%2Caps%2C530&ref=sr_nr_p_n_format_browse-bin_1&ds=v1%3AIEd%2B%2FG0s4ABuc7QwJ8pzGS9UjIIk7xRzOGzwGZn%2FJww',\n",
       " 'https://www.amazon.in/s?k=window+a.c&rh=n%3A3474656031%2Cp_n_feature_thirteen_browse-bin%3A2753050031&dc&crid=3HI4YQZMX3EQD&qid=1659785430&rnid=2753046031&sprefix=window+a.c%2Caps%2C530&ref=sr_nr_p_n_feature_thirteen_browse-bin_1&ds=v1%3A3xUQ9hcgC%2FfS6yC5obuA22lY5val%2BLuU4CyQhjFdcqM',\n",
       " 'https://www.amazon.in/s?k=window+a.c&rh=n%3A3474656031%2Cp_n_feature_thirteen_browse-bin%3A2753048031&dc&crid=3HI4YQZMX3EQD&qid=1659785430&rnid=2753046031&sprefix=window+a.c%2Caps%2C530&ref=sr_nr_p_n_feature_thirteen_browse-bin_2&ds=v1%3AfK953%2FuVx5fCSaFX7VtO14FDMF3kX0R7BaubmSjczzU',\n",
       " 'https://www.amazon.in/s?k=window+a.c&rh=n%3A3474656031%2Cp_n_feature_thirteen_browse-bin%3A2753047031&dc&crid=3HI4YQZMX3EQD&qid=1659785430&rnid=2753046031&sprefix=window+a.c%2Caps%2C530&ref=sr_nr_p_n_feature_thirteen_browse-bin_3&ds=v1%3Ai0PCJytTl0kUhzGOAGLwf9jGVnd20RdbLTp44OmXY4c',\n",
       " 'https://www.amazon.in/s?k=window+a.c&rh=n%3A3474656031%2Cp_n_feature_four_browse-bin%3A13678226031&dc&crid=3HI4YQZMX3EQD&qid=1659785430&rnid=13678225031&sprefix=window+a.c%2Caps%2C530&ref=sr_nr_p_n_feature_four_browse-bin_1&ds=v1%3AM61xvlG8UmHOzXnDzOic1JTurKNXiQ2TqZTtI8aVdDI',\n",
       " 'https://www.amazon.in/s?k=window+a.c&rh=n%3A3474656031%2Cp_n_feature_four_browse-bin%3A13678227031&dc&crid=3HI4YQZMX3EQD&qid=1659785430&rnid=13678225031&sprefix=window+a.c%2Caps%2C530&ref=sr_nr_p_n_feature_four_browse-bin_2&ds=v1%3An4kQnYvwnit21bp1lnYGU%2BDhHLS2erKzHHWwDQKo1QI',\n",
       " 'https://www.amazon.in/s?k=window+a.c&rh=n%3A3474656031%2Cp_n_feature_four_browse-bin%3A13678228031&dc&crid=3HI4YQZMX3EQD&qid=1659785430&rnid=13678225031&sprefix=window+a.c%2Caps%2C530&ref=sr_nr_p_n_feature_four_browse-bin_3&ds=v1%3ARjGWJe%2B4DdDCsevNoba%2BlM9BhkyraUfZ%2BFRbbw8kjv4',\n",
       " 'https://www.amazon.in/s?k=window+a.c&rh=n%3A3474656031%2Cp_n_feature_six_browse-bin%3A28237228031&dc&crid=3HI4YQZMX3EQD&qid=1659785430&rnid=28237207031&sprefix=window+a.c%2Caps%2C530&ref=sr_nr_p_n_feature_six_browse-bin_1&ds=v1%3Atk9YgzAXE%2BhUHOzMm7z6ZeGEqidsc3IuJve1sA9avxk',\n",
       " 'https://www.amazon.in/s?k=window+a.c&rh=n%3A3474656031%2Cp_n_feature_six_browse-bin%3A28237221031&dc&crid=3HI4YQZMX3EQD&qid=1659785430&rnid=28237207031&sprefix=window+a.c%2Caps%2C530&ref=sr_nr_p_n_feature_six_browse-bin_2&ds=v1%3AfMdiVw%2F61KeM9%2B9X80c6FYDs02tqvr9DNA8N02NlqAw',\n",
       " 'https://www.amazon.in/s?k=window+a.c&rh=n%3A3474656031%2Cp_n_feature_six_browse-bin%3A28237217031&dc&crid=3HI4YQZMX3EQD&qid=1659785430&rnid=28237207031&sprefix=window+a.c%2Caps%2C530&ref=sr_nr_p_n_feature_six_browse-bin_3&ds=v1%3At5%2FrBm6C0nk97Z9QDbzgtvfYpqBuYyKOlsHtWQyKcWE',\n",
       " 'https://www.amazon.in/s?k=window+a.c&rh=n%3A3474656031%2Cp_n_feature_six_browse-bin%3A28237229031&dc&crid=3HI4YQZMX3EQD&qid=1659785430&rnid=28237207031&sprefix=window+a.c%2Caps%2C530&ref=sr_nr_p_n_feature_six_browse-bin_4&ds=v1%3AEtKUt4OCAJXH7%2B2KnzeSxOIY6QA4rpEzVlPIG7cSVU4',\n",
       " 'https://www.amazon.in/s?k=window+a.c&rh=n%3A3474656031%2Cp_n_feature_six_browse-bin%3A28237225031&dc&crid=3HI4YQZMX3EQD&qid=1659785430&rnid=28237207031&sprefix=window+a.c%2Caps%2C530&ref=sr_nr_p_n_feature_six_browse-bin_5&ds=v1%3AMHGHa%2BVQYqpy0BYsM5X4SB%2BYpoikMf%2BrqesIzAWQWWI',\n",
       " 'https://www.amazon.in/s?k=window+a.c&rh=n%3A3474656031%2Cp_n_feature_six_browse-bin%3A28237222031&dc&crid=3HI4YQZMX3EQD&qid=1659785430&rnid=28237207031&sprefix=window+a.c%2Caps%2C530&ref=sr_nr_p_n_feature_six_browse-bin_6&ds=v1%3A6iKE5b7jEOId7LfOHJGL5%2BH4%2BVriZi57y3W4f4ZhulY',\n",
       " 'https://www.amazon.in/s?k=window+a.c&rh=n%3A3474656031%2Cp_n_feature_six_browse-bin%3A28237218031&dc&crid=3HI4YQZMX3EQD&qid=1659785430&rnid=28237207031&sprefix=window+a.c%2Caps%2C530&ref=sr_nr_p_n_feature_six_browse-bin_7&ds=v1%3AqOBN25cx6F%2FX8WprTan5AEJ9PIOkgGN0z3BZ8OMXt2E',\n",
       " 'https://www.amazon.in/s?k=window+a.c&rh=n%3A3474656031%2Cp_n_feature_eleven_browse-bin%3A2753097031&dc&crid=3HI4YQZMX3EQD&qid=1659785430&rnid=2753095031&sprefix=window+a.c%2Caps%2C530&ref=sr_nr_p_n_feature_eleven_browse-bin_1&ds=v1%3AFHRFYwBzf1cqFU3CpBaxncki%2FFCkrbCiq1ROlMHQzr0',\n",
       " 'https://www.amazon.in/s?k=window+a.c&rh=n%3A3474656031%2Cp_n_feature_eleven_browse-bin%3A2753098031&dc&crid=3HI4YQZMX3EQD&qid=1659785430&rnid=2753095031&sprefix=window+a.c%2Caps%2C530&ref=sr_nr_p_n_feature_eleven_browse-bin_2&ds=v1%3ASGOiV7XnQI5Mg99gwU3VGsxqkDw0rV6oQTRLDfPul70',\n",
       " 'https://www.amazon.in/s?k=window+a.c&rh=n%3A3474656031%2Cp_n_feature_eleven_browse-bin%3A2753100031&dc&crid=3HI4YQZMX3EQD&qid=1659785430&rnid=2753095031&sprefix=window+a.c%2Caps%2C530&ref=sr_nr_p_n_feature_eleven_browse-bin_3&ds=v1%3A1OjjdVQ0PCMAwLxkEPWZmega74CQ4DJjO7HzHHnWqF8',\n",
       " 'https://www.amazon.in/s?k=window+a.c&rh=n%3A3474656031%2Cp_n_feature_two_browse-bin%3A12440953031&dc&crid=3HI4YQZMX3EQD&qid=1659785430&rnid=12440951031&sprefix=window+a.c%2Caps%2C530&ref=sr_nr_p_n_feature_two_browse-bin_1&ds=v1%3AW6q4X8gigmD2LNrX9lxkqymso1tj2DyYhITkp8ylDrM',\n",
       " 'https://www.amazon.in/s?k=window+a.c&rh=n%3A3474656031%2Cp_n_feature_three_browse-bin%3A16279412031&dc&crid=3HI4YQZMX3EQD&qid=1659785430&rnid=16279411031&sprefix=window+a.c%2Caps%2C530&ref=sr_nr_p_n_feature_three_browse-bin_1&ds=v1%3A3%2Bue81iqCVfZxRg4zmsafksN0tIt8C3cMHGIXkBY9L8',\n",
       " 'https://www.amazon.in/s?k=window+a.c&rh=n%3A3474656031%2Cp_n_feature_three_browse-bin%3A16279415031&dc&crid=3HI4YQZMX3EQD&qid=1659785430&rnid=16279411031&sprefix=window+a.c%2Caps%2C530&ref=sr_nr_p_n_feature_three_browse-bin_2&ds=v1%3A9Mi3wEMCaDkB8fS6b8sWnYF9UjGtPi55ZvgqfDU9%2BAE',\n",
       " 'https://www.amazon.in/s?k=window+a.c&rh=n%3A3474656031%2Cp_n_feature_three_browse-bin%3A16279413031&dc&crid=3HI4YQZMX3EQD&qid=1659785430&rnid=16279411031&sprefix=window+a.c%2Caps%2C530&ref=sr_nr_p_n_feature_three_browse-bin_3&ds=v1%3A9gYmubiBzBHQ9PSPlq9KpsGbTiC7r40%2FzLz%2BQXaWnW4',\n",
       " 'https://www.amazon.in/s?k=window+a.c&rh=n%3A3474656031%2Cp_n_size_two_browse-vebin%3A1480416031&dc&crid=3HI4YQZMX3EQD&qid=1659785430&rnid=1480399031&sprefix=window+a.c%2Caps%2C530&ref=sr_nr_p_n_size_two_browse-vebin_1&ds=v1%3AiJgqbXGDYQKCxGTVtMyB7d9JRRjIqdzCWS95tNtsaBc',\n",
       " 'https://www.amazon.in/s?k=window+a.c&rh=n%3A3474656031%2Cp_n_size_two_browse-vebin%3A1480403031&dc&crid=3HI4YQZMX3EQD&qid=1659785430&rnid=1480399031&sprefix=window+a.c%2Caps%2C530&ref=sr_nr_p_n_size_two_browse-vebin_2&ds=v1%3AqcwqG1XuxqzP3iaPJmKpJYgaxPsdRruTzbRcWzlov%2BE',\n",
       " 'https://www.amazon.in/s?k=window+a.c&rh=n%3A3474656031%2Cp_n_size_two_browse-vebin%3A1480411031&dc&crid=3HI4YQZMX3EQD&qid=1659785430&rnid=1480399031&sprefix=window+a.c%2Caps%2C530&ref=sr_nr_p_n_size_two_browse-vebin_3&ds=v1%3AwzWJRhRWLTW78QThYcVTRU76IUeuW4sSvO3hSLZdYLo',\n",
       " 'https://www.amazon.in/s?k=window+a.c&rh=n%3A3474656031%2Cp_n_size_two_browse-vebin%3A1480405031&dc&crid=3HI4YQZMX3EQD&qid=1659785430&rnid=1480399031&sprefix=window+a.c%2Caps%2C530&ref=sr_nr_p_n_size_two_browse-vebin_4&ds=v1%3ALSYIkfGxQWWq3TvPGRisRRsFhty%2BKj0Ev9Yx1yxuHB4',\n",
       " 'https://www.amazon.in/s?k=window+a.c&rh=n%3A3474656031%2Cp_n_feature_five_browse-bin%3A28237212031&dc&crid=3HI4YQZMX3EQD&qid=1659785430&rnid=28237206031&sprefix=window+a.c%2Caps%2C530&ref=sr_nr_p_n_feature_five_browse-bin_1&ds=v1%3AzmIt88CxuZ5O%2Fj8bQ1qWEW0EAxIPENVe8kiTuUVPQ3g',\n",
       " 'https://www.amazon.in/s?k=window+a.c&rh=n%3A3474656031%2Cp_n_feature_five_browse-bin%3A28237215031&dc&crid=3HI4YQZMX3EQD&qid=1659785430&rnid=28237206031&sprefix=window+a.c%2Caps%2C530&ref=sr_nr_p_n_feature_five_browse-bin_2&ds=v1%3AN7SNbywpjltimnomB76SKTHrwE5Bb3NYe%2BqCVPE6mbM',\n",
       " 'https://www.amazon.in/s?k=window+a.c&rh=n%3A3474656031%2Cp_n_feature_five_browse-bin%3A28237214031&dc&crid=3HI4YQZMX3EQD&qid=1659785430&rnid=28237206031&sprefix=window+a.c%2Caps%2C530&ref=sr_nr_p_n_feature_five_browse-bin_3&ds=v1%3ARw8dSEiG0QvKvXUnzabDNkPqHq%2B0%2Bxq7uIZyDW362qI',\n",
       " 'https://www.amazon.in/s?k=window+a.c&rh=n%3A976442031%2Cp_n_condition-type%3A8609960031&dc&crid=3HI4YQZMX3EQD&qid=1659785430&rnid=8609959031&sprefix=window+a.c%2Caps%2C530&ref=sr_nr_p_n_condition-type_1&ds=v1%3AZ76I%2BUwvuOjP9T5tQ8yy9Q8J6A4drEO22zptQ1cuQ%2FE',\n",
       " 'https://www.amazon.in/s?k=window+a.c&rh=n%3A976442031%2Cp_n_pct-off-with-tax%3A2665399031&dc&crid=3HI4YQZMX3EQD&qid=1659785430&rnid=2665398031&sprefix=window+a.c%2Caps%2C530&ref=sr_nr_p_n_pct-off-with-tax_1&ds=v1%3AMRImUdnJZSHqRSjxuoZJ4p8IkUr6a%2BeajksZxobwm0g',\n",
       " 'https://www.amazon.in/s?k=window+a.c&rh=n%3A976442031%2Cp_n_pct-off-with-tax%3A2665400031&dc&crid=3HI4YQZMX3EQD&qid=1659785430&rnid=2665398031&sprefix=window+a.c%2Caps%2C530&ref=sr_nr_p_n_pct-off-with-tax_2&ds=v1%3A74pMEzC9D%2FIWTNix9beP8tIWvHJr8NmD4vHa1x%2BTgBE',\n",
       " 'https://www.amazon.in/s?k=window+a.c&rh=n%3A976442031%2Cp_n_pct-off-with-tax%3A2665402031&dc&crid=3HI4YQZMX3EQD&qid=1659785430&rnid=2665398031&sprefix=window+a.c%2Caps%2C530&ref=sr_nr_p_n_pct-off-with-tax_3&ds=v1%3Av5VxGtBflg4XguwV6bfwRkUvSjEWY0JGbvuAQyzfFf8',\n",
       " 'https://www.amazon.in/s?k=window+a.c&rh=n%3A976442031%2Cp_n_pct-off-with-tax%3A2665401031&dc&crid=3HI4YQZMX3EQD&qid=1659785430&rnid=2665398031&sprefix=window+a.c%2Caps%2C530&ref=sr_nr_p_n_pct-off-with-tax_4&ds=v1%3AoWMwx04w9Lygf%2BYtQbJzcPxfJSfhtaRJpKt99so3sSA',\n",
       " 'https://www.amazon.in/s?k=window+a.c&rh=n%3A976442031%2Cp_n_pct-off-with-tax%3A27060456031&dc&crid=3HI4YQZMX3EQD&qid=1659785430&rnid=2665398031&sprefix=window+a.c%2Caps%2C530&ref=sr_nr_p_n_pct-off-with-tax_5&ds=v1%3AvmOTifbGv%2BtNZ8ePqJjaLf12ccsHTJRnmrpCGPZg06c',\n",
       " 'https://www.amazon.in/s?k=window+a.c&rh=n%3A976442031%2Cp_n_pct-off-with-tax%3A27060457031&dc&crid=3HI4YQZMX3EQD&qid=1659785430&rnid=2665398031&sprefix=window+a.c%2Caps%2C530&ref=sr_nr_p_n_pct-off-with-tax_6&ds=v1%3APVZ36WnxKQ5zpeoUyFp2wlHUJcVr6FNoENyNf8ZZQ4Y',\n",
       " 'https://www.amazon.in/s?k=window+a.c&rh=p_n_availability%3A1318485031&dc&crid=3HI4YQZMX3EQD&qid=1659785430&rnid=1318483031&sprefix=window+a.c%2Caps%2C530&ref=sr_nr_p_n_availability_2&ds=v1%3AuU3L22fr6P6%2Fayd49qXp20FJgFS4454nMumuH1B0n3s',\n",
       " 'https://www.amazon.in/s?k=window+a.c&crid=3HI4YQZMX3EQD&sprefix=window+a.c%2Caps%2C530&ref=nb_sb_noss_1#',\n",
       " 'https://www.amazon.in/gp/history',\n",
       " 'https://www.amazon.in/s?k=window+a.c&crid=3HI4YQZMX3EQD&sprefix=window+a.c%2Caps%2C530&ref=nb_sb_noss_1#nav-top',\n",
       " 'https://www.aboutamazon.in/?utm_source=gateway&utm_medium=footer',\n",
       " 'https://amazon.jobs/',\n",
       " 'https://press.aboutamazon.in/?utm_source=gateway&utm_medium=footer',\n",
       " 'https://www.amazon.in/gp/browse.html?node=8872558031&ref_=footer_cares',\n",
       " 'https://www.amazon.in/gp/browse.html?node=4594605031&ref_=footer_smile',\n",
       " 'https://www.amazon.science/',\n",
       " 'https://www.amazon.in/gp/redirect.html/ref=footer_fb?location=http://www.facebook.com/AmazonIN&token=2075D5EAC7BB214089728E2183FD391706D41E94&6',\n",
       " 'https://www.amazon.in/gp/redirect.html/ref=footer_twitter?location=http://twitter.com/AmazonIN&token=A309DFBFCB1E37A808FF531934855DC817F130B6&6',\n",
       " 'https://www.amazon.in/gp/redirect.html?location=https://www.instagram.com/amazondotin&token=264882C912E9D005CB1D9B61F12E125D5DF9BFC7&source=standards',\n",
       " 'https://www.amazon.in/b/?node=2838698031&ld=AZINSOANavDesktopFooter&ref_=nav_footer_sell',\n",
       " 'https://accelerator.amazon.in/?ref_=map_1_b2b_GW_FT',\n",
       " 'https://sell.amazon.in/grow-your-business/amazon-global-selling.html?ld=AZIN_Footer_V1&ref=AZIN_Footer_V1',\n",
       " 'https://affiliate-program.amazon.in/?utm_campaign=assocshowcase&utm_medium=footer&utm_source=GW&ref_=footer_assoc',\n",
       " 'https://services.amazon.in/services/fulfilment-by-amazon/benefits.html/ref=az_footer_fba?ld=AWRGINFBAfooter',\n",
       " 'https://advertising.amazon.in/?ref=Amz.in',\n",
       " 'https://www.amazonpay.in/merchant',\n",
       " 'https://www.amazon.in/gp/help/customer/display.html?nodeId=GDFU3JS5AL6SYHRD&ref_=footer_covid',\n",
       " 'https://www.amazon.in/gp/css/homepage.html?ref_=footer_ya',\n",
       " 'https://www.amazon.in/gp/css/returns/homepage.html?ref_=footer_hy_f_4',\n",
       " 'https://www.amazon.in/gp/help/customer/display.html?nodeId=201083470&ref_=footer_swc',\n",
       " 'https://www.amazon.in/gp/browse.html?node=6967393031&ref_=footer_mobapp',\n",
       " 'https://www.amazon.in/gp/BIT/theamazonapp/ref=footer_assistant_download_copy',\n",
       " 'https://www.amazon.in/gp/help/customer/display.html?nodeId=200507590&ref_=footer_gw_m_b_he',\n",
       " 'https://www.amazon.in/ref=footer_logo',\n",
       " 'https://www.amazon.in/customer-preferences/edit?ie=UTF8&preferencesReturnUrl=%2Fs%3Fk%3Dwindow%2Ba.c%26crid%3D3HI4YQZMX3EQD%26sprefix%3Dwindow%2Ba.c%252Caps%252C530%26ref%3Dnb_sb_noss_1&ref_=footer_lang',\n",
       " 'https://www.amazon.com.au/ref=footer_au',\n",
       " 'https://www.amazon.com.br/ref=footer_br',\n",
       " 'https://www.amazon.ca/ref=footer_ca',\n",
       " 'https://www.amazon.cn/ref=footer_cn',\n",
       " 'https://www.amazon.fr/ref=footer_fr',\n",
       " 'https://www.amazon.de/ref=footer_de',\n",
       " 'https://www.amazon.it/ref=footer_it',\n",
       " 'https://www.amazon.co.jp/ref=footer_jp',\n",
       " 'https://www.amazon.com.mx/ref=footer_mx',\n",
       " 'https://www.amazon.nl/ref=footer_nl',\n",
       " 'https://www.amazon.pl/ref=footer_pl',\n",
       " 'https://www.amazon.sg/ref=footer_sg',\n",
       " 'https://www.amazon.es/ref=footer_es',\n",
       " 'https://www.amazon.com.tr/ref=footer_tr',\n",
       " 'https://www.amazon.ae/ref=footer_ae',\n",
       " 'https://www.amazon.co.uk/ref=footer_uk',\n",
       " 'https://www.amazon.com/ref=footer_us',\n",
       " 'https://www.abebooks.com/',\n",
       " 'https://aws.amazon.com/what-is-cloud-computing/?sc_channel=EL&sc_campaign=IN_amazonfooter',\n",
       " 'https://www.audible.in/',\n",
       " 'https://www.dpreview.com/',\n",
       " 'https://www.imdb.com/',\n",
       " 'https://www.shopbop.com/',\n",
       " 'https://www.amazon.in/business?ref=footer_aingw',\n",
       " 'https://www.amazon.in/now?ref=footer_amznow',\n",
       " 'https://www.amazon.in/music/prime?ref=footer_apm',\n",
       " 'https://www.amazon.in/gp/help/customer/display.html?nodeId=200545940&ref_=footer_cou',\n",
       " 'https://www.amazon.in/gp/help/customer/display.html?nodeId=200534380&ref_=footer_privacy',\n",
       " 'https://www.amazon.in/gp/help/customer/display.html?nodeId=202075050&ref_=footer_iba']"
      ]
     },
     "execution_count": 24,
     "metadata": {},
     "output_type": "execute_result"
    }
   ],
   "source": [
    "product"
   ]
  },
  {
   "cell_type": "code",
   "execution_count": 26,
   "id": "e4e6741a",
   "metadata": {},
   "outputs": [
    {
     "name": "stdout",
     "output_type": "stream",
     "text": [
      "https://www.amazon.in/ref=nav_logo\n",
      "https://www.amazon.in/customer-preferences/edit?ie=UTF8&preferencesReturnUrl=%2Fs%3Fk%3Dwindow%2Ba.c%26crid%3D3HI4YQZMX3EQD%26sprefix%3Dwindow%2Ba.c%252Caps%252C530%26ref%3Dnb_sb_noss_1&ref_=topnav_lang\n",
      "https://www.amazon.in/ap/signin?openid.pape.max_auth_age=0&openid.return_to=https%3A%2F%2Fwww.amazon.in%2Fs%3Fk%3Dwindow%2Ba.c%26crid%3D3HI4YQZMX3EQD%26sprefix%3Dwindow%2Ba.c%252Caps%252C530%26ref%3Dnav_ya_signin&openid.identity=http%3A%2F%2Fspecs.openid.net%2Fauth%2F2.0%2Fidentifier_select&openid.assoc_handle=inflex&openid.mode=checkid_setup&openid.claimed_id=http%3A%2F%2Fspecs.openid.net%2Fauth%2F2.0%2Fidentifier_select&openid.ns=http%3A%2F%2Fspecs.openid.net%2Fauth%2F2.0&\n",
      "https://www.amazon.in/gp/css/order-history?ref_=nav_orders_first\n",
      "https://www.amazon.in/gp/cart/view.html?ref_=nav_cart\n",
      "https://www.amazon.in/ap/signin?openid.pape.max_auth_age=0&openid.return_to=https%3A%2F%2Fwww.amazon.in%2Fs%3Fk%3Dwindow%2Ba.c%26crid%3D3HI4YQZMX3EQD%26sprefix%3Dwindow%2Ba.c%252Caps%252C530%26ref%3Dnav_signin&openid.identity=http%3A%2F%2Fspecs.openid.net%2Fauth%2F2.0%2Fidentifier_select&openid.assoc_handle=inflex&openid.mode=checkid_setup&openid.claimed_id=http%3A%2F%2Fspecs.openid.net%2Fauth%2F2.0%2Fidentifier_select&openid.ns=http%3A%2F%2Fspecs.openid.net%2Fauth%2F2.0&\n",
      "https://www.amazon.in/ap/register?openid.pape.max_auth_age=0&openid.return_to=https%3A%2F%2Fwww.amazon.in%2Fs%2Fref%3Dnb_sb_noss_1%2F%3F_encoding%3DUTF8%26crid%3D3HI4YQZMX3EQD%26field-keywords%3Dwindow%2520a.c%26sprefix%3Dwindow%2520a.c%252Caps%252C530%26url%3Dsearch-alias%253Daps%26ref_%3Dnav_newcust&openid.identity=http%3A%2F%2Fspecs.openid.net%2Fauth%2F2.0%2Fidentifier_select&openid.assoc_handle=inflex&openid.mode=checkid_setup&openid.claimed_id=http%3A%2F%2Fspecs.openid.net%2Fauth%2F2.0%2Fidentifier_select&openid.ns=http%3A%2F%2Fspecs.openid.net%2Fauth%2F2.0&\n",
      "https://www.amazon.in/hz/wishlist/ls?triggerElementID=createList&ref_=nav_ListFlyout_navFlyout_createList_lv_redirect\n",
      "https://www.amazon.in/wishlist/universal?ref_=nav_ListFlyout_gno_listpop_uwl\n",
      "https://www.amazon.in/baby-reg/homepage?ref_=nav_ListFlyout_gno_listpop_br\n",
      "https://www.amazon.in/discover/?ref_=nav_ListFlyout_sbl\n",
      "https://www.amazon.in/showroom?ref_=nav_ListFlyout_srm_your_desk_wl_in\n",
      "https://www.amazon.in/gp/css/homepage.html?ref_=nav_AccountFlyout_ya\n",
      "https://www.amazon.in/gp/css/order-history?ref_=nav_AccountFlyout_orders\n",
      "https://www.amazon.in/hz/wishlist/ls?requiresSignIn=1&ref_=nav_AccountFlyout_wl\n",
      "https://www.amazon.in/gp/yourstore?ref_=nav_AccountFlyout_recs\n",
      "https://www.amazon.in/gp/primecentral?ref_=nav_AccountFlyout_prime\n",
      "https://www.amazon.in/gp/redirect.html?location=https%3A%2F%2Fwww.primevideo.com%2F%3Fref_%3D_apv&source=nav_linktree&token=13D4F90D28CD96790B94E6091246BB1B2AE9FA05\n",
      "https://www.amazon.in/auto-deliveries?ref_=nav_AccountFlyout_sns\n",
      "https://www.amazon.in/hz5/yourmembershipsandsubscriptions?ref_=nav_AccountFlyout_digital_subscriptions\n",
      "https://www.amazon.in/gp/browse.html?node=21102587031&ref_=nav_ya_flyout_b2b_reg\n",
      "https://www.amazon.in/b/?node=2838698031&ld=AZINSOAYAFlyout&ref_=nav_AccountFlyout_sell\n",
      "https://www.amazon.in/hz/mycd/myx?ref_=nav_AccountFlyout_myk\n",
      "javascript: void(0)\n",
      "https://www.amazon.in/gp/bestsellers/?ref_=nav_cs_bestsellers\n",
      "https://www.amazon.in/mobile-phones/b/?ie=UTF8&node=1389401031&ref_=nav_cs_mobiles\n",
      "https://www.amazon.in/deals?ref_=nav_cs_gb\n",
      "https://www.amazon.in/gp/help/customer/display.html?nodeId=200507590&ref_=nav_cs_help\n",
      "https://www.amazon.in/Books/b/?ie=UTF8&node=976389031&ref_=nav_cs_books\n",
      "https://www.amazon.in/electronics/b/?ie=UTF8&node=976419031&ref_=nav_cs_electronics\n",
      "https://www.amazon.in/prime?ref_=nav_cs_primelink_nonmember\n",
      "https://www.amazon.in/gp/browse.html?node=6648217031&ref_=nav_cs_fashion\n",
      "https://www.amazon.in/gp/new-releases/?ref_=nav_cs_newreleases\n",
      "https://www.amazon.in/Home-Kitchen/b/?ie=UTF8&node=976442031&ref_=nav_cs_home\n",
      "https://www.amazon.in/gp/sva/dashboard?ref_=nav_cs_apay\n",
      "https://www.amazon.in/computers-and-accessories/b/?ie=UTF8&node=976392031&ref_=nav_cs_pc\n",
      "https://www.amazon.in/amazon-coupons/b/?_encoding=UTF8&node=10465704031&ref_=nav_cs_coupons\n",
      "https://www.amazon.in/Toys-Games/b/?ie=UTF8&node=1350380031&ref_=nav_cs_toys\n",
      "https://www.amazon.in/b/?node=2838698031&ld=AZINSOANavDesktop&ref_=nav_cs_sell\n",
      "https://www.amazon.in/beauty/b/?ie=UTF8&node=1355016031&ref_=nav_cs_beauty\n",
      "https://www.amazon.in/Car-Motorbike-Store/b/?ie=UTF8&node=4772060031&ref_=nav_cs_automotive\n",
      "https://www.amazon.in/Gourmet-Specialty-Foods/b/?ie=UTF8&node=2454178031&ref_=nav_cs_grocery\n",
      "https://www.amazon.in/Sports/b/?ie=UTF8&node=1984443031&ref_=nav_cs_sports\n",
      "https://www.amazon.in/health-and-personal-care/b/?ie=UTF8&node=1350384031&ref_=nav_cs_hpc\n",
      "https://www.amazon.in/gift-card-store/b/?ie=UTF8&node=3704982031&ref_=nav_cs_gc\n",
      "https://www.amazon.in/video-games/b/?ie=UTF8&node=976460031&ref_=nav_cs_video_games\n",
      "https://www.amazon.in/Baby/b/?ie=UTF8&node=1571274031&ref_=nav_cs_baby\n",
      "https://www.amazon.in/Pet-Supplies/b/?ie=UTF8&node=2454181031&ref_=nav_cs_pets\n",
      "https://www.amazon.in/gp/browse.html?node=3704992031&ref_=nav_cs_hi\n",
      "https://www.amazon.in/Audible-Books-and-Originals/b/?ie=UTF8&node=17941593031&ref_=nav_cs_audible\n",
      "https://www.amazon.in/gcx/-/gfhz/?ref_=nav_cs_giftfinder\n",
      "https://www.amazon.in/b/?node=6637738031&ref_=nav_cs_amazonbasics\n",
      "https://www.amazon.in/Kindle-eBooks/b/?ie=UTF8&node=1634753031&ref_=nav_cs_kindle_books\n",
      "https://www.amazon.in/auto-deliveries/landing?ref_=nav_cs_sns\n",
      "https://www.amazon.in/events/greatfreedomsale/?_encoding=UTF8&ref_=nav_swm_swm_gd&pf_rd_p=7a728353-5d1a-4eb5-94c4-08d0254da558&pf_rd_s=nav-sitewide-msg&pf_rd_t=4201&pf_rd_i=navbar-4201&pf_rd_m=A21TJRUUN4KGV&pf_rd_r=HEQZ9FHAGV10V113VF8V\n",
      "https://aax-eu.amazon.in/x/c/Q83FEHy5rgyPFfFaqH2egzwAAAGCcuvFHQMAAAH2AQAz7UCz/https://www.amazon.in/stores/page/BDB74DA5-A67A-4B5B-9E38-FA6345BB38D4/?_encoding=UTF8&store_ref=SB_A022489928OVCOEMKT2HF&pd_rd_plhdr=t&aaxitk=b4603a5c3d515c82442c55f39b35eb9b&hsa_cr_id=9387835380202&lp_asins=B09R29RSFH%2CB09R3XHPVZ%2CB09R248ZWX&lp_query=window%20a.c&lp_slot=auto-sparkle-hsa-tetris&ref_=sbx_be_s_sparkle_lsi4d_bkgd&pd_rd_w=sCcu0&content-id=amzn1.sym.c679a10e-5f33-4f2e-b014-f92eed44a58f%3Aamzn1.sym.c679a10e-5f33-4f2e-b014-f92eed44a58f&pf_rd_p=c679a10e-5f33-4f2e-b014-f92eed44a58f&pf_rd_r=HEQZ9FHAGV10V113VF8V&pd_rd_wg=9YxbR&pd_rd_r=4777072b-85c7-45c1-968d-d9c9acfe382d\n",
      "https://aax-eu.amazon.in/x/c/Q83FEHy5rgyPFfFaqH2egzwAAAGCcuvFHQMAAAH2AQAz7UCz/https://www.amazon.in/stores/page/BDB74DA5-A67A-4B5B-9E38-FA6345BB38D4/?_encoding=UTF8&store_ref=SB_A022489928OVCOEMKT2HF&pd_rd_plhdr=t&aaxitk=b4603a5c3d515c82442c55f39b35eb9b&hsa_cr_id=9387835380202&lp_asins=B09R29RSFH%2CB09R3XHPVZ%2CB09R248ZWX&lp_query=window%20a.c&lp_slot=auto-sparkle-hsa-tetris&ref_=sbx_be_s_sparkle_lsi4d_logo&pd_rd_w=sCcu0&content-id=amzn1.sym.c679a10e-5f33-4f2e-b014-f92eed44a58f%3Aamzn1.sym.c679a10e-5f33-4f2e-b014-f92eed44a58f&pf_rd_p=c679a10e-5f33-4f2e-b014-f92eed44a58f&pf_rd_r=HEQZ9FHAGV10V113VF8V&pd_rd_wg=9YxbR&pd_rd_r=4777072b-85c7-45c1-968d-d9c9acfe382d\n",
      "https://aax-eu.amazon.in/x/c/Q83FEHy5rgyPFfFaqH2egzwAAAGCcuvFHQMAAAH2AQAz7UCz/https://www.amazon.in/stores/page/BDB74DA5-A67A-4B5B-9E38-FA6345BB38D4/?_encoding=UTF8&store_ref=SB_A022489928OVCOEMKT2HF&pd_rd_plhdr=t&aaxitk=b4603a5c3d515c82442c55f39b35eb9b&hsa_cr_id=9387835380202&lp_asins=B09R29RSFH%2CB09R3XHPVZ%2CB09R248ZWX&lp_query=window%20a.c&lp_slot=auto-sparkle-hsa-tetris&ref_=sbx_be_s_sparkle_lsi4d_hl&pd_rd_w=sCcu0&content-id=amzn1.sym.c679a10e-5f33-4f2e-b014-f92eed44a58f%3Aamzn1.sym.c679a10e-5f33-4f2e-b014-f92eed44a58f&pf_rd_p=c679a10e-5f33-4f2e-b014-f92eed44a58f&pf_rd_r=HEQZ9FHAGV10V113VF8V&pd_rd_wg=9YxbR&pd_rd_r=4777072b-85c7-45c1-968d-d9c9acfe382d\n",
      "https://aax-eu.amazon.in/x/c/Q83FEHy5rgyPFfFaqH2egzwAAAGCcuvFHQMAAAH2AQAz7UCz/https://www.amazon.in/stores/page/BDB74DA5-A67A-4B5B-9E38-FA6345BB38D4/?_encoding=UTF8&store_ref=SB_A022489928OVCOEMKT2HF&pd_rd_plhdr=t&aaxitk=b4603a5c3d515c82442c55f39b35eb9b&hsa_cr_id=9387835380202&lp_asins=B09R29RSFH%2CB09R3XHPVZ%2CB09R248ZWX&lp_query=window%20a.c&lp_slot=auto-sparkle-hsa-tetris&ref_=sbx_be_s_sparkle_lsi4d_cta&pd_rd_w=sCcu0&content-id=amzn1.sym.c679a10e-5f33-4f2e-b014-f92eed44a58f%3Aamzn1.sym.c679a10e-5f33-4f2e-b014-f92eed44a58f&pf_rd_p=c679a10e-5f33-4f2e-b014-f92eed44a58f&pf_rd_r=HEQZ9FHAGV10V113VF8V&pd_rd_wg=9YxbR&pd_rd_r=4777072b-85c7-45c1-968d-d9c9acfe382d\n"
     ]
    },
    {
     "name": "stdout",
     "output_type": "stream",
     "text": [
      "https://aax-eu.amazon.in/x/c/Q83FEHy5rgyPFfFaqH2egzwAAAGCcuvFHQMAAAH2AQAz7UCz/https://www.amazon.in/stores/page/BDB74DA5-A67A-4B5B-9E38-FA6345BB38D4/?_encoding=UTF8&store_ref=SB_A022489928OVCOEMKT2HF&pd_rd_plhdr=t&aaxitk=b4603a5c3d515c82442c55f39b35eb9b&hsa_cr_id=9387835380202&lp_asins=B09R29RSFH%2CB09R3XHPVZ%2CB09R248ZWX&lp_query=window%20a.c&lp_slot=auto-sparkle-hsa-tetris&ref_=sbx_be_s_sparkle_lsi4d_ls&pd_rd_w=sCcu0&content-id=amzn1.sym.c679a10e-5f33-4f2e-b014-f92eed44a58f%3Aamzn1.sym.c679a10e-5f33-4f2e-b014-f92eed44a58f&pf_rd_p=c679a10e-5f33-4f2e-b014-f92eed44a58f&pf_rd_r=HEQZ9FHAGV10V113VF8V&pd_rd_wg=9YxbR&pd_rd_r=4777072b-85c7-45c1-968d-d9c9acfe382d\n",
      "https://aax-eu.amazon.in/x/c/Q83FEHy5rgyPFfFaqH2egzwAAAGCcuvFHQMAAAH2AQAz7UCz/https://www.amazon.in/gp/aw/d/B09R29RSFH/?_encoding=UTF8&pd_rd_plhdr=t&aaxitk=b4603a5c3d515c82442c55f39b35eb9b&hsa_cr_id=9387835380202&qid=1659785430&sr=1-1-fd947bf3-57d2-4cc9-939d-2805f92cef28&ref_=sbx_be_s_sparkle_lsi4d_asin_0_bkgd&pd_rd_w=sCcu0&content-id=amzn1.sym.c679a10e-5f33-4f2e-b014-f92eed44a58f%3Aamzn1.sym.c679a10e-5f33-4f2e-b014-f92eed44a58f&pf_rd_p=c679a10e-5f33-4f2e-b014-f92eed44a58f&pf_rd_r=HEQZ9FHAGV10V113VF8V&pd_rd_wg=9YxbR&pd_rd_r=4777072b-85c7-45c1-968d-d9c9acfe382d\n",
      "https://aax-eu.amazon.in/x/c/Q83FEHy5rgyPFfFaqH2egzwAAAGCcuvFHQMAAAH2AQAz7UCz/https://www.amazon.in/gp/aw/d/B09R29RSFH/?_encoding=UTF8&pd_rd_plhdr=t&aaxitk=b4603a5c3d515c82442c55f39b35eb9b&hsa_cr_id=9387835380202&qid=1659785430&sr=1-1-fd947bf3-57d2-4cc9-939d-2805f92cef28&ref_=sbx_be_s_sparkle_lsi4d_asin_0_img&pd_rd_w=sCcu0&content-id=amzn1.sym.c679a10e-5f33-4f2e-b014-f92eed44a58f%3Aamzn1.sym.c679a10e-5f33-4f2e-b014-f92eed44a58f&pf_rd_p=c679a10e-5f33-4f2e-b014-f92eed44a58f&pf_rd_r=HEQZ9FHAGV10V113VF8V&pd_rd_wg=9YxbR&pd_rd_r=4777072b-85c7-45c1-968d-d9c9acfe382d\n",
      "https://aax-eu.amazon.in/x/c/Q83FEHy5rgyPFfFaqH2egzwAAAGCcuvFHQMAAAH2AQAz7UCz/https://www.amazon.in/gp/aw/d/B09R29RSFH/?_encoding=UTF8&pd_rd_plhdr=t&aaxitk=b4603a5c3d515c82442c55f39b35eb9b&hsa_cr_id=9387835380202&qid=1659785430&sr=1-1-fd947bf3-57d2-4cc9-939d-2805f92cef28&ref_=sbx_be_s_sparkle_lsi4d_asin_0_bkgd&pd_rd_w=sCcu0&content-id=amzn1.sym.c679a10e-5f33-4f2e-b014-f92eed44a58f%3Aamzn1.sym.c679a10e-5f33-4f2e-b014-f92eed44a58f&pf_rd_p=c679a10e-5f33-4f2e-b014-f92eed44a58f&pf_rd_r=HEQZ9FHAGV10V113VF8V&pd_rd_wg=9YxbR&pd_rd_r=4777072b-85c7-45c1-968d-d9c9acfe382d\n",
      "https://aax-eu.amazon.in/x/c/Q83FEHy5rgyPFfFaqH2egzwAAAGCcuvFHQMAAAH2AQAz7UCz/https://www.amazon.in/gp/aw/d/B09R29RSFH/?_encoding=UTF8&pd_rd_plhdr=t&aaxitk=b4603a5c3d515c82442c55f39b35eb9b&hsa_cr_id=9387835380202&qid=1659785430&sr=1-1-fd947bf3-57d2-4cc9-939d-2805f92cef28&ref_=sbx_be_s_sparkle_lsi4d_asin_0_price&pd_rd_w=sCcu0&content-id=amzn1.sym.c679a10e-5f33-4f2e-b014-f92eed44a58f%3Aamzn1.sym.c679a10e-5f33-4f2e-b014-f92eed44a58f&pf_rd_p=c679a10e-5f33-4f2e-b014-f92eed44a58f&pf_rd_r=HEQZ9FHAGV10V113VF8V&pd_rd_wg=9YxbR&pd_rd_r=4777072b-85c7-45c1-968d-d9c9acfe382d\n",
      "https://aax-eu.amazon.in/x/c/Q83FEHy5rgyPFfFaqH2egzwAAAGCcuvFHQMAAAH2AQAz7UCz/https://www.amazon.in/gp/aw/d/B09R29RSFH/?_encoding=UTF8&pd_rd_plhdr=t&aaxitk=b4603a5c3d515c82442c55f39b35eb9b&hsa_cr_id=9387835380202&qid=1659785430&sr=1-1-fd947bf3-57d2-4cc9-939d-2805f92cef28&ref_=sbx_be_s_sparkle_lsi4d_asin_0_price&pd_rd_w=sCcu0&content-id=amzn1.sym.c679a10e-5f33-4f2e-b014-f92eed44a58f%3Aamzn1.sym.c679a10e-5f33-4f2e-b014-f92eed44a58f&pf_rd_p=c679a10e-5f33-4f2e-b014-f92eed44a58f&pf_rd_r=HEQZ9FHAGV10V113VF8V&pd_rd_wg=9YxbR&pd_rd_r=4777072b-85c7-45c1-968d-d9c9acfe382d\n",
      "https://aax-eu.amazon.in/x/c/Q83FEHy5rgyPFfFaqH2egzwAAAGCcuvFHQMAAAH2AQAz7UCz/https://www.amazon.in/gp/aw/d/B09R29RSFH/?_encoding=UTF8&pd_rd_plhdr=t&aaxitk=b4603a5c3d515c82442c55f39b35eb9b&hsa_cr_id=9387835380202&qid=1659785430&sr=1-1-fd947bf3-57d2-4cc9-939d-2805f92cef28&ref_=sbx_be_s_sparkle_lsi4d_asin_0_price&pd_rd_w=sCcu0&content-id=amzn1.sym.c679a10e-5f33-4f2e-b014-f92eed44a58f%3Aamzn1.sym.c679a10e-5f33-4f2e-b014-f92eed44a58f&pf_rd_p=c679a10e-5f33-4f2e-b014-f92eed44a58f&pf_rd_r=HEQZ9FHAGV10V113VF8V&pd_rd_wg=9YxbR&pd_rd_r=4777072b-85c7-45c1-968d-d9c9acfe382d\n",
      "https://aax-eu.amazon.in/x/c/Q83FEHy5rgyPFfFaqH2egzwAAAGCcuvFHQMAAAH2AQAz7UCz/https://www.amazon.in/gp/aw/d/B09R29RSFH/?_encoding=UTF8&pd_rd_plhdr=t&aaxitk=b4603a5c3d515c82442c55f39b35eb9b&hsa_cr_id=9387835380202&qid=1659785430&sr=1-1-fd947bf3-57d2-4cc9-939d-2805f92cef28&ref_=sbx_be_s_sparkle_lsi4d_asin_0_badge&pd_rd_w=sCcu0&content-id=amzn1.sym.c679a10e-5f33-4f2e-b014-f92eed44a58f%3Aamzn1.sym.c679a10e-5f33-4f2e-b014-f92eed44a58f&pf_rd_p=c679a10e-5f33-4f2e-b014-f92eed44a58f&pf_rd_r=HEQZ9FHAGV10V113VF8V&pd_rd_wg=9YxbR&pd_rd_r=4777072b-85c7-45c1-968d-d9c9acfe382d\n",
      "https://aax-eu.amazon.in/x/c/Q83FEHy5rgyPFfFaqH2egzwAAAGCcuvFHQMAAAH2AQAz7UCz/https://www.amazon.in/gp/aw/d/B09R29RSFH/?_encoding=UTF8&pd_rd_plhdr=t&aaxitk=b4603a5c3d515c82442c55f39b35eb9b&hsa_cr_id=9387835380202&qid=1659785430&sr=1-1-fd947bf3-57d2-4cc9-939d-2805f92cef28&ref_=sbx_be_s_sparkle_lsi4d_asin_0_price&pd_rd_w=sCcu0&content-id=amzn1.sym.c679a10e-5f33-4f2e-b014-f92eed44a58f%3Aamzn1.sym.c679a10e-5f33-4f2e-b014-f92eed44a58f&pf_rd_p=c679a10e-5f33-4f2e-b014-f92eed44a58f&pf_rd_r=HEQZ9FHAGV10V113VF8V&pd_rd_wg=9YxbR&pd_rd_r=4777072b-85c7-45c1-968d-d9c9acfe382d\n",
      "https://aax-eu.amazon.in/x/c/Q83FEHy5rgyPFfFaqH2egzwAAAGCcuvFHQMAAAH2AQAz7UCz/https://www.amazon.in/gp/aw/d/B09R3XHPVZ/?_encoding=UTF8&pd_rd_plhdr=t&aaxitk=b4603a5c3d515c82442c55f39b35eb9b&hsa_cr_id=9387835380202&qid=1659785430&sr=1-2-fd947bf3-57d2-4cc9-939d-2805f92cef28&ref_=sbx_be_s_sparkle_lsi4d_asin_1_bkgd&pd_rd_w=sCcu0&content-id=amzn1.sym.c679a10e-5f33-4f2e-b014-f92eed44a58f%3Aamzn1.sym.c679a10e-5f33-4f2e-b014-f92eed44a58f&pf_rd_p=c679a10e-5f33-4f2e-b014-f92eed44a58f&pf_rd_r=HEQZ9FHAGV10V113VF8V&pd_rd_wg=9YxbR&pd_rd_r=4777072b-85c7-45c1-968d-d9c9acfe382d\n",
      "https://aax-eu.amazon.in/x/c/Q83FEHy5rgyPFfFaqH2egzwAAAGCcuvFHQMAAAH2AQAz7UCz/https://www.amazon.in/gp/aw/d/B09R3XHPVZ/?_encoding=UTF8&pd_rd_plhdr=t&aaxitk=b4603a5c3d515c82442c55f39b35eb9b&hsa_cr_id=9387835380202&qid=1659785430&sr=1-2-fd947bf3-57d2-4cc9-939d-2805f92cef28&ref_=sbx_be_s_sparkle_lsi4d_asin_1_img&pd_rd_w=sCcu0&content-id=amzn1.sym.c679a10e-5f33-4f2e-b014-f92eed44a58f%3Aamzn1.sym.c679a10e-5f33-4f2e-b014-f92eed44a58f&pf_rd_p=c679a10e-5f33-4f2e-b014-f92eed44a58f&pf_rd_r=HEQZ9FHAGV10V113VF8V&pd_rd_wg=9YxbR&pd_rd_r=4777072b-85c7-45c1-968d-d9c9acfe382d\n",
      "https://aax-eu.amazon.in/x/c/Q83FEHy5rgyPFfFaqH2egzwAAAGCcuvFHQMAAAH2AQAz7UCz/https://www.amazon.in/gp/aw/d/B09R3XHPVZ/?_encoding=UTF8&pd_rd_plhdr=t&aaxitk=b4603a5c3d515c82442c55f39b35eb9b&hsa_cr_id=9387835380202&qid=1659785430&sr=1-2-fd947bf3-57d2-4cc9-939d-2805f92cef28&ref_=sbx_be_s_sparkle_lsi4d_asin_1_bkgd&pd_rd_w=sCcu0&content-id=amzn1.sym.c679a10e-5f33-4f2e-b014-f92eed44a58f%3Aamzn1.sym.c679a10e-5f33-4f2e-b014-f92eed44a58f&pf_rd_p=c679a10e-5f33-4f2e-b014-f92eed44a58f&pf_rd_r=HEQZ9FHAGV10V113VF8V&pd_rd_wg=9YxbR&pd_rd_r=4777072b-85c7-45c1-968d-d9c9acfe382d\n",
      "https://aax-eu.amazon.in/x/c/Q83FEHy5rgyPFfFaqH2egzwAAAGCcuvFHQMAAAH2AQAz7UCz/https://www.amazon.in/gp/aw/d/B09R3XHPVZ/?_encoding=UTF8&pd_rd_plhdr=t&aaxitk=b4603a5c3d515c82442c55f39b35eb9b&hsa_cr_id=9387835380202&qid=1659785430&sr=1-2-fd947bf3-57d2-4cc9-939d-2805f92cef28&ref_=sbx_be_s_sparkle_lsi4d_asin_1_price&pd_rd_w=sCcu0&content-id=amzn1.sym.c679a10e-5f33-4f2e-b014-f92eed44a58f%3Aamzn1.sym.c679a10e-5f33-4f2e-b014-f92eed44a58f&pf_rd_p=c679a10e-5f33-4f2e-b014-f92eed44a58f&pf_rd_r=HEQZ9FHAGV10V113VF8V&pd_rd_wg=9YxbR&pd_rd_r=4777072b-85c7-45c1-968d-d9c9acfe382d\n",
      "https://aax-eu.amazon.in/x/c/Q83FEHy5rgyPFfFaqH2egzwAAAGCcuvFHQMAAAH2AQAz7UCz/https://www.amazon.in/gp/aw/d/B09R3XHPVZ/?_encoding=UTF8&pd_rd_plhdr=t&aaxitk=b4603a5c3d515c82442c55f39b35eb9b&hsa_cr_id=9387835380202&qid=1659785430&sr=1-2-fd947bf3-57d2-4cc9-939d-2805f92cef28&ref_=sbx_be_s_sparkle_lsi4d_asin_1_price&pd_rd_w=sCcu0&content-id=amzn1.sym.c679a10e-5f33-4f2e-b014-f92eed44a58f%3Aamzn1.sym.c679a10e-5f33-4f2e-b014-f92eed44a58f&pf_rd_p=c679a10e-5f33-4f2e-b014-f92eed44a58f&pf_rd_r=HEQZ9FHAGV10V113VF8V&pd_rd_wg=9YxbR&pd_rd_r=4777072b-85c7-45c1-968d-d9c9acfe382d\n",
      "https://aax-eu.amazon.in/x/c/Q83FEHy5rgyPFfFaqH2egzwAAAGCcuvFHQMAAAH2AQAz7UCz/https://www.amazon.in/gp/aw/d/B09R3XHPVZ/?_encoding=UTF8&pd_rd_plhdr=t&aaxitk=b4603a5c3d515c82442c55f39b35eb9b&hsa_cr_id=9387835380202&qid=1659785430&sr=1-2-fd947bf3-57d2-4cc9-939d-2805f92cef28&ref_=sbx_be_s_sparkle_lsi4d_asin_1_price&pd_rd_w=sCcu0&content-id=amzn1.sym.c679a10e-5f33-4f2e-b014-f92eed44a58f%3Aamzn1.sym.c679a10e-5f33-4f2e-b014-f92eed44a58f&pf_rd_p=c679a10e-5f33-4f2e-b014-f92eed44a58f&pf_rd_r=HEQZ9FHAGV10V113VF8V&pd_rd_wg=9YxbR&pd_rd_r=4777072b-85c7-45c1-968d-d9c9acfe382d\n",
      "https://aax-eu.amazon.in/x/c/Q83FEHy5rgyPFfFaqH2egzwAAAGCcuvFHQMAAAH2AQAz7UCz/https://www.amazon.in/gp/aw/d/B09R3XHPVZ/?_encoding=UTF8&pd_rd_plhdr=t&aaxitk=b4603a5c3d515c82442c55f39b35eb9b&hsa_cr_id=9387835380202&qid=1659785430&sr=1-2-fd947bf3-57d2-4cc9-939d-2805f92cef28&ref_=sbx_be_s_sparkle_lsi4d_asin_1_badge&pd_rd_w=sCcu0&content-id=amzn1.sym.c679a10e-5f33-4f2e-b014-f92eed44a58f%3Aamzn1.sym.c679a10e-5f33-4f2e-b014-f92eed44a58f&pf_rd_p=c679a10e-5f33-4f2e-b014-f92eed44a58f&pf_rd_r=HEQZ9FHAGV10V113VF8V&pd_rd_wg=9YxbR&pd_rd_r=4777072b-85c7-45c1-968d-d9c9acfe382d\n",
      "https://aax-eu.amazon.in/x/c/Q83FEHy5rgyPFfFaqH2egzwAAAGCcuvFHQMAAAH2AQAz7UCz/https://www.amazon.in/gp/aw/d/B09R3XHPVZ/?_encoding=UTF8&pd_rd_plhdr=t&aaxitk=b4603a5c3d515c82442c55f39b35eb9b&hsa_cr_id=9387835380202&qid=1659785430&sr=1-2-fd947bf3-57d2-4cc9-939d-2805f92cef28&ref_=sbx_be_s_sparkle_lsi4d_asin_1_price&pd_rd_w=sCcu0&content-id=amzn1.sym.c679a10e-5f33-4f2e-b014-f92eed44a58f%3Aamzn1.sym.c679a10e-5f33-4f2e-b014-f92eed44a58f&pf_rd_p=c679a10e-5f33-4f2e-b014-f92eed44a58f&pf_rd_r=HEQZ9FHAGV10V113VF8V&pd_rd_wg=9YxbR&pd_rd_r=4777072b-85c7-45c1-968d-d9c9acfe382d\n",
      "https://aax-eu.amazon.in/x/c/Q83FEHy5rgyPFfFaqH2egzwAAAGCcuvFHQMAAAH2AQAz7UCz/https://www.amazon.in/gp/aw/d/B09R248ZWX/?_encoding=UTF8&pd_rd_plhdr=t&aaxitk=b4603a5c3d515c82442c55f39b35eb9b&hsa_cr_id=9387835380202&qid=1659785430&sr=1-3-fd947bf3-57d2-4cc9-939d-2805f92cef28&ref_=sbx_be_s_sparkle_lsi4d_asin_2_bkgd&pd_rd_w=sCcu0&content-id=amzn1.sym.c679a10e-5f33-4f2e-b014-f92eed44a58f%3Aamzn1.sym.c679a10e-5f33-4f2e-b014-f92eed44a58f&pf_rd_p=c679a10e-5f33-4f2e-b014-f92eed44a58f&pf_rd_r=HEQZ9FHAGV10V113VF8V&pd_rd_wg=9YxbR&pd_rd_r=4777072b-85c7-45c1-968d-d9c9acfe382d\n",
      "https://aax-eu.amazon.in/x/c/Q83FEHy5rgyPFfFaqH2egzwAAAGCcuvFHQMAAAH2AQAz7UCz/https://www.amazon.in/gp/aw/d/B09R248ZWX/?_encoding=UTF8&pd_rd_plhdr=t&aaxitk=b4603a5c3d515c82442c55f39b35eb9b&hsa_cr_id=9387835380202&qid=1659785430&sr=1-3-fd947bf3-57d2-4cc9-939d-2805f92cef28&ref_=sbx_be_s_sparkle_lsi4d_asin_2_img&pd_rd_w=sCcu0&content-id=amzn1.sym.c679a10e-5f33-4f2e-b014-f92eed44a58f%3Aamzn1.sym.c679a10e-5f33-4f2e-b014-f92eed44a58f&pf_rd_p=c679a10e-5f33-4f2e-b014-f92eed44a58f&pf_rd_r=HEQZ9FHAGV10V113VF8V&pd_rd_wg=9YxbR&pd_rd_r=4777072b-85c7-45c1-968d-d9c9acfe382d\n",
      "https://aax-eu.amazon.in/x/c/Q83FEHy5rgyPFfFaqH2egzwAAAGCcuvFHQMAAAH2AQAz7UCz/https://www.amazon.in/gp/aw/d/B09R248ZWX/?_encoding=UTF8&pd_rd_plhdr=t&aaxitk=b4603a5c3d515c82442c55f39b35eb9b&hsa_cr_id=9387835380202&qid=1659785430&sr=1-3-fd947bf3-57d2-4cc9-939d-2805f92cef28&ref_=sbx_be_s_sparkle_lsi4d_asin_2_bkgd&pd_rd_w=sCcu0&content-id=amzn1.sym.c679a10e-5f33-4f2e-b014-f92eed44a58f%3Aamzn1.sym.c679a10e-5f33-4f2e-b014-f92eed44a58f&pf_rd_p=c679a10e-5f33-4f2e-b014-f92eed44a58f&pf_rd_r=HEQZ9FHAGV10V113VF8V&pd_rd_wg=9YxbR&pd_rd_r=4777072b-85c7-45c1-968d-d9c9acfe382d\n",
      "https://aax-eu.amazon.in/x/c/Q83FEHy5rgyPFfFaqH2egzwAAAGCcuvFHQMAAAH2AQAz7UCz/https://www.amazon.in/gp/aw/d/B09R248ZWX/?_encoding=UTF8&pd_rd_plhdr=t&aaxitk=b4603a5c3d515c82442c55f39b35eb9b&hsa_cr_id=9387835380202&qid=1659785430&sr=1-3-fd947bf3-57d2-4cc9-939d-2805f92cef28&ref_=sbx_be_s_sparkle_lsi4d_asin_2_price&pd_rd_w=sCcu0&content-id=amzn1.sym.c679a10e-5f33-4f2e-b014-f92eed44a58f%3Aamzn1.sym.c679a10e-5f33-4f2e-b014-f92eed44a58f&pf_rd_p=c679a10e-5f33-4f2e-b014-f92eed44a58f&pf_rd_r=HEQZ9FHAGV10V113VF8V&pd_rd_wg=9YxbR&pd_rd_r=4777072b-85c7-45c1-968d-d9c9acfe382d\n",
      "https://aax-eu.amazon.in/x/c/Q83FEHy5rgyPFfFaqH2egzwAAAGCcuvFHQMAAAH2AQAz7UCz/https://www.amazon.in/gp/aw/d/B09R248ZWX/?_encoding=UTF8&pd_rd_plhdr=t&aaxitk=b4603a5c3d515c82442c55f39b35eb9b&hsa_cr_id=9387835380202&qid=1659785430&sr=1-3-fd947bf3-57d2-4cc9-939d-2805f92cef28&ref_=sbx_be_s_sparkle_lsi4d_asin_2_price&pd_rd_w=sCcu0&content-id=amzn1.sym.c679a10e-5f33-4f2e-b014-f92eed44a58f%3Aamzn1.sym.c679a10e-5f33-4f2e-b014-f92eed44a58f&pf_rd_p=c679a10e-5f33-4f2e-b014-f92eed44a58f&pf_rd_r=HEQZ9FHAGV10V113VF8V&pd_rd_wg=9YxbR&pd_rd_r=4777072b-85c7-45c1-968d-d9c9acfe382d\n"
     ]
    },
    {
     "name": "stdout",
     "output_type": "stream",
     "text": [
      "https://aax-eu.amazon.in/x/c/Q83FEHy5rgyPFfFaqH2egzwAAAGCcuvFHQMAAAH2AQAz7UCz/https://www.amazon.in/gp/aw/d/B09R248ZWX/?_encoding=UTF8&pd_rd_plhdr=t&aaxitk=b4603a5c3d515c82442c55f39b35eb9b&hsa_cr_id=9387835380202&qid=1659785430&sr=1-3-fd947bf3-57d2-4cc9-939d-2805f92cef28&ref_=sbx_be_s_sparkle_lsi4d_asin_2_price&pd_rd_w=sCcu0&content-id=amzn1.sym.c679a10e-5f33-4f2e-b014-f92eed44a58f%3Aamzn1.sym.c679a10e-5f33-4f2e-b014-f92eed44a58f&pf_rd_p=c679a10e-5f33-4f2e-b014-f92eed44a58f&pf_rd_r=HEQZ9FHAGV10V113VF8V&pd_rd_wg=9YxbR&pd_rd_r=4777072b-85c7-45c1-968d-d9c9acfe382d\n",
      "https://aax-eu.amazon.in/x/c/Q83FEHy5rgyPFfFaqH2egzwAAAGCcuvFHQMAAAH2AQAz7UCz/https://www.amazon.in/gp/aw/d/B09R248ZWX/?_encoding=UTF8&pd_rd_plhdr=t&aaxitk=b4603a5c3d515c82442c55f39b35eb9b&hsa_cr_id=9387835380202&qid=1659785430&sr=1-3-fd947bf3-57d2-4cc9-939d-2805f92cef28&ref_=sbx_be_s_sparkle_lsi4d_asin_2_badge&pd_rd_w=sCcu0&content-id=amzn1.sym.c679a10e-5f33-4f2e-b014-f92eed44a58f%3Aamzn1.sym.c679a10e-5f33-4f2e-b014-f92eed44a58f&pf_rd_p=c679a10e-5f33-4f2e-b014-f92eed44a58f&pf_rd_r=HEQZ9FHAGV10V113VF8V&pd_rd_wg=9YxbR&pd_rd_r=4777072b-85c7-45c1-968d-d9c9acfe382d\n",
      "https://aax-eu.amazon.in/x/c/Q83FEHy5rgyPFfFaqH2egzwAAAGCcuvFHQMAAAH2AQAz7UCz/https://www.amazon.in/gp/aw/d/B09R248ZWX/?_encoding=UTF8&pd_rd_plhdr=t&aaxitk=b4603a5c3d515c82442c55f39b35eb9b&hsa_cr_id=9387835380202&qid=1659785430&sr=1-3-fd947bf3-57d2-4cc9-939d-2805f92cef28&ref_=sbx_be_s_sparkle_lsi4d_asin_2_price&pd_rd_w=sCcu0&content-id=amzn1.sym.c679a10e-5f33-4f2e-b014-f92eed44a58f%3Aamzn1.sym.c679a10e-5f33-4f2e-b014-f92eed44a58f&pf_rd_p=c679a10e-5f33-4f2e-b014-f92eed44a58f&pf_rd_r=HEQZ9FHAGV10V113VF8V&pd_rd_wg=9YxbR&pd_rd_r=4777072b-85c7-45c1-968d-d9c9acfe382d\n",
      "https://aax-eu.amazon.in/x/c/Q83FEHy5rgyPFfFaqH2egzwAAAGCcuvFHQMAAAH2AQAz7UCz/https://www.amazon.in/stores/page/BDB74DA5-A67A-4B5B-9E38-FA6345BB38D4/?_encoding=UTF8&store_ref=SB_A022489928OVCOEMKT2HF&pd_rd_plhdr=t&aaxitk=b4603a5c3d515c82442c55f39b35eb9b&hsa_cr_id=9387835380202&lp_asins=B09R29RSFH%2CB09R3XHPVZ%2CB09R248ZWX&lp_query=window%20a.c&lp_slot=auto-sparkle-hsa-tetris&ref_=sbx_be_s_sparkle_lsi4d_bkgd&pd_rd_w=sCcu0&content-id=amzn1.sym.c679a10e-5f33-4f2e-b014-f92eed44a58f%3Aamzn1.sym.c679a10e-5f33-4f2e-b014-f92eed44a58f&pf_rd_p=c679a10e-5f33-4f2e-b014-f92eed44a58f&pf_rd_r=HEQZ9FHAGV10V113VF8V&pd_rd_wg=9YxbR&pd_rd_r=4777072b-85c7-45c1-968d-d9c9acfe382d\n",
      "https://www.amazon.in/gp/slredirect/picassoRedirect.html/ref=pa_sp_atf_aps_sr_pg1_1?ie=UTF8&adId=A091874831GTQ1Z1UFY6K&url=%2FAmazonBasics-Star-Inverter-Split-White%2Fdp%2FB08J8R76J8%2Fref%3Dsr_1_1_sspa%3Fcrid%3D3HI4YQZMX3EQD%26keywords%3Dwindow%2Ba.c%26qid%3D1659785430%26sprefix%3Dwindow%2Ba.c%252Caps%252C530%26sr%3D8-1-spons%26psc%3D1&qualifier=1659785430&id=1951265962231133&widgetName=sp_atf\n",
      "javascript:void(0)\n",
      "https://www.amazon.in/s?k=window+a.c&crid=3HI4YQZMX3EQD&sprefix=window+a.c%2Caps%2C530&ref=nb_sb_noss_1#\n",
      "https://www.amazon.in/gp/slredirect/picassoRedirect.html/ref=pa_sp_atf_aps_sr_pg1_1?ie=UTF8&adId=A091874831GTQ1Z1UFY6K&url=%2FAmazonBasics-Star-Inverter-Split-White%2Fdp%2FB08J8R76J8%2Fref%3Dsr_1_1_sspa%3Fcrid%3D3HI4YQZMX3EQD%26keywords%3Dwindow%2Ba.c%26qid%3D1659785430%26sprefix%3Dwindow%2Ba.c%252Caps%252C530%26sr%3D8-1-spons%26psc%3D1&qualifier=1659785430&id=1951265962231133&widgetName=sp_atf\n",
      "javascript:void(0)\n",
      "https://www.amazon.in/gp/slredirect/picassoRedirect.html/ref=pa_sp_atf_aps_sr_pg1_1?ie=UTF8&adId=A091874831GTQ1Z1UFY6K&url=%2FAmazonBasics-Star-Inverter-Split-White%2Fdp%2FB08J8R76J8%2Fref%3Dsr_1_1_sspa%3Fcrid%3D3HI4YQZMX3EQD%26keywords%3Dwindow%2Ba.c%26qid%3D1659785430%26sprefix%3Dwindow%2Ba.c%252Caps%252C530%26sr%3D8-1-spons%26psc%3D1&qualifier=1659785430&id=1951265962231133&widgetName=sp_atf#customerReviews\n",
      "https://www.amazon.in/greatindianfestival\n",
      "https://www.amazon.in/gp/slredirect/picassoRedirect.html/ref=pa_sp_atf_aps_sr_pg1_1?ie=UTF8&adId=A091874831GTQ1Z1UFY6K&url=%2FAmazonBasics-Star-Inverter-Split-White%2Fdp%2FB08J8R76J8%2Fref%3Dsr_1_1_sspa%3Fcrid%3D3HI4YQZMX3EQD%26keywords%3Dwindow%2Ba.c%26qid%3D1659785430%26sprefix%3Dwindow%2Ba.c%252Caps%252C530%26sr%3D8-1-spons%26psc%3D1&qualifier=1659785430&id=1951265962231133&widgetName=sp_atf\n",
      "https://www.amazon.in/gp/slredirect/picassoRedirect.html/ref=pa_sp_atf_aps_sr_pg1_1?ie=UTF8&adId=A08977923A3HZ9GQYVR74&url=%2FAmazonBasics-1-5-Ton-Air-Conditioner%2Fdp%2FB08J8SF74V%2Fref%3Dsr_1_2_sspa%3Fcrid%3D3HI4YQZMX3EQD%26keywords%3Dwindow%2Ba.c%26qid%3D1659785430%26sprefix%3Dwindow%2Ba.c%252Caps%252C530%26sr%3D8-2-spons%26psc%3D1&qualifier=1659785430&id=1951265962231133&widgetName=sp_atf\n",
      "javascript:void(0)\n",
      "https://www.amazon.in/s?k=window+a.c&crid=3HI4YQZMX3EQD&sprefix=window+a.c%2Caps%2C530&ref=nb_sb_noss_1#\n",
      "https://www.amazon.in/gp/slredirect/picassoRedirect.html/ref=pa_sp_atf_aps_sr_pg1_1?ie=UTF8&adId=A08977923A3HZ9GQYVR74&url=%2FAmazonBasics-1-5-Ton-Air-Conditioner%2Fdp%2FB08J8SF74V%2Fref%3Dsr_1_2_sspa%3Fcrid%3D3HI4YQZMX3EQD%26keywords%3Dwindow%2Ba.c%26qid%3D1659785430%26sprefix%3Dwindow%2Ba.c%252Caps%252C530%26sr%3D8-2-spons%26psc%3D1&qualifier=1659785430&id=1951265962231133&widgetName=sp_atf\n",
      "javascript:void(0)\n",
      "https://www.amazon.in/gp/slredirect/picassoRedirect.html/ref=pa_sp_atf_aps_sr_pg1_1?ie=UTF8&adId=A08977923A3HZ9GQYVR74&url=%2FAmazonBasics-1-5-Ton-Air-Conditioner%2Fdp%2FB08J8SF74V%2Fref%3Dsr_1_2_sspa%3Fcrid%3D3HI4YQZMX3EQD%26keywords%3Dwindow%2Ba.c%26qid%3D1659785430%26sprefix%3Dwindow%2Ba.c%252Caps%252C530%26sr%3D8-2-spons%26psc%3D1&qualifier=1659785430&id=1951265962231133&widgetName=sp_atf#customerReviews\n",
      "https://www.amazon.in/greatindianfestival\n",
      "https://www.amazon.in/gp/slredirect/picassoRedirect.html/ref=pa_sp_atf_aps_sr_pg1_1?ie=UTF8&adId=A08977923A3HZ9GQYVR74&url=%2FAmazonBasics-1-5-Ton-Air-Conditioner%2Fdp%2FB08J8SF74V%2Fref%3Dsr_1_2_sspa%3Fcrid%3D3HI4YQZMX3EQD%26keywords%3Dwindow%2Ba.c%26qid%3D1659785430%26sprefix%3Dwindow%2Ba.c%252Caps%252C530%26sr%3D8-2-spons%26psc%3D1&qualifier=1659785430&id=1951265962231133&widgetName=sp_atf\n",
      "javascript:void(0)\n",
      "https://www.amazon.in/Havells-Lloyd-Window-GLW18B3YWSES-Copper/dp/B09SGNMD7R/ref=sr_1_3?crid=3HI4YQZMX3EQD&keywords=window+a.c&qid=1659785430&sprefix=window+a.c%2Caps%2C530&sr=8-3\n",
      "https://www.amazon.in/Havells-Lloyd-Window-GLW18B3YWSES-Copper/dp/B09SGNMD7R/ref=sr_1_3?crid=3HI4YQZMX3EQD&keywords=window+a.c&qid=1659785430&sprefix=window+a.c%2Caps%2C530&sr=8-3\n",
      "javascript:void(0)\n",
      "https://www.amazon.in/Havells-Lloyd-Window-GLW18B3YWSES-Copper/dp/B09SGNMD7R/ref=sr_1_3?crid=3HI4YQZMX3EQD&keywords=window+a.c&qid=1659785430&sprefix=window+a.c%2Caps%2C530&sr=8-3#customerReviews\n",
      "https://www.amazon.in/greatindianfestival\n",
      "https://www.amazon.in/Havells-Lloyd-Window-GLW18B3YWSES-Copper/dp/B09SGNMD7R/ref=sr_1_3?crid=3HI4YQZMX3EQD&keywords=window+a.c&qid=1659785430&sprefix=window+a.c%2Caps%2C530&sr=8-3\n",
      "https://www.amazon.in/gp/offer-listing/B09SGNMD7R/ref=sr_1_3_olp?keywords=window+a.c&crid=3HI4YQZMX3EQD&sprefix=window+a.c%2Caps%2C530&qid=1659785430&sr=8-3\n",
      "https://www.amazon.in/AmazonBasics-1-5-Ton-Air-Conditioner/dp/B08J8V4QHD/ref=sr_1_4?crid=3HI4YQZMX3EQD&keywords=window+a.c&qid=1659785430&sprefix=window+a.c%2Caps%2C530&sr=8-4\n",
      "https://www.amazon.in/AmazonBasics-1-5-Ton-Air-Conditioner/dp/B08J8V4QHD/ref=sr_1_4?crid=3HI4YQZMX3EQD&keywords=window+a.c&qid=1659785430&sprefix=window+a.c%2Caps%2C530&sr=8-4\n",
      "javascript:void(0)\n",
      "https://www.amazon.in/AmazonBasics-1-5-Ton-Air-Conditioner/dp/B08J8V4QHD/ref=sr_1_4?crid=3HI4YQZMX3EQD&keywords=window+a.c&qid=1659785430&sprefix=window+a.c%2Caps%2C530&sr=8-4#customerReviews\n",
      "https://www.amazon.in/AmazonBasics-1-5-Ton-Air-Conditioner/dp/B08J8V4QHD/ref=sr_1_4?crid=3HI4YQZMX3EQD&keywords=window+a.c&qid=1659785430&sprefix=window+a.c%2Caps%2C530&sr=8-4\n",
      "https://www.amazon.in/Blue-Star-Window-Copper-WFA518LL/dp/B09VKNYNBV/ref=sr_1_5?crid=3HI4YQZMX3EQD&keywords=window+a.c&qid=1659785430&sprefix=window+a.c%2Caps%2C530&sr=8-5\n",
      "https://www.amazon.in/Blue-Star-Window-Copper-WFA518LL/dp/B09VKNYNBV/ref=sr_1_5?crid=3HI4YQZMX3EQD&keywords=window+a.c&qid=1659785430&sprefix=window+a.c%2Caps%2C530&sr=8-5\n",
      "javascript:void(0)\n",
      "https://www.amazon.in/Blue-Star-Window-Copper-WFA518LL/dp/B09VKNYNBV/ref=sr_1_5?crid=3HI4YQZMX3EQD&keywords=window+a.c&qid=1659785430&sprefix=window+a.c%2Caps%2C530&sr=8-5#customerReviews\n",
      "https://www.amazon.in/Voltas-Window-Copper-18H-DZB/dp/B08MFM4G64/ref=sr_1_6?crid=3HI4YQZMX3EQD&keywords=window+a.c&qid=1659785430&sprefix=window+a.c%2Caps%2C530&sr=8-6\n",
      "https://www.amazon.in/Voltas-Window-Copper-18H-DZB/dp/B08MFM4G64/ref=sr_1_6?crid=3HI4YQZMX3EQD&keywords=window+a.c&qid=1659785430&sprefix=window+a.c%2Caps%2C530&sr=8-6\n",
      "javascript:void(0)\n",
      "https://www.amazon.in/Voltas-Window-Copper-18H-DZB/dp/B08MFM4G64/ref=sr_1_6?crid=3HI4YQZMX3EQD&keywords=window+a.c&qid=1659785430&sprefix=window+a.c%2Caps%2C530&sr=8-6#customerReviews\n",
      "https://www.amazon.in/LG-Inverter-Convertible-cooling-PW-Q18WUXA/dp/B09PZ1GZ8R/ref=sr_1_7?crid=3HI4YQZMX3EQD&keywords=window+a.c&qid=1659785430&sprefix=window+a.c%2Caps%2C530&sr=8-7\n",
      "https://www.amazon.in/LG-Inverter-Convertible-cooling-PW-Q18WUXA/dp/B09PZ1GZ8R/ref=sr_1_7?crid=3HI4YQZMX3EQD&keywords=window+a.c&qid=1659785430&sprefix=window+a.c%2Caps%2C530&sr=8-7\n",
      "javascript:void(0)\n",
      "https://www.amazon.in/LG-Inverter-Convertible-cooling-PW-Q18WUXA/dp/B09PZ1GZ8R/ref=sr_1_7?crid=3HI4YQZMX3EQD&keywords=window+a.c&qid=1659785430&sprefix=window+a.c%2Caps%2C530&sr=8-7#customerReviews\n"
     ]
    },
    {
     "name": "stdout",
     "output_type": "stream",
     "text": [
      "https://www.amazon.in/LG-Inverter-Window-JW-Q18WUXA1-Discharge/dp/B082TG8SP1/ref=sr_1_8?crid=3HI4YQZMX3EQD&keywords=window+a.c&qid=1659785430&sprefix=window+a.c%2Caps%2C530&sr=8-8\n",
      "https://www.amazon.in/LG-Inverter-Window-JW-Q18WUXA1-Discharge/dp/B082TG8SP1/ref=sr_1_8?crid=3HI4YQZMX3EQD&keywords=window+a.c&qid=1659785430&sprefix=window+a.c%2Caps%2C530&sr=8-8\n",
      "javascript:void(0)\n",
      "https://www.amazon.in/LG-Inverter-Window-JW-Q18WUXA1-Discharge/dp/B082TG8SP1/ref=sr_1_8?crid=3HI4YQZMX3EQD&keywords=window+a.c&qid=1659785430&sprefix=window+a.c%2Caps%2C530&sr=8-8#customerReviews\n",
      "https://www.amazon.in/Lloyd-Window-GLW18B5YWGEW-Copper-Golden/dp/B09SGLJVLS/ref=sr_1_9?crid=3HI4YQZMX3EQD&keywords=window+a.c&qid=1659785430&sprefix=window+a.c%2Caps%2C530&sr=8-9\n",
      "https://www.amazon.in/Lloyd-Window-GLW18B5YWGEW-Copper-Golden/dp/B09SGLJVLS/ref=sr_1_9?crid=3HI4YQZMX3EQD&keywords=window+a.c&qid=1659785430&sprefix=window+a.c%2Caps%2C530&sr=8-9\n",
      "javascript:void(0)\n",
      "https://www.amazon.in/Lloyd-Window-GLW18B5YWGEW-Copper-Golden/dp/B09SGLJVLS/ref=sr_1_9?crid=3HI4YQZMX3EQD&keywords=window+a.c&qid=1659785430&sprefix=window+a.c%2Caps%2C530&sr=8-9#customerReviews\n",
      "https://www.amazon.in/Lloyd-Window-GLW18B5YWGEW-Copper-Golden/dp/B09SGLJVLS/ref=sr_1_9?crid=3HI4YQZMX3EQD&keywords=window+a.c&qid=1659785430&sprefix=window+a.c%2Caps%2C530&sr=8-9\n",
      "https://www.amazon.in/Blue-Star-Window-Copper-WFA512LL/dp/B09RTGTRTH/ref=sr_1_10?crid=3HI4YQZMX3EQD&keywords=window+a.c&qid=1659785430&sprefix=window+a.c%2Caps%2C530&sr=8-10\n",
      "https://www.amazon.in/Blue-Star-Window-Copper-WFA512LL/dp/B09RTGTRTH/ref=sr_1_10?crid=3HI4YQZMX3EQD&keywords=window+a.c&qid=1659785430&sprefix=window+a.c%2Caps%2C530&sr=8-10\n",
      "javascript:void(0)\n",
      "https://www.amazon.in/Blue-Star-Window-Copper-WFA512LL/dp/B09RTGTRTH/ref=sr_1_10?crid=3HI4YQZMX3EQD&keywords=window+a.c&qid=1659785430&sprefix=window+a.c%2Caps%2C530&sr=8-10#customerReviews\n",
      "https://www.amazon.in/Blue-Star-Window-Copper-WFA512LL/dp/B09RTGTRTH/ref=sr_1_10?crid=3HI4YQZMX3EQD&keywords=window+a.c&qid=1659785430&sprefix=window+a.c%2Caps%2C530&sr=8-10\n",
      "https://www.amazon.in/gp/slredirect/picassoRedirect.html/ref=pa_sp_mtf_aps_sr_pg1_1?ie=UTF8&adId=A0547090HRPCBZEBXQ35&url=%2FGodrej-GSC-18-RGN-CWQR%2Fdp%2FB079MDCHZ2%2Fref%3Dsr_1_11_sspa%3Fcrid%3D3HI4YQZMX3EQD%26keywords%3Dwindow%2Ba.c%26qid%3D1659785430%26sprefix%3Dwindow%2Ba.c%252Caps%252C530%26sr%3D8-11-spons%26psc%3D1&qualifier=1659785430&id=1951265962231133&widgetName=sp_mtf\n",
      "javascript:void(0)\n",
      "https://www.amazon.in/s?k=window+a.c&crid=3HI4YQZMX3EQD&sprefix=window+a.c%2Caps%2C530&ref=nb_sb_noss_1#\n",
      "https://www.amazon.in/gp/slredirect/picassoRedirect.html/ref=pa_sp_mtf_aps_sr_pg1_1?ie=UTF8&adId=A0547090HRPCBZEBXQ35&url=%2FGodrej-GSC-18-RGN-CWQR%2Fdp%2FB079MDCHZ2%2Fref%3Dsr_1_11_sspa%3Fcrid%3D3HI4YQZMX3EQD%26keywords%3Dwindow%2Ba.c%26qid%3D1659785430%26sprefix%3Dwindow%2Ba.c%252Caps%252C530%26sr%3D8-11-spons%26psc%3D1&qualifier=1659785430&id=1951265962231133&widgetName=sp_mtf\n",
      "javascript:void(0)\n",
      "https://www.amazon.in/gp/slredirect/picassoRedirect.html/ref=pa_sp_mtf_aps_sr_pg1_1?ie=UTF8&adId=A0547090HRPCBZEBXQ35&url=%2FGodrej-GSC-18-RGN-CWQR%2Fdp%2FB079MDCHZ2%2Fref%3Dsr_1_11_sspa%3Fcrid%3D3HI4YQZMX3EQD%26keywords%3Dwindow%2Ba.c%26qid%3D1659785430%26sprefix%3Dwindow%2Ba.c%252Caps%252C530%26sr%3D8-11-spons%26psc%3D1&qualifier=1659785430&id=1951265962231133&widgetName=sp_mtf#customerReviews\n",
      "https://www.amazon.in/gp/slredirect/picassoRedirect.html/ref=pa_sp_mtf_aps_sr_pg1_1?ie=UTF8&adId=A00296043CGDTC5JCF0YU&url=%2FDaikin-Inverter-Split-Copper-FTKF50TV%2Fdp%2FB07HFK5FSD%2Fref%3Dsr_1_12_sspa%3Fcrid%3D3HI4YQZMX3EQD%26keywords%3Dwindow%2Ba.c%26qid%3D1659785430%26sprefix%3Dwindow%2Ba.c%252Caps%252C530%26sr%3D8-12-spons%26psc%3D1&qualifier=1659785430&id=1951265962231133&widgetName=sp_mtf\n",
      "javascript:void(0)\n",
      "https://www.amazon.in/s?k=window+a.c&crid=3HI4YQZMX3EQD&sprefix=window+a.c%2Caps%2C530&ref=nb_sb_noss_1#\n",
      "https://www.amazon.in/gp/slredirect/picassoRedirect.html/ref=pa_sp_mtf_aps_sr_pg1_1?ie=UTF8&adId=A00296043CGDTC5JCF0YU&url=%2FDaikin-Inverter-Split-Copper-FTKF50TV%2Fdp%2FB07HFK5FSD%2Fref%3Dsr_1_12_sspa%3Fcrid%3D3HI4YQZMX3EQD%26keywords%3Dwindow%2Ba.c%26qid%3D1659785430%26sprefix%3Dwindow%2Ba.c%252Caps%252C530%26sr%3D8-12-spons%26psc%3D1&qualifier=1659785430&id=1951265962231133&widgetName=sp_mtf\n",
      "javascript:void(0)\n",
      "https://www.amazon.in/gp/slredirect/picassoRedirect.html/ref=pa_sp_mtf_aps_sr_pg1_1?ie=UTF8&adId=A00296043CGDTC5JCF0YU&url=%2FDaikin-Inverter-Split-Copper-FTKF50TV%2Fdp%2FB07HFK5FSD%2Fref%3Dsr_1_12_sspa%3Fcrid%3D3HI4YQZMX3EQD%26keywords%3Dwindow%2Ba.c%26qid%3D1659785430%26sprefix%3Dwindow%2Ba.c%252Caps%252C530%26sr%3D8-12-spons%26psc%3D1&qualifier=1659785430&id=1951265962231133&widgetName=sp_mtf#customerReviews\n",
      "https://www.amazon.in/gp/slredirect/picassoRedirect.html/ref=pa_sp_mtf_aps_sr_pg1_1?ie=UTF8&adId=A00296043CGDTC5JCF0YU&url=%2FDaikin-Inverter-Split-Copper-FTKF50TV%2Fdp%2FB07HFK5FSD%2Fref%3Dsr_1_12_sspa%3Fcrid%3D3HI4YQZMX3EQD%26keywords%3Dwindow%2Ba.c%26qid%3D1659785430%26sprefix%3Dwindow%2Ba.c%252Caps%252C530%26sr%3D8-12-spons%26psc%3D1&qualifier=1659785430&id=1951265962231133&widgetName=sp_mtf\n",
      "https://www.amazon.in/Voltas-Window-183CYA-183-CZP/dp/B00NBM4LJ0/ref=sr_1_13?crid=3HI4YQZMX3EQD&keywords=window+a.c&qid=1659785430&sprefix=window+a.c%2Caps%2C530&sr=8-13\n",
      "https://www.amazon.in/Voltas-Window-183CYA-183-CZP/dp/B00NBM4LJ0/ref=sr_1_13?crid=3HI4YQZMX3EQD&keywords=window+a.c&qid=1659785430&sprefix=window+a.c%2Caps%2C530&sr=8-13\n",
      "javascript:void(0)\n",
      "https://www.amazon.in/Voltas-Window-183CYA-183-CZP/dp/B00NBM4LJ0/ref=sr_1_13?crid=3HI4YQZMX3EQD&keywords=window+a.c&qid=1659785430&sprefix=window+a.c%2Caps%2C530&sr=8-13#customerReviews\n",
      "https://www.amazon.in/greatindianfestival\n",
      "https://www.amazon.in/Voltas-Window-183CYA-183-CZP/dp/B00NBM4LJ0/ref=sr_1_13?crid=3HI4YQZMX3EQD&keywords=window+a.c&qid=1659785430&sprefix=window+a.c%2Caps%2C530&sr=8-13\n",
      "https://www.amazon.in/Blue-Star-Window-Copper-WFA312LL/dp/B09RTG11JY/ref=sr_1_14?crid=3HI4YQZMX3EQD&keywords=window+a.c&qid=1659785430&sprefix=window+a.c%2Caps%2C530&sr=8-14\n",
      "https://www.amazon.in/Blue-Star-Window-Copper-WFA312LL/dp/B09RTG11JY/ref=sr_1_14?crid=3HI4YQZMX3EQD&keywords=window+a.c&qid=1659785430&sprefix=window+a.c%2Caps%2C530&sr=8-14\n",
      "javascript:void(0)\n",
      "https://www.amazon.in/Blue-Star-Window-Copper-WFA312LL/dp/B09RTG11JY/ref=sr_1_14?crid=3HI4YQZMX3EQD&keywords=window+a.c&qid=1659785430&sprefix=window+a.c%2Caps%2C530&sr=8-14#customerReviews\n",
      "https://www.amazon.in/Blue-Star-Window-Copper-WFA312LL/dp/B09RTG11JY/ref=sr_1_14?crid=3HI4YQZMX3EQD&keywords=window+a.c&qid=1659785430&sprefix=window+a.c%2Caps%2C530&sr=8-14\n",
      "https://www.amazon.in/Havells-Lloyd-Window-GLW12B3YWSEW-Copper/dp/B09SGMJD2P/ref=sr_1_15?crid=3HI4YQZMX3EQD&keywords=window+a.c&qid=1659785430&sprefix=window+a.c%2Caps%2C530&sr=8-15\n",
      "https://www.amazon.in/Havells-Lloyd-Window-GLW12B3YWSEW-Copper/dp/B09SGMJD2P/ref=sr_1_15?crid=3HI4YQZMX3EQD&keywords=window+a.c&qid=1659785430&sprefix=window+a.c%2Caps%2C530&sr=8-15\n",
      "javascript:void(0)\n",
      "https://www.amazon.in/Havells-Lloyd-Window-GLW12B3YWSEW-Copper/dp/B09SGMJD2P/ref=sr_1_15?crid=3HI4YQZMX3EQD&keywords=window+a.c&qid=1659785430&sprefix=window+a.c%2Caps%2C530&sr=8-15#customerReviews\n",
      "https://www.amazon.in/Havells-Lloyd-Window-GLW12B3YWSEW-Copper/dp/B09SGMJD2P/ref=sr_1_15?crid=3HI4YQZMX3EQD&keywords=window+a.c&qid=1659785430&sprefix=window+a.c%2Caps%2C530&sr=8-15\n",
      "https://www.amazon.in/Voltas-Star-Window-Copper-White/dp/B09WVQR375/ref=sr_1_16?crid=3HI4YQZMX3EQD&keywords=window+a.c&qid=1659785430&sprefix=window+a.c%2Caps%2C530&sr=8-16\n",
      "https://www.amazon.in/Voltas-Star-Window-Copper-White/dp/B09WVQR375/ref=sr_1_16?crid=3HI4YQZMX3EQD&keywords=window+a.c&qid=1659785430&sprefix=window+a.c%2Caps%2C530&sr=8-16\n",
      "javascript:void(0)\n",
      "https://www.amazon.in/Voltas-Star-Window-Copper-White/dp/B09WVQR375/ref=sr_1_16?crid=3HI4YQZMX3EQD&keywords=window+a.c&qid=1659785430&sprefix=window+a.c%2Caps%2C530&sr=8-16#customerReviews\n",
      "https://www.amazon.in/Voltas-Star-Window-Copper-White/dp/B09WVQR375/ref=sr_1_16?crid=3HI4YQZMX3EQD&keywords=window+a.c&qid=1659785430&sprefix=window+a.c%2Caps%2C530&sr=8-16\n",
      "https://www.amazon.in/Panasonic-Window-Copper-Filter-CW-LN182AM/dp/B09RPFQ8Z5/ref=sr_1_17?crid=3HI4YQZMX3EQD&keywords=window+a.c&qid=1659785430&sprefix=window+a.c%2Caps%2C530&sr=8-17\n",
      "https://www.amazon.in/Panasonic-Window-Copper-Filter-CW-LN182AM/dp/B09RPFQ8Z5/ref=sr_1_17?crid=3HI4YQZMX3EQD&keywords=window+a.c&qid=1659785430&sprefix=window+a.c%2Caps%2C530&sr=8-17\n",
      "javascript:void(0)\n",
      "https://www.amazon.in/Panasonic-Window-Copper-Filter-CW-LN182AM/dp/B09RPFQ8Z5/ref=sr_1_17?crid=3HI4YQZMX3EQD&keywords=window+a.c&qid=1659785430&sprefix=window+a.c%2Caps%2C530&sr=8-17#customerReviews\n",
      "https://www.amazon.in/greatindianfestival\n",
      "https://www.amazon.in/Panasonic-Window-Copper-Filter-CW-LN182AM/dp/B09RPFQ8Z5/ref=sr_1_17?crid=3HI4YQZMX3EQD&keywords=window+a.c&qid=1659785430&sprefix=window+a.c%2Caps%2C530&sr=8-17\n",
      "https://www.amazon.in/Blue-Star-Portable-Copper-PC12DB/dp/B07W6NX7BJ/ref=sr_1_18?crid=3HI4YQZMX3EQD&keywords=window+a.c&qid=1659785430&sprefix=window+a.c%2Caps%2C530&sr=8-18\n",
      "https://www.amazon.in/Blue-Star-Portable-Copper-PC12DB/dp/B07W6NX7BJ/ref=sr_1_18?crid=3HI4YQZMX3EQD&keywords=window+a.c&qid=1659785430&sprefix=window+a.c%2Caps%2C530&sr=8-18\n",
      "javascript:void(0)\n",
      "https://www.amazon.in/Blue-Star-Portable-Copper-PC12DB/dp/B07W6NX7BJ/ref=sr_1_18?crid=3HI4YQZMX3EQD&keywords=window+a.c&qid=1659785430&sprefix=window+a.c%2Caps%2C530&sr=8-18#customerReviews\n",
      "https://www.amazon.in/Voltas-Window-173-DZA-regular/dp/B08SWDZT17/ref=sr_1_19?crid=3HI4YQZMX3EQD&keywords=window+a.c&qid=1659785430&sprefix=window+a.c%2Caps%2C530&sr=8-19\n",
      "https://www.amazon.in/Voltas-Window-173-DZA-regular/dp/B08SWDZT17/ref=sr_1_19?crid=3HI4YQZMX3EQD&keywords=window+a.c&qid=1659785430&sprefix=window+a.c%2Caps%2C530&sr=8-19\n",
      "javascript:void(0)\n",
      "https://www.amazon.in/Voltas-Window-173-DZA-regular/dp/B08SWDZT17/ref=sr_1_19?crid=3HI4YQZMX3EQD&keywords=window+a.c&qid=1659785430&sprefix=window+a.c%2Caps%2C530&sr=8-19#customerReviews\n",
      "https://www.amazon.in/Blue-Star-Inverter-Window-WIA418LL/dp/B09RTGCQ2R/ref=sr_1_20?crid=3HI4YQZMX3EQD&keywords=window+a.c&qid=1659785430&sprefix=window+a.c%2Caps%2C530&sr=8-20\n",
      "https://www.amazon.in/Blue-Star-Inverter-Window-WIA418LL/dp/B09RTGCQ2R/ref=sr_1_20?crid=3HI4YQZMX3EQD&keywords=window+a.c&qid=1659785430&sprefix=window+a.c%2Caps%2C530&sr=8-20\n",
      "javascript:void(0)\n",
      "https://www.amazon.in/Blue-Star-Inverter-Window-WIA418LL/dp/B09RTGCQ2R/ref=sr_1_20?crid=3HI4YQZMX3EQD&keywords=window+a.c&qid=1659785430&sprefix=window+a.c%2Caps%2C530&sr=8-20#customerReviews\n",
      "https://www.amazon.in/Blue-Star-Inverter-Window-WIA418LL/dp/B09RTGCQ2R/ref=sr_1_20?crid=3HI4YQZMX3EQD&keywords=window+a.c&qid=1659785430&sprefix=window+a.c%2Caps%2C530&sr=8-20\n"
     ]
    },
    {
     "name": "stdout",
     "output_type": "stream",
     "text": [
      "https://www.amazon.in/gp/slredirect/picassoRedirect.html/ref=pa_sp_btf_aps_sr_pg1_1?ie=UTF8&adId=A00298484V2J4OMS771I&url=%2FDaikin-Inverter-Split-Copper-JTKJ50TV%2Fdp%2FB07HFFRC3V%2Fref%3Dsr_1_21_sspa%3Fcrid%3D3HI4YQZMX3EQD%26keywords%3Dwindow%2Ba.c%26qid%3D1659785430%26sprefix%3Dwindow%2Ba.c%252Caps%252C530%26sr%3D8-21-spons%26psc%3D1&qualifier=1659785430&id=1951265962231133&widgetName=sp_btf\n",
      "javascript:void(0)\n",
      "https://www.amazon.in/s?k=window+a.c&crid=3HI4YQZMX3EQD&sprefix=window+a.c%2Caps%2C530&ref=nb_sb_noss_1#\n",
      "https://www.amazon.in/gp/slredirect/picassoRedirect.html/ref=pa_sp_btf_aps_sr_pg1_1?ie=UTF8&adId=A00298484V2J4OMS771I&url=%2FDaikin-Inverter-Split-Copper-JTKJ50TV%2Fdp%2FB07HFFRC3V%2Fref%3Dsr_1_21_sspa%3Fcrid%3D3HI4YQZMX3EQD%26keywords%3Dwindow%2Ba.c%26qid%3D1659785430%26sprefix%3Dwindow%2Ba.c%252Caps%252C530%26sr%3D8-21-spons%26psc%3D1&qualifier=1659785430&id=1951265962231133&widgetName=sp_btf\n",
      "javascript:void(0)\n",
      "https://www.amazon.in/gp/slredirect/picassoRedirect.html/ref=pa_sp_btf_aps_sr_pg1_1?ie=UTF8&adId=A00298484V2J4OMS771I&url=%2FDaikin-Inverter-Split-Copper-JTKJ50TV%2Fdp%2FB07HFFRC3V%2Fref%3Dsr_1_21_sspa%3Fcrid%3D3HI4YQZMX3EQD%26keywords%3Dwindow%2Ba.c%26qid%3D1659785430%26sprefix%3Dwindow%2Ba.c%252Caps%252C530%26sr%3D8-21-spons%26psc%3D1&qualifier=1659785430&id=1951265962231133&widgetName=sp_btf#customerReviews\n",
      "https://www.amazon.in/gp/slredirect/picassoRedirect.html/ref=pa_sp_btf_aps_sr_pg1_1?ie=UTF8&adId=A00298484V2J4OMS771I&url=%2FDaikin-Inverter-Split-Copper-JTKJ50TV%2Fdp%2FB07HFFRC3V%2Fref%3Dsr_1_21_sspa%3Fcrid%3D3HI4YQZMX3EQD%26keywords%3Dwindow%2Ba.c%26qid%3D1659785430%26sprefix%3Dwindow%2Ba.c%252Caps%252C530%26sr%3D8-21-spons%26psc%3D1&qualifier=1659785430&id=1951265962231133&widgetName=sp_btf\n",
      "https://www.amazon.in/s?k=window+a.c&page=2&crid=3HI4YQZMX3EQD&qid=1659785430&sprefix=window+a.c%2Caps%2C530&ref=sr_pg_2\n",
      "https://www.amazon.in/s?k=window+a.c&page=3&crid=3HI4YQZMX3EQD&qid=1659785430&sprefix=window+a.c%2Caps%2C530&ref=sr_pg_3\n",
      "https://www.amazon.in/s?k=window+a.c&page=2&crid=3HI4YQZMX3EQD&qid=1659785430&sprefix=window+a.c%2Caps%2C530&ref=sr_pg_1\n",
      "https://www.amazon.in/gp/help/customer/display.html?nodeId=200533820\n",
      "https://www.amazon.in/gp/help/customer/contact-us\n",
      "https://www.amazon.in/s?k=window+a.c&crid=3HI4YQZMX3EQD&sprefix=window+a.c%2Caps%2C530&ref=nb_sb_noss_1#\n",
      "https://www.amazon.in/s?k=window+a.c&crid=3HI4YQZMX3EQD&sprefix=window+a.c%2Caps%2C530&ref=nb_sb_noss_1#s-skipLinkTargetForFilterOptions\n",
      "https://www.amazon.in/s?k=window+a.c&crid=3HI4YQZMX3EQD&sprefix=window+a.c%2Caps%2C530&ref=nb_sb_noss_1#s-skipLinkTargetForMainSearchResults\n",
      "https://www.amazon.in/s?k=window+a.c&rh=n%3A1380263031&dc&crid=3HI4YQZMX3EQD&qid=1659785430&rnid=3576079031&sprefix=window+a.c%2Caps%2C530&ref=sr_nr_n_1&ds=v1%3AFYGbrBoYX9B79ukyL%2F9KS28loj%2BLqIt3YqrS35g%2F2Ws\n",
      "https://www.amazon.in/s?k=window+a.c&rh=n%3A1380263031%2Cn%3A3474656031&dc&crid=3HI4YQZMX3EQD&qid=1659785430&rnid=3576079031&sprefix=window+a.c%2Caps%2C530&ref=sr_nr_n_2&ds=v1%3AjChBJYPrpImvHYoW96U7vf%2BRkFeD0QBVf%2FXUoJNoSkc\n",
      "https://www.amazon.in/s?k=window+a.c&i=kitchen&dc&crid=3HI4YQZMX3EQD&qid=1659785430&sprefix=window+a.c%2Caps%2C530&ref=sr_nr_i_3&ds=v1%3ActoJuMJaIr7AQ9H4LhhEGbJMRdEKocHvuqCXRPnEhOw\n",
      "https://www.amazon.in/s?k=window+a.c&i=appliances&dc&crid=3HI4YQZMX3EQD&qid=1659785430&sprefix=window+a.c%2Caps%2C530&ref=sr_nr_i_4&ds=v1%3Av92W1B269rohZ7m5xr5GekZU8fAO%2FRh3s2FUngww1Ns\n",
      "https://www.amazon.in/s?k=window+a.c&i=automotive&dc&crid=3HI4YQZMX3EQD&qid=1659785430&sprefix=window+a.c%2Caps%2C530&ref=sr_nr_i_5&ds=v1%3AVQXig9nZdMkxTUTDwnnNimjyokCvvnywsFKucwCkq6Q\n",
      "https://www.amazon.in/s?k=window+a.c&i=home-improvement&dc&crid=3HI4YQZMX3EQD&qid=1659785430&sprefix=window+a.c%2Caps%2C530&ref=sr_nr_i_6&ds=v1%3AUhLEvUWtTdZlcup3NR%2BiZxqs%2FGXug56vU9mMTn9gwrg\n",
      "https://www.amazon.in/s?k=window+a.c&i=hpc&dc&crid=3HI4YQZMX3EQD&qid=1659785430&sprefix=window+a.c%2Caps%2C530&ref=sr_nr_i_7&ds=v1%3AU%2BzMIa3huEOVJzjLUn0vj5y5ntdHwRYR8nSqETlQ%2BIM\n",
      "https://www.amazon.in/s?k=window+a.c&i=computers&dc&crid=3HI4YQZMX3EQD&qid=1659785430&sprefix=window+a.c%2Caps%2C530&ref=sr_nr_i_8&ds=v1%3AGJgXluO6VSQWPrzzZ0GKlZvcbcBBzy1%2Bml1E7vChhRg\n",
      "https://www.amazon.in/s?k=window+a.c&i=electronics&dc&crid=3HI4YQZMX3EQD&qid=1659785430&sprefix=window+a.c%2Caps%2C530&ref=sr_nr_i_9&ds=v1%3AwOpD2GoUpmFARGOGT5WqXZjYsR3l%2F7OqcDSdMBDyZmM\n",
      "javascript:void(0)\n",
      "https://www.amazon.in/s?k=window+a.c&rh=p_72%3A1318476031&dc&crid=3HI4YQZMX3EQD&qid=1659785430&rnid=1318475031&sprefix=window+a.c%2Caps%2C530&ref=sr_nr_p_72_1&ds=v1%3AWCnHMBEi1RTbbvAxp2QzQVPCg%2BbOzwwIsgkC3pTTfA4\n",
      "https://www.amazon.in/s?k=window+a.c&rh=p_72%3A1318477031&dc&crid=3HI4YQZMX3EQD&qid=1659785430&rnid=1318475031&sprefix=window+a.c%2Caps%2C530&ref=sr_nr_p_72_2&ds=v1%3AEEyJTN865nsPxSP3nm8ogNoqOZyf1CB%2BCG3fWRiq7HE\n",
      "https://www.amazon.in/s?k=window+a.c&rh=p_72%3A1318478031&dc&crid=3HI4YQZMX3EQD&qid=1659785430&rnid=1318475031&sprefix=window+a.c%2Caps%2C530&ref=sr_nr_p_72_3&ds=v1%3Ah1iTaLxseozZ6BP9Arhr%2Bv1MVJ8jvh4ocFNVeJiPiu4\n",
      "https://www.amazon.in/s?k=window+a.c&rh=p_72%3A1318479031&dc&crid=3HI4YQZMX3EQD&qid=1659785430&rnid=1318475031&sprefix=window+a.c%2Caps%2C530&ref=sr_nr_p_72_4&ds=v1%3A7f%2Fvi1FahQD5fSn8gunVeVbmCRHTtOc0eOBhkBUNA74\n",
      "https://www.amazon.in/s?k=window+a.c&rh=n%3A3474656031%2Cp_89%3AVoltas&dc&crid=3HI4YQZMX3EQD&qid=1659785430&rnid=3837712031&sprefix=window+a.c%2Caps%2C530&ref=sr_nr_p_89_1&ds=v1%3AWZZr2J5sVFNX2bsSZ2OOa4AmZ0xkKX9MdV9wE%2FPSN%2Bs\n",
      "https://www.amazon.in/s?k=window+a.c&rh=n%3A3474656031%2Cp_89%3ASamsung&dc&crid=3HI4YQZMX3EQD&qid=1659785430&rnid=3837712031&sprefix=window+a.c%2Caps%2C530&ref=sr_nr_p_89_2&ds=v1%3Aa%2FPdChgZtFxvRD1W1bpQGZLXvr%2BBUepCMZHLNQYv62k\n",
      "https://www.amazon.in/s?k=window+a.c&rh=n%3A3474656031%2Cp_89%3ABlue+Star&dc&crid=3HI4YQZMX3EQD&qid=1659785430&rnid=3837712031&sprefix=window+a.c%2Caps%2C530&ref=sr_nr_p_89_3&ds=v1%3AH7mjl7eOIMKgCNl3PqUJTPn%2B4VVsOVkSmrZvl%2FiX5MM\n",
      "https://www.amazon.in/s?k=window+a.c&rh=n%3A3474656031%2Cp_89%3ALG&dc&crid=3HI4YQZMX3EQD&qid=1659785430&rnid=3837712031&sprefix=window+a.c%2Caps%2C530&ref=sr_nr_p_89_4&ds=v1%3AJSVVwhVuOLyOmhaBkkZjtrZu3SeqWuwrfes0CTVbNHM\n",
      "https://www.amazon.in/s?k=window+a.c&rh=n%3A3474656031%2Cp_89%3AGeneric&dc&crid=3HI4YQZMX3EQD&qid=1659785430&rnid=3837712031&sprefix=window+a.c%2Caps%2C530&ref=sr_nr_p_89_5&ds=v1%3AfgItsjdtKEc8neZZqxgMG%2BJybG5ftB2MtgH1epT5XWM\n",
      "https://www.amazon.in/s?k=window+a.c&rh=n%3A3474656031%2Cp_89%3ACarrier&dc&crid=3HI4YQZMX3EQD&qid=1659785430&rnid=3837712031&sprefix=window+a.c%2Caps%2C530&ref=sr_nr_p_89_6&ds=v1%3ApQy61wWHEnNrsUkREXvVU20WnZe2abl9BCXQEmmq4H8\n",
      "https://www.amazon.in/s?k=window+a.c&rh=p_n_is_cod_eligible%3A4931671031&dc&crid=3HI4YQZMX3EQD&qid=1659785430&rnid=4931670031&sprefix=window+a.c%2Caps%2C530&ref=sr_nr_p_n_is_cod_eligible_1&ds=v1%3A%2FrfRIVeG7PYLIvqLqHM1lhF%2Bh%2B9YmpPF3RBlACeLdio\n",
      "https://www.amazon.in/s?k=window+a.c&rh=n%3A3474656031%2Cp_n_format_browse-bin%3A13462099031&dc&crid=3HI4YQZMX3EQD&qid=1659785430&rnid=13462098031&sprefix=window+a.c%2Caps%2C530&ref=sr_nr_p_n_format_browse-bin_1&ds=v1%3AIEd%2B%2FG0s4ABuc7QwJ8pzGS9UjIIk7xRzOGzwGZn%2FJww\n",
      "https://www.amazon.in/s?k=window+a.c&rh=n%3A3474656031%2Cp_n_feature_thirteen_browse-bin%3A2753050031&dc&crid=3HI4YQZMX3EQD&qid=1659785430&rnid=2753046031&sprefix=window+a.c%2Caps%2C530&ref=sr_nr_p_n_feature_thirteen_browse-bin_1&ds=v1%3A3xUQ9hcgC%2FfS6yC5obuA22lY5val%2BLuU4CyQhjFdcqM\n",
      "https://www.amazon.in/s?k=window+a.c&rh=n%3A3474656031%2Cp_n_feature_thirteen_browse-bin%3A2753048031&dc&crid=3HI4YQZMX3EQD&qid=1659785430&rnid=2753046031&sprefix=window+a.c%2Caps%2C530&ref=sr_nr_p_n_feature_thirteen_browse-bin_2&ds=v1%3AfK953%2FuVx5fCSaFX7VtO14FDMF3kX0R7BaubmSjczzU\n",
      "https://www.amazon.in/s?k=window+a.c&rh=n%3A3474656031%2Cp_n_feature_thirteen_browse-bin%3A2753047031&dc&crid=3HI4YQZMX3EQD&qid=1659785430&rnid=2753046031&sprefix=window+a.c%2Caps%2C530&ref=sr_nr_p_n_feature_thirteen_browse-bin_3&ds=v1%3Ai0PCJytTl0kUhzGOAGLwf9jGVnd20RdbLTp44OmXY4c\n",
      "https://www.amazon.in/s?k=window+a.c&rh=n%3A3474656031%2Cp_n_feature_four_browse-bin%3A13678226031&dc&crid=3HI4YQZMX3EQD&qid=1659785430&rnid=13678225031&sprefix=window+a.c%2Caps%2C530&ref=sr_nr_p_n_feature_four_browse-bin_1&ds=v1%3AM61xvlG8UmHOzXnDzOic1JTurKNXiQ2TqZTtI8aVdDI\n",
      "https://www.amazon.in/s?k=window+a.c&rh=n%3A3474656031%2Cp_n_feature_four_browse-bin%3A13678227031&dc&crid=3HI4YQZMX3EQD&qid=1659785430&rnid=13678225031&sprefix=window+a.c%2Caps%2C530&ref=sr_nr_p_n_feature_four_browse-bin_2&ds=v1%3An4kQnYvwnit21bp1lnYGU%2BDhHLS2erKzHHWwDQKo1QI\n",
      "https://www.amazon.in/s?k=window+a.c&rh=n%3A3474656031%2Cp_n_feature_four_browse-bin%3A13678228031&dc&crid=3HI4YQZMX3EQD&qid=1659785430&rnid=13678225031&sprefix=window+a.c%2Caps%2C530&ref=sr_nr_p_n_feature_four_browse-bin_3&ds=v1%3ARjGWJe%2B4DdDCsevNoba%2BlM9BhkyraUfZ%2BFRbbw8kjv4\n",
      "https://www.amazon.in/s?k=window+a.c&rh=n%3A3474656031%2Cp_n_feature_six_browse-bin%3A28237228031&dc&crid=3HI4YQZMX3EQD&qid=1659785430&rnid=28237207031&sprefix=window+a.c%2Caps%2C530&ref=sr_nr_p_n_feature_six_browse-bin_1&ds=v1%3Atk9YgzAXE%2BhUHOzMm7z6ZeGEqidsc3IuJve1sA9avxk\n",
      "https://www.amazon.in/s?k=window+a.c&rh=n%3A3474656031%2Cp_n_feature_six_browse-bin%3A28237221031&dc&crid=3HI4YQZMX3EQD&qid=1659785430&rnid=28237207031&sprefix=window+a.c%2Caps%2C530&ref=sr_nr_p_n_feature_six_browse-bin_2&ds=v1%3AfMdiVw%2F61KeM9%2B9X80c6FYDs02tqvr9DNA8N02NlqAw\n"
     ]
    },
    {
     "name": "stdout",
     "output_type": "stream",
     "text": [
      "https://www.amazon.in/s?k=window+a.c&rh=n%3A3474656031%2Cp_n_feature_six_browse-bin%3A28237217031&dc&crid=3HI4YQZMX3EQD&qid=1659785430&rnid=28237207031&sprefix=window+a.c%2Caps%2C530&ref=sr_nr_p_n_feature_six_browse-bin_3&ds=v1%3At5%2FrBm6C0nk97Z9QDbzgtvfYpqBuYyKOlsHtWQyKcWE\n",
      "https://www.amazon.in/s?k=window+a.c&rh=n%3A3474656031%2Cp_n_feature_six_browse-bin%3A28237229031&dc&crid=3HI4YQZMX3EQD&qid=1659785430&rnid=28237207031&sprefix=window+a.c%2Caps%2C530&ref=sr_nr_p_n_feature_six_browse-bin_4&ds=v1%3AEtKUt4OCAJXH7%2B2KnzeSxOIY6QA4rpEzVlPIG7cSVU4\n",
      "https://www.amazon.in/s?k=window+a.c&rh=n%3A3474656031%2Cp_n_feature_six_browse-bin%3A28237225031&dc&crid=3HI4YQZMX3EQD&qid=1659785430&rnid=28237207031&sprefix=window+a.c%2Caps%2C530&ref=sr_nr_p_n_feature_six_browse-bin_5&ds=v1%3AMHGHa%2BVQYqpy0BYsM5X4SB%2BYpoikMf%2BrqesIzAWQWWI\n",
      "https://www.amazon.in/s?k=window+a.c&rh=n%3A3474656031%2Cp_n_feature_six_browse-bin%3A28237222031&dc&crid=3HI4YQZMX3EQD&qid=1659785430&rnid=28237207031&sprefix=window+a.c%2Caps%2C530&ref=sr_nr_p_n_feature_six_browse-bin_6&ds=v1%3A6iKE5b7jEOId7LfOHJGL5%2BH4%2BVriZi57y3W4f4ZhulY\n",
      "https://www.amazon.in/s?k=window+a.c&rh=n%3A3474656031%2Cp_n_feature_six_browse-bin%3A28237218031&dc&crid=3HI4YQZMX3EQD&qid=1659785430&rnid=28237207031&sprefix=window+a.c%2Caps%2C530&ref=sr_nr_p_n_feature_six_browse-bin_7&ds=v1%3AqOBN25cx6F%2FX8WprTan5AEJ9PIOkgGN0z3BZ8OMXt2E\n",
      "https://www.amazon.in/s?k=window+a.c&rh=n%3A3474656031%2Cp_n_feature_eleven_browse-bin%3A2753097031&dc&crid=3HI4YQZMX3EQD&qid=1659785430&rnid=2753095031&sprefix=window+a.c%2Caps%2C530&ref=sr_nr_p_n_feature_eleven_browse-bin_1&ds=v1%3AFHRFYwBzf1cqFU3CpBaxncki%2FFCkrbCiq1ROlMHQzr0\n",
      "https://www.amazon.in/s?k=window+a.c&rh=n%3A3474656031%2Cp_n_feature_eleven_browse-bin%3A2753098031&dc&crid=3HI4YQZMX3EQD&qid=1659785430&rnid=2753095031&sprefix=window+a.c%2Caps%2C530&ref=sr_nr_p_n_feature_eleven_browse-bin_2&ds=v1%3ASGOiV7XnQI5Mg99gwU3VGsxqkDw0rV6oQTRLDfPul70\n",
      "https://www.amazon.in/s?k=window+a.c&rh=n%3A3474656031%2Cp_n_feature_eleven_browse-bin%3A2753100031&dc&crid=3HI4YQZMX3EQD&qid=1659785430&rnid=2753095031&sprefix=window+a.c%2Caps%2C530&ref=sr_nr_p_n_feature_eleven_browse-bin_3&ds=v1%3A1OjjdVQ0PCMAwLxkEPWZmega74CQ4DJjO7HzHHnWqF8\n",
      "https://www.amazon.in/s?k=window+a.c&rh=n%3A3474656031%2Cp_n_feature_two_browse-bin%3A12440953031&dc&crid=3HI4YQZMX3EQD&qid=1659785430&rnid=12440951031&sprefix=window+a.c%2Caps%2C530&ref=sr_nr_p_n_feature_two_browse-bin_1&ds=v1%3AW6q4X8gigmD2LNrX9lxkqymso1tj2DyYhITkp8ylDrM\n",
      "https://www.amazon.in/s?k=window+a.c&rh=n%3A3474656031%2Cp_n_feature_three_browse-bin%3A16279412031&dc&crid=3HI4YQZMX3EQD&qid=1659785430&rnid=16279411031&sprefix=window+a.c%2Caps%2C530&ref=sr_nr_p_n_feature_three_browse-bin_1&ds=v1%3A3%2Bue81iqCVfZxRg4zmsafksN0tIt8C3cMHGIXkBY9L8\n",
      "https://www.amazon.in/s?k=window+a.c&rh=n%3A3474656031%2Cp_n_feature_three_browse-bin%3A16279415031&dc&crid=3HI4YQZMX3EQD&qid=1659785430&rnid=16279411031&sprefix=window+a.c%2Caps%2C530&ref=sr_nr_p_n_feature_three_browse-bin_2&ds=v1%3A9Mi3wEMCaDkB8fS6b8sWnYF9UjGtPi55ZvgqfDU9%2BAE\n",
      "https://www.amazon.in/s?k=window+a.c&rh=n%3A3474656031%2Cp_n_feature_three_browse-bin%3A16279413031&dc&crid=3HI4YQZMX3EQD&qid=1659785430&rnid=16279411031&sprefix=window+a.c%2Caps%2C530&ref=sr_nr_p_n_feature_three_browse-bin_3&ds=v1%3A9gYmubiBzBHQ9PSPlq9KpsGbTiC7r40%2FzLz%2BQXaWnW4\n",
      "https://www.amazon.in/s?k=window+a.c&rh=n%3A3474656031%2Cp_n_size_two_browse-vebin%3A1480416031&dc&crid=3HI4YQZMX3EQD&qid=1659785430&rnid=1480399031&sprefix=window+a.c%2Caps%2C530&ref=sr_nr_p_n_size_two_browse-vebin_1&ds=v1%3AiJgqbXGDYQKCxGTVtMyB7d9JRRjIqdzCWS95tNtsaBc\n",
      "https://www.amazon.in/s?k=window+a.c&rh=n%3A3474656031%2Cp_n_size_two_browse-vebin%3A1480403031&dc&crid=3HI4YQZMX3EQD&qid=1659785430&rnid=1480399031&sprefix=window+a.c%2Caps%2C530&ref=sr_nr_p_n_size_two_browse-vebin_2&ds=v1%3AqcwqG1XuxqzP3iaPJmKpJYgaxPsdRruTzbRcWzlov%2BE\n",
      "https://www.amazon.in/s?k=window+a.c&rh=n%3A3474656031%2Cp_n_size_two_browse-vebin%3A1480411031&dc&crid=3HI4YQZMX3EQD&qid=1659785430&rnid=1480399031&sprefix=window+a.c%2Caps%2C530&ref=sr_nr_p_n_size_two_browse-vebin_3&ds=v1%3AwzWJRhRWLTW78QThYcVTRU76IUeuW4sSvO3hSLZdYLo\n",
      "https://www.amazon.in/s?k=window+a.c&rh=n%3A3474656031%2Cp_n_size_two_browse-vebin%3A1480405031&dc&crid=3HI4YQZMX3EQD&qid=1659785430&rnid=1480399031&sprefix=window+a.c%2Caps%2C530&ref=sr_nr_p_n_size_two_browse-vebin_4&ds=v1%3ALSYIkfGxQWWq3TvPGRisRRsFhty%2BKj0Ev9Yx1yxuHB4\n",
      "https://www.amazon.in/s?k=window+a.c&rh=n%3A3474656031%2Cp_n_feature_five_browse-bin%3A28237212031&dc&crid=3HI4YQZMX3EQD&qid=1659785430&rnid=28237206031&sprefix=window+a.c%2Caps%2C530&ref=sr_nr_p_n_feature_five_browse-bin_1&ds=v1%3AzmIt88CxuZ5O%2Fj8bQ1qWEW0EAxIPENVe8kiTuUVPQ3g\n",
      "https://www.amazon.in/s?k=window+a.c&rh=n%3A3474656031%2Cp_n_feature_five_browse-bin%3A28237215031&dc&crid=3HI4YQZMX3EQD&qid=1659785430&rnid=28237206031&sprefix=window+a.c%2Caps%2C530&ref=sr_nr_p_n_feature_five_browse-bin_2&ds=v1%3AN7SNbywpjltimnomB76SKTHrwE5Bb3NYe%2BqCVPE6mbM\n",
      "https://www.amazon.in/s?k=window+a.c&rh=n%3A3474656031%2Cp_n_feature_five_browse-bin%3A28237214031&dc&crid=3HI4YQZMX3EQD&qid=1659785430&rnid=28237206031&sprefix=window+a.c%2Caps%2C530&ref=sr_nr_p_n_feature_five_browse-bin_3&ds=v1%3ARw8dSEiG0QvKvXUnzabDNkPqHq%2B0%2Bxq7uIZyDW362qI\n",
      "https://www.amazon.in/s?k=window+a.c&rh=n%3A976442031%2Cp_n_condition-type%3A8609960031&dc&crid=3HI4YQZMX3EQD&qid=1659785430&rnid=8609959031&sprefix=window+a.c%2Caps%2C530&ref=sr_nr_p_n_condition-type_1&ds=v1%3AZ76I%2BUwvuOjP9T5tQ8yy9Q8J6A4drEO22zptQ1cuQ%2FE\n",
      "https://www.amazon.in/s?k=window+a.c&rh=n%3A976442031%2Cp_n_pct-off-with-tax%3A2665399031&dc&crid=3HI4YQZMX3EQD&qid=1659785430&rnid=2665398031&sprefix=window+a.c%2Caps%2C530&ref=sr_nr_p_n_pct-off-with-tax_1&ds=v1%3AMRImUdnJZSHqRSjxuoZJ4p8IkUr6a%2BeajksZxobwm0g\n",
      "https://www.amazon.in/s?k=window+a.c&rh=n%3A976442031%2Cp_n_pct-off-with-tax%3A2665400031&dc&crid=3HI4YQZMX3EQD&qid=1659785430&rnid=2665398031&sprefix=window+a.c%2Caps%2C530&ref=sr_nr_p_n_pct-off-with-tax_2&ds=v1%3A74pMEzC9D%2FIWTNix9beP8tIWvHJr8NmD4vHa1x%2BTgBE\n",
      "https://www.amazon.in/s?k=window+a.c&rh=n%3A976442031%2Cp_n_pct-off-with-tax%3A2665402031&dc&crid=3HI4YQZMX3EQD&qid=1659785430&rnid=2665398031&sprefix=window+a.c%2Caps%2C530&ref=sr_nr_p_n_pct-off-with-tax_3&ds=v1%3Av5VxGtBflg4XguwV6bfwRkUvSjEWY0JGbvuAQyzfFf8\n",
      "https://www.amazon.in/s?k=window+a.c&rh=n%3A976442031%2Cp_n_pct-off-with-tax%3A2665401031&dc&crid=3HI4YQZMX3EQD&qid=1659785430&rnid=2665398031&sprefix=window+a.c%2Caps%2C530&ref=sr_nr_p_n_pct-off-with-tax_4&ds=v1%3AoWMwx04w9Lygf%2BYtQbJzcPxfJSfhtaRJpKt99so3sSA\n",
      "https://www.amazon.in/s?k=window+a.c&rh=n%3A976442031%2Cp_n_pct-off-with-tax%3A27060456031&dc&crid=3HI4YQZMX3EQD&qid=1659785430&rnid=2665398031&sprefix=window+a.c%2Caps%2C530&ref=sr_nr_p_n_pct-off-with-tax_5&ds=v1%3AvmOTifbGv%2BtNZ8ePqJjaLf12ccsHTJRnmrpCGPZg06c\n",
      "https://www.amazon.in/s?k=window+a.c&rh=n%3A976442031%2Cp_n_pct-off-with-tax%3A27060457031&dc&crid=3HI4YQZMX3EQD&qid=1659785430&rnid=2665398031&sprefix=window+a.c%2Caps%2C530&ref=sr_nr_p_n_pct-off-with-tax_6&ds=v1%3APVZ36WnxKQ5zpeoUyFp2wlHUJcVr6FNoENyNf8ZZQ4Y\n",
      "https://www.amazon.in/s?k=window+a.c&rh=p_n_availability%3A1318485031&dc&crid=3HI4YQZMX3EQD&qid=1659785430&rnid=1318483031&sprefix=window+a.c%2Caps%2C530&ref=sr_nr_p_n_availability_2&ds=v1%3AuU3L22fr6P6%2Fayd49qXp20FJgFS4454nMumuH1B0n3s\n",
      "https://www.amazon.in/s?k=window+a.c&crid=3HI4YQZMX3EQD&sprefix=window+a.c%2Caps%2C530&ref=nb_sb_noss_1#\n",
      "https://www.amazon.in/gp/history\n",
      "https://www.amazon.in/s?k=window+a.c&crid=3HI4YQZMX3EQD&sprefix=window+a.c%2Caps%2C530&ref=nb_sb_noss_1#nav-top\n",
      "https://www.aboutamazon.in/?utm_source=gateway&utm_medium=footer\n",
      "https://amazon.jobs/\n",
      "https://press.aboutamazon.in/?utm_source=gateway&utm_medium=footer\n",
      "https://www.amazon.in/gp/browse.html?node=8872558031&ref_=footer_cares\n",
      "https://www.amazon.in/gp/browse.html?node=4594605031&ref_=footer_smile\n",
      "https://www.amazon.science/\n",
      "https://www.amazon.in/gp/redirect.html/ref=footer_fb?location=http://www.facebook.com/AmazonIN&token=2075D5EAC7BB214089728E2183FD391706D41E94&6\n",
      "https://www.amazon.in/gp/redirect.html/ref=footer_twitter?location=http://twitter.com/AmazonIN&token=A309DFBFCB1E37A808FF531934855DC817F130B6&6\n",
      "https://www.amazon.in/gp/redirect.html?location=https://www.instagram.com/amazondotin&token=264882C912E9D005CB1D9B61F12E125D5DF9BFC7&source=standards\n",
      "https://www.amazon.in/b/?node=2838698031&ld=AZINSOANavDesktopFooter&ref_=nav_footer_sell\n",
      "https://accelerator.amazon.in/?ref_=map_1_b2b_GW_FT\n",
      "https://sell.amazon.in/grow-your-business/amazon-global-selling.html?ld=AZIN_Footer_V1&ref=AZIN_Footer_V1\n",
      "https://affiliate-program.amazon.in/?utm_campaign=assocshowcase&utm_medium=footer&utm_source=GW&ref_=footer_assoc\n",
      "https://services.amazon.in/services/fulfilment-by-amazon/benefits.html/ref=az_footer_fba?ld=AWRGINFBAfooter\n",
      "https://advertising.amazon.in/?ref=Amz.in\n",
      "https://www.amazonpay.in/merchant\n",
      "https://www.amazon.in/gp/help/customer/display.html?nodeId=GDFU3JS5AL6SYHRD&ref_=footer_covid\n"
     ]
    },
    {
     "name": "stdout",
     "output_type": "stream",
     "text": [
      "https://www.amazon.in/gp/css/homepage.html?ref_=footer_ya\n",
      "https://www.amazon.in/gp/css/returns/homepage.html?ref_=footer_hy_f_4\n",
      "https://www.amazon.in/gp/help/customer/display.html?nodeId=201083470&ref_=footer_swc\n",
      "https://www.amazon.in/gp/browse.html?node=6967393031&ref_=footer_mobapp\n",
      "https://www.amazon.in/gp/BIT/theamazonapp/ref=footer_assistant_download_copy\n",
      "https://www.amazon.in/gp/help/customer/display.html?nodeId=200507590&ref_=footer_gw_m_b_he\n",
      "https://www.amazon.in/ref=footer_logo\n",
      "https://www.amazon.in/customer-preferences/edit?ie=UTF8&preferencesReturnUrl=%2Fs%3Fk%3Dwindow%2Ba.c%26crid%3D3HI4YQZMX3EQD%26sprefix%3Dwindow%2Ba.c%252Caps%252C530%26ref%3Dnb_sb_noss_1&ref_=footer_lang\n",
      "https://www.amazon.com.au/ref=footer_au\n",
      "https://www.amazon.com.br/ref=footer_br\n",
      "https://www.amazon.ca/ref=footer_ca\n",
      "https://www.amazon.cn/ref=footer_cn\n",
      "https://www.amazon.fr/ref=footer_fr\n",
      "https://www.amazon.de/ref=footer_de\n",
      "https://www.amazon.it/ref=footer_it\n",
      "https://www.amazon.co.jp/ref=footer_jp\n",
      "https://www.amazon.com.mx/ref=footer_mx\n",
      "https://www.amazon.nl/ref=footer_nl\n",
      "https://www.amazon.pl/ref=footer_pl\n",
      "https://www.amazon.sg/ref=footer_sg\n",
      "https://www.amazon.es/ref=footer_es\n",
      "https://www.amazon.com.tr/ref=footer_tr\n",
      "https://www.amazon.ae/ref=footer_ae\n",
      "https://www.amazon.co.uk/ref=footer_uk\n",
      "https://www.amazon.com/ref=footer_us\n",
      "https://www.abebooks.com/\n",
      "https://aws.amazon.com/what-is-cloud-computing/?sc_channel=EL&sc_campaign=IN_amazonfooter\n",
      "https://www.audible.in/\n",
      "https://www.dpreview.com/\n",
      "https://www.imdb.com/\n",
      "https://www.shopbop.com/\n",
      "https://www.amazon.in/business?ref=footer_aingw\n",
      "https://www.amazon.in/now?ref=footer_amznow\n",
      "https://www.amazon.in/music/prime?ref=footer_apm\n",
      "https://www.amazon.in/gp/help/customer/display.html?nodeId=200545940&ref_=footer_cou\n",
      "https://www.amazon.in/gp/help/customer/display.html?nodeId=200534380&ref_=footer_privacy\n",
      "https://www.amazon.in/gp/help/customer/display.html?nodeId=202075050&ref_=footer_iba\n"
     ]
    }
   ],
   "source": [
    "elems = driver.find_elements(By.XPATH,'//a[@href]')\n",
    "for elem in elems:\n",
    "    print(elem.get_attribute(\"href\"))"
   ]
  },
  {
   "cell_type": "code",
   "execution_count": null,
   "id": "7d8f7ed7",
   "metadata": {},
   "outputs": [],
   "source": []
  },
  {
   "cell_type": "code",
   "execution_count": null,
   "id": "82031d64",
   "metadata": {},
   "outputs": [],
   "source": []
  },
  {
   "cell_type": "code",
   "execution_count": null,
   "id": "a47194eb",
   "metadata": {},
   "outputs": [],
   "source": []
  },
  {
   "cell_type": "markdown",
   "id": "eebb2dbe",
   "metadata": {},
   "source": [
    "# IMAGES GOOGLE"
   ]
  },
  {
   "cell_type": "code",
   "execution_count": 112,
   "id": "8fdc590d",
   "metadata": {},
   "outputs": [],
   "source": [
    "import selenium\n",
    "from selenium import webdriver\n",
    "import pandas as pd\n",
    "import warnings\n",
    "warnings.filterwarnings(\"ignore\")"
   ]
  },
  {
   "cell_type": "code",
   "execution_count": 113,
   "id": "f5bd0173",
   "metadata": {},
   "outputs": [],
   "source": [
    "driver=webdriver.Chrome(r'D:\\flip robo\\chromedriver_win32\\chromedriver.exe')"
   ]
  },
  {
   "cell_type": "code",
   "execution_count": 114,
   "id": "38f3701f",
   "metadata": {},
   "outputs": [],
   "source": [
    "url=\"https://www.google.co.in/imghp?hl=en&tab=ri&authuser=0&ogbl\"\n",
    "driver.get(url)"
   ]
  },
  {
   "cell_type": "code",
   "execution_count": 115,
   "id": "2701ba9a",
   "metadata": {},
   "outputs": [],
   "source": [
    "from selenium.webdriver.common.by import By"
   ]
  },
  {
   "cell_type": "code",
   "execution_count": 116,
   "id": "234bb226",
   "metadata": {},
   "outputs": [
    {
     "data": {
      "text/plain": [
       "<selenium.webdriver.remote.webelement.WebElement (session=\"d0a199cc9c93d04812175b0e452653af\", element=\"2c7983d7-8baa-4f67-a2f1-0e1f04e2c385\")>"
      ]
     },
     "execution_count": 116,
     "metadata": {},
     "output_type": "execute_result"
    }
   ],
   "source": [
    "search_gle=driver.find_element(By.XPATH,'/html/body/div[1]/div[3]/form/div[1]/div[1]/div[1]/div/div[2]/input')\n",
    "search_gle"
   ]
  },
  {
   "cell_type": "code",
   "execution_count": 117,
   "id": "41cb1d71",
   "metadata": {},
   "outputs": [],
   "source": [
    "search_gle.send_keys('fruit')"
   ]
  },
  {
   "cell_type": "code",
   "execution_count": 118,
   "id": "a7587b89",
   "metadata": {},
   "outputs": [
    {
     "data": {
      "text/plain": [
       "<selenium.webdriver.remote.webelement.WebElement (session=\"d0a199cc9c93d04812175b0e452653af\", element=\"78726f84-b074-4f00-8ae6-47c764b28a9d\")>"
      ]
     },
     "execution_count": 118,
     "metadata": {},
     "output_type": "execute_result"
    }
   ],
   "source": [
    "search_btn=driver.find_element(By.XPATH,'/html/body/div[1]/div[3]/form/div[1]/div[1]/div[1]/button/div')\n",
    "search_btn"
   ]
  },
  {
   "cell_type": "code",
   "execution_count": 121,
   "id": "73e5d4cf",
   "metadata": {},
   "outputs": [
    {
     "ename": "ElementClickInterceptedException",
     "evalue": "Message: element click intercepted: Element <div class=\"zgAlFc\">...</div> is not clickable at point (780, 214). Other element would receive the click: <iframe role=\"presentation\" frameborder=\"0\" scrolling=\"no\" name=\"callout\" src=\"https://ogs.google.co.in/widget/callout?prid=19028915&amp;pgid=19027681&amp;puid=3e9e72cbc9a83b93&amp;cce=1&amp;dc=1&amp;origin=https%3A%2F%2Fwww.google.co.in&amp;cn=callout&amp;pid=1&amp;spid=2&amp;hl=en\" style=\"height: 100%; width: 100%;\" data-iml=\"1659788066112\"></iframe>\n  (Session info: chrome=103.0.5060.134)\nStacktrace:\nBacktrace:\n\tOrdinal0 [0x00A36463+2188387]\n\tOrdinal0 [0x009CE461+1762401]\n\tOrdinal0 [0x008E3D78+802168]\n\tOrdinal0 [0x00917F9B+1015707]\n\tOrdinal0 [0x00915F68+1007464]\n\tOrdinal0 [0x00913C6B+998507]\n\tOrdinal0 [0x009129D9+993753]\n\tOrdinal0 [0x00908613+951827]\n\tOrdinal0 [0x0092C7DC+1099740]\n\tOrdinal0 [0x00907FF4+950260]\n\tOrdinal0 [0x0092C9F4+1100276]\n\tOrdinal0 [0x0093CC22+1166370]\n\tOrdinal0 [0x0092C5F6+1099254]\n\tOrdinal0 [0x00906BE0+945120]\n\tOrdinal0 [0x00907AD6+948950]\n\tGetHandleVerifier [0x00CD71F2+2712546]\n\tGetHandleVerifier [0x00CC886D+2652765]\n\tGetHandleVerifier [0x00AC002A+520730]\n\tGetHandleVerifier [0x00ABEE06+516086]\n\tOrdinal0 [0x009D468B+1787531]\n\tOrdinal0 [0x009D8E88+1805960]\n\tOrdinal0 [0x009D8F75+1806197]\n\tOrdinal0 [0x009E1DF1+1842673]\n\tBaseThreadInitThunk [0x75DD6739+25]\n\tRtlGetFullPathName_UEx [0x77808FEF+1215]\n\tRtlGetFullPathName_UEx [0x77808FBD+1165]\n",
     "output_type": "error",
     "traceback": [
      "\u001b[1;31m---------------------------------------------------------------------------\u001b[0m",
      "\u001b[1;31mElementClickInterceptedException\u001b[0m          Traceback (most recent call last)",
      "\u001b[1;32m~\\AppData\\Local\\Temp/ipykernel_5588/258053489.py\u001b[0m in \u001b[0;36m<module>\u001b[1;34m\u001b[0m\n\u001b[1;32m----> 1\u001b[1;33m \u001b[0msearch_btn\u001b[0m\u001b[1;33m.\u001b[0m\u001b[0mclick\u001b[0m\u001b[1;33m(\u001b[0m\u001b[1;33m)\u001b[0m\u001b[1;33m\u001b[0m\u001b[1;33m\u001b[0m\u001b[0m\n\u001b[0m",
      "\u001b[1;32m~\\anaconda3\\lib\\site-packages\\selenium\\webdriver\\remote\\webelement.py\u001b[0m in \u001b[0;36mclick\u001b[1;34m(self)\u001b[0m\n\u001b[0;32m     86\u001b[0m     \u001b[1;32mdef\u001b[0m \u001b[0mclick\u001b[0m\u001b[1;33m(\u001b[0m\u001b[0mself\u001b[0m\u001b[1;33m)\u001b[0m \u001b[1;33m->\u001b[0m \u001b[1;32mNone\u001b[0m\u001b[1;33m:\u001b[0m\u001b[1;33m\u001b[0m\u001b[1;33m\u001b[0m\u001b[0m\n\u001b[0;32m     87\u001b[0m         \u001b[1;34m\"\"\"Clicks the element.\"\"\"\u001b[0m\u001b[1;33m\u001b[0m\u001b[1;33m\u001b[0m\u001b[0m\n\u001b[1;32m---> 88\u001b[1;33m         \u001b[0mself\u001b[0m\u001b[1;33m.\u001b[0m\u001b[0m_execute\u001b[0m\u001b[1;33m(\u001b[0m\u001b[0mCommand\u001b[0m\u001b[1;33m.\u001b[0m\u001b[0mCLICK_ELEMENT\u001b[0m\u001b[1;33m)\u001b[0m\u001b[1;33m\u001b[0m\u001b[1;33m\u001b[0m\u001b[0m\n\u001b[0m\u001b[0;32m     89\u001b[0m \u001b[1;33m\u001b[0m\u001b[0m\n\u001b[0;32m     90\u001b[0m     \u001b[1;32mdef\u001b[0m \u001b[0msubmit\u001b[0m\u001b[1;33m(\u001b[0m\u001b[0mself\u001b[0m\u001b[1;33m)\u001b[0m\u001b[1;33m:\u001b[0m\u001b[1;33m\u001b[0m\u001b[1;33m\u001b[0m\u001b[0m\n",
      "\u001b[1;32m~\\anaconda3\\lib\\site-packages\\selenium\\webdriver\\remote\\webelement.py\u001b[0m in \u001b[0;36m_execute\u001b[1;34m(self, command, params)\u001b[0m\n\u001b[0;32m    394\u001b[0m             \u001b[0mparams\u001b[0m \u001b[1;33m=\u001b[0m \u001b[1;33m{\u001b[0m\u001b[1;33m}\u001b[0m\u001b[1;33m\u001b[0m\u001b[1;33m\u001b[0m\u001b[0m\n\u001b[0;32m    395\u001b[0m         \u001b[0mparams\u001b[0m\u001b[1;33m[\u001b[0m\u001b[1;34m'id'\u001b[0m\u001b[1;33m]\u001b[0m \u001b[1;33m=\u001b[0m \u001b[0mself\u001b[0m\u001b[1;33m.\u001b[0m\u001b[0m_id\u001b[0m\u001b[1;33m\u001b[0m\u001b[1;33m\u001b[0m\u001b[0m\n\u001b[1;32m--> 396\u001b[1;33m         \u001b[1;32mreturn\u001b[0m \u001b[0mself\u001b[0m\u001b[1;33m.\u001b[0m\u001b[0m_parent\u001b[0m\u001b[1;33m.\u001b[0m\u001b[0mexecute\u001b[0m\u001b[1;33m(\u001b[0m\u001b[0mcommand\u001b[0m\u001b[1;33m,\u001b[0m \u001b[0mparams\u001b[0m\u001b[1;33m)\u001b[0m\u001b[1;33m\u001b[0m\u001b[1;33m\u001b[0m\u001b[0m\n\u001b[0m\u001b[0;32m    397\u001b[0m \u001b[1;33m\u001b[0m\u001b[0m\n\u001b[0;32m    398\u001b[0m     \u001b[1;32mdef\u001b[0m \u001b[0mfind_element\u001b[0m\u001b[1;33m(\u001b[0m\u001b[0mself\u001b[0m\u001b[1;33m,\u001b[0m \u001b[0mby\u001b[0m\u001b[1;33m=\u001b[0m\u001b[0mBy\u001b[0m\u001b[1;33m.\u001b[0m\u001b[0mID\u001b[0m\u001b[1;33m,\u001b[0m \u001b[0mvalue\u001b[0m\u001b[1;33m=\u001b[0m\u001b[1;32mNone\u001b[0m\u001b[1;33m)\u001b[0m \u001b[1;33m->\u001b[0m \u001b[0mWebElement\u001b[0m\u001b[1;33m:\u001b[0m\u001b[1;33m\u001b[0m\u001b[1;33m\u001b[0m\u001b[0m\n",
      "\u001b[1;32m~\\anaconda3\\lib\\site-packages\\selenium\\webdriver\\remote\\webdriver.py\u001b[0m in \u001b[0;36mexecute\u001b[1;34m(self, driver_command, params)\u001b[0m\n\u001b[0;32m    433\u001b[0m         \u001b[0mresponse\u001b[0m \u001b[1;33m=\u001b[0m \u001b[0mself\u001b[0m\u001b[1;33m.\u001b[0m\u001b[0mcommand_executor\u001b[0m\u001b[1;33m.\u001b[0m\u001b[0mexecute\u001b[0m\u001b[1;33m(\u001b[0m\u001b[0mdriver_command\u001b[0m\u001b[1;33m,\u001b[0m \u001b[0mparams\u001b[0m\u001b[1;33m)\u001b[0m\u001b[1;33m\u001b[0m\u001b[1;33m\u001b[0m\u001b[0m\n\u001b[0;32m    434\u001b[0m         \u001b[1;32mif\u001b[0m \u001b[0mresponse\u001b[0m\u001b[1;33m:\u001b[0m\u001b[1;33m\u001b[0m\u001b[1;33m\u001b[0m\u001b[0m\n\u001b[1;32m--> 435\u001b[1;33m             \u001b[0mself\u001b[0m\u001b[1;33m.\u001b[0m\u001b[0merror_handler\u001b[0m\u001b[1;33m.\u001b[0m\u001b[0mcheck_response\u001b[0m\u001b[1;33m(\u001b[0m\u001b[0mresponse\u001b[0m\u001b[1;33m)\u001b[0m\u001b[1;33m\u001b[0m\u001b[1;33m\u001b[0m\u001b[0m\n\u001b[0m\u001b[0;32m    436\u001b[0m             response['value'] = self._unwrap_value(\n\u001b[0;32m    437\u001b[0m                 response.get('value', None))\n",
      "\u001b[1;32m~\\anaconda3\\lib\\site-packages\\selenium\\webdriver\\remote\\errorhandler.py\u001b[0m in \u001b[0;36mcheck_response\u001b[1;34m(self, response)\u001b[0m\n\u001b[0;32m    245\u001b[0m                 \u001b[0malert_text\u001b[0m \u001b[1;33m=\u001b[0m \u001b[0mvalue\u001b[0m\u001b[1;33m[\u001b[0m\u001b[1;34m'alert'\u001b[0m\u001b[1;33m]\u001b[0m\u001b[1;33m.\u001b[0m\u001b[0mget\u001b[0m\u001b[1;33m(\u001b[0m\u001b[1;34m'text'\u001b[0m\u001b[1;33m)\u001b[0m\u001b[1;33m\u001b[0m\u001b[1;33m\u001b[0m\u001b[0m\n\u001b[0;32m    246\u001b[0m             \u001b[1;32mraise\u001b[0m \u001b[0mexception_class\u001b[0m\u001b[1;33m(\u001b[0m\u001b[0mmessage\u001b[0m\u001b[1;33m,\u001b[0m \u001b[0mscreen\u001b[0m\u001b[1;33m,\u001b[0m \u001b[0mstacktrace\u001b[0m\u001b[1;33m,\u001b[0m \u001b[0malert_text\u001b[0m\u001b[1;33m)\u001b[0m  \u001b[1;31m# type: ignore[call-arg]  # mypy is not smart enough here\u001b[0m\u001b[1;33m\u001b[0m\u001b[1;33m\u001b[0m\u001b[0m\n\u001b[1;32m--> 247\u001b[1;33m         \u001b[1;32mraise\u001b[0m \u001b[0mexception_class\u001b[0m\u001b[1;33m(\u001b[0m\u001b[0mmessage\u001b[0m\u001b[1;33m,\u001b[0m \u001b[0mscreen\u001b[0m\u001b[1;33m,\u001b[0m \u001b[0mstacktrace\u001b[0m\u001b[1;33m)\u001b[0m\u001b[1;33m\u001b[0m\u001b[1;33m\u001b[0m\u001b[0m\n\u001b[0m\u001b[0;32m    248\u001b[0m \u001b[1;33m\u001b[0m\u001b[0m\n\u001b[0;32m    249\u001b[0m     \u001b[1;32mdef\u001b[0m \u001b[0m_value_or_default\u001b[0m\u001b[1;33m(\u001b[0m\u001b[0mself\u001b[0m\u001b[1;33m,\u001b[0m \u001b[0mobj\u001b[0m\u001b[1;33m:\u001b[0m \u001b[0mMapping\u001b[0m\u001b[1;33m[\u001b[0m\u001b[0m_KT\u001b[0m\u001b[1;33m,\u001b[0m \u001b[0m_VT\u001b[0m\u001b[1;33m]\u001b[0m\u001b[1;33m,\u001b[0m \u001b[0mkey\u001b[0m\u001b[1;33m:\u001b[0m \u001b[0m_KT\u001b[0m\u001b[1;33m,\u001b[0m \u001b[0mdefault\u001b[0m\u001b[1;33m:\u001b[0m \u001b[0m_VT\u001b[0m\u001b[1;33m)\u001b[0m \u001b[1;33m->\u001b[0m \u001b[0m_VT\u001b[0m\u001b[1;33m:\u001b[0m\u001b[1;33m\u001b[0m\u001b[1;33m\u001b[0m\u001b[0m\n",
      "\u001b[1;31mElementClickInterceptedException\u001b[0m: Message: element click intercepted: Element <div class=\"zgAlFc\">...</div> is not clickable at point (780, 214). Other element would receive the click: <iframe role=\"presentation\" frameborder=\"0\" scrolling=\"no\" name=\"callout\" src=\"https://ogs.google.co.in/widget/callout?prid=19028915&amp;pgid=19027681&amp;puid=3e9e72cbc9a83b93&amp;cce=1&amp;dc=1&amp;origin=https%3A%2F%2Fwww.google.co.in&amp;cn=callout&amp;pid=1&amp;spid=2&amp;hl=en\" style=\"height: 100%; width: 100%;\" data-iml=\"1659788066112\"></iframe>\n  (Session info: chrome=103.0.5060.134)\nStacktrace:\nBacktrace:\n\tOrdinal0 [0x00A36463+2188387]\n\tOrdinal0 [0x009CE461+1762401]\n\tOrdinal0 [0x008E3D78+802168]\n\tOrdinal0 [0x00917F9B+1015707]\n\tOrdinal0 [0x00915F68+1007464]\n\tOrdinal0 [0x00913C6B+998507]\n\tOrdinal0 [0x009129D9+993753]\n\tOrdinal0 [0x00908613+951827]\n\tOrdinal0 [0x0092C7DC+1099740]\n\tOrdinal0 [0x00907FF4+950260]\n\tOrdinal0 [0x0092C9F4+1100276]\n\tOrdinal0 [0x0093CC22+1166370]\n\tOrdinal0 [0x0092C5F6+1099254]\n\tOrdinal0 [0x00906BE0+945120]\n\tOrdinal0 [0x00907AD6+948950]\n\tGetHandleVerifier [0x00CD71F2+2712546]\n\tGetHandleVerifier [0x00CC886D+2652765]\n\tGetHandleVerifier [0x00AC002A+520730]\n\tGetHandleVerifier [0x00ABEE06+516086]\n\tOrdinal0 [0x009D468B+1787531]\n\tOrdinal0 [0x009D8E88+1805960]\n\tOrdinal0 [0x009D8F75+1806197]\n\tOrdinal0 [0x009E1DF1+1842673]\n\tBaseThreadInitThunk [0x75DD6739+25]\n\tRtlGetFullPathName_UEx [0x77808FEF+1215]\n\tRtlGetFullPathName_UEx [0x77808FBD+1165]\n"
     ]
    }
   ],
   "source": [
    "search_btn.click()"
   ]
  },
  {
   "cell_type": "code",
   "execution_count": 120,
   "id": "01947746",
   "metadata": {},
   "outputs": [],
   "source": [
    "import time"
   ]
  },
  {
   "cell_type": "code",
   "execution_count": 97,
   "id": "6c259930",
   "metadata": {},
   "outputs": [],
   "source": [
    "driver.execute_script(\"window.scrollTo(0,document.body.scrollHeight);\")\n",
    "time.sleep(10)"
   ]
  },
  {
   "cell_type": "code",
   "execution_count": 100,
   "id": "0e022a26",
   "metadata": {},
   "outputs": [],
   "source": [
    "imgResults = driver.find_elements(By.XPATH,\"//img[contains(@class,'rg_i Q4LuWd')]\")"
   ]
  },
  {
   "cell_type": "code",
   "execution_count": 122,
   "id": "7b10f639",
   "metadata": {},
   "outputs": [],
   "source": [
    "src = []\n",
    "for img in imgResults:\n",
    "    src.append(img.get_attribute('href'))"
   ]
  },
  {
   "cell_type": "code",
   "execution_count": 123,
   "id": "01371f30",
   "metadata": {},
   "outputs": [],
   "source": [
    "src[1]"
   ]
  },
  {
   "cell_type": "code",
   "execution_count": 124,
   "id": "54c5e390",
   "metadata": {},
   "outputs": [],
   "source": [
    "import urllib"
   ]
  },
  {
   "cell_type": "code",
   "execution_count": 125,
   "id": "ae58b7be",
   "metadata": {},
   "outputs": [
    {
     "ename": "ValueError",
     "evalue": "unknown url type: 'None'",
     "output_type": "error",
     "traceback": [
      "\u001b[1;31m---------------------------------------------------------------------------\u001b[0m",
      "\u001b[1;31mValueError\u001b[0m                                Traceback (most recent call last)",
      "\u001b[1;32m~\\AppData\\Local\\Temp/ipykernel_5588/2361481140.py\u001b[0m in \u001b[0;36m<module>\u001b[1;34m\u001b[0m\n\u001b[0;32m      1\u001b[0m \u001b[1;32mfor\u001b[0m \u001b[0mi\u001b[0m \u001b[1;32min\u001b[0m \u001b[0mrange\u001b[0m\u001b[1;33m(\u001b[0m\u001b[1;36m10\u001b[0m\u001b[1;33m)\u001b[0m\u001b[1;33m:\u001b[0m\u001b[1;33m\u001b[0m\u001b[1;33m\u001b[0m\u001b[0m\n\u001b[1;32m----> 2\u001b[1;33m     \u001b[0murllib\u001b[0m\u001b[1;33m.\u001b[0m\u001b[0mrequest\u001b[0m\u001b[1;33m.\u001b[0m\u001b[0murlretrieve\u001b[0m\u001b[1;33m(\u001b[0m\u001b[0mstr\u001b[0m\u001b[1;33m(\u001b[0m\u001b[0msrc\u001b[0m\u001b[1;33m[\u001b[0m\u001b[0mi\u001b[0m\u001b[1;33m]\u001b[0m\u001b[1;33m)\u001b[0m\u001b[1;33m,\u001b[0m\u001b[1;34m\"fruit\"\u001b[0m\u001b[1;33m.\u001b[0m\u001b[0mformat\u001b[0m\u001b[1;33m(\u001b[0m\u001b[0mi\u001b[0m\u001b[1;33m)\u001b[0m\u001b[1;33m)\u001b[0m\u001b[1;33m\u001b[0m\u001b[1;33m\u001b[0m\u001b[0m\n\u001b[0m",
      "\u001b[1;32m~\\anaconda3\\lib\\urllib\\request.py\u001b[0m in \u001b[0;36murlretrieve\u001b[1;34m(url, filename, reporthook, data)\u001b[0m\n\u001b[0;32m    237\u001b[0m     \u001b[0murl_type\u001b[0m\u001b[1;33m,\u001b[0m \u001b[0mpath\u001b[0m \u001b[1;33m=\u001b[0m \u001b[0m_splittype\u001b[0m\u001b[1;33m(\u001b[0m\u001b[0murl\u001b[0m\u001b[1;33m)\u001b[0m\u001b[1;33m\u001b[0m\u001b[1;33m\u001b[0m\u001b[0m\n\u001b[0;32m    238\u001b[0m \u001b[1;33m\u001b[0m\u001b[0m\n\u001b[1;32m--> 239\u001b[1;33m     \u001b[1;32mwith\u001b[0m \u001b[0mcontextlib\u001b[0m\u001b[1;33m.\u001b[0m\u001b[0mclosing\u001b[0m\u001b[1;33m(\u001b[0m\u001b[0murlopen\u001b[0m\u001b[1;33m(\u001b[0m\u001b[0murl\u001b[0m\u001b[1;33m,\u001b[0m \u001b[0mdata\u001b[0m\u001b[1;33m)\u001b[0m\u001b[1;33m)\u001b[0m \u001b[1;32mas\u001b[0m \u001b[0mfp\u001b[0m\u001b[1;33m:\u001b[0m\u001b[1;33m\u001b[0m\u001b[1;33m\u001b[0m\u001b[0m\n\u001b[0m\u001b[0;32m    240\u001b[0m         \u001b[0mheaders\u001b[0m \u001b[1;33m=\u001b[0m \u001b[0mfp\u001b[0m\u001b[1;33m.\u001b[0m\u001b[0minfo\u001b[0m\u001b[1;33m(\u001b[0m\u001b[1;33m)\u001b[0m\u001b[1;33m\u001b[0m\u001b[1;33m\u001b[0m\u001b[0m\n\u001b[0;32m    241\u001b[0m \u001b[1;33m\u001b[0m\u001b[0m\n",
      "\u001b[1;32m~\\anaconda3\\lib\\urllib\\request.py\u001b[0m in \u001b[0;36murlopen\u001b[1;34m(url, data, timeout, cafile, capath, cadefault, context)\u001b[0m\n\u001b[0;32m    212\u001b[0m     \u001b[1;32melse\u001b[0m\u001b[1;33m:\u001b[0m\u001b[1;33m\u001b[0m\u001b[1;33m\u001b[0m\u001b[0m\n\u001b[0;32m    213\u001b[0m         \u001b[0mopener\u001b[0m \u001b[1;33m=\u001b[0m \u001b[0m_opener\u001b[0m\u001b[1;33m\u001b[0m\u001b[1;33m\u001b[0m\u001b[0m\n\u001b[1;32m--> 214\u001b[1;33m     \u001b[1;32mreturn\u001b[0m \u001b[0mopener\u001b[0m\u001b[1;33m.\u001b[0m\u001b[0mopen\u001b[0m\u001b[1;33m(\u001b[0m\u001b[0murl\u001b[0m\u001b[1;33m,\u001b[0m \u001b[0mdata\u001b[0m\u001b[1;33m,\u001b[0m \u001b[0mtimeout\u001b[0m\u001b[1;33m)\u001b[0m\u001b[1;33m\u001b[0m\u001b[1;33m\u001b[0m\u001b[0m\n\u001b[0m\u001b[0;32m    215\u001b[0m \u001b[1;33m\u001b[0m\u001b[0m\n\u001b[0;32m    216\u001b[0m \u001b[1;32mdef\u001b[0m \u001b[0minstall_opener\u001b[0m\u001b[1;33m(\u001b[0m\u001b[0mopener\u001b[0m\u001b[1;33m)\u001b[0m\u001b[1;33m:\u001b[0m\u001b[1;33m\u001b[0m\u001b[1;33m\u001b[0m\u001b[0m\n",
      "\u001b[1;32m~\\anaconda3\\lib\\urllib\\request.py\u001b[0m in \u001b[0;36mopen\u001b[1;34m(self, fullurl, data, timeout)\u001b[0m\n\u001b[0;32m    499\u001b[0m         \u001b[1;31m# accept a URL or a Request object\u001b[0m\u001b[1;33m\u001b[0m\u001b[1;33m\u001b[0m\u001b[0m\n\u001b[0;32m    500\u001b[0m         \u001b[1;32mif\u001b[0m \u001b[0misinstance\u001b[0m\u001b[1;33m(\u001b[0m\u001b[0mfullurl\u001b[0m\u001b[1;33m,\u001b[0m \u001b[0mstr\u001b[0m\u001b[1;33m)\u001b[0m\u001b[1;33m:\u001b[0m\u001b[1;33m\u001b[0m\u001b[1;33m\u001b[0m\u001b[0m\n\u001b[1;32m--> 501\u001b[1;33m             \u001b[0mreq\u001b[0m \u001b[1;33m=\u001b[0m \u001b[0mRequest\u001b[0m\u001b[1;33m(\u001b[0m\u001b[0mfullurl\u001b[0m\u001b[1;33m,\u001b[0m \u001b[0mdata\u001b[0m\u001b[1;33m)\u001b[0m\u001b[1;33m\u001b[0m\u001b[1;33m\u001b[0m\u001b[0m\n\u001b[0m\u001b[0;32m    502\u001b[0m         \u001b[1;32melse\u001b[0m\u001b[1;33m:\u001b[0m\u001b[1;33m\u001b[0m\u001b[1;33m\u001b[0m\u001b[0m\n\u001b[0;32m    503\u001b[0m             \u001b[0mreq\u001b[0m \u001b[1;33m=\u001b[0m \u001b[0mfullurl\u001b[0m\u001b[1;33m\u001b[0m\u001b[1;33m\u001b[0m\u001b[0m\n",
      "\u001b[1;32m~\\anaconda3\\lib\\urllib\\request.py\u001b[0m in \u001b[0;36m__init__\u001b[1;34m(self, url, data, headers, origin_req_host, unverifiable, method)\u001b[0m\n\u001b[0;32m    318\u001b[0m                  \u001b[0morigin_req_host\u001b[0m\u001b[1;33m=\u001b[0m\u001b[1;32mNone\u001b[0m\u001b[1;33m,\u001b[0m \u001b[0munverifiable\u001b[0m\u001b[1;33m=\u001b[0m\u001b[1;32mFalse\u001b[0m\u001b[1;33m,\u001b[0m\u001b[1;33m\u001b[0m\u001b[1;33m\u001b[0m\u001b[0m\n\u001b[0;32m    319\u001b[0m                  method=None):\n\u001b[1;32m--> 320\u001b[1;33m         \u001b[0mself\u001b[0m\u001b[1;33m.\u001b[0m\u001b[0mfull_url\u001b[0m \u001b[1;33m=\u001b[0m \u001b[0murl\u001b[0m\u001b[1;33m\u001b[0m\u001b[1;33m\u001b[0m\u001b[0m\n\u001b[0m\u001b[0;32m    321\u001b[0m         \u001b[0mself\u001b[0m\u001b[1;33m.\u001b[0m\u001b[0mheaders\u001b[0m \u001b[1;33m=\u001b[0m \u001b[1;33m{\u001b[0m\u001b[1;33m}\u001b[0m\u001b[1;33m\u001b[0m\u001b[1;33m\u001b[0m\u001b[0m\n\u001b[0;32m    322\u001b[0m         \u001b[0mself\u001b[0m\u001b[1;33m.\u001b[0m\u001b[0munredirected_hdrs\u001b[0m \u001b[1;33m=\u001b[0m \u001b[1;33m{\u001b[0m\u001b[1;33m}\u001b[0m\u001b[1;33m\u001b[0m\u001b[1;33m\u001b[0m\u001b[0m\n",
      "\u001b[1;32m~\\anaconda3\\lib\\urllib\\request.py\u001b[0m in \u001b[0;36mfull_url\u001b[1;34m(self, url)\u001b[0m\n\u001b[0;32m    344\u001b[0m         \u001b[0mself\u001b[0m\u001b[1;33m.\u001b[0m\u001b[0m_full_url\u001b[0m \u001b[1;33m=\u001b[0m \u001b[0munwrap\u001b[0m\u001b[1;33m(\u001b[0m\u001b[0murl\u001b[0m\u001b[1;33m)\u001b[0m\u001b[1;33m\u001b[0m\u001b[1;33m\u001b[0m\u001b[0m\n\u001b[0;32m    345\u001b[0m         \u001b[0mself\u001b[0m\u001b[1;33m.\u001b[0m\u001b[0m_full_url\u001b[0m\u001b[1;33m,\u001b[0m \u001b[0mself\u001b[0m\u001b[1;33m.\u001b[0m\u001b[0mfragment\u001b[0m \u001b[1;33m=\u001b[0m \u001b[0m_splittag\u001b[0m\u001b[1;33m(\u001b[0m\u001b[0mself\u001b[0m\u001b[1;33m.\u001b[0m\u001b[0m_full_url\u001b[0m\u001b[1;33m)\u001b[0m\u001b[1;33m\u001b[0m\u001b[1;33m\u001b[0m\u001b[0m\n\u001b[1;32m--> 346\u001b[1;33m         \u001b[0mself\u001b[0m\u001b[1;33m.\u001b[0m\u001b[0m_parse\u001b[0m\u001b[1;33m(\u001b[0m\u001b[1;33m)\u001b[0m\u001b[1;33m\u001b[0m\u001b[1;33m\u001b[0m\u001b[0m\n\u001b[0m\u001b[0;32m    347\u001b[0m \u001b[1;33m\u001b[0m\u001b[0m\n\u001b[0;32m    348\u001b[0m     \u001b[1;33m@\u001b[0m\u001b[0mfull_url\u001b[0m\u001b[1;33m.\u001b[0m\u001b[0mdeleter\u001b[0m\u001b[1;33m\u001b[0m\u001b[1;33m\u001b[0m\u001b[0m\n",
      "\u001b[1;32m~\\anaconda3\\lib\\urllib\\request.py\u001b[0m in \u001b[0;36m_parse\u001b[1;34m(self)\u001b[0m\n\u001b[0;32m    373\u001b[0m         \u001b[0mself\u001b[0m\u001b[1;33m.\u001b[0m\u001b[0mtype\u001b[0m\u001b[1;33m,\u001b[0m \u001b[0mrest\u001b[0m \u001b[1;33m=\u001b[0m \u001b[0m_splittype\u001b[0m\u001b[1;33m(\u001b[0m\u001b[0mself\u001b[0m\u001b[1;33m.\u001b[0m\u001b[0m_full_url\u001b[0m\u001b[1;33m)\u001b[0m\u001b[1;33m\u001b[0m\u001b[1;33m\u001b[0m\u001b[0m\n\u001b[0;32m    374\u001b[0m         \u001b[1;32mif\u001b[0m \u001b[0mself\u001b[0m\u001b[1;33m.\u001b[0m\u001b[0mtype\u001b[0m \u001b[1;32mis\u001b[0m \u001b[1;32mNone\u001b[0m\u001b[1;33m:\u001b[0m\u001b[1;33m\u001b[0m\u001b[1;33m\u001b[0m\u001b[0m\n\u001b[1;32m--> 375\u001b[1;33m             \u001b[1;32mraise\u001b[0m \u001b[0mValueError\u001b[0m\u001b[1;33m(\u001b[0m\u001b[1;34m\"unknown url type: %r\"\u001b[0m \u001b[1;33m%\u001b[0m \u001b[0mself\u001b[0m\u001b[1;33m.\u001b[0m\u001b[0mfull_url\u001b[0m\u001b[1;33m)\u001b[0m\u001b[1;33m\u001b[0m\u001b[1;33m\u001b[0m\u001b[0m\n\u001b[0m\u001b[0;32m    376\u001b[0m         \u001b[0mself\u001b[0m\u001b[1;33m.\u001b[0m\u001b[0mhost\u001b[0m\u001b[1;33m,\u001b[0m \u001b[0mself\u001b[0m\u001b[1;33m.\u001b[0m\u001b[0mselector\u001b[0m \u001b[1;33m=\u001b[0m \u001b[0m_splithost\u001b[0m\u001b[1;33m(\u001b[0m\u001b[0mrest\u001b[0m\u001b[1;33m)\u001b[0m\u001b[1;33m\u001b[0m\u001b[1;33m\u001b[0m\u001b[0m\n\u001b[0;32m    377\u001b[0m         \u001b[1;32mif\u001b[0m \u001b[0mself\u001b[0m\u001b[1;33m.\u001b[0m\u001b[0mhost\u001b[0m\u001b[1;33m:\u001b[0m\u001b[1;33m\u001b[0m\u001b[1;33m\u001b[0m\u001b[0m\n",
      "\u001b[1;31mValueError\u001b[0m: unknown url type: 'None'"
     ]
    }
   ],
   "source": [
    "for i in range(10):\n",
    "    urllib.request.urlretrieve(str(src[i]),\"fruit\".format(i))"
   ]
  },
  {
   "cell_type": "code",
   "execution_count": null,
   "id": "97fe0d55",
   "metadata": {},
   "outputs": [],
   "source": []
  },
  {
   "cell_type": "code",
   "execution_count": null,
   "id": "b512f284",
   "metadata": {},
   "outputs": [],
   "source": []
  },
  {
   "cell_type": "code",
   "execution_count": null,
   "id": "1814d1c2",
   "metadata": {},
   "outputs": [],
   "source": []
  },
  {
   "cell_type": "markdown",
   "id": "b6847c97",
   "metadata": {},
   "source": [
    "# flipkart data"
   ]
  },
  {
   "cell_type": "code",
   "execution_count": 13,
   "id": "d3936c5d",
   "metadata": {},
   "outputs": [],
   "source": [
    "import selenium\n",
    "from selenium import webdriver\n",
    "import pandas as pd\n",
    "import warnings\n",
    "warnings.filterwarnings(\"ignore\")"
   ]
  },
  {
   "cell_type": "code",
   "execution_count": 14,
   "id": "ff321e26",
   "metadata": {},
   "outputs": [],
   "source": [
    "driver=webdriver.Chrome(r'D:\\flip robo\\chromedriver_win32\\chromedriver.exe')"
   ]
  },
  {
   "cell_type": "code",
   "execution_count": 15,
   "id": "7f60b8e7",
   "metadata": {},
   "outputs": [],
   "source": [
    "url=\"https://www.flipkart.com/\"\n",
    "driver.get(url)"
   ]
  },
  {
   "cell_type": "code",
   "execution_count": 16,
   "id": "927d7716",
   "metadata": {},
   "outputs": [],
   "source": [
    "from selenium.webdriver.common.by import By"
   ]
  },
  {
   "cell_type": "code",
   "execution_count": 17,
   "id": "333d491b",
   "metadata": {},
   "outputs": [
    {
     "data": {
      "text/plain": [
       "<selenium.webdriver.remote.webelement.WebElement (session=\"6bb35ff72a1be451c6b4594440bc97b6\", element=\"38dd89ba-6286-4da2-aef5-96af7f2d1554\")>"
      ]
     },
     "execution_count": 17,
     "metadata": {},
     "output_type": "execute_result"
    }
   ],
   "source": [
    "search_product= driver.find_element(By.CLASS_NAME,\"_3704LK\")\n",
    "search_product"
   ]
  },
  {
   "cell_type": "code",
   "execution_count": 18,
   "id": "ca870086",
   "metadata": {},
   "outputs": [],
   "source": [
    "search_product.send_keys(\"Vivo v23 pro\")"
   ]
  },
  {
   "cell_type": "code",
   "execution_count": 21,
   "id": "2d56cef7",
   "metadata": {},
   "outputs": [
    {
     "data": {
      "text/plain": [
       "<selenium.webdriver.remote.webelement.WebElement (session=\"6bb35ff72a1be451c6b4594440bc97b6\", element=\"c5344b7e-b5aa-4520-b03f-5d5b23d26caa\")>"
      ]
     },
     "execution_count": 21,
     "metadata": {},
     "output_type": "execute_result"
    }
   ],
   "source": [
    "search_btn=driver.find_element(By.XPATH,'/html/body/div[1]/div/div[1]/div[1]/div[2]/div[2]/form/div/button')\n",
    "search_btn"
   ]
  },
  {
   "cell_type": "code",
   "execution_count": 22,
   "id": "787ae390",
   "metadata": {},
   "outputs": [],
   "source": [
    "search_btn.click()"
   ]
  },
  {
   "cell_type": "code",
   "execution_count": null,
   "id": "511de9f0",
   "metadata": {},
   "outputs": [],
   "source": [
    "first_product=driver.find_element(By.XPATH,'/html/body/div[1]/div/div[3]/div[1]/div[2]/div[2]/div/div/div/a/div[1]/div[1]/div/div/img')\n",
    "first_product"
   ]
  },
  {
   "cell_type": "code",
   "execution_count": null,
   "id": "6be27019",
   "metadata": {},
   "outputs": [],
   "source": [
    "first_product.click()"
   ]
  },
  {
   "cell_type": "code",
   "execution_count": 24,
   "id": "e2eab58a",
   "metadata": {},
   "outputs": [],
   "source": [
    "brand_name=driver.find_elements(By.XPATH,'//div[@class=\"_4rR01T\"]')"
   ]
  },
  {
   "cell_type": "code",
   "execution_count": 30,
   "id": "ee0a7d2c",
   "metadata": {},
   "outputs": [],
   "source": [
    "brand=[]\n",
    "for i in brand_name:\n",
    "    brand.append(i.text.split('(')[0])"
   ]
  },
  {
   "cell_type": "code",
   "execution_count": 31,
   "id": "e29e0246",
   "metadata": {},
   "outputs": [
    {
     "data": {
      "text/plain": [
       "['vivo Z1Pro ',\n",
       " 'vivo Z1Pro ',\n",
       " 'vivo Z1Pro ',\n",
       " 'vivo Z1Pro ',\n",
       " 'vivo V23 Pro 5G ']"
      ]
     },
     "execution_count": 31,
     "metadata": {},
     "output_type": "execute_result"
    }
   ],
   "source": [
    "brand[:5]"
   ]
  },
  {
   "cell_type": "code",
   "execution_count": 32,
   "id": "3be5e9d3",
   "metadata": {},
   "outputs": [],
   "source": [
    "color=[]\n",
    "for i in brand_name:\n",
    "    color.append(i.text.split('(')[1])\n",
    "    "
   ]
  },
  {
   "cell_type": "code",
   "execution_count": 33,
   "id": "e5ae28bb",
   "metadata": {},
   "outputs": [
    {
     "data": {
      "text/plain": [
       "['Mirror Black, 64 GB)',\n",
       " 'Sonic Black, 64 GB)',\n",
       " 'Sonic Blue, 64 GB)',\n",
       " 'Sonic Blue, 64 GB)',\n",
       " 'Stardust Black, 128 GB)']"
      ]
     },
     "execution_count": 33,
     "metadata": {},
     "output_type": "execute_result"
    }
   ],
   "source": [
    "color[:5]"
   ]
  },
  {
   "cell_type": "code",
   "execution_count": 73,
   "id": "abf60bef",
   "metadata": {},
   "outputs": [
    {
     "data": {
      "text/plain": [
       "[<selenium.webdriver.remote.webelement.WebElement (session=\"6bb35ff72a1be451c6b4594440bc97b6\", element=\"1e54e6bd-99fe-47fd-a4c6-9c8b50a17e56\")>,\n",
       " <selenium.webdriver.remote.webelement.WebElement (session=\"6bb35ff72a1be451c6b4594440bc97b6\", element=\"b0f49810-7ebb-43ec-83a1-ec8f9fe8ab76\")>,\n",
       " <selenium.webdriver.remote.webelement.WebElement (session=\"6bb35ff72a1be451c6b4594440bc97b6\", element=\"7e953df1-a841-4987-ae47-b8110a75017c\")>,\n",
       " <selenium.webdriver.remote.webelement.WebElement (session=\"6bb35ff72a1be451c6b4594440bc97b6\", element=\"a8654fdb-069e-47b8-bf61-dc133e807e04\")>,\n",
       " <selenium.webdriver.remote.webelement.WebElement (session=\"6bb35ff72a1be451c6b4594440bc97b6\", element=\"c350b4c4-dcff-44f8-a676-104e9676e792\")>,\n",
       " <selenium.webdriver.remote.webelement.WebElement (session=\"6bb35ff72a1be451c6b4594440bc97b6\", element=\"687916f6-e588-4508-96e8-fc81f7d3427a\")>,\n",
       " <selenium.webdriver.remote.webelement.WebElement (session=\"6bb35ff72a1be451c6b4594440bc97b6\", element=\"a8e9cd2d-88a6-49e4-8d60-6bac2210b533\")>,\n",
       " <selenium.webdriver.remote.webelement.WebElement (session=\"6bb35ff72a1be451c6b4594440bc97b6\", element=\"d22319b0-419b-4c45-9d54-ddc6c1c85bfe\")>,\n",
       " <selenium.webdriver.remote.webelement.WebElement (session=\"6bb35ff72a1be451c6b4594440bc97b6\", element=\"b2ed3dd4-e12b-4346-8fc1-d571c614ec8e\")>,\n",
       " <selenium.webdriver.remote.webelement.WebElement (session=\"6bb35ff72a1be451c6b4594440bc97b6\", element=\"7459102d-36d2-42f3-9899-8535a818a39f\")>,\n",
       " <selenium.webdriver.remote.webelement.WebElement (session=\"6bb35ff72a1be451c6b4594440bc97b6\", element=\"80ee1026-5df4-4989-b740-adb1537272be\")>,\n",
       " <selenium.webdriver.remote.webelement.WebElement (session=\"6bb35ff72a1be451c6b4594440bc97b6\", element=\"e6be25eb-edab-4df5-a064-ed495f3a12da\")>,\n",
       " <selenium.webdriver.remote.webelement.WebElement (session=\"6bb35ff72a1be451c6b4594440bc97b6\", element=\"2455e4ef-cacb-44de-8d37-a8657f40c3b8\")>,\n",
       " <selenium.webdriver.remote.webelement.WebElement (session=\"6bb35ff72a1be451c6b4594440bc97b6\", element=\"7ab188b5-bf79-4beb-9226-8e1f3e4e92e2\")>,\n",
       " <selenium.webdriver.remote.webelement.WebElement (session=\"6bb35ff72a1be451c6b4594440bc97b6\", element=\"c6cf51c3-ddce-4db4-8171-3e9ae32bc5a6\")>,\n",
       " <selenium.webdriver.remote.webelement.WebElement (session=\"6bb35ff72a1be451c6b4594440bc97b6\", element=\"78423213-f9ad-435f-ae28-0d00be1d0a9e\")>,\n",
       " <selenium.webdriver.remote.webelement.WebElement (session=\"6bb35ff72a1be451c6b4594440bc97b6\", element=\"882528f8-db8a-49f3-84e8-aa151c7c2381\")>,\n",
       " <selenium.webdriver.remote.webelement.WebElement (session=\"6bb35ff72a1be451c6b4594440bc97b6\", element=\"c3fb965d-c815-4021-954b-3f0273ebb305\")>,\n",
       " <selenium.webdriver.remote.webelement.WebElement (session=\"6bb35ff72a1be451c6b4594440bc97b6\", element=\"51218a2f-3cd7-4e19-8be3-2e10759aba7b\")>,\n",
       " <selenium.webdriver.remote.webelement.WebElement (session=\"6bb35ff72a1be451c6b4594440bc97b6\", element=\"ccc80158-e710-438e-abb8-bda67af3d675\")>,\n",
       " <selenium.webdriver.remote.webelement.WebElement (session=\"6bb35ff72a1be451c6b4594440bc97b6\", element=\"433fdd83-d024-4bac-8068-3391fd21b8f2\")>,\n",
       " <selenium.webdriver.remote.webelement.WebElement (session=\"6bb35ff72a1be451c6b4594440bc97b6\", element=\"42c543df-cf40-4689-974f-39eddcf61b2a\")>,\n",
       " <selenium.webdriver.remote.webelement.WebElement (session=\"6bb35ff72a1be451c6b4594440bc97b6\", element=\"638ad88a-6578-44ee-b770-0c4fdfe312bc\")>,\n",
       " <selenium.webdriver.remote.webelement.WebElement (session=\"6bb35ff72a1be451c6b4594440bc97b6\", element=\"ef3b65c0-3148-461d-8dcd-66a27e28d443\")>,\n",
       " <selenium.webdriver.remote.webelement.WebElement (session=\"6bb35ff72a1be451c6b4594440bc97b6\", element=\"a47d0fb1-d45e-44c4-9f47-8904aba87a76\")>,\n",
       " <selenium.webdriver.remote.webelement.WebElement (session=\"6bb35ff72a1be451c6b4594440bc97b6\", element=\"05768cf5-3edc-49a3-a7c5-54a03d3e1bea\")>,\n",
       " <selenium.webdriver.remote.webelement.WebElement (session=\"6bb35ff72a1be451c6b4594440bc97b6\", element=\"b8a29ead-2791-4d4a-ba99-c17f848e7d34\")>,\n",
       " <selenium.webdriver.remote.webelement.WebElement (session=\"6bb35ff72a1be451c6b4594440bc97b6\", element=\"6031486b-b2d7-44b9-b1f0-d9b8bc970dea\")>,\n",
       " <selenium.webdriver.remote.webelement.WebElement (session=\"6bb35ff72a1be451c6b4594440bc97b6\", element=\"63f82467-4efc-4dd3-9390-bb09f9bd2f5c\")>,\n",
       " <selenium.webdriver.remote.webelement.WebElement (session=\"6bb35ff72a1be451c6b4594440bc97b6\", element=\"d41345c0-63b0-4702-8bc9-c66ba53c5937\")>,\n",
       " <selenium.webdriver.remote.webelement.WebElement (session=\"6bb35ff72a1be451c6b4594440bc97b6\", element=\"c9625924-0145-4c8f-9553-a4a6a437c724\")>,\n",
       " <selenium.webdriver.remote.webelement.WebElement (session=\"6bb35ff72a1be451c6b4594440bc97b6\", element=\"e113ec26-cab5-41b4-a237-d4860f40ec81\")>,\n",
       " <selenium.webdriver.remote.webelement.WebElement (session=\"6bb35ff72a1be451c6b4594440bc97b6\", element=\"07b0b60f-a797-457a-ac4e-1f64b464f32a\")>,\n",
       " <selenium.webdriver.remote.webelement.WebElement (session=\"6bb35ff72a1be451c6b4594440bc97b6\", element=\"6a25f6bd-127d-4efc-835f-f0ea8203e8ed\")>,\n",
       " <selenium.webdriver.remote.webelement.WebElement (session=\"6bb35ff72a1be451c6b4594440bc97b6\", element=\"b7457ee7-c17b-40ab-8bb6-e55209d23b3e\")>,\n",
       " <selenium.webdriver.remote.webelement.WebElement (session=\"6bb35ff72a1be451c6b4594440bc97b6\", element=\"f1c51bc4-5838-45ae-937d-5fe710ad3413\")>,\n",
       " <selenium.webdriver.remote.webelement.WebElement (session=\"6bb35ff72a1be451c6b4594440bc97b6\", element=\"7b07cb54-0251-46ca-a807-044b0a16fa93\")>,\n",
       " <selenium.webdriver.remote.webelement.WebElement (session=\"6bb35ff72a1be451c6b4594440bc97b6\", element=\"f922872a-bbe5-4e0e-bb24-91c4efb18095\")>,\n",
       " <selenium.webdriver.remote.webelement.WebElement (session=\"6bb35ff72a1be451c6b4594440bc97b6\", element=\"4f8c83a8-2e1d-41e2-977c-9cb79cf1ee2b\")>,\n",
       " <selenium.webdriver.remote.webelement.WebElement (session=\"6bb35ff72a1be451c6b4594440bc97b6\", element=\"a44c9d5c-bc06-4873-89de-9daedf646546\")>,\n",
       " <selenium.webdriver.remote.webelement.WebElement (session=\"6bb35ff72a1be451c6b4594440bc97b6\", element=\"b36d1e5a-ced0-434f-90e3-215157eb4f48\")>,\n",
       " <selenium.webdriver.remote.webelement.WebElement (session=\"6bb35ff72a1be451c6b4594440bc97b6\", element=\"af806a2a-9936-43bc-9a18-50b7e994a51e\")>,\n",
       " <selenium.webdriver.remote.webelement.WebElement (session=\"6bb35ff72a1be451c6b4594440bc97b6\", element=\"3de69f3b-eb40-49b6-b802-4d6ab74802aa\")>,\n",
       " <selenium.webdriver.remote.webelement.WebElement (session=\"6bb35ff72a1be451c6b4594440bc97b6\", element=\"6e3bea57-9def-45ce-ac1c-a68626f7a877\")>,\n",
       " <selenium.webdriver.remote.webelement.WebElement (session=\"6bb35ff72a1be451c6b4594440bc97b6\", element=\"2265bb14-953f-46f6-876b-48d8f835a9c7\")>,\n",
       " <selenium.webdriver.remote.webelement.WebElement (session=\"6bb35ff72a1be451c6b4594440bc97b6\", element=\"2b6c8f57-4005-4b21-92ec-c77c36e2bb99\")>,\n",
       " <selenium.webdriver.remote.webelement.WebElement (session=\"6bb35ff72a1be451c6b4594440bc97b6\", element=\"c6aceb61-ff5c-4cc4-a59e-388f8b11bb6f\")>,\n",
       " <selenium.webdriver.remote.webelement.WebElement (session=\"6bb35ff72a1be451c6b4594440bc97b6\", element=\"3c969fd4-c21c-4865-94a2-4fd2120abda8\")>,\n",
       " <selenium.webdriver.remote.webelement.WebElement (session=\"6bb35ff72a1be451c6b4594440bc97b6\", element=\"b1943ff6-52b9-4c9a-a828-2189b2904969\")>,\n",
       " <selenium.webdriver.remote.webelement.WebElement (session=\"6bb35ff72a1be451c6b4594440bc97b6\", element=\"bc9b1b73-ae86-48cb-8eb5-ca5fadef2685\")>,\n",
       " <selenium.webdriver.remote.webelement.WebElement (session=\"6bb35ff72a1be451c6b4594440bc97b6\", element=\"f2550aff-8c09-4976-9ad3-956a2f5ac93e\")>,\n",
       " <selenium.webdriver.remote.webelement.WebElement (session=\"6bb35ff72a1be451c6b4594440bc97b6\", element=\"5e790430-022e-48ca-aa7b-39c510e9719e\")>,\n",
       " <selenium.webdriver.remote.webelement.WebElement (session=\"6bb35ff72a1be451c6b4594440bc97b6\", element=\"458ec841-0d85-4aa7-8617-efa814e206bb\")>,\n",
       " <selenium.webdriver.remote.webelement.WebElement (session=\"6bb35ff72a1be451c6b4594440bc97b6\", element=\"9a38ba5a-aa3a-4ebf-a35f-d84dee381e1e\")>,\n",
       " <selenium.webdriver.remote.webelement.WebElement (session=\"6bb35ff72a1be451c6b4594440bc97b6\", element=\"4208a631-6dd6-41db-866b-4d22b0c1e6f9\")>,\n",
       " <selenium.webdriver.remote.webelement.WebElement (session=\"6bb35ff72a1be451c6b4594440bc97b6\", element=\"031dd2a8-363c-4a21-8fcb-7e7db3748fbc\")>,\n",
       " <selenium.webdriver.remote.webelement.WebElement (session=\"6bb35ff72a1be451c6b4594440bc97b6\", element=\"b6d2fc0e-2d48-4962-a3f0-0db6749e0692\")>,\n",
       " <selenium.webdriver.remote.webelement.WebElement (session=\"6bb35ff72a1be451c6b4594440bc97b6\", element=\"8ef44050-31c0-427e-88dc-c1a4e6ee383a\")>,\n",
       " <selenium.webdriver.remote.webelement.WebElement (session=\"6bb35ff72a1be451c6b4594440bc97b6\", element=\"323d5b94-4f74-4835-99d1-5b7f62478f5c\")>,\n",
       " <selenium.webdriver.remote.webelement.WebElement (session=\"6bb35ff72a1be451c6b4594440bc97b6\", element=\"9eb05185-de1a-4edd-94c3-7af19dce0524\")>,\n",
       " <selenium.webdriver.remote.webelement.WebElement (session=\"6bb35ff72a1be451c6b4594440bc97b6\", element=\"1bfada54-7e28-43cc-baaa-b99f6208db17\")>,\n",
       " <selenium.webdriver.remote.webelement.WebElement (session=\"6bb35ff72a1be451c6b4594440bc97b6\", element=\"98d80e11-6f24-4d30-ab56-1d6a4dfc7427\")>,\n",
       " <selenium.webdriver.remote.webelement.WebElement (session=\"6bb35ff72a1be451c6b4594440bc97b6\", element=\"20d707c4-f3dd-468b-bda6-ffd984516bb0\")>,\n",
       " <selenium.webdriver.remote.webelement.WebElement (session=\"6bb35ff72a1be451c6b4594440bc97b6\", element=\"b6908f8c-c61e-4c29-8b86-a3d14b4ea081\")>,\n",
       " <selenium.webdriver.remote.webelement.WebElement (session=\"6bb35ff72a1be451c6b4594440bc97b6\", element=\"5d28e58e-e61f-465d-aaf8-3c6afbc835c3\")>,\n",
       " <selenium.webdriver.remote.webelement.WebElement (session=\"6bb35ff72a1be451c6b4594440bc97b6\", element=\"0f297fc6-1880-4c28-a61a-72fb1e6ba438\")>,\n",
       " <selenium.webdriver.remote.webelement.WebElement (session=\"6bb35ff72a1be451c6b4594440bc97b6\", element=\"e26a9d31-a75c-4a31-ade4-531b49ea803c\")>,\n",
       " <selenium.webdriver.remote.webelement.WebElement (session=\"6bb35ff72a1be451c6b4594440bc97b6\", element=\"641d8ebf-5dda-4e67-9578-9a40139c17ca\")>,\n",
       " <selenium.webdriver.remote.webelement.WebElement (session=\"6bb35ff72a1be451c6b4594440bc97b6\", element=\"5e96112c-3831-42b0-b6eb-33947701b128\")>,\n",
       " <selenium.webdriver.remote.webelement.WebElement (session=\"6bb35ff72a1be451c6b4594440bc97b6\", element=\"a0101558-0eb9-4c73-aa94-1c13ec53edf2\")>,\n",
       " <selenium.webdriver.remote.webelement.WebElement (session=\"6bb35ff72a1be451c6b4594440bc97b6\", element=\"33a7a438-5df8-4849-91f0-76280ee7d2fc\")>,\n",
       " <selenium.webdriver.remote.webelement.WebElement (session=\"6bb35ff72a1be451c6b4594440bc97b6\", element=\"b0b28bce-ff04-4bb1-97ee-70fb48590fa4\")>,\n",
       " <selenium.webdriver.remote.webelement.WebElement (session=\"6bb35ff72a1be451c6b4594440bc97b6\", element=\"2401fa62-5610-4927-bed1-83a04fb8c8f0\")>,\n",
       " <selenium.webdriver.remote.webelement.WebElement (session=\"6bb35ff72a1be451c6b4594440bc97b6\", element=\"9d5158dc-52e3-4ced-95c8-7262447f9def\")>,\n",
       " <selenium.webdriver.remote.webelement.WebElement (session=\"6bb35ff72a1be451c6b4594440bc97b6\", element=\"fab15449-24f5-4573-bff5-eafa0a2d7a0e\")>,\n",
       " <selenium.webdriver.remote.webelement.WebElement (session=\"6bb35ff72a1be451c6b4594440bc97b6\", element=\"78267845-1ed3-42cf-9e2e-80c3f239c74e\")>,\n",
       " <selenium.webdriver.remote.webelement.WebElement (session=\"6bb35ff72a1be451c6b4594440bc97b6\", element=\"f0b3c9b3-0870-43ca-81ac-b1da50a836ff\")>,\n",
       " <selenium.webdriver.remote.webelement.WebElement (session=\"6bb35ff72a1be451c6b4594440bc97b6\", element=\"8e771984-1cde-4427-82c6-1379ac5005a7\")>,\n",
       " <selenium.webdriver.remote.webelement.WebElement (session=\"6bb35ff72a1be451c6b4594440bc97b6\", element=\"c0e938e7-d907-449d-8e8f-7ee3550f18f5\")>,\n",
       " <selenium.webdriver.remote.webelement.WebElement (session=\"6bb35ff72a1be451c6b4594440bc97b6\", element=\"f0460f44-c918-48a6-a8df-dd86e58b9ac6\")>]"
      ]
     },
     "execution_count": 73,
     "metadata": {},
     "output_type": "execute_result"
    }
   ],
   "source": [
    "ram_tag=driver.find_elements(By.XPATH,'//li[@class=\"rgWa7D\"]')\n",
    "#ram_tag=driver.find_elements(By.XPATH,'/html/body/div/div/div[3]/div[1]/div[2]/div[2]/div/div/div/a/div[2]/div[1]/div[3]/ul')\n",
    "ram_tag"
   ]
  },
  {
   "cell_type": "code",
   "execution_count": 112,
   "id": "54be4d20",
   "metadata": {},
   "outputs": [],
   "source": [
    "ram=[]\n",
    "for i in ram_tag:\n",
    "    ram.append(i.text)\n",
    "    "
   ]
  },
  {
   "cell_type": "code",
   "execution_count": 85,
   "id": "584936ff",
   "metadata": {},
   "outputs": [
    {
     "data": {
      "text/plain": [
       "['4 GB RAM | 64 GB ROM | Expandable Upto 256 GB',\n",
       " '16.59 cm (6.53 inch) Full HD+ Display',\n",
       " '16MP + 2MP + 8MP | 32MP Front Camera',\n",
       " '5000 mAh Battery',\n",
       " 'Qualcomm Snapdragon 712 AIE Octa Core 2.3GHz Processor',\n",
       " 'Fast Charging',\n",
       " 'Triple Card Slot',\n",
       " 'Brand Warranty of 1 Year Available for Mobile and 6 Months for Accessories',\n",
       " '4 GB RAM | 64 GB ROM | Expandable Upto 256 GB',\n",
       " '16.59 cm (6.53 inch) Full HD+ Display',\n",
       " '16MP + 2MP + 8MP | 32MP Front Camera',\n",
       " '5000 mAh Battery',\n",
       " 'Qualcomm Snapdragon 712 AIE Octa Core 2.3GHz Processor',\n",
       " 'Fast Charging',\n",
       " 'Triple Card Slot',\n",
       " 'Brand Warranty of 1 Year Available for Mobile and 6 Months for Accessories',\n",
       " '4 GB RAM | 64 GB ROM | Expandable Upto 256 GB',\n",
       " '16.59 cm (6.53 inch) Full HD+ Display',\n",
       " '16MP + 2MP + 8MP | 32MP Front Camera',\n",
       " '5000 mAh Battery',\n",
       " 'Qualcomm Snapdragon 712 AIE Octa Core 2.3GHz Processor',\n",
       " 'Fast Charging',\n",
       " 'Triple Card Slot',\n",
       " 'Brand Warranty of 1 Year Available for Mobile and 6 Months for Accessories',\n",
       " '6 GB RAM | 64 GB ROM | Expandable Upto 256 GB',\n",
       " '16.59 cm (6.53 inch) Full HD+ Display',\n",
       " '16MP + 2MP + 8MP | 32MP Front Camera',\n",
       " '5000 mAh Battery',\n",
       " 'Qualcomm Snapdragon 712 AIE Octa Core 2.3GHz Processor',\n",
       " 'Fast Charging',\n",
       " 'Triple Card Slot',\n",
       " 'Brand Warranty of 1 Year Available for Mobile and 6 Months for Accessories',\n",
       " '8 GB RAM | 128 GB ROM | Expandable Upto 12 GB',\n",
       " '16.66 cm (6.56 inch) Full HD+ Display',\n",
       " '108MP + 8MP + 2MP | 50MP + 8MP Dual Front Camera',\n",
       " '4300 mAh Lithium Battery',\n",
       " 'Mediatek Dimensity 1200 Processor',\n",
       " '1 Year Manufacturer Warranty for Phone and 6 Months Warranty for In the Box Accessories',\n",
       " '12 GB RAM | 256 GB ROM',\n",
       " '16.66 cm (6.56 inch) Full HD+ Display',\n",
       " '108MP + 8MP + 2MP | 50MP + 8MP Dual Front Camera',\n",
       " '4300 mAh Lithium Battery',\n",
       " 'Mediatek Dimensity 1200 Processor',\n",
       " '1 Year Manufacturer Warranty for Phone and 6 Months Warranty for In the Box Accessories',\n",
       " '12 GB RAM | 256 GB ROM',\n",
       " '16.66 cm (6.56 inch) Full HD+ Display',\n",
       " '108MP + 8MP + 2MP | 50MP + 8MP Dual Front Camera',\n",
       " '4300 mAh Lithium Battery',\n",
       " 'Mediatek Dimensity 1200 Processor',\n",
       " '1 Year Manufacturer Warranty for Phone and 6 Months Warranty for In the Box Accessories',\n",
       " '8 GB RAM | 128 GB ROM',\n",
       " '16.66 cm (6.56 inch) Full HD+ Display',\n",
       " '108MP + 8MP + 2MP | 50MP + 8MP Dual Front Camera',\n",
       " '4300 mAh Lithium Battery',\n",
       " 'Mediatek Dimensity 1200 Processor',\n",
       " '1 Year Manufacturer Warranty for Phone and 6 Months Warranty for In the Box Accessories',\n",
       " '6 GB RAM | 128 GB ROM | Expandable Upto 256 GB',\n",
       " '16.59 cm (6.53 inch) Full HD+ Display',\n",
       " '16MP + 2MP + 8MP | 32MP Front Camera',\n",
       " '5000 mAh Battery',\n",
       " 'Qualcomm Snapdragon 712 AIE Octa Core 2.3GHz Processor',\n",
       " 'Fast Charging',\n",
       " 'Triple Card Slot',\n",
       " 'Brand Warranty of 1 Year Available for Mobile and 6 Months for Accessories',\n",
       " '6 GB RAM | 128 GB ROM | Expandable Upto 256 GB',\n",
       " '16.59 cm (6.53 inch) Full HD+ Display',\n",
       " '16MP + 2MP + 8MP | 32MP Front Camera',\n",
       " '5000 mAh Battery',\n",
       " 'Qualcomm Snapdragon 712 AIE Octa Core 2.3GHz Processor',\n",
       " 'Fast Charging',\n",
       " 'Triple Card Slot',\n",
       " 'Brand Warranty of 1 Year Available for Mobile and 6 Months for Accessories',\n",
       " '6 GB RAM | 64 GB ROM | Expandable Upto 256 GB',\n",
       " '16.59 cm (6.53 inch) Full HD+ Display',\n",
       " '16MP + 2MP + 8MP | 32MP Front Camera',\n",
       " '5000 mAh Battery',\n",
       " 'Qualcomm Snapdragon 712 AIE Octa Core 2.3GHz Processor',\n",
       " 'Fast Charging',\n",
       " 'Triple Card Slot',\n",
       " 'Brand Warranty of 1 Year Available for Mobile and 6 Months for Accessories']"
      ]
     },
     "execution_count": 85,
     "metadata": {},
     "output_type": "execute_result"
    }
   ],
   "source": [
    "ram"
   ]
  },
  {
   "cell_type": "code",
   "execution_count": 92,
   "id": "409be5f8",
   "metadata": {},
   "outputs": [],
   "source": []
  },
  {
   "cell_type": "code",
   "execution_count": null,
   "id": "7128186e",
   "metadata": {},
   "outputs": [],
   "source": []
  },
  {
   "cell_type": "markdown",
   "id": "fe07cdda",
   "metadata": {},
   "source": [
    "# TRAK.IN"
   ]
  },
  {
   "cell_type": "code",
   "execution_count": 114,
   "id": "3f50dea9",
   "metadata": {},
   "outputs": [],
   "source": [
    "import selenium\n",
    "from selenium import webdriver\n",
    "import pandas as pd\n",
    "import warnings\n",
    "warnings.filterwarnings(\"ignore\")\n",
    "from selenium.webdriver.support.ui import WebDriverWait\n",
    "from selenium.webdriver.support import expected_conditions as EC\n",
    "import time"
   ]
  },
  {
   "cell_type": "code",
   "execution_count": 115,
   "id": "7328e7c7",
   "metadata": {},
   "outputs": [],
   "source": [
    "driver=webdriver.Chrome('chromedriver.exe')"
   ]
  },
  {
   "cell_type": "code",
   "execution_count": 116,
   "id": "63c086af",
   "metadata": {},
   "outputs": [],
   "source": [
    "url=\"https://trak.in/india-startup-funding-investment-2015/\"\n",
    "driver.get(url)"
   ]
  },
  {
   "cell_type": "code",
   "execution_count": 117,
   "id": "551c6ff2",
   "metadata": {},
   "outputs": [],
   "source": [
    "from selenium.webdriver.common.by import By"
   ]
  },
  {
   "cell_type": "code",
   "execution_count": 163,
   "id": "70275c17",
   "metadata": {},
   "outputs": [
    {
     "data": {
      "text/plain": [
       "<selenium.webdriver.remote.webelement.WebElement (session=\"ca085a0b5e37d75a2c2df94ee541528d\", element=\"89e63c3b-fa40-4c76-8007-d39307a2a7e1\")>"
      ]
     },
     "execution_count": 163,
     "metadata": {},
     "output_type": "execute_result"
    }
   ],
   "source": [
    "heading_tag=driver.find_element(By.CLASS_NAME,\"dataTables_scrollHead\")\n",
    "heading_tag"
   ]
  },
  {
   "cell_type": "code",
   "execution_count": 164,
   "id": "ae53768d",
   "metadata": {},
   "outputs": [],
   "source": [
    "heading=[]\n",
    "\n",
    "heading.append(heading_tag.text)"
   ]
  },
  {
   "cell_type": "code",
   "execution_count": 165,
   "id": "48f9fcfd",
   "metadata": {},
   "outputs": [
    {
     "data": {
      "text/plain": [
       "[\"Sr. No. Date (dd/mm/yyyy) Startup Name Industry / Vertical Sub-Vertical City / Location Investors' Name Investment Type Amount (In USD)\"]"
      ]
     },
     "execution_count": 165,
     "metadata": {},
     "output_type": "execute_result"
    }
   ],
   "source": [
    "heading"
   ]
  },
  {
   "cell_type": "code",
   "execution_count": 178,
   "id": "5b6fadd4",
   "metadata": {},
   "outputs": [],
   "source": [
    "\n",
    "funding_detail= driver.find_elements(By.CLASS_NAME,\"row-hover\")\n"
   ]
  },
  {
   "cell_type": "code",
   "execution_count": 172,
   "id": "79e93851",
   "metadata": {},
   "outputs": [],
   "source": [
    "funding=[]\n",
    "funding.append(heading)\n",
    "for i in funding_detail:\n",
    "    funding.append(i.text.split('\\n'))\n",
    "    "
   ]
  },
  {
   "cell_type": "code",
   "execution_count": 177,
   "id": "f3fa90e9",
   "metadata": {},
   "outputs": [
    {
     "data": {
      "text/plain": [
       "[[\"Sr. No. Date (dd/mm/yyyy) Startup Name Industry / Vertical Sub-Vertical City / Location Investors' Name Investment Type Amount (In USD)\"],\n",
       " ['1 01/04/2021 BYJU’S Edu-tech Online tutoring Bengaluru Innoven Capital Series F 460,000,000',\n",
       "  '2 05/04/2021 Meesho E-commerce Online reselling platform Bengaluru SoftBank Vision Fund 2 Series E 300,000,000',\n",
       "  '3 14/04/2021 Swiggy Online Food Delivery Online Food Delivery Bengaluru Amansa Holdings, Carmignac, Falcon Edge Capital, Goldman Sachs, Think Investments Series J 343,000,000',\n",
       "  '4 07/04/2021 Groww FinTech Investment platform Bengaluru MC Global Edtech, B Capital, Baron, others Series D 83,000,000',\n",
       "  '5 14/04/2021 Beldara E-commerce Global B2B marketplace Mumbai Hindustan Media Ventures Venture 7,400,000'],\n",
       " ['1 04/03/2021 DealShare E-commerce Online shopping platform Jaipur, Rajasthan Innoven Capital Debt Financing 250,000,000',\n",
       "  '2 31/03/2021 Uniphore Technology Conversational Service Automation (CSA) Palo Alto Sorenson Capital Partners Series D 140,000,000',\n",
       "  '3 30/03/2021 Dunzo E-commerce Hyper-local delivery app Bengaluru Krishtal Advisors Pte Ltd Series E 8,000,000',\n",
       "  '4 30/03/2021 BYJU’S Edu-tech Online tutoring Bengaluru MC Global Edtech, B Capital, Baron, others Series F 460,000,000',\n",
       "  '5 23/03/2021 SkilloVilla Edu-tech Career and job-oriented upskilling. Bengaluru Titan Capital, others Seed 300,000,000',\n",
       "  '6 25/03/2021 CityMall E-commerce Social ecommerce and online grocery platform Gurgaon Accel Partners Series A 11,000,000',\n",
       "  '7 26/03/2021 DotPe FinTech Commerce and payments platform to offline enterprise businesses. Gurgaon PayU Series A 27,500,000'],\n",
       " ['1 11/02/2021 Doubtnut Edu Tech E-Learning Platform Gurgaon SIG Global, Sequoia Capital, WaterBridge Ventures and ON Mauritius Series B 2,500,000',\n",
       "  '2 22/02/2021 Zomato Hospitality Online Food Delivery Platform Gurgaon Tiger Global, Kora Venture 250,000,000',\n",
       "  '3 19/02/2021 Fingerlix Hospitality Semi-cooked food delivery app Mumbai Rhodium Trust, Accel Partners and Swiggy Series C 2,747,045.20',\n",
       "  '4 17/02/2021 Zolve FinTech Global Neobank Venture Mumbai Accel Partners and Lightspeed Venture Partners Seed 1,50,00,000',\n",
       "  '5 15/02/2021 KreditBee Finance Digital lending platform Bengaluru Azim Premji’s PremjiInvest and South Korea’s Mirae Asset Venture Series C 75,000,000',\n",
       "  '6 12/02/2021 Pepperfry E-commerce Multi-brand furniture brand Mumbai InnoVen Capital Debt Financing 4,773,958',\n",
       "  '7 12/02/2021 Grofers E-Commerce Online supermarket Gurgaon SoftBank Vision Fund (SVF) Unspecified 55,000,000',\n",
       "  '8 09/02/2021 Nothing Technology Consumer Technology Venture London GV Series A 15,000,000',\n",
       "  '9 09/02/2021 SplashLearn EdTech Game-based learning programme Gurgaon Owl Ventures Series C 18,000,000'],\n",
       " ['1 15/01/2021 Digit Insurance Financial Services Insurance Services Bengaluru A91 Partners, Faering Capital, TVS Capital Funds Venture 1,80,00,000',\n",
       "  '2 28/01/2021 Bombay Shaving Company Consumer Goods Company Shave care, beard care, and skincare products New Delhi Reckitt Benckiser Venture 6,172,258.50',\n",
       "  '3 19/01/2021 DeHaat AgriTech Startup online marketplace for farm products and services Patna Prosus Ventures Series C 30,000,000',\n",
       "  '4 19/01/2021 Darwinbox SaaS HR Tech Mumbai Salesforce Ventures Seed 15,000,000',\n",
       "  '5 18/01/2021 mfine Health Tech Startup AI-powered telemedicine mobile app Bengaluru Heritas Capital Management Venture Round 16,000,000',\n",
       "  '6 18/01/2021 Udayy EdTech Online learning platform for kids in class 1-5 Gurgaon Sequoia Capital Seed Funding 15,000,000',\n",
       "  '7 11/01/2021 True Elements Food Startup Whole Food plant based Nashta Pune SIDBI Venture Capital Series 100,000,000',\n",
       "  '8 13/01/2021 Saveo B2B E-commerce Pharmacies Bengaluru Matrix Partners India, RTP Global, others Seed 4,000,000'],\n",
       " ['1 15/12/2020 Bira 91 Food and Beverage Craft Beer New Delhi Nishant Mittal, Pankaj Chaddah and Shikha Sunil Chandak Funding 1,273,634.07',\n",
       "  '2 21/12/2020 Pine Labs Financial Services Payment Solutions Provider Noida Lone Pine Capital Secondary Market Undisclosed',\n",
       "  '3 15/12/2020 Zenoti Technology Provider Cloud-based software provider for the spa and salon industries Washington Advent International Series D 160,000,000',\n",
       "  '4 22/12/2020 Tax Buddy India FinTech Online tax adviser Mumbai Zenith Global Seed 1,000,000',\n",
       "  '5 15/12/2020 Delhivery Supply chain Transportation Gurgaon Steadview Capital Secondary Market 25,000,000',\n",
       "  '6 18/12/2020 PagarBook SaaS Employee management platform Bengaluru Sequoia Capital Series A 15,000,000'],\n",
       " ['1 30/11/2020 Codingal EduTech Online coding platform Bengaluru Rebright Partners, Java Capital, and GSF Accelerator Seed 560,000',\n",
       "  '2 30/11/2020 CRED Financial Services Credit Card Behavior Services Bengaluru DST Global Series C 80,000,000',\n",
       "  '3 29/11/2020 Bira 91 Food and Beverage Craft Beer New Delhi Sofina, Sequoia Capital, Sixth Sense Ventures, Neoplux Bridge Funding 3,000,000',\n",
       "  '4 27/11/2020 Chumbak Lifestyle Gifting Startup Bengaluru Gaja Capital Fund (GCFII-A) Pre-series E 1,001,047.92',\n",
       "  '5 25/11/2020 Cityflo Transportation App-based bus commute startup Mumbai Lightbox Ventures Series A 7,700,000',\n",
       "  '6 25/11/2020 Shipsy SaaS Software Automation Of Logistics Gurgaon Sequoia Capital India’s Surge, Info Edge Series A 6,003,806',\n",
       "  '7 25/11/2020 Unacademy Edutech Online Learning Platform Bengaluru Tiger Global Management, Dragoneer Investment Group Venture 75,000,000-100,000,000',\n",
       "  '8 24/11/2020 Cashfree FinTech Payments and banking technology Bengaluru Matrix Partners India, SAIF Partners, Ward Ferry Management and Bertelsmann India Series B 35,300,000',\n",
       "  '9 30/11/2020 Credgenics Fintech Critical NPA reduction for Fintech lenders and banks Gurgaon Venture Capital firm, Accel Partners and DMI Finance Pre-Series A 3,500,000',\n",
       "  '10 23/11/2020 Country Delight Dairy Tech Milk delivery startup Gurugram Elevation Capital Series C 25,000,000'],\n",
       " ['1 28/10/2020 Nykaa E-commerce Beauty, Fashion, Lifestyle, Wellness Mumbai Alia Bhatt Personal Investment NA',\n",
       "  '2 28/10/2020 Betterplace Digital Solutions Blue Collar Workforce Management Platform Bangalore Jungle Ventures Series B 10,000,000',\n",
       "  '3 28/10/2020 FlexiLoans FinTech Digital Lending Platform Mumbai Falguni and Sanjay Nayar Family Office Equity and Debt 20,160,000',\n",
       "  '4 27/10/2020 GetVantage FinTech Revenue-Based Financing Platform Mumbai Chiratae Ventures, Dream Incubators Seed 5,000,000',\n",
       "  '5 27/10/2020 FreshToHome E-commerce Food Delivery Bangalore Corporation of Dubai (ICD), Ascent Capital, DFC, the Allana Group',\n",
       "  'Series C 121,000,000',\n",
       "  '6 27/10/2020 Origo AgriTech Agricultural Commodities Management Gurgaon Northern Arc Capital Debt 4,700,000',\n",
       "  '7 27/10/2020 Origo Advertising Online Video Editing Mumbai Sequoia Capital India Series A 15,000,000',\n",
       "  '8 15/10/2020 Treebo Hotels Hospitality Budget Hospitality Chain Bangalore Matrix Partners India, SAIF Partners, Ward Ferry Management and Bertelsmann India 6,000,000',\n",
       "  '9 26/10/2020 Hubilo Information Technology Virtual Events Platform Wilmington, Delaware, United States Lightspeed Venture Partners Seed 4,500,000',\n",
       "  '10 28/10/2020 CredAble FinTech Supply Chain Finance Mumbai Oaks Asset Management and V’Ocean Investment Follow-On 4,500,000'],\n",
       " ['1 08/09/2020 Byju’s EduTech Online Tutoring Bangalore Silver Lake, Tiger Global, General Atlantic and Owl Ventures',\n",
       "  'Private Equity 500,000,000',\n",
       "  '2 12/09/2020 mCaffeine Personal Care Skincare & Haircare Mumbai Amicus Capital Private Equity I LLP, Amicus Capital Partners India Fund I and RP-SG Venture Fund 1 Series B 3,000,000',\n",
       "  '3 09/09/2020 Qshala EduTech Online Curiosity Platform for Kids Bangalore Rainmatter Capital Angel 370,000',\n",
       "  '4 02/09/2020 Winzo Online Gaming Online Gaming New Delhi Kalaari Capital Partners, IndigoEdge Management Consultancy Series B 15,500,000',\n",
       "  '5 09/09/2020 Hippo Video Video Customer Experience(CX) Platform Video Customer Experience(CX) Platform Newark, Delaware, United States of Amercia Alpha Wave Incubation, Exfinity Venture Partners and existing backers.',\n",
       "  'Series A 4,500,000',\n",
       "  '6 07/09/2020 Melorra E-commerce Online Jewelry Store',\n",
       "  'Bangalore Shadow Holdings, Lightbox. Debt Financing upto 8,900,000',\n",
       "  '7 07/09/2020 1mg E-commerce Online Pharmacy Gurgaon Gaja Capital, Tata Capital, Partners Group In Progress 100,000,000',\n",
       "  '8 31/08/2020 mfine HealthTech On-Demand Healthcare Services Bangalore Caretech Pte Inc Series B 5,400,000',\n",
       "  '9 31/08/2020 Apna Human Resources Recruitment Platform Bangalore Lightspeed India and Sequoia Capital India Series A 8,000,000',\n",
       "  '10 03/09/2020 Railofy Transportation WL & RAC protection platform Mumbai Chiratae Ventures Seed 950,000'],\n",
       " ['1 15/08/2020 Practo HealthTech Health care and Wellness Bangalore A1A Company',\n",
       "  'Series F 32,000,000',\n",
       "  '2 13/08/2020 Medlife E-commerce Online Pharmacy Bangalore Prasid Uno Family Trust and SC Credit Fund 23,000,000',\n",
       "  '3 13/08/2020 HungerBox',\n",
       "  'FoodTech Online Food Delivery Service Bangalore One97, Sabre Partners Trust, Pratithi Investment Trust, and Srihari Kumar Series D1 1,560,000',\n",
       "  '4 04/08/2020 Dunzo Hyper-local Logistics Online Delivery Services Bangalore Existing Backers In Progress 30,000,000',\n",
       "  '5 11/08/2020 Terra.do EduTech Online Climate School, E-learning Stanford, California, Stanford Angels and Entrepreneurs (India), BEENEXT Emerging Asia, Rainmatter Capital',\n",
       "  '',\n",
       "  'Seed 1,400,000',\n",
       "  '6 12/08/2020 Classplus EduTech E-learning, Online Tutoring',\n",
       "  '',\n",
       "  'Noida Falcon Edge In Progress upto 15,000,000',\n",
       "  '7 14/08/2020 Niyo FinTech Financial Services Bangalore Niyo Solutions Inc. 6,000,000',\n",
       "  '8 10/08/2020 ZestMoney FinTech Financial Services Bangalore Primrose Hills Ventures 10,670,000',\n",
       "  '9 07/08/2020 FreshToHome E-commerce Food Delivery Bangalore Ascent Capital Venture 16,200,000',\n",
       "  '10 13/08/2020 Eduvanz FinTech Financial Services Mumbai Sequoia India, Unitus Series A 5,000,000'],\n",
       " ['1 15/07/2020 Flipkart E-commerce E-commerce Bangalore Walmart Inc',\n",
       "  'M&A 1,200,000,000',\n",
       "  '2 16/07/2020 Vedantu EduTech Online Tutoring Bangalore Coatue Management Series D 100,000,000',\n",
       "  '3 16/07/2020 Crio EduTech Learning Platform for Developers Bangalore 021 Capital pre-Series A 934,160',\n",
       "  '4 14/07/2020 goDutch FinTech Group Payments Mumbai Matrix India,Y Combinator, Global Founders Capital, Soma Capital, and VentureSouq. Seed 1,700,000',\n",
       "  '5 13/07/2020 Mystifly',\n",
       "  'Airfare Marketplace Ticketing, Airline Retailing, and Post-Ticketing Services Singapore and Bangalore Recruit Co. Ltd.',\n",
       "  '',\n",
       "  'pre-Series B 3,300,000',\n",
       "  '6 09/07/2020 JetSynthesys Gaming and Entertainment Gaming and Entertainment',\n",
       "  '',\n",
       "  'Pune Adar Poonawalla and Kris Gopalakrishnan.',\n",
       "  'Venture-Series Unknown 400,000',\n",
       "  '7 10/07/2020 gigIndia',\n",
       "  'Marketplace Crowd Sourcing, Freelance Pune Incubate Fund India and Beyond Next Ventures pre-Series A 974,200',\n",
       "  '8 15/07/2020 PumPumPum Automotive Rental Used Car-leasing platform Gurgaon Early Adapters Syndicate Seed 292,800',\n",
       "  '9 14/07/2020 FLYX OTT Player Streaming Social Network New York and Delhi Raj Mishra, founder of AIT Global Inc pre-Seed 200,000',\n",
       "  '10 13/07/2020 Open Appliances Pvt. Ltd. Information Technology Internet-of-Things Security Solutions Bangalore Unicorn India Ventures Venture-Series Unknown 500,000'],\n",
       " ['1 18/06/2020 Drishti Technologies Technology Artificial Intelligence, Video Analytics Mumbai Sozo Ventures',\n",
       "  'Series B 25,000,000',\n",
       "  '2 17/06/2020 Stellaps AgriTech Farming, Dairy Management Apps Bangalore Stride Ventures',\n",
       "  'Debt Financing NA',\n",
       "  '3 17/06/2020 Peppermint',\n",
       "  'Industrial Robotics Industrial Robotics Mumbai Venture Catalysts and Naveen Kshatriya Seed NA',\n",
       "  '4 16/06/2020 Jai Kisan Rural FinTech AgriTech, Financial Services Mumbai Arkam Ventures and NABVENTURES Fund I Pre-Series A 3,934,941',\n",
       "  '5 16/06/2020 Biomoneta',\n",
       "  'BioTech HealthTech, Biotechnology Research Bangalore Beyond Next Ventures, ArthaVida Ventures and Dr. Aniruddha Malpani',\n",
       "  'Seed NA',\n",
       "  '6 15/06/2020 Sai Estate Management and Skills Institute EdTech Education',\n",
       "  '',\n",
       "  'Mumbai Suniel Shetty',\n",
       "  'Angel NA',\n",
       "  '7 15/06/2020 LetsTransport',\n",
       "  '',\n",
       "  'Logistics Solution Provider Logistics, Transportation, Travel Bangalore Stride Ventures Venture - Series Unknown 1,311,647',\n",
       "  '8 10/06/2020 WayCool Foods AgriTech Food and Beverage Chennai Indusland Bank Series C 5,500,000',\n",
       "  '9 11/06/2020 Myelin Foundry Deep Tech AI Artificial Intelligence Bangalore Kris Gopalakrishnan’s family office — Pratithi.',\n",
       "  'Seed 1,000,000',\n",
       "  '10 10/06/2020 Hapramp Block Chain, Cryptocurrency Block Chain, Cryptocurrency Gurugram Anand Mahindra Seed 1,000,000'],\n",
       " ['1 21/05/2020 leap.club Professional Network for Women Professional Network for Women Gurugram Whiteboard Capital (Sandeep Tandon’s VC fund), FirstCheque, Artha India Ventures, Sweta Rau (Founder, White Ventures), Amrish Rau (CEO Pinelabs, Founder Citrus Pay), Deepak Abbot (Former SVP, Paytm), and Harpreet Singh Grover (Co-founder, Co-Cubes) and others.',\n",
       "  'Pre Seed 340,000',\n",
       "  '2 20/05/2020 Tring Advertising Celebrity Engagement Platform Mumbai Tencent, Ark Impact, KoKalyan Krishnamurthy of Flipkart, Sujeet Kumar of Udaan, Gaurav Munjal of Unacademy, Keshav Sanghi of VentureWorks India, Roman Saini of Unacademy, Hemesh Singh of Unacademy, and Sumit Jain of Opentalk amongst others.',\n",
       "  'Angel NA',\n",
       "  '3 20/05/2020 Khatabook',\n",
       "  'Utility Solutions Provider Financial Services, Accounting, Payments. Bangalore B Capital Group, Sequoia India, Partners of DST Global, Tencent, GGV, RTP Global, Hummingbird Ventures, Falcon Edge Capital, Rocketship.vc, Unilever Ventures, Kevin Weil, Alexander Will, Kunal Shah, Kunal Bahl, and Rohit Bansal',\n",
       "  '',\n",
       "  '',\n",
       "  'Series B 60,000,000',\n",
       "  '4 19/05/2020 Vakilsearch LegalTech Online professional services platform for lawyers, corporate bodies, and professionals in India. Chennai Udaan co-founder, Sujeet Kumar Series A NA',\n",
       "  '5 19/05/2020 Lendingkart',\n",
       "  'FinTech Financial Services, Lending, Micro Lending. Ahmedabad Fullerton Financial Holdings Pte Ltd (FFH) and Bertelsmann India Investments, Sistema Asia Fund and India Quotient.',\n",
       "  'Series D 42,000,000',\n",
       "  '6 21/05/2020 No Worry No Tension Healthcare (NWNT) Healthcare Emotional health and mental health wellness',\n",
       "  '',\n",
       "  'New Delhi Amit Burman, Chairman of Dabur India,',\n",
       "  'Pre Series A NA',\n",
       "  '7 05/05/2020 Classplus',\n",
       "  '',\n",
       "  \"EduTech e-learning, education solutions. Noida RTP Global, lume Ventures, Sequoia Capital India's Surge, Spiral Ventures, and Strive. Series A 9,000,000\",\n",
       "  '8 11/05/2020 Nykaa E-commerce Cosmetic and Beauty Products Mumbai Steadview Capital Series F 8,800,000',\n",
       "  '9 13/05/2020 Magicpin E-commerce E-commerce Gurugram Lightspeed Venture Partners, along with the participation of Moonstone Investments, WaterBridge Venture, The Bunting Family Private Fund, and Srivatsan Rajan',\n",
       "  'Series C 4,000,000',\n",
       "  '10 18/05/2020 LetsTransport Logistics Solution Provider Logistics, Transportation, Travel Bangalore InnoVen Capital Venture - Series Unknown 1,700,000'],\n",
       " ['1 09/04/2020 Vedantu EduTech Online Tutoring Bengaluru Legend Capital Series C1 12,560,000',\n",
       "  '2 06/04/2020 Swiggy Online Food Delivery Online Food Delivery Bengaluru Tencent, Ark Impact, Korea Investment Partners, Samsung Ventures, and Mirae Asset Capital Markets',\n",
       "  'Series 1 43,000,000',\n",
       "  '3 08/04/2020 Zupee',\n",
       "  'Gaming Gaming Gurugram Matrix Partners India, Falcon Edge Capital, WestCap Group, Orios Venture Partners and Smile Group',\n",
       "  '',\n",
       "  'Series A 8,000,000',\n",
       "  '4 07/04/2020 DeHaat AgriTech AgriTech Patna Sequoia Capital India, FMO, Omnivore and AgFunder. Series A 12,000,000',\n",
       "  '5 15/04/2020 BigBasket',\n",
       "  'E-commerce Online Grocery Delivery Bengaluru Alibaba Group Debt Financing 50,000,000',\n",
       "  '6 08/04/2020 Fingerlix Food Delivery Ready-to-Cook Food Mumbai Accel, Zephyr Peacock, Swiggy, and RB Investments',\n",
       "  'Series C 1,800,000',\n",
       "  '7 31/03/2020 Nykaa',\n",
       "  '',\n",
       "  'E-commerce Cosmetic and Beauty Products Mumbai Steadview Capital Series F 13,000,000',\n",
       "  '8 02/04/2020 Recko Digital Reconcilation and Financial Services AI-powered Reconciliation of Digital Transactions Bengaluru Vertex Ventures Southeast Asia and India and Prime Venture Partners Series A 6,000,000'],\n",
       " ['1 04/03/2020 Soxytoes E-commerce Socks Noida Angel Networks Angel NA',\n",
       "  '2 02/03/2020 Chqbook.com Finance Financial Services Gurugram Aavishkaar Capital Series A 5,000,000',\n",
       "  '3 06/03/2020 Paperboat',\n",
       "  'E-commerce Beverages and Snacks Bengaluru Advent Management, A91 Emerging Fund, and Trifecta Venture.',\n",
       "  '',\n",
       "  'Debt Financing 4,000,000',\n",
       "  '4 13/03/2020 CollegeKhabri EduTech Education Bhopal Vdiec Global Angel NA',\n",
       "  '5 12/03/2020 FamPay',\n",
       "  'Finance Online Payment Bengaluru Y Combinator, Venture Highway, Sequoia India, and GFC (Global Founders Capital). Seed 4,700,000',\n",
       "  '6 12/03/2020 MultiLiving Real Estate Home Renting and Management Mumbai Lodha Ventures Series A 6,000,000',\n",
       "  '7 12/03/2020 Ola Electric',\n",
       "  'Transport Cab and Bike Taxi Bengaluru Pawan Munjal Family Trust Series B 1,000,000',\n",
       "  '8 12/03/2020 Mera Kisan Food Production Organic Products Pune Ajinkya Rahane Private Equity NA'],\n",
       " ['1 03/02/2020 1mg E-commerce Medicine Gurugram Bill & Melinda Gates Foundation Venture Series 10,000,000',\n",
       "  '2 03/02/2020 RACEnergy Transportation Electric Vehicle Hyderabad GrowX Ventures Seed NA',\n",
       "  '3 31/01/2020 Adonmo',\n",
       "  'Advertising Advertising Hyderabad BAce Capital Pre-Series A 3,000,000',\n",
       "  '4 31/01/2020 DoubtNut Education Online Tutoring Gurugram Tencent Holdings Series A 15,000,000',\n",
       "  '5 30/01/2020 MultiplyMyLeads Real Estate Real Estate New Delhi Frontline Strategy Funds and SucSEED Venture Partners. Venture Series NA',\n",
       "  '6 03/02/2020 Embibe EduTech AI based learning Mumbai Reliance Industries Limited (RIL) Venture Series 12,625,020',\n",
       "  '7 10/02/2020 FirstCry',\n",
       "  'E-commerce Baby Products Pune Softbank Vision Fund Series E 296,000,000',\n",
       "  '8 10/02/2020 Pepperfry E-commerce Furniture Mumbai Pidilite Industries Series F 37,000,000',\n",
       "  '9 18/02/2020 MaxWholesale E-commerce B2B platform for groceries New Delhi IAN Fund and Al Falaj Investment Co Series A 3,000,000',\n",
       "  '10 06/02/2020 Dot Information Technology and Services Information Technology and Services Gurgaon PayU and Fosun RZ Capital Seed 8,000,000'],\n",
       " ['1 09/01/2020 BYJU’S E-Tech E-learning Bengaluru Tiger Global Management Private Equity Round 200,000,000',\n",
       "  '2 13/01/2020 Shuttl Transportation App based shuttle service Gurgaon Susquehanna Growth Equity Series C 8,048,394',\n",
       "  '3 09/01/2020 Mamaearth E-commerce Retailer of baby and toddler products Bengaluru Sequoia Capital India Series B 18,358,860',\n",
       "  '4 02/01/2020 https://www.wealthbucket.in/ FinTech Online Investment New Delhi Vinod Khatumal Pre-series A 3,000,000',\n",
       "  '5 02/01/2020 Fashor Fashion and Apparel Embroiled Clothes For Women Mumbai Sprout Venture Partners Seed Round 1,800,000',\n",
       "  '6 13/01/2020 Pando Logistics Open-market, freight management platform Chennai Chiratae Ventures Series A 9,000,000',\n",
       "  '7 10/01/2020 Zomato Hospitality Online Food Delivery Platform Gurgaon Ant Financial Private Equity Round 150,000,000'],\n",
       " ['1 12/12/2019 Ecozen Technology Agritech Pune Sathguru Catalyzer Advisors Series A 6,000,000',\n",
       "  '2 06/12/2019 CarDekho E-Commerce Automobile Gurgaon Ping An Global Voyager Fund Series D 70,000,000',\n",
       "  '3 3/12/2019 Dhruva Space Aerospace Satellite Communication Bengaluru Mumbai Angels, Ravikanth Reddy Seed 50,000,000',\n",
       "  '4 13/12/2019 Rivigo Technology Logistics Services and Solutions Gurgaon SAIF Partners, Spring Canter Investment Ltd. Series F 20,000,000',\n",
       "  '5 17/12/2019 Healthians B2B-focused foodtech startup Food Solutions For Corporate Bengaluru Paytm, NPTK, Sabre Partners and Neoplux Series C 12,000,000',\n",
       "  '6 16/12/2019 Licious E-Commerce Online Meat And Seafood Ordering Startup Bengaluru Vertex Growth Fund Series E 30,000,000',\n",
       "  '7 16/12/2019 InCred Finance Non-Banking Financial Company Mumbai Debt Funding 5,900,000',\n",
       "  '8 14/12/2019 Trell Video Experience Discovery Platform Bengaluru Ruizheng Investment Seed Round 2,000,000',\n",
       "  '9 11/12/2019 Rein Games Gaming Real money based gaming startup Noida Manipal Education and Medical Group (MEMG) Seed Round 50,000,000',\n",
       "  '10 20/12/2019 Lenskart.com E-Commerce Online Eyewear Shopping Portal Faridabad SoftBank Vision Fund Series G 231,000,000'],\n",
       " ['1 13/11/2019 Freshworks Software Business and customer engagement tools San Francisco Sequoia, CapitalG, Accel Series H 15,000,0000',\n",
       "  \"2 14/11/2019 Misters Health and wellness Men's Health and Wellness brand Gurgaon Sauce.vc, Rainforest Ventures Series B 486,000\",\n",
       "  '3 13/11/2019 Sunstone Eduversity Pvt. Ltd Education Elearning Gurgaon Prime Venture Partners, LetsVenture, PS1 Venture and GlobalLogic co-founder Rajul Garg Seed 1,500,000',\n",
       "  '4 17/11/2019 Burger Singh Food and Beverage Indian Burger Brand Gurgaon RB Investments Venture undisclosed',\n",
       "  '5 18/11/2019 Healthians Health and Wellness Healthcare services Gurgaon DG Daiwa Ventures, DG Incubation Series B 12,000,000',\n",
       "  '6 15/11/2019 Ninjacart B2B Marketing Agritech Bengaluru Trifecta Capital Advisors Debt Funding 26,000,000',\n",
       "  '7 20/11/2019 Aye Finance FinTech Financial Services To MSMEs Gurgaon FinTech Debt Funding 17,411,265',\n",
       "  '8 12/11/2019 SuperGaming Video Games Social gaming platform Pune Dream Incubator Seed Funding 1,300,000',\n",
       "  '9 20/11/2019 Clumio SaaS Recovery software San Jose, Altimeter Capital, Sutter Hill Ventures Series C 135,000,000',\n",
       "  '10 11/11/2019 eBikeGo Last Mile Transportation Electric bike rental Amritsar Startup Buddy Seed 300,000'],\n",
       " ['1 04/10/2019 Dunzo Customer Service Delivery Service Bengaluru Lightbox Series D 4,50,00,000',\n",
       "  '2 02/10/2019 Udaan B2B Business development Bengaluru Altimeter Capital, DST Global Series D 58,50,00,000',\n",
       "  '3 21/10/2019 The Man Company',\n",
       "  'Consumer Goods Beauty and Grooming Gurgaon Ayushmann Khurana Corporate Round unknown'],\n",
       " ['1 05/09/2019 FPL Technologies FinTech Financial Services Pune Matrix Partners India, Sequoia India Maiden Round 4,500,000',\n",
       "  '2 04/09/2019 Cashflo FinTech Invoice discounting platform and SME lending marketplace Mumbai SAIF Partners Series A 3,300,000',\n",
       "  '3 04/09/2019 Digital F5 Advertising, Marketing Digital marketing firm Mumbai TIW Private Equity Private Equity Round 6,000,000',\n",
       "  '4 04/09/2019 3rdFlix SaaS Education Technology Hyderabad Exfinity Venture Partners pre-series A 5,000,000',\n",
       "  '5 04/09/2019 75F IoT Building automation system Burnsville Breakthrough Energy Ventures Series A 18,000,000',\n",
       "  '6 04/09/2019 Myelin Foundry Information Technology Deep-technology Bengaluru Endiya Partners Seed 10,00,000',\n",
       "  '7 04/09/2019 Atomberg Technology Consumer Technology Consumer Electronics, Home Appliances Mumbai A91 Partners Series A 10,000,000',\n",
       "  '8 04/09/2019 GOQii Health and Wellness Wearable Fitness Bands Menlo Park Bennett Coleman and Company Ltd (BCCL) Series C 450,000,000',\n",
       "  '9 03/09/2019 Vyapar App Accounting Mobile-based Accounting Software Bengaluru India Quotient, Axilor Ventures Series A 5,000,000'],\n",
       " ['1 01/08/2019 CarDekho E-Commerce Automotive Gurgaon SC GG India Mobility Holdings LLC Series C 20,000,000',\n",
       "  '2 01/08/2019 Progcap Finance Supply Chain Management New Delhi Sequoia India Series A 5,000,000',\n",
       "  '3 01/08/2019 MyPetrolPump Retail Fuel Delivery Bengaluru Seed Funding Round 1,600,000',\n",
       "  '4 01/08/2019 Alteria Capital Finance VC Funds Mumbai Azim Premji, Binny Bansal Single Venture 140,000,000',\n",
       "  '5 01/08/2019 Pine Labs Information Technology Last-mile retail transaction technology Noida Pine Labs Pte Ltd Corporate Round 38,080,000',\n",
       "  '6 12/08/2019 Meesho E-Commerce Social Commerce Bengaluru Naspers Series D 125,000,000',\n",
       "  '7 13/08/2019 Cars24 E-Commerce Car Retail Gurugram MS Dhoni Series D 11,000,000',\n",
       "  '8 13/08/2019 Uniphore Customer Service Platform Conversational AI Palo Alto March Capital Partners Series C 51,000,000',\n",
       "  '9 23/08/2019 Zendrive Automotive Road Safety Analytics San Francisco XL Innovate Series B 37,000,000',\n",
       "  '10 23/08/2019 Lo! Foods Consumer Goods Low carb food for Diabetics Bengaluru Rashmi Daga (founder, FreshMenu), Raveen Sastry (co-founder, Myntra) and Mitesh Shah (finance chief, BookMyShow) Seed Round 500,000'],\n",
       " ['1 02/07/2019 RenewBuy Finance Auto Insurance Gurgaon Lok Capital, IIFL Wealth Series B 19,000,000',\n",
       "  '2 02/07/2019 Atlan Information Technology Big Data Singapore WaterBridge Ventures Pre-Series A 2,500,000',\n",
       "  '3 01/07/2019 WizCounsel Compliance Consulting New Delhi Kapil Dev Angel 145,000',\n",
       "  '4 03/07/2019 Ola Cabs Transport Cabs Kormangala DIG Investment Ab, Deshe Holdings, Samih Toukan and Hussam Khoury Series J 1,000,000',\n",
       "  '5 01/07/2019 Uniphore Artificial Intelligence Speech Recognition Taramani March Capital Partners Series C 38,080,000',\n",
       "  '6 04/07/2019 Daalchini Technologies Food and Beverage Digital Vending Machine New Delhi Artha Venture Seed Round 500,000',\n",
       "  \"7 10/07/2019 BYJU'S EdTech Education Bengaluru Qatar Investment Authority Private Equity Round 150,000,000\",\n",
       "  '8 11/07/2019 Moglix E-Commerce Industrial Tools and Equipments Singapore Composite Capital Management, Sequoia Capital India, Tiger Global Management Series D 60,000,000',\n",
       "  '9 10/07/2019 Ezyhaul Tech Logistics Singapore Undisclosed Series B 16,000,000',\n",
       "  '10 10/07/2019 Indus OS Tech Smartphone Operating System Andheri Ventureast Series B 5,750,000'],\n",
       " ['1 05/06/2019 NoBroker E-Commerce Real Estate Bengaluru General Atlantic Series C 5,10,00,000',\n",
       "  '2 04/06/2019 Bira91 Food and Beverage Brewery New Delhi Anicut Capital Debt Funding 1,00,00,000',\n",
       "  '3 03/06/2019 FabHotels E-Commerce Hospitality Gurgaon Goldman Sachs, Accel Partners and Qualcomm 48,89,975.54',\n",
       "  '4 03/06/2019 Avail Finance Finance FinTech Bengaluru Matrix Partners Series A 90,00,000',\n",
       "  '5 04/06/2019 BharatPe Finance FinTech New Delhi Insight Partners Series B 7,50,00,000',\n",
       "  '6 04/06/2019 Recykal Waste Management Service Optimization Hyderabad Triton Investment Advisors, Pidilite Industries director Ajay Parekh pre-Series A 26,000,000',\n",
       "  '7 03/06/2019 Agara Labs Deep-Tech Artificial Intelligence Bengaluru Blume Ventures and RTP Global pre-Series A 25,00,000',\n",
       "  '8 06/06/2019 Sistema.bio Agriculture Hybrid Reactor Biodigestor Nairobi Shell Foundation, DILA CAPITAL, Engie RDE Fund, EcoEnterprise Fund, EDFIMC (ElectriFI), Endeavor Catalyst Fund, CoCapital, Triodos, Alpha Mundi, and Lendahand 27,39,034.68',\n",
       "  '9 06/06/2019 Chakr Innovation Energy Renewable Energy New Delhi IAN Fund Series A 26,000,000',\n",
       "  '10 06/06/2019 Pratilipi Digital Media E-Books Bengaluru Qiming Venture Partners Series B 1,51,09,500.00'],\n",
       " ['1 06/05/2019 Ola Electric Transport Cabs Bengaluru Tata Sons Series A undisclosed',\n",
       "  '2 06/05/2019 Saahas Zero Waste Waste Management Service Optimization Bengaluru C4D Partners Venture - Series Unknown 868,600',\n",
       "  '3 05/05/2019 StyleDotMe E-commerce Fashion and Shopping Delhi Indian Angel Network and other angel investors, Innov8 founder Ritesh Malik, Josh Talks founders Supriya Paul and Shobha Banga, and former Hero Corporate president Rohit Chanana Bridge Round undisclosed',\n",
       "  '4 01/05/2019 BlackBuck Transport Logistics Bengaluru Goldman Sachs Investment Partners and Silicon Valley-based Accel, Wellington, Sequoia Capital, B Capital, LightStreet, Sands Capital and International Finance Corporation, Series D 150,000,000',\n",
       "  '5 02/05/2019 Zenoti Saas Beauty and Wellness Industry Hyderabad Tiger Global Management Series C 50,000,000',\n",
       "  '6 28/05/2019 Ather Energy Automobile Electric Vehicle Bengaluru Sachin Bansal Series C 5,10,00,000',\n",
       "  '7 28/05/2019 FreshVnF Agtech Fresh Agriculture Produces Mumbai Equanimity Ventures Seed Round 14,00,00,000',\n",
       "  '8 30/05/2019 GlowRoad E-commerce Retail Bengaluru Korea Investment Partners, Vertex Ventures Series B 1,15,00,000',\n",
       "  '9 31/05/2019 Bira91 Food and Beverage Brewery New Delhi Sixth Sense Ventures Series B 56,00,000'],\n",
       " ['1 16/04/2019 Kuvera Finance Wealth Management Bengaluru Eight Roads Series A 45,000,000',\n",
       "  '2 12/04/2019 Medlife E-commerce Online Medicine Bengaluru Prasid Uno Family Trust Private Equity 17,000,000',\n",
       "  '3 10/04/2019 Kabadiwala E-commerce Waste Management Bhopal Unilever, Beehive Capital Advisor, ABCOM Investments, Parekh Marine Transport, Private Equity 430,665',\n",
       "  '4 13/04/2019 Tripoto Social Media Travel New Delhi Orchid India, Hornbill Orchid India Fund, Chiratae Ventures (formerly IDG Ventures), 3one4 Capital, Lasmer NV Series B 3,591,375',\n",
       "  '5 12/04/2019 Azah Health and Wellness Organic wellness Gurugram Unnamed angel investors Seed Funding 200,000',\n",
       "  '6 11/04/2019 Setu Fintech Banking Bengaluru Lightspeed India Partners Seed Funding 3,500,000',\n",
       "  '7 10/04/2019 Toppr Edtech E-learning Mumbai Milestone Debt and Preference capital 6,320,820',\n",
       "  '8 10/04/2019 Craftsvilla E-commerce Fashion and Apparel Mumbai Supera Pte Ltd Inhouse Funding 2,443,495',\n",
       "  '9 10/04/2019 Unacademy Edtech E-learning Bengaluru Kalyan Krishnamurthy Seed/ Angel Funding 307,000',\n",
       "  '10 11/04/2019 CleverTap SaaS Mobile analytics and marketing Mumbai Sequoia India, Tiger Global Management, Accel Partners Series B 26,000,000'],\n",
       " ['1 1/02/2019 FleetX AI Logistics Gurgaon India Quotient and LetsVenture’s Angel Fund Pre Series A Undisclosed',\n",
       "  '2 8/02/2019 Zilingo Ecommerce Fashion & Apparel India/Singapore Sequoia Capital and Temasek Holdings, EDBI, Burda Principal Investments, and Sofina Series D 226,000,000',\n",
       "  '3 13/02/2019 NanoClean Global Nanotechnology Anti-Pollution New Delhi LetsVenture, PitchRight Venture, 91SpringBoard, AL Nour International Holdings and Mark V Investments Series A 600,000',\n",
       "  '4 14/02/2018 OyoRooms Hospitality Budget Rooms Gurgaon DiDi Chuxing Equity 100,000,000'],\n",
       " ['1 03/01/2019 CarDekho Automobile Online Marketplace Jaipur Sequoia India, Hillhouse Capital, Alphabet’s growth investment arm Capital G and Axis Bank Series C 110,000,000',\n",
       "  '2 04/01/2019 Vyome Therapeutics Inc. Health and Wellness Specialty pharmaceutical India/US Iron Pillar, Perceptive Advisors, Romulus Capital and Kalaari Capital Series D 22,000,000',\n",
       "  '3 04/01/2019 Samunnati Financial Intermediation & Services Pvt. Ltd Finance Non-banking financial company Chennai MASSIF, a Dutch government fund Debt-Funding 5,000,000',\n",
       "  '4 04/12/2018 Manch Social Media Hyperlocal Content Delhi Stellaris Venture Partners Seed Funding 700,000'],\n",
       " ['1 01/12/2018 UrbanClap Technologies Pvt. Ltd Services Platform Home services marketplace New Delhi Steadview Capital and Vy Capital. Series D 50,000,000',\n",
       "  '2 02/12/2018 Guiddoo Travel Tech Platform for travel agents Mumbai Individual Investors Pre-Series A 800,000',\n",
       "  '3 02/12/2018 Career Anna Online Education Video-based certification, trainings Gurugram Individual Investors Pre-Series A 572,000',\n",
       "  '4 04/12/2018 Nagpur Wholesale Online Marketplace eCommerce Nagpur Omphalos Ventures India LLP Seed Funding 143,000',\n",
       "  '5 06/12/2018 ShopKirana B2B eCommerce Indore Info Edge, AET Fund, Akatsuki and Incubate Fund from Japan and Better Capital AngelList syndicate. Seed Funding 2,000,000',\n",
       "  '6 06/12/2018 BuildSupply SaaS, Ecommerce Real Estate, ERP Gurugram Venture Highway, GREE Ventures, Space Matrix, Individual Investors Series A 3,500,000'],\n",
       " ['1 01/11/2018 GoDesi Food and Beverage Regional Flavours Bengaluru Lead Angels Network Seed/ Angel Funding 1,38,995',\n",
       "  '2 03/11/2018 Veritas Finance Ltd. NBFC MSME Finance Chennai Norwest Venture Partners, CDC Group, the UK’s Development Finance Institution and P Surendra Pai Series D 27,799,000',\n",
       "  '3 06/11/2018 Meesho Ecommerce Social Commerce Bengaluru Shunwei Capital, DST Partners and RPS Ventures Series C 50,000,000',\n",
       "  '4 08/11/2018 Mobile Premier League Gaming Mobile e-Sports Bengaluru Undisclosed Series A 5,00,000',\n",
       "  '5 8/11/2018 A&R Bon Vivants Food Meat Retail Chain Jaipur RB Investments, Singapore Equity 1,000,000',\n",
       "  '6 12/11/2018 Blackbuck Food Tech POS For Online Ordering New York, Bengaluru Tiger Global Series A 1,000,000',\n",
       "  '7 12/11/2018 MilkBAsket Food Micro-delivery grocery service New Delhi Mayfield Fund Series B 1,300,000',\n",
       "  '8 13/11/2018 DriveU Transport On-Demand Drivers Bengaluru Stevens Creek Ventures Mezzanine 1,000,000',\n",
       "  '9 14/11/2018 CleanseCar Services Car Wash Bengaluru Venture Catalysts Seed/ Angel Funding 500,000',\n",
       "  '10 19/11/2018 Automation Anywhere Automation Robotics California SoftBank Vision Fund Series B 300,000,000'],\n",
       " ['1 01/10/2018 Northmist Fashion Mens Wear Delhi Prashant Jaiswal Seed/ Angel Funding N/A',\n",
       "  '2 02/10/2018 Origo Commodities India Pvt. Ltd Logistics Supply Chain Hyderabad Cooperative Oikocredit, Caspian and Hivos-Triodos Fund Seed/ Angel Funding 11,000,000',\n",
       "  '3 04/10/2018 Grover Zampa Food Wine Mumbai Ravi Viswanathan Private Equity 8,200,000',\n",
       "  '4 05/10/2018 Droom Automobile New and Used Cars Platform Gurgaon ZigExN Series E 30,00,000',\n",
       "  '5 11/10/2018 Innov8 Real Estate Co-Working New Delhi Credence Family Office Pre-Series A 4,000,000',\n",
       "  '6 12/10/2018 Blackbuck Logistics Tech Largest Trucking Platform Bengaluru Sequoia Capital India Private Funding 14,680,000',\n",
       "  '7 12/10/2018 LetsTransport Logistics Tech Book Trucks Online Bengaluru Fosun International Series C 12,000,000'],\n",
       " ['1 01/09/2018 Netmeds Consumer Internet Online Pharmacy Chain Chennai Sistema Asia Fund, Sistema JSFC and Tanncam Investment Private Equity 35,000,000',\n",
       "  '2 03/09/2018 Udaan B2B Platform Logistics and Shipping Bengaluru DST Global and Lightspeed Venture Partners’ global fund. Private Equity 225,000,000',\n",
       "  '3 03/09/2018 Daily hunt Consumer Internet News and ebooks Mobile App  Bengaluru Falcon Edge Private Equity 63,90,000',\n",
       "  '4 04/09/2018 3HCare Healthcare Healthcare Service Provider Delhi N/A Seed / Angel Funding 1,000,000',\n",
       "  '5 04/09/2018 HappyGoEasy Consumer Internet Online Travel Agecy Gurugram Korea Investment Partners (KIP), Samsung and China-based CITIC Capital and others Private Equity N/A',\n",
       "  '6 05/09/2018 Nykaa Consumer Internet Online Marketplace For Multi-brand Beauty Cosmetic and Wellness Products Mumbai Lighthouse Private Equity 15,72,00,000',\n",
       "  '7 05/09/2018 Mad Street Den Technology Computer Vision And Artificial Intelligence (Ai) Platform Chennai KDDI  Private Equity N/A',\n",
       "  '8 06/09/2018 Dream11 Consumer Internet Online Gaming Platform Mumbai Tencent, Kalaari Capital and Private equity firm Multiples Alternate Asset Management Private Equity 100,000,000',\n",
       "  '9 10/09/2018 MamaEarth Healthcare Online Marketplace For Mother and Babycare Products Gurugram Stellaris Ventures & Others Private Equity 4,000,000',\n",
       "  '10 11/09/2018 AutoGrid Technology AI-Based Energy Optimisation and Control Provider Bengaluru CLP Holdings Group, Innogy, Ørstead, and Tenaska Private Equity 32,000,000'],\n",
       " ['1 01/08/2018 dishq Food-Tech Personalisation Technology Firm Focusing On The Food And Beverage Industry Bengaluru Farm To Fork, Arts Alliance, The Syndicate Fund, Sven Hensen, Zeroth and Artesian Venture Partners Seed/ Angel Funding 400,000',\n",
       "  '2 01/08/2018 HealthFin Finance Patient Financing Platform Pune Axilor, Sprout Venture Partners and others Seed/ Angel Funding N/A',\n",
       "  '3 02/08/2018 Samosa Labs Consumer Internet Social Media and Chat Entertainment Platform Hyderabad Xiaomi and Sequoia Capital India Private Equity 7,000,000',\n",
       "  '4 03/08/2018 ZiffyHomes Consumer Internet Online Home Rental Marketplace Gurugram Y Combinator Private Equity 120,000',\n",
       "  '5 07/08/2018 My OmNamo Consumer Internet Holy Platform Offering Customised Puja Packages To Individuals and Corporates Mumbai N/A Seed/ Angel Funding 1,000,000',\n",
       "  '6 07/08/2018 ShopX Consumer Internet Assisted E-commerce Platform Bengaluru Fung Strategic Holdings Private Equity 35,000,000',\n",
       "  '7 07/08/2018 MakeMyTrip Consumer Internet Online Travel Aggregator Gurugram MakeMyTrip Limited Private Equity 10,000,000',\n",
       "  '8 08/08/2018 Hansel io Consumer Internet Real-time Mobile App Management Bengaluru Vertex Ventures Seed/ Angel Funding 40,00,000',\n",
       "  '9 08/08/2018 Metro Bikes Consumer Internet Online Bike Rental Marketplace Bengaluru Sequoia Capital India Advisors, Accel Partners and G Raghunandan Private Equity 12,200,000',\n",
       "  '10 08/08/2018 Phone Pe Consumer Internet UPI Payments App Bengaluru Flipkart Private Equity 66,000,000'],\n",
       " ['1 01/07/2018 Leena AI Technology HR Virtual Agent For Employees Gurugram Y Combinator Seed/ Angel Funding N/A',\n",
       "  '2 02/07/2018 Biryani By Kilo Consumer Internet Online Food Delivery Gurugram Ajay Relan and Vinay Mittal Seed/ Angel Funding 1,000,000',\n",
       "  '3 04/07/2018 Anchanto IT E-commerce Fulfilment Platform Pune MDI Ventures & Telkom Indonesia Private Equity 4,000,000',\n",
       "  '4 05/072018 Loan Tap Consumer Internet Online Lending Platform For Salaried Professionals Mumbai Shunwei Capital, Tuscan Ventures, Ashish Goenka, VC firms India Quotient and Kae Capital Private Equity 62,50,000',\n",
       "  '5 06/07/2018 PolicyBazaar Consumer Internet Online Insurance Selling Platform Gurugram Info Edge (India) Ltd and Temasek Private Equity 2,7700,000',\n",
       "  '6 09/07/2018 zippserv Consumer Internet Online Platform For Risk-Assessment Services For Real Estate Investments Bengaluru Info Edge (India) Ltd Seed/ Angel Funding 440,000',\n",
       "  '7 09/07/2018 Groww Consumer Internet Online Platform That Sells Direct Plans Of Mutual Funds Bengaluru Insignia Ventures Partners, Lightbridge Partners & Kairos Seed/ Angel Funding 1,100,000',\n",
       "  '8 10/07/2018 Avenue Growth Consumer Internet Online Platform That Connects Brands With Freelance Sales Professionals Gurugram Avtar Monga, chief operating office at IDFC Bank, Aditya Malik & Others Seed/ Angel Funding 437,000',\n",
       "  '9 10/07/2018 iNICU Healthcare Med-tech Platform Providing Care For Newborns Delhi Venture Catalysts Seed/ Angel Funding N/A',\n",
       "  '10 10/07/2018 Kinara Capital Finance Lending Platform For Micro and Small Enterprises Bengaluru ResponsAbility Private Equity 5,000,000'],\n",
       " ['1 01/10/2018 Northmist Fashion Mens Wear Delhi Prashant Jaiswal Seed/ Angel Funding N/A',\n",
       "  '2 02/10/2018 Origo Commodities India Pvt. Ltd Logistics Supply Chain Hyderabad Cooperative Oikocredit, Caspian and Hivos-Triodos Fund Seed/ Angel Funding 11,000,000',\n",
       "  '3 04/10/2018 Grover Zampa Food Wine Mumbai Ravi Viswanathan Private Equity 8,200,000',\n",
       "  '4 05/10/2018 Droom Automobile New and Used Cars Platform Gurgaon ZigExN Series E 30,00,000',\n",
       "  '5 11/10/2018 Innov8 Real Estate Co-Working New Delhi Credence Family Office Pre-Series A 4,000,000',\n",
       "  '6 12/10/2018 Blackbuck Logistics Tech Largest Trucking Platform Bengaluru Sequoia Capital India Private Funding 14,680,000',\n",
       "  '7 12/10/2018 LetsTransport Logistics Tech Book Trucks Online Bengaluru Fosun International Series C 12,000,000'],\n",
       " ['1 01/09/2018 Netmeds Consumer Internet Online Pharmacy Chain Chennai Sistema Asia Fund, Sistema JSFC and Tanncam Investment Private Equity 35,000,000',\n",
       "  '2 03/09/2018 Udaan B2B Platform Logistics and Shipping Bengaluru DST Global and Lightspeed Venture Partners’ global fund. Private Equity 225,000,000',\n",
       "  '3 03/09/2018 Daily hunt Consumer Internet News and ebooks Mobile App  Bengaluru Falcon Edge Private Equity 63,90,000',\n",
       "  '4 04/09/2018 3HCare Healthcare Healthcare Service Provider Delhi N/A Seed / Angel Funding 1,000,000',\n",
       "  '5 04/09/2018 HappyGoEasy Consumer Internet Online Travel Agecy Gurugram Korea Investment Partners (KIP), Samsung and China-based CITIC Capital and others Private Equity N/A',\n",
       "  '6 05/09/2018 Nykaa Consumer Internet Online Marketplace For Multi-brand Beauty Cosmetic and Wellness Products Mumbai Lighthouse Private Equity 15,72,00,000',\n",
       "  '7 05/09/2018 Mad Street Den Technology Computer Vision And Artificial Intelligence (Ai) Platform Chennai KDDI  Private Equity N/A',\n",
       "  '8 06/09/2018 Dream11 Consumer Internet Online Gaming Platform Mumbai Tencent, Kalaari Capital and Private equity firm Multiples Alternate Asset Management Private Equity 100,000,000',\n",
       "  '9 10/09/2018 MamaEarth Healthcare Online Marketplace For Mother and Babycare Products Gurugram Stellaris Ventures & Others Private Equity 4,000,000',\n",
       "  '10 11/09/2018 AutoGrid Technology AI-Based Energy Optimisation and Control Provider Bengaluru CLP Holdings Group, Innogy, Ørstead, and Tenaska Private Equity 32,000,000'],\n",
       " ['1 01/08/2018 dishq Food-Tech Personalisation Technology Firm Focusing On The Food And Beverage Industry Bengaluru Farm To Fork, Arts Alliance, The Syndicate Fund, Sven Hensen, Zeroth and Artesian Venture Partners Seed/ Angel Funding 400,000',\n",
       "  '2 01/08/2018 HealthFin Finance Patient Financing Platform Pune Axilor, Sprout Venture Partners and others Seed/ Angel Funding N/A',\n",
       "  '3 02/08/2018 Samosa Labs Consumer Internet Social Media and Chat Entertainment Platform Hyderabad Xiaomi and Sequoia Capital India Private Equity 7,000,000',\n",
       "  '4 03/08/2018 ZiffyHomes Consumer Internet Online Home Rental Marketplace Gurugram Y Combinator Private Equity 120,000',\n",
       "  '5 07/08/2018 My OmNamo Consumer Internet Holy Platform Offering Customised Puja Packages To Individuals and Corporates Mumbai N/A Seed/ Angel Funding 1,000,000',\n",
       "  '6 07/08/2018 ShopX Consumer Internet Assisted E-commerce Platform Bengaluru Fung Strategic Holdings Private Equity 35,000,000',\n",
       "  '7 07/08/2018 MakeMyTrip Consumer Internet Online Travel Aggregator Gurugram MakeMyTrip Limited Private Equity 10,000,000',\n",
       "  '8 08/08/2018 Hansel io Consumer Internet Real-time Mobile App Management Bengaluru Vertex Ventures Seed/ Angel Funding 40,00,000',\n",
       "  '9 08/08/2018 Metro Bikes Consumer Internet Online Bike Rental Marketplace Bengaluru Sequoia Capital India Advisors, Accel Partners and G Raghunandan Private Equity 12,200,000',\n",
       "  '10 08/08/2018 Phone Pe Consumer Internet UPI Payments App Bengaluru Flipkart Private Equity 66,000,000'],\n",
       " ['1 01/07/2018 Leena AI Technology HR Virtual Agent For Employees Gurugram Y Combinator Seed/ Angel Funding N/A',\n",
       "  '2 02/07/2018 Biryani By Kilo Consumer Internet Online Food Delivery Gurugram Ajay Relan and Vinay Mittal Seed/ Angel Funding 1,000,000',\n",
       "  '3 04/07/2018 Anchanto IT E-commerce Fulfilment Platform Pune MDI Ventures & Telkom Indonesia Private Equity 4,000,000',\n",
       "  '4 05/072018 Loan Tap Consumer Internet Online Lending Platform For Salaried Professionals Mumbai Shunwei Capital, Tuscan Ventures, Ashish Goenka, VC firms India Quotient and Kae Capital Private Equity 62,50,000',\n",
       "  '5 06/07/2018 PolicyBazaar Consumer Internet Online Insurance Selling Platform Gurugram Info Edge (India) Ltd and Temasek Private Equity 2,7700,000',\n",
       "  '6 09/07/2018 zippserv Consumer Internet Online Platform For Risk-Assessment Services For Real Estate Investments Bengaluru Info Edge (India) Ltd Seed/ Angel Funding 440,000',\n",
       "  '7 09/07/2018 Groww Consumer Internet Online Platform That Sells Direct Plans Of Mutual Funds Bengaluru Insignia Ventures Partners, Lightbridge Partners & Kairos Seed/ Angel Funding 1,100,000',\n",
       "  '8 10/07/2018 Avenue Growth Consumer Internet Online Platform That Connects Brands With Freelance Sales Professionals Gurugram Avtar Monga, chief operating office at IDFC Bank, Aditya Malik & Others Seed/ Angel Funding 437,000',\n",
       "  '9 10/07/2018 iNICU Healthcare Med-tech Platform Providing Care For Newborns Delhi Venture Catalysts Seed/ Angel Funding N/A',\n",
       "  '10 10/07/2018 Kinara Capital Finance Lending Platform For Micro and Small Enterprises Bengaluru ResponsAbility Private Equity 5,000,000'],\n",
       " ['1 01/10/2018 Northmist Fashion Mens Wear Delhi Prashant Jaiswal Seed/ Angel Funding N/A',\n",
       "  '2 02/10/2018 Origo Commodities India Pvt. Ltd Logistics Supply Chain Hyderabad Cooperative Oikocredit, Caspian and Hivos-Triodos Fund Seed/ Angel Funding 11,000,000',\n",
       "  '3 04/10/2018 Grover Zampa Food Wine Mumbai Ravi Viswanathan Private Equity 8,200,000',\n",
       "  '4 05/10/2018 Droom Automobile New and Used Cars Platform Gurgaon ZigExN Series E 30,00,000',\n",
       "  '5 11/10/2018 Innov8 Real Estate Co-Working New Delhi Credence Family Office Pre-Series A 4,000,000',\n",
       "  '6 12/10/2018 Blackbuck Logistics Tech Largest Trucking Platform Bengaluru Sequoia Capital India Private Funding 14,680,000',\n",
       "  '7 12/10/2018 LetsTransport Logistics Tech Book Trucks Online Bengaluru Fosun International Series C 12,000,000'],\n",
       " ['1 01/09/2018 Netmeds Consumer Internet Online Pharmacy Chain Chennai Sistema Asia Fund, Sistema JSFC and Tanncam Investment Private Equity 35,000,000',\n",
       "  '2 03/09/2018 Udaan B2B Platform Logistics and Shipping Bengaluru DST Global and Lightspeed Venture Partners’ global fund. Private Equity 225,000,000',\n",
       "  '3 03/09/2018 Daily hunt Consumer Internet News and ebooks Mobile App  Bengaluru Falcon Edge Private Equity 63,90,000',\n",
       "  '4 04/09/2018 3HCare Healthcare Healthcare Service Provider Delhi N/A Seed / Angel Funding 1,000,000',\n",
       "  '5 04/09/2018 HappyGoEasy Consumer Internet Online Travel Agecy Gurugram Korea Investment Partners (KIP), Samsung and China-based CITIC Capital and others Private Equity N/A',\n",
       "  '6 05/09/2018 Nykaa Consumer Internet Online Marketplace For Multi-brand Beauty Cosmetic and Wellness Products Mumbai Lighthouse Private Equity 15,72,00,000',\n",
       "  '7 05/09/2018 Mad Street Den Technology Computer Vision And Artificial Intelligence (Ai) Platform Chennai KDDI  Private Equity N/A',\n",
       "  '8 06/09/2018 Dream11 Consumer Internet Online Gaming Platform Mumbai Tencent, Kalaari Capital and Private equity firm Multiples Alternate Asset Management Private Equity 100,000,000',\n",
       "  '9 10/09/2018 MamaEarth Healthcare Online Marketplace For Mother and Babycare Products Gurugram Stellaris Ventures & Others Private Equity 4,000,000',\n",
       "  '10 11/09/2018 AutoGrid Technology AI-Based Energy Optimisation and Control Provider Bengaluru CLP Holdings Group, Innogy, Ørstead, and Tenaska Private Equity 32,000,000'],\n",
       " ['1 01/08/2018 dishq Food-Tech Personalisation Technology Firm Focusing On The Food And Beverage Industry Bengaluru Farm To Fork, Arts Alliance, The Syndicate Fund, Sven Hensen, Zeroth and Artesian Venture Partners Seed/ Angel Funding 400,000',\n",
       "  '2 01/08/2018 HealthFin Finance Patient Financing Platform Pune Axilor, Sprout Venture Partners and others Seed/ Angel Funding N/A',\n",
       "  '3 02/08/2018 Samosa Labs Consumer Internet Social Media and Chat Entertainment Platform Hyderabad Xiaomi and Sequoia Capital India Private Equity 7,000,000',\n",
       "  '4 03/08/2018 ZiffyHomes Consumer Internet Online Home Rental Marketplace Gurugram Y Combinator Private Equity 120,000',\n",
       "  '5 07/08/2018 My OmNamo Consumer Internet Holy Platform Offering Customised Puja Packages To Individuals and Corporates Mumbai N/A Seed/ Angel Funding 1,000,000',\n",
       "  '6 07/08/2018 ShopX Consumer Internet Assisted E-commerce Platform Bengaluru Fung Strategic Holdings Private Equity 35,000,000',\n",
       "  '7 07/08/2018 MakeMyTrip Consumer Internet Online Travel Aggregator Gurugram MakeMyTrip Limited Private Equity 10,000,000',\n",
       "  '8 08/08/2018 Hansel io Consumer Internet Real-time Mobile App Management Bengaluru Vertex Ventures Seed/ Angel Funding 40,00,000',\n",
       "  '9 08/08/2018 Metro Bikes Consumer Internet Online Bike Rental Marketplace Bengaluru Sequoia Capital India Advisors, Accel Partners and G Raghunandan Private Equity 12,200,000',\n",
       "  '10 08/08/2018 Phone Pe Consumer Internet UPI Payments App Bengaluru Flipkart Private Equity 66,000,000']]"
      ]
     },
     "execution_count": 177,
     "metadata": {},
     "output_type": "execute_result"
    }
   ],
   "source": [
    "funding"
   ]
  },
  {
   "cell_type": "code",
   "execution_count": null,
   "id": "78ad5c4d",
   "metadata": {},
   "outputs": [],
   "source": []
  },
  {
   "cell_type": "markdown",
   "id": "67a825da",
   "metadata": {},
   "source": [
    "# DIGIT"
   ]
  },
  {
   "cell_type": "code",
   "execution_count": 1,
   "id": "a19dfe8b",
   "metadata": {},
   "outputs": [],
   "source": [
    "import selenium\n",
    "from selenium import webdriver\n",
    "import pandas as pd\n",
    "import warnings\n",
    "warnings.filterwarnings(\"ignore\")"
   ]
  },
  {
   "cell_type": "code",
   "execution_count": 3,
   "id": "d6d1842d",
   "metadata": {},
   "outputs": [],
   "source": [
    "driver=webdriver.Chrome('chromedriver.exe')"
   ]
  },
  {
   "cell_type": "code",
   "execution_count": 4,
   "id": "7602926c",
   "metadata": {},
   "outputs": [],
   "source": [
    "url=\"https://www.digit.in/\"\n",
    "driver.get(url)"
   ]
  },
  {
   "cell_type": "code",
   "execution_count": 5,
   "id": "a19e8236",
   "metadata": {},
   "outputs": [],
   "source": [
    "from selenium.webdriver.common.by import By"
   ]
  },
  {
   "cell_type": "code",
   "execution_count": 6,
   "id": "805103cc",
   "metadata": {},
   "outputs": [
    {
     "data": {
      "text/plain": [
       "<selenium.webdriver.remote.webelement.WebElement (session=\"8f90b565a7184dc9a4ce9849369b7e08\", element=\"f0482b34-410c-4dfd-87e8-680368f6ba7e\")>"
      ]
     },
     "execution_count": 6,
     "metadata": {},
     "output_type": "execute_result"
    }
   ],
   "source": [
    "bestgamlap=driver.find_element(By.XPATH,'/html/body/div[3]/div/div[2]/div[2]/div[4]/ul/li[9]/a')\n",
    "bestgamlap"
   ]
  },
  {
   "cell_type": "code",
   "execution_count": 7,
   "id": "6b97ba32",
   "metadata": {},
   "outputs": [],
   "source": [
    "bestgamlap.click()"
   ]
  },
  {
   "cell_type": "code",
   "execution_count": 49,
   "id": "0c81bbb0",
   "metadata": {},
   "outputs": [
    {
     "data": {
      "text/plain": [
       "[<selenium.webdriver.remote.webelement.WebElement (session=\"8f90b565a7184dc9a4ce9849369b7e08\", element=\"06e2ad61-3d72-4729-8ae7-799541fcc58a\")>,\n",
       " <selenium.webdriver.remote.webelement.WebElement (session=\"8f90b565a7184dc9a4ce9849369b7e08\", element=\"68a5c94d-63a2-4910-9b91-823cabc8d2a3\")>,\n",
       " <selenium.webdriver.remote.webelement.WebElement (session=\"8f90b565a7184dc9a4ce9849369b7e08\", element=\"561afada-ae7c-4fe4-99dd-51f29fe5a568\")>,\n",
       " <selenium.webdriver.remote.webelement.WebElement (session=\"8f90b565a7184dc9a4ce9849369b7e08\", element=\"e8aeb06a-10c2-435b-8a0f-64d96d31d593\")>,\n",
       " <selenium.webdriver.remote.webelement.WebElement (session=\"8f90b565a7184dc9a4ce9849369b7e08\", element=\"a7cabc61-c79b-468f-8714-a4ec08a6345f\")>,\n",
       " <selenium.webdriver.remote.webelement.WebElement (session=\"8f90b565a7184dc9a4ce9849369b7e08\", element=\"507f61e5-7202-45b4-a491-b3cbe0ac47d4\")>,\n",
       " <selenium.webdriver.remote.webelement.WebElement (session=\"8f90b565a7184dc9a4ce9849369b7e08\", element=\"f3870011-5685-4f45-a6b1-526c62179c09\")>,\n",
       " <selenium.webdriver.remote.webelement.WebElement (session=\"8f90b565a7184dc9a4ce9849369b7e08\", element=\"cc204e77-16ae-4408-bea8-3868156b877c\")>,\n",
       " <selenium.webdriver.remote.webelement.WebElement (session=\"8f90b565a7184dc9a4ce9849369b7e08\", element=\"16a2f1b4-5774-490e-bf61-c82aad7db7ae\")>,\n",
       " <selenium.webdriver.remote.webelement.WebElement (session=\"8f90b565a7184dc9a4ce9849369b7e08\", element=\"bb18d8b4-3cf7-4587-abe0-838517870a21\")>]"
      ]
     },
     "execution_count": 49,
     "metadata": {},
     "output_type": "execute_result"
    }
   ],
   "source": [
    "product_det=driver.find_elements(By.XPATH,'//div[@class=\"Top10-Seller\"]//td[1]')\n",
    "product_det"
   ]
  },
  {
   "cell_type": "code",
   "execution_count": 50,
   "id": "d9e26148",
   "metadata": {},
   "outputs": [],
   "source": [
    "product=[]\n",
    "for i in product_det:\n",
    "    product.append(i.text)\n"
   ]
  },
  {
   "cell_type": "code",
   "execution_count": 51,
   "id": "51303557",
   "metadata": {},
   "outputs": [
    {
     "data": {
      "text/plain": [
       "['MSI Titan GT77-12UHS',\n",
       " 'Alienware x17 R2',\n",
       " 'Acer Predator Triton 500 SE PT516-52s',\n",
       " 'Omen by HP (16-B1371TX)',\n",
       " 'Acer Predator Helios 300 AN515-45 (NH.QBRSI.0',\n",
       " 'MSI Delta 15 (A5EFK-083IN)',\n",
       " 'Omen by HP (16-c0141AX)',\n",
       " 'Lenovo Legion 5i Pro (82RF00MGIN)',\n",
       " 'Alienware m15 R5 Ryzen Edition icc-c780001win',\n",
       " 'Lenovo Slim 7 Gen 6 (82K8002JIN)']"
      ]
     },
     "execution_count": 51,
     "metadata": {},
     "output_type": "execute_result"
    }
   ],
   "source": [
    "product"
   ]
  },
  {
   "cell_type": "code",
   "execution_count": 52,
   "id": "d3d236a7",
   "metadata": {},
   "outputs": [
    {
     "data": {
      "text/plain": [
       "[<selenium.webdriver.remote.webelement.WebElement (session=\"8f90b565a7184dc9a4ce9849369b7e08\", element=\"7697840e-0579-4462-a99f-f908d118d742\")>,\n",
       " <selenium.webdriver.remote.webelement.WebElement (session=\"8f90b565a7184dc9a4ce9849369b7e08\", element=\"8cd5872e-68a4-444e-8c94-4f324e712a24\")>,\n",
       " <selenium.webdriver.remote.webelement.WebElement (session=\"8f90b565a7184dc9a4ce9849369b7e08\", element=\"420725aa-2bac-4eff-90c0-f4ebf493ed1f\")>,\n",
       " <selenium.webdriver.remote.webelement.WebElement (session=\"8f90b565a7184dc9a4ce9849369b7e08\", element=\"86fb2e1e-e222-4fff-9ff4-24c8663e3a6c\")>,\n",
       " <selenium.webdriver.remote.webelement.WebElement (session=\"8f90b565a7184dc9a4ce9849369b7e08\", element=\"b67044d3-541d-4180-91cd-e519204f0044\")>,\n",
       " <selenium.webdriver.remote.webelement.WebElement (session=\"8f90b565a7184dc9a4ce9849369b7e08\", element=\"ec987897-4109-4e57-8edb-0c5c0ff4a5ac\")>,\n",
       " <selenium.webdriver.remote.webelement.WebElement (session=\"8f90b565a7184dc9a4ce9849369b7e08\", element=\"e1a4f9b5-b90d-474d-957d-b492b0f8c614\")>,\n",
       " <selenium.webdriver.remote.webelement.WebElement (session=\"8f90b565a7184dc9a4ce9849369b7e08\", element=\"35bc0a9f-9f46-4b55-a917-20fd2578e450\")>,\n",
       " <selenium.webdriver.remote.webelement.WebElement (session=\"8f90b565a7184dc9a4ce9849369b7e08\", element=\"58e4c8f5-6d65-4c22-85cb-37f9a355c4b6\")>,\n",
       " <selenium.webdriver.remote.webelement.WebElement (session=\"8f90b565a7184dc9a4ce9849369b7e08\", element=\"53c36f68-df3c-4c8d-af1d-564b9551b62f\")>]"
      ]
     },
     "execution_count": 52,
     "metadata": {},
     "output_type": "execute_result"
    }
   ],
   "source": [
    "seller_det=driver.find_elements(By.XPATH,'//div[@class=\"Top10-Seller\"]//td[2]')\n",
    "seller_det"
   ]
  },
  {
   "cell_type": "code",
   "execution_count": 55,
   "id": "6fe51b2f",
   "metadata": {},
   "outputs": [],
   "source": [
    "seller=[]\n",
    "for i in seller_det:\n",
    "    seller.append(i.text)"
   ]
  },
  {
   "cell_type": "code",
   "execution_count": 56,
   "id": "c1bd79ad",
   "metadata": {},
   "outputs": [
    {
     "data": {
      "text/plain": [
       "['N/A',\n",
       " 'Dell',\n",
       " 'N/A',\n",
       " 'Amazon',\n",
       " 'N/A',\n",
       " 'N/A',\n",
       " 'Amazon',\n",
       " 'N/A',\n",
       " 'Amazon',\n",
       " 'Croma']"
      ]
     },
     "execution_count": 56,
     "metadata": {},
     "output_type": "execute_result"
    }
   ],
   "source": [
    "seller"
   ]
  },
  {
   "cell_type": "code",
   "execution_count": 57,
   "id": "b0377afa",
   "metadata": {},
   "outputs": [
    {
     "data": {
      "text/plain": [
       "[<selenium.webdriver.remote.webelement.WebElement (session=\"8f90b565a7184dc9a4ce9849369b7e08\", element=\"0ff080c3-a46d-4b0b-b423-6cb6a8e96469\")>,\n",
       " <selenium.webdriver.remote.webelement.WebElement (session=\"8f90b565a7184dc9a4ce9849369b7e08\", element=\"42c5f9cf-4784-450e-afef-2def493ac9a9\")>,\n",
       " <selenium.webdriver.remote.webelement.WebElement (session=\"8f90b565a7184dc9a4ce9849369b7e08\", element=\"67119fb0-f788-4c5f-b2a3-9d7dce26e7d1\")>,\n",
       " <selenium.webdriver.remote.webelement.WebElement (session=\"8f90b565a7184dc9a4ce9849369b7e08\", element=\"9b1f5a2f-220c-47fb-adfc-627d1aa64588\")>,\n",
       " <selenium.webdriver.remote.webelement.WebElement (session=\"8f90b565a7184dc9a4ce9849369b7e08\", element=\"80a05538-3d4b-4394-9ba5-295e0e9c899a\")>,\n",
       " <selenium.webdriver.remote.webelement.WebElement (session=\"8f90b565a7184dc9a4ce9849369b7e08\", element=\"6873759e-ec36-4dbc-9f28-b44308e7ac23\")>,\n",
       " <selenium.webdriver.remote.webelement.WebElement (session=\"8f90b565a7184dc9a4ce9849369b7e08\", element=\"00c6a4d3-76c8-4ec4-b440-7251508fd846\")>,\n",
       " <selenium.webdriver.remote.webelement.WebElement (session=\"8f90b565a7184dc9a4ce9849369b7e08\", element=\"a1deffd7-57d2-4242-aaf8-1f5a02f89647\")>,\n",
       " <selenium.webdriver.remote.webelement.WebElement (session=\"8f90b565a7184dc9a4ce9849369b7e08\", element=\"a06e881e-38af-445c-833a-348ac1b44cc4\")>,\n",
       " <selenium.webdriver.remote.webelement.WebElement (session=\"8f90b565a7184dc9a4ce9849369b7e08\", element=\"73e98cc6-bc47-4429-89fe-668dd5b269df\")>]"
      ]
     },
     "execution_count": 57,
     "metadata": {},
     "output_type": "execute_result"
    }
   ],
   "source": [
    "prices=driver.find_elements(By.XPATH,'//div[@class=\"Top10-Seller\"]//td[3]')\n",
    "prices"
   ]
  },
  {
   "cell_type": "code",
   "execution_count": 58,
   "id": "de5766dc",
   "metadata": {},
   "outputs": [],
   "source": [
    "price=[]\n",
    "for i in prices:\n",
    "    price.append(i.text)"
   ]
  },
  {
   "cell_type": "code",
   "execution_count": 59,
   "id": "40d94dcd",
   "metadata": {},
   "outputs": [
    {
     "data": {
      "text/plain": [
       "['N/A',\n",
       " '₹ 389,990',\n",
       " '₹ 300,000',\n",
       " '₹ 195,000',\n",
       " '₹ 172,999',\n",
       " '₹ 188,990',\n",
       " '₹ 127,490',\n",
       " '₹ 230,890',\n",
       " '₹ 140,999',\n",
       " '₹ 135,490']"
      ]
     },
     "execution_count": 59,
     "metadata": {},
     "output_type": "execute_result"
    }
   ],
   "source": [
    "price"
   ]
  },
  {
   "cell_type": "code",
   "execution_count": 61,
   "id": "609770d7",
   "metadata": {},
   "outputs": [],
   "source": [
    "df=pd.DataFrame()"
   ]
  },
  {
   "cell_type": "code",
   "execution_count": 62,
   "id": "ac3f4c3a",
   "metadata": {},
   "outputs": [],
   "source": [
    "df['PRODUCT']=product\n",
    "df['seller detail']=seller\n",
    "df['PRICE']=price\n"
   ]
  },
  {
   "cell_type": "code",
   "execution_count": 63,
   "id": "3a316460",
   "metadata": {},
   "outputs": [
    {
     "data": {
      "text/html": [
       "<div>\n",
       "<style scoped>\n",
       "    .dataframe tbody tr th:only-of-type {\n",
       "        vertical-align: middle;\n",
       "    }\n",
       "\n",
       "    .dataframe tbody tr th {\n",
       "        vertical-align: top;\n",
       "    }\n",
       "\n",
       "    .dataframe thead th {\n",
       "        text-align: right;\n",
       "    }\n",
       "</style>\n",
       "<table border=\"1\" class=\"dataframe\">\n",
       "  <thead>\n",
       "    <tr style=\"text-align: right;\">\n",
       "      <th></th>\n",
       "      <th>PRODUCT</th>\n",
       "      <th>seller detail</th>\n",
       "      <th>PRICE</th>\n",
       "    </tr>\n",
       "  </thead>\n",
       "  <tbody>\n",
       "    <tr>\n",
       "      <th>0</th>\n",
       "      <td>MSI Titan GT77-12UHS</td>\n",
       "      <td>N/A</td>\n",
       "      <td>N/A</td>\n",
       "    </tr>\n",
       "    <tr>\n",
       "      <th>1</th>\n",
       "      <td>Alienware x17 R2</td>\n",
       "      <td>Dell</td>\n",
       "      <td>₹ 389,990</td>\n",
       "    </tr>\n",
       "    <tr>\n",
       "      <th>2</th>\n",
       "      <td>Acer Predator Triton 500 SE PT516-52s</td>\n",
       "      <td>N/A</td>\n",
       "      <td>₹ 300,000</td>\n",
       "    </tr>\n",
       "    <tr>\n",
       "      <th>3</th>\n",
       "      <td>Omen by HP (16-B1371TX)</td>\n",
       "      <td>Amazon</td>\n",
       "      <td>₹ 195,000</td>\n",
       "    </tr>\n",
       "    <tr>\n",
       "      <th>4</th>\n",
       "      <td>Acer Predator Helios 300 AN515-45 (NH.QBRSI.0</td>\n",
       "      <td>N/A</td>\n",
       "      <td>₹ 172,999</td>\n",
       "    </tr>\n",
       "    <tr>\n",
       "      <th>5</th>\n",
       "      <td>MSI Delta 15 (A5EFK-083IN)</td>\n",
       "      <td>N/A</td>\n",
       "      <td>₹ 188,990</td>\n",
       "    </tr>\n",
       "    <tr>\n",
       "      <th>6</th>\n",
       "      <td>Omen by HP (16-c0141AX)</td>\n",
       "      <td>Amazon</td>\n",
       "      <td>₹ 127,490</td>\n",
       "    </tr>\n",
       "    <tr>\n",
       "      <th>7</th>\n",
       "      <td>Lenovo Legion 5i Pro (82RF00MGIN)</td>\n",
       "      <td>N/A</td>\n",
       "      <td>₹ 230,890</td>\n",
       "    </tr>\n",
       "    <tr>\n",
       "      <th>8</th>\n",
       "      <td>Alienware m15 R5 Ryzen Edition icc-c780001win</td>\n",
       "      <td>Amazon</td>\n",
       "      <td>₹ 140,999</td>\n",
       "    </tr>\n",
       "    <tr>\n",
       "      <th>9</th>\n",
       "      <td>Lenovo Slim 7 Gen 6 (82K8002JIN)</td>\n",
       "      <td>Croma</td>\n",
       "      <td>₹ 135,490</td>\n",
       "    </tr>\n",
       "  </tbody>\n",
       "</table>\n",
       "</div>"
      ],
      "text/plain": [
       "                                         PRODUCT seller detail      PRICE\n",
       "0                           MSI Titan GT77-12UHS           N/A        N/A\n",
       "1                               Alienware x17 R2          Dell  ₹ 389,990\n",
       "2          Acer Predator Triton 500 SE PT516-52s           N/A  ₹ 300,000\n",
       "3                        Omen by HP (16-B1371TX)        Amazon  ₹ 195,000\n",
       "4  Acer Predator Helios 300 AN515-45 (NH.QBRSI.0           N/A  ₹ 172,999\n",
       "5                     MSI Delta 15 (A5EFK-083IN)           N/A  ₹ 188,990\n",
       "6                        Omen by HP (16-c0141AX)        Amazon  ₹ 127,490\n",
       "7              Lenovo Legion 5i Pro (82RF00MGIN)           N/A  ₹ 230,890\n",
       "8  Alienware m15 R5 Ryzen Edition icc-c780001win        Amazon  ₹ 140,999\n",
       "9               Lenovo Slim 7 Gen 6 (82K8002JIN)         Croma  ₹ 135,490"
      ]
     },
     "execution_count": 63,
     "metadata": {},
     "output_type": "execute_result"
    }
   ],
   "source": [
    "df"
   ]
  },
  {
   "cell_type": "code",
   "execution_count": null,
   "id": "1adf1dea",
   "metadata": {},
   "outputs": [],
   "source": []
  },
  {
   "cell_type": "markdown",
   "id": "8da99428",
   "metadata": {},
   "source": [
    "# forbes"
   ]
  },
  {
   "cell_type": "code",
   "execution_count": 2,
   "id": "5b2d4eb0",
   "metadata": {},
   "outputs": [],
   "source": [
    "import selenium\n",
    "from selenium import webdriver\n",
    "import pandas as pd\n",
    "import warnings\n",
    "warnings.filterwarnings(\"ignore\")\n",
    "import time"
   ]
  },
  {
   "cell_type": "code",
   "execution_count": 3,
   "id": "3335ead5",
   "metadata": {},
   "outputs": [],
   "source": [
    "driver=webdriver.Chrome(r'D:\\flip robo\\chromedriver_win32\\chromedriver.exe')\n",
    "time.sleep(7)"
   ]
  },
  {
   "cell_type": "code",
   "execution_count": 4,
   "id": "f5b36277",
   "metadata": {},
   "outputs": [],
   "source": [
    "url=\"https://www.forbes.com/billionaires/\"\n",
    "driver.get(url)"
   ]
  },
  {
   "cell_type": "code",
   "execution_count": 5,
   "id": "d3450826",
   "metadata": {},
   "outputs": [],
   "source": [
    "from selenium.webdriver.common.by import By"
   ]
  },
  {
   "cell_type": "code",
   "execution_count": 6,
   "id": "235b5709",
   "metadata": {},
   "outputs": [],
   "source": [
    "rank=driver.find_elements(By.CLASS_NAME,\"rank\")"
   ]
  },
  {
   "cell_type": "code",
   "execution_count": 56,
   "id": "8479fd83",
   "metadata": {},
   "outputs": [],
   "source": [
    "ranks=[]\n",
    "for i in rank:\n",
    "    ranks.append(i.text)"
   ]
  },
  {
   "cell_type": "code",
   "execution_count": 54,
   "id": "05ed4ca0",
   "metadata": {},
   "outputs": [
    {
     "data": {
      "text/plain": [
       "['RANK', '1.', '2.', '3.', '4.']"
      ]
     },
     "execution_count": 54,
     "metadata": {},
     "output_type": "execute_result"
    }
   ],
   "source": [
    "ranks[:5]"
   ]
  },
  {
   "cell_type": "code",
   "execution_count": 9,
   "id": "829ddc67",
   "metadata": {},
   "outputs": [],
   "source": [
    "person_name=driver.find_elements(By.CLASS_NAME,\"personName\")"
   ]
  },
  {
   "cell_type": "code",
   "execution_count": 10,
   "id": "14f653e9",
   "metadata": {},
   "outputs": [],
   "source": [
    "person=[]\n",
    "for i in person_name:\n",
    "    person.append(i.text)"
   ]
  },
  {
   "cell_type": "code",
   "execution_count": 11,
   "id": "a5aced97",
   "metadata": {},
   "outputs": [
    {
     "data": {
      "text/plain": [
       "['Elon Musk', 'Jeff Bezos', 'Bernard Arnault & family', 'Bill Gates']"
      ]
     },
     "execution_count": 11,
     "metadata": {},
     "output_type": "execute_result"
    }
   ],
   "source": [
    "person[1:5]"
   ]
  },
  {
   "cell_type": "code",
   "execution_count": 25,
   "id": "262c216f",
   "metadata": {},
   "outputs": [],
   "source": [
    "net_worth=driver.find_elements(By.CLASS_NAME,\"netWorth\")"
   ]
  },
  {
   "cell_type": "code",
   "execution_count": 28,
   "id": "a329b36a",
   "metadata": {},
   "outputs": [],
   "source": [
    "net_worths=[]\n",
    "for i in net_worth:\n",
    "    net_worths.append(i.text)\n",
    "    "
   ]
  },
  {
   "cell_type": "code",
   "execution_count": 29,
   "id": "904c1983",
   "metadata": {},
   "outputs": [
    {
     "data": {
      "text/plain": [
       "['NET WORTH', '$219 B', '$171 B', '$158 B', '$129 B']"
      ]
     },
     "execution_count": 29,
     "metadata": {},
     "output_type": "execute_result"
    }
   ],
   "source": [
    "net_worths[:5]"
   ]
  },
  {
   "cell_type": "code",
   "execution_count": 30,
   "id": "d0f1b420",
   "metadata": {},
   "outputs": [],
   "source": [
    "country_cit=driver.find_elements(By.CLASS_NAME,\"countryOfCitizenship\")\n"
   ]
  },
  {
   "cell_type": "code",
   "execution_count": 31,
   "id": "65608d71",
   "metadata": {},
   "outputs": [],
   "source": [
    "country=[]\n",
    "for i in country_cit:\n",
    "    country.append(i.text)"
   ]
  },
  {
   "cell_type": "code",
   "execution_count": 32,
   "id": "e79426e7",
   "metadata": {},
   "outputs": [
    {
     "data": {
      "text/plain": [
       "['COUNTRY / TERRITORY',\n",
       " 'United States',\n",
       " 'United States',\n",
       " 'France',\n",
       " 'United States']"
      ]
     },
     "execution_count": 32,
     "metadata": {},
     "output_type": "execute_result"
    }
   ],
   "source": [
    "country[:5]"
   ]
  },
  {
   "cell_type": "code",
   "execution_count": 33,
   "id": "72973c11",
   "metadata": {},
   "outputs": [],
   "source": [
    "source_income=driver.find_elements(By.CLASS_NAME,\"source-text\")"
   ]
  },
  {
   "cell_type": "code",
   "execution_count": 59,
   "id": "1bc56f5e",
   "metadata": {},
   "outputs": [],
   "source": [
    "source=[]\n",
    "source.append('-')\n",
    "for i in source_income:\n",
    "    source.append(i.text)\n",
    "    "
   ]
  },
  {
   "cell_type": "code",
   "execution_count": 60,
   "id": "ece9dd7f",
   "metadata": {},
   "outputs": [
    {
     "data": {
      "text/plain": [
       "['-', 'Tesla, SpaceX', 'Amazon', 'LVMH', 'Microsoft']"
      ]
     },
     "execution_count": 60,
     "metadata": {},
     "output_type": "execute_result"
    }
   ],
   "source": [
    "source[:5]"
   ]
  },
  {
   "cell_type": "code",
   "execution_count": 47,
   "id": "09e1c6d7",
   "metadata": {},
   "outputs": [
    {
     "data": {
      "text/plain": [
       "201"
      ]
     },
     "execution_count": 47,
     "metadata": {},
     "output_type": "execute_result"
    }
   ],
   "source": [
    "len(source)"
   ]
  },
  {
   "cell_type": "code",
   "execution_count": 36,
   "id": "989cbde6",
   "metadata": {},
   "outputs": [],
   "source": [
    "industry_tag=driver.find_elements(By.XPATH,'//div[@class=\"category\"]//div')"
   ]
  },
  {
   "cell_type": "code",
   "execution_count": 57,
   "id": "bdbc556b",
   "metadata": {},
   "outputs": [],
   "source": [
    "industry=[]\n",
    "industry.append('-')\n",
    "for i in industry_tag:\n",
    "    industry.append(i.text)\n"
   ]
  },
  {
   "cell_type": "code",
   "execution_count": 58,
   "id": "d084d992",
   "metadata": {},
   "outputs": [
    {
     "data": {
      "text/plain": [
       "['-', 'Automotive', 'Technology', 'Fashion & Retail', 'Technology']"
      ]
     },
     "execution_count": 58,
     "metadata": {},
     "output_type": "execute_result"
    }
   ],
   "source": [
    "industry[:5]"
   ]
  },
  {
   "cell_type": "code",
   "execution_count": 50,
   "id": "4f5730da",
   "metadata": {},
   "outputs": [
    {
     "data": {
      "text/plain": [
       "(201, 201, 201, 201, 201, 201)"
      ]
     },
     "execution_count": 50,
     "metadata": {},
     "output_type": "execute_result"
    }
   ],
   "source": [
    "len(ranks),len(person),len(net_worths),len(country),len(source),len(industry)"
   ]
  },
  {
   "cell_type": "code",
   "execution_count": 61,
   "id": "a51bfe1a",
   "metadata": {},
   "outputs": [],
   "source": [
    "df=pd.DataFrame()"
   ]
  },
  {
   "cell_type": "code",
   "execution_count": 62,
   "id": "34165003",
   "metadata": {},
   "outputs": [],
   "source": [
    "df['RANK']=ranks\n",
    "df['NAME']=person\n",
    "df['NET WORTH']=net_worths\n",
    "df['COUNTRY']=country\n",
    "df['SOURCES']=source\n",
    "df['INDUSTRY']=industry\n"
   ]
  },
  {
   "cell_type": "code",
   "execution_count": 63,
   "id": "988b09a1",
   "metadata": {},
   "outputs": [
    {
     "data": {
      "text/html": [
       "<div>\n",
       "<style scoped>\n",
       "    .dataframe tbody tr th:only-of-type {\n",
       "        vertical-align: middle;\n",
       "    }\n",
       "\n",
       "    .dataframe tbody tr th {\n",
       "        vertical-align: top;\n",
       "    }\n",
       "\n",
       "    .dataframe thead th {\n",
       "        text-align: right;\n",
       "    }\n",
       "</style>\n",
       "<table border=\"1\" class=\"dataframe\">\n",
       "  <thead>\n",
       "    <tr style=\"text-align: right;\">\n",
       "      <th></th>\n",
       "      <th>RANK</th>\n",
       "      <th>NAME</th>\n",
       "      <th>NET WORTH</th>\n",
       "      <th>COUNTRY</th>\n",
       "      <th>SOURCES</th>\n",
       "      <th>INDUSTRY</th>\n",
       "    </tr>\n",
       "  </thead>\n",
       "  <tbody>\n",
       "    <tr>\n",
       "      <th>0</th>\n",
       "      <td>RANK</td>\n",
       "      <td>NAME</td>\n",
       "      <td>NET WORTH</td>\n",
       "      <td>COUNTRY / TERRITORY</td>\n",
       "      <td>-</td>\n",
       "      <td>-</td>\n",
       "    </tr>\n",
       "    <tr>\n",
       "      <th>1</th>\n",
       "      <td>1.</td>\n",
       "      <td>Elon Musk</td>\n",
       "      <td>$219 B</td>\n",
       "      <td>United States</td>\n",
       "      <td>Tesla, SpaceX</td>\n",
       "      <td>Automotive</td>\n",
       "    </tr>\n",
       "    <tr>\n",
       "      <th>2</th>\n",
       "      <td>2.</td>\n",
       "      <td>Jeff Bezos</td>\n",
       "      <td>$171 B</td>\n",
       "      <td>United States</td>\n",
       "      <td>Amazon</td>\n",
       "      <td>Technology</td>\n",
       "    </tr>\n",
       "    <tr>\n",
       "      <th>3</th>\n",
       "      <td>3.</td>\n",
       "      <td>Bernard Arnault &amp; family</td>\n",
       "      <td>$158 B</td>\n",
       "      <td>France</td>\n",
       "      <td>LVMH</td>\n",
       "      <td>Fashion &amp; Retail</td>\n",
       "    </tr>\n",
       "    <tr>\n",
       "      <th>4</th>\n",
       "      <td>4.</td>\n",
       "      <td>Bill Gates</td>\n",
       "      <td>$129 B</td>\n",
       "      <td>United States</td>\n",
       "      <td>Microsoft</td>\n",
       "      <td>Technology</td>\n",
       "    </tr>\n",
       "    <tr>\n",
       "      <th>...</th>\n",
       "      <td>...</td>\n",
       "      <td>...</td>\n",
       "      <td>...</td>\n",
       "      <td>...</td>\n",
       "      <td>...</td>\n",
       "      <td>...</td>\n",
       "    </tr>\n",
       "    <tr>\n",
       "      <th>196</th>\n",
       "      <td>192.</td>\n",
       "      <td>Marcel Herrmann Telles</td>\n",
       "      <td>$10.3 B</td>\n",
       "      <td>Brazil</td>\n",
       "      <td>beer</td>\n",
       "      <td>Food &amp; Beverage</td>\n",
       "    </tr>\n",
       "    <tr>\n",
       "      <th>197</th>\n",
       "      <td>197.</td>\n",
       "      <td>Leon Black</td>\n",
       "      <td>$10 B</td>\n",
       "      <td>United States</td>\n",
       "      <td>private equity</td>\n",
       "      <td>Finance &amp; Investments</td>\n",
       "    </tr>\n",
       "    <tr>\n",
       "      <th>198</th>\n",
       "      <td>197.</td>\n",
       "      <td>Joe Gebbia</td>\n",
       "      <td>$10 B</td>\n",
       "      <td>United States</td>\n",
       "      <td>Airbnb</td>\n",
       "      <td>Technology</td>\n",
       "    </tr>\n",
       "    <tr>\n",
       "      <th>199</th>\n",
       "      <td>197.</td>\n",
       "      <td>David Geffen</td>\n",
       "      <td>$10 B</td>\n",
       "      <td>United States</td>\n",
       "      <td>movies, record labels</td>\n",
       "      <td>Media &amp; Entertainment</td>\n",
       "    </tr>\n",
       "    <tr>\n",
       "      <th>200</th>\n",
       "      <td>197.</td>\n",
       "      <td>Yu Renrong</td>\n",
       "      <td>$10 B</td>\n",
       "      <td>China</td>\n",
       "      <td>semiconductors</td>\n",
       "      <td>Manufacturing</td>\n",
       "    </tr>\n",
       "  </tbody>\n",
       "</table>\n",
       "<p>201 rows × 6 columns</p>\n",
       "</div>"
      ],
      "text/plain": [
       "     RANK                      NAME  NET WORTH              COUNTRY  \\\n",
       "0    RANK                      NAME  NET WORTH  COUNTRY / TERRITORY   \n",
       "1      1.                 Elon Musk     $219 B        United States   \n",
       "2      2.                Jeff Bezos     $171 B        United States   \n",
       "3      3.  Bernard Arnault & family     $158 B               France   \n",
       "4      4.                Bill Gates     $129 B        United States   \n",
       "..    ...                       ...        ...                  ...   \n",
       "196  192.    Marcel Herrmann Telles    $10.3 B               Brazil   \n",
       "197  197.                Leon Black      $10 B        United States   \n",
       "198  197.                Joe Gebbia      $10 B        United States   \n",
       "199  197.              David Geffen      $10 B        United States   \n",
       "200  197.                Yu Renrong      $10 B                China   \n",
       "\n",
       "                   SOURCES               INDUSTRY  \n",
       "0                        -                      -  \n",
       "1            Tesla, SpaceX             Automotive  \n",
       "2                   Amazon             Technology  \n",
       "3                     LVMH       Fashion & Retail  \n",
       "4                Microsoft             Technology  \n",
       "..                     ...                    ...  \n",
       "196                   beer        Food & Beverage  \n",
       "197         private equity  Finance & Investments  \n",
       "198                 Airbnb             Technology  \n",
       "199  movies, record labels  Media & Entertainment  \n",
       "200         semiconductors          Manufacturing  \n",
       "\n",
       "[201 rows x 6 columns]"
      ]
     },
     "execution_count": 63,
     "metadata": {},
     "output_type": "execute_result"
    }
   ],
   "source": [
    "df"
   ]
  },
  {
   "cell_type": "markdown",
   "id": "5d8a0dd6",
   "metadata": {},
   "source": [
    "# youtube"
   ]
  },
  {
   "cell_type": "code",
   "execution_count": 7,
   "id": "22bd1b44",
   "metadata": {},
   "outputs": [],
   "source": [
    "import selenium\n",
    "from selenium import webdriver\n",
    "import pandas as pd\n",
    "import warnings\n",
    "warnings.filterwarnings(\"ignore\")\n",
    "import time"
   ]
  },
  {
   "cell_type": "code",
   "execution_count": 8,
   "id": "50136a29",
   "metadata": {},
   "outputs": [],
   "source": [
    "driver=webdriver.Chrome('chromedriver.exe')"
   ]
  },
  {
   "cell_type": "code",
   "execution_count": 9,
   "id": "d08b6a6e",
   "metadata": {},
   "outputs": [],
   "source": [
    "url=\"https://www.youtube.com/watch?v=jtn-hRJjl68\"\n",
    "driver.get(url)"
   ]
  },
  {
   "cell_type": "code",
   "execution_count": 10,
   "id": "37bfee89",
   "metadata": {},
   "outputs": [],
   "source": [
    "from selenium.webdriver.common.by import By"
   ]
  },
  {
   "cell_type": "code",
   "execution_count": 139,
   "id": "54de915f",
   "metadata": {},
   "outputs": [],
   "source": [
    "#comment_tag=driver.find_elements(By.CLASS_NAME,\"style-scope yt-formatted-string\")\n",
    "#comment_tag=driver.find_elements(By.XPATH,'/html/body/ytd-app/div[1]/ytd-page-manager/ytd-watch-flexy/div[5]/div[1]/div/div[2]/ytd-comments/ytd-item-section-renderer/div[3]/ytd-comment-thread-renderer[1]/ytd-comment-renderer/div[3]/div[2]/div[2]/ytd-expander/div/yt-formatted-string/span')"
   ]
  },
  {
   "cell_type": "code",
   "execution_count": 140,
   "id": "281d0562",
   "metadata": {},
   "outputs": [],
   "source": [
    "#comment=[]\n",
    "#for i in comment_tag:\n",
    " #   comment.append(i.text)"
   ]
  },
  {
   "cell_type": "code",
   "execution_count": 19,
   "id": "c1840b7d",
   "metadata": {},
   "outputs": [
    {
     "data": {
      "text/plain": [
       "[<selenium.webdriver.remote.webelement.WebElement (session=\"81c5d2d70313ce260f52834cc327e162\", element=\"55848406-424c-4ed6-9467-e38f340e2109\")>,\n",
       " <selenium.webdriver.remote.webelement.WebElement (session=\"81c5d2d70313ce260f52834cc327e162\", element=\"d3fce5cb-781c-4798-a745-b04426eb00e7\")>,\n",
       " <selenium.webdriver.remote.webelement.WebElement (session=\"81c5d2d70313ce260f52834cc327e162\", element=\"48d5a1a8-96f6-4891-8c8b-758dee4d1ea7\")>,\n",
       " <selenium.webdriver.remote.webelement.WebElement (session=\"81c5d2d70313ce260f52834cc327e162\", element=\"3d50c5da-c681-48c8-b242-716b563a3a60\")>,\n",
       " <selenium.webdriver.remote.webelement.WebElement (session=\"81c5d2d70313ce260f52834cc327e162\", element=\"afa3fa31-eb3c-425d-8cc6-be268e87774a\")>,\n",
       " <selenium.webdriver.remote.webelement.WebElement (session=\"81c5d2d70313ce260f52834cc327e162\", element=\"b78c2eff-85f2-47e3-ae79-b43ec31965fb\")>,\n",
       " <selenium.webdriver.remote.webelement.WebElement (session=\"81c5d2d70313ce260f52834cc327e162\", element=\"f8a97e94-6c1f-4f05-a381-241b4ebd01ad\")>,\n",
       " <selenium.webdriver.remote.webelement.WebElement (session=\"81c5d2d70313ce260f52834cc327e162\", element=\"6f1792cb-5d50-4963-978c-9dadb4165270\")>,\n",
       " <selenium.webdriver.remote.webelement.WebElement (session=\"81c5d2d70313ce260f52834cc327e162\", element=\"b97ea530-d6e7-44a4-8d5b-61cd07a86b94\")>,\n",
       " <selenium.webdriver.remote.webelement.WebElement (session=\"81c5d2d70313ce260f52834cc327e162\", element=\"84722230-500e-4e8b-9db8-d2326f80b471\")>,\n",
       " <selenium.webdriver.remote.webelement.WebElement (session=\"81c5d2d70313ce260f52834cc327e162\", element=\"37501a95-d1ad-4f5a-af14-5b08aad90392\")>,\n",
       " <selenium.webdriver.remote.webelement.WebElement (session=\"81c5d2d70313ce260f52834cc327e162\", element=\"ac7fca47-81cd-41b0-b7c3-3b6ecfb3eff2\")>,\n",
       " <selenium.webdriver.remote.webelement.WebElement (session=\"81c5d2d70313ce260f52834cc327e162\", element=\"8dc30ef9-90c7-4c3b-9796-ce1c18937253\")>,\n",
       " <selenium.webdriver.remote.webelement.WebElement (session=\"81c5d2d70313ce260f52834cc327e162\", element=\"ebf9fba3-41b8-4200-b54e-89c4b0deeb2a\")>,\n",
       " <selenium.webdriver.remote.webelement.WebElement (session=\"81c5d2d70313ce260f52834cc327e162\", element=\"35c4fbf3-502c-4530-b385-27be8ae3fb92\")>,\n",
       " <selenium.webdriver.remote.webelement.WebElement (session=\"81c5d2d70313ce260f52834cc327e162\", element=\"49e2a674-c111-4aa9-836c-5ff2f4035cd0\")>,\n",
       " <selenium.webdriver.remote.webelement.WebElement (session=\"81c5d2d70313ce260f52834cc327e162\", element=\"849c5bf8-3769-4372-889b-f618e573d9ee\")>,\n",
       " <selenium.webdriver.remote.webelement.WebElement (session=\"81c5d2d70313ce260f52834cc327e162\", element=\"ce0e1492-0110-44d4-8680-dbc1fcf3bd30\")>,\n",
       " <selenium.webdriver.remote.webelement.WebElement (session=\"81c5d2d70313ce260f52834cc327e162\", element=\"a60301ae-4d24-43b5-8628-e5d6a4fbaeba\")>,\n",
       " <selenium.webdriver.remote.webelement.WebElement (session=\"81c5d2d70313ce260f52834cc327e162\", element=\"e6fa2627-6e67-4f80-b8f8-28f643be55a2\")>,\n",
       " <selenium.webdriver.remote.webelement.WebElement (session=\"81c5d2d70313ce260f52834cc327e162\", element=\"a5e5c18e-7436-4882-99ce-4a02c3c63b66\")>,\n",
       " <selenium.webdriver.remote.webelement.WebElement (session=\"81c5d2d70313ce260f52834cc327e162\", element=\"e23a2931-d262-4d86-97ff-5ff88ab410ad\")>,\n",
       " <selenium.webdriver.remote.webelement.WebElement (session=\"81c5d2d70313ce260f52834cc327e162\", element=\"93dbdabe-a90d-465b-ba81-ef02cfeab08b\")>,\n",
       " <selenium.webdriver.remote.webelement.WebElement (session=\"81c5d2d70313ce260f52834cc327e162\", element=\"6ad8cda9-0a78-46c5-bd5a-7d67f11150df\")>,\n",
       " <selenium.webdriver.remote.webelement.WebElement (session=\"81c5d2d70313ce260f52834cc327e162\", element=\"a7c5cbb0-22cd-4db2-846a-e9e97e23cfca\")>,\n",
       " <selenium.webdriver.remote.webelement.WebElement (session=\"81c5d2d70313ce260f52834cc327e162\", element=\"67326506-11fa-489b-a4d3-44f09724843d\")>,\n",
       " <selenium.webdriver.remote.webelement.WebElement (session=\"81c5d2d70313ce260f52834cc327e162\", element=\"01ef6f2c-4bfe-42d7-936e-6a6c7a01bda8\")>,\n",
       " <selenium.webdriver.remote.webelement.WebElement (session=\"81c5d2d70313ce260f52834cc327e162\", element=\"7e66f5c2-b38e-428b-b0c6-fadd594c4f07\")>,\n",
       " <selenium.webdriver.remote.webelement.WebElement (session=\"81c5d2d70313ce260f52834cc327e162\", element=\"3c84ad16-2c7e-4bad-bc94-65110bf3bd60\")>,\n",
       " <selenium.webdriver.remote.webelement.WebElement (session=\"81c5d2d70313ce260f52834cc327e162\", element=\"5f5b8e26-4de0-4dad-a183-ad2d726b4519\")>,\n",
       " <selenium.webdriver.remote.webelement.WebElement (session=\"81c5d2d70313ce260f52834cc327e162\", element=\"c180b659-38de-41eb-b178-625aa3148179\")>,\n",
       " <selenium.webdriver.remote.webelement.WebElement (session=\"81c5d2d70313ce260f52834cc327e162\", element=\"ddff30e3-52fa-4fcb-af20-59bf9cbb5b82\")>,\n",
       " <selenium.webdriver.remote.webelement.WebElement (session=\"81c5d2d70313ce260f52834cc327e162\", element=\"61da6e38-50a1-4de2-b8a2-67cd63e33e50\")>,\n",
       " <selenium.webdriver.remote.webelement.WebElement (session=\"81c5d2d70313ce260f52834cc327e162\", element=\"5ac5575b-7f76-49b7-b4d0-4652d26eff7e\")>,\n",
       " <selenium.webdriver.remote.webelement.WebElement (session=\"81c5d2d70313ce260f52834cc327e162\", element=\"52da3b09-1943-4fbc-91c5-50a494814b1e\")>,\n",
       " <selenium.webdriver.remote.webelement.WebElement (session=\"81c5d2d70313ce260f52834cc327e162\", element=\"94a80fac-8252-4ff9-a159-510dc6a80925\")>,\n",
       " <selenium.webdriver.remote.webelement.WebElement (session=\"81c5d2d70313ce260f52834cc327e162\", element=\"568f4c87-d2a0-4677-bf65-981c338577ba\")>,\n",
       " <selenium.webdriver.remote.webelement.WebElement (session=\"81c5d2d70313ce260f52834cc327e162\", element=\"f3699ddb-f8d2-44cf-8e6d-78292b72db94\")>,\n",
       " <selenium.webdriver.remote.webelement.WebElement (session=\"81c5d2d70313ce260f52834cc327e162\", element=\"19987a6a-e626-49a1-a627-0763a07cfeda\")>,\n",
       " <selenium.webdriver.remote.webelement.WebElement (session=\"81c5d2d70313ce260f52834cc327e162\", element=\"dbe82c0c-ef5f-43b4-b940-a11ddd8370b7\")>,\n",
       " <selenium.webdriver.remote.webelement.WebElement (session=\"81c5d2d70313ce260f52834cc327e162\", element=\"7ce861a9-b0bb-4f12-866d-5ee8d9954bc0\")>,\n",
       " <selenium.webdriver.remote.webelement.WebElement (session=\"81c5d2d70313ce260f52834cc327e162\", element=\"2fe239e0-5b8b-4125-bd72-130f937a2203\")>,\n",
       " <selenium.webdriver.remote.webelement.WebElement (session=\"81c5d2d70313ce260f52834cc327e162\", element=\"d60bcdbb-5804-42fb-b59e-c95c1f41c64b\")>,\n",
       " <selenium.webdriver.remote.webelement.WebElement (session=\"81c5d2d70313ce260f52834cc327e162\", element=\"67165a46-6f1f-47ec-81fb-9c246716f529\")>,\n",
       " <selenium.webdriver.remote.webelement.WebElement (session=\"81c5d2d70313ce260f52834cc327e162\", element=\"6011cd9e-a86a-4147-a4b4-66881eb214c1\")>,\n",
       " <selenium.webdriver.remote.webelement.WebElement (session=\"81c5d2d70313ce260f52834cc327e162\", element=\"d37a34f2-20b0-4f58-a5f3-76d3df6f55e6\")>,\n",
       " <selenium.webdriver.remote.webelement.WebElement (session=\"81c5d2d70313ce260f52834cc327e162\", element=\"703154a0-e427-4f69-a85d-cfba12cd6496\")>,\n",
       " <selenium.webdriver.remote.webelement.WebElement (session=\"81c5d2d70313ce260f52834cc327e162\", element=\"4a8e4d56-cd4f-42fe-ae27-81506b4d6d06\")>,\n",
       " <selenium.webdriver.remote.webelement.WebElement (session=\"81c5d2d70313ce260f52834cc327e162\", element=\"a0c07a72-f3ca-4de3-95f5-03d3f608786a\")>,\n",
       " <selenium.webdriver.remote.webelement.WebElement (session=\"81c5d2d70313ce260f52834cc327e162\", element=\"74f96576-76e0-4917-b8bb-e9f37c7988e6\")>,\n",
       " <selenium.webdriver.remote.webelement.WebElement (session=\"81c5d2d70313ce260f52834cc327e162\", element=\"97290a04-7c20-467c-9ba1-56deef87ec1d\")>,\n",
       " <selenium.webdriver.remote.webelement.WebElement (session=\"81c5d2d70313ce260f52834cc327e162\", element=\"0bd00103-4216-4398-b651-b4823c9cdf43\")>,\n",
       " <selenium.webdriver.remote.webelement.WebElement (session=\"81c5d2d70313ce260f52834cc327e162\", element=\"820b6008-5f5f-4d3a-81c6-68d917999ac9\")>,\n",
       " <selenium.webdriver.remote.webelement.WebElement (session=\"81c5d2d70313ce260f52834cc327e162\", element=\"173514d4-f97c-4700-9d94-f817a3086992\")>,\n",
       " <selenium.webdriver.remote.webelement.WebElement (session=\"81c5d2d70313ce260f52834cc327e162\", element=\"b092ef85-7e96-4781-9f5d-690980f70590\")>,\n",
       " <selenium.webdriver.remote.webelement.WebElement (session=\"81c5d2d70313ce260f52834cc327e162\", element=\"7ffc74a7-96bf-4701-98ed-6f0b537ef5e9\")>,\n",
       " <selenium.webdriver.remote.webelement.WebElement (session=\"81c5d2d70313ce260f52834cc327e162\", element=\"668cd1f0-c790-41e7-b2f2-5520ab9688cc\")>,\n",
       " <selenium.webdriver.remote.webelement.WebElement (session=\"81c5d2d70313ce260f52834cc327e162\", element=\"aeb9119a-bdb6-4fd0-b70b-a285838f5fa0\")>,\n",
       " <selenium.webdriver.remote.webelement.WebElement (session=\"81c5d2d70313ce260f52834cc327e162\", element=\"226c22d7-143c-4de3-a889-4dfb6aee5eb6\")>,\n",
       " <selenium.webdriver.remote.webelement.WebElement (session=\"81c5d2d70313ce260f52834cc327e162\", element=\"69802e11-de7f-4d16-a55b-f889f9111b37\")>,\n",
       " <selenium.webdriver.remote.webelement.WebElement (session=\"81c5d2d70313ce260f52834cc327e162\", element=\"9cd87667-6898-4de7-b0c0-84b568dba4eb\")>,\n",
       " <selenium.webdriver.remote.webelement.WebElement (session=\"81c5d2d70313ce260f52834cc327e162\", element=\"90977423-4816-4ff8-9c94-134874076165\")>,\n",
       " <selenium.webdriver.remote.webelement.WebElement (session=\"81c5d2d70313ce260f52834cc327e162\", element=\"0ddd438d-67f3-4488-8fa1-0103489b0d27\")>,\n",
       " <selenium.webdriver.remote.webelement.WebElement (session=\"81c5d2d70313ce260f52834cc327e162\", element=\"b0e04c86-a1af-4ed1-9fcb-86c6f4723135\")>,\n",
       " <selenium.webdriver.remote.webelement.WebElement (session=\"81c5d2d70313ce260f52834cc327e162\", element=\"0f476fc7-2e54-4ea6-9141-e33627388ff4\")>,\n",
       " <selenium.webdriver.remote.webelement.WebElement (session=\"81c5d2d70313ce260f52834cc327e162\", element=\"11abd3b5-af4b-4125-9698-1b8cafcdb1c7\")>,\n",
       " <selenium.webdriver.remote.webelement.WebElement (session=\"81c5d2d70313ce260f52834cc327e162\", element=\"1e1c4de5-ccfb-4031-83ef-b12dca7252fd\")>,\n",
       " <selenium.webdriver.remote.webelement.WebElement (session=\"81c5d2d70313ce260f52834cc327e162\", element=\"5f236d3e-8e44-4380-ba81-a353ef32dc6b\")>,\n",
       " <selenium.webdriver.remote.webelement.WebElement (session=\"81c5d2d70313ce260f52834cc327e162\", element=\"12e999c4-e70e-4e45-a7eb-782e963c758b\")>,\n",
       " <selenium.webdriver.remote.webelement.WebElement (session=\"81c5d2d70313ce260f52834cc327e162\", element=\"ac22ce99-3adc-467e-ac24-3ca3a42b68f2\")>,\n",
       " <selenium.webdriver.remote.webelement.WebElement (session=\"81c5d2d70313ce260f52834cc327e162\", element=\"71de3de9-0c40-481e-9d06-7c003580629d\")>,\n",
       " <selenium.webdriver.remote.webelement.WebElement (session=\"81c5d2d70313ce260f52834cc327e162\", element=\"292c23b9-c45b-4373-9549-e6ed5cb97447\")>,\n",
       " <selenium.webdriver.remote.webelement.WebElement (session=\"81c5d2d70313ce260f52834cc327e162\", element=\"b56cc940-b86e-40a5-96ca-cf04035c7f27\")>,\n",
       " <selenium.webdriver.remote.webelement.WebElement (session=\"81c5d2d70313ce260f52834cc327e162\", element=\"e2a2493e-6a48-4fee-a6c2-fd5ae71ef10b\")>,\n",
       " <selenium.webdriver.remote.webelement.WebElement (session=\"81c5d2d70313ce260f52834cc327e162\", element=\"90fb5785-ae35-49bf-b2df-67c692e685bb\")>,\n",
       " <selenium.webdriver.remote.webelement.WebElement (session=\"81c5d2d70313ce260f52834cc327e162\", element=\"1d7ac085-62a2-4094-9d27-34e28a37e5db\")>,\n",
       " <selenium.webdriver.remote.webelement.WebElement (session=\"81c5d2d70313ce260f52834cc327e162\", element=\"32abadae-5803-4d64-a488-7fc10dcdb670\")>,\n",
       " <selenium.webdriver.remote.webelement.WebElement (session=\"81c5d2d70313ce260f52834cc327e162\", element=\"e9504b26-af6d-4d18-b030-a1b672bccc30\")>,\n",
       " <selenium.webdriver.remote.webelement.WebElement (session=\"81c5d2d70313ce260f52834cc327e162\", element=\"4b8f0548-cdf0-46af-a725-bc043c4f2f89\")>,\n",
       " <selenium.webdriver.remote.webelement.WebElement (session=\"81c5d2d70313ce260f52834cc327e162\", element=\"9b90b608-71fb-4f14-bc16-3da12dc7f998\")>,\n",
       " <selenium.webdriver.remote.webelement.WebElement (session=\"81c5d2d70313ce260f52834cc327e162\", element=\"619733d9-de22-42b0-95c7-97f9a868f8ba\")>,\n",
       " <selenium.webdriver.remote.webelement.WebElement (session=\"81c5d2d70313ce260f52834cc327e162\", element=\"df107eb4-37eb-4072-b47f-68a7fbdfd9ab\")>,\n",
       " <selenium.webdriver.remote.webelement.WebElement (session=\"81c5d2d70313ce260f52834cc327e162\", element=\"2601898a-1793-47fc-a8b6-57dd1dadd68e\")>,\n",
       " <selenium.webdriver.remote.webelement.WebElement (session=\"81c5d2d70313ce260f52834cc327e162\", element=\"4ae624d7-9bd7-49b4-b039-5e856283e481\")>,\n",
       " <selenium.webdriver.remote.webelement.WebElement (session=\"81c5d2d70313ce260f52834cc327e162\", element=\"ae446b7b-8e92-4417-bcae-46cecf5c9b8e\")>,\n",
       " <selenium.webdriver.remote.webelement.WebElement (session=\"81c5d2d70313ce260f52834cc327e162\", element=\"6060f296-87c0-48c0-9b9e-8d41952f813e\")>,\n",
       " <selenium.webdriver.remote.webelement.WebElement (session=\"81c5d2d70313ce260f52834cc327e162\", element=\"e4ae6061-434f-4e0d-97f1-228ee61b6d63\")>,\n",
       " <selenium.webdriver.remote.webelement.WebElement (session=\"81c5d2d70313ce260f52834cc327e162\", element=\"b7875b5d-4680-42e2-a637-36b900a79d9e\")>,\n",
       " <selenium.webdriver.remote.webelement.WebElement (session=\"81c5d2d70313ce260f52834cc327e162\", element=\"b1705506-9cbe-4b39-abe8-e22d74b8dacd\")>,\n",
       " <selenium.webdriver.remote.webelement.WebElement (session=\"81c5d2d70313ce260f52834cc327e162\", element=\"6ab0ed53-809f-407f-bcee-6918204f0ec7\")>,\n",
       " <selenium.webdriver.remote.webelement.WebElement (session=\"81c5d2d70313ce260f52834cc327e162\", element=\"e5d9a08a-6265-450e-810b-fb3a2db7c41c\")>,\n",
       " <selenium.webdriver.remote.webelement.WebElement (session=\"81c5d2d70313ce260f52834cc327e162\", element=\"e8a3b98d-9334-40b3-86f1-078d3867d056\")>,\n",
       " <selenium.webdriver.remote.webelement.WebElement (session=\"81c5d2d70313ce260f52834cc327e162\", element=\"272506a7-29f5-40af-928f-d6d5e0ede33d\")>,\n",
       " <selenium.webdriver.remote.webelement.WebElement (session=\"81c5d2d70313ce260f52834cc327e162\", element=\"48850f1b-2b9f-415b-aa39-b5e659887212\")>,\n",
       " <selenium.webdriver.remote.webelement.WebElement (session=\"81c5d2d70313ce260f52834cc327e162\", element=\"02ad21ce-1d4c-46c5-94ec-9fb395b54a63\")>,\n",
       " <selenium.webdriver.remote.webelement.WebElement (session=\"81c5d2d70313ce260f52834cc327e162\", element=\"80ebd9f8-582c-40d8-89f2-bf9cdfc30bca\")>,\n",
       " <selenium.webdriver.remote.webelement.WebElement (session=\"81c5d2d70313ce260f52834cc327e162\", element=\"87268a18-44fd-4417-a287-14f6e4f667ab\")>,\n",
       " <selenium.webdriver.remote.webelement.WebElement (session=\"81c5d2d70313ce260f52834cc327e162\", element=\"7185d753-47c6-4680-801f-d4fe022c78b4\")>,\n",
       " <selenium.webdriver.remote.webelement.WebElement (session=\"81c5d2d70313ce260f52834cc327e162\", element=\"9f7935eb-b012-4500-8a4d-aa80aae37e55\")>,\n",
       " <selenium.webdriver.remote.webelement.WebElement (session=\"81c5d2d70313ce260f52834cc327e162\", element=\"71e1a62d-9f4f-4681-9980-e02caef0d602\")>,\n",
       " <selenium.webdriver.remote.webelement.WebElement (session=\"81c5d2d70313ce260f52834cc327e162\", element=\"c027172e-39fb-4640-b40a-b481f5918255\")>,\n",
       " <selenium.webdriver.remote.webelement.WebElement (session=\"81c5d2d70313ce260f52834cc327e162\", element=\"3d668d08-e06e-4313-bc28-8383b35a1219\")>,\n",
       " <selenium.webdriver.remote.webelement.WebElement (session=\"81c5d2d70313ce260f52834cc327e162\", element=\"7104b2f5-501f-4cfc-8426-ec3dfdc52ac1\")>,\n",
       " <selenium.webdriver.remote.webelement.WebElement (session=\"81c5d2d70313ce260f52834cc327e162\", element=\"e402bf76-71e5-457a-a9ce-78e8a311491e\")>,\n",
       " <selenium.webdriver.remote.webelement.WebElement (session=\"81c5d2d70313ce260f52834cc327e162\", element=\"b4b7a5b4-7a8f-4aa7-a2f8-a53881315def\")>,\n",
       " <selenium.webdriver.remote.webelement.WebElement (session=\"81c5d2d70313ce260f52834cc327e162\", element=\"97cb6461-3ee6-4a77-a9c3-783083ee9a9b\")>,\n",
       " <selenium.webdriver.remote.webelement.WebElement (session=\"81c5d2d70313ce260f52834cc327e162\", element=\"83452b83-61b1-48af-9c9e-29a307dcd9b3\")>,\n",
       " <selenium.webdriver.remote.webelement.WebElement (session=\"81c5d2d70313ce260f52834cc327e162\", element=\"e871639f-6cb4-4099-82e8-26a66288559e\")>,\n",
       " <selenium.webdriver.remote.webelement.WebElement (session=\"81c5d2d70313ce260f52834cc327e162\", element=\"d74e54e4-3c44-40d0-9dbc-f9076c796e01\")>,\n",
       " <selenium.webdriver.remote.webelement.WebElement (session=\"81c5d2d70313ce260f52834cc327e162\", element=\"a02e4e6c-58ab-4d64-a5af-ba987140b749\")>,\n",
       " <selenium.webdriver.remote.webelement.WebElement (session=\"81c5d2d70313ce260f52834cc327e162\", element=\"4f5cfa19-b7d4-4ec4-b9de-02e78f1a2ea3\")>,\n",
       " <selenium.webdriver.remote.webelement.WebElement (session=\"81c5d2d70313ce260f52834cc327e162\", element=\"ee165001-9584-4be2-8835-937d0b351c71\")>,\n",
       " <selenium.webdriver.remote.webelement.WebElement (session=\"81c5d2d70313ce260f52834cc327e162\", element=\"1f9bcbf3-c072-4367-9b67-060beeb0aae6\")>,\n",
       " <selenium.webdriver.remote.webelement.WebElement (session=\"81c5d2d70313ce260f52834cc327e162\", element=\"9170db7f-7752-4654-b11e-c185330916f0\")>,\n",
       " <selenium.webdriver.remote.webelement.WebElement (session=\"81c5d2d70313ce260f52834cc327e162\", element=\"43c6d5b8-3ecd-4141-856b-7d66ec97bb85\")>,\n",
       " <selenium.webdriver.remote.webelement.WebElement (session=\"81c5d2d70313ce260f52834cc327e162\", element=\"a2a6616b-0b77-4961-be19-2b2e7b351665\")>,\n",
       " <selenium.webdriver.remote.webelement.WebElement (session=\"81c5d2d70313ce260f52834cc327e162\", element=\"913ab2d6-311b-4d09-95b7-47cd59f22ec0\")>,\n",
       " <selenium.webdriver.remote.webelement.WebElement (session=\"81c5d2d70313ce260f52834cc327e162\", element=\"88ffa167-5acc-4156-ad02-0e223f0c0401\")>,\n",
       " <selenium.webdriver.remote.webelement.WebElement (session=\"81c5d2d70313ce260f52834cc327e162\", element=\"16e11fb1-8a25-4bc5-b856-320889b674b6\")>,\n",
       " <selenium.webdriver.remote.webelement.WebElement (session=\"81c5d2d70313ce260f52834cc327e162\", element=\"a86283f0-42a3-44a8-aed0-7bd08b06b3b7\")>,\n",
       " <selenium.webdriver.remote.webelement.WebElement (session=\"81c5d2d70313ce260f52834cc327e162\", element=\"fc51c462-d37d-4873-b10a-eb5a503257fa\")>,\n",
       " <selenium.webdriver.remote.webelement.WebElement (session=\"81c5d2d70313ce260f52834cc327e162\", element=\"32eff2c4-5b48-4372-88d5-3a9dabb6ff8a\")>,\n",
       " <selenium.webdriver.remote.webelement.WebElement (session=\"81c5d2d70313ce260f52834cc327e162\", element=\"152ac76b-7d2e-474f-a6a3-fa6bc19c3d76\")>,\n",
       " <selenium.webdriver.remote.webelement.WebElement (session=\"81c5d2d70313ce260f52834cc327e162\", element=\"157325cd-71d6-48e7-856f-0011d70fc750\")>,\n",
       " <selenium.webdriver.remote.webelement.WebElement (session=\"81c5d2d70313ce260f52834cc327e162\", element=\"fdea8e21-7854-478d-83c0-17478046ade2\")>,\n",
       " <selenium.webdriver.remote.webelement.WebElement (session=\"81c5d2d70313ce260f52834cc327e162\", element=\"2c291c1e-9fe2-4928-9fbe-34be5ef3990b\")>,\n",
       " <selenium.webdriver.remote.webelement.WebElement (session=\"81c5d2d70313ce260f52834cc327e162\", element=\"cc364c7f-7212-4dda-b052-1570415bd64d\")>,\n",
       " <selenium.webdriver.remote.webelement.WebElement (session=\"81c5d2d70313ce260f52834cc327e162\", element=\"5d6c57ee-973c-4761-9d6a-9b8fcf81d097\")>,\n",
       " <selenium.webdriver.remote.webelement.WebElement (session=\"81c5d2d70313ce260f52834cc327e162\", element=\"f0885975-584d-46d1-b523-21a784ad3b08\")>,\n",
       " <selenium.webdriver.remote.webelement.WebElement (session=\"81c5d2d70313ce260f52834cc327e162\", element=\"b7821f33-19d1-40e9-9806-17df043eb8cd\")>,\n",
       " <selenium.webdriver.remote.webelement.WebElement (session=\"81c5d2d70313ce260f52834cc327e162\", element=\"d9f191b2-d721-493c-9739-ca509fa2e32d\")>,\n",
       " <selenium.webdriver.remote.webelement.WebElement (session=\"81c5d2d70313ce260f52834cc327e162\", element=\"58c93ab0-7ef0-4c39-99e6-8cf7ac1aa117\")>,\n",
       " <selenium.webdriver.remote.webelement.WebElement (session=\"81c5d2d70313ce260f52834cc327e162\", element=\"cc871861-551a-4824-9ede-97d94a4293e6\")>,\n",
       " <selenium.webdriver.remote.webelement.WebElement (session=\"81c5d2d70313ce260f52834cc327e162\", element=\"451842fe-6671-4252-aaf8-f69339ff795e\")>,\n",
       " <selenium.webdriver.remote.webelement.WebElement (session=\"81c5d2d70313ce260f52834cc327e162\", element=\"2944f93c-28a6-459b-ad6b-c8a3628ba292\")>,\n",
       " <selenium.webdriver.remote.webelement.WebElement (session=\"81c5d2d70313ce260f52834cc327e162\", element=\"4be641e1-c1db-4a52-8ea2-1c2634f5e8f4\")>,\n",
       " <selenium.webdriver.remote.webelement.WebElement (session=\"81c5d2d70313ce260f52834cc327e162\", element=\"e80e896f-7315-461d-a4bc-d143ee309683\")>,\n",
       " <selenium.webdriver.remote.webelement.WebElement (session=\"81c5d2d70313ce260f52834cc327e162\", element=\"6849fca8-2a2b-4fb1-b9a9-6b2ab5e43470\")>,\n",
       " <selenium.webdriver.remote.webelement.WebElement (session=\"81c5d2d70313ce260f52834cc327e162\", element=\"b6707fb8-035a-4abb-96e3-86d4f0c76a26\")>,\n",
       " <selenium.webdriver.remote.webelement.WebElement (session=\"81c5d2d70313ce260f52834cc327e162\", element=\"f5a73846-7970-4003-b681-022f7f26a1e8\")>,\n",
       " <selenium.webdriver.remote.webelement.WebElement (session=\"81c5d2d70313ce260f52834cc327e162\", element=\"771b53ac-2d5e-4468-b69a-43f227eaaf36\")>,\n",
       " <selenium.webdriver.remote.webelement.WebElement (session=\"81c5d2d70313ce260f52834cc327e162\", element=\"83e9faf8-a2dd-4d08-943f-bc32563880ba\")>,\n",
       " <selenium.webdriver.remote.webelement.WebElement (session=\"81c5d2d70313ce260f52834cc327e162\", element=\"9d6f5066-426c-4397-8862-aec5f1ba8520\")>,\n",
       " <selenium.webdriver.remote.webelement.WebElement (session=\"81c5d2d70313ce260f52834cc327e162\", element=\"9d6fe70b-8dde-4fed-92a0-147b6c693a31\")>,\n",
       " <selenium.webdriver.remote.webelement.WebElement (session=\"81c5d2d70313ce260f52834cc327e162\", element=\"292d806d-d957-47cc-b34c-8bb6c635d213\")>,\n",
       " <selenium.webdriver.remote.webelement.WebElement (session=\"81c5d2d70313ce260f52834cc327e162\", element=\"471b1737-d9d2-4563-9496-fa81f605e243\")>,\n",
       " <selenium.webdriver.remote.webelement.WebElement (session=\"81c5d2d70313ce260f52834cc327e162\", element=\"b765a90d-f9bb-402b-9854-b00e02ac7643\")>,\n",
       " <selenium.webdriver.remote.webelement.WebElement (session=\"81c5d2d70313ce260f52834cc327e162\", element=\"d3720e7c-ed0d-4839-a39e-e85236d19289\")>,\n",
       " <selenium.webdriver.remote.webelement.WebElement (session=\"81c5d2d70313ce260f52834cc327e162\", element=\"15c0f3e8-bf2e-461a-b425-859a8960d9c4\")>,\n",
       " <selenium.webdriver.remote.webelement.WebElement (session=\"81c5d2d70313ce260f52834cc327e162\", element=\"55211c69-6e6e-49ad-a6de-88026258a269\")>,\n",
       " <selenium.webdriver.remote.webelement.WebElement (session=\"81c5d2d70313ce260f52834cc327e162\", element=\"b473570a-ec46-4be8-ba5e-018cbae478de\")>,\n",
       " <selenium.webdriver.remote.webelement.WebElement (session=\"81c5d2d70313ce260f52834cc327e162\", element=\"0e3d6868-59a1-4335-8b0a-8ca97a14cfe9\")>,\n",
       " <selenium.webdriver.remote.webelement.WebElement (session=\"81c5d2d70313ce260f52834cc327e162\", element=\"6da4186f-6596-47fb-82e7-177c956d0b4a\")>,\n",
       " <selenium.webdriver.remote.webelement.WebElement (session=\"81c5d2d70313ce260f52834cc327e162\", element=\"766188c3-c64a-4e2f-af44-a81d14c2af64\")>,\n",
       " <selenium.webdriver.remote.webelement.WebElement (session=\"81c5d2d70313ce260f52834cc327e162\", element=\"321685d0-09c0-4292-8eb0-5f52ccaa283c\")>,\n",
       " <selenium.webdriver.remote.webelement.WebElement (session=\"81c5d2d70313ce260f52834cc327e162\", element=\"652894c7-ab23-4d1d-88cf-ce5465d47e99\")>,\n",
       " <selenium.webdriver.remote.webelement.WebElement (session=\"81c5d2d70313ce260f52834cc327e162\", element=\"b57d01ea-f4e6-4c81-84a2-37746b83be82\")>,\n",
       " <selenium.webdriver.remote.webelement.WebElement (session=\"81c5d2d70313ce260f52834cc327e162\", element=\"13356aac-8137-4c15-a53c-4440a15b593f\")>,\n",
       " <selenium.webdriver.remote.webelement.WebElement (session=\"81c5d2d70313ce260f52834cc327e162\", element=\"e425a12e-7f09-4332-9d21-efd546d54399\")>,\n",
       " <selenium.webdriver.remote.webelement.WebElement (session=\"81c5d2d70313ce260f52834cc327e162\", element=\"f2b6aa9c-ab8b-4820-b2d1-cffdfd7f08e4\")>,\n",
       " <selenium.webdriver.remote.webelement.WebElement (session=\"81c5d2d70313ce260f52834cc327e162\", element=\"a0c5c1d7-af9e-47cd-9511-ee8a6127711e\")>,\n",
       " <selenium.webdriver.remote.webelement.WebElement (session=\"81c5d2d70313ce260f52834cc327e162\", element=\"91ff5f4c-a276-402e-82ca-c58c665b0e99\")>,\n",
       " <selenium.webdriver.remote.webelement.WebElement (session=\"81c5d2d70313ce260f52834cc327e162\", element=\"28d62278-08cf-4b8b-b79f-7d1c9fa8205c\")>,\n",
       " <selenium.webdriver.remote.webelement.WebElement (session=\"81c5d2d70313ce260f52834cc327e162\", element=\"4f028401-6b79-4a8e-9607-71607c9443b1\")>,\n",
       " <selenium.webdriver.remote.webelement.WebElement (session=\"81c5d2d70313ce260f52834cc327e162\", element=\"3437521e-0169-4088-beeb-1093c1ea920f\")>,\n",
       " <selenium.webdriver.remote.webelement.WebElement (session=\"81c5d2d70313ce260f52834cc327e162\", element=\"37a708d8-dcb8-4c6c-8d74-2dadb191ebca\")>,\n",
       " <selenium.webdriver.remote.webelement.WebElement (session=\"81c5d2d70313ce260f52834cc327e162\", element=\"4baba7c8-58a1-4701-8a9d-21ae9d4d2fd0\")>,\n",
       " <selenium.webdriver.remote.webelement.WebElement (session=\"81c5d2d70313ce260f52834cc327e162\", element=\"b417cf36-7998-44df-aae8-08a1af54d79f\")>,\n",
       " <selenium.webdriver.remote.webelement.WebElement (session=\"81c5d2d70313ce260f52834cc327e162\", element=\"4efaafd1-24c9-48d6-9d64-117c16992699\")>,\n",
       " <selenium.webdriver.remote.webelement.WebElement (session=\"81c5d2d70313ce260f52834cc327e162\", element=\"a3a6124d-e3f7-4b84-a1de-1a9be30e68e5\")>,\n",
       " <selenium.webdriver.remote.webelement.WebElement (session=\"81c5d2d70313ce260f52834cc327e162\", element=\"7bd917f5-46b8-4a63-a1d3-7d46958bdd21\")>,\n",
       " <selenium.webdriver.remote.webelement.WebElement (session=\"81c5d2d70313ce260f52834cc327e162\", element=\"8c6a74fd-1770-43f1-99cb-38f42aabab85\")>,\n",
       " <selenium.webdriver.remote.webelement.WebElement (session=\"81c5d2d70313ce260f52834cc327e162\", element=\"a77d3142-bb47-452f-9c2d-8c9f5602a7a9\")>,\n",
       " <selenium.webdriver.remote.webelement.WebElement (session=\"81c5d2d70313ce260f52834cc327e162\", element=\"d8ba05ee-599c-4630-9e34-bff7b699477e\")>,\n",
       " <selenium.webdriver.remote.webelement.WebElement (session=\"81c5d2d70313ce260f52834cc327e162\", element=\"af5d7c41-2746-46dd-9c1d-1db1ea1f7d8c\")>,\n",
       " <selenium.webdriver.remote.webelement.WebElement (session=\"81c5d2d70313ce260f52834cc327e162\", element=\"8953a962-342a-4c28-8a58-aacb557aca27\")>,\n",
       " <selenium.webdriver.remote.webelement.WebElement (session=\"81c5d2d70313ce260f52834cc327e162\", element=\"2b525160-5ef6-46df-ad07-525552991689\")>,\n",
       " <selenium.webdriver.remote.webelement.WebElement (session=\"81c5d2d70313ce260f52834cc327e162\", element=\"8120d65d-c8de-4663-8ce4-9a075404b917\")>,\n",
       " <selenium.webdriver.remote.webelement.WebElement (session=\"81c5d2d70313ce260f52834cc327e162\", element=\"0fada4f2-691b-4f15-a2d3-cc2beb742034\")>,\n",
       " <selenium.webdriver.remote.webelement.WebElement (session=\"81c5d2d70313ce260f52834cc327e162\", element=\"5d2a9bb7-7533-4f22-8f54-911326ab8f53\")>,\n",
       " <selenium.webdriver.remote.webelement.WebElement (session=\"81c5d2d70313ce260f52834cc327e162\", element=\"216164fd-f208-456a-9afb-f80b9ab957c2\")>,\n",
       " <selenium.webdriver.remote.webelement.WebElement (session=\"81c5d2d70313ce260f52834cc327e162\", element=\"66249faa-fc46-43e4-80bb-e3747c878f28\")>,\n",
       " <selenium.webdriver.remote.webelement.WebElement (session=\"81c5d2d70313ce260f52834cc327e162\", element=\"142a6932-6a67-494e-b5d9-6c03767dcc06\")>,\n",
       " <selenium.webdriver.remote.webelement.WebElement (session=\"81c5d2d70313ce260f52834cc327e162\", element=\"cabd1d5e-f58d-4147-9fc8-0fd4b7816a5e\")>,\n",
       " <selenium.webdriver.remote.webelement.WebElement (session=\"81c5d2d70313ce260f52834cc327e162\", element=\"054c65b8-e4ce-4c1f-8269-80011816efb5\")>,\n",
       " <selenium.webdriver.remote.webelement.WebElement (session=\"81c5d2d70313ce260f52834cc327e162\", element=\"8f7764fd-73d3-4ef4-a528-9ed0b99cfcec\")>,\n",
       " <selenium.webdriver.remote.webelement.WebElement (session=\"81c5d2d70313ce260f52834cc327e162\", element=\"ce6a6d49-fb2a-4269-8e9b-202c275f41e4\")>,\n",
       " <selenium.webdriver.remote.webelement.WebElement (session=\"81c5d2d70313ce260f52834cc327e162\", element=\"f3b86eda-9de1-4de7-a32c-1556256a6c11\")>,\n",
       " <selenium.webdriver.remote.webelement.WebElement (session=\"81c5d2d70313ce260f52834cc327e162\", element=\"9fcf581f-3885-4d6b-9c69-0e133a0e4261\")>,\n",
       " <selenium.webdriver.remote.webelement.WebElement (session=\"81c5d2d70313ce260f52834cc327e162\", element=\"d330c6ac-b8ae-4727-9b71-555f3f0ddd81\")>]"
      ]
     },
     "execution_count": 19,
     "metadata": {},
     "output_type": "execute_result"
    }
   ],
   "source": [
    "cm = driver.find_elements(By.ID,\"content-text\")\n",
    "cm"
   ]
  },
  {
   "cell_type": "code",
   "execution_count": 20,
   "id": "df7dfcdb",
   "metadata": {},
   "outputs": [],
   "source": [
    "comments=[]\n",
    "for i in cm:\n",
    "    comments.append(i.text)\n",
    "\n",
    "time.sleep(5)"
   ]
  },
  {
   "cell_type": "code",
   "execution_count": 21,
   "id": "5e044ab6",
   "metadata": {},
   "outputs": [
    {
     "data": {
      "text/plain": [
       "[\"I am a data Science Student and believe me the things and insights I'm getting is just soo much amazing. Best wishes for all future data scientist \",\n",
       " '',\n",
       " '',\n",
       " '',\n",
       " '',\n",
       " '',\n",
       " '',\n",
       " '',\n",
       " '',\n",
       " '',\n",
       " '',\n",
       " 'Data Science Roadmap -\\n1. Learning a programming language\\n(Python, R) \\nIn python - 2 libraries numpy, panda',\n",
       " 'The quality of Content shared above is simply an eye-opener. Cheers to you. Can we have more roadmap videos on AI and Deep learning seperately?',\n",
       " 'Please make a roadmap for 1st year college students which would focus on things like when to start coding,how to learn new things and manage College studies, also It would be better if it would focus on student who are from a tier 3 College with high attendance compulsion.',\n",
       " 'Hello, Your videos are always helpful for  everyone ,For choosing there the correct  careers. my question is ,I am from mechanical branch and I want to switch my career in IT field  so please tell me what are the total sub- branches in IT field and what are their workings as there job profile and Last not the least we all love your team ️',\n",
       " 'Mam could u please start a course on Python just like u have done on Java and C++. I know u will help everyone at any cost because we trust u. If possible then please start the course',\n",
       " 'Data Science Roadmap -\\n\\n1. Learning a programming language\\n\\n(Python, R) \\n\\nIn python - 2 libraries numpy, panda,seaborn,tensorflow',\n",
       " 'We got a very clear vision towards Data Science. Thank you. We love to watch more videos related to this.',\n",
       " \"If u want to become data scientist, then online BSc degree course in Data Science and Programming by IIT Madras is best for it.\\nIt's an online degree course which one can pursue along with regular college degree as it is complete online course.\",\n",
       " 'please.. make more videos on DATA SCIENCE. we love to see your content plus like wise it is the trending one which will be very helpful for the data science aspirants like me  ',\n",
       " \"A Big salute to you ma'am   \\nThank you so much for your Guidance \\n.\\nMay God fill your life with immense happiness and success \",\n",
       " 'Hi Di...I am new here...Your explanation is too good. Can you please explain about java selenium? And which one better compare with Python n data science?..I m from non-IT specialization... Waiting for your reply..Thank you ',\n",
       " 'Would be great if you provide a course playlist for the same from basic to advanced. ',\n",
       " \"hello shraddha, i recently got some offers one from mnc for analyst role and one from small scale company for data science pay for both role is almost same, so can you suggest as a fresher what should be feasible for me in the long run of my career?\\nI'm confused about my learning opportunities and career growth.\",\n",
       " 'Didi please keep on uploading java course....by the way love your teaching way didi  It makes our understanding capacity better and easier',\n",
       " 'What are the different profiles and roles  of software engineer in a software industry ??\\nMake a video on it....',\n",
       " 'That was an awesome info... thank you for the techy content... expecting more videos on the topics like deep learning.....thank you once again ',\n",
       " 'Thank you so much for posting this video. I was looking for a video on this topic and you uploaded this on right time. Thank you and keep up the work! You are doing an awesome job helping us students.',\n",
       " 'definitely we will love the video for AI and DEEP LEARNING\\nYou guys are doing a great job',\n",
       " 'What a explanation !!! \\nSimply Admirable ',\n",
       " 'Hi, your videos are nothing but knowledge love your content.️ I’m Big-data intern and want myself to deep dive into it to learn more of it please make video on Big-Data engineering separately.',\n",
       " 'Definitely we need a video for artificial intelligence. Also please explain a little more about the project you said. Thank you',\n",
       " 'Di thank you for this auspicious knowledge you are providing .  \\n\\nIt is a request from my side pls make a video on \" how to use KAGGLE  for making data science projects \" .  ',\n",
       " \"Mam, it's a greater thing what you are doing, Can we get Videos on\\n1) Machine learning and Deep Learning\\n2) I am working as Power BI Developer, so how can I get in to Data science, or I am already in it?? It's little confusing\",\n",
       " 'I have not opted for computer science in class 11th and 12th.\\nI have just heard the word data science ..this is my first lecture on data science..thank you soo much ..it feels like..got something.. something..\\n(1st like on this comment is mine )',\n",
       " 'You R such lovely teacher like everyone have in their life once   and thanks Aman bhaiya to give Us a lovely teacher.  And keep it up U R doing great..and we want further both Deep learning and  AI related videos in depth',\n",
       " 'was eagerly waiting for this. Finally you guys covered it... thank you.',\n",
       " \"Currently working on my project related to Machine Learning and I must say that, it's really interesting in this field.\",\n",
       " \"thank you so much helped me a lot to make a roadmap for the start of my btech journey. I'll keep all these basic points in order to make something productive out of it\",\n",
       " 'Hello mam. can you make a video on how you did your college project? Can you show us the actual code of your project with an explanation? I want to learn about this project. Analysis of Twitter Bot Usage for India Political issues.',\n",
       " 'Very comprehensive way of describing data science , keep it up. #datascience',\n",
       " 'Loved the video.. !! Thanks for the guidance, please proceed for AI , ML and deep learning.',\n",
       " 'Very informative video. I am a student and new to data science. After watching your video, my confusion about data science is cleared. Thanx a lot.',\n",
       " \"Heyy, under the first point you mentioned two programming languages, but you didn't speak about the second one; R language at all, can you please tell about R language in detail ?\",\n",
       " \"Thank youu!! Didi, please guide on what companies to target for ML jobs since most companies that come to college hire for 'software developers' role\",\n",
       " 'I am agree with all the points and skills you shared in the video but I think one more important thing is missing there and that is SQL.',\n",
       " 'Its was indeed very helpful!!!!\\nPlz add a tutorial series of data science as welll!',\n",
       " 'For Data Science which base of Machine learning we have to choose Products or Algorithms',\n",
       " 'Great EXPLANATION  What else we can predict by data science please make a video',\n",
       " 'Hello shradha di,will you please make a video on statistics distribution, data wrapping kind,hypothesis testing this kind of topics related videos,which is very helpfull as a beginners in data science field',\n",
       " 'we would love...if you continue this series of data science...top courses and colleges in india',\n",
       " 'Mam, I Am From non-technical background but when I was in my 11th and 12 I has IP where I learned java, Msql, and HTML  Languages. but it was 3 years ago. Now I want to become a data scientist. Do you think if I do a data scientist course I can get a job in this sector? Please reply. not only mam but if anyone can share their experience.',\n",
       " 'Make a video on Artificial Intelligence Roadmap Please.\\nThere are courses introduceed like Btech in AI+DS, DS, AL+ML, IoT+Cybersecurity.\\nOpinions on these courses??',\n",
       " 'Jus subscribed your channel bcoz of the Pure content..#Thanks to Apna College team, Especially to #Sharadhha & Aman.. For making the life Easier... keep IT up Team..️',\n",
       " \"I am a working professional who's trying to get into Data Science...the way you explained Data Science is amazing.\",\n",
       " 'I think the 1st step should be statistics and the 2nd step should be programming language',\n",
       " 'Please make a roadmap for artificial intelligence and deep learning. make proper guidance for both of these.',\n",
       " \"Trust me it's easier than u think and really awesome subject love ai!\",\n",
       " \"Namaskaram\\nI am learning data science\\nBut I don't have any mentor so if possible then can you make tutorial for data science project like you have made tutorial for web development. It will be very helpful\",\n",
       " 'Ur videos r very informative for any type of students.Tysm keep rocking n keep teaching.',\n",
       " 'What a knowledge!\\nKeep learning and keep exploring.',\n",
       " 'Mam, make a video on difference between mechine learning and artificial intelligence.',\n",
       " 'Please teach language python....i am a biology student and i dont know much about this field but i really understannd your videos ....and i am really getting interest in this field',\n",
       " 'Can you please make a video elaborating on the difference between machine learning and data science?',\n",
       " 'please make full video tutorial series on latest technology(if possible).',\n",
       " 'Well explained. Bravo!',\n",
       " 'Yes mam please make video on artifical inteligent and deep learning you provide genuine knolwledge on any topic which give help me to understand thanks',\n",
       " 'We want Artificial Intelligence &Deep Learning Video. Thank you Didi for the Video',\n",
       " \"Mam, can you please make a video on how you can publish your research papers internationally on a undergraduate level? I'm a third year BS Computer Science student and I am planning to publsih my research papers.\",\n",
       " 'PLEASE MAKE THE VIDEO ON THE COURSES WHICH YOU HAVE DONE THE COLLEGE FROM YOU HAVE STUDIED (means tell us about yourself,  relating to your studies so that we can also be inspired and can know what we can exactly do in our life). IT WOULD BE VERY HELPFUL IF YOU SHARE SOMETHING ABOUT YOUR EDUCATION PLEASE..',\n",
       " 'Steps to get in data Science\\nStep 1 (3:32) : Learn Python\\nStep 2 (4:23) : Learn Statistics\\nStep 3 (4:49) : Data visualization',\n",
       " \"Mam I'm fresher 1st year in bscit in SIES college , Mam can u tell me what will be the total amount on an average for doing this course ?\",\n",
       " 'Didi please start a series on machine learning and data science like c++ series that is very helpful for everyone',\n",
       " 'Mam please make a brief video about AI and roadmap to AI...Thank you',\n",
       " \"Hi, actually I'm a bba graduate ( non mathematical background ) and I want to switch into IT field and want to do data science but I'm weak in mathematics. So, should i go for data science or not?\",\n",
       " 'Didi, is data analytics related to data science in any of the ways???',\n",
       " 'Mam,(ex- ms wali didi)Please make a playlist on Artificial intelligence.',\n",
       " 'U explained it so simply.....thanks di️',\n",
       " 'thank you for your Detailed Analysis and Guidance',\n",
       " 'One video on artificial intelligence and its scope in  next years....plzzz..thanku didi..doing great work ',\n",
       " 'Clearly explained ️',\n",
       " '@Apna College, coiuld you also please make a video on \"Best Laptops & Operating Systems for AI/ML/DL in 2021\" similar to the one made earlier forCoding & College ??',\n",
       " 'Didi we need more contents like this please and thank you for such valuable information',\n",
       " 'I have one request  your videos are really very helpful, please make a video on how we can start our own company (entrepreneurship) through data science. \\nThank You ',\n",
       " 'Great video .....Can u tell me which entrance exam do we need to attempt for data science....some say CET, JEE mains and some say both ...i am kinda confused so if u can clear the misconception it would really help a lot',\n",
       " 'I want knowledge related to METAVERSE \\n\\nPlease make a video on it ',\n",
       " 'Can you please make a video on operating system and system design explaining the roadmap and opportunities in this field.',\n",
       " 'I am Pursing Data Science And Engineering From IIT, Guys keep grinding .. Its all worth it in the end. ALL THE BEST :)',\n",
       " \"yes we want vedio's on both AI and Deep learning\",\n",
       " \"You are an Excellent Commander over Data Sciences! I'm very glad to watch that. May God Almighty (ALLAH) bless you with your key knowledge.\",\n",
       " 'Make videos on \"ARTIFICIAL INTELLIGENCE\"....\\nAlso a detailed video on all the subjects in \\'CS branch\\'',\n",
       " 'Hi...may Java be useful for data science?',\n",
       " 'Dhanyavaad aman \\nFinally data science bhi cover kiya.. \\nBhagvan ki kripa bane rahe aap par.. Keep up the the good work..!',\n",
       " \"Ma'am please one video data science vs web development \",\n",
       " 'Ya, we need a video on Ai and deep learning. Please make it .',\n",
       " 'Thanks for this simple explanation ',\n",
       " 'Perfect way of explanation\\nplease start your course on data science that we can join',\n",
       " 'Hi I am from management background..if I do diploma from a professional college or a university in data science will it be beneficial for me as a fresher applying for data analyst profiles?!',\n",
       " 'Can you please start a Python series and after completing that also teach Data Science?',\n",
       " 'Thanku mam for such a nice video.. Mam please make videos for ai and ml too.. ',\n",
       " 'Can you please do more videos like technical videos on python and Data science, please those are more understandable, crisp and clear. \\n\\nThank you for all your work',\n",
       " 'any particular course we could do for learning python so it becomes easier?',\n",
       " 'Make videos on AI and deep learning and please explain things in detal',\n",
       " 'didi, please upload the video on A.I and deep learning Also',\n",
       " 'This could be easy to learn if you provide an video visual content for learning about the data science of different software I think so ?',\n",
       " 'Please make a video on difference between data analyst and data scientist??',\n",
       " 'Need a full course for data science ',\n",
       " 'Kaggle for Data Science is like Stack overflow for Software Development',\n",
       " 'Plz make videos of data science roles ,such as Data Anlayst,Bussiness Analyst, Data Engineer and roadmap ,prep resources of it',\n",
       " 'Mam can you please guide me how to pursue data science after B.tech in CS branch,does it help in datascience',\n",
       " 'We need videos on AI and deep learning',\n",
       " 'Thanks Didi\\nPlease make the same type of video as about requirements for cyber security.',\n",
       " 'Or maybe a community of developers so that everyone can learn and grow',\n",
       " 'Hi, can you tell which course is best for data Science?',\n",
       " 'excellent description and guidance.. thumbs up !!',\n",
       " \"Hello it's really amazing ... Yeah wish to see videos on d topic of deep learning , n machine learning n offcourse make a video on artificial intelligence... Pls\",\n",
       " 'First you need to determine the difference between absolute knowledge and its opposite(might be relative knowledge)',\n",
       " 'yes didi we want video on artificial intelligence and Deep learning',\n",
       " 'Legends still waiting for the day when aman start his series here . ',\n",
       " 'You are such a great teacher mamthank you mam ..thank you soo much',\n",
       " 'Thank you it is very helpful ️',\n",
       " 'Being an data consultant I am proud that I am selling course who going to change world our doctors setting in USA and doing operation in india its all because of Ai',\n",
       " 'hello very nice video thanks! I wanted to know does data analytics or data science students required full size keyboard laptop with numeric keypad does it help somewhere ??',\n",
       " 'Hi ...\\nPlease make a video on Healthcare data analytics roadmap ( for non technical ppl  like doctors )  ... \\nThank you ',\n",
       " 'I am a 12th class commerce student but still have intrest in computer ️️️ can you tell me what things should i learn in computer at home... Thank you  in advance...',\n",
       " 'You are doing a great job ',\n",
       " 'I love how you are passionate about data science',\n",
       " 'Plz make a video on difference between Data Science and Big data analytics',\n",
       " 'Please start end to end course for data science and machine learning ',\n",
       " 'One course for data science/analyst please ',\n",
       " \"Plz make roadmap to cybersecurity as career it's study material, resources and all that is needed to get into cybersecurity as career plz make soon\",\n",
       " 'Thankyou for this helpful information im looking forward to pursue my career in Data',\n",
       " \"Ma'am what is SQL, what is the need of SQL in data science, please make video on it\",\n",
       " 'Hii i am data science counsellor…this video is really useful. Good video and keep it up .',\n",
       " 'Which domain will be the best for a person having ug degree in mechanical engineering who is interested in data science',\n",
       " 'Dii please make video on Ai vs Data science  . Appreciate your work',\n",
       " 'Thank You Didi  ): ️\\nFor Full Roadmap ',\n",
       " 'Are there any degree courses majorly focusing on Artificial intelligence and Machine learning',\n",
       " 'Thanks for the complete road map. Make such more videos',\n",
       " 'Main concept starts from 3:33',\n",
       " \"We need project based learning in cpp D's and algorithms course of cpp\",\n",
       " 'Hi...Please make a video on Sql Dba and their career future ..You people are doing awesome job.',\n",
       " 'Please Now publish video on Roadmap of AI and Deep learning',\n",
       " 'Beautifully explained',\n",
       " 'Finally the most awaited video for me waited for long time',\n",
       " \"Ma'am  i am a commerce  student  and i am currently  in 12th . But i wanna do my career in data science.   Will i be eligible?\",\n",
       " 'I m 2nd semester student. BS data science from 🇵🇰.  Your vedio is very helpful. Need backend development full course',\n",
       " 'Doing great job \\nPls make like this video we love it',\n",
       " 'I am from 1 sem b. Tech branch artificial intelligence and data science  .\\nMy confidence increase after watching this vedio.',\n",
       " 'Simply fantastic ',\n",
       " 'Yes we want a video about depp learning and AI',\n",
       " 'Should I chose BIG DATA or AIML for learning data science.. \\nI am very confused... \\nPlease clear my confusion.',\n",
       " 'Can anyone tell me how can I find data science internship since I am a beginner and I only find either developer internship or internships which requires more experience?',\n",
       " \"Ma'am How I become data science. I study in 12th standard . How I become data science . Which type of courses I learn and from where ?. Please make a video for it.\",\n",
       " 'Mam plz make a video on engineering physics BRACH CAN I TRY FOR IT SECROR JOBS?',\n",
       " 'Can you make videos for ai and ml and dl didi please \\nAlso can you let us know that which websites are available for this course for practice..!!',\n",
       " 'Is it possible to work in the field of IT after studying Statistics? If yes , then how?',\n",
       " 'Mam i just gave my 12th board exams in commerce stream without maths\\nSo mam i want to become Data scientist so what is the best course for me after 12th sir? What should i do? Plz reply me mam plz',\n",
       " 'What is best for data science learning platform a college, or institute?',\n",
       " 'Thanks for clearing my doubts.',\n",
       " 'What if we do Btech in Artificial intelligence And Data science from a govt. college because I got this branch  ? Please tell , then should we seperately prepare for it ?',\n",
       " 'How different is Bsc in Data Analytics from Data Science',\n",
       " 'And a seperate course of figma how to design and convert design into html',\n",
       " '2:16 ai is not part of data science \\nit is coexist with data science and have link in between',\n",
       " 'for data science placement which language we need to learn like c++ or java ?',\n",
       " 'Mam kindly focused on Data Science Future also',\n",
       " 'Literally thank you for this one video',\n",
       " 'Yes ,, v need a video on AI and deep learning',\n",
       " 'Can you advice us that which is the institute or university where we can learn this course and enhance our future career path',\n",
       " 'I am a second-year data science student and I have learnt python and MySQL till now. So can you tell me about projects which I can do using python and MySQL which will be good for my resume',\n",
       " 'To become a data scientist what should we take after 12th? Can we do Bsc in data science or should we do engineering?',\n",
       " \"Ma'am can you please suggest me the latest seminar topics for the technical seminar.. please reply\",\n",
       " 'Please make a full cousre video on c language.',\n",
       " 'What are the different roles  and Profiles of software engineer in a software industry ??\\n\\nPlease make a video on it ........ DIDI.',\n",
       " 'What should I choose???...\\nI have completed diploma in mechanical engineering and now I want to shift to B.E. AI and data science engineering...\\nSo..should I go for it? Or Look for B. E. mechanical + courses related with AI? ',\n",
       " 'We want Videos on ARTIFICIAL INTELLEGENCE and MACHINE LEARNING',\n",
       " 'After learning data science which includes python, excel ,sql,tableau, Maths, machine learning, deep learning. Is it necessary to learn SAS?? or any other thing?',\n",
       " 'Hi, I like your video explained in very simple language about Data science and pythan. I want to connect with u.\\nPlease share the correct channel',\n",
       " \"I love to watch your videos because you didn't waste time to say like, share, subscribe it saves your time as well as us and thank you are brilliant teacher......\",\n",
       " 'Please tell which should I go for b.tech data science or b.sc data science',\n",
       " 'Data science is so confusing that from where to start? Which certifications or degree will be useful? So many platforms are offering courses which are too costly.',\n",
       " 'Thankyou di for this amazing vedio.I am a 2nd year student of bsc Data science di please tell what type of internship we do please make a vedio on that',\n",
       " 'I will be starting college soon. What is preferred \\n1.BS in data science \\n2.BS in computer science and then MS in data science.',\n",
       " \"Ma'm please make the data science tutorial \",\n",
       " 'Suddenly I realized the importance of \\'Information Practices\" class -12 Python xDDD',\n",
       " 'What is the basic skills I should have to learn python?',\n",
       " \"Please Provide Data Science Course for getting placements in MNC's as a fresher!\",\n",
       " 'Can u PLEASE make a video of full data science course for beginners!',\n",
       " 'Which is good laptop for data science under 60-75',\n",
       " 'Plzz make a video over Data analyst vs data scientist ']"
      ]
     },
     "execution_count": 21,
     "metadata": {},
     "output_type": "execute_result"
    }
   ],
   "source": [
    "comments"
   ]
  },
  {
   "cell_type": "code",
   "execution_count": null,
   "id": "21c58872",
   "metadata": {},
   "outputs": [],
   "source": []
  },
  {
   "cell_type": "code",
   "execution_count": null,
   "id": "c4f8927e",
   "metadata": {},
   "outputs": [],
   "source": []
  },
  {
   "cell_type": "markdown",
   "id": "4804a117",
   "metadata": {},
   "source": [
    "# hostelworld"
   ]
  },
  {
   "cell_type": "code",
   "execution_count": 2,
   "id": "b3f81025",
   "metadata": {},
   "outputs": [],
   "source": [
    "import selenium\n",
    "from selenium import webdriver\n",
    "import pandas as pd\n",
    "import warnings\n",
    "warnings.filterwarnings(\"ignore\")"
   ]
  },
  {
   "cell_type": "code",
   "execution_count": 3,
   "id": "97f04389",
   "metadata": {},
   "outputs": [],
   "source": [
    "driver=webdriver.Chrome('chromedriver.exe')"
   ]
  },
  {
   "cell_type": "code",
   "execution_count": 4,
   "id": "f16e4d69",
   "metadata": {},
   "outputs": [],
   "source": [
    "url=\"https://www.hostelworld.com/\"\n",
    "driver.get(url)"
   ]
  },
  {
   "cell_type": "code",
   "execution_count": 5,
   "id": "d9fee0d4",
   "metadata": {},
   "outputs": [],
   "source": [
    "from selenium.webdriver.common.by import By"
   ]
  },
  {
   "cell_type": "code",
   "execution_count": 6,
   "id": "60b9b1ef",
   "metadata": {},
   "outputs": [],
   "source": [
    "import time"
   ]
  },
  {
   "cell_type": "code",
   "execution_count": 9,
   "id": "9a06b572",
   "metadata": {},
   "outputs": [],
   "source": [
    "time.sleep(15)"
   ]
  },
  {
   "cell_type": "code",
   "execution_count": 24,
   "id": "82faedc6",
   "metadata": {},
   "outputs": [
    {
     "data": {
      "text/plain": [
       "<selenium.webdriver.remote.webelement.WebElement (session=\"e6c197bfe3a52d5f187b762e5124ff62\", element=\"0ea54456-516e-4c09-b6f6-ec92474870ba\")>"
      ]
     },
     "execution_count": 24,
     "metadata": {},
     "output_type": "execute_result"
    }
   ],
   "source": [
    "search=driver.find_element(By.XPATH,'/html/body/div[3]/div/div/div[1]/div[1]/div/div/div[4]/div/div[2]/div/div[1]/div/div/div/input')\n",
    "search"
   ]
  },
  {
   "cell_type": "code",
   "execution_count": 25,
   "id": "4b3397f4",
   "metadata": {},
   "outputs": [],
   "source": [
    "search.send_keys(\"London,England\")"
   ]
  },
  {
   "cell_type": "code",
   "execution_count": 26,
   "id": "c4c8d5cc",
   "metadata": {},
   "outputs": [
    {
     "data": {
      "text/plain": [
       "<selenium.webdriver.remote.webelement.WebElement (session=\"e6c197bfe3a52d5f187b762e5124ff62\", element=\"415606b9-56dd-405b-ac51-9925723ac606\")>"
      ]
     },
     "execution_count": 26,
     "metadata": {},
     "output_type": "execute_result"
    }
   ],
   "source": [
    "search_btn=driver.find_element(By.XPATH,'/html/body/div[3]/div/div/div[1]/div[1]/div/div/div[4]/div/div[2]/div/div[1]/div/div/div/span/i')\n",
    "search_btn"
   ]
  },
  {
   "cell_type": "code",
   "execution_count": 127,
   "id": "31c224db",
   "metadata": {},
   "outputs": [
    {
     "ename": "NoSuchElementException",
     "evalue": "Message: no such element: Unable to locate element: {\"method\":\"xpath\",\"selector\":\"/html/body/div[3]/div/div/div[1]/div[1]/div/div/div[4]/div/div[2]/div/div[1]/div/div/ul/li[2]/div\"}\n  (Session info: chrome=103.0.5060.134)\nStacktrace:\nBacktrace:\n\tOrdinal0 [0x00E86463+2188387]\n\tOrdinal0 [0x00E1E461+1762401]\n\tOrdinal0 [0x00D33D78+802168]\n\tOrdinal0 [0x00D61880+989312]\n\tOrdinal0 [0x00D61B1B+989979]\n\tOrdinal0 [0x00D8E912+1173778]\n\tOrdinal0 [0x00D7C824+1099812]\n\tOrdinal0 [0x00D8CC22+1166370]\n\tOrdinal0 [0x00D7C5F6+1099254]\n\tOrdinal0 [0x00D56BE0+945120]\n\tOrdinal0 [0x00D57AD6+948950]\n\tGetHandleVerifier [0x011271F2+2712546]\n\tGetHandleVerifier [0x0111886D+2652765]\n\tGetHandleVerifier [0x00F1002A+520730]\n\tGetHandleVerifier [0x00F0EE06+516086]\n\tOrdinal0 [0x00E2468B+1787531]\n\tOrdinal0 [0x00E28E88+1805960]\n\tOrdinal0 [0x00E28F75+1806197]\n\tOrdinal0 [0x00E31DF1+1842673]\n\tBaseThreadInitThunk [0x75DD6739+25]\n\tRtlGetFullPathName_UEx [0x77808FEF+1215]\n\tRtlGetFullPathName_UEx [0x77808FBD+1165]\n",
     "output_type": "error",
     "traceback": [
      "\u001b[1;31m---------------------------------------------------------------------------\u001b[0m",
      "\u001b[1;31mNoSuchElementException\u001b[0m                    Traceback (most recent call last)",
      "\u001b[1;32m~\\AppData\\Local\\Temp/ipykernel_16320/2751119133.py\u001b[0m in \u001b[0;36m<module>\u001b[1;34m\u001b[0m\n\u001b[1;32m----> 1\u001b[1;33m \u001b[0mselect_btn\u001b[0m\u001b[1;33m=\u001b[0m\u001b[0mdriver\u001b[0m\u001b[1;33m.\u001b[0m\u001b[0mfind_element\u001b[0m\u001b[1;33m(\u001b[0m\u001b[0mBy\u001b[0m\u001b[1;33m.\u001b[0m\u001b[0mXPATH\u001b[0m\u001b[1;33m,\u001b[0m\u001b[1;34m'/html/body/div[3]/div/div/div[1]/div[1]/div/div/div[4]/div/div[2]/div/div[1]/div/div/ul/li[2]/div'\u001b[0m\u001b[1;33m)\u001b[0m\u001b[1;33m\u001b[0m\u001b[1;33m\u001b[0m\u001b[0m\n\u001b[0m\u001b[0;32m      2\u001b[0m \u001b[0mselect_btn\u001b[0m\u001b[1;33m\u001b[0m\u001b[1;33m\u001b[0m\u001b[0m\n",
      "\u001b[1;32m~\\anaconda3\\lib\\site-packages\\selenium\\webdriver\\remote\\webdriver.py\u001b[0m in \u001b[0;36mfind_element\u001b[1;34m(self, by, value)\u001b[0m\n\u001b[0;32m    855\u001b[0m             \u001b[0mvalue\u001b[0m \u001b[1;33m=\u001b[0m \u001b[1;34m'[name=\"%s\"]'\u001b[0m \u001b[1;33m%\u001b[0m \u001b[0mvalue\u001b[0m\u001b[1;33m\u001b[0m\u001b[1;33m\u001b[0m\u001b[0m\n\u001b[0;32m    856\u001b[0m \u001b[1;33m\u001b[0m\u001b[0m\n\u001b[1;32m--> 857\u001b[1;33m         return self.execute(Command.FIND_ELEMENT, {\n\u001b[0m\u001b[0;32m    858\u001b[0m             \u001b[1;34m'using'\u001b[0m\u001b[1;33m:\u001b[0m \u001b[0mby\u001b[0m\u001b[1;33m,\u001b[0m\u001b[1;33m\u001b[0m\u001b[1;33m\u001b[0m\u001b[0m\n\u001b[0;32m    859\u001b[0m             'value': value})['value']\n",
      "\u001b[1;32m~\\anaconda3\\lib\\site-packages\\selenium\\webdriver\\remote\\webdriver.py\u001b[0m in \u001b[0;36mexecute\u001b[1;34m(self, driver_command, params)\u001b[0m\n\u001b[0;32m    433\u001b[0m         \u001b[0mresponse\u001b[0m \u001b[1;33m=\u001b[0m \u001b[0mself\u001b[0m\u001b[1;33m.\u001b[0m\u001b[0mcommand_executor\u001b[0m\u001b[1;33m.\u001b[0m\u001b[0mexecute\u001b[0m\u001b[1;33m(\u001b[0m\u001b[0mdriver_command\u001b[0m\u001b[1;33m,\u001b[0m \u001b[0mparams\u001b[0m\u001b[1;33m)\u001b[0m\u001b[1;33m\u001b[0m\u001b[1;33m\u001b[0m\u001b[0m\n\u001b[0;32m    434\u001b[0m         \u001b[1;32mif\u001b[0m \u001b[0mresponse\u001b[0m\u001b[1;33m:\u001b[0m\u001b[1;33m\u001b[0m\u001b[1;33m\u001b[0m\u001b[0m\n\u001b[1;32m--> 435\u001b[1;33m             \u001b[0mself\u001b[0m\u001b[1;33m.\u001b[0m\u001b[0merror_handler\u001b[0m\u001b[1;33m.\u001b[0m\u001b[0mcheck_response\u001b[0m\u001b[1;33m(\u001b[0m\u001b[0mresponse\u001b[0m\u001b[1;33m)\u001b[0m\u001b[1;33m\u001b[0m\u001b[1;33m\u001b[0m\u001b[0m\n\u001b[0m\u001b[0;32m    436\u001b[0m             response['value'] = self._unwrap_value(\n\u001b[0;32m    437\u001b[0m                 response.get('value', None))\n",
      "\u001b[1;32m~\\anaconda3\\lib\\site-packages\\selenium\\webdriver\\remote\\errorhandler.py\u001b[0m in \u001b[0;36mcheck_response\u001b[1;34m(self, response)\u001b[0m\n\u001b[0;32m    245\u001b[0m                 \u001b[0malert_text\u001b[0m \u001b[1;33m=\u001b[0m \u001b[0mvalue\u001b[0m\u001b[1;33m[\u001b[0m\u001b[1;34m'alert'\u001b[0m\u001b[1;33m]\u001b[0m\u001b[1;33m.\u001b[0m\u001b[0mget\u001b[0m\u001b[1;33m(\u001b[0m\u001b[1;34m'text'\u001b[0m\u001b[1;33m)\u001b[0m\u001b[1;33m\u001b[0m\u001b[1;33m\u001b[0m\u001b[0m\n\u001b[0;32m    246\u001b[0m             \u001b[1;32mraise\u001b[0m \u001b[0mexception_class\u001b[0m\u001b[1;33m(\u001b[0m\u001b[0mmessage\u001b[0m\u001b[1;33m,\u001b[0m \u001b[0mscreen\u001b[0m\u001b[1;33m,\u001b[0m \u001b[0mstacktrace\u001b[0m\u001b[1;33m,\u001b[0m \u001b[0malert_text\u001b[0m\u001b[1;33m)\u001b[0m  \u001b[1;31m# type: ignore[call-arg]  # mypy is not smart enough here\u001b[0m\u001b[1;33m\u001b[0m\u001b[1;33m\u001b[0m\u001b[0m\n\u001b[1;32m--> 247\u001b[1;33m         \u001b[1;32mraise\u001b[0m \u001b[0mexception_class\u001b[0m\u001b[1;33m(\u001b[0m\u001b[0mmessage\u001b[0m\u001b[1;33m,\u001b[0m \u001b[0mscreen\u001b[0m\u001b[1;33m,\u001b[0m \u001b[0mstacktrace\u001b[0m\u001b[1;33m)\u001b[0m\u001b[1;33m\u001b[0m\u001b[1;33m\u001b[0m\u001b[0m\n\u001b[0m\u001b[0;32m    248\u001b[0m \u001b[1;33m\u001b[0m\u001b[0m\n\u001b[0;32m    249\u001b[0m     \u001b[1;32mdef\u001b[0m \u001b[0m_value_or_default\u001b[0m\u001b[1;33m(\u001b[0m\u001b[0mself\u001b[0m\u001b[1;33m,\u001b[0m \u001b[0mobj\u001b[0m\u001b[1;33m:\u001b[0m \u001b[0mMapping\u001b[0m\u001b[1;33m[\u001b[0m\u001b[0m_KT\u001b[0m\u001b[1;33m,\u001b[0m \u001b[0m_VT\u001b[0m\u001b[1;33m]\u001b[0m\u001b[1;33m,\u001b[0m \u001b[0mkey\u001b[0m\u001b[1;33m:\u001b[0m \u001b[0m_KT\u001b[0m\u001b[1;33m,\u001b[0m \u001b[0mdefault\u001b[0m\u001b[1;33m:\u001b[0m \u001b[0m_VT\u001b[0m\u001b[1;33m)\u001b[0m \u001b[1;33m->\u001b[0m \u001b[0m_VT\u001b[0m\u001b[1;33m:\u001b[0m\u001b[1;33m\u001b[0m\u001b[1;33m\u001b[0m\u001b[0m\n",
      "\u001b[1;31mNoSuchElementException\u001b[0m: Message: no such element: Unable to locate element: {\"method\":\"xpath\",\"selector\":\"/html/body/div[3]/div/div/div[1]/div[1]/div/div/div[4]/div/div[2]/div/div[1]/div/div/ul/li[2]/div\"}\n  (Session info: chrome=103.0.5060.134)\nStacktrace:\nBacktrace:\n\tOrdinal0 [0x00E86463+2188387]\n\tOrdinal0 [0x00E1E461+1762401]\n\tOrdinal0 [0x00D33D78+802168]\n\tOrdinal0 [0x00D61880+989312]\n\tOrdinal0 [0x00D61B1B+989979]\n\tOrdinal0 [0x00D8E912+1173778]\n\tOrdinal0 [0x00D7C824+1099812]\n\tOrdinal0 [0x00D8CC22+1166370]\n\tOrdinal0 [0x00D7C5F6+1099254]\n\tOrdinal0 [0x00D56BE0+945120]\n\tOrdinal0 [0x00D57AD6+948950]\n\tGetHandleVerifier [0x011271F2+2712546]\n\tGetHandleVerifier [0x0111886D+2652765]\n\tGetHandleVerifier [0x00F1002A+520730]\n\tGetHandleVerifier [0x00F0EE06+516086]\n\tOrdinal0 [0x00E2468B+1787531]\n\tOrdinal0 [0x00E28E88+1805960]\n\tOrdinal0 [0x00E28F75+1806197]\n\tOrdinal0 [0x00E31DF1+1842673]\n\tBaseThreadInitThunk [0x75DD6739+25]\n\tRtlGetFullPathName_UEx [0x77808FEF+1215]\n\tRtlGetFullPathName_UEx [0x77808FBD+1165]\n"
     ]
    }
   ],
   "source": [
    "select_btn=driver.find_element(By.XPATH,'/html/body/div[3]/div/div/div[1]/div[1]/div/div/div[4]/div/div[2]/div/div[1]/div/div/ul/li[2]/div')\n",
    "select_btn"
   ]
  },
  {
   "cell_type": "code",
   "execution_count": 128,
   "id": "9da1a0df",
   "metadata": {},
   "outputs": [
    {
     "ename": "StaleElementReferenceException",
     "evalue": "Message: stale element reference: element is not attached to the page document\n  (Session info: chrome=103.0.5060.134)\nStacktrace:\nBacktrace:\n\tOrdinal0 [0x00E86463+2188387]\n\tOrdinal0 [0x00E1E461+1762401]\n\tOrdinal0 [0x00D33D78+802168]\n\tOrdinal0 [0x00D36754+812884]\n\tOrdinal0 [0x00D36612+812562]\n\tOrdinal0 [0x00D368A0+813216]\n\tOrdinal0 [0x00D63259+995929]\n\tOrdinal0 [0x00D58536+951606]\n\tOrdinal0 [0x00D7C7DC+1099740]\n\tOrdinal0 [0x00D57FF4+950260]\n\tOrdinal0 [0x00D7C9F4+1100276]\n\tOrdinal0 [0x00D8CC22+1166370]\n\tOrdinal0 [0x00D7C5F6+1099254]\n\tOrdinal0 [0x00D56BE0+945120]\n\tOrdinal0 [0x00D57AD6+948950]\n\tGetHandleVerifier [0x011271F2+2712546]\n\tGetHandleVerifier [0x0111886D+2652765]\n\tGetHandleVerifier [0x00F1002A+520730]\n\tGetHandleVerifier [0x00F0EE06+516086]\n\tOrdinal0 [0x00E2468B+1787531]\n\tOrdinal0 [0x00E28E88+1805960]\n\tOrdinal0 [0x00E28F75+1806197]\n\tOrdinal0 [0x00E31DF1+1842673]\n\tBaseThreadInitThunk [0x75DD6739+25]\n\tRtlGetFullPathName_UEx [0x77808FEF+1215]\n\tRtlGetFullPathName_UEx [0x77808FBD+1165]\n",
     "output_type": "error",
     "traceback": [
      "\u001b[1;31m---------------------------------------------------------------------------\u001b[0m",
      "\u001b[1;31mStaleElementReferenceException\u001b[0m            Traceback (most recent call last)",
      "\u001b[1;32m~\\AppData\\Local\\Temp/ipykernel_16320/557739999.py\u001b[0m in \u001b[0;36m<module>\u001b[1;34m\u001b[0m\n\u001b[1;32m----> 1\u001b[1;33m \u001b[0mselect_btn\u001b[0m\u001b[1;33m.\u001b[0m\u001b[0mclick\u001b[0m\u001b[1;33m(\u001b[0m\u001b[1;33m)\u001b[0m\u001b[1;33m\u001b[0m\u001b[1;33m\u001b[0m\u001b[0m\n\u001b[0m",
      "\u001b[1;32m~\\anaconda3\\lib\\site-packages\\selenium\\webdriver\\remote\\webelement.py\u001b[0m in \u001b[0;36mclick\u001b[1;34m(self)\u001b[0m\n\u001b[0;32m     86\u001b[0m     \u001b[1;32mdef\u001b[0m \u001b[0mclick\u001b[0m\u001b[1;33m(\u001b[0m\u001b[0mself\u001b[0m\u001b[1;33m)\u001b[0m \u001b[1;33m->\u001b[0m \u001b[1;32mNone\u001b[0m\u001b[1;33m:\u001b[0m\u001b[1;33m\u001b[0m\u001b[1;33m\u001b[0m\u001b[0m\n\u001b[0;32m     87\u001b[0m         \u001b[1;34m\"\"\"Clicks the element.\"\"\"\u001b[0m\u001b[1;33m\u001b[0m\u001b[1;33m\u001b[0m\u001b[0m\n\u001b[1;32m---> 88\u001b[1;33m         \u001b[0mself\u001b[0m\u001b[1;33m.\u001b[0m\u001b[0m_execute\u001b[0m\u001b[1;33m(\u001b[0m\u001b[0mCommand\u001b[0m\u001b[1;33m.\u001b[0m\u001b[0mCLICK_ELEMENT\u001b[0m\u001b[1;33m)\u001b[0m\u001b[1;33m\u001b[0m\u001b[1;33m\u001b[0m\u001b[0m\n\u001b[0m\u001b[0;32m     89\u001b[0m \u001b[1;33m\u001b[0m\u001b[0m\n\u001b[0;32m     90\u001b[0m     \u001b[1;32mdef\u001b[0m \u001b[0msubmit\u001b[0m\u001b[1;33m(\u001b[0m\u001b[0mself\u001b[0m\u001b[1;33m)\u001b[0m\u001b[1;33m:\u001b[0m\u001b[1;33m\u001b[0m\u001b[1;33m\u001b[0m\u001b[0m\n",
      "\u001b[1;32m~\\anaconda3\\lib\\site-packages\\selenium\\webdriver\\remote\\webelement.py\u001b[0m in \u001b[0;36m_execute\u001b[1;34m(self, command, params)\u001b[0m\n\u001b[0;32m    394\u001b[0m             \u001b[0mparams\u001b[0m \u001b[1;33m=\u001b[0m \u001b[1;33m{\u001b[0m\u001b[1;33m}\u001b[0m\u001b[1;33m\u001b[0m\u001b[1;33m\u001b[0m\u001b[0m\n\u001b[0;32m    395\u001b[0m         \u001b[0mparams\u001b[0m\u001b[1;33m[\u001b[0m\u001b[1;34m'id'\u001b[0m\u001b[1;33m]\u001b[0m \u001b[1;33m=\u001b[0m \u001b[0mself\u001b[0m\u001b[1;33m.\u001b[0m\u001b[0m_id\u001b[0m\u001b[1;33m\u001b[0m\u001b[1;33m\u001b[0m\u001b[0m\n\u001b[1;32m--> 396\u001b[1;33m         \u001b[1;32mreturn\u001b[0m \u001b[0mself\u001b[0m\u001b[1;33m.\u001b[0m\u001b[0m_parent\u001b[0m\u001b[1;33m.\u001b[0m\u001b[0mexecute\u001b[0m\u001b[1;33m(\u001b[0m\u001b[0mcommand\u001b[0m\u001b[1;33m,\u001b[0m \u001b[0mparams\u001b[0m\u001b[1;33m)\u001b[0m\u001b[1;33m\u001b[0m\u001b[1;33m\u001b[0m\u001b[0m\n\u001b[0m\u001b[0;32m    397\u001b[0m \u001b[1;33m\u001b[0m\u001b[0m\n\u001b[0;32m    398\u001b[0m     \u001b[1;32mdef\u001b[0m \u001b[0mfind_element\u001b[0m\u001b[1;33m(\u001b[0m\u001b[0mself\u001b[0m\u001b[1;33m,\u001b[0m \u001b[0mby\u001b[0m\u001b[1;33m=\u001b[0m\u001b[0mBy\u001b[0m\u001b[1;33m.\u001b[0m\u001b[0mID\u001b[0m\u001b[1;33m,\u001b[0m \u001b[0mvalue\u001b[0m\u001b[1;33m=\u001b[0m\u001b[1;32mNone\u001b[0m\u001b[1;33m)\u001b[0m \u001b[1;33m->\u001b[0m \u001b[0mWebElement\u001b[0m\u001b[1;33m:\u001b[0m\u001b[1;33m\u001b[0m\u001b[1;33m\u001b[0m\u001b[0m\n",
      "\u001b[1;32m~\\anaconda3\\lib\\site-packages\\selenium\\webdriver\\remote\\webdriver.py\u001b[0m in \u001b[0;36mexecute\u001b[1;34m(self, driver_command, params)\u001b[0m\n\u001b[0;32m    433\u001b[0m         \u001b[0mresponse\u001b[0m \u001b[1;33m=\u001b[0m \u001b[0mself\u001b[0m\u001b[1;33m.\u001b[0m\u001b[0mcommand_executor\u001b[0m\u001b[1;33m.\u001b[0m\u001b[0mexecute\u001b[0m\u001b[1;33m(\u001b[0m\u001b[0mdriver_command\u001b[0m\u001b[1;33m,\u001b[0m \u001b[0mparams\u001b[0m\u001b[1;33m)\u001b[0m\u001b[1;33m\u001b[0m\u001b[1;33m\u001b[0m\u001b[0m\n\u001b[0;32m    434\u001b[0m         \u001b[1;32mif\u001b[0m \u001b[0mresponse\u001b[0m\u001b[1;33m:\u001b[0m\u001b[1;33m\u001b[0m\u001b[1;33m\u001b[0m\u001b[0m\n\u001b[1;32m--> 435\u001b[1;33m             \u001b[0mself\u001b[0m\u001b[1;33m.\u001b[0m\u001b[0merror_handler\u001b[0m\u001b[1;33m.\u001b[0m\u001b[0mcheck_response\u001b[0m\u001b[1;33m(\u001b[0m\u001b[0mresponse\u001b[0m\u001b[1;33m)\u001b[0m\u001b[1;33m\u001b[0m\u001b[1;33m\u001b[0m\u001b[0m\n\u001b[0m\u001b[0;32m    436\u001b[0m             response['value'] = self._unwrap_value(\n\u001b[0;32m    437\u001b[0m                 response.get('value', None))\n",
      "\u001b[1;32m~\\anaconda3\\lib\\site-packages\\selenium\\webdriver\\remote\\errorhandler.py\u001b[0m in \u001b[0;36mcheck_response\u001b[1;34m(self, response)\u001b[0m\n\u001b[0;32m    245\u001b[0m                 \u001b[0malert_text\u001b[0m \u001b[1;33m=\u001b[0m \u001b[0mvalue\u001b[0m\u001b[1;33m[\u001b[0m\u001b[1;34m'alert'\u001b[0m\u001b[1;33m]\u001b[0m\u001b[1;33m.\u001b[0m\u001b[0mget\u001b[0m\u001b[1;33m(\u001b[0m\u001b[1;34m'text'\u001b[0m\u001b[1;33m)\u001b[0m\u001b[1;33m\u001b[0m\u001b[1;33m\u001b[0m\u001b[0m\n\u001b[0;32m    246\u001b[0m             \u001b[1;32mraise\u001b[0m \u001b[0mexception_class\u001b[0m\u001b[1;33m(\u001b[0m\u001b[0mmessage\u001b[0m\u001b[1;33m,\u001b[0m \u001b[0mscreen\u001b[0m\u001b[1;33m,\u001b[0m \u001b[0mstacktrace\u001b[0m\u001b[1;33m,\u001b[0m \u001b[0malert_text\u001b[0m\u001b[1;33m)\u001b[0m  \u001b[1;31m# type: ignore[call-arg]  # mypy is not smart enough here\u001b[0m\u001b[1;33m\u001b[0m\u001b[1;33m\u001b[0m\u001b[0m\n\u001b[1;32m--> 247\u001b[1;33m         \u001b[1;32mraise\u001b[0m \u001b[0mexception_class\u001b[0m\u001b[1;33m(\u001b[0m\u001b[0mmessage\u001b[0m\u001b[1;33m,\u001b[0m \u001b[0mscreen\u001b[0m\u001b[1;33m,\u001b[0m \u001b[0mstacktrace\u001b[0m\u001b[1;33m)\u001b[0m\u001b[1;33m\u001b[0m\u001b[1;33m\u001b[0m\u001b[0m\n\u001b[0m\u001b[0;32m    248\u001b[0m \u001b[1;33m\u001b[0m\u001b[0m\n\u001b[0;32m    249\u001b[0m     \u001b[1;32mdef\u001b[0m \u001b[0m_value_or_default\u001b[0m\u001b[1;33m(\u001b[0m\u001b[0mself\u001b[0m\u001b[1;33m,\u001b[0m \u001b[0mobj\u001b[0m\u001b[1;33m:\u001b[0m \u001b[0mMapping\u001b[0m\u001b[1;33m[\u001b[0m\u001b[0m_KT\u001b[0m\u001b[1;33m,\u001b[0m \u001b[0m_VT\u001b[0m\u001b[1;33m]\u001b[0m\u001b[1;33m,\u001b[0m \u001b[0mkey\u001b[0m\u001b[1;33m:\u001b[0m \u001b[0m_KT\u001b[0m\u001b[1;33m,\u001b[0m \u001b[0mdefault\u001b[0m\u001b[1;33m:\u001b[0m \u001b[0m_VT\u001b[0m\u001b[1;33m)\u001b[0m \u001b[1;33m->\u001b[0m \u001b[0m_VT\u001b[0m\u001b[1;33m:\u001b[0m\u001b[1;33m\u001b[0m\u001b[1;33m\u001b[0m\u001b[0m\n",
      "\u001b[1;31mStaleElementReferenceException\u001b[0m: Message: stale element reference: element is not attached to the page document\n  (Session info: chrome=103.0.5060.134)\nStacktrace:\nBacktrace:\n\tOrdinal0 [0x00E86463+2188387]\n\tOrdinal0 [0x00E1E461+1762401]\n\tOrdinal0 [0x00D33D78+802168]\n\tOrdinal0 [0x00D36754+812884]\n\tOrdinal0 [0x00D36612+812562]\n\tOrdinal0 [0x00D368A0+813216]\n\tOrdinal0 [0x00D63259+995929]\n\tOrdinal0 [0x00D58536+951606]\n\tOrdinal0 [0x00D7C7DC+1099740]\n\tOrdinal0 [0x00D57FF4+950260]\n\tOrdinal0 [0x00D7C9F4+1100276]\n\tOrdinal0 [0x00D8CC22+1166370]\n\tOrdinal0 [0x00D7C5F6+1099254]\n\tOrdinal0 [0x00D56BE0+945120]\n\tOrdinal0 [0x00D57AD6+948950]\n\tGetHandleVerifier [0x011271F2+2712546]\n\tGetHandleVerifier [0x0111886D+2652765]\n\tGetHandleVerifier [0x00F1002A+520730]\n\tGetHandleVerifier [0x00F0EE06+516086]\n\tOrdinal0 [0x00E2468B+1787531]\n\tOrdinal0 [0x00E28E88+1805960]\n\tOrdinal0 [0x00E28F75+1806197]\n\tOrdinal0 [0x00E31DF1+1842673]\n\tBaseThreadInitThunk [0x75DD6739+25]\n\tRtlGetFullPathName_UEx [0x77808FEF+1215]\n\tRtlGetFullPathName_UEx [0x77808FBD+1165]\n"
     ]
    }
   ],
   "source": [
    "select_btn.click()"
   ]
  },
  {
   "cell_type": "code",
   "execution_count": 129,
   "id": "e90a2bb4",
   "metadata": {},
   "outputs": [
    {
     "ename": "NoSuchElementException",
     "evalue": "Message: no such element: Unable to locate element: {\"method\":\"xpath\",\"selector\":\"/html/body/div[3]/div/div/div[1]/div[1]/div/div/div[4]/div/div[2]/div/div[5]/button\"}\n  (Session info: chrome=103.0.5060.134)\nStacktrace:\nBacktrace:\n\tOrdinal0 [0x00E86463+2188387]\n\tOrdinal0 [0x00E1E461+1762401]\n\tOrdinal0 [0x00D33D78+802168]\n\tOrdinal0 [0x00D61880+989312]\n\tOrdinal0 [0x00D61B1B+989979]\n\tOrdinal0 [0x00D8E912+1173778]\n\tOrdinal0 [0x00D7C824+1099812]\n\tOrdinal0 [0x00D8CC22+1166370]\n\tOrdinal0 [0x00D7C5F6+1099254]\n\tOrdinal0 [0x00D56BE0+945120]\n\tOrdinal0 [0x00D57AD6+948950]\n\tGetHandleVerifier [0x011271F2+2712546]\n\tGetHandleVerifier [0x0111886D+2652765]\n\tGetHandleVerifier [0x00F1002A+520730]\n\tGetHandleVerifier [0x00F0EE06+516086]\n\tOrdinal0 [0x00E2468B+1787531]\n\tOrdinal0 [0x00E28E88+1805960]\n\tOrdinal0 [0x00E28F75+1806197]\n\tOrdinal0 [0x00E31DF1+1842673]\n\tBaseThreadInitThunk [0x75DD6739+25]\n\tRtlGetFullPathName_UEx [0x77808FEF+1215]\n\tRtlGetFullPathName_UEx [0x77808FBD+1165]\n",
     "output_type": "error",
     "traceback": [
      "\u001b[1;31m---------------------------------------------------------------------------\u001b[0m",
      "\u001b[1;31mNoSuchElementException\u001b[0m                    Traceback (most recent call last)",
      "\u001b[1;32m~\\AppData\\Local\\Temp/ipykernel_16320/1374452287.py\u001b[0m in \u001b[0;36m<module>\u001b[1;34m\u001b[0m\n\u001b[1;32m----> 1\u001b[1;33m \u001b[0mlet_go\u001b[0m\u001b[1;33m=\u001b[0m\u001b[0mdriver\u001b[0m\u001b[1;33m.\u001b[0m\u001b[0mfind_element\u001b[0m\u001b[1;33m(\u001b[0m\u001b[0mBy\u001b[0m\u001b[1;33m.\u001b[0m\u001b[0mXPATH\u001b[0m\u001b[1;33m,\u001b[0m\u001b[1;34m'/html/body/div[3]/div/div/div[1]/div[1]/div/div/div[4]/div/div[2]/div/div[5]/button'\u001b[0m\u001b[1;33m)\u001b[0m\u001b[1;33m\u001b[0m\u001b[1;33m\u001b[0m\u001b[0m\n\u001b[0m\u001b[0;32m      2\u001b[0m \u001b[0mlet_go\u001b[0m\u001b[1;33m\u001b[0m\u001b[1;33m\u001b[0m\u001b[0m\n",
      "\u001b[1;32m~\\anaconda3\\lib\\site-packages\\selenium\\webdriver\\remote\\webdriver.py\u001b[0m in \u001b[0;36mfind_element\u001b[1;34m(self, by, value)\u001b[0m\n\u001b[0;32m    855\u001b[0m             \u001b[0mvalue\u001b[0m \u001b[1;33m=\u001b[0m \u001b[1;34m'[name=\"%s\"]'\u001b[0m \u001b[1;33m%\u001b[0m \u001b[0mvalue\u001b[0m\u001b[1;33m\u001b[0m\u001b[1;33m\u001b[0m\u001b[0m\n\u001b[0;32m    856\u001b[0m \u001b[1;33m\u001b[0m\u001b[0m\n\u001b[1;32m--> 857\u001b[1;33m         return self.execute(Command.FIND_ELEMENT, {\n\u001b[0m\u001b[0;32m    858\u001b[0m             \u001b[1;34m'using'\u001b[0m\u001b[1;33m:\u001b[0m \u001b[0mby\u001b[0m\u001b[1;33m,\u001b[0m\u001b[1;33m\u001b[0m\u001b[1;33m\u001b[0m\u001b[0m\n\u001b[0;32m    859\u001b[0m             'value': value})['value']\n",
      "\u001b[1;32m~\\anaconda3\\lib\\site-packages\\selenium\\webdriver\\remote\\webdriver.py\u001b[0m in \u001b[0;36mexecute\u001b[1;34m(self, driver_command, params)\u001b[0m\n\u001b[0;32m    433\u001b[0m         \u001b[0mresponse\u001b[0m \u001b[1;33m=\u001b[0m \u001b[0mself\u001b[0m\u001b[1;33m.\u001b[0m\u001b[0mcommand_executor\u001b[0m\u001b[1;33m.\u001b[0m\u001b[0mexecute\u001b[0m\u001b[1;33m(\u001b[0m\u001b[0mdriver_command\u001b[0m\u001b[1;33m,\u001b[0m \u001b[0mparams\u001b[0m\u001b[1;33m)\u001b[0m\u001b[1;33m\u001b[0m\u001b[1;33m\u001b[0m\u001b[0m\n\u001b[0;32m    434\u001b[0m         \u001b[1;32mif\u001b[0m \u001b[0mresponse\u001b[0m\u001b[1;33m:\u001b[0m\u001b[1;33m\u001b[0m\u001b[1;33m\u001b[0m\u001b[0m\n\u001b[1;32m--> 435\u001b[1;33m             \u001b[0mself\u001b[0m\u001b[1;33m.\u001b[0m\u001b[0merror_handler\u001b[0m\u001b[1;33m.\u001b[0m\u001b[0mcheck_response\u001b[0m\u001b[1;33m(\u001b[0m\u001b[0mresponse\u001b[0m\u001b[1;33m)\u001b[0m\u001b[1;33m\u001b[0m\u001b[1;33m\u001b[0m\u001b[0m\n\u001b[0m\u001b[0;32m    436\u001b[0m             response['value'] = self._unwrap_value(\n\u001b[0;32m    437\u001b[0m                 response.get('value', None))\n",
      "\u001b[1;32m~\\anaconda3\\lib\\site-packages\\selenium\\webdriver\\remote\\errorhandler.py\u001b[0m in \u001b[0;36mcheck_response\u001b[1;34m(self, response)\u001b[0m\n\u001b[0;32m    245\u001b[0m                 \u001b[0malert_text\u001b[0m \u001b[1;33m=\u001b[0m \u001b[0mvalue\u001b[0m\u001b[1;33m[\u001b[0m\u001b[1;34m'alert'\u001b[0m\u001b[1;33m]\u001b[0m\u001b[1;33m.\u001b[0m\u001b[0mget\u001b[0m\u001b[1;33m(\u001b[0m\u001b[1;34m'text'\u001b[0m\u001b[1;33m)\u001b[0m\u001b[1;33m\u001b[0m\u001b[1;33m\u001b[0m\u001b[0m\n\u001b[0;32m    246\u001b[0m             \u001b[1;32mraise\u001b[0m \u001b[0mexception_class\u001b[0m\u001b[1;33m(\u001b[0m\u001b[0mmessage\u001b[0m\u001b[1;33m,\u001b[0m \u001b[0mscreen\u001b[0m\u001b[1;33m,\u001b[0m \u001b[0mstacktrace\u001b[0m\u001b[1;33m,\u001b[0m \u001b[0malert_text\u001b[0m\u001b[1;33m)\u001b[0m  \u001b[1;31m# type: ignore[call-arg]  # mypy is not smart enough here\u001b[0m\u001b[1;33m\u001b[0m\u001b[1;33m\u001b[0m\u001b[0m\n\u001b[1;32m--> 247\u001b[1;33m         \u001b[1;32mraise\u001b[0m \u001b[0mexception_class\u001b[0m\u001b[1;33m(\u001b[0m\u001b[0mmessage\u001b[0m\u001b[1;33m,\u001b[0m \u001b[0mscreen\u001b[0m\u001b[1;33m,\u001b[0m \u001b[0mstacktrace\u001b[0m\u001b[1;33m)\u001b[0m\u001b[1;33m\u001b[0m\u001b[1;33m\u001b[0m\u001b[0m\n\u001b[0m\u001b[0;32m    248\u001b[0m \u001b[1;33m\u001b[0m\u001b[0m\n\u001b[0;32m    249\u001b[0m     \u001b[1;32mdef\u001b[0m \u001b[0m_value_or_default\u001b[0m\u001b[1;33m(\u001b[0m\u001b[0mself\u001b[0m\u001b[1;33m,\u001b[0m \u001b[0mobj\u001b[0m\u001b[1;33m:\u001b[0m \u001b[0mMapping\u001b[0m\u001b[1;33m[\u001b[0m\u001b[0m_KT\u001b[0m\u001b[1;33m,\u001b[0m \u001b[0m_VT\u001b[0m\u001b[1;33m]\u001b[0m\u001b[1;33m,\u001b[0m \u001b[0mkey\u001b[0m\u001b[1;33m:\u001b[0m \u001b[0m_KT\u001b[0m\u001b[1;33m,\u001b[0m \u001b[0mdefault\u001b[0m\u001b[1;33m:\u001b[0m \u001b[0m_VT\u001b[0m\u001b[1;33m)\u001b[0m \u001b[1;33m->\u001b[0m \u001b[0m_VT\u001b[0m\u001b[1;33m:\u001b[0m\u001b[1;33m\u001b[0m\u001b[1;33m\u001b[0m\u001b[0m\n",
      "\u001b[1;31mNoSuchElementException\u001b[0m: Message: no such element: Unable to locate element: {\"method\":\"xpath\",\"selector\":\"/html/body/div[3]/div/div/div[1]/div[1]/div/div/div[4]/div/div[2]/div/div[5]/button\"}\n  (Session info: chrome=103.0.5060.134)\nStacktrace:\nBacktrace:\n\tOrdinal0 [0x00E86463+2188387]\n\tOrdinal0 [0x00E1E461+1762401]\n\tOrdinal0 [0x00D33D78+802168]\n\tOrdinal0 [0x00D61880+989312]\n\tOrdinal0 [0x00D61B1B+989979]\n\tOrdinal0 [0x00D8E912+1173778]\n\tOrdinal0 [0x00D7C824+1099812]\n\tOrdinal0 [0x00D8CC22+1166370]\n\tOrdinal0 [0x00D7C5F6+1099254]\n\tOrdinal0 [0x00D56BE0+945120]\n\tOrdinal0 [0x00D57AD6+948950]\n\tGetHandleVerifier [0x011271F2+2712546]\n\tGetHandleVerifier [0x0111886D+2652765]\n\tGetHandleVerifier [0x00F1002A+520730]\n\tGetHandleVerifier [0x00F0EE06+516086]\n\tOrdinal0 [0x00E2468B+1787531]\n\tOrdinal0 [0x00E28E88+1805960]\n\tOrdinal0 [0x00E28F75+1806197]\n\tOrdinal0 [0x00E31DF1+1842673]\n\tBaseThreadInitThunk [0x75DD6739+25]\n\tRtlGetFullPathName_UEx [0x77808FEF+1215]\n\tRtlGetFullPathName_UEx [0x77808FBD+1165]\n"
     ]
    }
   ],
   "source": [
    "let_go=driver.find_element(By.XPATH,'/html/body/div[3]/div/div/div[1]/div[1]/div/div/div[4]/div/div[2]/div/div[5]/button')\n",
    "let_go"
   ]
  },
  {
   "cell_type": "code",
   "execution_count": 30,
   "id": "af9fd713",
   "metadata": {},
   "outputs": [],
   "source": [
    "let_go.click()"
   ]
  },
  {
   "cell_type": "code",
   "execution_count": 37,
   "id": "a919ffcb",
   "metadata": {},
   "outputs": [
    {
     "data": {
      "text/plain": [
       "[<selenium.webdriver.remote.webelement.WebElement (session=\"e6c197bfe3a52d5f187b762e5124ff62\", element=\"721f9d31-60ac-4779-8d33-e7d6cc7377f4\")>,\n",
       " <selenium.webdriver.remote.webelement.WebElement (session=\"e6c197bfe3a52d5f187b762e5124ff62\", element=\"d6435615-f9b7-427b-98c3-abad6dc2c5a5\")>,\n",
       " <selenium.webdriver.remote.webelement.WebElement (session=\"e6c197bfe3a52d5f187b762e5124ff62\", element=\"cd08b20d-6677-486b-bb81-f5dc0ec04009\")>,\n",
       " <selenium.webdriver.remote.webelement.WebElement (session=\"e6c197bfe3a52d5f187b762e5124ff62\", element=\"2f5200be-0bf3-426d-b251-1a8d10105d9a\")>,\n",
       " <selenium.webdriver.remote.webelement.WebElement (session=\"e6c197bfe3a52d5f187b762e5124ff62\", element=\"0a9f73ac-bc80-47c4-94e5-29ccac5da248\")>,\n",
       " <selenium.webdriver.remote.webelement.WebElement (session=\"e6c197bfe3a52d5f187b762e5124ff62\", element=\"45f8f2e9-85eb-4611-adf0-12abcf86bcc7\")>,\n",
       " <selenium.webdriver.remote.webelement.WebElement (session=\"e6c197bfe3a52d5f187b762e5124ff62\", element=\"06fecd40-3da6-4375-a767-34603031863b\")>,\n",
       " <selenium.webdriver.remote.webelement.WebElement (session=\"e6c197bfe3a52d5f187b762e5124ff62\", element=\"7cc48c48-b314-4d96-b416-c88edd99aed9\")>,\n",
       " <selenium.webdriver.remote.webelement.WebElement (session=\"e6c197bfe3a52d5f187b762e5124ff62\", element=\"e5e5e735-f5e0-4a23-9211-d07933a200de\")>,\n",
       " <selenium.webdriver.remote.webelement.WebElement (session=\"e6c197bfe3a52d5f187b762e5124ff62\", element=\"5db2b8f3-b15d-4362-b3f5-76664808fa70\")>,\n",
       " <selenium.webdriver.remote.webelement.WebElement (session=\"e6c197bfe3a52d5f187b762e5124ff62\", element=\"5859d646-1106-4b2f-a56e-925e0e05b10d\")>,\n",
       " <selenium.webdriver.remote.webelement.WebElement (session=\"e6c197bfe3a52d5f187b762e5124ff62\", element=\"9e3c2b02-612f-43e2-a539-868860c341c8\")>,\n",
       " <selenium.webdriver.remote.webelement.WebElement (session=\"e6c197bfe3a52d5f187b762e5124ff62\", element=\"08087470-21da-437c-a8e7-5be96fcf9a3c\")>,\n",
       " <selenium.webdriver.remote.webelement.WebElement (session=\"e6c197bfe3a52d5f187b762e5124ff62\", element=\"da7d4ac1-9263-4d5c-90ac-f2b632b27c05\")>,\n",
       " <selenium.webdriver.remote.webelement.WebElement (session=\"e6c197bfe3a52d5f187b762e5124ff62\", element=\"df85c3c8-952d-4121-8d25-5887a2ef3c62\")>,\n",
       " <selenium.webdriver.remote.webelement.WebElement (session=\"e6c197bfe3a52d5f187b762e5124ff62\", element=\"c1fad1dc-c746-4739-bf8a-d4394261525b\")>,\n",
       " <selenium.webdriver.remote.webelement.WebElement (session=\"e6c197bfe3a52d5f187b762e5124ff62\", element=\"b4e84ccd-17fc-4f0b-88c3-13cece491a81\")>,\n",
       " <selenium.webdriver.remote.webelement.WebElement (session=\"e6c197bfe3a52d5f187b762e5124ff62\", element=\"a6a3f830-c811-4ecc-9b92-cdd5c390c7a4\")>,\n",
       " <selenium.webdriver.remote.webelement.WebElement (session=\"e6c197bfe3a52d5f187b762e5124ff62\", element=\"5730198e-7027-48d5-9a3a-b6a0bfc917b2\")>,\n",
       " <selenium.webdriver.remote.webelement.WebElement (session=\"e6c197bfe3a52d5f187b762e5124ff62\", element=\"42884c72-8134-4c91-abbe-f2a995476ed4\")>,\n",
       " <selenium.webdriver.remote.webelement.WebElement (session=\"e6c197bfe3a52d5f187b762e5124ff62\", element=\"96fffd22-ceef-48f4-95f3-e7cf8645113b\")>,\n",
       " <selenium.webdriver.remote.webelement.WebElement (session=\"e6c197bfe3a52d5f187b762e5124ff62\", element=\"b3d2462f-8c6e-4abf-a78b-6ef2ef94149b\")>,\n",
       " <selenium.webdriver.remote.webelement.WebElement (session=\"e6c197bfe3a52d5f187b762e5124ff62\", element=\"923df947-ac75-4d60-a4ae-c0d89c641fac\")>,\n",
       " <selenium.webdriver.remote.webelement.WebElement (session=\"e6c197bfe3a52d5f187b762e5124ff62\", element=\"5414e006-fbfc-489f-831b-e78d6072e9b6\")>,\n",
       " <selenium.webdriver.remote.webelement.WebElement (session=\"e6c197bfe3a52d5f187b762e5124ff62\", element=\"48b7d248-617d-4d6d-884e-b2b26432a813\")>,\n",
       " <selenium.webdriver.remote.webelement.WebElement (session=\"e6c197bfe3a52d5f187b762e5124ff62\", element=\"357d3796-e475-488e-abea-7c668bccbd5c\")>,\n",
       " <selenium.webdriver.remote.webelement.WebElement (session=\"e6c197bfe3a52d5f187b762e5124ff62\", element=\"d5a367bf-5532-4c63-aa6e-49c173cb7f8b\")>,\n",
       " <selenium.webdriver.remote.webelement.WebElement (session=\"e6c197bfe3a52d5f187b762e5124ff62\", element=\"22478a7f-1a17-4c50-b17b-d09781d59957\")>,\n",
       " <selenium.webdriver.remote.webelement.WebElement (session=\"e6c197bfe3a52d5f187b762e5124ff62\", element=\"22b4f713-a273-4149-ade2-dc8f25fa1840\")>,\n",
       " <selenium.webdriver.remote.webelement.WebElement (session=\"e6c197bfe3a52d5f187b762e5124ff62\", element=\"4c83fcfb-28d1-4a06-8e3a-7fa80c363df6\")>]"
      ]
     },
     "execution_count": 37,
     "metadata": {},
     "output_type": "execute_result"
    }
   ],
   "source": [
    "hostel_name=driver.find_elements(By.XPATH,'//div[@class=\"property\"]//h2//a')\n",
    "hostel_name"
   ]
  },
  {
   "cell_type": "code",
   "execution_count": 38,
   "id": "a2d1dad5",
   "metadata": {},
   "outputs": [],
   "source": [
    "hostel=[]\n",
    "for i in hostel_name:\n",
    "    hostel.append(i.text)\n",
    "    "
   ]
  },
  {
   "cell_type": "code",
   "execution_count": 51,
   "id": "235f139f",
   "metadata": {},
   "outputs": [
    {
     "data": {
      "text/plain": [
       "[\"St Christopher's Village\",\n",
       " 'Selina Camden',\n",
       " 'Generator London',\n",
       " 'Urbany Hostel London',\n",
       " 'Safestay London Elephant & Castle']"
      ]
     },
     "execution_count": 51,
     "metadata": {},
     "output_type": "execute_result"
    }
   ],
   "source": [
    "hostel[:5]"
   ]
  },
  {
   "cell_type": "code",
   "execution_count": 52,
   "id": "c0ff12d1",
   "metadata": {},
   "outputs": [],
   "source": [
    "distance_tag=driver.find_elements(By.XPATH,'//span[@class=\"description\"]')\n"
   ]
  },
  {
   "cell_type": "code",
   "execution_count": 53,
   "id": "21066d0e",
   "metadata": {},
   "outputs": [],
   "source": [
    "distance=[]\n",
    "for i in distance_tag:\n",
    "    distance.append(i.text)"
   ]
  },
  {
   "cell_type": "code",
   "execution_count": 54,
   "id": "199849fa",
   "metadata": {},
   "outputs": [
    {
     "data": {
      "text/plain": [
       "['Hostel - 1.8km from city centre',\n",
       " 'Hostel - 5.5km from city centre',\n",
       " 'Hostel - 3km from city centre',\n",
       " 'Hostel - 5.4km from city centre',\n",
       " 'Hostel - 1.7km from city centre']"
      ]
     },
     "execution_count": 54,
     "metadata": {},
     "output_type": "execute_result"
    }
   ],
   "source": [
    "distance[:5]"
   ]
  },
  {
   "cell_type": "code",
   "execution_count": 58,
   "id": "09a2ae15",
   "metadata": {},
   "outputs": [
    {
     "data": {
      "text/plain": [
       "[<selenium.webdriver.remote.webelement.WebElement (session=\"e6c197bfe3a52d5f187b762e5124ff62\", element=\"91e07df3-32be-4db0-93cd-ac4715d69c95\")>,\n",
       " <selenium.webdriver.remote.webelement.WebElement (session=\"e6c197bfe3a52d5f187b762e5124ff62\", element=\"c0408fc7-e025-407d-a5d3-06569d0d7f61\")>,\n",
       " <selenium.webdriver.remote.webelement.WebElement (session=\"e6c197bfe3a52d5f187b762e5124ff62\", element=\"6453507e-63aa-488f-a8c3-dfdda388e276\")>,\n",
       " <selenium.webdriver.remote.webelement.WebElement (session=\"e6c197bfe3a52d5f187b762e5124ff62\", element=\"0ca499ab-9ed9-4ef8-a454-5422347b0228\")>,\n",
       " <selenium.webdriver.remote.webelement.WebElement (session=\"e6c197bfe3a52d5f187b762e5124ff62\", element=\"cd99329d-de8f-46ad-867f-27707907c694\")>,\n",
       " <selenium.webdriver.remote.webelement.WebElement (session=\"e6c197bfe3a52d5f187b762e5124ff62\", element=\"9fe2f3f9-2e24-4a40-9dfb-66f98e2c63c2\")>,\n",
       " <selenium.webdriver.remote.webelement.WebElement (session=\"e6c197bfe3a52d5f187b762e5124ff62\", element=\"c1adb6ca-81cc-48a0-9872-ffccc3230086\")>,\n",
       " <selenium.webdriver.remote.webelement.WebElement (session=\"e6c197bfe3a52d5f187b762e5124ff62\", element=\"2d7167e7-240f-40c4-b4e4-4e96a814ba4b\")>,\n",
       " <selenium.webdriver.remote.webelement.WebElement (session=\"e6c197bfe3a52d5f187b762e5124ff62\", element=\"dd10c20e-7eed-4d3b-a7b7-d57c9a09a8c8\")>,\n",
       " <selenium.webdriver.remote.webelement.WebElement (session=\"e6c197bfe3a52d5f187b762e5124ff62\", element=\"27c737e2-86f3-426b-93a3-8bbab3377a4b\")>,\n",
       " <selenium.webdriver.remote.webelement.WebElement (session=\"e6c197bfe3a52d5f187b762e5124ff62\", element=\"d15fe300-af32-440a-b6b9-b1ec8aa7def5\")>,\n",
       " <selenium.webdriver.remote.webelement.WebElement (session=\"e6c197bfe3a52d5f187b762e5124ff62\", element=\"b5a3bc98-8aee-41e0-97b8-b0f6e6da2d51\")>,\n",
       " <selenium.webdriver.remote.webelement.WebElement (session=\"e6c197bfe3a52d5f187b762e5124ff62\", element=\"254c88c8-106c-4406-90c1-e94dd508129f\")>,\n",
       " <selenium.webdriver.remote.webelement.WebElement (session=\"e6c197bfe3a52d5f187b762e5124ff62\", element=\"07e62685-5cad-48bb-ba77-1428a4f11212\")>,\n",
       " <selenium.webdriver.remote.webelement.WebElement (session=\"e6c197bfe3a52d5f187b762e5124ff62\", element=\"8099fe25-13ce-41e5-a965-fc8bd7d2913f\")>,\n",
       " <selenium.webdriver.remote.webelement.WebElement (session=\"e6c197bfe3a52d5f187b762e5124ff62\", element=\"88fdb9a3-1858-4c03-b1ba-a3373389cb21\")>,\n",
       " <selenium.webdriver.remote.webelement.WebElement (session=\"e6c197bfe3a52d5f187b762e5124ff62\", element=\"02986973-dcfb-4396-b715-43677b382be9\")>,\n",
       " <selenium.webdriver.remote.webelement.WebElement (session=\"e6c197bfe3a52d5f187b762e5124ff62\", element=\"20e87348-01be-4e50-8b2b-15f155ea8980\")>,\n",
       " <selenium.webdriver.remote.webelement.WebElement (session=\"e6c197bfe3a52d5f187b762e5124ff62\", element=\"4e0653d4-244d-44a5-b4df-d49e0687362f\")>,\n",
       " <selenium.webdriver.remote.webelement.WebElement (session=\"e6c197bfe3a52d5f187b762e5124ff62\", element=\"1fbef065-61c9-4017-962d-a27923ae96f2\")>,\n",
       " <selenium.webdriver.remote.webelement.WebElement (session=\"e6c197bfe3a52d5f187b762e5124ff62\", element=\"d2c20069-12ab-4254-9ada-bf6fecc7637e\")>,\n",
       " <selenium.webdriver.remote.webelement.WebElement (session=\"e6c197bfe3a52d5f187b762e5124ff62\", element=\"e51cba3e-1e68-4b7b-95df-def49f65a592\")>,\n",
       " <selenium.webdriver.remote.webelement.WebElement (session=\"e6c197bfe3a52d5f187b762e5124ff62\", element=\"200139bb-56cb-417a-96ca-6013e6f94857\")>,\n",
       " <selenium.webdriver.remote.webelement.WebElement (session=\"e6c197bfe3a52d5f187b762e5124ff62\", element=\"8d9c34c1-a500-4b61-978e-8425da63f543\")>,\n",
       " <selenium.webdriver.remote.webelement.WebElement (session=\"e6c197bfe3a52d5f187b762e5124ff62\", element=\"c47e2277-74d7-406a-85c5-ac20eae28c66\")>,\n",
       " <selenium.webdriver.remote.webelement.WebElement (session=\"e6c197bfe3a52d5f187b762e5124ff62\", element=\"225bec8b-baad-4b37-b364-7ed83732c623\")>,\n",
       " <selenium.webdriver.remote.webelement.WebElement (session=\"e6c197bfe3a52d5f187b762e5124ff62\", element=\"66ffa6e7-57c4-4222-8e73-b084574f9f77\")>,\n",
       " <selenium.webdriver.remote.webelement.WebElement (session=\"e6c197bfe3a52d5f187b762e5124ff62\", element=\"0dcee010-2bea-41f5-a8ec-0047433d381f\")>,\n",
       " <selenium.webdriver.remote.webelement.WebElement (session=\"e6c197bfe3a52d5f187b762e5124ff62\", element=\"62086635-a8cf-4ad2-ab7a-1793ac1ce6a5\")>,\n",
       " <selenium.webdriver.remote.webelement.WebElement (session=\"e6c197bfe3a52d5f187b762e5124ff62\", element=\"23118337-298a-460a-9e5d-7136b2377c7f\")>]"
      ]
     },
     "execution_count": 58,
     "metadata": {},
     "output_type": "execute_result"
    }
   ],
   "source": [
    "ratings=driver.find_elements(By.XPATH,'//div[@class=\"score orange big\"]')\n",
    "ratings"
   ]
  },
  {
   "cell_type": "code",
   "execution_count": 59,
   "id": "2ef3ede8",
   "metadata": {},
   "outputs": [],
   "source": [
    "rating=[]\n",
    "for i in ratings:\n",
    "    rating.append(i.text)"
   ]
  },
  {
   "cell_type": "code",
   "execution_count": 60,
   "id": "92c8baaf",
   "metadata": {},
   "outputs": [
    {
     "data": {
      "text/plain": [
       "['8.1', '8.5', '7.7', '9.3', '7.0']"
      ]
     },
     "execution_count": 60,
     "metadata": {},
     "output_type": "execute_result"
    }
   ],
   "source": [
    "rating[:5]"
   ]
  },
  {
   "cell_type": "code",
   "execution_count": 74,
   "id": "1739ebb3",
   "metadata": {},
   "outputs": [],
   "source": [
    "odetail=driver.find_elements(By.XPATH,'//div[@class=\"summary orange\"]')"
   ]
  },
  {
   "cell_type": "code",
   "execution_count": 75,
   "id": "401ea6ca",
   "metadata": {},
   "outputs": [],
   "source": [
    "overall=[]\n",
    "for i in odetail:\n",
    "    overall.append(i.text.split('\\n')[0])\n",
    "    \n"
   ]
  },
  {
   "cell_type": "code",
   "execution_count": 76,
   "id": "bd41edb0",
   "metadata": {},
   "outputs": [
    {
     "data": {
      "text/plain": [
       "['Fabulous', 'Fabulous', 'Fabulous', 'Fabulous', 'Very Good']"
      ]
     },
     "execution_count": 76,
     "metadata": {},
     "output_type": "execute_result"
    }
   ],
   "source": [
    "overall[:5]"
   ]
  },
  {
   "cell_type": "code",
   "execution_count": 85,
   "id": "3d88e549",
   "metadata": {},
   "outputs": [],
   "source": [
    "odetail1=driver.find_elements(By.XPATH,'//div[@class=\"reviews\"]')"
   ]
  },
  {
   "cell_type": "code",
   "execution_count": 86,
   "id": "9a882147",
   "metadata": {},
   "outputs": [],
   "source": [
    "total_review=[]\n",
    "for i in odetail1:\n",
    "    total_review.append(i.text)"
   ]
  },
  {
   "cell_type": "code",
   "execution_count": 87,
   "id": "31b13f20",
   "metadata": {},
   "outputs": [
    {
     "data": {
      "text/plain": [
       "['11406 Total Reviews',\n",
       " '34 Total Reviews',\n",
       " '7072 Total Reviews',\n",
       " '424 Total Reviews',\n",
       " '4424 Total Reviews']"
      ]
     },
     "execution_count": 87,
     "metadata": {},
     "output_type": "execute_result"
    }
   ],
   "source": [
    "total_review[:5]"
   ]
  },
  {
   "cell_type": "code",
   "execution_count": 125,
   "id": "7c66c6c2",
   "metadata": {},
   "outputs": [
    {
     "data": {
      "text/plain": [
       "[]"
      ]
     },
     "execution_count": 125,
     "metadata": {},
     "output_type": "execute_result"
    }
   ],
   "source": [
    "pfp_tag=driver.find_elements(By.XPATH,'//div[@class=\"price title-5\"]')\n",
    "pfp"
   ]
  },
  {
   "cell_type": "code",
   "execution_count": 121,
   "id": "fb43d35c",
   "metadata": {},
   "outputs": [
    {
     "ename": "TypeError",
     "evalue": "'WebElement' object is not iterable",
     "output_type": "error",
     "traceback": [
      "\u001b[1;31m---------------------------------------------------------------------------\u001b[0m",
      "\u001b[1;31mTypeError\u001b[0m                                 Traceback (most recent call last)",
      "\u001b[1;32m~\\AppData\\Local\\Temp/ipykernel_16320/2290560201.py\u001b[0m in \u001b[0;36m<module>\u001b[1;34m\u001b[0m\n\u001b[0;32m      1\u001b[0m \u001b[0mpfp\u001b[0m\u001b[1;33m=\u001b[0m\u001b[1;33m[\u001b[0m\u001b[1;33m]\u001b[0m\u001b[1;33m\u001b[0m\u001b[1;33m\u001b[0m\u001b[0m\n\u001b[1;32m----> 2\u001b[1;33m \u001b[1;32mfor\u001b[0m \u001b[0mi\u001b[0m \u001b[1;32min\u001b[0m \u001b[0mpfp_tag\u001b[0m\u001b[1;33m:\u001b[0m\u001b[1;33m\u001b[0m\u001b[1;33m\u001b[0m\u001b[0m\n\u001b[0m\u001b[0;32m      3\u001b[0m     \u001b[0mpfp\u001b[0m\u001b[1;33m.\u001b[0m\u001b[0mappend\u001b[0m\u001b[1;33m(\u001b[0m\u001b[0mi\u001b[0m\u001b[1;33m.\u001b[0m\u001b[0mtext\u001b[0m\u001b[1;33m)\u001b[0m\u001b[1;33m\u001b[0m\u001b[1;33m\u001b[0m\u001b[0m\n\u001b[0;32m      4\u001b[0m \u001b[1;33m\u001b[0m\u001b[0m\n",
      "\u001b[1;31mTypeError\u001b[0m: 'WebElement' object is not iterable"
     ]
    }
   ],
   "source": [
    "pfp=[]\n",
    "for i in pfp_tag:\n",
    "    pfp.append(i.text)\n",
    "        "
   ]
  },
  {
   "cell_type": "code",
   "execution_count": 105,
   "id": "9da36f93",
   "metadata": {},
   "outputs": [
    {
     "data": {
      "text/plain": [
       "[]"
      ]
     },
     "execution_count": 105,
     "metadata": {},
     "output_type": "execute_result"
    }
   ],
   "source": [
    "pfp[:5]"
   ]
  },
  {
   "cell_type": "code",
   "execution_count": null,
   "id": "63b0805b",
   "metadata": {},
   "outputs": [],
   "source": []
  }
 ],
 "metadata": {
  "kernelspec": {
   "display_name": "Python 3 (ipykernel)",
   "language": "python",
   "name": "python3"
  },
  "language_info": {
   "codemirror_mode": {
    "name": "ipython",
    "version": 3
   },
   "file_extension": ".py",
   "mimetype": "text/x-python",
   "name": "python",
   "nbconvert_exporter": "python",
   "pygments_lexer": "ipython3",
   "version": "3.9.7"
  }
 },
 "nbformat": 4,
 "nbformat_minor": 5
}
