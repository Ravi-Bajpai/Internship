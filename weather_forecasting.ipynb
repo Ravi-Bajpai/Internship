{
 "cells": [
  {
   "cell_type": "code",
   "execution_count": 1,
   "id": "72782878",
   "metadata": {},
   "outputs": [],
   "source": [
    "import pandas as pd\n",
    "import numpy as np\n",
    "from sklearn.preprocessing import StandardScaler\n",
    "from sklearn.linear_model import LinearRegression\n",
    "from sklearn.model_selection import train_test_split\n",
    "import matplotlib.pyplot as plt\n",
    "import seaborn as sns\n",
    "import pickle\n",
    "import warnings\n",
    "warnings.filterwarnings('ignore')"
   ]
  },
  {
   "cell_type": "code",
   "execution_count": 2,
   "id": "99cc9b21",
   "metadata": {},
   "outputs": [
    {
     "data": {
      "text/html": [
       "<div>\n",
       "<style scoped>\n",
       "    .dataframe tbody tr th:only-of-type {\n",
       "        vertical-align: middle;\n",
       "    }\n",
       "\n",
       "    .dataframe tbody tr th {\n",
       "        vertical-align: top;\n",
       "    }\n",
       "\n",
       "    .dataframe thead th {\n",
       "        text-align: right;\n",
       "    }\n",
       "</style>\n",
       "<table border=\"1\" class=\"dataframe\">\n",
       "  <thead>\n",
       "    <tr style=\"text-align: right;\">\n",
       "      <th></th>\n",
       "      <th>Date</th>\n",
       "      <th>Location</th>\n",
       "      <th>MinTemp</th>\n",
       "      <th>MaxTemp</th>\n",
       "      <th>Rainfall</th>\n",
       "      <th>Evaporation</th>\n",
       "      <th>Sunshine</th>\n",
       "      <th>WindGustDir</th>\n",
       "      <th>WindGustSpeed</th>\n",
       "      <th>WindDir9am</th>\n",
       "      <th>...</th>\n",
       "      <th>Humidity9am</th>\n",
       "      <th>Humidity3pm</th>\n",
       "      <th>Pressure9am</th>\n",
       "      <th>Pressure3pm</th>\n",
       "      <th>Cloud9am</th>\n",
       "      <th>Cloud3pm</th>\n",
       "      <th>Temp9am</th>\n",
       "      <th>Temp3pm</th>\n",
       "      <th>RainToday</th>\n",
       "      <th>RainTomorrow</th>\n",
       "    </tr>\n",
       "  </thead>\n",
       "  <tbody>\n",
       "    <tr>\n",
       "      <th>0</th>\n",
       "      <td>2008-12-01</td>\n",
       "      <td>Albury</td>\n",
       "      <td>13.4</td>\n",
       "      <td>22.9</td>\n",
       "      <td>0.6</td>\n",
       "      <td>NaN</td>\n",
       "      <td>NaN</td>\n",
       "      <td>W</td>\n",
       "      <td>44.0</td>\n",
       "      <td>W</td>\n",
       "      <td>...</td>\n",
       "      <td>71.0</td>\n",
       "      <td>22.0</td>\n",
       "      <td>1007.7</td>\n",
       "      <td>1007.1</td>\n",
       "      <td>8.0</td>\n",
       "      <td>NaN</td>\n",
       "      <td>16.9</td>\n",
       "      <td>21.8</td>\n",
       "      <td>No</td>\n",
       "      <td>No</td>\n",
       "    </tr>\n",
       "    <tr>\n",
       "      <th>1</th>\n",
       "      <td>2008-12-02</td>\n",
       "      <td>Albury</td>\n",
       "      <td>7.4</td>\n",
       "      <td>25.1</td>\n",
       "      <td>0.0</td>\n",
       "      <td>NaN</td>\n",
       "      <td>NaN</td>\n",
       "      <td>WNW</td>\n",
       "      <td>44.0</td>\n",
       "      <td>NNW</td>\n",
       "      <td>...</td>\n",
       "      <td>44.0</td>\n",
       "      <td>25.0</td>\n",
       "      <td>1010.6</td>\n",
       "      <td>1007.8</td>\n",
       "      <td>NaN</td>\n",
       "      <td>NaN</td>\n",
       "      <td>17.2</td>\n",
       "      <td>24.3</td>\n",
       "      <td>No</td>\n",
       "      <td>No</td>\n",
       "    </tr>\n",
       "    <tr>\n",
       "      <th>2</th>\n",
       "      <td>2008-12-03</td>\n",
       "      <td>Albury</td>\n",
       "      <td>12.9</td>\n",
       "      <td>25.7</td>\n",
       "      <td>0.0</td>\n",
       "      <td>NaN</td>\n",
       "      <td>NaN</td>\n",
       "      <td>WSW</td>\n",
       "      <td>46.0</td>\n",
       "      <td>W</td>\n",
       "      <td>...</td>\n",
       "      <td>38.0</td>\n",
       "      <td>30.0</td>\n",
       "      <td>1007.6</td>\n",
       "      <td>1008.7</td>\n",
       "      <td>NaN</td>\n",
       "      <td>2.0</td>\n",
       "      <td>21.0</td>\n",
       "      <td>23.2</td>\n",
       "      <td>No</td>\n",
       "      <td>No</td>\n",
       "    </tr>\n",
       "    <tr>\n",
       "      <th>3</th>\n",
       "      <td>2008-12-04</td>\n",
       "      <td>Albury</td>\n",
       "      <td>9.2</td>\n",
       "      <td>28.0</td>\n",
       "      <td>0.0</td>\n",
       "      <td>NaN</td>\n",
       "      <td>NaN</td>\n",
       "      <td>NE</td>\n",
       "      <td>24.0</td>\n",
       "      <td>SE</td>\n",
       "      <td>...</td>\n",
       "      <td>45.0</td>\n",
       "      <td>16.0</td>\n",
       "      <td>1017.6</td>\n",
       "      <td>1012.8</td>\n",
       "      <td>NaN</td>\n",
       "      <td>NaN</td>\n",
       "      <td>18.1</td>\n",
       "      <td>26.5</td>\n",
       "      <td>No</td>\n",
       "      <td>No</td>\n",
       "    </tr>\n",
       "    <tr>\n",
       "      <th>4</th>\n",
       "      <td>2008-12-05</td>\n",
       "      <td>Albury</td>\n",
       "      <td>17.5</td>\n",
       "      <td>32.3</td>\n",
       "      <td>1.0</td>\n",
       "      <td>NaN</td>\n",
       "      <td>NaN</td>\n",
       "      <td>W</td>\n",
       "      <td>41.0</td>\n",
       "      <td>ENE</td>\n",
       "      <td>...</td>\n",
       "      <td>82.0</td>\n",
       "      <td>33.0</td>\n",
       "      <td>1010.8</td>\n",
       "      <td>1006.0</td>\n",
       "      <td>7.0</td>\n",
       "      <td>8.0</td>\n",
       "      <td>17.8</td>\n",
       "      <td>29.7</td>\n",
       "      <td>No</td>\n",
       "      <td>No</td>\n",
       "    </tr>\n",
       "  </tbody>\n",
       "</table>\n",
       "<p>5 rows × 23 columns</p>\n",
       "</div>"
      ],
      "text/plain": [
       "         Date Location  MinTemp  MaxTemp  Rainfall  Evaporation  Sunshine  \\\n",
       "0  2008-12-01   Albury     13.4     22.9       0.6          NaN       NaN   \n",
       "1  2008-12-02   Albury      7.4     25.1       0.0          NaN       NaN   \n",
       "2  2008-12-03   Albury     12.9     25.7       0.0          NaN       NaN   \n",
       "3  2008-12-04   Albury      9.2     28.0       0.0          NaN       NaN   \n",
       "4  2008-12-05   Albury     17.5     32.3       1.0          NaN       NaN   \n",
       "\n",
       "  WindGustDir  WindGustSpeed WindDir9am  ... Humidity9am  Humidity3pm  \\\n",
       "0           W           44.0          W  ...        71.0         22.0   \n",
       "1         WNW           44.0        NNW  ...        44.0         25.0   \n",
       "2         WSW           46.0          W  ...        38.0         30.0   \n",
       "3          NE           24.0         SE  ...        45.0         16.0   \n",
       "4           W           41.0        ENE  ...        82.0         33.0   \n",
       "\n",
       "   Pressure9am  Pressure3pm  Cloud9am  Cloud3pm  Temp9am  Temp3pm  RainToday  \\\n",
       "0       1007.7       1007.1       8.0       NaN     16.9     21.8         No   \n",
       "1       1010.6       1007.8       NaN       NaN     17.2     24.3         No   \n",
       "2       1007.6       1008.7       NaN       2.0     21.0     23.2         No   \n",
       "3       1017.6       1012.8       NaN       NaN     18.1     26.5         No   \n",
       "4       1010.8       1006.0       7.0       8.0     17.8     29.7         No   \n",
       "\n",
       "   RainTomorrow  \n",
       "0            No  \n",
       "1            No  \n",
       "2            No  \n",
       "3            No  \n",
       "4            No  \n",
       "\n",
       "[5 rows x 23 columns]"
      ]
     },
     "execution_count": 2,
     "metadata": {},
     "output_type": "execute_result"
    }
   ],
   "source": [
    "data=pd.read_csv('weatherAUS.csv')\n",
    "data.head()"
   ]
  },
  {
   "cell_type": "code",
   "execution_count": 3,
   "id": "bd1f7835",
   "metadata": {},
   "outputs": [
    {
     "data": {
      "text/plain": [
       "(8425, 23)"
      ]
     },
     "execution_count": 3,
     "metadata": {},
     "output_type": "execute_result"
    }
   ],
   "source": [
    "data.shape"
   ]
  },
  {
   "cell_type": "code",
   "execution_count": 4,
   "id": "5f757200",
   "metadata": {},
   "outputs": [
    {
     "name": "stdout",
     "output_type": "stream",
     "text": [
      "<class 'pandas.core.frame.DataFrame'>\n",
      "RangeIndex: 8425 entries, 0 to 8424\n",
      "Data columns (total 23 columns):\n",
      " #   Column         Non-Null Count  Dtype  \n",
      "---  ------         --------------  -----  \n",
      " 0   Date           8425 non-null   object \n",
      " 1   Location       8425 non-null   object \n",
      " 2   MinTemp        8350 non-null   float64\n",
      " 3   MaxTemp        8365 non-null   float64\n",
      " 4   Rainfall       8185 non-null   float64\n",
      " 5   Evaporation    4913 non-null   float64\n",
      " 6   Sunshine       4431 non-null   float64\n",
      " 7   WindGustDir    7434 non-null   object \n",
      " 8   WindGustSpeed  7434 non-null   float64\n",
      " 9   WindDir9am     7596 non-null   object \n",
      " 10  WindDir3pm     8117 non-null   object \n",
      " 11  WindSpeed9am   8349 non-null   float64\n",
      " 12  WindSpeed3pm   8318 non-null   float64\n",
      " 13  Humidity9am    8366 non-null   float64\n",
      " 14  Humidity3pm    8323 non-null   float64\n",
      " 15  Pressure9am    7116 non-null   float64\n",
      " 16  Pressure3pm    7113 non-null   float64\n",
      " 17  Cloud9am       6004 non-null   float64\n",
      " 18  Cloud3pm       5970 non-null   float64\n",
      " 19  Temp9am        8369 non-null   float64\n",
      " 20  Temp3pm        8329 non-null   float64\n",
      " 21  RainToday      8185 non-null   object \n",
      " 22  RainTomorrow   8186 non-null   object \n",
      "dtypes: float64(16), object(7)\n",
      "memory usage: 1.5+ MB\n"
     ]
    }
   ],
   "source": [
    "data.info()"
   ]
  },
  {
   "cell_type": "code",
   "execution_count": 5,
   "id": "9b7e5d60",
   "metadata": {},
   "outputs": [
    {
     "data": {
      "text/plain": [
       "Date                0\n",
       "Location            0\n",
       "MinTemp            75\n",
       "MaxTemp            60\n",
       "Rainfall          240\n",
       "Evaporation      3512\n",
       "Sunshine         3994\n",
       "WindGustDir       991\n",
       "WindGustSpeed     991\n",
       "WindDir9am        829\n",
       "WindDir3pm        308\n",
       "WindSpeed9am       76\n",
       "WindSpeed3pm      107\n",
       "Humidity9am        59\n",
       "Humidity3pm       102\n",
       "Pressure9am      1309\n",
       "Pressure3pm      1312\n",
       "Cloud9am         2421\n",
       "Cloud3pm         2455\n",
       "Temp9am            56\n",
       "Temp3pm            96\n",
       "RainToday         240\n",
       "RainTomorrow      239\n",
       "dtype: int64"
      ]
     },
     "execution_count": 5,
     "metadata": {},
     "output_type": "execute_result"
    }
   ],
   "source": [
    "data.isnull().sum()"
   ]
  },
  {
   "cell_type": "code",
   "execution_count": 6,
   "id": "2098ed35",
   "metadata": {},
   "outputs": [],
   "source": [
    "data=data.dropna(subset=['Rainfall','RainTomorrow'])"
   ]
  },
  {
   "cell_type": "markdown",
   "id": "c1e9543a",
   "metadata": {},
   "source": [
    "droping the na rows from label columns "
   ]
  },
  {
   "cell_type": "code",
   "execution_count": 7,
   "id": "33728ebc",
   "metadata": {},
   "outputs": [
    {
     "data": {
      "text/plain": [
       "(8079, 23)"
      ]
     },
     "execution_count": 7,
     "metadata": {},
     "output_type": "execute_result"
    }
   ],
   "source": [
    "data.shape"
   ]
  },
  {
   "cell_type": "code",
   "execution_count": 8,
   "id": "6cf4cdbd",
   "metadata": {},
   "outputs": [
    {
     "data": {
      "text/plain": [
       "Date                0\n",
       "Location            0\n",
       "MinTemp            48\n",
       "MaxTemp            34\n",
       "Rainfall            0\n",
       "Evaporation      3377\n",
       "Sunshine         3839\n",
       "WindGustDir       945\n",
       "WindGustSpeed     945\n",
       "WindDir9am        795\n",
       "WindDir3pm        283\n",
       "WindSpeed9am       49\n",
       "WindSpeed3pm       83\n",
       "Humidity9am        36\n",
       "Humidity3pm        80\n",
       "Pressure9am      1285\n",
       "Pressure3pm      1286\n",
       "Cloud9am         2207\n",
       "Cloud3pm         2247\n",
       "Temp9am            33\n",
       "Temp3pm            74\n",
       "RainToday           0\n",
       "RainTomorrow        0\n",
       "dtype: int64"
      ]
     },
     "execution_count": 8,
     "metadata": {},
     "output_type": "execute_result"
    }
   ],
   "source": [
    "data.isnull().sum()"
   ]
  },
  {
   "cell_type": "code",
   "execution_count": 9,
   "id": "ab660a89",
   "metadata": {},
   "outputs": [],
   "source": [
    "#data=data.drop(['Date','Location'],axis=1)"
   ]
  },
  {
   "cell_type": "code",
   "execution_count": 10,
   "id": "d850b9ce",
   "metadata": {},
   "outputs": [],
   "source": [
    "data['Day']=pd.to_datetime(data.Date,format=\"%Y/%m/%d\").dt.year"
   ]
  },
  {
   "cell_type": "code",
   "execution_count": 11,
   "id": "2280f931",
   "metadata": {},
   "outputs": [],
   "source": [
    "data['month']=pd.to_datetime(data.Date,format=\"%Y/%m/%d\").dt.month"
   ]
  },
  {
   "cell_type": "code",
   "execution_count": 12,
   "id": "a42cd0a6",
   "metadata": {},
   "outputs": [],
   "source": [
    "data=data.drop(['Date'],axis=1)"
   ]
  },
  {
   "cell_type": "code",
   "execution_count": null,
   "id": "5b9707f3",
   "metadata": {},
   "outputs": [],
   "source": []
  },
  {
   "cell_type": "code",
   "execution_count": 13,
   "id": "57d0443c",
   "metadata": {},
   "outputs": [],
   "source": [
    "from sklearn.preprocessing import LabelEncoder"
   ]
  },
  {
   "cell_type": "code",
   "execution_count": 14,
   "id": "7be67efe",
   "metadata": {},
   "outputs": [],
   "source": [
    "lab_enc=LabelEncoder()\n",
    "df=lab_enc.fit_transform(data['WindGustDir'])\n",
    "data['WindGustDir']=df"
   ]
  },
  {
   "cell_type": "code",
   "execution_count": 15,
   "id": "4de0ef0c",
   "metadata": {},
   "outputs": [],
   "source": [
    "lab_enc=LabelEncoder()\n",
    "df1=lab_enc.fit_transform(data['WindDir9am'])\n",
    "data['WindDir9am']=df1"
   ]
  },
  {
   "cell_type": "code",
   "execution_count": 16,
   "id": "2da67fa0",
   "metadata": {},
   "outputs": [],
   "source": [
    "lab_enc=LabelEncoder()\n",
    "df2=lab_enc.fit_transform(data['WindDir3pm'])\n",
    "data['WindDir3pm']=df2"
   ]
  },
  {
   "cell_type": "code",
   "execution_count": 17,
   "id": "2f9667bc",
   "metadata": {},
   "outputs": [],
   "source": [
    "lab_enc=LabelEncoder()\n",
    "df3=lab_enc.fit_transform(data['RainToday'])\n",
    "data['RainToday']=df3"
   ]
  },
  {
   "cell_type": "code",
   "execution_count": 18,
   "id": "f9df8ad7",
   "metadata": {},
   "outputs": [],
   "source": [
    "lab_enc=LabelEncoder()\n",
    "df4=lab_enc.fit_transform(data['RainTomorrow'])\n",
    "data['RainTomorrow']=df4"
   ]
  },
  {
   "cell_type": "code",
   "execution_count": 19,
   "id": "e331483d",
   "metadata": {},
   "outputs": [],
   "source": [
    "lab_enc=LabelEncoder()\n",
    "df5=lab_enc.fit_transform(data['Location'])\n",
    "data['Location']=df5"
   ]
  },
  {
   "cell_type": "markdown",
   "id": "4063c1dc",
   "metadata": {},
   "source": [
    "applying the knn imputers to fill the values "
   ]
  },
  {
   "cell_type": "code",
   "execution_count": 20,
   "id": "e29798a9",
   "metadata": {},
   "outputs": [],
   "source": [
    "from sklearn.impute import KNNImputer "
   ]
  },
  {
   "cell_type": "code",
   "execution_count": 21,
   "id": "4ec83b50",
   "metadata": {},
   "outputs": [
    {
     "data": {
      "text/html": [
       "<div>\n",
       "<style scoped>\n",
       "    .dataframe tbody tr th:only-of-type {\n",
       "        vertical-align: middle;\n",
       "    }\n",
       "\n",
       "    .dataframe tbody tr th {\n",
       "        vertical-align: top;\n",
       "    }\n",
       "\n",
       "    .dataframe thead th {\n",
       "        text-align: right;\n",
       "    }\n",
       "</style>\n",
       "<table border=\"1\" class=\"dataframe\">\n",
       "  <thead>\n",
       "    <tr style=\"text-align: right;\">\n",
       "      <th></th>\n",
       "      <th>0</th>\n",
       "      <th>1</th>\n",
       "      <th>2</th>\n",
       "      <th>3</th>\n",
       "      <th>4</th>\n",
       "      <th>5</th>\n",
       "      <th>6</th>\n",
       "      <th>7</th>\n",
       "      <th>8</th>\n",
       "      <th>9</th>\n",
       "      <th>10</th>\n",
       "      <th>11</th>\n",
       "      <th>12</th>\n",
       "      <th>13</th>\n",
       "      <th>14</th>\n",
       "      <th>15</th>\n",
       "      <th>16</th>\n",
       "      <th>17</th>\n",
       "    </tr>\n",
       "  </thead>\n",
       "  <tbody>\n",
       "    <tr>\n",
       "      <th>0</th>\n",
       "      <td>13.4</td>\n",
       "      <td>22.9</td>\n",
       "      <td>18.600000</td>\n",
       "      <td>9.466667</td>\n",
       "      <td>13.0</td>\n",
       "      <td>44.0</td>\n",
       "      <td>13.0</td>\n",
       "      <td>14.0</td>\n",
       "      <td>20.0</td>\n",
       "      <td>24.0</td>\n",
       "      <td>71.0</td>\n",
       "      <td>22.0</td>\n",
       "      <td>1007.7</td>\n",
       "      <td>1007.1</td>\n",
       "      <td>8.000000</td>\n",
       "      <td>2.666667</td>\n",
       "      <td>16.9</td>\n",
       "      <td>21.8</td>\n",
       "    </tr>\n",
       "    <tr>\n",
       "      <th>1</th>\n",
       "      <td>7.4</td>\n",
       "      <td>25.1</td>\n",
       "      <td>4.800000</td>\n",
       "      <td>10.066667</td>\n",
       "      <td>14.0</td>\n",
       "      <td>44.0</td>\n",
       "      <td>6.0</td>\n",
       "      <td>15.0</td>\n",
       "      <td>4.0</td>\n",
       "      <td>22.0</td>\n",
       "      <td>44.0</td>\n",
       "      <td>25.0</td>\n",
       "      <td>1010.6</td>\n",
       "      <td>1007.8</td>\n",
       "      <td>0.666667</td>\n",
       "      <td>1.333333</td>\n",
       "      <td>17.2</td>\n",
       "      <td>24.3</td>\n",
       "    </tr>\n",
       "    <tr>\n",
       "      <th>2</th>\n",
       "      <td>12.9</td>\n",
       "      <td>25.7</td>\n",
       "      <td>5.133333</td>\n",
       "      <td>11.666667</td>\n",
       "      <td>15.0</td>\n",
       "      <td>46.0</td>\n",
       "      <td>13.0</td>\n",
       "      <td>15.0</td>\n",
       "      <td>19.0</td>\n",
       "      <td>26.0</td>\n",
       "      <td>38.0</td>\n",
       "      <td>30.0</td>\n",
       "      <td>1007.6</td>\n",
       "      <td>1008.7</td>\n",
       "      <td>1.000000</td>\n",
       "      <td>2.000000</td>\n",
       "      <td>21.0</td>\n",
       "      <td>23.2</td>\n",
       "    </tr>\n",
       "    <tr>\n",
       "      <th>3</th>\n",
       "      <td>9.2</td>\n",
       "      <td>28.0</td>\n",
       "      <td>4.800000</td>\n",
       "      <td>11.200000</td>\n",
       "      <td>4.0</td>\n",
       "      <td>24.0</td>\n",
       "      <td>9.0</td>\n",
       "      <td>0.0</td>\n",
       "      <td>11.0</td>\n",
       "      <td>9.0</td>\n",
       "      <td>45.0</td>\n",
       "      <td>16.0</td>\n",
       "      <td>1017.6</td>\n",
       "      <td>1012.8</td>\n",
       "      <td>1.000000</td>\n",
       "      <td>1.333333</td>\n",
       "      <td>18.1</td>\n",
       "      <td>26.5</td>\n",
       "    </tr>\n",
       "    <tr>\n",
       "      <th>4</th>\n",
       "      <td>17.5</td>\n",
       "      <td>32.3</td>\n",
       "      <td>3.133333</td>\n",
       "      <td>8.833333</td>\n",
       "      <td>13.0</td>\n",
       "      <td>41.0</td>\n",
       "      <td>1.0</td>\n",
       "      <td>7.0</td>\n",
       "      <td>7.0</td>\n",
       "      <td>20.0</td>\n",
       "      <td>82.0</td>\n",
       "      <td>33.0</td>\n",
       "      <td>1010.8</td>\n",
       "      <td>1006.0</td>\n",
       "      <td>7.000000</td>\n",
       "      <td>8.000000</td>\n",
       "      <td>17.8</td>\n",
       "      <td>29.7</td>\n",
       "    </tr>\n",
       "    <tr>\n",
       "      <th>...</th>\n",
       "      <td>...</td>\n",
       "      <td>...</td>\n",
       "      <td>...</td>\n",
       "      <td>...</td>\n",
       "      <td>...</td>\n",
       "      <td>...</td>\n",
       "      <td>...</td>\n",
       "      <td>...</td>\n",
       "      <td>...</td>\n",
       "      <td>...</td>\n",
       "      <td>...</td>\n",
       "      <td>...</td>\n",
       "      <td>...</td>\n",
       "      <td>...</td>\n",
       "      <td>...</td>\n",
       "      <td>...</td>\n",
       "      <td>...</td>\n",
       "      <td>...</td>\n",
       "    </tr>\n",
       "    <tr>\n",
       "      <th>8074</th>\n",
       "      <td>3.5</td>\n",
       "      <td>21.8</td>\n",
       "      <td>1.933333</td>\n",
       "      <td>9.500000</td>\n",
       "      <td>0.0</td>\n",
       "      <td>31.0</td>\n",
       "      <td>2.0</td>\n",
       "      <td>0.0</td>\n",
       "      <td>15.0</td>\n",
       "      <td>13.0</td>\n",
       "      <td>59.0</td>\n",
       "      <td>27.0</td>\n",
       "      <td>1024.7</td>\n",
       "      <td>1021.2</td>\n",
       "      <td>0.666667</td>\n",
       "      <td>2.666667</td>\n",
       "      <td>9.4</td>\n",
       "      <td>20.9</td>\n",
       "    </tr>\n",
       "    <tr>\n",
       "      <th>8075</th>\n",
       "      <td>2.8</td>\n",
       "      <td>23.4</td>\n",
       "      <td>2.400000</td>\n",
       "      <td>9.600000</td>\n",
       "      <td>0.0</td>\n",
       "      <td>31.0</td>\n",
       "      <td>9.0</td>\n",
       "      <td>1.0</td>\n",
       "      <td>13.0</td>\n",
       "      <td>11.0</td>\n",
       "      <td>51.0</td>\n",
       "      <td>24.0</td>\n",
       "      <td>1024.6</td>\n",
       "      <td>1020.3</td>\n",
       "      <td>1.333333</td>\n",
       "      <td>2.666667</td>\n",
       "      <td>10.1</td>\n",
       "      <td>22.4</td>\n",
       "    </tr>\n",
       "    <tr>\n",
       "      <th>8076</th>\n",
       "      <td>3.6</td>\n",
       "      <td>25.3</td>\n",
       "      <td>4.000000</td>\n",
       "      <td>10.166667</td>\n",
       "      <td>6.0</td>\n",
       "      <td>22.0</td>\n",
       "      <td>9.0</td>\n",
       "      <td>3.0</td>\n",
       "      <td>13.0</td>\n",
       "      <td>9.0</td>\n",
       "      <td>56.0</td>\n",
       "      <td>21.0</td>\n",
       "      <td>1023.5</td>\n",
       "      <td>1019.1</td>\n",
       "      <td>1.000000</td>\n",
       "      <td>1.000000</td>\n",
       "      <td>10.9</td>\n",
       "      <td>24.5</td>\n",
       "    </tr>\n",
       "    <tr>\n",
       "      <th>8077</th>\n",
       "      <td>5.4</td>\n",
       "      <td>26.9</td>\n",
       "      <td>3.266667</td>\n",
       "      <td>10.333333</td>\n",
       "      <td>3.0</td>\n",
       "      <td>37.0</td>\n",
       "      <td>9.0</td>\n",
       "      <td>14.0</td>\n",
       "      <td>9.0</td>\n",
       "      <td>9.0</td>\n",
       "      <td>53.0</td>\n",
       "      <td>24.0</td>\n",
       "      <td>1021.0</td>\n",
       "      <td>1016.8</td>\n",
       "      <td>0.333333</td>\n",
       "      <td>0.666667</td>\n",
       "      <td>12.5</td>\n",
       "      <td>26.1</td>\n",
       "    </tr>\n",
       "    <tr>\n",
       "      <th>8078</th>\n",
       "      <td>7.8</td>\n",
       "      <td>27.0</td>\n",
       "      <td>5.000000</td>\n",
       "      <td>11.866667</td>\n",
       "      <td>9.0</td>\n",
       "      <td>28.0</td>\n",
       "      <td>10.0</td>\n",
       "      <td>3.0</td>\n",
       "      <td>13.0</td>\n",
       "      <td>7.0</td>\n",
       "      <td>51.0</td>\n",
       "      <td>24.0</td>\n",
       "      <td>1019.4</td>\n",
       "      <td>1016.5</td>\n",
       "      <td>3.000000</td>\n",
       "      <td>2.000000</td>\n",
       "      <td>15.1</td>\n",
       "      <td>26.0</td>\n",
       "    </tr>\n",
       "  </tbody>\n",
       "</table>\n",
       "<p>8079 rows × 18 columns</p>\n",
       "</div>"
      ],
      "text/plain": [
       "        0     1          2          3     4     5     6     7     8     9   \\\n",
       "0     13.4  22.9  18.600000   9.466667  13.0  44.0  13.0  14.0  20.0  24.0   \n",
       "1      7.4  25.1   4.800000  10.066667  14.0  44.0   6.0  15.0   4.0  22.0   \n",
       "2     12.9  25.7   5.133333  11.666667  15.0  46.0  13.0  15.0  19.0  26.0   \n",
       "3      9.2  28.0   4.800000  11.200000   4.0  24.0   9.0   0.0  11.0   9.0   \n",
       "4     17.5  32.3   3.133333   8.833333  13.0  41.0   1.0   7.0   7.0  20.0   \n",
       "...    ...   ...        ...        ...   ...   ...   ...   ...   ...   ...   \n",
       "8074   3.5  21.8   1.933333   9.500000   0.0  31.0   2.0   0.0  15.0  13.0   \n",
       "8075   2.8  23.4   2.400000   9.600000   0.0  31.0   9.0   1.0  13.0  11.0   \n",
       "8076   3.6  25.3   4.000000  10.166667   6.0  22.0   9.0   3.0  13.0   9.0   \n",
       "8077   5.4  26.9   3.266667  10.333333   3.0  37.0   9.0  14.0   9.0   9.0   \n",
       "8078   7.8  27.0   5.000000  11.866667   9.0  28.0  10.0   3.0  13.0   7.0   \n",
       "\n",
       "        10    11      12      13        14        15    16    17  \n",
       "0     71.0  22.0  1007.7  1007.1  8.000000  2.666667  16.9  21.8  \n",
       "1     44.0  25.0  1010.6  1007.8  0.666667  1.333333  17.2  24.3  \n",
       "2     38.0  30.0  1007.6  1008.7  1.000000  2.000000  21.0  23.2  \n",
       "3     45.0  16.0  1017.6  1012.8  1.000000  1.333333  18.1  26.5  \n",
       "4     82.0  33.0  1010.8  1006.0  7.000000  8.000000  17.8  29.7  \n",
       "...    ...   ...     ...     ...       ...       ...   ...   ...  \n",
       "8074  59.0  27.0  1024.7  1021.2  0.666667  2.666667   9.4  20.9  \n",
       "8075  51.0  24.0  1024.6  1020.3  1.333333  2.666667  10.1  22.4  \n",
       "8076  56.0  21.0  1023.5  1019.1  1.000000  1.000000  10.9  24.5  \n",
       "8077  53.0  24.0  1021.0  1016.8  0.333333  0.666667  12.5  26.1  \n",
       "8078  51.0  24.0  1019.4  1016.5  3.000000  2.000000  15.1  26.0  \n",
       "\n",
       "[8079 rows x 18 columns]"
      ]
     },
     "execution_count": 21,
     "metadata": {},
     "output_type": "execute_result"
    }
   ],
   "source": [
    "knnimp=KNNImputer(n_neighbors=3)\n",
    "knn_imp=pd.DataFrame(knnimp.fit_transform(data[['MinTemp', 'MaxTemp', 'Evaporation',\n",
    "       'Sunshine', 'WindGustDir', 'WindGustSpeed', 'WindDir9am', 'WindDir3pm',\n",
    "       'WindSpeed9am', 'WindSpeed3pm', 'Humidity9am', 'Humidity3pm',\n",
    "       'Pressure9am', 'Pressure3pm', 'Cloud9am', 'Cloud3pm', 'Temp9am',\n",
    "       'Temp3pm']]))\n",
    "knn_imp"
   ]
  },
  {
   "cell_type": "code",
   "execution_count": 22,
   "id": "a5c9364e",
   "metadata": {},
   "outputs": [
    {
     "data": {
      "text/plain": [
       "0     0\n",
       "1     0\n",
       "2     0\n",
       "3     0\n",
       "4     0\n",
       "5     0\n",
       "6     0\n",
       "7     0\n",
       "8     0\n",
       "9     0\n",
       "10    0\n",
       "11    0\n",
       "12    0\n",
       "13    0\n",
       "14    0\n",
       "15    0\n",
       "16    0\n",
       "17    0\n",
       "dtype: int64"
      ]
     },
     "execution_count": 22,
     "metadata": {},
     "output_type": "execute_result"
    }
   ],
   "source": [
    "knn_imp.isnull().sum()"
   ]
  },
  {
   "cell_type": "code",
   "execution_count": 23,
   "id": "492af1df",
   "metadata": {},
   "outputs": [],
   "source": [
    "data[['MinTemp', 'MaxTemp', 'Evaporation',\n",
    "       'Sunshine', 'WindGustDir', 'WindGustSpeed', 'WindDir9am', 'WindDir3pm',\n",
    "       'WindSpeed9am', 'WindSpeed3pm', 'Humidity9am', 'Humidity3pm',\n",
    "       'Pressure9am', 'Pressure3pm', 'Cloud9am', 'Cloud3pm', 'Temp9am',\n",
    "       'Temp3pm']]=knn_imp"
   ]
  },
  {
   "cell_type": "code",
   "execution_count": 24,
   "id": "fbbff8fb",
   "metadata": {},
   "outputs": [
    {
     "data": {
      "text/html": [
       "<div>\n",
       "<style scoped>\n",
       "    .dataframe tbody tr th:only-of-type {\n",
       "        vertical-align: middle;\n",
       "    }\n",
       "\n",
       "    .dataframe tbody tr th {\n",
       "        vertical-align: top;\n",
       "    }\n",
       "\n",
       "    .dataframe thead th {\n",
       "        text-align: right;\n",
       "    }\n",
       "</style>\n",
       "<table border=\"1\" class=\"dataframe\">\n",
       "  <thead>\n",
       "    <tr style=\"text-align: right;\">\n",
       "      <th></th>\n",
       "      <th>Location</th>\n",
       "      <th>MinTemp</th>\n",
       "      <th>MaxTemp</th>\n",
       "      <th>Rainfall</th>\n",
       "      <th>Evaporation</th>\n",
       "      <th>Sunshine</th>\n",
       "      <th>WindGustDir</th>\n",
       "      <th>WindGustSpeed</th>\n",
       "      <th>WindDir9am</th>\n",
       "      <th>WindDir3pm</th>\n",
       "      <th>...</th>\n",
       "      <th>Pressure9am</th>\n",
       "      <th>Pressure3pm</th>\n",
       "      <th>Cloud9am</th>\n",
       "      <th>Cloud3pm</th>\n",
       "      <th>Temp9am</th>\n",
       "      <th>Temp3pm</th>\n",
       "      <th>RainToday</th>\n",
       "      <th>RainTomorrow</th>\n",
       "      <th>Day</th>\n",
       "      <th>month</th>\n",
       "    </tr>\n",
       "  </thead>\n",
       "  <tbody>\n",
       "    <tr>\n",
       "      <th>0</th>\n",
       "      <td>1</td>\n",
       "      <td>13.4</td>\n",
       "      <td>22.9</td>\n",
       "      <td>0.6</td>\n",
       "      <td>18.600000</td>\n",
       "      <td>9.466667</td>\n",
       "      <td>13.0</td>\n",
       "      <td>44.0</td>\n",
       "      <td>13.0</td>\n",
       "      <td>14.0</td>\n",
       "      <td>...</td>\n",
       "      <td>1007.7</td>\n",
       "      <td>1007.1</td>\n",
       "      <td>8.000000</td>\n",
       "      <td>2.666667</td>\n",
       "      <td>16.9</td>\n",
       "      <td>21.8</td>\n",
       "      <td>0</td>\n",
       "      <td>0</td>\n",
       "      <td>2008</td>\n",
       "      <td>12</td>\n",
       "    </tr>\n",
       "    <tr>\n",
       "      <th>1</th>\n",
       "      <td>1</td>\n",
       "      <td>7.4</td>\n",
       "      <td>25.1</td>\n",
       "      <td>0.0</td>\n",
       "      <td>4.800000</td>\n",
       "      <td>10.066667</td>\n",
       "      <td>14.0</td>\n",
       "      <td>44.0</td>\n",
       "      <td>6.0</td>\n",
       "      <td>15.0</td>\n",
       "      <td>...</td>\n",
       "      <td>1010.6</td>\n",
       "      <td>1007.8</td>\n",
       "      <td>0.666667</td>\n",
       "      <td>1.333333</td>\n",
       "      <td>17.2</td>\n",
       "      <td>24.3</td>\n",
       "      <td>0</td>\n",
       "      <td>0</td>\n",
       "      <td>2008</td>\n",
       "      <td>12</td>\n",
       "    </tr>\n",
       "    <tr>\n",
       "      <th>2</th>\n",
       "      <td>1</td>\n",
       "      <td>12.9</td>\n",
       "      <td>25.7</td>\n",
       "      <td>0.0</td>\n",
       "      <td>5.133333</td>\n",
       "      <td>11.666667</td>\n",
       "      <td>15.0</td>\n",
       "      <td>46.0</td>\n",
       "      <td>13.0</td>\n",
       "      <td>15.0</td>\n",
       "      <td>...</td>\n",
       "      <td>1007.6</td>\n",
       "      <td>1008.7</td>\n",
       "      <td>1.000000</td>\n",
       "      <td>2.000000</td>\n",
       "      <td>21.0</td>\n",
       "      <td>23.2</td>\n",
       "      <td>0</td>\n",
       "      <td>0</td>\n",
       "      <td>2008</td>\n",
       "      <td>12</td>\n",
       "    </tr>\n",
       "    <tr>\n",
       "      <th>3</th>\n",
       "      <td>1</td>\n",
       "      <td>9.2</td>\n",
       "      <td>28.0</td>\n",
       "      <td>0.0</td>\n",
       "      <td>4.800000</td>\n",
       "      <td>11.200000</td>\n",
       "      <td>4.0</td>\n",
       "      <td>24.0</td>\n",
       "      <td>9.0</td>\n",
       "      <td>0.0</td>\n",
       "      <td>...</td>\n",
       "      <td>1017.6</td>\n",
       "      <td>1012.8</td>\n",
       "      <td>1.000000</td>\n",
       "      <td>1.333333</td>\n",
       "      <td>18.1</td>\n",
       "      <td>26.5</td>\n",
       "      <td>0</td>\n",
       "      <td>0</td>\n",
       "      <td>2008</td>\n",
       "      <td>12</td>\n",
       "    </tr>\n",
       "    <tr>\n",
       "      <th>4</th>\n",
       "      <td>1</td>\n",
       "      <td>17.5</td>\n",
       "      <td>32.3</td>\n",
       "      <td>1.0</td>\n",
       "      <td>3.133333</td>\n",
       "      <td>8.833333</td>\n",
       "      <td>13.0</td>\n",
       "      <td>41.0</td>\n",
       "      <td>1.0</td>\n",
       "      <td>7.0</td>\n",
       "      <td>...</td>\n",
       "      <td>1010.8</td>\n",
       "      <td>1006.0</td>\n",
       "      <td>7.000000</td>\n",
       "      <td>8.000000</td>\n",
       "      <td>17.8</td>\n",
       "      <td>29.7</td>\n",
       "      <td>0</td>\n",
       "      <td>0</td>\n",
       "      <td>2008</td>\n",
       "      <td>12</td>\n",
       "    </tr>\n",
       "  </tbody>\n",
       "</table>\n",
       "<p>5 rows × 24 columns</p>\n",
       "</div>"
      ],
      "text/plain": [
       "   Location  MinTemp  MaxTemp  Rainfall  Evaporation   Sunshine  WindGustDir  \\\n",
       "0         1     13.4     22.9       0.6    18.600000   9.466667         13.0   \n",
       "1         1      7.4     25.1       0.0     4.800000  10.066667         14.0   \n",
       "2         1     12.9     25.7       0.0     5.133333  11.666667         15.0   \n",
       "3         1      9.2     28.0       0.0     4.800000  11.200000          4.0   \n",
       "4         1     17.5     32.3       1.0     3.133333   8.833333         13.0   \n",
       "\n",
       "   WindGustSpeed  WindDir9am  WindDir3pm  ...  Pressure9am  Pressure3pm  \\\n",
       "0           44.0        13.0        14.0  ...       1007.7       1007.1   \n",
       "1           44.0         6.0        15.0  ...       1010.6       1007.8   \n",
       "2           46.0        13.0        15.0  ...       1007.6       1008.7   \n",
       "3           24.0         9.0         0.0  ...       1017.6       1012.8   \n",
       "4           41.0         1.0         7.0  ...       1010.8       1006.0   \n",
       "\n",
       "   Cloud9am  Cloud3pm  Temp9am  Temp3pm  RainToday  RainTomorrow   Day  month  \n",
       "0  8.000000  2.666667     16.9     21.8          0             0  2008     12  \n",
       "1  0.666667  1.333333     17.2     24.3          0             0  2008     12  \n",
       "2  1.000000  2.000000     21.0     23.2          0             0  2008     12  \n",
       "3  1.000000  1.333333     18.1     26.5          0             0  2008     12  \n",
       "4  7.000000  8.000000     17.8     29.7          0             0  2008     12  \n",
       "\n",
       "[5 rows x 24 columns]"
      ]
     },
     "execution_count": 24,
     "metadata": {},
     "output_type": "execute_result"
    }
   ],
   "source": [
    "data.head()"
   ]
  },
  {
   "cell_type": "code",
   "execution_count": 25,
   "id": "9229734b",
   "metadata": {},
   "outputs": [
    {
     "data": {
      "text/plain": [
       "Location           0\n",
       "MinTemp          345\n",
       "MaxTemp          345\n",
       "Rainfall           0\n",
       "Evaporation      345\n",
       "Sunshine         345\n",
       "WindGustDir      345\n",
       "WindGustSpeed    345\n",
       "WindDir9am       345\n",
       "WindDir3pm       345\n",
       "WindSpeed9am     345\n",
       "WindSpeed3pm     345\n",
       "Humidity9am      345\n",
       "Humidity3pm      345\n",
       "Pressure9am      345\n",
       "Pressure3pm      345\n",
       "Cloud9am         345\n",
       "Cloud3pm         345\n",
       "Temp9am          345\n",
       "Temp3pm          345\n",
       "RainToday          0\n",
       "RainTomorrow       0\n",
       "Day                0\n",
       "month              0\n",
       "dtype: int64"
      ]
     },
     "execution_count": 25,
     "metadata": {},
     "output_type": "execute_result"
    }
   ],
   "source": [
    "data.isnull().sum()"
   ]
  },
  {
   "cell_type": "code",
   "execution_count": 26,
   "id": "7626e62b",
   "metadata": {},
   "outputs": [],
   "source": [
    "data=data.dropna(subset=['MinTemp','MaxTemp','Evaporation',\n",
    "       'Sunshine','WindGustDir','WindGustSpeed','WindDir9am','WindDir3pm',\n",
    "       'WindSpeed9am','WindSpeed3pm','Humidity9am','Humidity3pm',\n",
    "       'Pressure9am','Pressure3pm','Cloud9am','Cloud3pm','Temp9am',\n",
    "       'Temp3pm'])"
   ]
  },
  {
   "cell_type": "code",
   "execution_count": 27,
   "id": "83b43e6b",
   "metadata": {},
   "outputs": [
    {
     "data": {
      "text/plain": [
       "(7734, 24)"
      ]
     },
     "execution_count": 27,
     "metadata": {},
     "output_type": "execute_result"
    }
   ],
   "source": [
    "data.shape"
   ]
  },
  {
   "cell_type": "code",
   "execution_count": 28,
   "id": "f9791302",
   "metadata": {},
   "outputs": [
    {
     "data": {
      "text/html": [
       "<div>\n",
       "<style scoped>\n",
       "    .dataframe tbody tr th:only-of-type {\n",
       "        vertical-align: middle;\n",
       "    }\n",
       "\n",
       "    .dataframe tbody tr th {\n",
       "        vertical-align: top;\n",
       "    }\n",
       "\n",
       "    .dataframe thead th {\n",
       "        text-align: right;\n",
       "    }\n",
       "</style>\n",
       "<table border=\"1\" class=\"dataframe\">\n",
       "  <thead>\n",
       "    <tr style=\"text-align: right;\">\n",
       "      <th></th>\n",
       "      <th>Location</th>\n",
       "      <th>MinTemp</th>\n",
       "      <th>MaxTemp</th>\n",
       "      <th>Rainfall</th>\n",
       "      <th>Evaporation</th>\n",
       "      <th>Sunshine</th>\n",
       "      <th>WindGustDir</th>\n",
       "      <th>WindGustSpeed</th>\n",
       "      <th>WindDir9am</th>\n",
       "      <th>WindDir3pm</th>\n",
       "      <th>...</th>\n",
       "      <th>Pressure9am</th>\n",
       "      <th>Pressure3pm</th>\n",
       "      <th>Cloud9am</th>\n",
       "      <th>Cloud3pm</th>\n",
       "      <th>Temp9am</th>\n",
       "      <th>Temp3pm</th>\n",
       "      <th>RainToday</th>\n",
       "      <th>RainTomorrow</th>\n",
       "      <th>Day</th>\n",
       "      <th>month</th>\n",
       "    </tr>\n",
       "  </thead>\n",
       "  <tbody>\n",
       "    <tr>\n",
       "      <th>count</th>\n",
       "      <td>7734.000000</td>\n",
       "      <td>7734.000000</td>\n",
       "      <td>7734.000000</td>\n",
       "      <td>7734.000000</td>\n",
       "      <td>7734.000000</td>\n",
       "      <td>7734.000000</td>\n",
       "      <td>7734.000000</td>\n",
       "      <td>7734.000000</td>\n",
       "      <td>7734.000000</td>\n",
       "      <td>7734.000000</td>\n",
       "      <td>...</td>\n",
       "      <td>7734.000000</td>\n",
       "      <td>7734.000000</td>\n",
       "      <td>7734.000000</td>\n",
       "      <td>7734.000000</td>\n",
       "      <td>7734.000000</td>\n",
       "      <td>7734.000000</td>\n",
       "      <td>7734.000000</td>\n",
       "      <td>7734.000000</td>\n",
       "      <td>7734.000000</td>\n",
       "      <td>7734.000000</td>\n",
       "    </tr>\n",
       "    <tr>\n",
       "      <th>mean</th>\n",
       "      <td>5.800362</td>\n",
       "      <td>13.076804</td>\n",
       "      <td>23.828648</td>\n",
       "      <td>2.818981</td>\n",
       "      <td>5.178153</td>\n",
       "      <td>7.399629</td>\n",
       "      <td>8.741660</td>\n",
       "      <td>39.327817</td>\n",
       "      <td>8.507499</td>\n",
       "      <td>8.073054</td>\n",
       "      <td>...</td>\n",
       "      <td>1017.781721</td>\n",
       "      <td>1015.312525</td>\n",
       "      <td>4.281140</td>\n",
       "      <td>4.310275</td>\n",
       "      <td>17.701569</td>\n",
       "      <td>22.394462</td>\n",
       "      <td>0.246444</td>\n",
       "      <td>0.242048</td>\n",
       "      <td>2012.049134</td>\n",
       "      <td>6.379364</td>\n",
       "    </tr>\n",
       "    <tr>\n",
       "      <th>std</th>\n",
       "      <td>3.214633</td>\n",
       "      <td>5.439398</td>\n",
       "      <td>6.160218</td>\n",
       "      <td>10.433200</td>\n",
       "      <td>5.378835</td>\n",
       "      <td>3.712337</td>\n",
       "      <td>5.200839</td>\n",
       "      <td>14.525002</td>\n",
       "      <td>5.021009</td>\n",
       "      <td>4.682161</td>\n",
       "      <td>...</td>\n",
       "      <td>6.616236</td>\n",
       "      <td>6.548803</td>\n",
       "      <td>2.732220</td>\n",
       "      <td>2.579483</td>\n",
       "      <td>5.645875</td>\n",
       "      <td>5.997446</td>\n",
       "      <td>0.430968</td>\n",
       "      <td>0.428351</td>\n",
       "      <td>2.502484</td>\n",
       "      <td>3.449155</td>\n",
       "    </tr>\n",
       "    <tr>\n",
       "      <th>min</th>\n",
       "      <td>0.000000</td>\n",
       "      <td>-2.000000</td>\n",
       "      <td>8.200000</td>\n",
       "      <td>0.000000</td>\n",
       "      <td>0.000000</td>\n",
       "      <td>0.000000</td>\n",
       "      <td>0.000000</td>\n",
       "      <td>7.000000</td>\n",
       "      <td>0.000000</td>\n",
       "      <td>0.000000</td>\n",
       "      <td>...</td>\n",
       "      <td>989.800000</td>\n",
       "      <td>982.900000</td>\n",
       "      <td>0.000000</td>\n",
       "      <td>0.000000</td>\n",
       "      <td>1.900000</td>\n",
       "      <td>7.300000</td>\n",
       "      <td>0.000000</td>\n",
       "      <td>0.000000</td>\n",
       "      <td>2008.000000</td>\n",
       "      <td>1.000000</td>\n",
       "    </tr>\n",
       "    <tr>\n",
       "      <th>25%</th>\n",
       "      <td>3.000000</td>\n",
       "      <td>9.100000</td>\n",
       "      <td>19.200000</td>\n",
       "      <td>0.000000</td>\n",
       "      <td>2.466667</td>\n",
       "      <td>4.600000</td>\n",
       "      <td>4.000000</td>\n",
       "      <td>30.000000</td>\n",
       "      <td>4.000000</td>\n",
       "      <td>4.000000</td>\n",
       "      <td>...</td>\n",
       "      <td>1013.400000</td>\n",
       "      <td>1010.600000</td>\n",
       "      <td>1.333333</td>\n",
       "      <td>2.000000</td>\n",
       "      <td>13.600000</td>\n",
       "      <td>18.000000</td>\n",
       "      <td>0.000000</td>\n",
       "      <td>0.000000</td>\n",
       "      <td>2010.000000</td>\n",
       "      <td>3.000000</td>\n",
       "    </tr>\n",
       "    <tr>\n",
       "      <th>50%</th>\n",
       "      <td>6.000000</td>\n",
       "      <td>13.100000</td>\n",
       "      <td>23.200000</td>\n",
       "      <td>0.000000</td>\n",
       "      <td>4.100000</td>\n",
       "      <td>8.200000</td>\n",
       "      <td>9.000000</td>\n",
       "      <td>37.000000</td>\n",
       "      <td>9.000000</td>\n",
       "      <td>8.000000</td>\n",
       "      <td>...</td>\n",
       "      <td>1017.800000</td>\n",
       "      <td>1015.400000</td>\n",
       "      <td>4.666667</td>\n",
       "      <td>4.333333</td>\n",
       "      <td>17.700000</td>\n",
       "      <td>21.800000</td>\n",
       "      <td>0.000000</td>\n",
       "      <td>0.000000</td>\n",
       "      <td>2011.000000</td>\n",
       "      <td>6.000000</td>\n",
       "    </tr>\n",
       "    <tr>\n",
       "      <th>75%</th>\n",
       "      <td>8.000000</td>\n",
       "      <td>17.300000</td>\n",
       "      <td>28.000000</td>\n",
       "      <td>1.000000</td>\n",
       "      <td>6.600000</td>\n",
       "      <td>10.400000</td>\n",
       "      <td>13.000000</td>\n",
       "      <td>48.000000</td>\n",
       "      <td>13.000000</td>\n",
       "      <td>12.000000</td>\n",
       "      <td>...</td>\n",
       "      <td>1022.300000</td>\n",
       "      <td>1019.800000</td>\n",
       "      <td>7.000000</td>\n",
       "      <td>7.000000</td>\n",
       "      <td>21.900000</td>\n",
       "      <td>26.300000</td>\n",
       "      <td>0.000000</td>\n",
       "      <td>0.000000</td>\n",
       "      <td>2014.000000</td>\n",
       "      <td>9.000000</td>\n",
       "    </tr>\n",
       "    <tr>\n",
       "      <th>max</th>\n",
       "      <td>11.000000</td>\n",
       "      <td>28.500000</td>\n",
       "      <td>45.500000</td>\n",
       "      <td>371.000000</td>\n",
       "      <td>145.000000</td>\n",
       "      <td>13.900000</td>\n",
       "      <td>16.000000</td>\n",
       "      <td>107.000000</td>\n",
       "      <td>16.000000</td>\n",
       "      <td>16.000000</td>\n",
       "      <td>...</td>\n",
       "      <td>1039.000000</td>\n",
       "      <td>1036.000000</td>\n",
       "      <td>8.000000</td>\n",
       "      <td>8.000000</td>\n",
       "      <td>39.400000</td>\n",
       "      <td>44.100000</td>\n",
       "      <td>1.000000</td>\n",
       "      <td>1.000000</td>\n",
       "      <td>2017.000000</td>\n",
       "      <td>12.000000</td>\n",
       "    </tr>\n",
       "  </tbody>\n",
       "</table>\n",
       "<p>8 rows × 24 columns</p>\n",
       "</div>"
      ],
      "text/plain": [
       "          Location      MinTemp      MaxTemp     Rainfall  Evaporation  \\\n",
       "count  7734.000000  7734.000000  7734.000000  7734.000000  7734.000000   \n",
       "mean      5.800362    13.076804    23.828648     2.818981     5.178153   \n",
       "std       3.214633     5.439398     6.160218    10.433200     5.378835   \n",
       "min       0.000000    -2.000000     8.200000     0.000000     0.000000   \n",
       "25%       3.000000     9.100000    19.200000     0.000000     2.466667   \n",
       "50%       6.000000    13.100000    23.200000     0.000000     4.100000   \n",
       "75%       8.000000    17.300000    28.000000     1.000000     6.600000   \n",
       "max      11.000000    28.500000    45.500000   371.000000   145.000000   \n",
       "\n",
       "          Sunshine  WindGustDir  WindGustSpeed   WindDir9am   WindDir3pm  ...  \\\n",
       "count  7734.000000  7734.000000    7734.000000  7734.000000  7734.000000  ...   \n",
       "mean      7.399629     8.741660      39.327817     8.507499     8.073054  ...   \n",
       "std       3.712337     5.200839      14.525002     5.021009     4.682161  ...   \n",
       "min       0.000000     0.000000       7.000000     0.000000     0.000000  ...   \n",
       "25%       4.600000     4.000000      30.000000     4.000000     4.000000  ...   \n",
       "50%       8.200000     9.000000      37.000000     9.000000     8.000000  ...   \n",
       "75%      10.400000    13.000000      48.000000    13.000000    12.000000  ...   \n",
       "max      13.900000    16.000000     107.000000    16.000000    16.000000  ...   \n",
       "\n",
       "       Pressure9am  Pressure3pm     Cloud9am     Cloud3pm      Temp9am  \\\n",
       "count  7734.000000  7734.000000  7734.000000  7734.000000  7734.000000   \n",
       "mean   1017.781721  1015.312525     4.281140     4.310275    17.701569   \n",
       "std       6.616236     6.548803     2.732220     2.579483     5.645875   \n",
       "min     989.800000   982.900000     0.000000     0.000000     1.900000   \n",
       "25%    1013.400000  1010.600000     1.333333     2.000000    13.600000   \n",
       "50%    1017.800000  1015.400000     4.666667     4.333333    17.700000   \n",
       "75%    1022.300000  1019.800000     7.000000     7.000000    21.900000   \n",
       "max    1039.000000  1036.000000     8.000000     8.000000    39.400000   \n",
       "\n",
       "           Temp3pm    RainToday  RainTomorrow          Day        month  \n",
       "count  7734.000000  7734.000000   7734.000000  7734.000000  7734.000000  \n",
       "mean     22.394462     0.246444      0.242048  2012.049134     6.379364  \n",
       "std       5.997446     0.430968      0.428351     2.502484     3.449155  \n",
       "min       7.300000     0.000000      0.000000  2008.000000     1.000000  \n",
       "25%      18.000000     0.000000      0.000000  2010.000000     3.000000  \n",
       "50%      21.800000     0.000000      0.000000  2011.000000     6.000000  \n",
       "75%      26.300000     0.000000      0.000000  2014.000000     9.000000  \n",
       "max      44.100000     1.000000      1.000000  2017.000000    12.000000  \n",
       "\n",
       "[8 rows x 24 columns]"
      ]
     },
     "execution_count": 28,
     "metadata": {},
     "output_type": "execute_result"
    }
   ],
   "source": [
    "data.describe()"
   ]
  },
  {
   "cell_type": "code",
   "execution_count": 29,
   "id": "9f11d7af",
   "metadata": {},
   "outputs": [
    {
     "data": {
      "image/png": "[encoded data removed]",
      "text/plain": [
       "<Figure size 1440x1440 with 24 Axes>"
      ]
     },
     "metadata": {},
     "output_type": "display_data"
    }
   ],
   "source": [
    "plt.figure(figsize=(20,20),facecolor='red')\n",
    "plotnumber=1\n",
    "for column in data:\n",
    "    if plotnumber<=25:\n",
    "        ax=plt.subplot(5,5,plotnumber)\n",
    "        sns.distplot(data[column])\n",
    "        plt.xlabel(column,fontsize=20)\n",
    "        \n",
    "    plotnumber+=1\n",
    "plt.show()"
   ]
  },
  {
   "cell_type": "markdown",
   "id": "42593bd6",
   "metadata": {},
   "source": [
    "considering the outliers for continous data only ignoring for labels and categorical data"
   ]
  },
  {
   "cell_type": "code",
   "execution_count": null,
   "id": "668d95a7",
   "metadata": {},
   "outputs": [],
   "source": []
  },
  {
   "cell_type": "code",
   "execution_count": null,
   "id": "3877f892",
   "metadata": {},
   "outputs": [],
   "source": []
  },
  {
   "cell_type": "markdown",
   "id": "dc41968b",
   "metadata": {},
   "source": [
    "# APPLYING THE Z SCORE METHOD TO REMOVE OUTLIERS"
   ]
  },
  {
   "cell_type": "code",
   "execution_count": 30,
   "id": "62360880",
   "metadata": {},
   "outputs": [],
   "source": [
    "from scipy.stats import zscore"
   ]
  },
  {
   "cell_type": "code",
   "execution_count": 31,
   "id": "2cbc147d",
   "metadata": {},
   "outputs": [
    {
     "data": {
      "text/html": [
       "<div>\n",
       "<style scoped>\n",
       "    .dataframe tbody tr th:only-of-type {\n",
       "        vertical-align: middle;\n",
       "    }\n",
       "\n",
       "    .dataframe tbody tr th {\n",
       "        vertical-align: top;\n",
       "    }\n",
       "\n",
       "    .dataframe thead th {\n",
       "        text-align: right;\n",
       "    }\n",
       "</style>\n",
       "<table border=\"1\" class=\"dataframe\">\n",
       "  <thead>\n",
       "    <tr style=\"text-align: right;\">\n",
       "      <th></th>\n",
       "      <th>Location</th>\n",
       "      <th>MinTemp</th>\n",
       "      <th>MaxTemp</th>\n",
       "      <th>Rainfall</th>\n",
       "      <th>Evaporation</th>\n",
       "      <th>Sunshine</th>\n",
       "      <th>WindGustDir</th>\n",
       "      <th>WindGustSpeed</th>\n",
       "      <th>WindDir9am</th>\n",
       "      <th>WindDir3pm</th>\n",
       "      <th>...</th>\n",
       "      <th>Pressure9am</th>\n",
       "      <th>Pressure3pm</th>\n",
       "      <th>Cloud9am</th>\n",
       "      <th>Cloud3pm</th>\n",
       "      <th>Temp9am</th>\n",
       "      <th>Temp3pm</th>\n",
       "      <th>RainToday</th>\n",
       "      <th>RainTomorrow</th>\n",
       "      <th>Day</th>\n",
       "      <th>month</th>\n",
       "    </tr>\n",
       "  </thead>\n",
       "  <tbody>\n",
       "    <tr>\n",
       "      <th>0</th>\n",
       "      <td>1.493381</td>\n",
       "      <td>0.059421</td>\n",
       "      <td>0.150759</td>\n",
       "      <td>0.212698</td>\n",
       "      <td>2.495469</td>\n",
       "      <td>0.556838</td>\n",
       "      <td>0.818832</td>\n",
       "      <td>0.321686</td>\n",
       "      <td>0.894798</td>\n",
       "      <td>1.265939</td>\n",
       "      <td>...</td>\n",
       "      <td>1.523884</td>\n",
       "      <td>1.254131</td>\n",
       "      <td>1.361201</td>\n",
       "      <td>0.637226</td>\n",
       "      <td>0.141983</td>\n",
       "      <td>0.099126</td>\n",
       "      <td>0.571876</td>\n",
       "      <td>0.565106</td>\n",
       "      <td>1.618151</td>\n",
       "      <td>1.629674</td>\n",
       "    </tr>\n",
       "    <tr>\n",
       "      <th>1</th>\n",
       "      <td>1.493381</td>\n",
       "      <td>1.043713</td>\n",
       "      <td>0.206394</td>\n",
       "      <td>0.270211</td>\n",
       "      <td>0.070308</td>\n",
       "      <td>0.718472</td>\n",
       "      <td>1.011121</td>\n",
       "      <td>0.321686</td>\n",
       "      <td>0.499434</td>\n",
       "      <td>1.479529</td>\n",
       "      <td>...</td>\n",
       "      <td>1.085540</td>\n",
       "      <td>1.147234</td>\n",
       "      <td>1.322993</td>\n",
       "      <td>1.154159</td>\n",
       "      <td>0.088844</td>\n",
       "      <td>0.317745</td>\n",
       "      <td>0.571876</td>\n",
       "      <td>0.565106</td>\n",
       "      <td>1.618151</td>\n",
       "      <td>1.629674</td>\n",
       "    </tr>\n",
       "    <tr>\n",
       "      <th>2</th>\n",
       "      <td>1.493381</td>\n",
       "      <td>0.032506</td>\n",
       "      <td>0.303800</td>\n",
       "      <td>0.270211</td>\n",
       "      <td>0.008333</td>\n",
       "      <td>1.149495</td>\n",
       "      <td>1.203410</td>\n",
       "      <td>0.459388</td>\n",
       "      <td>0.894798</td>\n",
       "      <td>1.479529</td>\n",
       "      <td>...</td>\n",
       "      <td>1.538999</td>\n",
       "      <td>1.009796</td>\n",
       "      <td>1.200984</td>\n",
       "      <td>0.895693</td>\n",
       "      <td>0.584257</td>\n",
       "      <td>0.134322</td>\n",
       "      <td>0.571876</td>\n",
       "      <td>0.565106</td>\n",
       "      <td>1.618151</td>\n",
       "      <td>1.629674</td>\n",
       "    </tr>\n",
       "    <tr>\n",
       "      <th>3</th>\n",
       "      <td>1.493381</td>\n",
       "      <td>0.712773</td>\n",
       "      <td>0.677187</td>\n",
       "      <td>0.270211</td>\n",
       "      <td>0.070308</td>\n",
       "      <td>1.023780</td>\n",
       "      <td>0.911769</td>\n",
       "      <td>1.055339</td>\n",
       "      <td>0.098094</td>\n",
       "      <td>1.724327</td>\n",
       "      <td>...</td>\n",
       "      <td>0.027468</td>\n",
       "      <td>0.383687</td>\n",
       "      <td>1.200984</td>\n",
       "      <td>1.154159</td>\n",
       "      <td>0.070575</td>\n",
       "      <td>0.684592</td>\n",
       "      <td>0.571876</td>\n",
       "      <td>0.565106</td>\n",
       "      <td>1.618151</td>\n",
       "      <td>1.629674</td>\n",
       "    </tr>\n",
       "    <tr>\n",
       "      <th>4</th>\n",
       "      <td>1.493381</td>\n",
       "      <td>0.813230</td>\n",
       "      <td>1.375260</td>\n",
       "      <td>0.174357</td>\n",
       "      <td>0.380185</td>\n",
       "      <td>0.386225</td>\n",
       "      <td>0.818832</td>\n",
       "      <td>0.115132</td>\n",
       "      <td>1.495314</td>\n",
       "      <td>0.229194</td>\n",
       "      <td>...</td>\n",
       "      <td>1.055309</td>\n",
       "      <td>1.422111</td>\n",
       "      <td>0.995175</td>\n",
       "      <td>1.430505</td>\n",
       "      <td>0.017435</td>\n",
       "      <td>1.218187</td>\n",
       "      <td>0.571876</td>\n",
       "      <td>0.565106</td>\n",
       "      <td>1.618151</td>\n",
       "      <td>1.629674</td>\n",
       "    </tr>\n",
       "    <tr>\n",
       "      <th>...</th>\n",
       "      <td>...</td>\n",
       "      <td>...</td>\n",
       "      <td>...</td>\n",
       "      <td>...</td>\n",
       "      <td>...</td>\n",
       "      <td>...</td>\n",
       "      <td>...</td>\n",
       "      <td>...</td>\n",
       "      <td>...</td>\n",
       "      <td>...</td>\n",
       "      <td>...</td>\n",
       "      <td>...</td>\n",
       "      <td>...</td>\n",
       "      <td>...</td>\n",
       "      <td>...</td>\n",
       "      <td>...</td>\n",
       "      <td>...</td>\n",
       "      <td>...</td>\n",
       "      <td>...</td>\n",
       "      <td>...</td>\n",
       "      <td>...</td>\n",
       "    </tr>\n",
       "    <tr>\n",
       "      <th>8074</th>\n",
       "      <td>0.684302</td>\n",
       "      <td>1.760751</td>\n",
       "      <td>0.329336</td>\n",
       "      <td>0.270211</td>\n",
       "      <td>0.603296</td>\n",
       "      <td>0.565818</td>\n",
       "      <td>1.680926</td>\n",
       "      <td>0.573381</td>\n",
       "      <td>1.296138</td>\n",
       "      <td>1.724327</td>\n",
       "      <td>...</td>\n",
       "      <td>1.045719</td>\n",
       "      <td>0.899074</td>\n",
       "      <td>1.322993</td>\n",
       "      <td>0.637226</td>\n",
       "      <td>1.470473</td>\n",
       "      <td>0.249199</td>\n",
       "      <td>0.571876</td>\n",
       "      <td>0.565106</td>\n",
       "      <td>0.779622</td>\n",
       "      <td>0.689884</td>\n",
       "    </tr>\n",
       "    <tr>\n",
       "      <th>8075</th>\n",
       "      <td>0.684302</td>\n",
       "      <td>1.889450</td>\n",
       "      <td>0.069588</td>\n",
       "      <td>0.270211</td>\n",
       "      <td>0.516530</td>\n",
       "      <td>0.592757</td>\n",
       "      <td>1.680926</td>\n",
       "      <td>0.573381</td>\n",
       "      <td>0.098094</td>\n",
       "      <td>1.510736</td>\n",
       "      <td>...</td>\n",
       "      <td>1.030604</td>\n",
       "      <td>0.761635</td>\n",
       "      <td>1.078975</td>\n",
       "      <td>0.637226</td>\n",
       "      <td>1.346480</td>\n",
       "      <td>0.000924</td>\n",
       "      <td>0.571876</td>\n",
       "      <td>0.565106</td>\n",
       "      <td>0.779622</td>\n",
       "      <td>0.689884</td>\n",
       "    </tr>\n",
       "    <tr>\n",
       "      <th>8076</th>\n",
       "      <td>0.684302</td>\n",
       "      <td>1.742365</td>\n",
       "      <td>0.238863</td>\n",
       "      <td>0.270211</td>\n",
       "      <td>0.219049</td>\n",
       "      <td>0.745411</td>\n",
       "      <td>0.527191</td>\n",
       "      <td>1.193042</td>\n",
       "      <td>0.098094</td>\n",
       "      <td>1.083556</td>\n",
       "      <td>...</td>\n",
       "      <td>0.864336</td>\n",
       "      <td>0.578384</td>\n",
       "      <td>1.200984</td>\n",
       "      <td>1.283392</td>\n",
       "      <td>1.204775</td>\n",
       "      <td>0.351095</td>\n",
       "      <td>0.571876</td>\n",
       "      <td>0.565106</td>\n",
       "      <td>0.779622</td>\n",
       "      <td>0.689884</td>\n",
       "    </tr>\n",
       "    <tr>\n",
       "      <th>8077</th>\n",
       "      <td>0.684302</td>\n",
       "      <td>1.411425</td>\n",
       "      <td>0.498611</td>\n",
       "      <td>0.270211</td>\n",
       "      <td>0.355395</td>\n",
       "      <td>0.790309</td>\n",
       "      <td>1.104059</td>\n",
       "      <td>0.160273</td>\n",
       "      <td>0.098094</td>\n",
       "      <td>1.265939</td>\n",
       "      <td>...</td>\n",
       "      <td>0.486453</td>\n",
       "      <td>0.227152</td>\n",
       "      <td>1.445001</td>\n",
       "      <td>1.412625</td>\n",
       "      <td>0.921364</td>\n",
       "      <td>0.617893</td>\n",
       "      <td>0.571876</td>\n",
       "      <td>0.565106</td>\n",
       "      <td>0.779622</td>\n",
       "      <td>0.689884</td>\n",
       "    </tr>\n",
       "    <tr>\n",
       "      <th>8078</th>\n",
       "      <td>0.684302</td>\n",
       "      <td>0.970171</td>\n",
       "      <td>0.514845</td>\n",
       "      <td>0.270211</td>\n",
       "      <td>0.033123</td>\n",
       "      <td>1.203373</td>\n",
       "      <td>0.049676</td>\n",
       "      <td>0.779934</td>\n",
       "      <td>0.297270</td>\n",
       "      <td>1.083556</td>\n",
       "      <td>...</td>\n",
       "      <td>0.244608</td>\n",
       "      <td>0.181339</td>\n",
       "      <td>0.468931</td>\n",
       "      <td>0.895693</td>\n",
       "      <td>0.460821</td>\n",
       "      <td>0.601218</td>\n",
       "      <td>0.571876</td>\n",
       "      <td>0.565106</td>\n",
       "      <td>0.779622</td>\n",
       "      <td>0.689884</td>\n",
       "    </tr>\n",
       "  </tbody>\n",
       "</table>\n",
       "<p>7734 rows × 24 columns</p>\n",
       "</div>"
      ],
      "text/plain": [
       "      Location   MinTemp   MaxTemp  Rainfall  Evaporation  Sunshine  \\\n",
       "0     1.493381  0.059421  0.150759  0.212698     2.495469  0.556838   \n",
       "1     1.493381  1.043713  0.206394  0.270211     0.070308  0.718472   \n",
       "2     1.493381  0.032506  0.303800  0.270211     0.008333  1.149495   \n",
       "3     1.493381  0.712773  0.677187  0.270211     0.070308  1.023780   \n",
       "4     1.493381  0.813230  1.375260  0.174357     0.380185  0.386225   \n",
       "...        ...       ...       ...       ...          ...       ...   \n",
       "8074  0.684302  1.760751  0.329336  0.270211     0.603296  0.565818   \n",
       "8075  0.684302  1.889450  0.069588  0.270211     0.516530  0.592757   \n",
       "8076  0.684302  1.742365  0.238863  0.270211     0.219049  0.745411   \n",
       "8077  0.684302  1.411425  0.498611  0.270211     0.355395  0.790309   \n",
       "8078  0.684302  0.970171  0.514845  0.270211     0.033123  1.203373   \n",
       "\n",
       "      WindGustDir  WindGustSpeed  WindDir9am  WindDir3pm  ...  Pressure9am  \\\n",
       "0        0.818832       0.321686    0.894798    1.265939  ...     1.523884   \n",
       "1        1.011121       0.321686    0.499434    1.479529  ...     1.085540   \n",
       "2        1.203410       0.459388    0.894798    1.479529  ...     1.538999   \n",
       "3        0.911769       1.055339    0.098094    1.724327  ...     0.027468   \n",
       "4        0.818832       0.115132    1.495314    0.229194  ...     1.055309   \n",
       "...           ...            ...         ...         ...  ...          ...   \n",
       "8074     1.680926       0.573381    1.296138    1.724327  ...     1.045719   \n",
       "8075     1.680926       0.573381    0.098094    1.510736  ...     1.030604   \n",
       "8076     0.527191       1.193042    0.098094    1.083556  ...     0.864336   \n",
       "8077     1.104059       0.160273    0.098094    1.265939  ...     0.486453   \n",
       "8078     0.049676       0.779934    0.297270    1.083556  ...     0.244608   \n",
       "\n",
       "      Pressure3pm  Cloud9am  Cloud3pm   Temp9am   Temp3pm  RainToday  \\\n",
       "0        1.254131  1.361201  0.637226  0.141983  0.099126   0.571876   \n",
       "1        1.147234  1.322993  1.154159  0.088844  0.317745   0.571876   \n",
       "2        1.009796  1.200984  0.895693  0.584257  0.134322   0.571876   \n",
       "3        0.383687  1.200984  1.154159  0.070575  0.684592   0.571876   \n",
       "4        1.422111  0.995175  1.430505  0.017435  1.218187   0.571876   \n",
       "...           ...       ...       ...       ...       ...        ...   \n",
       "8074     0.899074  1.322993  0.637226  1.470473  0.249199   0.571876   \n",
       "8075     0.761635  1.078975  0.637226  1.346480  0.000924   0.571876   \n",
       "8076     0.578384  1.200984  1.283392  1.204775  0.351095   0.571876   \n",
       "8077     0.227152  1.445001  1.412625  0.921364  0.617893   0.571876   \n",
       "8078     0.181339  0.468931  0.895693  0.460821  0.601218   0.571876   \n",
       "\n",
       "      RainTomorrow       Day     month  \n",
       "0         0.565106  1.618151  1.629674  \n",
       "1         0.565106  1.618151  1.629674  \n",
       "2         0.565106  1.618151  1.629674  \n",
       "3         0.565106  1.618151  1.629674  \n",
       "4         0.565106  1.618151  1.629674  \n",
       "...            ...       ...       ...  \n",
       "8074      0.565106  0.779622  0.689884  \n",
       "8075      0.565106  0.779622  0.689884  \n",
       "8076      0.565106  0.779622  0.689884  \n",
       "8077      0.565106  0.779622  0.689884  \n",
       "8078      0.565106  0.779622  0.689884  \n",
       "\n",
       "[7734 rows x 24 columns]"
      ]
     },
     "execution_count": 31,
     "metadata": {},
     "output_type": "execute_result"
    }
   ],
   "source": [
    "z=np.abs(zscore(data))\n",
    "z"
   ]
  },
  {
   "cell_type": "code",
   "execution_count": 32,
   "id": "62d502fd",
   "metadata": {},
   "outputs": [
    {
     "name": "stdout",
     "output_type": "stream",
     "text": [
      "(array([   0,    0,    0, ..., 7733, 7733, 7733], dtype=int64), array([ 0,  1,  2, ..., 21, 22, 23], dtype=int64))\n",
      "(7734, 24)\n"
     ]
    }
   ],
   "source": [
    "threshold=3\n",
    "print(np.where(z<3))\n",
    "print(data.shape)"
   ]
  },
  {
   "cell_type": "code",
   "execution_count": 33,
   "id": "d1a9bb69",
   "metadata": {},
   "outputs": [
    {
     "data": {
      "text/html": [
       "<div>\n",
       "<style scoped>\n",
       "    .dataframe tbody tr th:only-of-type {\n",
       "        vertical-align: middle;\n",
       "    }\n",
       "\n",
       "    .dataframe tbody tr th {\n",
       "        vertical-align: top;\n",
       "    }\n",
       "\n",
       "    .dataframe thead th {\n",
       "        text-align: right;\n",
       "    }\n",
       "</style>\n",
       "<table border=\"1\" class=\"dataframe\">\n",
       "  <thead>\n",
       "    <tr style=\"text-align: right;\">\n",
       "      <th></th>\n",
       "      <th>Location</th>\n",
       "      <th>MinTemp</th>\n",
       "      <th>MaxTemp</th>\n",
       "      <th>Rainfall</th>\n",
       "      <th>Evaporation</th>\n",
       "      <th>Sunshine</th>\n",
       "      <th>WindGustDir</th>\n",
       "      <th>WindGustSpeed</th>\n",
       "      <th>WindDir9am</th>\n",
       "      <th>WindDir3pm</th>\n",
       "      <th>...</th>\n",
       "      <th>Pressure9am</th>\n",
       "      <th>Pressure3pm</th>\n",
       "      <th>Cloud9am</th>\n",
       "      <th>Cloud3pm</th>\n",
       "      <th>Temp9am</th>\n",
       "      <th>Temp3pm</th>\n",
       "      <th>RainToday</th>\n",
       "      <th>RainTomorrow</th>\n",
       "      <th>Day</th>\n",
       "      <th>month</th>\n",
       "    </tr>\n",
       "  </thead>\n",
       "  <tbody>\n",
       "    <tr>\n",
       "      <th>0</th>\n",
       "      <td>1</td>\n",
       "      <td>13.4</td>\n",
       "      <td>22.9</td>\n",
       "      <td>0.6</td>\n",
       "      <td>18.600000</td>\n",
       "      <td>9.466667</td>\n",
       "      <td>13.0</td>\n",
       "      <td>44.0</td>\n",
       "      <td>13.0</td>\n",
       "      <td>14.0</td>\n",
       "      <td>...</td>\n",
       "      <td>1007.7</td>\n",
       "      <td>1007.1</td>\n",
       "      <td>8.000000</td>\n",
       "      <td>2.666667</td>\n",
       "      <td>16.9</td>\n",
       "      <td>21.8</td>\n",
       "      <td>0</td>\n",
       "      <td>0</td>\n",
       "      <td>2008</td>\n",
       "      <td>12</td>\n",
       "    </tr>\n",
       "    <tr>\n",
       "      <th>1</th>\n",
       "      <td>1</td>\n",
       "      <td>7.4</td>\n",
       "      <td>25.1</td>\n",
       "      <td>0.0</td>\n",
       "      <td>4.800000</td>\n",
       "      <td>10.066667</td>\n",
       "      <td>14.0</td>\n",
       "      <td>44.0</td>\n",
       "      <td>6.0</td>\n",
       "      <td>15.0</td>\n",
       "      <td>...</td>\n",
       "      <td>1010.6</td>\n",
       "      <td>1007.8</td>\n",
       "      <td>0.666667</td>\n",
       "      <td>1.333333</td>\n",
       "      <td>17.2</td>\n",
       "      <td>24.3</td>\n",
       "      <td>0</td>\n",
       "      <td>0</td>\n",
       "      <td>2008</td>\n",
       "      <td>12</td>\n",
       "    </tr>\n",
       "    <tr>\n",
       "      <th>2</th>\n",
       "      <td>1</td>\n",
       "      <td>12.9</td>\n",
       "      <td>25.7</td>\n",
       "      <td>0.0</td>\n",
       "      <td>5.133333</td>\n",
       "      <td>11.666667</td>\n",
       "      <td>15.0</td>\n",
       "      <td>46.0</td>\n",
       "      <td>13.0</td>\n",
       "      <td>15.0</td>\n",
       "      <td>...</td>\n",
       "      <td>1007.6</td>\n",
       "      <td>1008.7</td>\n",
       "      <td>1.000000</td>\n",
       "      <td>2.000000</td>\n",
       "      <td>21.0</td>\n",
       "      <td>23.2</td>\n",
       "      <td>0</td>\n",
       "      <td>0</td>\n",
       "      <td>2008</td>\n",
       "      <td>12</td>\n",
       "    </tr>\n",
       "    <tr>\n",
       "      <th>3</th>\n",
       "      <td>1</td>\n",
       "      <td>9.2</td>\n",
       "      <td>28.0</td>\n",
       "      <td>0.0</td>\n",
       "      <td>4.800000</td>\n",
       "      <td>11.200000</td>\n",
       "      <td>4.0</td>\n",
       "      <td>24.0</td>\n",
       "      <td>9.0</td>\n",
       "      <td>0.0</td>\n",
       "      <td>...</td>\n",
       "      <td>1017.6</td>\n",
       "      <td>1012.8</td>\n",
       "      <td>1.000000</td>\n",
       "      <td>1.333333</td>\n",
       "      <td>18.1</td>\n",
       "      <td>26.5</td>\n",
       "      <td>0</td>\n",
       "      <td>0</td>\n",
       "      <td>2008</td>\n",
       "      <td>12</td>\n",
       "    </tr>\n",
       "    <tr>\n",
       "      <th>4</th>\n",
       "      <td>1</td>\n",
       "      <td>17.5</td>\n",
       "      <td>32.3</td>\n",
       "      <td>1.0</td>\n",
       "      <td>3.133333</td>\n",
       "      <td>8.833333</td>\n",
       "      <td>13.0</td>\n",
       "      <td>41.0</td>\n",
       "      <td>1.0</td>\n",
       "      <td>7.0</td>\n",
       "      <td>...</td>\n",
       "      <td>1010.8</td>\n",
       "      <td>1006.0</td>\n",
       "      <td>7.000000</td>\n",
       "      <td>8.000000</td>\n",
       "      <td>17.8</td>\n",
       "      <td>29.7</td>\n",
       "      <td>0</td>\n",
       "      <td>0</td>\n",
       "      <td>2008</td>\n",
       "      <td>12</td>\n",
       "    </tr>\n",
       "    <tr>\n",
       "      <th>...</th>\n",
       "      <td>...</td>\n",
       "      <td>...</td>\n",
       "      <td>...</td>\n",
       "      <td>...</td>\n",
       "      <td>...</td>\n",
       "      <td>...</td>\n",
       "      <td>...</td>\n",
       "      <td>...</td>\n",
       "      <td>...</td>\n",
       "      <td>...</td>\n",
       "      <td>...</td>\n",
       "      <td>...</td>\n",
       "      <td>...</td>\n",
       "      <td>...</td>\n",
       "      <td>...</td>\n",
       "      <td>...</td>\n",
       "      <td>...</td>\n",
       "      <td>...</td>\n",
       "      <td>...</td>\n",
       "      <td>...</td>\n",
       "      <td>...</td>\n",
       "    </tr>\n",
       "    <tr>\n",
       "      <th>8074</th>\n",
       "      <td>8</td>\n",
       "      <td>3.5</td>\n",
       "      <td>21.8</td>\n",
       "      <td>0.0</td>\n",
       "      <td>1.933333</td>\n",
       "      <td>9.500000</td>\n",
       "      <td>0.0</td>\n",
       "      <td>31.0</td>\n",
       "      <td>2.0</td>\n",
       "      <td>0.0</td>\n",
       "      <td>...</td>\n",
       "      <td>1024.7</td>\n",
       "      <td>1021.2</td>\n",
       "      <td>0.666667</td>\n",
       "      <td>2.666667</td>\n",
       "      <td>9.4</td>\n",
       "      <td>20.9</td>\n",
       "      <td>0</td>\n",
       "      <td>0</td>\n",
       "      <td>2014</td>\n",
       "      <td>4</td>\n",
       "    </tr>\n",
       "    <tr>\n",
       "      <th>8075</th>\n",
       "      <td>8</td>\n",
       "      <td>2.8</td>\n",
       "      <td>23.4</td>\n",
       "      <td>0.0</td>\n",
       "      <td>2.400000</td>\n",
       "      <td>9.600000</td>\n",
       "      <td>0.0</td>\n",
       "      <td>31.0</td>\n",
       "      <td>9.0</td>\n",
       "      <td>1.0</td>\n",
       "      <td>...</td>\n",
       "      <td>1024.6</td>\n",
       "      <td>1020.3</td>\n",
       "      <td>1.333333</td>\n",
       "      <td>2.666667</td>\n",
       "      <td>10.1</td>\n",
       "      <td>22.4</td>\n",
       "      <td>0</td>\n",
       "      <td>0</td>\n",
       "      <td>2014</td>\n",
       "      <td>4</td>\n",
       "    </tr>\n",
       "    <tr>\n",
       "      <th>8076</th>\n",
       "      <td>8</td>\n",
       "      <td>3.6</td>\n",
       "      <td>25.3</td>\n",
       "      <td>0.0</td>\n",
       "      <td>4.000000</td>\n",
       "      <td>10.166667</td>\n",
       "      <td>6.0</td>\n",
       "      <td>22.0</td>\n",
       "      <td>9.0</td>\n",
       "      <td>3.0</td>\n",
       "      <td>...</td>\n",
       "      <td>1023.5</td>\n",
       "      <td>1019.1</td>\n",
       "      <td>1.000000</td>\n",
       "      <td>1.000000</td>\n",
       "      <td>10.9</td>\n",
       "      <td>24.5</td>\n",
       "      <td>0</td>\n",
       "      <td>0</td>\n",
       "      <td>2014</td>\n",
       "      <td>4</td>\n",
       "    </tr>\n",
       "    <tr>\n",
       "      <th>8077</th>\n",
       "      <td>8</td>\n",
       "      <td>5.4</td>\n",
       "      <td>26.9</td>\n",
       "      <td>0.0</td>\n",
       "      <td>3.266667</td>\n",
       "      <td>10.333333</td>\n",
       "      <td>3.0</td>\n",
       "      <td>37.0</td>\n",
       "      <td>9.0</td>\n",
       "      <td>14.0</td>\n",
       "      <td>...</td>\n",
       "      <td>1021.0</td>\n",
       "      <td>1016.8</td>\n",
       "      <td>0.333333</td>\n",
       "      <td>0.666667</td>\n",
       "      <td>12.5</td>\n",
       "      <td>26.1</td>\n",
       "      <td>0</td>\n",
       "      <td>0</td>\n",
       "      <td>2014</td>\n",
       "      <td>4</td>\n",
       "    </tr>\n",
       "    <tr>\n",
       "      <th>8078</th>\n",
       "      <td>8</td>\n",
       "      <td>7.8</td>\n",
       "      <td>27.0</td>\n",
       "      <td>0.0</td>\n",
       "      <td>5.000000</td>\n",
       "      <td>11.866667</td>\n",
       "      <td>9.0</td>\n",
       "      <td>28.0</td>\n",
       "      <td>10.0</td>\n",
       "      <td>3.0</td>\n",
       "      <td>...</td>\n",
       "      <td>1019.4</td>\n",
       "      <td>1016.5</td>\n",
       "      <td>3.000000</td>\n",
       "      <td>2.000000</td>\n",
       "      <td>15.1</td>\n",
       "      <td>26.0</td>\n",
       "      <td>0</td>\n",
       "      <td>0</td>\n",
       "      <td>2014</td>\n",
       "      <td>4</td>\n",
       "    </tr>\n",
       "  </tbody>\n",
       "</table>\n",
       "<p>7339 rows × 24 columns</p>\n",
       "</div>"
      ],
      "text/plain": [
       "      Location  MinTemp  MaxTemp  Rainfall  Evaporation   Sunshine  \\\n",
       "0            1     13.4     22.9       0.6    18.600000   9.466667   \n",
       "1            1      7.4     25.1       0.0     4.800000  10.066667   \n",
       "2            1     12.9     25.7       0.0     5.133333  11.666667   \n",
       "3            1      9.2     28.0       0.0     4.800000  11.200000   \n",
       "4            1     17.5     32.3       1.0     3.133333   8.833333   \n",
       "...        ...      ...      ...       ...          ...        ...   \n",
       "8074         8      3.5     21.8       0.0     1.933333   9.500000   \n",
       "8075         8      2.8     23.4       0.0     2.400000   9.600000   \n",
       "8076         8      3.6     25.3       0.0     4.000000  10.166667   \n",
       "8077         8      5.4     26.9       0.0     3.266667  10.333333   \n",
       "8078         8      7.8     27.0       0.0     5.000000  11.866667   \n",
       "\n",
       "      WindGustDir  WindGustSpeed  WindDir9am  WindDir3pm  ...  Pressure9am  \\\n",
       "0            13.0           44.0        13.0        14.0  ...       1007.7   \n",
       "1            14.0           44.0         6.0        15.0  ...       1010.6   \n",
       "2            15.0           46.0        13.0        15.0  ...       1007.6   \n",
       "3             4.0           24.0         9.0         0.0  ...       1017.6   \n",
       "4            13.0           41.0         1.0         7.0  ...       1010.8   \n",
       "...           ...            ...         ...         ...  ...          ...   \n",
       "8074          0.0           31.0         2.0         0.0  ...       1024.7   \n",
       "8075          0.0           31.0         9.0         1.0  ...       1024.6   \n",
       "8076          6.0           22.0         9.0         3.0  ...       1023.5   \n",
       "8077          3.0           37.0         9.0        14.0  ...       1021.0   \n",
       "8078          9.0           28.0        10.0         3.0  ...       1019.4   \n",
       "\n",
       "      Pressure3pm  Cloud9am  Cloud3pm  Temp9am  Temp3pm  RainToday  \\\n",
       "0          1007.1  8.000000  2.666667     16.9     21.8          0   \n",
       "1          1007.8  0.666667  1.333333     17.2     24.3          0   \n",
       "2          1008.7  1.000000  2.000000     21.0     23.2          0   \n",
       "3          1012.8  1.000000  1.333333     18.1     26.5          0   \n",
       "4          1006.0  7.000000  8.000000     17.8     29.7          0   \n",
       "...           ...       ...       ...      ...      ...        ...   \n",
       "8074       1021.2  0.666667  2.666667      9.4     20.9          0   \n",
       "8075       1020.3  1.333333  2.666667     10.1     22.4          0   \n",
       "8076       1019.1  1.000000  1.000000     10.9     24.5          0   \n",
       "8077       1016.8  0.333333  0.666667     12.5     26.1          0   \n",
       "8078       1016.5  3.000000  2.000000     15.1     26.0          0   \n",
       "\n",
       "      RainTomorrow   Day  month  \n",
       "0                0  2008     12  \n",
       "1                0  2008     12  \n",
       "2                0  2008     12  \n",
       "3                0  2008     12  \n",
       "4                0  2008     12  \n",
       "...            ...   ...    ...  \n",
       "8074             0  2014      4  \n",
       "8075             0  2014      4  \n",
       "8076             0  2014      4  \n",
       "8077             0  2014      4  \n",
       "8078             0  2014      4  \n",
       "\n",
       "[7339 rows x 24 columns]"
      ]
     },
     "execution_count": 33,
     "metadata": {},
     "output_type": "execute_result"
    }
   ],
   "source": [
    "data=data[(z<3).all(axis=1)]\n",
    "data"
   ]
  },
  {
   "cell_type": "code",
   "execution_count": 34,
   "id": "4073659a",
   "metadata": {},
   "outputs": [
    {
     "data": {
      "image/png": "[encoded data removed]",
      "text/plain": [
       "<Figure size 1296x1008 with 2 Axes>"
      ]
     },
     "metadata": {
      "needs_background": "light"
     },
     "output_type": "display_data"
    }
   ],
   "source": [
    "data_corr=data.corr().abs()\n",
    "plt.figure(figsize=(18,14))\n",
    "sns.heatmap(data_corr,annot=True, annot_kws={'size':10})\n",
    "plt.show()"
   ]
  },
  {
   "cell_type": "markdown",
   "id": "ca140b23",
   "metadata": {},
   "source": [
    "MAXTEMP AND temp9,temp3 are very closely corelated to each other so droping the columns temp3 and temp9"
   ]
  },
  {
   "cell_type": "code",
   "execution_count": 35,
   "id": "2d51f019",
   "metadata": {},
   "outputs": [],
   "source": [
    "data=data.drop(['Temp9am','Temp3pm'],axis=1)"
   ]
  },
  {
   "cell_type": "markdown",
   "id": "a8a00d9b",
   "metadata": {},
   "source": [
    "SPLITING THE DATA INTO FEATURES AND LABELS"
   ]
  },
  {
   "cell_type": "code",
   "execution_count": 36,
   "id": "30ccb159",
   "metadata": {},
   "outputs": [],
   "source": [
    "X=data.drop(['RainTomorrow','Rainfall'],1)\n",
    "z=data['Rainfall']\n",
    "y=data['RainTomorrow']"
   ]
  },
  {
   "cell_type": "code",
   "execution_count": 37,
   "id": "d038415b",
   "metadata": {},
   "outputs": [],
   "source": [
    "scaler=StandardScaler()\n",
    "X_scaled=scaler.fit_transform(X)"
   ]
  },
  {
   "cell_type": "code",
   "execution_count": 38,
   "id": "e9c40344",
   "metadata": {},
   "outputs": [
    {
     "data": {
      "text/plain": [
       "4069    0\n",
       "7465    0\n",
       "7931    0\n",
       "4982    1\n",
       "4750    0\n",
       "Name: RainTomorrow, dtype: int32"
      ]
     },
     "execution_count": 38,
     "metadata": {},
     "output_type": "execute_result"
    }
   ],
   "source": [
    "x_train,x_test,y_train,y_test=train_test_split(X_scaled,y,test_size=.25,random_state=49)\n",
    "y_train.head()"
   ]
  },
  {
   "cell_type": "markdown",
   "id": "cc14c115",
   "metadata": {},
   "source": [
    "# KNN NEIGHBORS"
   ]
  },
  {
   "cell_type": "code",
   "execution_count": 39,
   "id": "d56bbdd8",
   "metadata": {},
   "outputs": [],
   "source": [
    "from sklearn.neighbors import KNeighborsClassifier"
   ]
  },
  {
   "cell_type": "code",
   "execution_count": 40,
   "id": "72b402a4",
   "metadata": {},
   "outputs": [],
   "source": [
    "knn=KNeighborsClassifier()"
   ]
  },
  {
   "cell_type": "code",
   "execution_count": 41,
   "id": "291d8817",
   "metadata": {},
   "outputs": [
    {
     "data": {
      "text/plain": [
       "KNeighborsClassifier()"
      ]
     },
     "execution_count": 41,
     "metadata": {},
     "output_type": "execute_result"
    }
   ],
   "source": [
    "knn.fit(x_train,y_train)"
   ]
  },
  {
   "cell_type": "code",
   "execution_count": 42,
   "id": "59c55faa",
   "metadata": {},
   "outputs": [
    {
     "data": {
      "text/plain": [
       "array([0, 0, 0, ..., 1, 0, 0])"
      ]
     },
     "execution_count": 42,
     "metadata": {},
     "output_type": "execute_result"
    }
   ],
   "source": [
    "y_pred=knn.predict(x_test)\n",
    "y_pred"
   ]
  },
  {
   "cell_type": "code",
   "execution_count": 43,
   "id": "3d188453",
   "metadata": {},
   "outputs": [],
   "source": [
    "from sklearn.metrics import confusion_matrix,classification_report"
   ]
  },
  {
   "cell_type": "code",
   "execution_count": 44,
   "id": "51db61bb",
   "metadata": {},
   "outputs": [
    {
     "data": {
      "text/plain": [
       "array([[1285,  132],\n",
       "       [ 316,  102]], dtype=int64)"
      ]
     },
     "execution_count": 44,
     "metadata": {},
     "output_type": "execute_result"
    }
   ],
   "source": [
    "cfm=confusion_matrix(y_test,y_pred)\n",
    "cfm"
   ]
  },
  {
   "cell_type": "code",
   "execution_count": 45,
   "id": "fa6c6de2",
   "metadata": {},
   "outputs": [
    {
     "name": "stdout",
     "output_type": "stream",
     "text": [
      "              precision    recall  f1-score   support\n",
      "\n",
      "           0       0.80      0.91      0.85      1417\n",
      "           1       0.44      0.24      0.31       418\n",
      "\n",
      "    accuracy                           0.76      1835\n",
      "   macro avg       0.62      0.58      0.58      1835\n",
      "weighted avg       0.72      0.76      0.73      1835\n",
      "\n"
     ]
    }
   ],
   "source": [
    "print(classification_report(y_test,y_pred,digits=2))"
   ]
  },
  {
   "cell_type": "markdown",
   "id": "12e947b9",
   "metadata": {},
   "source": [
    "# DECISION TREE CLASSIFIER"
   ]
  },
  {
   "cell_type": "code",
   "execution_count": 46,
   "id": "4b392720",
   "metadata": {},
   "outputs": [],
   "source": [
    "from sklearn.tree import DecisionTreeClassifier"
   ]
  },
  {
   "cell_type": "code",
   "execution_count": 47,
   "id": "6f6a1774",
   "metadata": {},
   "outputs": [],
   "source": [
    "from sklearn.metrics import confusion_matrix,accuracy_score"
   ]
  },
  {
   "cell_type": "code",
   "execution_count": 48,
   "id": "b163fc7d",
   "metadata": {},
   "outputs": [
    {
     "data": {
      "text/plain": [
       "DecisionTreeClassifier()"
      ]
     },
     "execution_count": 48,
     "metadata": {},
     "output_type": "execute_result"
    }
   ],
   "source": [
    "clf=DecisionTreeClassifier()\n",
    "clf.fit(x_train,y_train)"
   ]
  },
  {
   "cell_type": "code",
   "execution_count": 49,
   "id": "36c626c6",
   "metadata": {},
   "outputs": [
    {
     "data": {
      "text/plain": [
       "1.0"
      ]
     },
     "execution_count": 49,
     "metadata": {},
     "output_type": "execute_result"
    }
   ],
   "source": [
    "clf.score(x_train,y_train)"
   ]
  },
  {
   "cell_type": "code",
   "execution_count": 50,
   "id": "89c7787d",
   "metadata": {},
   "outputs": [
    {
     "data": {
      "text/plain": [
       "0.6724795640326976"
      ]
     },
     "execution_count": 50,
     "metadata": {},
     "output_type": "execute_result"
    }
   ],
   "source": [
    "y_pred1=clf.predict(x_test)\n",
    "accuracy_score(y_test,y_pred1)"
   ]
  },
  {
   "cell_type": "code",
   "execution_count": 51,
   "id": "28cdb8a3",
   "metadata": {},
   "outputs": [
    {
     "data": {
      "text/plain": [
       "array([[1099,  318],\n",
       "       [ 283,  135]], dtype=int64)"
      ]
     },
     "execution_count": 51,
     "metadata": {},
     "output_type": "execute_result"
    }
   ],
   "source": [
    "cfm=confusion_matrix(y_test,y_pred1)\n",
    "cfm"
   ]
  },
  {
   "cell_type": "code",
   "execution_count": 52,
   "id": "8439b438",
   "metadata": {},
   "outputs": [
    {
     "name": "stdout",
     "output_type": "stream",
     "text": [
      "              precision    recall  f1-score   support\n",
      "\n",
      "           0       0.80      0.78      0.79      1417\n",
      "           1       0.30      0.32      0.31       418\n",
      "\n",
      "    accuracy                           0.67      1835\n",
      "   macro avg       0.55      0.55      0.55      1835\n",
      "weighted avg       0.68      0.67      0.68      1835\n",
      "\n"
     ]
    }
   ],
   "source": [
    "print(classification_report(y_test,y_pred1,digits=2))"
   ]
  },
  {
   "cell_type": "code",
   "execution_count": 53,
   "id": "f03b4f3a",
   "metadata": {},
   "outputs": [],
   "source": [
    "from sklearn.model_selection import cross_val_score"
   ]
  },
  {
   "cell_type": "code",
   "execution_count": 54,
   "id": "a00f28a2",
   "metadata": {},
   "outputs": [
    {
     "data": {
      "text/plain": [
       "array([0.64237057, 0.67915531, 0.67098093, 0.58855586, 0.62576687])"
      ]
     },
     "execution_count": 54,
     "metadata": {},
     "output_type": "execute_result"
    }
   ],
   "source": [
    "scores = cross_val_score(clf, X, y, cv=5)\n",
    "scores"
   ]
  },
  {
   "cell_type": "code",
   "execution_count": 55,
   "id": "9bff4857",
   "metadata": {},
   "outputs": [
    {
     "data": {
      "text/plain": [
       "0.6239386121757102"
      ]
     },
     "execution_count": 55,
     "metadata": {},
     "output_type": "execute_result"
    }
   ],
   "source": [
    "cross_val_score(clf, X, y, cv=10).mean()"
   ]
  },
  {
   "cell_type": "markdown",
   "id": "bc42fbb6",
   "metadata": {},
   "source": [
    "# RANDOM FOREST CLASSIFIER"
   ]
  },
  {
   "cell_type": "code",
   "execution_count": 56,
   "id": "7c35ab6d",
   "metadata": {},
   "outputs": [],
   "source": [
    "from sklearn.ensemble import RandomForestClassifier"
   ]
  },
  {
   "cell_type": "code",
   "execution_count": 57,
   "id": "3935c21f",
   "metadata": {},
   "outputs": [],
   "source": [
    "rfc = RandomForestClassifier(n_estimators=25, random_state=0)"
   ]
  },
  {
   "cell_type": "code",
   "execution_count": 58,
   "id": "4300def2",
   "metadata": {},
   "outputs": [
    {
     "data": {
      "text/plain": [
       "RandomForestClassifier(n_estimators=25, random_state=0)"
      ]
     },
     "execution_count": 58,
     "metadata": {},
     "output_type": "execute_result"
    }
   ],
   "source": [
    "rfc.fit(x_train, y_train)"
   ]
  },
  {
   "cell_type": "code",
   "execution_count": 59,
   "id": "0f031207",
   "metadata": {},
   "outputs": [
    {
     "data": {
      "text/plain": [
       "array([0, 0, 0, ..., 1, 0, 0])"
      ]
     },
     "execution_count": 59,
     "metadata": {},
     "output_type": "execute_result"
    }
   ],
   "source": [
    "y_pred2= rfc.predict(x_test)\n",
    "y_pred2"
   ]
  },
  {
   "cell_type": "code",
   "execution_count": 60,
   "id": "68fa055e",
   "metadata": {},
   "outputs": [
    {
     "name": "stdout",
     "output_type": "stream",
     "text": [
      "[[1297  120]\n",
      " [ 329   89]]\n",
      "              precision    recall  f1-score   support\n",
      "\n",
      "           0       0.80      0.92      0.85      1417\n",
      "           1       0.43      0.21      0.28       418\n",
      "\n",
      "    accuracy                           0.76      1835\n",
      "   macro avg       0.61      0.56      0.57      1835\n",
      "weighted avg       0.71      0.76      0.72      1835\n",
      "\n",
      "0.7553133514986377\n"
     ]
    }
   ],
   "source": [
    "from sklearn.metrics import classification_report, confusion_matrix, accuracy_score\n",
    "\n",
    "print(confusion_matrix(y_test,y_pred2))\n",
    "print(classification_report(y_test,y_pred2))\n",
    "print(accuracy_score(y_test, y_pred2))"
   ]
  },
  {
   "cell_type": "code",
   "execution_count": 61,
   "id": "3f0dbe22",
   "metadata": {},
   "outputs": [
    {
     "data": {
      "text/plain": [
       "array([0.76566757, 0.7493188 , 0.75613079, 0.74114441, 0.70572207,\n",
       "       0.70844687, 0.72615804, 0.72343324, 0.76158038, 0.7585266 ])"
      ]
     },
     "execution_count": 61,
     "metadata": {},
     "output_type": "execute_result"
    }
   ],
   "source": [
    "scores = cross_val_score(rfc, X, y, cv=10)\n",
    "scores"
   ]
  },
  {
   "cell_type": "code",
   "execution_count": 62,
   "id": "ccb1d393",
   "metadata": {},
   "outputs": [
    {
     "data": {
      "text/plain": [
       "0.7396128782837877"
      ]
     },
     "execution_count": 62,
     "metadata": {},
     "output_type": "execute_result"
    }
   ],
   "source": [
    "cross_val_score(rfc, X, y, cv=10).mean()"
   ]
  },
  {
   "cell_type": "markdown",
   "id": "4c3dc593",
   "metadata": {},
   "source": [
    "choosing randomforest classifier for predicting rainfall tomorrow"
   ]
  },
  {
   "cell_type": "markdown",
   "id": "44f06ab7",
   "metadata": {},
   "source": [
    "# HYPERPARAMETER TUNING"
   ]
  },
  {
   "cell_type": "code",
   "execution_count": 63,
   "id": "8eac5066",
   "metadata": {},
   "outputs": [],
   "source": [
    "rc = RandomForestClassifier(random_state=26)"
   ]
  },
  {
   "cell_type": "code",
   "execution_count": 64,
   "id": "960f644a",
   "metadata": {},
   "outputs": [],
   "source": [
    "from sklearn.model_selection import GridSearchCV"
   ]
  },
  {
   "cell_type": "code",
   "execution_count": 65,
   "id": "c379e238",
   "metadata": {},
   "outputs": [],
   "source": [
    "# Create the parameter grid based on the results of random search \n",
    "params = {\n",
    "    'max_depth': [3, 5,7,13],\n",
    "    'min_samples_leaf': [2, 3, 4, 5,],\n",
    "    'criterion': [\"gini\", \"entropy\"]\n",
    "}"
   ]
  },
  {
   "cell_type": "code",
   "execution_count": 66,
   "id": "6defbe54",
   "metadata": {},
   "outputs": [],
   "source": [
    "# Instantiate the grid search model\n",
    "grid_search = GridSearchCV(estimator=rc, \n",
    "                           param_grid=params, \n",
    "                           cv=5, n_jobs=-1, scoring = \"accuracy\")"
   ]
  },
  {
   "cell_type": "code",
   "execution_count": 67,
   "id": "16eccee1",
   "metadata": {},
   "outputs": [
    {
     "data": {
      "text/plain": [
       "GridSearchCV(cv=5, estimator=RandomForestClassifier(random_state=26), n_jobs=-1,\n",
       "             param_grid={'criterion': ['gini', 'entropy'],\n",
       "                         'max_depth': [3, 5, 7, 13],\n",
       "                         'min_samples_leaf': [2, 3, 4, 5]},\n",
       "             scoring='accuracy')"
      ]
     },
     "execution_count": 67,
     "metadata": {},
     "output_type": "execute_result"
    }
   ],
   "source": [
    "grid_search.fit(x_train, y_train)"
   ]
  },
  {
   "cell_type": "code",
   "execution_count": 68,
   "id": "8b9223c6",
   "metadata": {},
   "outputs": [
    {
     "data": {
      "text/plain": [
       "RandomForestClassifier(max_depth=7, min_samples_leaf=5, random_state=26)"
      ]
     },
     "execution_count": 68,
     "metadata": {},
     "output_type": "execute_result"
    }
   ],
   "source": [
    "grid_search.best_estimator_"
   ]
  },
  {
   "cell_type": "code",
   "execution_count": 69,
   "id": "025212f4",
   "metadata": {},
   "outputs": [],
   "source": [
    "gd=grid_search.best_estimator_"
   ]
  },
  {
   "cell_type": "code",
   "execution_count": 70,
   "id": "797c2991",
   "metadata": {},
   "outputs": [],
   "source": [
    "rfc = RandomForestClassifier(max_depth=7, min_samples_leaf=3, random_state=26)"
   ]
  },
  {
   "cell_type": "code",
   "execution_count": 71,
   "id": "16cabcf1",
   "metadata": {},
   "outputs": [
    {
     "data": {
      "text/plain": [
       "RandomForestClassifier(max_depth=7, min_samples_leaf=3, random_state=26)"
      ]
     },
     "execution_count": 71,
     "metadata": {},
     "output_type": "execute_result"
    }
   ],
   "source": [
    "rfc.fit(x_train,y_train)"
   ]
  },
  {
   "cell_type": "code",
   "execution_count": 72,
   "id": "f6e1db9c",
   "metadata": {},
   "outputs": [
    {
     "data": {
      "text/plain": [
       "0.7966933139534884"
      ]
     },
     "execution_count": 72,
     "metadata": {},
     "output_type": "execute_result"
    }
   ],
   "source": [
    "rfc.score(x_train,y_train)"
   ]
  },
  {
   "cell_type": "code",
   "execution_count": 73,
   "id": "6adcee97",
   "metadata": {},
   "outputs": [],
   "source": [
    "y_pred3=rfc.predict(x_test)"
   ]
  },
  {
   "cell_type": "code",
   "execution_count": 74,
   "id": "a3fc0d71",
   "metadata": {},
   "outputs": [
    {
     "data": {
      "text/plain": [
       "array([[1394,   23],\n",
       "       [ 399,   19]], dtype=int64)"
      ]
     },
     "execution_count": 74,
     "metadata": {},
     "output_type": "execute_result"
    }
   ],
   "source": [
    "cfm=confusion_matrix(y_test,y_pred3)\n",
    "cfm"
   ]
  },
  {
   "cell_type": "code",
   "execution_count": 75,
   "id": "fb76bd11",
   "metadata": {},
   "outputs": [
    {
     "name": "stdout",
     "output_type": "stream",
     "text": [
      "              precision    recall  f1-score   support\n",
      "\n",
      "           0       0.80      0.92      0.85      1417\n",
      "           1       0.43      0.21      0.28       418\n",
      "\n",
      "    accuracy                           0.76      1835\n",
      "   macro avg       0.61      0.56      0.57      1835\n",
      "weighted avg       0.71      0.76      0.72      1835\n",
      "\n"
     ]
    }
   ],
   "source": [
    "print(classification_report(y_test,y_pred2,digits=2))"
   ]
  },
  {
   "cell_type": "markdown",
   "id": "27599e17",
   "metadata": {},
   "source": [
    "APPLYING REGRESSION FOR RAINFALL PREDICTION"
   ]
  },
  {
   "cell_type": "code",
   "execution_count": 76,
   "id": "b6fca7cb",
   "metadata": {},
   "outputs": [
    {
     "data": {
      "text/plain": [
       "2771    0.0\n",
       "2342    0.0\n",
       "2728    0.0\n",
       "1942    0.0\n",
       "3863    0.0\n",
       "Name: Rainfall, dtype: float64"
      ]
     },
     "execution_count": 76,
     "metadata": {},
     "output_type": "execute_result"
    }
   ],
   "source": [
    "x_train1,x_test1,y_train1,y_test1=train_test_split(X_scaled,z,test_size=.25,random_state=62)\n",
    "y_train1.head()"
   ]
  },
  {
   "cell_type": "markdown",
   "id": "91fb2458",
   "metadata": {},
   "source": [
    "# LINEAR REGRESSION"
   ]
  },
  {
   "cell_type": "code",
   "execution_count": 77,
   "id": "29fefec6",
   "metadata": {},
   "outputs": [
    {
     "data": {
      "text/plain": [
       "LinearRegression()"
      ]
     },
     "execution_count": 77,
     "metadata": {},
     "output_type": "execute_result"
    }
   ],
   "source": [
    "regression=LinearRegression()\n",
    "regression.fit(x_train1,y_train1)"
   ]
  },
  {
   "cell_type": "code",
   "execution_count": 78,
   "id": "e3963bca",
   "metadata": {},
   "outputs": [
    {
     "data": {
      "text/plain": [
       "0.49330062165593236"
      ]
     },
     "execution_count": 78,
     "metadata": {},
     "output_type": "execute_result"
    }
   ],
   "source": [
    "regression.score(x_train1,y_train1)"
   ]
  },
  {
   "cell_type": "code",
   "execution_count": 79,
   "id": "b6bbf3a2",
   "metadata": {},
   "outputs": [
    {
     "data": {
      "text/plain": [
       "0.471464564251857"
      ]
     },
     "execution_count": 79,
     "metadata": {},
     "output_type": "execute_result"
    }
   ],
   "source": [
    "regression.score(x_test1,y_test1)"
   ]
  },
  {
   "cell_type": "code",
   "execution_count": 80,
   "id": "66f60995",
   "metadata": {},
   "outputs": [],
   "source": [
    "y_pred4=regression.predict(x_test1)"
   ]
  },
  {
   "cell_type": "code",
   "execution_count": 81,
   "id": "a4857c3a",
   "metadata": {},
   "outputs": [
    {
     "data": {
      "text/plain": [
       "array([ 0.10986004, -0.06948379,  0.04777229, ...,  7.90794526,\n",
       "        0.32685438,  0.17637096])"
      ]
     },
     "execution_count": 81,
     "metadata": {},
     "output_type": "execute_result"
    }
   ],
   "source": [
    "y_pred4"
   ]
  },
  {
   "cell_type": "markdown",
   "id": "72daf3e8",
   "metadata": {},
   "source": [
    "# ADABOOSTREGRESSOR"
   ]
  },
  {
   "cell_type": "code",
   "execution_count": 82,
   "id": "9bce98e6",
   "metadata": {},
   "outputs": [],
   "source": [
    "from sklearn.ensemble import AdaBoostRegressor"
   ]
  },
  {
   "cell_type": "code",
   "execution_count": 83,
   "id": "6eeaf289",
   "metadata": {},
   "outputs": [],
   "source": [
    "ada=AdaBoostRegressor()"
   ]
  },
  {
   "cell_type": "code",
   "execution_count": 84,
   "id": "8ce0e7d9",
   "metadata": {},
   "outputs": [
    {
     "data": {
      "text/plain": [
       "AdaBoostRegressor()"
      ]
     },
     "execution_count": 84,
     "metadata": {},
     "output_type": "execute_result"
    }
   ],
   "source": [
    "ada.fit(x_train1,y_train1)"
   ]
  },
  {
   "cell_type": "code",
   "execution_count": 85,
   "id": "2a99c1a9",
   "metadata": {},
   "outputs": [],
   "source": [
    "y_pred5=ada.predict(x_train1)"
   ]
  },
  {
   "cell_type": "code",
   "execution_count": 86,
   "id": "1f3aa6be",
   "metadata": {},
   "outputs": [],
   "source": [
    "from sklearn import metrics"
   ]
  },
  {
   "cell_type": "code",
   "execution_count": 87,
   "id": "738a3c88",
   "metadata": {},
   "outputs": [
    {
     "data": {
      "text/plain": [
       "0.41351543172941907"
      ]
     },
     "execution_count": 87,
     "metadata": {},
     "output_type": "execute_result"
    }
   ],
   "source": [
    "accuracy=metrics.r2_score(y_train1,y_pred5)\n",
    "accuracy"
   ]
  },
  {
   "cell_type": "code",
   "execution_count": 88,
   "id": "045442e1",
   "metadata": {},
   "outputs": [],
   "source": [
    "y_test_pred=ada.predict(x_test1)"
   ]
  },
  {
   "cell_type": "code",
   "execution_count": 89,
   "id": "db893068",
   "metadata": {},
   "outputs": [
    {
     "data": {
      "text/plain": [
       "0.39843468260520853"
      ]
     },
     "execution_count": 89,
     "metadata": {},
     "output_type": "execute_result"
    }
   ],
   "source": [
    "accuracy=metrics.r2_score(y_test1,y_test_pred)\n",
    "accuracy"
   ]
  },
  {
   "cell_type": "markdown",
   "id": "0a040a5c",
   "metadata": {},
   "source": [
    "# XGB BOOSTER"
   ]
  },
  {
   "cell_type": "code",
   "execution_count": 90,
   "id": "3dc506d6",
   "metadata": {},
   "outputs": [],
   "source": [
    "import xgboost as xgb"
   ]
  },
  {
   "cell_type": "code",
   "execution_count": 91,
   "id": "fe7af548",
   "metadata": {},
   "outputs": [],
   "source": [
    "xgb=xgb.XGBRegressor()"
   ]
  },
  {
   "cell_type": "code",
   "execution_count": 92,
   "id": "4bd10aa2",
   "metadata": {},
   "outputs": [
    {
     "data": {
      "text/plain": [
       "XGBRegressor(base_score=0.5, booster='gbtree', callbacks=None,\n",
       "             colsample_bylevel=1, colsample_bynode=1, colsample_bytree=1,\n",
       "             early_stopping_rounds=None, enable_categorical=False,\n",
       "             eval_metric=None, gamma=0, gpu_id=-1, grow_policy='depthwise',\n",
       "             importance_type=None, interaction_constraints='',\n",
       "             learning_rate=0.300000012, max_bin=256, max_cat_to_onehot=4,\n",
       "             max_delta_step=0, max_depth=6, max_leaves=0, min_child_weight=1,\n",
       "             missing=nan, monotone_constraints='()', n_estimators=100, n_jobs=0,\n",
       "             num_parallel_tree=1, predictor='auto', random_state=0, reg_alpha=0,\n",
       "             reg_lambda=1, ...)"
      ]
     },
     "execution_count": 92,
     "metadata": {},
     "output_type": "execute_result"
    }
   ],
   "source": [
    "xgb.fit(x_train1,y_train1)"
   ]
  },
  {
   "cell_type": "code",
   "execution_count": 93,
   "id": "a070bc7d",
   "metadata": {},
   "outputs": [
    {
     "data": {
      "text/plain": [
       "array([ 0.11174966, -0.02440465, -0.1393443 , ...,  3.5290735 ,\n",
       "        0.20898439,  0.278785  ], dtype=float32)"
      ]
     },
     "execution_count": 93,
     "metadata": {},
     "output_type": "execute_result"
    }
   ],
   "source": [
    "y_pred6=xgb.predict(x_test1)\n",
    "y_pred6"
   ]
  },
  {
   "cell_type": "code",
   "execution_count": 94,
   "id": "504f8da2",
   "metadata": {},
   "outputs": [],
   "source": [
    "from sklearn.metrics import r2_score"
   ]
  },
  {
   "cell_type": "code",
   "execution_count": 95,
   "id": "4fb2ffdb",
   "metadata": {},
   "outputs": [
    {
     "data": {
      "text/plain": [
       "0.4140652861395978"
      ]
     },
     "execution_count": 95,
     "metadata": {},
     "output_type": "execute_result"
    }
   ],
   "source": [
    "r2_score(y_test1,y_pred6)"
   ]
  },
  {
   "cell_type": "markdown",
   "id": "bd1a1537",
   "metadata": {},
   "source": [
    "# RANDOM FOREST REGRESSOR"
   ]
  },
  {
   "cell_type": "code",
   "execution_count": 96,
   "id": "8ca7faef",
   "metadata": {},
   "outputs": [],
   "source": [
    "from sklearn.ensemble import RandomForestRegressor\n",
    "\n",
    "regressor = RandomForestRegressor(n_estimators=20, random_state=0)\n",
    "regressor.fit(x_train1, y_train1)\n",
    "y_pred8 = regressor.predict(x_test1)"
   ]
  },
  {
   "cell_type": "code",
   "execution_count": 97,
   "id": "b11e12be",
   "metadata": {},
   "outputs": [
    {
     "data": {
      "text/plain": [
       "array([0.06, 0.02, 0.05, ..., 5.06, 0.02, 0.05])"
      ]
     },
     "execution_count": 97,
     "metadata": {},
     "output_type": "execute_result"
    }
   ],
   "source": [
    "y_pred8"
   ]
  },
  {
   "cell_type": "code",
   "execution_count": 98,
   "id": "a13d2279",
   "metadata": {},
   "outputs": [
    {
     "data": {
      "text/plain": [
       "0.46614395988458746"
      ]
     },
     "execution_count": 98,
     "metadata": {},
     "output_type": "execute_result"
    }
   ],
   "source": [
    "r2_score(y_test1,y_pred8)"
   ]
  },
  {
   "cell_type": "code",
   "execution_count": 99,
   "id": "92d74ddc",
   "metadata": {},
   "outputs": [
    {
     "name": "stdout",
     "output_type": "stream",
     "text": [
      "Mean Absolute Error: 1.3796993642143507\n",
      "Mean Squared Error: 12.70557091886164\n",
      "Root Mean Squared Error: 3.564487469309107\n"
     ]
    }
   ],
   "source": [
    "from sklearn import metrics\n",
    "\n",
    "print('Mean Absolute Error:', metrics.mean_absolute_error(y_test1, y_pred8))\n",
    "print('Mean Squared Error:', metrics.mean_squared_error(y_test1, y_pred8))\n",
    "print('Root Mean Squared Error:', np.sqrt(metrics.mean_squared_error(y_test1, y_pred8)))"
   ]
  },
  {
   "cell_type": "markdown",
   "id": "e8114cda",
   "metadata": {},
   "source": [
    "# From above results linear regression has been choosen"
   ]
  },
  {
   "cell_type": "code",
   "execution_count": 100,
   "id": "8284d3a9",
   "metadata": {},
   "outputs": [],
   "source": [
    "import pickle"
   ]
  },
  {
   "cell_type": "code",
   "execution_count": 101,
   "id": "3dfaeeef",
   "metadata": {},
   "outputs": [],
   "source": [
    "filename='rainfall_tomorrow'\n",
    "pickle.dump(rfc,open(filename,'wb'))\n",
    "loaded_model1=pickle.load(open(filename,'rb'))"
   ]
  },
  {
   "cell_type": "code",
   "execution_count": 102,
   "id": "547c3530",
   "metadata": {},
   "outputs": [],
   "source": [
    "filename='rainfall_prediction'\n",
    "pickle.dump(regression,open(filename,'wb'))\n",
    "loaded_model2=pickle.load(open(filename,'rb'))"
   ]
  },
  {
   "cell_type": "code",
   "execution_count": null,
   "id": "67fa0ffa",
   "metadata": {},
   "outputs": [],
   "source": []
  },
  {
   "cell_type": "code",
   "execution_count": null,
   "id": "5bc4cf60",
   "metadata": {},
   "outputs": [],
   "source": []
  }
 ],
 "metadata": {
  "kernelspec": {
   "display_name": "Python 3 (ipykernel)",
   "language": "python",
   "name": "python3"
  },
  "language_info": {
   "codemirror_mode": {
    "name": "ipython",
    "version": 3
   },
   "file_extension": ".py",
   "mimetype": "text/x-python",
   "name": "python",
   "nbconvert_exporter": "python",
   "pygments_lexer": "ipython3",
   "version": "3.9.7"
  }
 },
 "nbformat": 4,
 "nbformat_minor": 5
}
