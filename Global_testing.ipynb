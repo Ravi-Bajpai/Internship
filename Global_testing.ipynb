{
 "cells": [
  {
   "cell_type": "code",
   "execution_count": 404,
   "id": "69647961",
   "metadata": {},
   "outputs": [],
   "source": [
    "import pandas as pd\n",
    "import numpy as np\n",
    "from sklearn.preprocessing import StandardScaler\n",
    "from sklearn.linear_model import LinearRegression\n",
    "from sklearn.model_selection import train_test_split\n",
    "import matplotlib.pyplot as plt\n",
    "import seaborn as sns\n",
    "import pickle\n",
    "import warnings\n",
    "warnings.filterwarnings('ignore')"
   ]
  },
  {
   "cell_type": "code",
   "execution_count": 405,
   "id": "9ca598b0",
   "metadata": {},
   "outputs": [
    {
     "data": {
      "text/html": [
       "<div>\n",
       "<style scoped>\n",
       "    .dataframe tbody tr th:only-of-type {\n",
       "        vertical-align: middle;\n",
       "    }\n",
       "\n",
       "    .dataframe tbody tr th {\n",
       "        vertical-align: top;\n",
       "    }\n",
       "\n",
       "    .dataframe thead th {\n",
       "        text-align: right;\n",
       "    }\n",
       "</style>\n",
       "<table border=\"1\" class=\"dataframe\">\n",
       "  <thead>\n",
       "    <tr style=\"text-align: right;\">\n",
       "      <th></th>\n",
       "      <th>country</th>\n",
       "      <th>country_long</th>\n",
       "      <th>name</th>\n",
       "      <th>gppd_idnr</th>\n",
       "      <th>capacity_mw</th>\n",
       "      <th>latitude</th>\n",
       "      <th>longitude</th>\n",
       "      <th>primary_fuel</th>\n",
       "      <th>other_fuel1</th>\n",
       "      <th>other_fuel2</th>\n",
       "      <th>...</th>\n",
       "      <th>year_of_capacity_data</th>\n",
       "      <th>generation_gwh_2013</th>\n",
       "      <th>generation_gwh_2014</th>\n",
       "      <th>generation_gwh_2015</th>\n",
       "      <th>generation_gwh_2016</th>\n",
       "      <th>generation_gwh_2017</th>\n",
       "      <th>generation_gwh_2018</th>\n",
       "      <th>generation_gwh_2019</th>\n",
       "      <th>generation_data_source</th>\n",
       "      <th>estimated_generation_gwh</th>\n",
       "    </tr>\n",
       "  </thead>\n",
       "  <tbody>\n",
       "    <tr>\n",
       "      <th>0</th>\n",
       "      <td>IND</td>\n",
       "      <td>India</td>\n",
       "      <td>ACME Solar Tower</td>\n",
       "      <td>WRI1020239</td>\n",
       "      <td>2.5</td>\n",
       "      <td>28.1839</td>\n",
       "      <td>73.2407</td>\n",
       "      <td>Solar</td>\n",
       "      <td>NaN</td>\n",
       "      <td>NaN</td>\n",
       "      <td>...</td>\n",
       "      <td>NaN</td>\n",
       "      <td>NaN</td>\n",
       "      <td>NaN</td>\n",
       "      <td>NaN</td>\n",
       "      <td>NaN</td>\n",
       "      <td>NaN</td>\n",
       "      <td>NaN</td>\n",
       "      <td>NaN</td>\n",
       "      <td>NaN</td>\n",
       "      <td>NaN</td>\n",
       "    </tr>\n",
       "    <tr>\n",
       "      <th>1</th>\n",
       "      <td>IND</td>\n",
       "      <td>India</td>\n",
       "      <td>ADITYA CEMENT WORKS</td>\n",
       "      <td>WRI1019881</td>\n",
       "      <td>98.0</td>\n",
       "      <td>24.7663</td>\n",
       "      <td>74.6090</td>\n",
       "      <td>Coal</td>\n",
       "      <td>NaN</td>\n",
       "      <td>NaN</td>\n",
       "      <td>...</td>\n",
       "      <td>NaN</td>\n",
       "      <td>NaN</td>\n",
       "      <td>NaN</td>\n",
       "      <td>NaN</td>\n",
       "      <td>NaN</td>\n",
       "      <td>NaN</td>\n",
       "      <td>NaN</td>\n",
       "      <td>NaN</td>\n",
       "      <td>NaN</td>\n",
       "      <td>NaN</td>\n",
       "    </tr>\n",
       "    <tr>\n",
       "      <th>2</th>\n",
       "      <td>IND</td>\n",
       "      <td>India</td>\n",
       "      <td>AES Saurashtra Windfarms</td>\n",
       "      <td>WRI1026669</td>\n",
       "      <td>39.2</td>\n",
       "      <td>21.9038</td>\n",
       "      <td>69.3732</td>\n",
       "      <td>Wind</td>\n",
       "      <td>NaN</td>\n",
       "      <td>NaN</td>\n",
       "      <td>...</td>\n",
       "      <td>NaN</td>\n",
       "      <td>NaN</td>\n",
       "      <td>NaN</td>\n",
       "      <td>NaN</td>\n",
       "      <td>NaN</td>\n",
       "      <td>NaN</td>\n",
       "      <td>NaN</td>\n",
       "      <td>NaN</td>\n",
       "      <td>NaN</td>\n",
       "      <td>NaN</td>\n",
       "    </tr>\n",
       "    <tr>\n",
       "      <th>3</th>\n",
       "      <td>IND</td>\n",
       "      <td>India</td>\n",
       "      <td>AGARTALA GT</td>\n",
       "      <td>IND0000001</td>\n",
       "      <td>135.0</td>\n",
       "      <td>23.8712</td>\n",
       "      <td>91.3602</td>\n",
       "      <td>Gas</td>\n",
       "      <td>NaN</td>\n",
       "      <td>NaN</td>\n",
       "      <td>...</td>\n",
       "      <td>2019.0</td>\n",
       "      <td>NaN</td>\n",
       "      <td>617.789264</td>\n",
       "      <td>843.747</td>\n",
       "      <td>886.004428</td>\n",
       "      <td>663.774500</td>\n",
       "      <td>626.239128</td>\n",
       "      <td>NaN</td>\n",
       "      <td>Central Electricity Authority</td>\n",
       "      <td>NaN</td>\n",
       "    </tr>\n",
       "    <tr>\n",
       "      <th>4</th>\n",
       "      <td>IND</td>\n",
       "      <td>India</td>\n",
       "      <td>AKALTARA TPP</td>\n",
       "      <td>IND0000002</td>\n",
       "      <td>1800.0</td>\n",
       "      <td>21.9603</td>\n",
       "      <td>82.4091</td>\n",
       "      <td>Coal</td>\n",
       "      <td>Oil</td>\n",
       "      <td>NaN</td>\n",
       "      <td>...</td>\n",
       "      <td>2019.0</td>\n",
       "      <td>NaN</td>\n",
       "      <td>3035.550000</td>\n",
       "      <td>5916.370</td>\n",
       "      <td>6243.000000</td>\n",
       "      <td>5385.579736</td>\n",
       "      <td>7279.000000</td>\n",
       "      <td>NaN</td>\n",
       "      <td>Central Electricity Authority</td>\n",
       "      <td>NaN</td>\n",
       "    </tr>\n",
       "  </tbody>\n",
       "</table>\n",
       "<p>5 rows × 27 columns</p>\n",
       "</div>"
      ],
      "text/plain": [
       "  country country_long                      name   gppd_idnr  capacity_mw  \\\n",
       "0     IND        India          ACME Solar Tower  WRI1020239          2.5   \n",
       "1     IND        India       ADITYA CEMENT WORKS  WRI1019881         98.0   \n",
       "2     IND        India  AES Saurashtra Windfarms  WRI1026669         39.2   \n",
       "3     IND        India               AGARTALA GT  IND0000001        135.0   \n",
       "4     IND        India              AKALTARA TPP  IND0000002       1800.0   \n",
       "\n",
       "   latitude  longitude primary_fuel other_fuel1 other_fuel2  ...  \\\n",
       "0   28.1839    73.2407        Solar         NaN         NaN  ...   \n",
       "1   24.7663    74.6090         Coal         NaN         NaN  ...   \n",
       "2   21.9038    69.3732         Wind         NaN         NaN  ...   \n",
       "3   23.8712    91.3602          Gas         NaN         NaN  ...   \n",
       "4   21.9603    82.4091         Coal         Oil         NaN  ...   \n",
       "\n",
       "   year_of_capacity_data  generation_gwh_2013 generation_gwh_2014  \\\n",
       "0                    NaN                  NaN                 NaN   \n",
       "1                    NaN                  NaN                 NaN   \n",
       "2                    NaN                  NaN                 NaN   \n",
       "3                 2019.0                  NaN          617.789264   \n",
       "4                 2019.0                  NaN         3035.550000   \n",
       "\n",
       "  generation_gwh_2015 generation_gwh_2016 generation_gwh_2017  \\\n",
       "0                 NaN                 NaN                 NaN   \n",
       "1                 NaN                 NaN                 NaN   \n",
       "2                 NaN                 NaN                 NaN   \n",
       "3             843.747          886.004428          663.774500   \n",
       "4            5916.370         6243.000000         5385.579736   \n",
       "\n",
       "   generation_gwh_2018  generation_gwh_2019         generation_data_source  \\\n",
       "0                  NaN                  NaN                            NaN   \n",
       "1                  NaN                  NaN                            NaN   \n",
       "2                  NaN                  NaN                            NaN   \n",
       "3           626.239128                  NaN  Central Electricity Authority   \n",
       "4          7279.000000                  NaN  Central Electricity Authority   \n",
       "\n",
       "   estimated_generation_gwh  \n",
       "0                       NaN  \n",
       "1                       NaN  \n",
       "2                       NaN  \n",
       "3                       NaN  \n",
       "4                       NaN  \n",
       "\n",
       "[5 rows x 27 columns]"
      ]
     },
     "execution_count": 405,
     "metadata": {},
     "output_type": "execute_result"
    }
   ],
   "source": [
    "data=pd.read_csv('power_plant.csv')\n",
    "data.head()"
   ]
  },
  {
   "cell_type": "code",
   "execution_count": 406,
   "id": "287030b7",
   "metadata": {},
   "outputs": [
    {
     "data": {
      "text/plain": [
       "(907, 27)"
      ]
     },
     "execution_count": 406,
     "metadata": {},
     "output_type": "execute_result"
    }
   ],
   "source": [
    "data.shape"
   ]
  },
  {
   "cell_type": "code",
   "execution_count": 407,
   "id": "4ef8a02c",
   "metadata": {},
   "outputs": [
    {
     "name": "stdout",
     "output_type": "stream",
     "text": [
      "<class 'pandas.core.frame.DataFrame'>\n",
      "RangeIndex: 907 entries, 0 to 906\n",
      "Data columns (total 27 columns):\n",
      " #   Column                    Non-Null Count  Dtype  \n",
      "---  ------                    --------------  -----  \n",
      " 0   country                   907 non-null    object \n",
      " 1   country_long              907 non-null    object \n",
      " 2   name                      907 non-null    object \n",
      " 3   gppd_idnr                 907 non-null    object \n",
      " 4   capacity_mw               907 non-null    float64\n",
      " 5   latitude                  861 non-null    float64\n",
      " 6   longitude                 861 non-null    float64\n",
      " 7   primary_fuel              907 non-null    object \n",
      " 8   other_fuel1               198 non-null    object \n",
      " 9   other_fuel2               1 non-null      object \n",
      " 10  other_fuel3               0 non-null      float64\n",
      " 11  commissioning_year        527 non-null    float64\n",
      " 12  owner                     342 non-null    object \n",
      " 13  source                    907 non-null    object \n",
      " 14  url                       907 non-null    object \n",
      " 15  geolocation_source        888 non-null    object \n",
      " 16  wepp_id                   0 non-null      float64\n",
      " 17  year_of_capacity_data     519 non-null    float64\n",
      " 18  generation_gwh_2013       0 non-null      float64\n",
      " 19  generation_gwh_2014       398 non-null    float64\n",
      " 20  generation_gwh_2015       422 non-null    float64\n",
      " 21  generation_gwh_2016       434 non-null    float64\n",
      " 22  generation_gwh_2017       440 non-null    float64\n",
      " 23  generation_gwh_2018       448 non-null    float64\n",
      " 24  generation_gwh_2019       0 non-null      float64\n",
      " 25  generation_data_source    449 non-null    object \n",
      " 26  estimated_generation_gwh  0 non-null      float64\n",
      "dtypes: float64(15), object(12)\n",
      "memory usage: 191.4+ KB\n"
     ]
    }
   ],
   "source": [
    "data.info()"
   ]
  },
  {
   "cell_type": "code",
   "execution_count": 408,
   "id": "c369bcb8",
   "metadata": {},
   "outputs": [
    {
     "data": {
      "text/plain": [
       "country                       0\n",
       "country_long                  0\n",
       "name                          0\n",
       "gppd_idnr                     0\n",
       "capacity_mw                   0\n",
       "latitude                     46\n",
       "longitude                    46\n",
       "primary_fuel                  0\n",
       "other_fuel1                 709\n",
       "other_fuel2                 906\n",
       "other_fuel3                 907\n",
       "commissioning_year          380\n",
       "owner                       565\n",
       "source                        0\n",
       "url                           0\n",
       "geolocation_source           19\n",
       "wepp_id                     907\n",
       "year_of_capacity_data       388\n",
       "generation_gwh_2013         907\n",
       "generation_gwh_2014         509\n",
       "generation_gwh_2015         485\n",
       "generation_gwh_2016         473\n",
       "generation_gwh_2017         467\n",
       "generation_gwh_2018         459\n",
       "generation_gwh_2019         907\n",
       "generation_data_source      458\n",
       "estimated_generation_gwh    907\n",
       "dtype: int64"
      ]
     },
     "execution_count": 408,
     "metadata": {},
     "output_type": "execute_result"
    }
   ],
   "source": [
    "data.isnull().sum()"
   ]
  },
  {
   "cell_type": "code",
   "execution_count": 409,
   "id": "e606a3a6",
   "metadata": {},
   "outputs": [
    {
     "data": {
      "text/html": [
       "<div>\n",
       "<style scoped>\n",
       "    .dataframe tbody tr th:only-of-type {\n",
       "        vertical-align: middle;\n",
       "    }\n",
       "\n",
       "    .dataframe tbody tr th {\n",
       "        vertical-align: top;\n",
       "    }\n",
       "\n",
       "    .dataframe thead th {\n",
       "        text-align: right;\n",
       "    }\n",
       "</style>\n",
       "<table border=\"1\" class=\"dataframe\">\n",
       "  <thead>\n",
       "    <tr style=\"text-align: right;\">\n",
       "      <th></th>\n",
       "      <th>country</th>\n",
       "      <th>country_long</th>\n",
       "      <th>name</th>\n",
       "      <th>gppd_idnr</th>\n",
       "      <th>capacity_mw</th>\n",
       "      <th>latitude</th>\n",
       "      <th>longitude</th>\n",
       "      <th>primary_fuel</th>\n",
       "      <th>other_fuel1</th>\n",
       "      <th>commissioning_year</th>\n",
       "      <th>...</th>\n",
       "      <th>source</th>\n",
       "      <th>url</th>\n",
       "      <th>geolocation_source</th>\n",
       "      <th>year_of_capacity_data</th>\n",
       "      <th>generation_gwh_2014</th>\n",
       "      <th>generation_gwh_2015</th>\n",
       "      <th>generation_gwh_2016</th>\n",
       "      <th>generation_gwh_2017</th>\n",
       "      <th>generation_gwh_2018</th>\n",
       "      <th>generation_data_source</th>\n",
       "    </tr>\n",
       "  </thead>\n",
       "  <tbody>\n",
       "    <tr>\n",
       "      <th>0</th>\n",
       "      <td>IND</td>\n",
       "      <td>India</td>\n",
       "      <td>ACME Solar Tower</td>\n",
       "      <td>WRI1020239</td>\n",
       "      <td>2.5</td>\n",
       "      <td>28.1839</td>\n",
       "      <td>73.2407</td>\n",
       "      <td>Solar</td>\n",
       "      <td>NaN</td>\n",
       "      <td>2011.0</td>\n",
       "      <td>...</td>\n",
       "      <td>National Renewable Energy Laboratory</td>\n",
       "      <td>http://www.nrel.gov/csp/solarpaces/project_det...</td>\n",
       "      <td>National Renewable Energy Laboratory</td>\n",
       "      <td>NaN</td>\n",
       "      <td>NaN</td>\n",
       "      <td>NaN</td>\n",
       "      <td>NaN</td>\n",
       "      <td>NaN</td>\n",
       "      <td>NaN</td>\n",
       "      <td>NaN</td>\n",
       "    </tr>\n",
       "    <tr>\n",
       "      <th>1</th>\n",
       "      <td>IND</td>\n",
       "      <td>India</td>\n",
       "      <td>ADITYA CEMENT WORKS</td>\n",
       "      <td>WRI1019881</td>\n",
       "      <td>98.0</td>\n",
       "      <td>24.7663</td>\n",
       "      <td>74.6090</td>\n",
       "      <td>Coal</td>\n",
       "      <td>NaN</td>\n",
       "      <td>NaN</td>\n",
       "      <td>...</td>\n",
       "      <td>Ultratech Cement ltd</td>\n",
       "      <td>http://www.ultratechcement.com/</td>\n",
       "      <td>WRI</td>\n",
       "      <td>NaN</td>\n",
       "      <td>NaN</td>\n",
       "      <td>NaN</td>\n",
       "      <td>NaN</td>\n",
       "      <td>NaN</td>\n",
       "      <td>NaN</td>\n",
       "      <td>NaN</td>\n",
       "    </tr>\n",
       "    <tr>\n",
       "      <th>2</th>\n",
       "      <td>IND</td>\n",
       "      <td>India</td>\n",
       "      <td>AES Saurashtra Windfarms</td>\n",
       "      <td>WRI1026669</td>\n",
       "      <td>39.2</td>\n",
       "      <td>21.9038</td>\n",
       "      <td>69.3732</td>\n",
       "      <td>Wind</td>\n",
       "      <td>NaN</td>\n",
       "      <td>NaN</td>\n",
       "      <td>...</td>\n",
       "      <td>CDM</td>\n",
       "      <td>https://cdm.unfccc.int/Projects/DB/DNV-CUK1328...</td>\n",
       "      <td>WRI</td>\n",
       "      <td>NaN</td>\n",
       "      <td>NaN</td>\n",
       "      <td>NaN</td>\n",
       "      <td>NaN</td>\n",
       "      <td>NaN</td>\n",
       "      <td>NaN</td>\n",
       "      <td>NaN</td>\n",
       "    </tr>\n",
       "    <tr>\n",
       "      <th>3</th>\n",
       "      <td>IND</td>\n",
       "      <td>India</td>\n",
       "      <td>AGARTALA GT</td>\n",
       "      <td>IND0000001</td>\n",
       "      <td>135.0</td>\n",
       "      <td>23.8712</td>\n",
       "      <td>91.3602</td>\n",
       "      <td>Gas</td>\n",
       "      <td>NaN</td>\n",
       "      <td>2004.0</td>\n",
       "      <td>...</td>\n",
       "      <td>Central Electricity Authority</td>\n",
       "      <td>http://www.cea.nic.in/</td>\n",
       "      <td>WRI</td>\n",
       "      <td>2019.0</td>\n",
       "      <td>617.789264</td>\n",
       "      <td>843.747</td>\n",
       "      <td>886.004428</td>\n",
       "      <td>663.774500</td>\n",
       "      <td>626.239128</td>\n",
       "      <td>Central Electricity Authority</td>\n",
       "    </tr>\n",
       "    <tr>\n",
       "      <th>4</th>\n",
       "      <td>IND</td>\n",
       "      <td>India</td>\n",
       "      <td>AKALTARA TPP</td>\n",
       "      <td>IND0000002</td>\n",
       "      <td>1800.0</td>\n",
       "      <td>21.9603</td>\n",
       "      <td>82.4091</td>\n",
       "      <td>Coal</td>\n",
       "      <td>Oil</td>\n",
       "      <td>2015.0</td>\n",
       "      <td>...</td>\n",
       "      <td>Central Electricity Authority</td>\n",
       "      <td>http://www.cea.nic.in/</td>\n",
       "      <td>WRI</td>\n",
       "      <td>2019.0</td>\n",
       "      <td>3035.550000</td>\n",
       "      <td>5916.370</td>\n",
       "      <td>6243.000000</td>\n",
       "      <td>5385.579736</td>\n",
       "      <td>7279.000000</td>\n",
       "      <td>Central Electricity Authority</td>\n",
       "    </tr>\n",
       "  </tbody>\n",
       "</table>\n",
       "<p>5 rows × 21 columns</p>\n",
       "</div>"
      ],
      "text/plain": [
       "  country country_long                      name   gppd_idnr  capacity_mw  \\\n",
       "0     IND        India          ACME Solar Tower  WRI1020239          2.5   \n",
       "1     IND        India       ADITYA CEMENT WORKS  WRI1019881         98.0   \n",
       "2     IND        India  AES Saurashtra Windfarms  WRI1026669         39.2   \n",
       "3     IND        India               AGARTALA GT  IND0000001        135.0   \n",
       "4     IND        India              AKALTARA TPP  IND0000002       1800.0   \n",
       "\n",
       "   latitude  longitude primary_fuel other_fuel1  commissioning_year  ...  \\\n",
       "0   28.1839    73.2407        Solar         NaN              2011.0  ...   \n",
       "1   24.7663    74.6090         Coal         NaN                 NaN  ...   \n",
       "2   21.9038    69.3732         Wind         NaN                 NaN  ...   \n",
       "3   23.8712    91.3602          Gas         NaN              2004.0  ...   \n",
       "4   21.9603    82.4091         Coal         Oil              2015.0  ...   \n",
       "\n",
       "                                 source  \\\n",
       "0  National Renewable Energy Laboratory   \n",
       "1                  Ultratech Cement ltd   \n",
       "2                                   CDM   \n",
       "3         Central Electricity Authority   \n",
       "4         Central Electricity Authority   \n",
       "\n",
       "                                                 url  \\\n",
       "0  http://www.nrel.gov/csp/solarpaces/project_det...   \n",
       "1                    http://www.ultratechcement.com/   \n",
       "2  https://cdm.unfccc.int/Projects/DB/DNV-CUK1328...   \n",
       "3                             http://www.cea.nic.in/   \n",
       "4                             http://www.cea.nic.in/   \n",
       "\n",
       "                     geolocation_source year_of_capacity_data  \\\n",
       "0  National Renewable Energy Laboratory                   NaN   \n",
       "1                                   WRI                   NaN   \n",
       "2                                   WRI                   NaN   \n",
       "3                                   WRI                2019.0   \n",
       "4                                   WRI                2019.0   \n",
       "\n",
       "   generation_gwh_2014  generation_gwh_2015  generation_gwh_2016  \\\n",
       "0                  NaN                  NaN                  NaN   \n",
       "1                  NaN                  NaN                  NaN   \n",
       "2                  NaN                  NaN                  NaN   \n",
       "3           617.789264              843.747           886.004428   \n",
       "4          3035.550000             5916.370          6243.000000   \n",
       "\n",
       "   generation_gwh_2017  generation_gwh_2018         generation_data_source  \n",
       "0                  NaN                  NaN                            NaN  \n",
       "1                  NaN                  NaN                            NaN  \n",
       "2                  NaN                  NaN                            NaN  \n",
       "3           663.774500           626.239128  Central Electricity Authority  \n",
       "4          5385.579736          7279.000000  Central Electricity Authority  \n",
       "\n",
       "[5 rows x 21 columns]"
      ]
     },
     "execution_count": 409,
     "metadata": {},
     "output_type": "execute_result"
    }
   ],
   "source": [
    "#droping the column having null valued in all the rows\n",
    "data=data.drop(['other_fuel2','other_fuel3','wepp_id','generation_gwh_2013','generation_gwh_2019','estimated_generation_gwh'],1)\n",
    "data.head()"
   ]
  },
  {
   "cell_type": "code",
   "execution_count": 410,
   "id": "957a5915",
   "metadata": {},
   "outputs": [
    {
     "data": {
      "text/html": [
       "<div>\n",
       "<style scoped>\n",
       "    .dataframe tbody tr th:only-of-type {\n",
       "        vertical-align: middle;\n",
       "    }\n",
       "\n",
       "    .dataframe tbody tr th {\n",
       "        vertical-align: top;\n",
       "    }\n",
       "\n",
       "    .dataframe thead th {\n",
       "        text-align: right;\n",
       "    }\n",
       "</style>\n",
       "<table border=\"1\" class=\"dataframe\">\n",
       "  <thead>\n",
       "    <tr style=\"text-align: right;\">\n",
       "      <th></th>\n",
       "      <th>capacity_mw</th>\n",
       "      <th>latitude</th>\n",
       "      <th>longitude</th>\n",
       "      <th>primary_fuel</th>\n",
       "      <th>other_fuel1</th>\n",
       "      <th>geolocation_source</th>\n",
       "      <th>generation_gwh_2014</th>\n",
       "      <th>generation_gwh_2015</th>\n",
       "      <th>generation_gwh_2016</th>\n",
       "      <th>generation_gwh_2017</th>\n",
       "      <th>generation_gwh_2018</th>\n",
       "      <th>generation_data_source</th>\n",
       "    </tr>\n",
       "  </thead>\n",
       "  <tbody>\n",
       "    <tr>\n",
       "      <th>0</th>\n",
       "      <td>2.5</td>\n",
       "      <td>28.1839</td>\n",
       "      <td>73.2407</td>\n",
       "      <td>Solar</td>\n",
       "      <td>NaN</td>\n",
       "      <td>National Renewable Energy Laboratory</td>\n",
       "      <td>NaN</td>\n",
       "      <td>NaN</td>\n",
       "      <td>NaN</td>\n",
       "      <td>NaN</td>\n",
       "      <td>NaN</td>\n",
       "      <td>NaN</td>\n",
       "    </tr>\n",
       "    <tr>\n",
       "      <th>1</th>\n",
       "      <td>98.0</td>\n",
       "      <td>24.7663</td>\n",
       "      <td>74.6090</td>\n",
       "      <td>Coal</td>\n",
       "      <td>NaN</td>\n",
       "      <td>WRI</td>\n",
       "      <td>NaN</td>\n",
       "      <td>NaN</td>\n",
       "      <td>NaN</td>\n",
       "      <td>NaN</td>\n",
       "      <td>NaN</td>\n",
       "      <td>NaN</td>\n",
       "    </tr>\n",
       "    <tr>\n",
       "      <th>2</th>\n",
       "      <td>39.2</td>\n",
       "      <td>21.9038</td>\n",
       "      <td>69.3732</td>\n",
       "      <td>Wind</td>\n",
       "      <td>NaN</td>\n",
       "      <td>WRI</td>\n",
       "      <td>NaN</td>\n",
       "      <td>NaN</td>\n",
       "      <td>NaN</td>\n",
       "      <td>NaN</td>\n",
       "      <td>NaN</td>\n",
       "      <td>NaN</td>\n",
       "    </tr>\n",
       "    <tr>\n",
       "      <th>3</th>\n",
       "      <td>135.0</td>\n",
       "      <td>23.8712</td>\n",
       "      <td>91.3602</td>\n",
       "      <td>Gas</td>\n",
       "      <td>NaN</td>\n",
       "      <td>WRI</td>\n",
       "      <td>617.789264</td>\n",
       "      <td>843.747</td>\n",
       "      <td>886.004428</td>\n",
       "      <td>663.774500</td>\n",
       "      <td>626.239128</td>\n",
       "      <td>Central Electricity Authority</td>\n",
       "    </tr>\n",
       "    <tr>\n",
       "      <th>4</th>\n",
       "      <td>1800.0</td>\n",
       "      <td>21.9603</td>\n",
       "      <td>82.4091</td>\n",
       "      <td>Coal</td>\n",
       "      <td>Oil</td>\n",
       "      <td>WRI</td>\n",
       "      <td>3035.550000</td>\n",
       "      <td>5916.370</td>\n",
       "      <td>6243.000000</td>\n",
       "      <td>5385.579736</td>\n",
       "      <td>7279.000000</td>\n",
       "      <td>Central Electricity Authority</td>\n",
       "    </tr>\n",
       "  </tbody>\n",
       "</table>\n",
       "</div>"
      ],
      "text/plain": [
       "   capacity_mw  latitude  longitude primary_fuel other_fuel1  \\\n",
       "0          2.5   28.1839    73.2407        Solar         NaN   \n",
       "1         98.0   24.7663    74.6090         Coal         NaN   \n",
       "2         39.2   21.9038    69.3732         Wind         NaN   \n",
       "3        135.0   23.8712    91.3602          Gas         NaN   \n",
       "4       1800.0   21.9603    82.4091         Coal         Oil   \n",
       "\n",
       "                     geolocation_source  generation_gwh_2014  \\\n",
       "0  National Renewable Energy Laboratory                  NaN   \n",
       "1                                   WRI                  NaN   \n",
       "2                                   WRI                  NaN   \n",
       "3                                   WRI           617.789264   \n",
       "4                                   WRI          3035.550000   \n",
       "\n",
       "   generation_gwh_2015  generation_gwh_2016  generation_gwh_2017  \\\n",
       "0                  NaN                  NaN                  NaN   \n",
       "1                  NaN                  NaN                  NaN   \n",
       "2                  NaN                  NaN                  NaN   \n",
       "3              843.747           886.004428           663.774500   \n",
       "4             5916.370          6243.000000          5385.579736   \n",
       "\n",
       "   generation_gwh_2018         generation_data_source  \n",
       "0                  NaN                            NaN  \n",
       "1                  NaN                            NaN  \n",
       "2                  NaN                            NaN  \n",
       "3           626.239128  Central Electricity Authority  \n",
       "4          7279.000000  Central Electricity Authority  "
      ]
     },
     "execution_count": 410,
     "metadata": {},
     "output_type": "execute_result"
    }
   ],
   "source": [
    "#droping th column that does not effect on the label \n",
    "data=data.drop(['country','country_long','name','source','url','gppd_idnr','owner','commissioning_year','year_of_capacity_data'],1)\n",
    "data.head()"
   ]
  },
  {
   "cell_type": "code",
   "execution_count": 411,
   "id": "32b3b0ac",
   "metadata": {},
   "outputs": [
    {
     "data": {
      "text/plain": [
       "capacity_mw                 0\n",
       "latitude                   46\n",
       "longitude                  46\n",
       "primary_fuel                0\n",
       "other_fuel1               709\n",
       "geolocation_source         19\n",
       "generation_gwh_2014       509\n",
       "generation_gwh_2015       485\n",
       "generation_gwh_2016       473\n",
       "generation_gwh_2017       467\n",
       "generation_gwh_2018       459\n",
       "generation_data_source    458\n",
       "dtype: int64"
      ]
     },
     "execution_count": 411,
     "metadata": {},
     "output_type": "execute_result"
    }
   ],
   "source": [
    "data.isna().sum()"
   ]
  },
  {
   "cell_type": "code",
   "execution_count": 412,
   "id": "99a08a73",
   "metadata": {},
   "outputs": [],
   "source": [
    "#droping other fuel1 because no of null values are very high nearly 700 \n",
    "data=data.drop(['other_fuel1'],1)\n"
   ]
  },
  {
   "cell_type": "code",
   "execution_count": 413,
   "id": "7affaae0",
   "metadata": {},
   "outputs": [
    {
     "data": {
      "text/html": [
       "<div>\n",
       "<style scoped>\n",
       "    .dataframe tbody tr th:only-of-type {\n",
       "        vertical-align: middle;\n",
       "    }\n",
       "\n",
       "    .dataframe tbody tr th {\n",
       "        vertical-align: top;\n",
       "    }\n",
       "\n",
       "    .dataframe thead th {\n",
       "        text-align: right;\n",
       "    }\n",
       "</style>\n",
       "<table border=\"1\" class=\"dataframe\">\n",
       "  <thead>\n",
       "    <tr style=\"text-align: right;\">\n",
       "      <th></th>\n",
       "      <th>capacity_mw</th>\n",
       "      <th>latitude</th>\n",
       "      <th>longitude</th>\n",
       "      <th>primary_fuel</th>\n",
       "      <th>geolocation_source</th>\n",
       "      <th>generation_gwh_2014</th>\n",
       "      <th>generation_gwh_2015</th>\n",
       "      <th>generation_gwh_2016</th>\n",
       "      <th>generation_gwh_2017</th>\n",
       "      <th>generation_gwh_2018</th>\n",
       "      <th>generation_data_source</th>\n",
       "    </tr>\n",
       "  </thead>\n",
       "  <tbody>\n",
       "    <tr>\n",
       "      <th>3</th>\n",
       "      <td>135.0</td>\n",
       "      <td>23.8712</td>\n",
       "      <td>91.3602</td>\n",
       "      <td>Gas</td>\n",
       "      <td>WRI</td>\n",
       "      <td>617.789264</td>\n",
       "      <td>843.7470</td>\n",
       "      <td>886.004428</td>\n",
       "      <td>663.774500</td>\n",
       "      <td>626.239128</td>\n",
       "      <td>Central Electricity Authority</td>\n",
       "    </tr>\n",
       "    <tr>\n",
       "      <th>4</th>\n",
       "      <td>1800.0</td>\n",
       "      <td>21.9603</td>\n",
       "      <td>82.4091</td>\n",
       "      <td>Coal</td>\n",
       "      <td>WRI</td>\n",
       "      <td>3035.550000</td>\n",
       "      <td>5916.3700</td>\n",
       "      <td>6243.000000</td>\n",
       "      <td>5385.579736</td>\n",
       "      <td>7279.000000</td>\n",
       "      <td>Central Electricity Authority</td>\n",
       "    </tr>\n",
       "    <tr>\n",
       "      <th>5</th>\n",
       "      <td>250.0</td>\n",
       "      <td>23.7689</td>\n",
       "      <td>68.6447</td>\n",
       "      <td>Coal</td>\n",
       "      <td>WRI</td>\n",
       "      <td>1153.421000</td>\n",
       "      <td>1208.8520</td>\n",
       "      <td>1175.765000</td>\n",
       "      <td>1147.913000</td>\n",
       "      <td>976.655000</td>\n",
       "      <td>Central Electricity Authority</td>\n",
       "    </tr>\n",
       "    <tr>\n",
       "      <th>6</th>\n",
       "      <td>60.0</td>\n",
       "      <td>10.4547</td>\n",
       "      <td>77.0078</td>\n",
       "      <td>Hydro</td>\n",
       "      <td>WRI</td>\n",
       "      <td>157.558250</td>\n",
       "      <td>152.1952</td>\n",
       "      <td>61.421350</td>\n",
       "      <td>89.629600</td>\n",
       "      <td>48.327150</td>\n",
       "      <td>Central Electricity Authority</td>\n",
       "    </tr>\n",
       "    <tr>\n",
       "      <th>7</th>\n",
       "      <td>192.0</td>\n",
       "      <td>32.2258</td>\n",
       "      <td>77.2070</td>\n",
       "      <td>Hydro</td>\n",
       "      <td>WRI</td>\n",
       "      <td>674.391100</td>\n",
       "      <td>721.3352</td>\n",
       "      <td>675.724400</td>\n",
       "      <td>679.594950</td>\n",
       "      <td>579.318850</td>\n",
       "      <td>Central Electricity Authority</td>\n",
       "    </tr>\n",
       "  </tbody>\n",
       "</table>\n",
       "</div>"
      ],
      "text/plain": [
       "   capacity_mw  latitude  longitude primary_fuel geolocation_source  \\\n",
       "3        135.0   23.8712    91.3602          Gas                WRI   \n",
       "4       1800.0   21.9603    82.4091         Coal                WRI   \n",
       "5        250.0   23.7689    68.6447         Coal                WRI   \n",
       "6         60.0   10.4547    77.0078        Hydro                WRI   \n",
       "7        192.0   32.2258    77.2070        Hydro                WRI   \n",
       "\n",
       "   generation_gwh_2014  generation_gwh_2015  generation_gwh_2016  \\\n",
       "3           617.789264             843.7470           886.004428   \n",
       "4          3035.550000            5916.3700          6243.000000   \n",
       "5          1153.421000            1208.8520          1175.765000   \n",
       "6           157.558250             152.1952            61.421350   \n",
       "7           674.391100             721.3352           675.724400   \n",
       "\n",
       "   generation_gwh_2017  generation_gwh_2018         generation_data_source  \n",
       "3           663.774500           626.239128  Central Electricity Authority  \n",
       "4          5385.579736          7279.000000  Central Electricity Authority  \n",
       "5          1147.913000           976.655000  Central Electricity Authority  \n",
       "6            89.629600            48.327150  Central Electricity Authority  \n",
       "7           679.594950           579.318850  Central Electricity Authority  "
      ]
     },
     "execution_count": 413,
     "metadata": {},
     "output_type": "execute_result"
    }
   ],
   "source": [
    "data=data.dropna()\n",
    "data.head()"
   ]
  },
  {
   "cell_type": "code",
   "execution_count": 414,
   "id": "87f39145",
   "metadata": {},
   "outputs": [
    {
     "data": {
      "text/plain": [
       "(385, 11)"
      ]
     },
     "execution_count": 414,
     "metadata": {},
     "output_type": "execute_result"
    }
   ],
   "source": [
    "data.shape"
   ]
  },
  {
   "cell_type": "code",
   "execution_count": 415,
   "id": "d9efbbda",
   "metadata": {},
   "outputs": [
    {
     "data": {
      "text/html": [
       "<div>\n",
       "<style scoped>\n",
       "    .dataframe tbody tr th:only-of-type {\n",
       "        vertical-align: middle;\n",
       "    }\n",
       "\n",
       "    .dataframe tbody tr th {\n",
       "        vertical-align: top;\n",
       "    }\n",
       "\n",
       "    .dataframe thead th {\n",
       "        text-align: right;\n",
       "    }\n",
       "</style>\n",
       "<table border=\"1\" class=\"dataframe\">\n",
       "  <thead>\n",
       "    <tr style=\"text-align: right;\">\n",
       "      <th></th>\n",
       "      <th>capacity_mw</th>\n",
       "      <th>latitude</th>\n",
       "      <th>longitude</th>\n",
       "      <th>generation_gwh_2014</th>\n",
       "      <th>generation_gwh_2015</th>\n",
       "      <th>generation_gwh_2016</th>\n",
       "      <th>generation_gwh_2017</th>\n",
       "      <th>generation_gwh_2018</th>\n",
       "    </tr>\n",
       "  </thead>\n",
       "  <tbody>\n",
       "    <tr>\n",
       "      <th>count</th>\n",
       "      <td>385.000000</td>\n",
       "      <td>385.000000</td>\n",
       "      <td>385.000000</td>\n",
       "      <td>385.000000</td>\n",
       "      <td>385.000000</td>\n",
       "      <td>385.000000</td>\n",
       "      <td>385.000000</td>\n",
       "      <td>385.000000</td>\n",
       "    </tr>\n",
       "    <tr>\n",
       "      <th>mean</th>\n",
       "      <td>640.274743</td>\n",
       "      <td>21.696279</td>\n",
       "      <td>79.268877</td>\n",
       "      <td>2510.685975</td>\n",
       "      <td>2636.161828</td>\n",
       "      <td>2663.578355</td>\n",
       "      <td>2705.235164</td>\n",
       "      <td>2797.870947</td>\n",
       "    </tr>\n",
       "    <tr>\n",
       "      <th>std</th>\n",
       "      <td>743.287233</td>\n",
       "      <td>6.750157</td>\n",
       "      <td>5.107958</td>\n",
       "      <td>4070.550482</td>\n",
       "      <td>4332.263829</td>\n",
       "      <td>4341.935961</td>\n",
       "      <td>4384.682560</td>\n",
       "      <td>4539.626068</td>\n",
       "    </tr>\n",
       "    <tr>\n",
       "      <th>min</th>\n",
       "      <td>26.000000</td>\n",
       "      <td>8.169100</td>\n",
       "      <td>68.644700</td>\n",
       "      <td>0.000000</td>\n",
       "      <td>0.000000</td>\n",
       "      <td>0.000000</td>\n",
       "      <td>0.000000</td>\n",
       "      <td>0.000000</td>\n",
       "    </tr>\n",
       "    <tr>\n",
       "      <th>25%</th>\n",
       "      <td>114.750000</td>\n",
       "      <td>16.640000</td>\n",
       "      <td>76.141800</td>\n",
       "      <td>251.943950</td>\n",
       "      <td>252.501150</td>\n",
       "      <td>210.930050</td>\n",
       "      <td>203.596900</td>\n",
       "      <td>229.874850</td>\n",
       "    </tr>\n",
       "    <tr>\n",
       "      <th>50%</th>\n",
       "      <td>394.000000</td>\n",
       "      <td>22.325600</td>\n",
       "      <td>77.980000</td>\n",
       "      <td>882.664500</td>\n",
       "      <td>909.000000</td>\n",
       "      <td>933.370000</td>\n",
       "      <td>858.734750</td>\n",
       "      <td>940.390000</td>\n",
       "    </tr>\n",
       "    <tr>\n",
       "      <th>75%</th>\n",
       "      <td>1000.000000</td>\n",
       "      <td>26.487500</td>\n",
       "      <td>82.293000</td>\n",
       "      <td>3107.282000</td>\n",
       "      <td>3378.120000</td>\n",
       "      <td>3365.746000</td>\n",
       "      <td>3459.695000</td>\n",
       "      <td>3319.054000</td>\n",
       "    </tr>\n",
       "    <tr>\n",
       "      <th>max</th>\n",
       "      <td>4760.000000</td>\n",
       "      <td>34.490300</td>\n",
       "      <td>95.408000</td>\n",
       "      <td>28127.000000</td>\n",
       "      <td>30539.000000</td>\n",
       "      <td>30015.000000</td>\n",
       "      <td>35116.000000</td>\n",
       "      <td>35136.000000</td>\n",
       "    </tr>\n",
       "  </tbody>\n",
       "</table>\n",
       "</div>"
      ],
      "text/plain": [
       "       capacity_mw    latitude   longitude  generation_gwh_2014  \\\n",
       "count   385.000000  385.000000  385.000000           385.000000   \n",
       "mean    640.274743   21.696279   79.268877          2510.685975   \n",
       "std     743.287233    6.750157    5.107958          4070.550482   \n",
       "min      26.000000    8.169100   68.644700             0.000000   \n",
       "25%     114.750000   16.640000   76.141800           251.943950   \n",
       "50%     394.000000   22.325600   77.980000           882.664500   \n",
       "75%    1000.000000   26.487500   82.293000          3107.282000   \n",
       "max    4760.000000   34.490300   95.408000         28127.000000   \n",
       "\n",
       "       generation_gwh_2015  generation_gwh_2016  generation_gwh_2017  \\\n",
       "count           385.000000           385.000000           385.000000   \n",
       "mean           2636.161828          2663.578355          2705.235164   \n",
       "std            4332.263829          4341.935961          4384.682560   \n",
       "min               0.000000             0.000000             0.000000   \n",
       "25%             252.501150           210.930050           203.596900   \n",
       "50%             909.000000           933.370000           858.734750   \n",
       "75%            3378.120000          3365.746000          3459.695000   \n",
       "max           30539.000000         30015.000000         35116.000000   \n",
       "\n",
       "       generation_gwh_2018  \n",
       "count           385.000000  \n",
       "mean           2797.870947  \n",
       "std            4539.626068  \n",
       "min               0.000000  \n",
       "25%             229.874850  \n",
       "50%             940.390000  \n",
       "75%            3319.054000  \n",
       "max           35136.000000  "
      ]
     },
     "execution_count": 415,
     "metadata": {},
     "output_type": "execute_result"
    }
   ],
   "source": [
    "data.describe()\n"
   ]
  },
  {
   "cell_type": "code",
   "execution_count": 540,
   "id": "a5c7b469",
   "metadata": {},
   "outputs": [],
   "source": [
    "# filling the nan values by means and mode\n",
    "#data['other_fuel1']=data['other_fuel1'].fillna(data['other_fuel1'].mode()[0])\n",
    "data['latitude']=data['latitude'].fillna(data['latitude'].mean())\n",
    "data['longitude']=data['longitude'].fillna(data['longitude'].mean())"
   ]
  },
  {
   "cell_type": "code",
   "execution_count": 417,
   "id": "37e458ae",
   "metadata": {},
   "outputs": [],
   "source": [
    "#data['commissioning_year']=data['commissioning_year'].fillna(data['commissioning_year'].mode()[0])\n",
    "#data['owner']=data['owner'].fillna(data['owner'].mode()[0])\n",
    "data['geolocation_source']=data['geolocation_source'].fillna(data['geolocation_source'].mode()[0])\n",
    "#data['year_of_capacity_data']=data['year_of_capacity_data'].fillna(data['year_of_capacity_data'].mode()[0])\n",
    "data['generation_data_source']=data['generation_data_source'].fillna(data['generation_data_source'].mode()[0])\n",
    "data['generation_gwh_2014']=data['generation_gwh_2014'].fillna(data['generation_gwh_2014'].mean())\n",
    "data['generation_gwh_2015']=data['generation_gwh_2015'].fillna(data['generation_gwh_2015'].mean())\n",
    "data['generation_gwh_2016']=data['generation_gwh_2016'].fillna(data['generation_gwh_2016'].mean())\n",
    "data['generation_gwh_2017']=data['generation_gwh_2017'].fillna(data['generation_gwh_2017'].mean())\n",
    "data['generation_gwh_2018']=data['generation_gwh_2018'].fillna(data['generation_gwh_2018'].mean())"
   ]
  },
  {
   "cell_type": "code",
   "execution_count": 418,
   "id": "49f4857b",
   "metadata": {},
   "outputs": [
    {
     "data": {
      "text/plain": [
       "capacity_mw               0\n",
       "latitude                  0\n",
       "longitude                 0\n",
       "primary_fuel              0\n",
       "geolocation_source        0\n",
       "generation_gwh_2014       0\n",
       "generation_gwh_2015       0\n",
       "generation_gwh_2016       0\n",
       "generation_gwh_2017       0\n",
       "generation_gwh_2018       0\n",
       "generation_data_source    0\n",
       "dtype: int64"
      ]
     },
     "execution_count": 418,
     "metadata": {},
     "output_type": "execute_result"
    }
   ],
   "source": [
    "data.isna().sum()"
   ]
  },
  {
   "cell_type": "markdown",
   "id": "a99bfddd",
   "metadata": {},
   "source": [
    "All the null values has been filled"
   ]
  },
  {
   "cell_type": "code",
   "execution_count": 419,
   "id": "56950dbe",
   "metadata": {},
   "outputs": [
    {
     "data": {
      "text/plain": [
       "capacity_mw               float64\n",
       "latitude                  float64\n",
       "longitude                 float64\n",
       "primary_fuel               object\n",
       "geolocation_source         object\n",
       "generation_gwh_2014       float64\n",
       "generation_gwh_2015       float64\n",
       "generation_gwh_2016       float64\n",
       "generation_gwh_2017       float64\n",
       "generation_gwh_2018       float64\n",
       "generation_data_source     object\n",
       "dtype: object"
      ]
     },
     "execution_count": 419,
     "metadata": {},
     "output_type": "execute_result"
    }
   ],
   "source": [
    "data.dtypes"
   ]
  },
  {
   "cell_type": "markdown",
   "id": "277ff817",
   "metadata": {},
   "source": [
    "using encoder to convert string into the numeric format"
   ]
  },
  {
   "cell_type": "code",
   "execution_count": 420,
   "id": "8d4f8d9f",
   "metadata": {},
   "outputs": [],
   "source": [
    "from sklearn.preprocessing import LabelEncoder"
   ]
  },
  {
   "cell_type": "code",
   "execution_count": 423,
   "id": "08890b7b",
   "metadata": {},
   "outputs": [],
   "source": [
    "lab_enc=LabelEncoder()\n",
    "df3=lab_enc.fit_transform(data['primary_fuel'])\n",
    "data['primary_fuel']=df3"
   ]
  },
  {
   "cell_type": "code",
   "execution_count": 426,
   "id": "30d23c77",
   "metadata": {},
   "outputs": [],
   "source": [
    "lab_enc=LabelEncoder()\n",
    "df6=lab_enc.fit_transform(data['geolocation_source'])\n",
    "data['geolocation_source']=df6"
   ]
  },
  {
   "cell_type": "code",
   "execution_count": 427,
   "id": "c0275eba",
   "metadata": {},
   "outputs": [],
   "source": [
    "lab_enc=LabelEncoder()\n",
    "df7=lab_enc.fit_transform(data['generation_data_source'])\n",
    "data['generation_data_source']=df7"
   ]
  },
  {
   "cell_type": "code",
   "execution_count": 428,
   "id": "56820e88",
   "metadata": {
    "scrolled": true
   },
   "outputs": [
    {
     "data": {
      "text/html": [
       "<div>\n",
       "<style scoped>\n",
       "    .dataframe tbody tr th:only-of-type {\n",
       "        vertical-align: middle;\n",
       "    }\n",
       "\n",
       "    .dataframe tbody tr th {\n",
       "        vertical-align: top;\n",
       "    }\n",
       "\n",
       "    .dataframe thead th {\n",
       "        text-align: right;\n",
       "    }\n",
       "</style>\n",
       "<table border=\"1\" class=\"dataframe\">\n",
       "  <thead>\n",
       "    <tr style=\"text-align: right;\">\n",
       "      <th></th>\n",
       "      <th>capacity_mw</th>\n",
       "      <th>latitude</th>\n",
       "      <th>longitude</th>\n",
       "      <th>primary_fuel</th>\n",
       "      <th>geolocation_source</th>\n",
       "      <th>generation_gwh_2014</th>\n",
       "      <th>generation_gwh_2015</th>\n",
       "      <th>generation_gwh_2016</th>\n",
       "      <th>generation_gwh_2017</th>\n",
       "      <th>generation_gwh_2018</th>\n",
       "      <th>generation_data_source</th>\n",
       "    </tr>\n",
       "  </thead>\n",
       "  <tbody>\n",
       "    <tr>\n",
       "      <th>3</th>\n",
       "      <td>135.0</td>\n",
       "      <td>23.8712</td>\n",
       "      <td>91.3602</td>\n",
       "      <td>1</td>\n",
       "      <td>0</td>\n",
       "      <td>617.789264</td>\n",
       "      <td>843.7470</td>\n",
       "      <td>886.004428</td>\n",
       "      <td>663.774500</td>\n",
       "      <td>626.239128</td>\n",
       "      <td>0</td>\n",
       "    </tr>\n",
       "    <tr>\n",
       "      <th>4</th>\n",
       "      <td>1800.0</td>\n",
       "      <td>21.9603</td>\n",
       "      <td>82.4091</td>\n",
       "      <td>0</td>\n",
       "      <td>0</td>\n",
       "      <td>3035.550000</td>\n",
       "      <td>5916.3700</td>\n",
       "      <td>6243.000000</td>\n",
       "      <td>5385.579736</td>\n",
       "      <td>7279.000000</td>\n",
       "      <td>0</td>\n",
       "    </tr>\n",
       "    <tr>\n",
       "      <th>5</th>\n",
       "      <td>250.0</td>\n",
       "      <td>23.7689</td>\n",
       "      <td>68.6447</td>\n",
       "      <td>0</td>\n",
       "      <td>0</td>\n",
       "      <td>1153.421000</td>\n",
       "      <td>1208.8520</td>\n",
       "      <td>1175.765000</td>\n",
       "      <td>1147.913000</td>\n",
       "      <td>976.655000</td>\n",
       "      <td>0</td>\n",
       "    </tr>\n",
       "    <tr>\n",
       "      <th>6</th>\n",
       "      <td>60.0</td>\n",
       "      <td>10.4547</td>\n",
       "      <td>77.0078</td>\n",
       "      <td>2</td>\n",
       "      <td>0</td>\n",
       "      <td>157.558250</td>\n",
       "      <td>152.1952</td>\n",
       "      <td>61.421350</td>\n",
       "      <td>89.629600</td>\n",
       "      <td>48.327150</td>\n",
       "      <td>0</td>\n",
       "    </tr>\n",
       "    <tr>\n",
       "      <th>7</th>\n",
       "      <td>192.0</td>\n",
       "      <td>32.2258</td>\n",
       "      <td>77.2070</td>\n",
       "      <td>2</td>\n",
       "      <td>0</td>\n",
       "      <td>674.391100</td>\n",
       "      <td>721.3352</td>\n",
       "      <td>675.724400</td>\n",
       "      <td>679.594950</td>\n",
       "      <td>579.318850</td>\n",
       "      <td>0</td>\n",
       "    </tr>\n",
       "  </tbody>\n",
       "</table>\n",
       "</div>"
      ],
      "text/plain": [
       "   capacity_mw  latitude  longitude  primary_fuel  geolocation_source  \\\n",
       "3        135.0   23.8712    91.3602             1                   0   \n",
       "4       1800.0   21.9603    82.4091             0                   0   \n",
       "5        250.0   23.7689    68.6447             0                   0   \n",
       "6         60.0   10.4547    77.0078             2                   0   \n",
       "7        192.0   32.2258    77.2070             2                   0   \n",
       "\n",
       "   generation_gwh_2014  generation_gwh_2015  generation_gwh_2016  \\\n",
       "3           617.789264             843.7470           886.004428   \n",
       "4          3035.550000            5916.3700          6243.000000   \n",
       "5          1153.421000            1208.8520          1175.765000   \n",
       "6           157.558250             152.1952            61.421350   \n",
       "7           674.391100             721.3352           675.724400   \n",
       "\n",
       "   generation_gwh_2017  generation_gwh_2018  generation_data_source  \n",
       "3           663.774500           626.239128                       0  \n",
       "4          5385.579736          7279.000000                       0  \n",
       "5          1147.913000           976.655000                       0  \n",
       "6            89.629600            48.327150                       0  \n",
       "7           679.594950           579.318850                       0  "
      ]
     },
     "execution_count": 428,
     "metadata": {},
     "output_type": "execute_result"
    }
   ],
   "source": [
    "data.head()"
   ]
  },
  {
   "cell_type": "code",
   "execution_count": 429,
   "id": "a3bc4d0d",
   "metadata": {},
   "outputs": [
    {
     "data": {
      "text/plain": [
       "(385, 11)"
      ]
     },
     "execution_count": 429,
     "metadata": {},
     "output_type": "execute_result"
    }
   ],
   "source": [
    "data.shape"
   ]
  },
  {
   "cell_type": "code",
   "execution_count": 430,
   "id": "73429d15",
   "metadata": {},
   "outputs": [
    {
     "data": {
      "image/png": "[encoded data removed]",
      "text/plain": [
       "<Figure size 1440x1440 with 11 Axes>"
      ]
     },
     "metadata": {},
     "output_type": "display_data"
    }
   ],
   "source": [
    "plt.figure(figsize=(20,20),facecolor='yellow')\n",
    "plotnumber=1\n",
    "for column in data:\n",
    "    if plotnumber<=20:\n",
    "        ax=plt.subplot(5,4,plotnumber)\n",
    "        sns.distplot(data[column])\n",
    "        plt.xlabel(column,fontsize=20)\n",
    "        \n",
    "    plotnumber+=1\n",
    "plt.show()"
   ]
  },
  {
   "cell_type": "code",
   "execution_count": 431,
   "id": "74248401",
   "metadata": {},
   "outputs": [
    {
     "data": {
      "text/html": [
       "<div>\n",
       "<style scoped>\n",
       "    .dataframe tbody tr th:only-of-type {\n",
       "        vertical-align: middle;\n",
       "    }\n",
       "\n",
       "    .dataframe tbody tr th {\n",
       "        vertical-align: top;\n",
       "    }\n",
       "\n",
       "    .dataframe thead th {\n",
       "        text-align: right;\n",
       "    }\n",
       "</style>\n",
       "<table border=\"1\" class=\"dataframe\">\n",
       "  <thead>\n",
       "    <tr style=\"text-align: right;\">\n",
       "      <th></th>\n",
       "      <th>capacity_mw</th>\n",
       "      <th>latitude</th>\n",
       "      <th>longitude</th>\n",
       "      <th>primary_fuel</th>\n",
       "      <th>geolocation_source</th>\n",
       "      <th>generation_gwh_2014</th>\n",
       "      <th>generation_gwh_2015</th>\n",
       "      <th>generation_gwh_2016</th>\n",
       "      <th>generation_gwh_2017</th>\n",
       "      <th>generation_gwh_2018</th>\n",
       "      <th>generation_data_source</th>\n",
       "    </tr>\n",
       "  </thead>\n",
       "  <tbody>\n",
       "    <tr>\n",
       "      <th>capacity_mw</th>\n",
       "      <td>1.000000</td>\n",
       "      <td>0.034079</td>\n",
       "      <td>-0.009168</td>\n",
       "      <td>-0.489104</td>\n",
       "      <td>NaN</td>\n",
       "      <td>0.837397</td>\n",
       "      <td>0.869655</td>\n",
       "      <td>0.895368</td>\n",
       "      <td>0.902214</td>\n",
       "      <td>0.915306</td>\n",
       "      <td>NaN</td>\n",
       "    </tr>\n",
       "    <tr>\n",
       "      <th>latitude</th>\n",
       "      <td>0.034079</td>\n",
       "      <td>1.000000</td>\n",
       "      <td>0.114790</td>\n",
       "      <td>0.016271</td>\n",
       "      <td>NaN</td>\n",
       "      <td>0.051562</td>\n",
       "      <td>0.045041</td>\n",
       "      <td>0.040880</td>\n",
       "      <td>0.059071</td>\n",
       "      <td>0.048709</td>\n",
       "      <td>NaN</td>\n",
       "    </tr>\n",
       "    <tr>\n",
       "      <th>longitude</th>\n",
       "      <td>-0.009168</td>\n",
       "      <td>0.114790</td>\n",
       "      <td>1.000000</td>\n",
       "      <td>-0.172285</td>\n",
       "      <td>NaN</td>\n",
       "      <td>0.010749</td>\n",
       "      <td>0.033744</td>\n",
       "      <td>0.055583</td>\n",
       "      <td>0.066631</td>\n",
       "      <td>0.062561</td>\n",
       "      <td>NaN</td>\n",
       "    </tr>\n",
       "    <tr>\n",
       "      <th>primary_fuel</th>\n",
       "      <td>-0.489104</td>\n",
       "      <td>0.016271</td>\n",
       "      <td>-0.172285</td>\n",
       "      <td>1.000000</td>\n",
       "      <td>NaN</td>\n",
       "      <td>-0.415422</td>\n",
       "      <td>-0.432535</td>\n",
       "      <td>-0.440490</td>\n",
       "      <td>-0.446759</td>\n",
       "      <td>-0.446221</td>\n",
       "      <td>NaN</td>\n",
       "    </tr>\n",
       "    <tr>\n",
       "      <th>geolocation_source</th>\n",
       "      <td>NaN</td>\n",
       "      <td>NaN</td>\n",
       "      <td>NaN</td>\n",
       "      <td>NaN</td>\n",
       "      <td>NaN</td>\n",
       "      <td>NaN</td>\n",
       "      <td>NaN</td>\n",
       "      <td>NaN</td>\n",
       "      <td>NaN</td>\n",
       "      <td>NaN</td>\n",
       "      <td>NaN</td>\n",
       "    </tr>\n",
       "    <tr>\n",
       "      <th>generation_gwh_2014</th>\n",
       "      <td>0.837397</td>\n",
       "      <td>0.051562</td>\n",
       "      <td>0.010749</td>\n",
       "      <td>-0.415422</td>\n",
       "      <td>NaN</td>\n",
       "      <td>1.000000</td>\n",
       "      <td>0.960653</td>\n",
       "      <td>0.936329</td>\n",
       "      <td>0.912093</td>\n",
       "      <td>0.901734</td>\n",
       "      <td>NaN</td>\n",
       "    </tr>\n",
       "    <tr>\n",
       "      <th>generation_gwh_2015</th>\n",
       "      <td>0.869655</td>\n",
       "      <td>0.045041</td>\n",
       "      <td>0.033744</td>\n",
       "      <td>-0.432535</td>\n",
       "      <td>NaN</td>\n",
       "      <td>0.960653</td>\n",
       "      <td>1.000000</td>\n",
       "      <td>0.978715</td>\n",
       "      <td>0.953315</td>\n",
       "      <td>0.945160</td>\n",
       "      <td>NaN</td>\n",
       "    </tr>\n",
       "    <tr>\n",
       "      <th>generation_gwh_2016</th>\n",
       "      <td>0.895368</td>\n",
       "      <td>0.040880</td>\n",
       "      <td>0.055583</td>\n",
       "      <td>-0.440490</td>\n",
       "      <td>NaN</td>\n",
       "      <td>0.936329</td>\n",
       "      <td>0.978715</td>\n",
       "      <td>1.000000</td>\n",
       "      <td>0.977779</td>\n",
       "      <td>0.969229</td>\n",
       "      <td>NaN</td>\n",
       "    </tr>\n",
       "    <tr>\n",
       "      <th>generation_gwh_2017</th>\n",
       "      <td>0.902214</td>\n",
       "      <td>0.059071</td>\n",
       "      <td>0.066631</td>\n",
       "      <td>-0.446759</td>\n",
       "      <td>NaN</td>\n",
       "      <td>0.912093</td>\n",
       "      <td>0.953315</td>\n",
       "      <td>0.977779</td>\n",
       "      <td>1.000000</td>\n",
       "      <td>0.987828</td>\n",
       "      <td>NaN</td>\n",
       "    </tr>\n",
       "    <tr>\n",
       "      <th>generation_gwh_2018</th>\n",
       "      <td>0.915306</td>\n",
       "      <td>0.048709</td>\n",
       "      <td>0.062561</td>\n",
       "      <td>-0.446221</td>\n",
       "      <td>NaN</td>\n",
       "      <td>0.901734</td>\n",
       "      <td>0.945160</td>\n",
       "      <td>0.969229</td>\n",
       "      <td>0.987828</td>\n",
       "      <td>1.000000</td>\n",
       "      <td>NaN</td>\n",
       "    </tr>\n",
       "    <tr>\n",
       "      <th>generation_data_source</th>\n",
       "      <td>NaN</td>\n",
       "      <td>NaN</td>\n",
       "      <td>NaN</td>\n",
       "      <td>NaN</td>\n",
       "      <td>NaN</td>\n",
       "      <td>NaN</td>\n",
       "      <td>NaN</td>\n",
       "      <td>NaN</td>\n",
       "      <td>NaN</td>\n",
       "      <td>NaN</td>\n",
       "      <td>NaN</td>\n",
       "    </tr>\n",
       "  </tbody>\n",
       "</table>\n",
       "</div>"
      ],
      "text/plain": [
       "                        capacity_mw  latitude  longitude  primary_fuel  \\\n",
       "capacity_mw                1.000000  0.034079  -0.009168     -0.489104   \n",
       "latitude                   0.034079  1.000000   0.114790      0.016271   \n",
       "longitude                 -0.009168  0.114790   1.000000     -0.172285   \n",
       "primary_fuel              -0.489104  0.016271  -0.172285      1.000000   \n",
       "geolocation_source              NaN       NaN        NaN           NaN   \n",
       "generation_gwh_2014        0.837397  0.051562   0.010749     -0.415422   \n",
       "generation_gwh_2015        0.869655  0.045041   0.033744     -0.432535   \n",
       "generation_gwh_2016        0.895368  0.040880   0.055583     -0.440490   \n",
       "generation_gwh_2017        0.902214  0.059071   0.066631     -0.446759   \n",
       "generation_gwh_2018        0.915306  0.048709   0.062561     -0.446221   \n",
       "generation_data_source          NaN       NaN        NaN           NaN   \n",
       "\n",
       "                        geolocation_source  generation_gwh_2014  \\\n",
       "capacity_mw                            NaN             0.837397   \n",
       "latitude                               NaN             0.051562   \n",
       "longitude                              NaN             0.010749   \n",
       "primary_fuel                           NaN            -0.415422   \n",
       "geolocation_source                     NaN                  NaN   \n",
       "generation_gwh_2014                    NaN             1.000000   \n",
       "generation_gwh_2015                    NaN             0.960653   \n",
       "generation_gwh_2016                    NaN             0.936329   \n",
       "generation_gwh_2017                    NaN             0.912093   \n",
       "generation_gwh_2018                    NaN             0.901734   \n",
       "generation_data_source                 NaN                  NaN   \n",
       "\n",
       "                        generation_gwh_2015  generation_gwh_2016  \\\n",
       "capacity_mw                        0.869655             0.895368   \n",
       "latitude                           0.045041             0.040880   \n",
       "longitude                          0.033744             0.055583   \n",
       "primary_fuel                      -0.432535            -0.440490   \n",
       "geolocation_source                      NaN                  NaN   \n",
       "generation_gwh_2014                0.960653             0.936329   \n",
       "generation_gwh_2015                1.000000             0.978715   \n",
       "generation_gwh_2016                0.978715             1.000000   \n",
       "generation_gwh_2017                0.953315             0.977779   \n",
       "generation_gwh_2018                0.945160             0.969229   \n",
       "generation_data_source                  NaN                  NaN   \n",
       "\n",
       "                        generation_gwh_2017  generation_gwh_2018  \\\n",
       "capacity_mw                        0.902214             0.915306   \n",
       "latitude                           0.059071             0.048709   \n",
       "longitude                          0.066631             0.062561   \n",
       "primary_fuel                      -0.446759            -0.446221   \n",
       "geolocation_source                      NaN                  NaN   \n",
       "generation_gwh_2014                0.912093             0.901734   \n",
       "generation_gwh_2015                0.953315             0.945160   \n",
       "generation_gwh_2016                0.977779             0.969229   \n",
       "generation_gwh_2017                1.000000             0.987828   \n",
       "generation_gwh_2018                0.987828             1.000000   \n",
       "generation_data_source                  NaN                  NaN   \n",
       "\n",
       "                        generation_data_source  \n",
       "capacity_mw                                NaN  \n",
       "latitude                                   NaN  \n",
       "longitude                                  NaN  \n",
       "primary_fuel                               NaN  \n",
       "geolocation_source                         NaN  \n",
       "generation_gwh_2014                        NaN  \n",
       "generation_gwh_2015                        NaN  \n",
       "generation_gwh_2016                        NaN  \n",
       "generation_gwh_2017                        NaN  \n",
       "generation_gwh_2018                        NaN  \n",
       "generation_data_source                     NaN  "
      ]
     },
     "execution_count": 431,
     "metadata": {},
     "output_type": "execute_result"
    }
   ],
   "source": [
    "data.corr()"
   ]
  },
  {
   "cell_type": "code",
   "execution_count": 432,
   "id": "f08ca3c8",
   "metadata": {},
   "outputs": [
    {
     "data": {
      "image/png": "[encoded data removed]",
      "text/plain": [
       "<Figure size 1296x1008 with 2 Axes>"
      ]
     },
     "metadata": {
      "needs_background": "light"
     },
     "output_type": "display_data"
    }
   ],
   "source": [
    "#df=data.drop(['generation_data_source','year_of_capacity_data'],1)\n",
    "data_corr=df.corr().abs()\n",
    "plt.figure(figsize=(18,14))\n",
    "sns.heatmap(data_corr,annot=True, annot_kws={'size':10})\n",
    "plt.show()"
   ]
  },
  {
   "cell_type": "markdown",
   "id": "7ba8886d",
   "metadata": {},
   "source": [
    "In heat map we can see many feaatures are corelated but they are from different years so no column has been droped "
   ]
  },
  {
   "cell_type": "markdown",
   "id": "b1104572",
   "metadata": {},
   "source": [
    "#Split the data into features and two label that is primary fuel anf capicity in mw"
   ]
  },
  {
   "cell_type": "code",
   "execution_count": 433,
   "id": "cc6420ca",
   "metadata": {},
   "outputs": [],
   "source": [
    "z=data['primary_fuel']\n",
    "y=data['capacity_mw']\n",
    "X=data.drop(columns=['primary_fuel','capacity_mw'])"
   ]
  },
  {
   "cell_type": "code",
   "execution_count": 434,
   "id": "c00aee82",
   "metadata": {},
   "outputs": [
    {
     "data": {
      "text/plain": [
       "3    1\n",
       "4    0\n",
       "5    0\n",
       "6    2\n",
       "7    2\n",
       "Name: primary_fuel, dtype: int32"
      ]
     },
     "execution_count": 434,
     "metadata": {},
     "output_type": "execute_result"
    }
   ],
   "source": [
    "z.head()"
   ]
  },
  {
   "cell_type": "code",
   "execution_count": 435,
   "id": "fa048f5a",
   "metadata": {},
   "outputs": [
    {
     "data": {
      "text/plain": [
       "3     135.0\n",
       "4    1800.0\n",
       "5     250.0\n",
       "6      60.0\n",
       "7     192.0\n",
       "Name: capacity_mw, dtype: float64"
      ]
     },
     "execution_count": 435,
     "metadata": {},
     "output_type": "execute_result"
    }
   ],
   "source": [
    "y.head()"
   ]
  },
  {
   "cell_type": "code",
   "execution_count": 436,
   "id": "64909819",
   "metadata": {},
   "outputs": [
    {
     "data": {
      "text/html": [
       "<div>\n",
       "<style scoped>\n",
       "    .dataframe tbody tr th:only-of-type {\n",
       "        vertical-align: middle;\n",
       "    }\n",
       "\n",
       "    .dataframe tbody tr th {\n",
       "        vertical-align: top;\n",
       "    }\n",
       "\n",
       "    .dataframe thead th {\n",
       "        text-align: right;\n",
       "    }\n",
       "</style>\n",
       "<table border=\"1\" class=\"dataframe\">\n",
       "  <thead>\n",
       "    <tr style=\"text-align: right;\">\n",
       "      <th></th>\n",
       "      <th>latitude</th>\n",
       "      <th>longitude</th>\n",
       "      <th>geolocation_source</th>\n",
       "      <th>generation_gwh_2014</th>\n",
       "      <th>generation_gwh_2015</th>\n",
       "      <th>generation_gwh_2016</th>\n",
       "      <th>generation_gwh_2017</th>\n",
       "      <th>generation_gwh_2018</th>\n",
       "      <th>generation_data_source</th>\n",
       "    </tr>\n",
       "  </thead>\n",
       "  <tbody>\n",
       "    <tr>\n",
       "      <th>3</th>\n",
       "      <td>23.8712</td>\n",
       "      <td>91.3602</td>\n",
       "      <td>0</td>\n",
       "      <td>617.789264</td>\n",
       "      <td>843.7470</td>\n",
       "      <td>886.004428</td>\n",
       "      <td>663.774500</td>\n",
       "      <td>626.239128</td>\n",
       "      <td>0</td>\n",
       "    </tr>\n",
       "    <tr>\n",
       "      <th>4</th>\n",
       "      <td>21.9603</td>\n",
       "      <td>82.4091</td>\n",
       "      <td>0</td>\n",
       "      <td>3035.550000</td>\n",
       "      <td>5916.3700</td>\n",
       "      <td>6243.000000</td>\n",
       "      <td>5385.579736</td>\n",
       "      <td>7279.000000</td>\n",
       "      <td>0</td>\n",
       "    </tr>\n",
       "    <tr>\n",
       "      <th>5</th>\n",
       "      <td>23.7689</td>\n",
       "      <td>68.6447</td>\n",
       "      <td>0</td>\n",
       "      <td>1153.421000</td>\n",
       "      <td>1208.8520</td>\n",
       "      <td>1175.765000</td>\n",
       "      <td>1147.913000</td>\n",
       "      <td>976.655000</td>\n",
       "      <td>0</td>\n",
       "    </tr>\n",
       "    <tr>\n",
       "      <th>6</th>\n",
       "      <td>10.4547</td>\n",
       "      <td>77.0078</td>\n",
       "      <td>0</td>\n",
       "      <td>157.558250</td>\n",
       "      <td>152.1952</td>\n",
       "      <td>61.421350</td>\n",
       "      <td>89.629600</td>\n",
       "      <td>48.327150</td>\n",
       "      <td>0</td>\n",
       "    </tr>\n",
       "    <tr>\n",
       "      <th>7</th>\n",
       "      <td>32.2258</td>\n",
       "      <td>77.2070</td>\n",
       "      <td>0</td>\n",
       "      <td>674.391100</td>\n",
       "      <td>721.3352</td>\n",
       "      <td>675.724400</td>\n",
       "      <td>679.594950</td>\n",
       "      <td>579.318850</td>\n",
       "      <td>0</td>\n",
       "    </tr>\n",
       "  </tbody>\n",
       "</table>\n",
       "</div>"
      ],
      "text/plain": [
       "   latitude  longitude  geolocation_source  generation_gwh_2014  \\\n",
       "3   23.8712    91.3602                   0           617.789264   \n",
       "4   21.9603    82.4091                   0          3035.550000   \n",
       "5   23.7689    68.6447                   0          1153.421000   \n",
       "6   10.4547    77.0078                   0           157.558250   \n",
       "7   32.2258    77.2070                   0           674.391100   \n",
       "\n",
       "   generation_gwh_2015  generation_gwh_2016  generation_gwh_2017  \\\n",
       "3             843.7470           886.004428           663.774500   \n",
       "4            5916.3700          6243.000000          5385.579736   \n",
       "5            1208.8520          1175.765000          1147.913000   \n",
       "6             152.1952            61.421350            89.629600   \n",
       "7             721.3352           675.724400           679.594950   \n",
       "\n",
       "   generation_gwh_2018  generation_data_source  \n",
       "3           626.239128                       0  \n",
       "4          7279.000000                       0  \n",
       "5           976.655000                       0  \n",
       "6            48.327150                       0  \n",
       "7           579.318850                       0  "
      ]
     },
     "execution_count": 436,
     "metadata": {},
     "output_type": "execute_result"
    }
   ],
   "source": [
    "X.head()"
   ]
  },
  {
   "cell_type": "code",
   "execution_count": 534,
   "id": "85166cfe",
   "metadata": {},
   "outputs": [
    {
     "data": {
      "text/plain": [
       "capacity_mw               2.228079\n",
       "latitude                 -0.191408\n",
       "longitude                 0.877964\n",
       "primary_fuel              0.178221\n",
       "geolocation_source        0.000000\n",
       "generation_gwh_2014       3.293382\n",
       "generation_gwh_2015       3.518539\n",
       "generation_gwh_2016       3.364050\n",
       "generation_gwh_2017       3.461765\n",
       "generation_gwh_2018       3.343555\n",
       "generation_data_source    0.000000\n",
       "dtype: float64"
      ]
     },
     "execution_count": 534,
     "metadata": {},
     "output_type": "execute_result"
    }
   ],
   "source": [
    "data.skew()\n"
   ]
  },
  {
   "cell_type": "markdown",
   "id": "1343b66e",
   "metadata": {},
   "source": [
    "APPLYING THE POWER TRANSFORMATION TO REMOVE THE SHEWNESS FROM THE DATA"
   ]
  },
  {
   "cell_type": "code",
   "execution_count": 437,
   "id": "1f24dee9",
   "metadata": {},
   "outputs": [],
   "source": [
    "from sklearn.preprocessing import power_transform"
   ]
  },
  {
   "cell_type": "code",
   "execution_count": 438,
   "id": "5deff8c7",
   "metadata": {},
   "outputs": [],
   "source": [
    "x_new=power_transform(X)\n"
   ]
  },
  {
   "cell_type": "code",
   "execution_count": 439,
   "id": "86da682f",
   "metadata": {},
   "outputs": [
    {
     "data": {
      "text/plain": [
       "array([[ 0.3064066 ,  1.94952859,  0.        , ..., -0.19205615,\n",
       "        -0.23540921,  0.        ],\n",
       "       [ 0.01878347,  0.74962578,  0.        , ...,  1.05273047,\n",
       "         1.25123377,  0.        ],\n",
       "       [ 0.2909325 , -3.0237682 ,  0.        , ...,  0.08928422,\n",
       "        -0.01271598,  0.        ],\n",
       "       ...,\n",
       "       [-0.23261723,  0.0954963 ,  0.        , ...,  0.0153252 ,\n",
       "        -0.03238595,  0.        ],\n",
       "       [ 1.29512488, -0.21640739,  0.        , ..., -0.7676968 ,\n",
       "        -0.66462399,  0.        ],\n",
       "       [ 1.26469131, -0.27291417,  0.        , ...,  0.6886215 ,\n",
       "         0.64492898,  0.        ]])"
      ]
     },
     "execution_count": 439,
     "metadata": {},
     "output_type": "execute_result"
    }
   ],
   "source": [
    "x_new"
   ]
  },
  {
   "cell_type": "code",
   "execution_count": 440,
   "id": "25fb3579",
   "metadata": {},
   "outputs": [
    {
     "data": {
      "text/plain": [
       "longitude                 0.009850\n",
       "geolocation_source        0.000000\n",
       "generation_data_source    0.000000\n",
       "generation_gwh_2015      -0.046059\n",
       "generation_gwh_2014      -0.049760\n",
       "generation_gwh_2016      -0.058472\n",
       "generation_gwh_2018      -0.067296\n",
       "generation_gwh_2017      -0.073510\n",
       "latitude                 -0.118382\n",
       "dtype: float64"
      ]
     },
     "execution_count": 440,
     "metadata": {},
     "output_type": "execute_result"
    }
   ],
   "source": [
    "pd.DataFrame(x_new,columns=X.columns).skew().sort_values(ascending=False)"
   ]
  },
  {
   "cell_type": "markdown",
   "id": "b5974961",
   "metadata": {},
   "source": [
    "APPLYING THE STANDARD SCALER TRANSFORMATION"
   ]
  },
  {
   "cell_type": "code",
   "execution_count": 535,
   "id": "f4ca00f6",
   "metadata": {},
   "outputs": [],
   "source": [
    "scaler=StandardScaler()\n",
    "X_scaled=scaler.fit_transform(x_new)\n"
   ]
  },
  {
   "cell_type": "markdown",
   "id": "1027b6c7",
   "metadata": {},
   "source": [
    "APPLYING TRAIN TEST SPLIT ON THE DATA "
   ]
  },
  {
   "cell_type": "code",
   "execution_count": 536,
   "id": "2eadf247",
   "metadata": {},
   "outputs": [
    {
     "data": {
      "text/plain": [
       "499     126.0\n",
       "809     240.0\n",
       "592      32.0\n",
       "720     500.0\n",
       "494    4000.0\n",
       "Name: capacity_mw, dtype: float64"
      ]
     },
     "execution_count": 536,
     "metadata": {},
     "output_type": "execute_result"
    }
   ],
   "source": [
    "x_train,x_test,y_train,y_test=train_test_split(X_scaled,y,test_size=.25,random_state=49)\n",
    "y_train.head()"
   ]
  },
  {
   "cell_type": "markdown",
   "id": "fff81cfb",
   "metadata": {},
   "source": [
    "# FOR PRIMARY FUEL-CLASSIFICATION ALGORITHM HAS BEEN USED,\n",
    "   FOR CAPACITY -REGRESSION ALGORITHM HAS BEEN USED"
   ]
  },
  {
   "cell_type": "markdown",
   "id": "8dda38d1",
   "metadata": {},
   "source": [
    "# FOR CAPACITY -REGRESSION ALGORITHM HAS BEEN USED"
   ]
  },
  {
   "cell_type": "markdown",
   "id": "8aa02e8c",
   "metadata": {},
   "source": [
    "FIRST ALGORITHM- LINEAR REGRESSION"
   ]
  },
  {
   "cell_type": "code",
   "execution_count": 446,
   "id": "09e29cdd",
   "metadata": {},
   "outputs": [
    {
     "data": {
      "text/plain": [
       "LinearRegression()"
      ]
     },
     "execution_count": 446,
     "metadata": {},
     "output_type": "execute_result"
    }
   ],
   "source": [
    "regression=LinearRegression()\n",
    "regression.fit(x_train,y_train)"
   ]
  },
  {
   "cell_type": "code",
   "execution_count": 447,
   "id": "75ccffe5",
   "metadata": {},
   "outputs": [
    {
     "data": {
      "text/plain": [
       "0.5960025446433953"
      ]
     },
     "execution_count": 447,
     "metadata": {},
     "output_type": "execute_result"
    }
   ],
   "source": [
    "regression.score(x_train,y_train)"
   ]
  },
  {
   "cell_type": "code",
   "execution_count": 448,
   "id": "21d94dac",
   "metadata": {},
   "outputs": [
    {
     "data": {
      "text/plain": [
       "0.5961965952341433"
      ]
     },
     "execution_count": 448,
     "metadata": {},
     "output_type": "execute_result"
    }
   ],
   "source": [
    "regression.score(x_test,y_test)"
   ]
  },
  {
   "cell_type": "code",
   "execution_count": 449,
   "id": "5a322e70",
   "metadata": {},
   "outputs": [],
   "source": [
    "y_pred=regression.predict(x_test)"
   ]
  },
  {
   "cell_type": "code",
   "execution_count": 450,
   "id": "bf3e07a5",
   "metadata": {},
   "outputs": [
    {
     "data": {
      "text/plain": [
       "array([1200.53907644, 1348.10676023,  993.37131956,  577.67329338,\n",
       "       1436.83292365,  419.03887353,  251.14639304,   42.23784392,\n",
       "       1648.46496624,  506.65692462, 1107.58996318, 1300.51623935,\n",
       "       1269.11940305, 1357.89614038,  692.49425829,  427.67410585,\n",
       "        416.99010383,  982.57415575,  787.58194435, 1321.14542513,\n",
       "        -66.6204363 ,  762.9806498 ,  713.25258177, 1032.07286311,\n",
       "         63.0570574 ,  632.37062874,  785.69029794,  536.09527867,\n",
       "       1907.25243429, 1038.18782311,   37.25073404, 1446.72715345,\n",
       "        288.03319377,  625.54980631,  419.73182797,   11.65274606,\n",
       "        217.41383584,  760.1114135 , 1069.7206146 ,  796.74579799,\n",
       "         24.38198819,  521.21878933, 1223.55303698, 1376.98461149,\n",
       "        373.39430976,  556.54490195,  127.94384453, 1063.4314793 ,\n",
       "        -90.45801712, 1386.27093138, 1374.1074985 ,  464.84354874,\n",
       "       1485.60727904, 1466.1554064 ,  260.42839575, 1285.05034485,\n",
       "       1450.48179773, 1397.51380097,  296.18618505,  469.89040395,\n",
       "       -669.88064981,  884.77617816,  136.0133059 ,  733.52840763,\n",
       "        734.28452453,  128.54708558, 1668.21179516,  952.11142131,\n",
       "       1112.19911676,  712.53943428, 1428.42594885, -637.99158817,\n",
       "        141.13382184, -124.40893406, 1297.49008304, 1201.07498352,\n",
       "        309.86886622, -122.34389664,  736.19467965, 1864.90396169,\n",
       "        951.39328958, -213.36623342, -111.80836133,  905.46634059,\n",
       "        125.64535229,  -83.54362633,  930.55981106, 1453.12107203,\n",
       "        355.06305719, 1143.04899032, -273.44450441, -179.01485869,\n",
       "        389.70801773, -357.04555818,  560.61621778, 1108.66112704,\n",
       "       -710.75687995])"
      ]
     },
     "execution_count": 450,
     "metadata": {},
     "output_type": "execute_result"
    }
   ],
   "source": [
    "y_pred"
   ]
  },
  {
   "cell_type": "markdown",
   "id": "8a9f8c4a",
   "metadata": {},
   "source": [
    "# ADA BOOST"
   ]
  },
  {
   "cell_type": "code",
   "execution_count": 451,
   "id": "33c2fa1e",
   "metadata": {},
   "outputs": [],
   "source": [
    "from sklearn.ensemble import AdaBoostRegressor"
   ]
  },
  {
   "cell_type": "code",
   "execution_count": 452,
   "id": "a655984f",
   "metadata": {},
   "outputs": [],
   "source": [
    "ada=AdaBoostRegressor()"
   ]
  },
  {
   "cell_type": "code",
   "execution_count": 453,
   "id": "1f3355b7",
   "metadata": {},
   "outputs": [
    {
     "data": {
      "text/plain": [
       "AdaBoostRegressor()"
      ]
     },
     "execution_count": 453,
     "metadata": {},
     "output_type": "execute_result"
    }
   ],
   "source": [
    "ada.fit(x_train,y_train)"
   ]
  },
  {
   "cell_type": "code",
   "execution_count": 454,
   "id": "f5236d45",
   "metadata": {},
   "outputs": [],
   "source": [
    "y_pred1=ada.predict(x_train)"
   ]
  },
  {
   "cell_type": "code",
   "execution_count": 455,
   "id": "ed9de6c6",
   "metadata": {},
   "outputs": [],
   "source": [
    "from sklearn import metrics"
   ]
  },
  {
   "cell_type": "code",
   "execution_count": 456,
   "id": "d3500e1d",
   "metadata": {},
   "outputs": [
    {
     "data": {
      "text/plain": [
       "0.8959752724608498"
      ]
     },
     "execution_count": 456,
     "metadata": {},
     "output_type": "execute_result"
    }
   ],
   "source": [
    "accuracy=metrics.r2_score(y_train,y_pred1)\n",
    "accuracy"
   ]
  },
  {
   "cell_type": "code",
   "execution_count": 457,
   "id": "6a6007ed",
   "metadata": {},
   "outputs": [],
   "source": [
    "y_test_pred=ada.predict(x_test)"
   ]
  },
  {
   "cell_type": "code",
   "execution_count": 458,
   "id": "351c1bae",
   "metadata": {},
   "outputs": [
    {
     "data": {
      "text/plain": [
       "0.7003088211121732"
      ]
     },
     "execution_count": 458,
     "metadata": {},
     "output_type": "execute_result"
    }
   ],
   "source": [
    "accuracy=metrics.r2_score(y_test,y_test_pred)\n",
    "accuracy"
   ]
  },
  {
   "cell_type": "markdown",
   "id": "b8dcca58",
   "metadata": {},
   "source": [
    "REGULARIZATION"
   ]
  },
  {
   "cell_type": "code",
   "execution_count": 459,
   "id": "3807285f",
   "metadata": {},
   "outputs": [],
   "source": [
    "from sklearn.linear_model import Ridge,Lasso,RidgeCV,LassoCV"
   ]
  },
  {
   "cell_type": "code",
   "execution_count": 460,
   "id": "921f98b3",
   "metadata": {},
   "outputs": [
    {
     "data": {
      "text/plain": [
       "LassoCV(max_iter=100, normalize=True)"
      ]
     },
     "execution_count": 460,
     "metadata": {},
     "output_type": "execute_result"
    }
   ],
   "source": [
    "lasscv=LassoCV(alphas=None,max_iter=100,normalize=True)\n",
    "lasscv.fit(x_train,y_train)"
   ]
  },
  {
   "cell_type": "code",
   "execution_count": 461,
   "id": "b8a55e2c",
   "metadata": {},
   "outputs": [
    {
     "data": {
      "text/plain": [
       "0.29168862183251226"
      ]
     },
     "execution_count": 461,
     "metadata": {},
     "output_type": "execute_result"
    }
   ],
   "source": [
    "alpha=lasscv.alpha_\n",
    "alpha"
   ]
  },
  {
   "cell_type": "code",
   "execution_count": 462,
   "id": "a71f0bf3",
   "metadata": {},
   "outputs": [
    {
     "data": {
      "text/plain": [
       "Lasso(alpha=0.29168862183251226)"
      ]
     },
     "execution_count": 462,
     "metadata": {},
     "output_type": "execute_result"
    }
   ],
   "source": [
    "lasso_reg=Lasso(alpha)\n",
    "lasso_reg.fit(x_train,y_train)"
   ]
  },
  {
   "cell_type": "code",
   "execution_count": 463,
   "id": "67a79349",
   "metadata": {},
   "outputs": [
    {
     "data": {
      "text/plain": [
       "array([1199.69364852, 1347.16583244,  993.43734845,  578.09551979,\n",
       "       1436.29295092,  419.46988251,  251.74254415,   43.20249513,\n",
       "       1647.38506633,  507.1449233 , 1107.74079754, 1300.40032505,\n",
       "       1269.15414763, 1357.62718872,  692.91735789,  428.12836386,\n",
       "        416.64308204,  982.74005278,  787.70177894, 1320.34794837,\n",
       "        -66.5781302 ,  763.31165381,  713.56748814, 1032.15813775,\n",
       "         64.1750429 ,  632.06222268,  785.99845613,  535.75722717,\n",
       "       1906.32693668, 1038.18734384,   38.360906  , 1446.49635182,\n",
       "        288.32540226,  625.3681323 ,  420.26311761,   12.17719178,\n",
       "        217.09670842,  759.47668945, 1069.04545902,  796.30185404,\n",
       "         25.12724437,  520.91360283, 1223.46227771, 1376.29814401,\n",
       "        374.24334362,  556.80011878,  127.66862714, 1062.93389039,\n",
       "        -89.74806009, 1385.50168566, 1373.1341665 ,  464.56184319,\n",
       "       1485.30628111, 1465.83464091,  261.2468976 , 1284.94169527,\n",
       "       1449.81973526, 1397.0378614 ,  295.81775797,  469.42166031,\n",
       "       -668.93704083,  884.4195326 ,  137.17412525,  732.84917285,\n",
       "        734.57894265,  129.2081786 , 1668.05765962,  952.14502135,\n",
       "       1112.32719299,  712.44331033, 1427.59432023, -637.22256294,\n",
       "        140.9095485 , -124.51342207, 1297.29504043, 1200.08337095,\n",
       "        309.47617896, -121.13403447,  736.55958439, 1864.18566664,\n",
       "        950.85660113, -213.35678929, -111.94249066,  905.69847127,\n",
       "        125.35851885,  -83.00277402,  930.60390367, 1451.81568824,\n",
       "        354.65808328, 1142.72967958, -273.36981918, -179.13352171,\n",
       "        389.84544749, -356.30004924,  561.17593014, 1108.83823179,\n",
       "       -709.53617891])"
      ]
     },
     "execution_count": 463,
     "metadata": {},
     "output_type": "execute_result"
    }
   ],
   "source": [
    "y_pred2=lasso_reg.predict(x_test)\n",
    "y_pred2"
   ]
  },
  {
   "cell_type": "code",
   "execution_count": 464,
   "id": "cb9c0f5e",
   "metadata": {},
   "outputs": [
    {
     "data": {
      "text/plain": [
       "171     500.0\n",
       "816     750.0\n",
       "510     440.0\n",
       "136     231.0\n",
       "618    1080.0\n",
       "        ...  \n",
       "619     172.0\n",
       "168    1200.0\n",
       "173     280.0\n",
       "350    1000.0\n",
       "569     175.0\n",
       "Name: capacity_mw, Length: 97, dtype: float64"
      ]
     },
     "execution_count": 464,
     "metadata": {},
     "output_type": "execute_result"
    }
   ],
   "source": [
    "y_test"
   ]
  },
  {
   "cell_type": "code",
   "execution_count": 465,
   "id": "e63b7106",
   "metadata": {},
   "outputs": [
    {
     "data": {
      "text/plain": [
       "0.5963402582303086"
      ]
     },
     "execution_count": 465,
     "metadata": {},
     "output_type": "execute_result"
    }
   ],
   "source": [
    "lasso_reg.score(x_test,y_test)"
   ]
  },
  {
   "cell_type": "code",
   "execution_count": 466,
   "id": "f6fb383a",
   "metadata": {},
   "outputs": [],
   "source": [
    "from sklearn.metrics import r2_score"
   ]
  },
  {
   "cell_type": "code",
   "execution_count": 467,
   "id": "bcf92adb",
   "metadata": {},
   "outputs": [],
   "source": [
    "r2= r2_score(y_test,y_pred2)"
   ]
  },
  {
   "cell_type": "code",
   "execution_count": 468,
   "id": "8ed0926c",
   "metadata": {},
   "outputs": [
    {
     "data": {
      "text/plain": [
       "0.5963402582303086"
      ]
     },
     "execution_count": 468,
     "metadata": {},
     "output_type": "execute_result"
    }
   ],
   "source": [
    "r2"
   ]
  },
  {
   "cell_type": "markdown",
   "id": "a28e0f47",
   "metadata": {},
   "source": [
    "CROSS VALIDATION ON ADA BOOST "
   ]
  },
  {
   "cell_type": "code",
   "execution_count": 469,
   "id": "b3ede113",
   "metadata": {},
   "outputs": [],
   "source": [
    "from sklearn.model_selection import cross_val_score"
   ]
  },
  {
   "cell_type": "code",
   "execution_count": 483,
   "id": "97537244",
   "metadata": {},
   "outputs": [
    {
     "data": {
      "text/plain": [
       "array([0.74335282, 0.78066817, 0.62145432, 0.74926792, 0.72546416,\n",
       "       0.85455307, 0.59512889, 0.87384609, 0.80034639, 0.86935472])"
      ]
     },
     "execution_count": 483,
     "metadata": {},
     "output_type": "execute_result"
    }
   ],
   "source": [
    "scores = cross_val_score(ada, X, y, cv=10)\n",
    "scores"
   ]
  },
  {
   "cell_type": "code",
   "execution_count": 484,
   "id": "5e53163e",
   "metadata": {},
   "outputs": [
    {
     "data": {
      "text/plain": [
       "0.7516191199497387"
      ]
     },
     "execution_count": 484,
     "metadata": {},
     "output_type": "execute_result"
    }
   ],
   "source": [
    "cross_val_score(ada, X, y, cv=10).mean()"
   ]
  },
  {
   "cell_type": "markdown",
   "id": "8412ee3b",
   "metadata": {},
   "source": [
    "# XGB BOOST ALGORITHM"
   ]
  },
  {
   "cell_type": "code",
   "execution_count": 487,
   "id": "22e44e18",
   "metadata": {},
   "outputs": [],
   "source": [
    "import xgboost as xgb"
   ]
  },
  {
   "cell_type": "code",
   "execution_count": 489,
   "id": "16db9780",
   "metadata": {},
   "outputs": [],
   "source": [
    "xgb=xgb.XGBRegressor()"
   ]
  },
  {
   "cell_type": "code",
   "execution_count": 490,
   "id": "2a2633a6",
   "metadata": {},
   "outputs": [
    {
     "data": {
      "text/plain": [
       "XGBRegressor(base_score=0.5, booster='gbtree', callbacks=None,\n",
       "             colsample_bylevel=1, colsample_bynode=1, colsample_bytree=1,\n",
       "             early_stopping_rounds=None, enable_categorical=False,\n",
       "             eval_metric=None, gamma=0, gpu_id=-1, grow_policy='depthwise',\n",
       "             importance_type=None, interaction_constraints='',\n",
       "             learning_rate=0.300000012, max_bin=256, max_cat_to_onehot=4,\n",
       "             max_delta_step=0, max_depth=6, max_leaves=0, min_child_weight=1,\n",
       "             missing=nan, monotone_constraints='()', n_estimators=100, n_jobs=0,\n",
       "             num_parallel_tree=1, predictor='auto', random_state=0, reg_alpha=0,\n",
       "             reg_lambda=1, ...)"
      ]
     },
     "execution_count": 490,
     "metadata": {},
     "output_type": "execute_result"
    }
   ],
   "source": [
    "xgb.fit(x_train,y_train)\n"
   ]
  },
  {
   "cell_type": "code",
   "execution_count": 491,
   "id": "1250e178",
   "metadata": {},
   "outputs": [],
   "source": [
    "y_pred5=xgb.predict(x_test)"
   ]
  },
  {
   "cell_type": "code",
   "execution_count": 492,
   "id": "02e7d25a",
   "metadata": {},
   "outputs": [
    {
     "data": {
      "text/plain": [
       "0.7706136020434315"
      ]
     },
     "execution_count": 492,
     "metadata": {},
     "output_type": "execute_result"
    }
   ],
   "source": [
    "r2_score(y_test,y_pred5)"
   ]
  },
  {
   "cell_type": "markdown",
   "id": "e93c7015",
   "metadata": {},
   "source": [
    "CROSS VALIDATION ON XGBOOST ALGORITHM"
   ]
  },
  {
   "cell_type": "code",
   "execution_count": 493,
   "id": "39c5bdb2",
   "metadata": {},
   "outputs": [
    {
     "data": {
      "text/plain": [
       "array([0.86641376, 0.75246691, 0.77099263, 0.80189309, 0.74690419,\n",
       "       0.86584951, 0.59813753, 0.85072762, 0.81067139, 0.91043032])"
      ]
     },
     "execution_count": 493,
     "metadata": {},
     "output_type": "execute_result"
    }
   ],
   "source": [
    "scores = cross_val_score(xgb, X, y, cv=10)\n",
    "scores"
   ]
  },
  {
   "cell_type": "code",
   "execution_count": 494,
   "id": "4f64cf7d",
   "metadata": {},
   "outputs": [
    {
     "data": {
      "text/plain": [
       "0.7974486944349188"
      ]
     },
     "execution_count": 494,
     "metadata": {},
     "output_type": "execute_result"
    }
   ],
   "source": [
    "cross_val_score(xgb, X, y, cv=10).mean()"
   ]
  },
  {
   "cell_type": "markdown",
   "id": "9cada437",
   "metadata": {},
   "source": [
    "FROM ABOVE OBSERVATION I HAVE CHOOSEN XGB BOOST ALGORITHM FOR PREDICTING CAPACITY IN MW "
   ]
  },
  {
   "cell_type": "markdown",
   "id": "3b706938",
   "metadata": {},
   "source": [
    "# CLASSIFICATION MODEL FOR PRIMARY FUEL"
   ]
  },
  {
   "cell_type": "markdown",
   "id": "5a321761",
   "metadata": {},
   "source": [
    "APPLYING STANDARD SCALER BECAUSE LABEL IN THIS PART HAS BEEN CHANGED AS PRIMARY FUEL"
   ]
  },
  {
   "cell_type": "code",
   "execution_count": 495,
   "id": "3c620bb0",
   "metadata": {},
   "outputs": [
    {
     "data": {
      "text/plain": [
       "499    2\n",
       "809    0\n",
       "592    2\n",
       "720    0\n",
       "494    0\n",
       "Name: primary_fuel, dtype: int32"
      ]
     },
     "execution_count": 495,
     "metadata": {},
     "output_type": "execute_result"
    }
   ],
   "source": [
    "x_train1,x_test1,y_train1,y_test1=train_test_split(X_scaled,z,test_size=.25,random_state=49)\n",
    "y_train1.head()"
   ]
  },
  {
   "cell_type": "markdown",
   "id": "fddf9e6d",
   "metadata": {},
   "source": [
    "# KNEIGHBORS CLASSIFIER"
   ]
  },
  {
   "cell_type": "code",
   "execution_count": 473,
   "id": "530074d1",
   "metadata": {},
   "outputs": [],
   "source": [
    "from sklearn.neighbors import KNeighborsClassifier"
   ]
  },
  {
   "cell_type": "code",
   "execution_count": 474,
   "id": "9d86929d",
   "metadata": {},
   "outputs": [],
   "source": [
    "knn=KNeighborsClassifier()"
   ]
  },
  {
   "cell_type": "code",
   "execution_count": 475,
   "id": "739f1128",
   "metadata": {},
   "outputs": [
    {
     "data": {
      "text/plain": [
       "KNeighborsClassifier()"
      ]
     },
     "execution_count": 475,
     "metadata": {},
     "output_type": "execute_result"
    }
   ],
   "source": [
    "knn.fit(x_train1,y_train1)"
   ]
  },
  {
   "cell_type": "code",
   "execution_count": 476,
   "id": "7d739f28",
   "metadata": {},
   "outputs": [],
   "source": [
    "y_pred4=knn.predict(x_test1)"
   ]
  },
  {
   "cell_type": "code",
   "execution_count": 477,
   "id": "c8283570",
   "metadata": {},
   "outputs": [],
   "source": [
    "from sklearn.metrics import confusion_matrix,classification_report"
   ]
  },
  {
   "cell_type": "code",
   "execution_count": 478,
   "id": "654d24b5",
   "metadata": {},
   "outputs": [
    {
     "data": {
      "text/plain": [
       "array([[36,  2,  1,  0,  0],\n",
       "       [ 1,  1, 11,  0,  0],\n",
       "       [ 4,  2, 34,  0,  0],\n",
       "       [ 3,  0,  0,  0,  0],\n",
       "       [ 1,  0,  1,  0,  0]], dtype=int64)"
      ]
     },
     "execution_count": 478,
     "metadata": {},
     "output_type": "execute_result"
    }
   ],
   "source": [
    "cfm=confusion_matrix(y_test1,y_pred4)\n",
    "cfm"
   ]
  },
  {
   "cell_type": "code",
   "execution_count": 479,
   "id": "b1fa9875",
   "metadata": {},
   "outputs": [
    {
     "name": "stdout",
     "output_type": "stream",
     "text": [
      "              precision    recall  f1-score   support\n",
      "\n",
      "           0       0.80      0.92      0.86        39\n",
      "           1       0.20      0.08      0.11        13\n",
      "           2       0.72      0.85      0.78        40\n",
      "           3       0.00      0.00      0.00         3\n",
      "           4       0.00      0.00      0.00         2\n",
      "\n",
      "    accuracy                           0.73        97\n",
      "   macro avg       0.34      0.37      0.35        97\n",
      "weighted avg       0.65      0.73      0.68        97\n",
      "\n"
     ]
    }
   ],
   "source": [
    "print(classification_report(y_test1,y_pred4,digits=2))"
   ]
  },
  {
   "cell_type": "markdown",
   "id": "881850a8",
   "metadata": {},
   "source": [
    "# DECISION TREE FOR CLASSIFICATON"
   ]
  },
  {
   "cell_type": "code",
   "execution_count": 512,
   "id": "e033eade",
   "metadata": {},
   "outputs": [],
   "source": [
    "from sklearn.tree import DecisionTreeClassifier"
   ]
  },
  {
   "cell_type": "code",
   "execution_count": 513,
   "id": "3ed6e6dc",
   "metadata": {},
   "outputs": [],
   "source": [
    "from sklearn.metrics import confusion_matrix,accuracy_score"
   ]
  },
  {
   "cell_type": "code",
   "execution_count": 514,
   "id": "26762ab0",
   "metadata": {},
   "outputs": [
    {
     "data": {
      "text/plain": [
       "DecisionTreeClassifier()"
      ]
     },
     "execution_count": 514,
     "metadata": {},
     "output_type": "execute_result"
    }
   ],
   "source": [
    "clf=DecisionTreeClassifier()\n",
    "clf.fit(x_train1,y_train1)"
   ]
  },
  {
   "cell_type": "code",
   "execution_count": 515,
   "id": "fde48e34",
   "metadata": {},
   "outputs": [
    {
     "data": {
      "text/plain": [
       "1.0"
      ]
     },
     "execution_count": 515,
     "metadata": {},
     "output_type": "execute_result"
    }
   ],
   "source": [
    "clf.score(x_train1,y_train1)"
   ]
  },
  {
   "cell_type": "code",
   "execution_count": 516,
   "id": "7f80701e",
   "metadata": {},
   "outputs": [
    {
     "data": {
      "text/plain": [
       "0.7731958762886598"
      ]
     },
     "execution_count": 516,
     "metadata": {},
     "output_type": "execute_result"
    }
   ],
   "source": [
    "y_pred7=clf.predict(x_test1)\n",
    "accuracy_score(y_test1,y_pred7)"
   ]
  },
  {
   "cell_type": "code",
   "execution_count": 517,
   "id": "eab0fc4d",
   "metadata": {},
   "outputs": [
    {
     "data": {
      "text/plain": [
       "array([[34,  4,  1,  0,  0],\n",
       "       [ 1,  6,  5,  0,  1],\n",
       "       [ 4,  2, 34,  0,  0],\n",
       "       [ 3,  0,  0,  0,  0],\n",
       "       [ 0,  1,  0,  0,  1]], dtype=int64)"
      ]
     },
     "execution_count": 517,
     "metadata": {},
     "output_type": "execute_result"
    }
   ],
   "source": [
    "cfm=confusion_matrix(y_test1,y_pred7)\n",
    "cfm"
   ]
  },
  {
   "cell_type": "code",
   "execution_count": 518,
   "id": "6f80044b",
   "metadata": {},
   "outputs": [
    {
     "name": "stdout",
     "output_type": "stream",
     "text": [
      "              precision    recall  f1-score   support\n",
      "\n",
      "           0       0.81      0.87      0.84        39\n",
      "           1       0.46      0.46      0.46        13\n",
      "           2       0.85      0.85      0.85        40\n",
      "           3       0.00      0.00      0.00         3\n",
      "           4       0.50      0.50      0.50         2\n",
      "\n",
      "    accuracy                           0.77        97\n",
      "   macro avg       0.52      0.54      0.53        97\n",
      "weighted avg       0.75      0.77      0.76        97\n",
      "\n"
     ]
    }
   ],
   "source": [
    "print(classification_report(y_test1,y_pred7,digits=2))"
   ]
  },
  {
   "cell_type": "markdown",
   "id": "c79a99de",
   "metadata": {},
   "source": [
    "# HYPERPARAMETER ON DECISION TREE"
   ]
  },
  {
   "cell_type": "markdown",
   "id": "2c1183ba",
   "metadata": {},
   "source": [
    "APPLYING GRIDSEARCH CV"
   ]
  },
  {
   "cell_type": "code",
   "execution_count": 519,
   "id": "e6e17767",
   "metadata": {},
   "outputs": [],
   "source": [
    "grid_param={\n",
    "    'criterion':['gini','entropy'],\n",
    "    'max_depth':range(10,15),\n",
    "    'min_samples_leaf':range(2,10),\n",
    "    'min_samples_split':range(3,10),\n",
    "    'max_leaf_nodes':range(2,4)\n",
    "}"
   ]
  },
  {
   "cell_type": "code",
   "execution_count": 521,
   "id": "119a7ca9",
   "metadata": {},
   "outputs": [],
   "source": [
    "from sklearn.model_selection import train_test_split,GridSearchCV"
   ]
  },
  {
   "cell_type": "code",
   "execution_count": 522,
   "id": "35e2d3ce",
   "metadata": {},
   "outputs": [],
   "source": [
    "grid_search=GridSearchCV(estimator=clf,param_grid=grid_param,cv=5,n_jobs=-1)"
   ]
  },
  {
   "cell_type": "code",
   "execution_count": 523,
   "id": "2a8038bf",
   "metadata": {},
   "outputs": [
    {
     "data": {
      "text/plain": [
       "GridSearchCV(cv=5, estimator=DecisionTreeClassifier(), n_jobs=-1,\n",
       "             param_grid={'criterion': ['gini', 'entropy'],\n",
       "                         'max_depth': range(10, 15),\n",
       "                         'max_leaf_nodes': range(2, 4),\n",
       "                         'min_samples_leaf': range(2, 10),\n",
       "                         'min_samples_split': range(3, 10)})"
      ]
     },
     "execution_count": 523,
     "metadata": {},
     "output_type": "execute_result"
    }
   ],
   "source": [
    "grid_search.fit(x_train1,y_train1)"
   ]
  },
  {
   "cell_type": "code",
   "execution_count": 524,
   "id": "3f972714",
   "metadata": {},
   "outputs": [
    {
     "name": "stdout",
     "output_type": "stream",
     "text": [
      "{'criterion': 'gini', 'max_depth': 10, 'max_leaf_nodes': 3, 'min_samples_leaf': 2, 'min_samples_split': 3}\n"
     ]
    }
   ],
   "source": [
    "best_parameters=grid_search.best_params_\n",
    "print(best_parameters)"
   ]
  },
  {
   "cell_type": "code",
   "execution_count": 531,
   "id": "6fd807f9",
   "metadata": {},
   "outputs": [
    {
     "data": {
      "text/plain": [
       "DecisionTreeClassifier(max_depth=7, max_leaf_nodes=3, min_samples_leaf=3,\n",
       "                       min_samples_split=3)"
      ]
     },
     "execution_count": 531,
     "metadata": {},
     "output_type": "execute_result"
    }
   ],
   "source": [
    "clf=DecisionTreeClassifier(criterion='gini',min_samples_split=3,max_depth=7,min_samples_leaf=3,max_leaf_nodes=3)\n",
    "clf.fit(x_train1,y_train1)"
   ]
  },
  {
   "cell_type": "code",
   "execution_count": 532,
   "id": "2d55c5d5",
   "metadata": {},
   "outputs": [],
   "source": [
    "y_pred8=clf.predict(x_test1)"
   ]
  },
  {
   "cell_type": "code",
   "execution_count": 539,
   "id": "37a8ccb6",
   "metadata": {},
   "outputs": [
    {
     "data": {
      "text/plain": [
       "0.711340206185567"
      ]
     },
     "execution_count": 539,
     "metadata": {},
     "output_type": "execute_result"
    }
   ],
   "source": [
    "accuracy_score(y_test1,y_pred8)"
   ]
  },
  {
   "cell_type": "markdown",
   "id": "d57fe521",
   "metadata": {},
   "source": [
    "FROM ABOVE RESULT ON PRIMARY FUEL DECISION TREE HAS BEEN CONSIDER WITHOUT HYPERPARAMETER TUNING AS DECISION TREE IS SHOWING BETTER RESULT BEFORE HYPERPARAMETER TUNING"
   ]
  },
  {
   "cell_type": "markdown",
   "id": "6aceda9d",
   "metadata": {},
   "source": [
    "SAVING THE MODEL USING PICKLE"
   ]
  },
  {
   "cell_type": "code",
   "execution_count": 543,
   "id": "a2ed58ea",
   "metadata": {},
   "outputs": [],
   "source": [
    "import pickle"
   ]
  },
  {
   "cell_type": "code",
   "execution_count": 544,
   "id": "957603b2",
   "metadata": {},
   "outputs": [],
   "source": [
    "filename='PRIMARY_FUEL'\n",
    "pickle.dump(clf,open(filename,'wb'))\n",
    "loaded_model=pickle.load(open(filename,'rb'))"
   ]
  },
  {
   "cell_type": "markdown",
   "id": "cf0d1a2b",
   "metadata": {},
   "source": [
    "# saving Xgb booster for capacity_mw"
   ]
  },
  {
   "cell_type": "code",
   "execution_count": 556,
   "id": "be58fd33",
   "metadata": {},
   "outputs": [
    {
     "ename": "TypeError",
     "evalue": "cannot pickle 'module' object",
     "output_type": "error",
     "traceback": [
      "\u001b[1;31m---------------------------------------------------------------------------\u001b[0m",
      "\u001b[1;31mTypeError\u001b[0m                                 Traceback (most recent call last)",
      "\u001b[1;32m~\\AppData\\Local\\Temp/ipykernel_19648/1844413814.py\u001b[0m in \u001b[0;36m<module>\u001b[1;34m\u001b[0m\n\u001b[0;32m      1\u001b[0m \u001b[0mfilename\u001b[0m\u001b[1;33m=\u001b[0m\u001b[1;34m'PRIMARY_FUEL'\u001b[0m\u001b[1;33m\u001b[0m\u001b[1;33m\u001b[0m\u001b[0m\n\u001b[1;32m----> 2\u001b[1;33m \u001b[0mpickle\u001b[0m\u001b[1;33m.\u001b[0m\u001b[0mdump\u001b[0m\u001b[1;33m(\u001b[0m\u001b[0mxgb\u001b[0m\u001b[1;33m,\u001b[0m\u001b[0mopen\u001b[0m\u001b[1;33m(\u001b[0m\u001b[0mfilename\u001b[0m\u001b[1;33m,\u001b[0m\u001b[1;34m'wb'\u001b[0m\u001b[1;33m)\u001b[0m\u001b[1;33m)\u001b[0m\u001b[1;33m\u001b[0m\u001b[1;33m\u001b[0m\u001b[0m\n\u001b[0m\u001b[0;32m      3\u001b[0m \u001b[0mloaded_model\u001b[0m\u001b[1;33m=\u001b[0m\u001b[0mpickle\u001b[0m\u001b[1;33m.\u001b[0m\u001b[0mload\u001b[0m\u001b[1;33m(\u001b[0m\u001b[0mopen\u001b[0m\u001b[1;33m(\u001b[0m\u001b[0mfilename\u001b[0m\u001b[1;33m,\u001b[0m\u001b[1;34m'rb'\u001b[0m\u001b[1;33m)\u001b[0m\u001b[1;33m)\u001b[0m\u001b[1;33m\u001b[0m\u001b[1;33m\u001b[0m\u001b[0m\n",
      "\u001b[1;31mTypeError\u001b[0m: cannot pickle 'module' object"
     ]
    }
   ],
   "source": [
    "filename='PRIMARY_FUEL'\n",
    "pickle.dump(xgb,open(filename,'wb'))\n",
    "loaded_model=pickle.load(open(filename,'rb'))"
   ]
  },
  {
   "cell_type": "code",
   "execution_count": null,
   "id": "4a9fdd46",
   "metadata": {},
   "outputs": [],
   "source": []
  }
 ],
 "metadata": {
  "kernelspec": {
   "display_name": "Python 3 (ipykernel)",
   "language": "python",
   "name": "python3"
  },
  "language_info": {
   "codemirror_mode": {
    "name": "ipython",
    "version": 3
   },
   "file_extension": ".py",
   "mimetype": "text/x-python",
   "name": "python",
   "nbconvert_exporter": "python",
   "pygments_lexer": "ipython3",
   "version": "3.9.7"
  }
 },
 "nbformat": 4,
 "nbformat_minor": 5
}
