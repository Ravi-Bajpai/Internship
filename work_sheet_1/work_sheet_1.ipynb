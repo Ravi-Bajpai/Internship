{
 "cells": [
  {
   "cell_type": "code",
   "execution_count": null,
   "id": "71ff8b6a",
   "metadata": {},
   "outputs": [],
   "source": []
  },
  {
   "cell_type": "markdown",
   "id": "6037a240",
   "metadata": {},
   "source": [
    "# work_sheet_1\n"
   ]
  },
  {
   "cell_type": "code",
   "execution_count": null,
   "id": "ece9ae3b",
   "metadata": {},
   "outputs": [],
   "source": [
    "factorial of number question 11"
   ]
  },
  {
   "cell_type": "code",
   "execution_count": 6,
   "id": "bfb48482",
   "metadata": {},
   "outputs": [
    {
     "name": "stdout",
     "output_type": "stream",
     "text": [
      "Enter a number 6\n"
     ]
    }
   ],
   "source": [
    "a=int(input(\"Enter a number \"))\n",
    "num=1\n",
    "while a>=1:\n",
    "    num=num*a\n",
    "    a=a-1\n",
    "    \n"
   ]
  },
  {
   "cell_type": "code",
   "execution_count": 7,
   "id": "016409bf",
   "metadata": {},
   "outputs": [
    {
     "name": "stdout",
     "output_type": "stream",
     "text": [
      "720\n"
     ]
    }
   ],
   "source": [
    "print(num)\n",
    "\n"
   ]
  },
  {
   "cell_type": "markdown",
   "id": "b234a5c7",
   "metadata": {},
   "source": [
    "# prime no or not"
   ]
  },
  {
   "cell_type": "code",
   "execution_count": 25,
   "id": "765dfa99",
   "metadata": {},
   "outputs": [
    {
     "name": "stdout",
     "output_type": "stream",
     "text": [
      "Enter the number41\n",
      "prime no\n"
     ]
    }
   ],
   "source": [
    "a=int(input(\"Enter the number\"))\n",
    "for values in range(2,a):\n",
    "    if(a % values)==0:\n",
    "        print(\"The non prime number\") \n",
    "        break\n",
    "else:\n",
    "        \n",
    "        print(\"prime no\")\n"
   ]
  },
  {
   "cell_type": "markdown",
   "id": "bcafc96b",
   "metadata": {},
   "source": [
    "# palindrome "
   ]
  },
  {
   "cell_type": "code",
   "execution_count": null,
   "id": "56275fbb",
   "metadata": {},
   "outputs": [],
   "source": []
  },
  {
   "cell_type": "code",
   "execution_count": 6,
   "id": "b89dd594",
   "metadata": {},
   "outputs": [
    {
     "name": "stdout",
     "output_type": "stream",
     "text": [
      "enter any stringisha\n",
      "not palindrome\n"
     ]
    }
   ],
   "source": [
    "s = str(input(\"enter any string\"))\n",
    "l=len(s)+1\n",
    "for i in range(0,l):\n",
    "        \n",
    "    if(s[i] != s[-1-i]):\n",
    "            \n",
    "            print(\"not palindrome\")\n",
    "            break\n",
    "    else:\n",
    "            print(\" palindrome\")\n",
    "            break\n"
   ]
  },
  {
   "cell_type": "markdown",
   "id": "4cdf9e45",
   "metadata": {},
   "source": [
    "# Right angle traingle"
   ]
  },
  {
   "cell_type": "code",
   "execution_count": 9,
   "id": "7a4a83fc",
   "metadata": {},
   "outputs": [
    {
     "name": "stdout",
     "output_type": "stream",
     "text": [
      "enter the length3\n",
      "enter the breadth4\n",
      "5.0\n"
     ]
    }
   ],
   "source": [
    "import math\n",
    "l=int(input(\"enter the length\"))\n",
    "b=int(input(\"enter the breadth\"))\n",
    "t=l*l+b*b\n",
    "h=math.sqrt(t)\n",
    "print(h)\n"
   ]
  },
  {
   "cell_type": "markdown",
   "id": "76a7f021",
   "metadata": {},
   "source": [
    "# frequency of character in a string\n"
   ]
  },
  {
   "cell_type": "code",
   "execution_count": 16,
   "id": "268bfe7a",
   "metadata": {},
   "outputs": [
    {
     "name": "stdout",
     "output_type": "stream",
     "text": [
      "enter the stringbanana\n"
     ]
    }
   ],
   "source": [
    "s=str(input(\"enter the string\"))\n"
   ]
  },
  {
   "cell_type": "code",
   "execution_count": 18,
   "id": "05491998",
   "metadata": {},
   "outputs": [
    {
     "name": "stdout",
     "output_type": "stream",
     "text": [
      "enter the stringpapaya\n",
      "{'p': 2, 'a': 3, 'y': 1}\n"
     ]
    }
   ],
   "source": [
    "s=str(input(\"enter the string\"))\n",
    "dict={}\n",
    "\n",
    "for i in s:\n",
    "    \n",
    "    if i in dict:\n",
    "        dict[i]+=1\n",
    "    else:\n",
    "        dict[i]=1\n",
    "        \n",
    "print(dict)\n",
    "    \n"
   ]
  },
  {
   "cell_type": "code",
   "execution_count": null,
   "id": "0db3e346",
   "metadata": {},
   "outputs": [],
   "source": []
  }
 ],
 "metadata": {
  "kernelspec": {
   "display_name": "Python 3 (ipykernel)",
   "language": "python",
   "name": "python3"
  },
  "language_info": {
   "codemirror_mode": {
    "name": "ipython",
    "version": 3
   },
   "file_extension": ".py",
   "mimetype": "text/x-python",
   "name": "python",
   "nbconvert_exporter": "python",
   "pygments_lexer": "ipython3",
   "version": "3.9.7"
  }
 },
 "nbformat": 4,
 "nbformat_minor": 5
}
