{
 "cells": [
  {
   "cell_type": "markdown",
   "id": "db6d6a31",
   "metadata": {},
   "source": [
    "# Q1 AND Q2 AMAZON.IN"
   ]
  },
  {
   "cell_type": "code",
   "execution_count": 1,
   "id": "a5594dc8",
   "metadata": {},
   "outputs": [],
   "source": [
    "import selenium\n",
    "from selenium import webdriver\n",
    "import pandas as pd\n",
    "import warnings\n",
    "import time\n",
    "warnings.filterwarnings(\"ignore\")"
   ]
  },
  {
   "cell_type": "code",
   "execution_count": 2,
   "id": "bc958995",
   "metadata": {},
   "outputs": [],
   "source": [
    "driver=webdriver.Chrome(r'D:\\flip robo\\chromedriver_win32\\chromedriver.exe')"
   ]
  },
  {
   "cell_type": "code",
   "execution_count": 3,
   "id": "196df223",
   "metadata": {},
   "outputs": [],
   "source": [
    "url=\"https://www.amazon.in/\"\n",
    "driver.get(url)\n",
    "time.sleep(5)"
   ]
  },
  {
   "cell_type": "code",
   "execution_count": 4,
   "id": "6c325444",
   "metadata": {},
   "outputs": [],
   "source": [
    "from selenium.webdriver.common.by import By"
   ]
  },
  {
   "cell_type": "code",
   "execution_count": 5,
   "id": "67c3c3ca",
   "metadata": {},
   "outputs": [
    {
     "data": {
      "text/plain": [
       "<selenium.webdriver.remote.webelement.WebElement (session=\"be00af1c87d8faede80386535ff0419a\", element=\"476e9691-986b-4dab-a29c-b98945894e1f\")>"
      ]
     },
     "execution_count": 5,
     "metadata": {},
     "output_type": "execute_result"
    }
   ],
   "source": [
    "search_amz=driver.find_element(By.XPATH,'/html/body/div[1]/header/div/div[1]/div[2]/div/form/div[2]/div[1]/input')\n",
    "search_amz"
   ]
  },
  {
   "cell_type": "code",
   "execution_count": 8,
   "id": "194900d9",
   "metadata": {},
   "outputs": [
    {
     "name": "stdout",
     "output_type": "stream",
     "text": [
      "enter the productlaptop\n",
      "laptop\n"
     ]
    }
   ],
   "source": [
    "product=input(\"enter the product\")\n",
    "print(product)\n"
   ]
  },
  {
   "cell_type": "code",
   "execution_count": 9,
   "id": "ade87622",
   "metadata": {},
   "outputs": [],
   "source": [
    "search_amz.send_keys(product)"
   ]
  },
  {
   "cell_type": "code",
   "execution_count": 10,
   "id": "2c59d4df",
   "metadata": {},
   "outputs": [
    {
     "data": {
      "text/plain": [
       "<selenium.webdriver.remote.webelement.WebElement (session=\"be00af1c87d8faede80386535ff0419a\", element=\"27d4c20e-1082-4cbb-be4f-0262b4ed0c65\")>"
      ]
     },
     "execution_count": 10,
     "metadata": {},
     "output_type": "execute_result"
    }
   ],
   "source": [
    "search_btn=driver.find_element(By.XPATH,'/html/body/div[1]/header/div/div[1]/div[2]/div/form/div[3]/div/span/input')\n",
    "search_btn"
   ]
  },
  {
   "cell_type": "code",
   "execution_count": 11,
   "id": "231bb13e",
   "metadata": {},
   "outputs": [],
   "source": [
    "search_btn.click()"
   ]
  },
  {
   "cell_type": "markdown",
   "id": "f3941a31",
   "metadata": {},
   "source": [
    "# Question 2"
   ]
  },
  {
   "cell_type": "code",
   "execution_count": 31,
   "id": "322a40ba",
   "metadata": {},
   "outputs": [],
   "source": [
    "from selenium.common.exceptions import StaleElementReferenceException, NoSuchElementException"
   ]
  },
  {
   "cell_type": "code",
   "execution_count": 12,
   "id": "06ac8938",
   "metadata": {},
   "outputs": [],
   "source": [
    "allinfo=[]\n",
    "price=[]\n",
    "start=0\n",
    "end=2\n",
    "for b in range(start,end):\n",
    "    try:\n",
    "        brand_tag=driver.find_elements(By.XPATH,'//div[@class=\"a-section a-spacing-small a-spacing-top-small\"]')\n",
    "        for i in brand_tag:\n",
    "            allinfo.append(i.text)\n",
    "    except NoSuchElementException:\n",
    "        allinfo.append('-')    \n",
    "    \n",
    "    next_btn=driver.find_elements(By.XPATH,'/html/body/div[1]/div[2]/div[1]/div[1]/div/span[1]/div[1]/div[29]/div/div/span/a[3]')"
   ]
  },
  {
   "cell_type": "code",
   "execution_count": null,
   "id": "e3e71ee9",
   "metadata": {},
   "outputs": [],
   "source": []
  },
  {
   "cell_type": "code",
   "execution_count": 13,
   "id": "1977442c",
   "metadata": {},
   "outputs": [
    {
     "data": {
      "text/plain": [
       "46"
      ]
     },
     "execution_count": 13,
     "metadata": {},
     "output_type": "execute_result"
    }
   ],
   "source": [
    "len(allinfo)"
   ]
  },
  {
   "cell_type": "code",
   "execution_count": 16,
   "id": "9dc3bddb",
   "metadata": {},
   "outputs": [
    {
     "data": {
      "text/plain": [
       "['1-16 of over 5,000 results for \"laptop\"',\n",
       " 'Sponsored\\nAcer Aspire 5 Gaming Laptop Intel Core i5 12th gen (12-Cores) Processor (16 GB/512 GB SSD/Win11 Home/4GB Graphics/RTX 2050) A515-57G (15.6\" FHD Display, 1.8 Kg),Flat Rs: 2000 of All Bank Cards\\n4.0\\n(190)\\n₹63,999\\n₹84,999 (25% off)\\nSave ₹3,600.00 on SanDisk 2TB Extr…\\nGet it by Tomorrow, 9 April\\nFREE Delivery by Amazon',\n",
       " 'Sponsored\\nLenovo IdeaPad 3 11th Gen Intel Core i3 15.6\" FHD Thin & Light Laptop(8GB/512GB SSD/Windows 11/Office 2021/2Yr Warranty/3months Xbox Game Pass/Platinum Grey/1.7Kg), 81X800N2IN\\n4.1\\n(402)\\n₹36,158\\n₹59,890 (40% off)\\nSave ₹3,600.00 on SanDisk 2TB Extr…\\nFREE Delivery by Amazon',\n",
       " 'HP 255 G8 Laptop with AMD Athlon Silver 3050U APU/ 8GB Ram/ 256GB SSD/DOS/AMD Radeon Vega 8 Mobile Graphics/39.6 cm HD (1366 x 768), SVA, Anti-Glare WLED/Black/1 Year Onsite Warranty\\n3.8\\n(4)\\nDeal of the Day\\n₹25,999\\n₹99,999 (74% off)\\nGet it by Thursday, 13 April\\nFREE Delivery by Amazon',\n",
       " 'HP 15s, 11th Gen Intel Core i3 8GB RAM/1TB HDD+256 GB SSD 15.6-inches/39.6 cm FHD Laptop/Windows 11/Intel UHD Graphics/Dual Speakers/Alexa/MSO/Fast Charge/1.75 Kg, 15s-du3614TU\\n3.4\\n(52)\\n₹40,990\\n₹51,470 (20% off)\\nSave ₹3,600.00 on SanDisk 2TB Extr…\\nGet it by Tomorrow, 9 April\\nFREE Delivery by Amazon',\n",
       " 'Dell Inspiron 3520 Laptop,12th Gen Intel Core i5-1235U, 8GB, 1TB + 256GB SSD, 15.6\" (39.62Cms) FHD WVA AG 120Hz 250 nits, Win 11 + MSO\\'21, Black (D560874WIN9B, 1.65KGs)\\n3.6\\n(6)\\n₹56,990\\n₹80,473 (29% off)\\nSave ₹3,600.00 on SanDisk 2TB Extr…\\nGet it by Tuesday, 11 April\\nFREE Delivery by Amazon',\n",
       " '(Renewed) Dell Latitude E5470 Intel Core i5 6th Gen.6200u Processor 14.1 Inches HD Screen Notebook Computer (8 GB Ram & 256 GB SSD, Windows 10 Pro, 1.71Kg)\\n3.6\\n(934)\\n₹21,599\\n₹1,29,000 (83% off)\\nGet it by Friday, 14 April\\nFREE Delivery by Amazon',\n",
       " 'Dell Inspiron 3511 Laptop, Intel i3-1115G4, 8GB DDR4 & 512GB SSD, Windows 11 + MSO\\'21, 15.6\" (39.62Cms) FHD WVA AG, Carbon Black (D560801WIN9B, 1.8Kgs)\\n3.5\\n(49)\\n₹41,990\\n₹55,047 (24% off)\\nSave ₹3,600.00 on SanDisk 2TB Extr…\\nGet it by Tomorrow, 9 April\\nFREE Delivery by Amazon\\nMore Buying Choices\\n₹41,900(6 new offers)',\n",
       " 'ASUS TUF Gaming A15, 15.6\"(39.62 cms) FHD 144Hz, AMD Ryzen 5 4600H,4GB GeForce GTX 1650 Laptop(8GB/512GB SSD/Win11/Black/2.3 Kg),FA506IHRZ-HN111W,5% Instant Off on APay ICICI CreditCard (Prime only)\\n4.3\\n(220)\\n₹59,990\\n₹71,990 (17% off)\\nSave ₹3,600.00 on SanDisk 2TB Extr…\\nGet it by Tomorrow, 9 April\\nFREE Delivery by Amazon\\nMore Buying Choices\\n₹59,900(2 new offers)',\n",
       " 'Honor MagicBook 14, AMD Ryzen 5 5500U 14-inch (35.56 cm) FHD IPS Anti-Glare Thin and Light Laptop (16GB/512GB PCIe SSD/Windows 11/Fingerprint Login/Metal Body/Backlit KB/1.38Kg), Gray, NobelM-WFQ9AHNE\\n4.4\\n(286)\\n₹44,990\\n₹75,999 (41% off)\\nSave ₹3,600.00 on SanDisk 2TB Extr…\\nGet it by Tomorrow, 9 April\\nFREE Delivery by Amazon',\n",
       " 'Lenovo IdeaPad Slim 3 Intel Celeron N4020 4th Gen 15.6\" (39.62cm) HD 220nits Anti-Glare (8GB/256GB SDD/Windows 11/Office 2021/2Yr Warranty/3months Game Pass/Platinum Grey/1.7Kg), 81WQ00NXIN\\n3.7\\n(383)\\n₹25,650\\n₹40,490 (37% off)\\nGet it by Wednesday, 12 April\\nFREE Delivery by Amazon',\n",
       " 'Sponsored\\nHP 15s,11th Gen Intel Core i3-1115G4 8GB RAM/512GB SSD 15.6\"(39.6 cm) FHD/Alexa Built-in/Win 11/Intel UHD Graphics/MSO 2021/1.69 Kg, 15s-fq2673TU, 5% Instant Off on APay ICICI CreditCard (Prime only)\\n4.1\\n(1,119)\\n₹40,990\\n₹51,812 (21% off)\\nSave ₹3,600.00 on SanDisk 2TB Extr…\\nGet it by Tomorrow, 9 April\\nFREE Delivery by Amazon\\nAlexa Built-in',\n",
       " 'Sponsored\\nHonor MagicBook 15, AMD Ryzen 5 5500U 15.6-inch (39.62 cm) FHD IPS Anti-Glare Thin and Light Laptop (8GB/256GB PCIe SSD/Windows 11/ Metal Body/Fingerprint Login/1.54Kg), Gray, BohrM-WDQ9CHNE\\n4.3\\n(338)\\n₹39,990\\n₹55,999 (29% off)\\nSave ₹3,600.00 on SanDisk 2TB Extr…\\nGet it by Tomorrow, 9 April\\nFREE Delivery by Amazon',\n",
       " 'AXL Laptop (Vayu Book) Newly Launched Thin & Light | 14.1 Inch HD Display (4GB/128GB SSD | 1920 * 1080 FHD IPS | HD Gemini Lake N4020 | Windows 11 Home | UHD Graphics 600 | Space Grey\\n3.7\\n(10)\\n₹16,999\\n₹31,990 (47% off)\\n10% Off on HDFC Bank Credit Card\\nGet it by Tomorrow, 9 April\\nFREE Delivery by Amazon',\n",
       " 'HP 245 G8 Laptop PC with AMD Ryzen 3 3250U/8 GB DDR4 RAM/512 GB PCIe® NVMe™ SSD/AMD Radeon™ Graphics/35.6 cm (14\" inch)/DOS/Matte Black/1.5 KG/1 Year Onsite Warranty\\n4.4\\n(3)\\n₹27,999\\n₹99,977 (72% off)\\nGet it by Thursday, 13 April\\nFREE Delivery by Amazon',\n",
       " 'Dell Vostro 3420 Laptop,12th Gen Intel Core i3-1215U, 8GB & 512GB SSD, 14.0\"(35.56Cms) FHD WVA AG 250 nits, Win11 + MSO\\'21(D552325WIN9BE, 1.48 KGs),5% Instant off on APay ICICI CreditCard (Prime only)\\n4.2\\n(134)\\n₹42,490\\n₹61,817 (31% off)\\nSave ₹3,600.00 on SanDisk 2TB Extr…\\nGet it by Tomorrow, 9 April\\nFREE Delivery by Amazon',\n",
       " 'Lenovo IdeaPad D330 Intel Celeron N4020 10.1\" (25cm) HD IPS Detachable 2-in-1 Laptop (4GB/128GB eMMC/Windows 10/1 Yr Warranty/Mineral Grey/1.1Kg), 82H0001YIN\\n3.9\\n(481)\\n₹20,990\\n₹32,090 (35% off)\\n10% Off on HDFC Bank Credit Card\\nGet it by Tomorrow, 9 April\\nFREE Delivery by Amazon',\n",
       " 'ASUS Vivobook 16X (2022), 16-inch (40.64 cms) WUXGA, AMD Ryzen 5 5600H, Thin and Light Laptop (8GB/512GB SSD/Integrated Graphics/Windows 11/Office 2021/Quiet Blue/1.8 kg), M1603QA-MB502WS\\n4.2\\n(168)\\n₹49,990\\n₹68,990 (28% off)\\nSave ₹3,600.00 on SanDisk 2TB Extr…\\nGet it by Tomorrow, 9 April\\nFREE Delivery by Amazon',\n",
       " 'Acer Extensa 15 Lightweight Laptop Intel Core i5 11th Gen Processor - (8 GB/ 512 GB SSD/ Windows 11 Home/ 1.7kg/ Black/ Elevated Hinge Design) EX215-54 with 39.6 cm (15.6 inches) FHD Display\\n4.0\\n(163)\\n₹42,999\\n₹57,999 (26% off)\\nSave ₹3,600.00 on SanDisk 2TB Extr…\\nGet it by Tomorrow, 9 April\\nFREE Delivery by Amazon',\n",
       " 'ASUS Vivobook 14, Intel Core i3-1115G4 11th Gen, 14\" (35.56 cm) FHD, Thin and Light Laptop (8GB/512GB SSD/Office 2021/Windows 11 Home/Integrated Graphics/Fingerprint/Silver/1.6 kg), X415EA-EB322WS\\n4.1\\n(218)\\n₹38,990\\n₹55,990 (30% off)\\nSave ₹3,600.00 on SanDisk 2TB Extr…\\nGet it by Tuesday, 11 April\\nFREE Delivery by Amazon\\nOnly 2 left in stock.',\n",
       " 'Lenovo E41-55 Laptop ( AMD Athlon Pro 3045B/ 4GB RAM/ 1TB HDD/ Windows 11 Home / AMD Radeon Graphics/ 14 Inches/ 1 Year Warranty) Black\\n3.2\\n(22)\\n₹19,999\\n₹78,654 (75% off)\\n10% Off on HDFC Bank Credit Card\\nGet it by Thursday, 13 April\\nFREE Delivery by Amazon',\n",
       " 'Sponsored\\nASUS VivoBook 14, Intel Core i3-1115G4 11th Gen, 14\"(35.56 cm)FHD (8GB/512GB SSD/MSO\\'21/Win11/Integrated Graphics/FP Reader/1.6 kg), X415EA-EK322WS,5% Instant off on APay ICICI CreditCard (Prime only)\\n4.1\\n(218)\\n₹34,990\\n₹49,990 (30% off)\\nSave ₹3,600.00 on SanDisk 2TB Extr…\\nGet it by Tomorrow, 9 April\\nFREE Delivery by Amazon\\nOnly 1 left in stock.',\n",
       " 'Sponsored\\nMSI Summit E16 Flip, Intel 13th Gen. i7-1360P, 41CM QHD+ 165Hz Laptop (32GB/1TB NVMe SSD/Windows 11 Home/Nvidia GeForce RTX 4050, GDDR6 6GB/Ink Black/2.1Kg), A13VET-068IN\\nNew to Amazon\\n₹2,12,990\\n10% Off on HDFC Bank Credit Card\\nFREE Delivery by Amazon',\n",
       " '1-16 of over 5,000 results for \"laptop\"',\n",
       " 'Sponsored\\nAcer Aspire 5 Gaming Laptop Intel Core i5 12th gen (12-Cores) Processor (16 GB/512 GB SSD/Win11 Home/4GB Graphics/RTX 2050) A515-57G (15.6\" FHD Display, 1.8 Kg),Flat Rs: 2000 of All Bank Cards\\n4.0\\n(190)\\n₹63,999\\n₹84,999 (25% off)\\nSave ₹3,600.00 on SanDisk 2TB Extr…\\nGet it by Tomorrow, 9 April\\nFREE Delivery by Amazon',\n",
       " 'Sponsored\\nLenovo IdeaPad 3 11th Gen Intel Core i3 15.6\" FHD Thin & Light Laptop(8GB/512GB SSD/Windows 11/Office 2021/2Yr Warranty/3months Xbox Game Pass/Platinum Grey/1.7Kg), 81X800N2IN\\n4.1\\n(402)\\n₹36,158\\n₹59,890 (40% off)\\nSave ₹3,600.00 on SanDisk 2TB Extr…\\nFREE Delivery by Amazon',\n",
       " 'HP 255 G8 Laptop with AMD Athlon Silver 3050U APU/ 8GB Ram/ 256GB SSD/DOS/AMD Radeon Vega 8 Mobile Graphics/39.6 cm HD (1366 x 768), SVA, Anti-Glare WLED/Black/1 Year Onsite Warranty\\n3.8\\n(4)\\nDeal of the Day\\n₹25,999\\n₹99,999 (74% off)\\nGet it by Thursday, 13 April\\nFREE Delivery by Amazon',\n",
       " 'HP 15s, 11th Gen Intel Core i3 8GB RAM/1TB HDD+256 GB SSD 15.6-inches/39.6 cm FHD Laptop/Windows 11/Intel UHD Graphics/Dual Speakers/Alexa/MSO/Fast Charge/1.75 Kg, 15s-du3614TU\\n3.4\\n(52)\\n₹40,990\\n₹51,470 (20% off)\\nSave ₹3,600.00 on SanDisk 2TB Extr…\\nGet it by Tomorrow, 9 April\\nFREE Delivery by Amazon',\n",
       " 'Dell Inspiron 3520 Laptop,12th Gen Intel Core i5-1235U, 8GB, 1TB + 256GB SSD, 15.6\" (39.62Cms) FHD WVA AG 120Hz 250 nits, Win 11 + MSO\\'21, Black (D560874WIN9B, 1.65KGs)\\n3.6\\n(6)\\n₹56,990\\n₹80,473 (29% off)\\nSave ₹3,600.00 on SanDisk 2TB Extr…\\nGet it by Tuesday, 11 April\\nFREE Delivery by Amazon',\n",
       " '(Renewed) Dell Latitude E5470 Intel Core i5 6th Gen.6200u Processor 14.1 Inches HD Screen Notebook Computer (8 GB Ram & 256 GB SSD, Windows 10 Pro, 1.71Kg)\\n3.6\\n(934)\\n₹21,599\\n₹1,29,000 (83% off)\\nGet it by Friday, 14 April\\nFREE Delivery by Amazon',\n",
       " 'Dell Inspiron 3511 Laptop, Intel i3-1115G4, 8GB DDR4 & 512GB SSD, Windows 11 + MSO\\'21, 15.6\" (39.62Cms) FHD WVA AG, Carbon Black (D560801WIN9B, 1.8Kgs)\\n3.5\\n(49)\\n₹41,990\\n₹55,047 (24% off)\\nSave ₹3,600.00 on SanDisk 2TB Extr…\\nGet it by Tomorrow, 9 April\\nFREE Delivery by Amazon\\nMore Buying Choices\\n₹41,900(6 new offers)',\n",
       " 'ASUS TUF Gaming A15, 15.6\"(39.62 cms) FHD 144Hz, AMD Ryzen 5 4600H,4GB GeForce GTX 1650 Laptop(8GB/512GB SSD/Win11/Black/2.3 Kg),FA506IHRZ-HN111W,5% Instant Off on APay ICICI CreditCard (Prime only)\\n4.3\\n(220)\\n₹59,990\\n₹71,990 (17% off)\\nSave ₹3,600.00 on SanDisk 2TB Extr…\\nGet it by Tomorrow, 9 April\\nFREE Delivery by Amazon\\nMore Buying Choices\\n₹59,900(2 new offers)',\n",
       " 'Honor MagicBook 14, AMD Ryzen 5 5500U 14-inch (35.56 cm) FHD IPS Anti-Glare Thin and Light Laptop (16GB/512GB PCIe SSD/Windows 11/Fingerprint Login/Metal Body/Backlit KB/1.38Kg), Gray, NobelM-WFQ9AHNE\\n4.4\\n(286)\\n₹44,990\\n₹75,999 (41% off)\\nSave ₹3,600.00 on SanDisk 2TB Extr…\\nGet it by Tomorrow, 9 April\\nFREE Delivery by Amazon',\n",
       " 'Lenovo IdeaPad Slim 3 Intel Celeron N4020 4th Gen 15.6\" (39.62cm) HD 220nits Anti-Glare (8GB/256GB SDD/Windows 11/Office 2021/2Yr Warranty/3months Game Pass/Platinum Grey/1.7Kg), 81WQ00NXIN\\n3.7\\n(383)\\n₹25,650\\n₹40,490 (37% off)\\nGet it by Wednesday, 12 April\\nFREE Delivery by Amazon',\n",
       " 'Sponsored\\nHP 15s,11th Gen Intel Core i3-1115G4 8GB RAM/512GB SSD 15.6\"(39.6 cm) FHD/Alexa Built-in/Win 11/Intel UHD Graphics/MSO 2021/1.69 Kg, 15s-fq2673TU, 5% Instant Off on APay ICICI CreditCard (Prime only)\\n4.1\\n(1,119)\\n₹40,990\\n₹51,812 (21% off)\\nSave ₹3,600.00 on SanDisk 2TB Extr…\\nGet it by Tomorrow, 9 April\\nFREE Delivery by Amazon\\nAlexa Built-in',\n",
       " 'Sponsored\\nHonor MagicBook 15, AMD Ryzen 5 5500U 15.6-inch (39.62 cm) FHD IPS Anti-Glare Thin and Light Laptop (8GB/256GB PCIe SSD/Windows 11/ Metal Body/Fingerprint Login/1.54Kg), Gray, BohrM-WDQ9CHNE\\n4.3\\n(338)\\n₹39,990\\n₹55,999 (29% off)\\nSave ₹3,600.00 on SanDisk 2TB Extr…\\nGet it by Tomorrow, 9 April\\nFREE Delivery by Amazon',\n",
       " 'AXL Laptop (Vayu Book) Newly Launched Thin & Light | 14.1 Inch HD Display (4GB/128GB SSD | 1920 * 1080 FHD IPS | HD Gemini Lake N4020 | Windows 11 Home | UHD Graphics 600 | Space Grey\\n3.7\\n(10)\\n₹16,999\\n₹31,990 (47% off)\\n10% Off on HDFC Bank Credit Card\\nGet it by Tomorrow, 9 April\\nFREE Delivery by Amazon',\n",
       " 'HP 245 G8 Laptop PC with AMD Ryzen 3 3250U/8 GB DDR4 RAM/512 GB PCIe® NVMe™ SSD/AMD Radeon™ Graphics/35.6 cm (14\" inch)/DOS/Matte Black/1.5 KG/1 Year Onsite Warranty\\n4.4\\n(3)\\n₹27,999\\n₹99,977 (72% off)\\nGet it by Thursday, 13 April\\nFREE Delivery by Amazon',\n",
       " 'Dell Vostro 3420 Laptop,12th Gen Intel Core i3-1215U, 8GB & 512GB SSD, 14.0\"(35.56Cms) FHD WVA AG 250 nits, Win11 + MSO\\'21(D552325WIN9BE, 1.48 KGs),5% Instant off on APay ICICI CreditCard (Prime only)\\n4.2\\n(134)\\n₹42,490\\n₹61,817 (31% off)\\nSave ₹3,600.00 on SanDisk 2TB Extr…\\nGet it by Tomorrow, 9 April\\nFREE Delivery by Amazon',\n",
       " 'Lenovo IdeaPad D330 Intel Celeron N4020 10.1\" (25cm) HD IPS Detachable 2-in-1 Laptop (4GB/128GB eMMC/Windows 10/1 Yr Warranty/Mineral Grey/1.1Kg), 82H0001YIN\\n3.9\\n(481)\\n₹20,990\\n₹32,090 (35% off)\\n10% Off on HDFC Bank Credit Card\\nGet it by Tomorrow, 9 April\\nFREE Delivery by Amazon',\n",
       " 'ASUS Vivobook 16X (2022), 16-inch (40.64 cms) WUXGA, AMD Ryzen 5 5600H, Thin and Light Laptop (8GB/512GB SSD/Integrated Graphics/Windows 11/Office 2021/Quiet Blue/1.8 kg), M1603QA-MB502WS\\n4.2\\n(168)\\n₹49,990\\n₹68,990 (28% off)\\nSave ₹3,600.00 on SanDisk 2TB Extr…\\nGet it by Tomorrow, 9 April\\nFREE Delivery by Amazon',\n",
       " 'Acer Extensa 15 Lightweight Laptop Intel Core i5 11th Gen Processor - (8 GB/ 512 GB SSD/ Windows 11 Home/ 1.7kg/ Black/ Elevated Hinge Design) EX215-54 with 39.6 cm (15.6 inches) FHD Display\\n4.0\\n(163)\\n₹42,999\\n₹57,999 (26% off)\\nSave ₹3,600.00 on SanDisk 2TB Extr…\\nGet it by Tomorrow, 9 April\\nFREE Delivery by Amazon',\n",
       " 'ASUS Vivobook 14, Intel Core i3-1115G4 11th Gen, 14\" (35.56 cm) FHD, Thin and Light Laptop (8GB/512GB SSD/Office 2021/Windows 11 Home/Integrated Graphics/Fingerprint/Silver/1.6 kg), X415EA-EB322WS\\n4.1\\n(218)\\n₹38,990\\n₹55,990 (30% off)\\nSave ₹3,600.00 on SanDisk 2TB Extr…\\nGet it by Tuesday, 11 April\\nFREE Delivery by Amazon\\nOnly 2 left in stock.',\n",
       " 'Lenovo E41-55 Laptop ( AMD Athlon Pro 3045B/ 4GB RAM/ 1TB HDD/ Windows 11 Home / AMD Radeon Graphics/ 14 Inches/ 1 Year Warranty) Black\\n3.2\\n(22)\\n₹19,999\\n₹78,654 (75% off)\\n10% Off on HDFC Bank Credit Card\\nGet it by Thursday, 13 April\\nFREE Delivery by Amazon',\n",
       " 'Sponsored\\nASUS VivoBook 14, Intel Core i3-1115G4 11th Gen, 14\"(35.56 cm)FHD (8GB/512GB SSD/MSO\\'21/Win11/Integrated Graphics/FP Reader/1.6 kg), X415EA-EK322WS,5% Instant off on APay ICICI CreditCard (Prime only)\\n4.1\\n(218)\\n₹34,990\\n₹49,990 (30% off)\\nSave ₹3,600.00 on SanDisk 2TB Extr…\\nGet it by Tomorrow, 9 April\\nFREE Delivery by Amazon\\nOnly 1 left in stock.',\n",
       " 'Sponsored\\nMSI Summit E16 Flip, Intel 13th Gen. i7-1360P, 41CM QHD+ 165Hz Laptop (32GB/1TB NVMe SSD/Windows 11 Home/Nvidia GeForce RTX 4050, GDDR6 6GB/Ink Black/2.1Kg), A13VET-068IN\\nNew to Amazon\\n₹2,12,990\\n10% Off on HDFC Bank Credit Card\\nFREE Delivery by Amazon']"
      ]
     },
     "execution_count": 16,
     "metadata": {},
     "output_type": "execute_result"
    }
   ],
   "source": [
    "allinfo"
   ]
  },
  {
   "cell_type": "code",
   "execution_count": 37,
   "id": "40098301",
   "metadata": {},
   "outputs": [
    {
     "ename": "WebDriverException",
     "evalue": "Message: disconnected: not connected to DevTools\n  (failed to check if window was closed: disconnected: not connected to DevTools)\n  (Session info: chrome=111.0.5563.148)\nStacktrace:\nBacktrace:\n\t(No symbol) [0x005037D3]\n\t(No symbol) [0x00498B81]\n\t(No symbol) [0x0039B36D]\n\t(No symbol) [0x0038CB66]\n\t(No symbol) [0x0038C889]\n\t(No symbol) [0x0039CB00]\n\t(No symbol) [0x00400AA0]\n\t(No symbol) [0x003EB216]\n\t(No symbol) [0x003C0D97]\n\t(No symbol) [0x003C253D]\n\tGetHandleVerifier [0x0077ABF2+2510930]\n\tGetHandleVerifier [0x007A8EC1+2700065]\n\tGetHandleVerifier [0x007AC86C+2714828]\n\tGetHandleVerifier [0x005B3480+645344]\n\t(No symbol) [0x004A0FD2]\n\t(No symbol) [0x004A6C68]\n\t(No symbol) [0x004A6D4B]\n\t(No symbol) [0x004B0D6B]\n\tBaseThreadInitThunk [0x76406BD9+25]\n\tRtlGetFullPathName_UEx [0x776C8FD2+1218]\n\tRtlGetFullPathName_UEx [0x776C8F9D+1165]\n",
     "output_type": "error",
     "traceback": [
      "\u001b[1;31m---------------------------------------------------------------------------\u001b[0m",
      "\u001b[1;31mWebDriverException\u001b[0m                        Traceback (most recent call last)",
      "\u001b[1;32m~\\AppData\\Local\\Temp/ipykernel_23168/1583007839.py\u001b[0m in \u001b[0;36m<module>\u001b[1;34m\u001b[0m\n\u001b[0;32m      4\u001b[0m \u001b[1;32mfor\u001b[0m \u001b[0mp\u001b[0m \u001b[1;32min\u001b[0m \u001b[0mrange\u001b[0m\u001b[1;33m(\u001b[0m\u001b[0mstart\u001b[0m\u001b[1;33m,\u001b[0m\u001b[0mend\u001b[0m\u001b[1;33m)\u001b[0m\u001b[1;33m:\u001b[0m\u001b[1;33m\u001b[0m\u001b[1;33m\u001b[0m\u001b[0m\n\u001b[0;32m      5\u001b[0m     \u001b[1;32mtry\u001b[0m\u001b[1;33m:\u001b[0m\u001b[1;33m\u001b[0m\u001b[1;33m\u001b[0m\u001b[0m\n\u001b[1;32m----> 6\u001b[1;33m         \u001b[0mprice_tag\u001b[0m\u001b[1;33m=\u001b[0m\u001b[0mdriver\u001b[0m\u001b[1;33m.\u001b[0m\u001b[0mfind_elements\u001b[0m\u001b[1;33m(\u001b[0m\u001b[0mBy\u001b[0m\u001b[1;33m.\u001b[0m\u001b[0mXPATH\u001b[0m\u001b[1;33m,\u001b[0m\u001b[1;34m'//span[@class=\"a-price-whole\"]'\u001b[0m\u001b[1;33m)\u001b[0m\u001b[1;33m\u001b[0m\u001b[1;33m\u001b[0m\u001b[0m\n\u001b[0m\u001b[0;32m      7\u001b[0m         \u001b[1;32mfor\u001b[0m \u001b[0mi\u001b[0m \u001b[1;32min\u001b[0m \u001b[0mprice_tag\u001b[0m\u001b[1;33m:\u001b[0m\u001b[1;33m\u001b[0m\u001b[1;33m\u001b[0m\u001b[0m\n\u001b[0;32m      8\u001b[0m             \u001b[0mprice\u001b[0m\u001b[1;33m.\u001b[0m\u001b[0mappend\u001b[0m\u001b[1;33m(\u001b[0m\u001b[0mprice_tag\u001b[0m\u001b[1;33m.\u001b[0m\u001b[0mtext\u001b[0m\u001b[1;33m)\u001b[0m\u001b[1;33m\u001b[0m\u001b[1;33m\u001b[0m\u001b[0m\n",
      "\u001b[1;32m~\\anaconda3\\lib\\site-packages\\selenium\\webdriver\\remote\\webdriver.py\u001b[0m in \u001b[0;36mfind_elements\u001b[1;34m(self, by, value)\u001b[0m\n\u001b[0;32m    888\u001b[0m         \u001b[1;31m# Return empty list if driver returns null\u001b[0m\u001b[1;33m\u001b[0m\u001b[1;33m\u001b[0m\u001b[0m\n\u001b[0;32m    889\u001b[0m         \u001b[1;31m# See https://github.com/SeleniumHQ/selenium/issues/4555\u001b[0m\u001b[1;33m\u001b[0m\u001b[1;33m\u001b[0m\u001b[0m\n\u001b[1;32m--> 890\u001b[1;33m         return self.execute(Command.FIND_ELEMENTS, {\n\u001b[0m\u001b[0;32m    891\u001b[0m             \u001b[1;34m'using'\u001b[0m\u001b[1;33m:\u001b[0m \u001b[0mby\u001b[0m\u001b[1;33m,\u001b[0m\u001b[1;33m\u001b[0m\u001b[1;33m\u001b[0m\u001b[0m\n\u001b[0;32m    892\u001b[0m             'value': value})['value'] or []\n",
      "\u001b[1;32m~\\anaconda3\\lib\\site-packages\\selenium\\webdriver\\remote\\webdriver.py\u001b[0m in \u001b[0;36mexecute\u001b[1;34m(self, driver_command, params)\u001b[0m\n\u001b[0;32m    433\u001b[0m         \u001b[0mresponse\u001b[0m \u001b[1;33m=\u001b[0m \u001b[0mself\u001b[0m\u001b[1;33m.\u001b[0m\u001b[0mcommand_executor\u001b[0m\u001b[1;33m.\u001b[0m\u001b[0mexecute\u001b[0m\u001b[1;33m(\u001b[0m\u001b[0mdriver_command\u001b[0m\u001b[1;33m,\u001b[0m \u001b[0mparams\u001b[0m\u001b[1;33m)\u001b[0m\u001b[1;33m\u001b[0m\u001b[1;33m\u001b[0m\u001b[0m\n\u001b[0;32m    434\u001b[0m         \u001b[1;32mif\u001b[0m \u001b[0mresponse\u001b[0m\u001b[1;33m:\u001b[0m\u001b[1;33m\u001b[0m\u001b[1;33m\u001b[0m\u001b[0m\n\u001b[1;32m--> 435\u001b[1;33m             \u001b[0mself\u001b[0m\u001b[1;33m.\u001b[0m\u001b[0merror_handler\u001b[0m\u001b[1;33m.\u001b[0m\u001b[0mcheck_response\u001b[0m\u001b[1;33m(\u001b[0m\u001b[0mresponse\u001b[0m\u001b[1;33m)\u001b[0m\u001b[1;33m\u001b[0m\u001b[1;33m\u001b[0m\u001b[0m\n\u001b[0m\u001b[0;32m    436\u001b[0m             response['value'] = self._unwrap_value(\n\u001b[0;32m    437\u001b[0m                 response.get('value', None))\n",
      "\u001b[1;32m~\\anaconda3\\lib\\site-packages\\selenium\\webdriver\\remote\\errorhandler.py\u001b[0m in \u001b[0;36mcheck_response\u001b[1;34m(self, response)\u001b[0m\n\u001b[0;32m    245\u001b[0m                 \u001b[0malert_text\u001b[0m \u001b[1;33m=\u001b[0m \u001b[0mvalue\u001b[0m\u001b[1;33m[\u001b[0m\u001b[1;34m'alert'\u001b[0m\u001b[1;33m]\u001b[0m\u001b[1;33m.\u001b[0m\u001b[0mget\u001b[0m\u001b[1;33m(\u001b[0m\u001b[1;34m'text'\u001b[0m\u001b[1;33m)\u001b[0m\u001b[1;33m\u001b[0m\u001b[1;33m\u001b[0m\u001b[0m\n\u001b[0;32m    246\u001b[0m             \u001b[1;32mraise\u001b[0m \u001b[0mexception_class\u001b[0m\u001b[1;33m(\u001b[0m\u001b[0mmessage\u001b[0m\u001b[1;33m,\u001b[0m \u001b[0mscreen\u001b[0m\u001b[1;33m,\u001b[0m \u001b[0mstacktrace\u001b[0m\u001b[1;33m,\u001b[0m \u001b[0malert_text\u001b[0m\u001b[1;33m)\u001b[0m  \u001b[1;31m# type: ignore[call-arg]  # mypy is not smart enough here\u001b[0m\u001b[1;33m\u001b[0m\u001b[1;33m\u001b[0m\u001b[0m\n\u001b[1;32m--> 247\u001b[1;33m         \u001b[1;32mraise\u001b[0m \u001b[0mexception_class\u001b[0m\u001b[1;33m(\u001b[0m\u001b[0mmessage\u001b[0m\u001b[1;33m,\u001b[0m \u001b[0mscreen\u001b[0m\u001b[1;33m,\u001b[0m \u001b[0mstacktrace\u001b[0m\u001b[1;33m)\u001b[0m\u001b[1;33m\u001b[0m\u001b[1;33m\u001b[0m\u001b[0m\n\u001b[0m\u001b[0;32m    248\u001b[0m \u001b[1;33m\u001b[0m\u001b[0m\n\u001b[0;32m    249\u001b[0m     \u001b[1;32mdef\u001b[0m \u001b[0m_value_or_default\u001b[0m\u001b[1;33m(\u001b[0m\u001b[0mself\u001b[0m\u001b[1;33m,\u001b[0m \u001b[0mobj\u001b[0m\u001b[1;33m:\u001b[0m \u001b[0mMapping\u001b[0m\u001b[1;33m[\u001b[0m\u001b[0m_KT\u001b[0m\u001b[1;33m,\u001b[0m \u001b[0m_VT\u001b[0m\u001b[1;33m]\u001b[0m\u001b[1;33m,\u001b[0m \u001b[0mkey\u001b[0m\u001b[1;33m:\u001b[0m \u001b[0m_KT\u001b[0m\u001b[1;33m,\u001b[0m \u001b[0mdefault\u001b[0m\u001b[1;33m:\u001b[0m \u001b[0m_VT\u001b[0m\u001b[1;33m)\u001b[0m \u001b[1;33m->\u001b[0m \u001b[0m_VT\u001b[0m\u001b[1;33m:\u001b[0m\u001b[1;33m\u001b[0m\u001b[1;33m\u001b[0m\u001b[0m\n",
      "\u001b[1;31mWebDriverException\u001b[0m: Message: disconnected: not connected to DevTools\n  (failed to check if window was closed: disconnected: not connected to DevTools)\n  (Session info: chrome=111.0.5563.148)\nStacktrace:\nBacktrace:\n\t(No symbol) [0x005037D3]\n\t(No symbol) [0x00498B81]\n\t(No symbol) [0x0039B36D]\n\t(No symbol) [0x0038CB66]\n\t(No symbol) [0x0038C889]\n\t(No symbol) [0x0039CB00]\n\t(No symbol) [0x00400AA0]\n\t(No symbol) [0x003EB216]\n\t(No symbol) [0x003C0D97]\n\t(No symbol) [0x003C253D]\n\tGetHandleVerifier [0x0077ABF2+2510930]\n\tGetHandleVerifier [0x007A8EC1+2700065]\n\tGetHandleVerifier [0x007AC86C+2714828]\n\tGetHandleVerifier [0x005B3480+645344]\n\t(No symbol) [0x004A0FD2]\n\t(No symbol) [0x004A6C68]\n\t(No symbol) [0x004A6D4B]\n\t(No symbol) [0x004B0D6B]\n\tBaseThreadInitThunk [0x76406BD9+25]\n\tRtlGetFullPathName_UEx [0x776C8FD2+1218]\n\tRtlGetFullPathName_UEx [0x776C8F9D+1165]\n"
     ]
    }
   ],
   "source": [
    "price=[]\n",
    "start=0\n",
    "end=2\n",
    "for p in range(start,end):\n",
    "    try:\n",
    "        price_tag=driver.find_elements(By.XPATH,'//span[@class=\"a-price-whole\"]')\n",
    "        for i in price_tag:\n",
    "            price.append(price_tag.text)\n",
    "    except NoSuchElementException:\n",
    "        price.append('-')    \n",
    "\n",
    "    next_btn=driver.find_elements(By.XPATH,'/html/body/div[1]/div[2]/div[1]/div[1]/div/span[3]/div[2]/div[28]/div/div/span/a[3]')"
   ]
  },
  {
   "cell_type": "code",
   "execution_count": 18,
   "id": "c92f6693",
   "metadata": {},
   "outputs": [
    {
     "data": {
      "text/plain": [
       "['63,999', '36,158', '25,999', '40,990', '56,990']"
      ]
     },
     "execution_count": 18,
     "metadata": {},
     "output_type": "execute_result"
    }
   ],
   "source": [
    "price[:5]"
   ]
  },
  {
   "cell_type": "code",
   "execution_count": 19,
   "id": "3291246a",
   "metadata": {},
   "outputs": [
    {
     "data": {
      "text/plain": [
       "48"
      ]
     },
     "execution_count": 19,
     "metadata": {},
     "output_type": "execute_result"
    }
   ],
   "source": [
    "len(price)"
   ]
  },
  {
   "cell_type": "code",
   "execution_count": 20,
   "id": "6d6251cd",
   "metadata": {},
   "outputs": [],
   "source": [
    "delivery_tag=driver.find_elements(By.XPATH,'//SPAN[@class=\"a-color-base a-text-bold\"]')"
   ]
  },
  {
   "cell_type": "code",
   "execution_count": 21,
   "id": "2600da1e",
   "metadata": {},
   "outputs": [],
   "source": [
    "delivery=[]\n",
    "start=0\n",
    "end=2\n",
    "for d in range(start,end):\n",
    "    try:\n",
    "        delivery_tag=driver.find_elements(By.XPATH,'//SPAN[@class=\"a-color-base a-text-bold\"]')\n",
    "        for i in delivery_tag:\n",
    "            delivery.append(i.text)\n",
    "    except NoSuchElementException:\n",
    "        delivery.append('-')    \n",
    "\n",
    "    next_btn=driver.find_elements(By.XPATH,'/html/body/div[1]/div[2]/div[1]/div[1]/div/span[3]/div[2]/div[28]/div/div/span/a[3]')"
   ]
  },
  {
   "cell_type": "code",
   "execution_count": 22,
   "id": "608fe057",
   "metadata": {},
   "outputs": [
    {
     "data": {
      "text/plain": [
       "42"
      ]
     },
     "execution_count": 22,
     "metadata": {},
     "output_type": "execute_result"
    }
   ],
   "source": [
    "len(delivery)"
   ]
  },
  {
   "cell_type": "code",
   "execution_count": 29,
   "id": "9aa9c25e",
   "metadata": {},
   "outputs": [
    {
     "data": {
      "text/plain": [
       "['Tomorrow, 9 April',\n",
       " 'Thursday, 13 April',\n",
       " 'Tomorrow, 9 April',\n",
       " 'Tuesday, 11 April',\n",
       " 'Tomorrow, 9 April',\n",
       " 'Friday, 14 April',\n",
       " 'Tomorrow, 9 April',\n",
       " 'Tomorrow, 9 April',\n",
       " 'Tomorrow, 9 April',\n",
       " 'Wednesday, 12 April',\n",
       " 'Tomorrow, 9 April',\n",
       " 'Tomorrow, 9 April',\n",
       " 'Tomorrow, 9 April',\n",
       " 'Thursday, 13 April',\n",
       " 'Tomorrow, 9 April',\n",
       " 'Tomorrow, 9 April',\n",
       " 'Tomorrow, 9 April',\n",
       " 'Tomorrow, 9 April',\n",
       " 'Tuesday, 11 April',\n",
       " 'Thursday, 13 April',\n",
       " 'Tomorrow, 9 April',\n",
       " 'Tomorrow, 9 April',\n",
       " 'Thursday, 13 April',\n",
       " 'Tomorrow, 9 April',\n",
       " 'Tuesday, 11 April',\n",
       " 'Tomorrow, 9 April',\n",
       " 'Friday, 14 April',\n",
       " 'Tomorrow, 9 April',\n",
       " 'Tomorrow, 9 April',\n",
       " 'Tomorrow, 9 April',\n",
       " 'Wednesday, 12 April',\n",
       " 'Tomorrow, 9 April',\n",
       " 'Tomorrow, 9 April',\n",
       " 'Tomorrow, 9 April',\n",
       " 'Thursday, 13 April',\n",
       " 'Tomorrow, 9 April',\n",
       " 'Tomorrow, 9 April',\n",
       " 'Tomorrow, 9 April',\n",
       " 'Tomorrow, 9 April',\n",
       " 'Tuesday, 11 April',\n",
       " 'Thursday, 13 April',\n",
       " 'Tomorrow, 9 April']"
      ]
     },
     "execution_count": 29,
     "metadata": {},
     "output_type": "execute_result"
    }
   ],
   "source": [
    "delivery"
   ]
  },
  {
   "cell_type": "code",
   "execution_count": 23,
   "id": "80535d31",
   "metadata": {},
   "outputs": [],
   "source": [
    "product=[]\n",
    "start=0\n",
    "end=2\n",
    "for p in range(start,end):\n",
    "    try:\n",
    "        product_url=driver.find_elements(By.XPATH,'//a[@class=\"a-link-normal s-underline-text s-underline-link-text s-link-style a-text-normal\"]')\n",
    "        for i in product_url:\n",
    "            product.append(i.get_attribute('href'))\n",
    "    except NoSuchElementException:\n",
    "        product.append('-')    \n",
    "\n",
    "    next_btn=driver.find_elements(By.XPATH,'/html/body/div[1]/div[2]/div[1]/div[1]/div/span[3]/div[2]/div[28]/div/div/span/a[3]')"
   ]
  },
  {
   "cell_type": "code",
   "execution_count": 24,
   "id": "3de3aff4",
   "metadata": {},
   "outputs": [
    {
     "data": {
      "text/plain": [
       "44"
      ]
     },
     "execution_count": 24,
     "metadata": {},
     "output_type": "execute_result"
    }
   ],
   "source": [
    "len(product)"
   ]
  },
  {
   "cell_type": "code",
   "execution_count": 25,
   "id": "3759471b",
   "metadata": {},
   "outputs": [
    {
     "data": {
      "text/plain": [
       "['https://www.amazon.in/sspa/click?ie=UTF8&spc=MToxODM3MDE1ODU1MzExNjM4OjE2ODA5NDg2NjI6c3BfYXRmOjIwMDc4NzU4NTEyNjk4OjowOjo&url=%2FAcer-12-Cores-Processor-Graphics-A515-57G%2Fdp%2FB0B5KTSVTG%2Fref%3Dsr_1_1_sspa%3Fcrid%3D3HKZSMPOR6UNS%26keywords%3Dlaptop%26qid%3D1680948662%26sprefix%3Dlaptop%252Caps%252C224%26sr%3D8-1-spons%26sp_csd%3Dd2lkZ2V0TmFtZT1zcF9hdGY%26psc%3D1',\n",
       " 'https://www.amazon.in/sspa/click?ie=UTF8&spc=MToxODM3MDE1ODU1MzExNjM4OjE2ODA5NDg2NjI6c3BfYXRmOjIwMTEwMjQ4MjcwNjk4OjowOjo&url=%2FLenovo-IdeaPad-Warranty-Platinum-81X800LGIN%2Fdp%2FB0B2RBP83P%2Fref%3Dsr_1_2_sspa%3Fcrid%3D3HKZSMPOR6UNS%26keywords%3Dlaptop%26qid%3D1680948662%26sprefix%3Dlaptop%252Caps%252C224%26sr%3D8-2-spons%26sp_csd%3Dd2lkZ2V0TmFtZT1zcF9hdGY%26psc%3D1',\n",
       " 'https://www.amazon.in/HP-Laptop-Graphics-Anti-Glare-Warranty/dp/B0BVQJ5R2H/ref=sr_1_3?crid=3HKZSMPOR6UNS&keywords=laptop&qid=1680948662&sprefix=laptop%2Caps%2C224&sr=8-3',\n",
       " 'https://www.amazon.in/HP-15-6-inches-Graphics-Speakers-15s-du3614TU/dp/B0B6F6PM6C/ref=sr_1_4?crid=3HKZSMPOR6UNS&keywords=laptop&qid=1680948662&sprefix=laptop%2Caps%2C224&sr=8-4',\n",
       " 'https://www.amazon.in/Dell-Inspiron-Laptop-i5-1235U-D560874WIN9B/dp/B0BQJ8KL7Q/ref=sr_1_5?crid=3HKZSMPOR6UNS&keywords=laptop&qid=1680948662&sprefix=laptop%2Caps%2C224&sr=8-5',\n",
       " 'https://www.amazon.in/Renewed-Dell-Latitude-Laptop-E5470/dp/B094CBQ32N/ref=sr_1_6?crid=3HKZSMPOR6UNS&keywords=laptop&qid=1680948662&sprefix=laptop%2Caps%2C224&sr=8-6',\n",
       " 'https://www.amazon.in/Dell-Inspiron-Windows-i3-1115G4-39-62Cms/dp/B0B468SB8G/ref=sr_1_7?crid=3HKZSMPOR6UNS&keywords=laptop&qid=1680948662&sprefix=laptop%2Caps%2C224&sr=8-7',\n",
       " 'https://www.amazon.in/ASUS-15-6-inch-GeForce-Windows-FA506IHRZ-HN111W/dp/B0B5DZTNZQ/ref=sr_1_8?crid=3HKZSMPOR6UNS&keywords=laptop&qid=1680948662&sprefix=laptop%2Caps%2C224&sr=8-8',\n",
       " 'https://www.amazon.in/Honor-MagicBook-Anti-Glare-Fingerprint-NobelM-WFQ9AHNE/dp/B0BC9R8XYZ/ref=sr_1_9?crid=3HKZSMPOR6UNS&keywords=laptop&qid=1680948662&sprefix=laptop%2Caps%2C224&sr=8-9',\n",
       " 'https://www.amazon.in/Lenovo-Anti-Glare-Warranty-Platinum-81WQ00NXIN/dp/B0B7R7HFKL/ref=sr_1_10?crid=3HKZSMPOR6UNS&keywords=laptop&qid=1680948662&sprefix=laptop%2Caps%2C224&sr=8-10',\n",
       " 'https://www.amazon.in/sspa/click?ie=UTF8&spc=MToxODM3MDE1ODU1MzExNjM4OjE2ODA5NDg2NjI6c3BfbXRmOjIwMTA5NDY2ODcxNTk4OjowOjo&url=%2FHP-i3-1115G4-Micro-Edge-Anti-Glare-15s-fq2673TU%2Fdp%2FB0B4N6JVMW%2Fref%3Dsr_1_11_sspa%3Fcrid%3D3HKZSMPOR6UNS%26keywords%3Dlaptop%26qid%3D1680948662%26sprefix%3Dlaptop%252Caps%252C224%26sr%3D8-11-spons%26sp_csd%3Dd2lkZ2V0TmFtZT1zcF9tdGY%26psc%3D1',\n",
       " 'https://www.amazon.in/sspa/click?ie=UTF8&spc=MToxODM3MDE1ODU1MzExNjM4OjE2ODA5NDg2NjI6c3BfbXRmOjIwMDc5NTQ2OTUyMDk4OjowOjo&url=%2FHonor-MagicBook-Anti-Glare-Fingerprint-BohrM-WDQ9CHNE%2Fdp%2FB0BC9S5DLW%2Fref%3Dsr_1_12_sspa%3Fcrid%3D3HKZSMPOR6UNS%26keywords%3Dlaptop%26qid%3D1680948662%26sprefix%3Dlaptop%252Caps%252C224%26sr%3D8-12-spons%26sp_csd%3Dd2lkZ2V0TmFtZT1zcF9tdGY%26psc%3D1',\n",
       " 'https://www.amazon.in/AXL-Launched-Display-Windows-Graphics/dp/B0BR57T851/ref=sr_1_13?crid=3HKZSMPOR6UNS&keywords=laptop&qid=1680948662&sprefix=laptop%2Caps%2C224&sr=8-13',\n",
       " 'https://www.amazon.in/HP-Laptop-RadeonTM-Graphics-Warranty/dp/B0BW8N34SD/ref=sr_1_14?crid=3HKZSMPOR6UNS&keywords=laptop&qid=1680948662&sprefix=laptop%2Caps%2C224&sr=8-14',\n",
       " 'https://www.amazon.in/Dell-Vostro-i3-1215U-D552325WIN9BE-CreditCard/dp/B0BQJ68HHC/ref=sr_1_15?crid=3HKZSMPOR6UNS&keywords=laptop&qid=1680948662&sprefix=laptop%2Caps%2C224&sr=8-15',\n",
       " 'https://www.amazon.in/Lenovo-IdeaPad-Detachable-Warranty-82H0001YIN/dp/B09SV2B5SR/ref=sr_1_16?crid=3HKZSMPOR6UNS&keywords=laptop&qid=1680948662&sprefix=laptop%2Caps%2C224&sr=8-16',\n",
       " 'https://www.amazon.in/ASUS-Vivobook-Integrated-Graphics-M1603QA-MB502WS/dp/B09ZV5CDWD/ref=sr_1_17?crid=3HKZSMPOR6UNS&keywords=laptop&qid=1680948662&sprefix=laptop%2Caps%2C224&sr=8-17',\n",
       " 'https://www.amazon.in/Acer-Extensa-Lightweight-Laptop-Processor/dp/B0B5ZMV9T9/ref=sr_1_18?crid=3HKZSMPOR6UNS&keywords=laptop&qid=1680948662&sprefix=laptop%2Caps%2C224&sr=8-18',\n",
       " 'https://www.amazon.in/ASUS-Vivobook-i3-1115G4-X415EA-EB322WS-Transparent/dp/B09R5PKLH8/ref=sr_1_19?crid=3HKZSMPOR6UNS&keywords=laptop&qid=1680948662&sprefix=laptop%2Caps%2C224&sr=8-19',\n",
       " 'https://www.amazon.in/Lenovo-E41-55-Windows-Graphics-Warranty/dp/B08KRZPGL3/ref=sr_1_20?crid=3HKZSMPOR6UNS&keywords=laptop&qid=1680948662&sprefix=laptop%2Caps%2C224&sr=8-20',\n",
       " 'https://www.amazon.in/sspa/click?ie=UTF8&spc=MToxODM3MDE1ODU1MzExNjM4OjE2ODA5NDg2NjI6c3BfYnRmOjIwMTExMjE2ODM0Nzk4OjowOjo&url=%2FASUS-i3-1115G4-Integrated-X415EA-EK322WS-CreditCard%2Fdp%2FB0BNHH8L9L%2Fref%3Dsr_1_21_sspa%3Fcrid%3D3HKZSMPOR6UNS%26keywords%3Dlaptop%26qid%3D1680948662%26sprefix%3Dlaptop%252Caps%252C224%26sr%3D8-21-spons%26sp_csd%3Dd2lkZ2V0TmFtZT1zcF9idGY%26psc%3D1',\n",
       " 'https://www.amazon.in/sspa/click?ie=UTF8&spc=MToxODM3MDE1ODU1MzExNjM4OjE2ODA5NDg2NjI6c3BfYnRmOjIwMTQyMzI0NzI2ODk4OjowOjo&url=%2FMSI-Summit-E16-Flip-A13VET-068IN%2Fdp%2FB09Y56JWQ5%2Fref%3Dsr_1_22_sspa%3Fcrid%3D3HKZSMPOR6UNS%26keywords%3Dlaptop%26qid%3D1680948662%26sprefix%3Dlaptop%252Caps%252C224%26sr%3D8-22-spons%26sp_csd%3Dd2lkZ2V0TmFtZT1zcF9idGY%26psc%3D1',\n",
       " 'https://www.amazon.in/sspa/click?ie=UTF8&spc=MToxODM3MDE1ODU1MzExNjM4OjE2ODA5NDg2NjI6c3BfYXRmOjIwMDc4NzU4NTEyNjk4OjowOjo&url=%2FAcer-12-Cores-Processor-Graphics-A515-57G%2Fdp%2FB0B5KTSVTG%2Fref%3Dsr_1_1_sspa%3Fcrid%3D3HKZSMPOR6UNS%26keywords%3Dlaptop%26qid%3D1680948662%26sprefix%3Dlaptop%252Caps%252C224%26sr%3D8-1-spons%26sp_csd%3Dd2lkZ2V0TmFtZT1zcF9hdGY%26psc%3D1',\n",
       " 'https://www.amazon.in/sspa/click?ie=UTF8&spc=MToxODM3MDE1ODU1MzExNjM4OjE2ODA5NDg2NjI6c3BfYXRmOjIwMTEwMjQ4MjcwNjk4OjowOjo&url=%2FLenovo-IdeaPad-Warranty-Platinum-81X800LGIN%2Fdp%2FB0B2RBP83P%2Fref%3Dsr_1_2_sspa%3Fcrid%3D3HKZSMPOR6UNS%26keywords%3Dlaptop%26qid%3D1680948662%26sprefix%3Dlaptop%252Caps%252C224%26sr%3D8-2-spons%26sp_csd%3Dd2lkZ2V0TmFtZT1zcF9hdGY%26psc%3D1',\n",
       " 'https://www.amazon.in/HP-Laptop-Graphics-Anti-Glare-Warranty/dp/B0BVQJ5R2H/ref=sr_1_3?crid=3HKZSMPOR6UNS&keywords=laptop&qid=1680948662&sprefix=laptop%2Caps%2C224&sr=8-3',\n",
       " 'https://www.amazon.in/HP-15-6-inches-Graphics-Speakers-15s-du3614TU/dp/B0B6F6PM6C/ref=sr_1_4?crid=3HKZSMPOR6UNS&keywords=laptop&qid=1680948662&sprefix=laptop%2Caps%2C224&sr=8-4',\n",
       " 'https://www.amazon.in/Dell-Inspiron-Laptop-i5-1235U-D560874WIN9B/dp/B0BQJ8KL7Q/ref=sr_1_5?crid=3HKZSMPOR6UNS&keywords=laptop&qid=1680948662&sprefix=laptop%2Caps%2C224&sr=8-5',\n",
       " 'https://www.amazon.in/Renewed-Dell-Latitude-Laptop-E5470/dp/B094CBQ32N/ref=sr_1_6?crid=3HKZSMPOR6UNS&keywords=laptop&qid=1680948662&sprefix=laptop%2Caps%2C224&sr=8-6',\n",
       " 'https://www.amazon.in/Dell-Inspiron-Windows-i3-1115G4-39-62Cms/dp/B0B468SB8G/ref=sr_1_7?crid=3HKZSMPOR6UNS&keywords=laptop&qid=1680948662&sprefix=laptop%2Caps%2C224&sr=8-7',\n",
       " 'https://www.amazon.in/ASUS-15-6-inch-GeForce-Windows-FA506IHRZ-HN111W/dp/B0B5DZTNZQ/ref=sr_1_8?crid=3HKZSMPOR6UNS&keywords=laptop&qid=1680948662&sprefix=laptop%2Caps%2C224&sr=8-8',\n",
       " 'https://www.amazon.in/Honor-MagicBook-Anti-Glare-Fingerprint-NobelM-WFQ9AHNE/dp/B0BC9R8XYZ/ref=sr_1_9?crid=3HKZSMPOR6UNS&keywords=laptop&qid=1680948662&sprefix=laptop%2Caps%2C224&sr=8-9',\n",
       " 'https://www.amazon.in/Lenovo-Anti-Glare-Warranty-Platinum-81WQ00NXIN/dp/B0B7R7HFKL/ref=sr_1_10?crid=3HKZSMPOR6UNS&keywords=laptop&qid=1680948662&sprefix=laptop%2Caps%2C224&sr=8-10',\n",
       " 'https://www.amazon.in/sspa/click?ie=UTF8&spc=MToxODM3MDE1ODU1MzExNjM4OjE2ODA5NDg2NjI6c3BfbXRmOjIwMTA5NDY2ODcxNTk4OjowOjo&url=%2FHP-i3-1115G4-Micro-Edge-Anti-Glare-15s-fq2673TU%2Fdp%2FB0B4N6JVMW%2Fref%3Dsr_1_11_sspa%3Fcrid%3D3HKZSMPOR6UNS%26keywords%3Dlaptop%26qid%3D1680948662%26sprefix%3Dlaptop%252Caps%252C224%26sr%3D8-11-spons%26sp_csd%3Dd2lkZ2V0TmFtZT1zcF9tdGY%26psc%3D1',\n",
       " 'https://www.amazon.in/sspa/click?ie=UTF8&spc=MToxODM3MDE1ODU1MzExNjM4OjE2ODA5NDg2NjI6c3BfbXRmOjIwMDc5NTQ2OTUyMDk4OjowOjo&url=%2FHonor-MagicBook-Anti-Glare-Fingerprint-BohrM-WDQ9CHNE%2Fdp%2FB0BC9S5DLW%2Fref%3Dsr_1_12_sspa%3Fcrid%3D3HKZSMPOR6UNS%26keywords%3Dlaptop%26qid%3D1680948662%26sprefix%3Dlaptop%252Caps%252C224%26sr%3D8-12-spons%26sp_csd%3Dd2lkZ2V0TmFtZT1zcF9tdGY%26psc%3D1',\n",
       " 'https://www.amazon.in/AXL-Launched-Display-Windows-Graphics/dp/B0BR57T851/ref=sr_1_13?crid=3HKZSMPOR6UNS&keywords=laptop&qid=1680948662&sprefix=laptop%2Caps%2C224&sr=8-13',\n",
       " 'https://www.amazon.in/HP-Laptop-RadeonTM-Graphics-Warranty/dp/B0BW8N34SD/ref=sr_1_14?crid=3HKZSMPOR6UNS&keywords=laptop&qid=1680948662&sprefix=laptop%2Caps%2C224&sr=8-14',\n",
       " 'https://www.amazon.in/Dell-Vostro-i3-1215U-D552325WIN9BE-CreditCard/dp/B0BQJ68HHC/ref=sr_1_15?crid=3HKZSMPOR6UNS&keywords=laptop&qid=1680948662&sprefix=laptop%2Caps%2C224&sr=8-15',\n",
       " 'https://www.amazon.in/Lenovo-IdeaPad-Detachable-Warranty-82H0001YIN/dp/B09SV2B5SR/ref=sr_1_16?crid=3HKZSMPOR6UNS&keywords=laptop&qid=1680948662&sprefix=laptop%2Caps%2C224&sr=8-16',\n",
       " 'https://www.amazon.in/ASUS-Vivobook-Integrated-Graphics-M1603QA-MB502WS/dp/B09ZV5CDWD/ref=sr_1_17?crid=3HKZSMPOR6UNS&keywords=laptop&qid=1680948662&sprefix=laptop%2Caps%2C224&sr=8-17',\n",
       " 'https://www.amazon.in/Acer-Extensa-Lightweight-Laptop-Processor/dp/B0B5ZMV9T9/ref=sr_1_18?crid=3HKZSMPOR6UNS&keywords=laptop&qid=1680948662&sprefix=laptop%2Caps%2C224&sr=8-18',\n",
       " 'https://www.amazon.in/ASUS-Vivobook-i3-1115G4-X415EA-EB322WS-Transparent/dp/B09R5PKLH8/ref=sr_1_19?crid=3HKZSMPOR6UNS&keywords=laptop&qid=1680948662&sprefix=laptop%2Caps%2C224&sr=8-19',\n",
       " 'https://www.amazon.in/Lenovo-E41-55-Windows-Graphics-Warranty/dp/B08KRZPGL3/ref=sr_1_20?crid=3HKZSMPOR6UNS&keywords=laptop&qid=1680948662&sprefix=laptop%2Caps%2C224&sr=8-20',\n",
       " 'https://www.amazon.in/sspa/click?ie=UTF8&spc=MToxODM3MDE1ODU1MzExNjM4OjE2ODA5NDg2NjI6c3BfYnRmOjIwMTExMjE2ODM0Nzk4OjowOjo&url=%2FASUS-i3-1115G4-Integrated-X415EA-EK322WS-CreditCard%2Fdp%2FB0BNHH8L9L%2Fref%3Dsr_1_21_sspa%3Fcrid%3D3HKZSMPOR6UNS%26keywords%3Dlaptop%26qid%3D1680948662%26sprefix%3Dlaptop%252Caps%252C224%26sr%3D8-21-spons%26sp_csd%3Dd2lkZ2V0TmFtZT1zcF9idGY%26psc%3D1',\n",
       " 'https://www.amazon.in/sspa/click?ie=UTF8&spc=MToxODM3MDE1ODU1MzExNjM4OjE2ODA5NDg2NjI6c3BfYnRmOjIwMTQyMzI0NzI2ODk4OjowOjo&url=%2FMSI-Summit-E16-Flip-A13VET-068IN%2Fdp%2FB09Y56JWQ5%2Fref%3Dsr_1_22_sspa%3Fcrid%3D3HKZSMPOR6UNS%26keywords%3Dlaptop%26qid%3D1680948662%26sprefix%3Dlaptop%252Caps%252C224%26sr%3D8-22-spons%26sp_csd%3Dd2lkZ2V0TmFtZT1zcF9idGY%26psc%3D1']"
      ]
     },
     "execution_count": 25,
     "metadata": {},
     "output_type": "execute_result"
    }
   ],
   "source": [
    "product"
   ]
  },
  {
   "cell_type": "code",
   "execution_count": 26,
   "id": "e4e6741a",
   "metadata": {},
   "outputs": [],
   "source": [
    "prod=[]\n",
    "start=0\n",
    "end=2\n",
    "for e in range(start,end):\n",
    "\n",
    "    elems = driver.find_elements(By.XPATH,'//a[@class=\"a-link-normal s-underline-text s-underline-link-text s-link-style a-text-normal\"]')\n",
    "    for elem in elems:\n",
    "        prod.append(elem.get_attribute('href'))\n",
    "    next_btn=driver.find_elements(By.XPATH,'/html/body/div[1]/div[2]/div[1]/div[1]/div/span[3]/div[2]/div[28]/div/div/span/a[3]')\n",
    "    #print(elem.get_attribute(\"href\"))"
   ]
  },
  {
   "cell_type": "code",
   "execution_count": 27,
   "id": "cee4a196",
   "metadata": {},
   "outputs": [
    {
     "data": {
      "text/plain": [
       "44"
      ]
     },
     "execution_count": 27,
     "metadata": {},
     "output_type": "execute_result"
    }
   ],
   "source": [
    "len(prod)"
   ]
  },
  {
   "cell_type": "code",
   "execution_count": 33,
   "id": "7d8f7ed7",
   "metadata": {},
   "outputs": [
    {
     "ename": "ValueError",
     "evalue": "Length of values (44) does not match length of index (42)",
     "output_type": "error",
     "traceback": [
      "\u001b[1;31m---------------------------------------------------------------------------\u001b[0m",
      "\u001b[1;31mValueError\u001b[0m                                Traceback (most recent call last)",
      "\u001b[1;32m~\\AppData\\Local\\Temp/ipykernel_23168/2952350309.py\u001b[0m in \u001b[0;36m<module>\u001b[1;34m\u001b[0m\n\u001b[0;32m      3\u001b[0m \u001b[0mdf\u001b[0m\u001b[1;33m[\u001b[0m\u001b[1;34m'Price'\u001b[0m\u001b[1;33m]\u001b[0m\u001b[1;33m=\u001b[0m\u001b[0mprice\u001b[0m\u001b[1;33m\u001b[0m\u001b[1;33m\u001b[0m\u001b[0m\n\u001b[0;32m      4\u001b[0m \u001b[0mdf\u001b[0m\u001b[1;33m[\u001b[0m\u001b[1;34m'Delivery'\u001b[0m\u001b[1;33m]\u001b[0m\u001b[1;33m=\u001b[0m\u001b[0mdelivery\u001b[0m\u001b[1;33m\u001b[0m\u001b[1;33m\u001b[0m\u001b[0m\n\u001b[1;32m----> 5\u001b[1;33m \u001b[0mdf\u001b[0m\u001b[1;33m[\u001b[0m\u001b[1;34m'Product URL'\u001b[0m\u001b[1;33m]\u001b[0m\u001b[1;33m=\u001b[0m\u001b[0mproduct\u001b[0m\u001b[1;33m\u001b[0m\u001b[1;33m\u001b[0m\u001b[0m\n\u001b[0m",
      "\u001b[1;32m~\\anaconda3\\lib\\site-packages\\pandas\\core\\frame.py\u001b[0m in \u001b[0;36m__setitem__\u001b[1;34m(self, key, value)\u001b[0m\n\u001b[0;32m   3610\u001b[0m         \u001b[1;32melse\u001b[0m\u001b[1;33m:\u001b[0m\u001b[1;33m\u001b[0m\u001b[1;33m\u001b[0m\u001b[0m\n\u001b[0;32m   3611\u001b[0m             \u001b[1;31m# set column\u001b[0m\u001b[1;33m\u001b[0m\u001b[1;33m\u001b[0m\u001b[0m\n\u001b[1;32m-> 3612\u001b[1;33m             \u001b[0mself\u001b[0m\u001b[1;33m.\u001b[0m\u001b[0m_set_item\u001b[0m\u001b[1;33m(\u001b[0m\u001b[0mkey\u001b[0m\u001b[1;33m,\u001b[0m \u001b[0mvalue\u001b[0m\u001b[1;33m)\u001b[0m\u001b[1;33m\u001b[0m\u001b[1;33m\u001b[0m\u001b[0m\n\u001b[0m\u001b[0;32m   3613\u001b[0m \u001b[1;33m\u001b[0m\u001b[0m\n\u001b[0;32m   3614\u001b[0m     \u001b[1;32mdef\u001b[0m \u001b[0m_setitem_slice\u001b[0m\u001b[1;33m(\u001b[0m\u001b[0mself\u001b[0m\u001b[1;33m,\u001b[0m \u001b[0mkey\u001b[0m\u001b[1;33m:\u001b[0m \u001b[0mslice\u001b[0m\u001b[1;33m,\u001b[0m \u001b[0mvalue\u001b[0m\u001b[1;33m)\u001b[0m\u001b[1;33m:\u001b[0m\u001b[1;33m\u001b[0m\u001b[1;33m\u001b[0m\u001b[0m\n",
      "\u001b[1;32m~\\anaconda3\\lib\\site-packages\\pandas\\core\\frame.py\u001b[0m in \u001b[0;36m_set_item\u001b[1;34m(self, key, value)\u001b[0m\n\u001b[0;32m   3782\u001b[0m         \u001b[0mensure\u001b[0m \u001b[0mhomogeneity\u001b[0m\u001b[1;33m.\u001b[0m\u001b[1;33m\u001b[0m\u001b[1;33m\u001b[0m\u001b[0m\n\u001b[0;32m   3783\u001b[0m         \"\"\"\n\u001b[1;32m-> 3784\u001b[1;33m         \u001b[0mvalue\u001b[0m \u001b[1;33m=\u001b[0m \u001b[0mself\u001b[0m\u001b[1;33m.\u001b[0m\u001b[0m_sanitize_column\u001b[0m\u001b[1;33m(\u001b[0m\u001b[0mvalue\u001b[0m\u001b[1;33m)\u001b[0m\u001b[1;33m\u001b[0m\u001b[1;33m\u001b[0m\u001b[0m\n\u001b[0m\u001b[0;32m   3785\u001b[0m \u001b[1;33m\u001b[0m\u001b[0m\n\u001b[0;32m   3786\u001b[0m         if (\n",
      "\u001b[1;32m~\\anaconda3\\lib\\site-packages\\pandas\\core\\frame.py\u001b[0m in \u001b[0;36m_sanitize_column\u001b[1;34m(self, value)\u001b[0m\n\u001b[0;32m   4507\u001b[0m \u001b[1;33m\u001b[0m\u001b[0m\n\u001b[0;32m   4508\u001b[0m         \u001b[1;32mif\u001b[0m \u001b[0mis_list_like\u001b[0m\u001b[1;33m(\u001b[0m\u001b[0mvalue\u001b[0m\u001b[1;33m)\u001b[0m\u001b[1;33m:\u001b[0m\u001b[1;33m\u001b[0m\u001b[1;33m\u001b[0m\u001b[0m\n\u001b[1;32m-> 4509\u001b[1;33m             \u001b[0mcom\u001b[0m\u001b[1;33m.\u001b[0m\u001b[0mrequire_length_match\u001b[0m\u001b[1;33m(\u001b[0m\u001b[0mvalue\u001b[0m\u001b[1;33m,\u001b[0m \u001b[0mself\u001b[0m\u001b[1;33m.\u001b[0m\u001b[0mindex\u001b[0m\u001b[1;33m)\u001b[0m\u001b[1;33m\u001b[0m\u001b[1;33m\u001b[0m\u001b[0m\n\u001b[0m\u001b[0;32m   4510\u001b[0m         \u001b[1;32mreturn\u001b[0m \u001b[0msanitize_array\u001b[0m\u001b[1;33m(\u001b[0m\u001b[0mvalue\u001b[0m\u001b[1;33m,\u001b[0m \u001b[0mself\u001b[0m\u001b[1;33m.\u001b[0m\u001b[0mindex\u001b[0m\u001b[1;33m,\u001b[0m \u001b[0mcopy\u001b[0m\u001b[1;33m=\u001b[0m\u001b[1;32mTrue\u001b[0m\u001b[1;33m,\u001b[0m \u001b[0mallow_2d\u001b[0m\u001b[1;33m=\u001b[0m\u001b[1;32mTrue\u001b[0m\u001b[1;33m)\u001b[0m\u001b[1;33m\u001b[0m\u001b[1;33m\u001b[0m\u001b[0m\n\u001b[0;32m   4511\u001b[0m \u001b[1;33m\u001b[0m\u001b[0m\n",
      "\u001b[1;32m~\\anaconda3\\lib\\site-packages\\pandas\\core\\common.py\u001b[0m in \u001b[0;36mrequire_length_match\u001b[1;34m(data, index)\u001b[0m\n\u001b[0;32m    529\u001b[0m     \"\"\"\n\u001b[0;32m    530\u001b[0m     \u001b[1;32mif\u001b[0m \u001b[0mlen\u001b[0m\u001b[1;33m(\u001b[0m\u001b[0mdata\u001b[0m\u001b[1;33m)\u001b[0m \u001b[1;33m!=\u001b[0m \u001b[0mlen\u001b[0m\u001b[1;33m(\u001b[0m\u001b[0mindex\u001b[0m\u001b[1;33m)\u001b[0m\u001b[1;33m:\u001b[0m\u001b[1;33m\u001b[0m\u001b[1;33m\u001b[0m\u001b[0m\n\u001b[1;32m--> 531\u001b[1;33m         raise ValueError(\n\u001b[0m\u001b[0;32m    532\u001b[0m             \u001b[1;34m\"Length of values \"\u001b[0m\u001b[1;33m\u001b[0m\u001b[1;33m\u001b[0m\u001b[0m\n\u001b[0;32m    533\u001b[0m             \u001b[1;34mf\"({len(data)}) \"\u001b[0m\u001b[1;33m\u001b[0m\u001b[1;33m\u001b[0m\u001b[0m\n",
      "\u001b[1;31mValueError\u001b[0m: Length of values (44) does not match length of index (42)"
     ]
    }
   ],
   "source": [
    "df=pd.DataFrame()\n",
    "\n",
    "df['Price']=price\n",
    "df['Delivery']=delivery\n",
    "df['Product URL']=product"
   ]
  },
  {
   "cell_type": "code",
   "execution_count": null,
   "id": "82031d64",
   "metadata": {},
   "outputs": [],
   "source": []
  },
  {
   "cell_type": "code",
   "execution_count": null,
   "id": "a47194eb",
   "metadata": {},
   "outputs": [],
   "source": []
  },
  {
   "cell_type": "markdown",
   "id": "eebb2dbe",
   "metadata": {},
   "source": [
    "# IMAGES GOOGLE"
   ]
  },
  {
   "cell_type": "code",
   "execution_count": 112,
   "id": "8fdc590d",
   "metadata": {},
   "outputs": [],
   "source": [
    "import selenium\n",
    "from selenium import webdriver\n",
    "import pandas as pd\n",
    "import warnings\n",
    "warnings.filterwarnings(\"ignore\")"
   ]
  },
  {
   "cell_type": "code",
   "execution_count": 113,
   "id": "f5bd0173",
   "metadata": {},
   "outputs": [],
   "source": [
    "driver=webdriver.Chrome(r'D:\\flip robo\\chromedriver_win32\\chromedriver.exe')"
   ]
  },
  {
   "cell_type": "code",
   "execution_count": 114,
   "id": "38f3701f",
   "metadata": {},
   "outputs": [],
   "source": [
    "url=\"https://www.google.co.in/imghp?hl=en&tab=ri&authuser=0&ogbl\"\n",
    "driver.get(url)"
   ]
  },
  {
   "cell_type": "code",
   "execution_count": 115,
   "id": "2701ba9a",
   "metadata": {},
   "outputs": [],
   "source": [
    "from selenium.webdriver.common.by import By"
   ]
  },
  {
   "cell_type": "code",
   "execution_count": 116,
   "id": "234bb226",
   "metadata": {},
   "outputs": [
    {
     "data": {
      "text/plain": [
       "<selenium.webdriver.remote.webelement.WebElement (session=\"d0a199cc9c93d04812175b0e452653af\", element=\"2c7983d7-8baa-4f67-a2f1-0e1f04e2c385\")>"
      ]
     },
     "execution_count": 116,
     "metadata": {},
     "output_type": "execute_result"
    }
   ],
   "source": [
    "search_gle=driver.find_element(By.XPATH,'/html/body/div[1]/div[3]/form/div[1]/div[1]/div[1]/div/div[2]/input')\n",
    "search_gle"
   ]
  },
  {
   "cell_type": "code",
   "execution_count": 117,
   "id": "41cb1d71",
   "metadata": {},
   "outputs": [],
   "source": [
    "search_gle.send_keys('fruit')"
   ]
  },
  {
   "cell_type": "code",
   "execution_count": 118,
   "id": "a7587b89",
   "metadata": {},
   "outputs": [
    {
     "data": {
      "text/plain": [
       "<selenium.webdriver.remote.webelement.WebElement (session=\"d0a199cc9c93d04812175b0e452653af\", element=\"78726f84-b074-4f00-8ae6-47c764b28a9d\")>"
      ]
     },
     "execution_count": 118,
     "metadata": {},
     "output_type": "execute_result"
    }
   ],
   "source": [
    "search_btn=driver.find_element(By.XPATH,'/html/body/div[1]/div[3]/form/div[1]/div[1]/div[1]/button/div')\n",
    "search_btn"
   ]
  },
  {
   "cell_type": "code",
   "execution_count": 121,
   "id": "73e5d4cf",
   "metadata": {},
   "outputs": [
    {
     "ename": "ElementClickInterceptedException",
     "evalue": "Message: element click intercepted: Element <div class=\"zgAlFc\">...</div> is not clickable at point (780, 214). Other element would receive the click: <iframe role=\"presentation\" frameborder=\"0\" scrolling=\"no\" name=\"callout\" src=\"https://ogs.google.co.in/widget/callout?prid=19028915&amp;pgid=19027681&amp;puid=3e9e72cbc9a83b93&amp;cce=1&amp;dc=1&amp;origin=https%3A%2F%2Fwww.google.co.in&amp;cn=callout&amp;pid=1&amp;spid=2&amp;hl=en\" style=\"height: 100%; width: 100%;\" data-iml=\"1659788066112\"></iframe>\n  (Session info: chrome=103.0.5060.134)\nStacktrace:\nBacktrace:\n\tOrdinal0 [0x00A36463+2188387]\n\tOrdinal0 [0x009CE461+1762401]\n\tOrdinal0 [0x008E3D78+802168]\n\tOrdinal0 [0x00917F9B+1015707]\n\tOrdinal0 [0x00915F68+1007464]\n\tOrdinal0 [0x00913C6B+998507]\n\tOrdinal0 [0x009129D9+993753]\n\tOrdinal0 [0x00908613+951827]\n\tOrdinal0 [0x0092C7DC+1099740]\n\tOrdinal0 [0x00907FF4+950260]\n\tOrdinal0 [0x0092C9F4+1100276]\n\tOrdinal0 [0x0093CC22+1166370]\n\tOrdinal0 [0x0092C5F6+1099254]\n\tOrdinal0 [0x00906BE0+945120]\n\tOrdinal0 [0x00907AD6+948950]\n\tGetHandleVerifier [0x00CD71F2+2712546]\n\tGetHandleVerifier [0x00CC886D+2652765]\n\tGetHandleVerifier [0x00AC002A+520730]\n\tGetHandleVerifier [0x00ABEE06+516086]\n\tOrdinal0 [0x009D468B+1787531]\n\tOrdinal0 [0x009D8E88+1805960]\n\tOrdinal0 [0x009D8F75+1806197]\n\tOrdinal0 [0x009E1DF1+1842673]\n\tBaseThreadInitThunk [0x75DD6739+25]\n\tRtlGetFullPathName_UEx [0x77808FEF+1215]\n\tRtlGetFullPathName_UEx [0x77808FBD+1165]\n",
     "output_type": "error",
     "traceback": [
      "\u001b[1;31m---------------------------------------------------------------------------\u001b[0m",
      "\u001b[1;31mElementClickInterceptedException\u001b[0m          Traceback (most recent call last)",
      "\u001b[1;32m~\\AppData\\Local\\Temp/ipykernel_5588/258053489.py\u001b[0m in \u001b[0;36m<module>\u001b[1;34m\u001b[0m\n\u001b[1;32m----> 1\u001b[1;33m \u001b[0msearch_btn\u001b[0m\u001b[1;33m.\u001b[0m\u001b[0mclick\u001b[0m\u001b[1;33m(\u001b[0m\u001b[1;33m)\u001b[0m\u001b[1;33m\u001b[0m\u001b[1;33m\u001b[0m\u001b[0m\n\u001b[0m",
      "\u001b[1;32m~\\anaconda3\\lib\\site-packages\\selenium\\webdriver\\remote\\webelement.py\u001b[0m in \u001b[0;36mclick\u001b[1;34m(self)\u001b[0m\n\u001b[0;32m     86\u001b[0m     \u001b[1;32mdef\u001b[0m \u001b[0mclick\u001b[0m\u001b[1;33m(\u001b[0m\u001b[0mself\u001b[0m\u001b[1;33m)\u001b[0m \u001b[1;33m->\u001b[0m \u001b[1;32mNone\u001b[0m\u001b[1;33m:\u001b[0m\u001b[1;33m\u001b[0m\u001b[1;33m\u001b[0m\u001b[0m\n\u001b[0;32m     87\u001b[0m         \u001b[1;34m\"\"\"Clicks the element.\"\"\"\u001b[0m\u001b[1;33m\u001b[0m\u001b[1;33m\u001b[0m\u001b[0m\n\u001b[1;32m---> 88\u001b[1;33m         \u001b[0mself\u001b[0m\u001b[1;33m.\u001b[0m\u001b[0m_execute\u001b[0m\u001b[1;33m(\u001b[0m\u001b[0mCommand\u001b[0m\u001b[1;33m.\u001b[0m\u001b[0mCLICK_ELEMENT\u001b[0m\u001b[1;33m)\u001b[0m\u001b[1;33m\u001b[0m\u001b[1;33m\u001b[0m\u001b[0m\n\u001b[0m\u001b[0;32m     89\u001b[0m \u001b[1;33m\u001b[0m\u001b[0m\n\u001b[0;32m     90\u001b[0m     \u001b[1;32mdef\u001b[0m \u001b[0msubmit\u001b[0m\u001b[1;33m(\u001b[0m\u001b[0mself\u001b[0m\u001b[1;33m)\u001b[0m\u001b[1;33m:\u001b[0m\u001b[1;33m\u001b[0m\u001b[1;33m\u001b[0m\u001b[0m\n",
      "\u001b[1;32m~\\anaconda3\\lib\\site-packages\\selenium\\webdriver\\remote\\webelement.py\u001b[0m in \u001b[0;36m_execute\u001b[1;34m(self, command, params)\u001b[0m\n\u001b[0;32m    394\u001b[0m             \u001b[0mparams\u001b[0m \u001b[1;33m=\u001b[0m \u001b[1;33m{\u001b[0m\u001b[1;33m}\u001b[0m\u001b[1;33m\u001b[0m\u001b[1;33m\u001b[0m\u001b[0m\n\u001b[0;32m    395\u001b[0m         \u001b[0mparams\u001b[0m\u001b[1;33m[\u001b[0m\u001b[1;34m'id'\u001b[0m\u001b[1;33m]\u001b[0m \u001b[1;33m=\u001b[0m \u001b[0mself\u001b[0m\u001b[1;33m.\u001b[0m\u001b[0m_id\u001b[0m\u001b[1;33m\u001b[0m\u001b[1;33m\u001b[0m\u001b[0m\n\u001b[1;32m--> 396\u001b[1;33m         \u001b[1;32mreturn\u001b[0m \u001b[0mself\u001b[0m\u001b[1;33m.\u001b[0m\u001b[0m_parent\u001b[0m\u001b[1;33m.\u001b[0m\u001b[0mexecute\u001b[0m\u001b[1;33m(\u001b[0m\u001b[0mcommand\u001b[0m\u001b[1;33m,\u001b[0m \u001b[0mparams\u001b[0m\u001b[1;33m)\u001b[0m\u001b[1;33m\u001b[0m\u001b[1;33m\u001b[0m\u001b[0m\n\u001b[0m\u001b[0;32m    397\u001b[0m \u001b[1;33m\u001b[0m\u001b[0m\n\u001b[0;32m    398\u001b[0m     \u001b[1;32mdef\u001b[0m \u001b[0mfind_element\u001b[0m\u001b[1;33m(\u001b[0m\u001b[0mself\u001b[0m\u001b[1;33m,\u001b[0m \u001b[0mby\u001b[0m\u001b[1;33m=\u001b[0m\u001b[0mBy\u001b[0m\u001b[1;33m.\u001b[0m\u001b[0mID\u001b[0m\u001b[1;33m,\u001b[0m \u001b[0mvalue\u001b[0m\u001b[1;33m=\u001b[0m\u001b[1;32mNone\u001b[0m\u001b[1;33m)\u001b[0m \u001b[1;33m->\u001b[0m \u001b[0mWebElement\u001b[0m\u001b[1;33m:\u001b[0m\u001b[1;33m\u001b[0m\u001b[1;33m\u001b[0m\u001b[0m\n",
      "\u001b[1;32m~\\anaconda3\\lib\\site-packages\\selenium\\webdriver\\remote\\webdriver.py\u001b[0m in \u001b[0;36mexecute\u001b[1;34m(self, driver_command, params)\u001b[0m\n\u001b[0;32m    433\u001b[0m         \u001b[0mresponse\u001b[0m \u001b[1;33m=\u001b[0m \u001b[0mself\u001b[0m\u001b[1;33m.\u001b[0m\u001b[0mcommand_executor\u001b[0m\u001b[1;33m.\u001b[0m\u001b[0mexecute\u001b[0m\u001b[1;33m(\u001b[0m\u001b[0mdriver_command\u001b[0m\u001b[1;33m,\u001b[0m \u001b[0mparams\u001b[0m\u001b[1;33m)\u001b[0m\u001b[1;33m\u001b[0m\u001b[1;33m\u001b[0m\u001b[0m\n\u001b[0;32m    434\u001b[0m         \u001b[1;32mif\u001b[0m \u001b[0mresponse\u001b[0m\u001b[1;33m:\u001b[0m\u001b[1;33m\u001b[0m\u001b[1;33m\u001b[0m\u001b[0m\n\u001b[1;32m--> 435\u001b[1;33m             \u001b[0mself\u001b[0m\u001b[1;33m.\u001b[0m\u001b[0merror_handler\u001b[0m\u001b[1;33m.\u001b[0m\u001b[0mcheck_response\u001b[0m\u001b[1;33m(\u001b[0m\u001b[0mresponse\u001b[0m\u001b[1;33m)\u001b[0m\u001b[1;33m\u001b[0m\u001b[1;33m\u001b[0m\u001b[0m\n\u001b[0m\u001b[0;32m    436\u001b[0m             response['value'] = self._unwrap_value(\n\u001b[0;32m    437\u001b[0m                 response.get('value', None))\n",
      "\u001b[1;32m~\\anaconda3\\lib\\site-packages\\selenium\\webdriver\\remote\\errorhandler.py\u001b[0m in \u001b[0;36mcheck_response\u001b[1;34m(self, response)\u001b[0m\n\u001b[0;32m    245\u001b[0m                 \u001b[0malert_text\u001b[0m \u001b[1;33m=\u001b[0m \u001b[0mvalue\u001b[0m\u001b[1;33m[\u001b[0m\u001b[1;34m'alert'\u001b[0m\u001b[1;33m]\u001b[0m\u001b[1;33m.\u001b[0m\u001b[0mget\u001b[0m\u001b[1;33m(\u001b[0m\u001b[1;34m'text'\u001b[0m\u001b[1;33m)\u001b[0m\u001b[1;33m\u001b[0m\u001b[1;33m\u001b[0m\u001b[0m\n\u001b[0;32m    246\u001b[0m             \u001b[1;32mraise\u001b[0m \u001b[0mexception_class\u001b[0m\u001b[1;33m(\u001b[0m\u001b[0mmessage\u001b[0m\u001b[1;33m,\u001b[0m \u001b[0mscreen\u001b[0m\u001b[1;33m,\u001b[0m \u001b[0mstacktrace\u001b[0m\u001b[1;33m,\u001b[0m \u001b[0malert_text\u001b[0m\u001b[1;33m)\u001b[0m  \u001b[1;31m# type: ignore[call-arg]  # mypy is not smart enough here\u001b[0m\u001b[1;33m\u001b[0m\u001b[1;33m\u001b[0m\u001b[0m\n\u001b[1;32m--> 247\u001b[1;33m         \u001b[1;32mraise\u001b[0m \u001b[0mexception_class\u001b[0m\u001b[1;33m(\u001b[0m\u001b[0mmessage\u001b[0m\u001b[1;33m,\u001b[0m \u001b[0mscreen\u001b[0m\u001b[1;33m,\u001b[0m \u001b[0mstacktrace\u001b[0m\u001b[1;33m)\u001b[0m\u001b[1;33m\u001b[0m\u001b[1;33m\u001b[0m\u001b[0m\n\u001b[0m\u001b[0;32m    248\u001b[0m \u001b[1;33m\u001b[0m\u001b[0m\n\u001b[0;32m    249\u001b[0m     \u001b[1;32mdef\u001b[0m \u001b[0m_value_or_default\u001b[0m\u001b[1;33m(\u001b[0m\u001b[0mself\u001b[0m\u001b[1;33m,\u001b[0m \u001b[0mobj\u001b[0m\u001b[1;33m:\u001b[0m \u001b[0mMapping\u001b[0m\u001b[1;33m[\u001b[0m\u001b[0m_KT\u001b[0m\u001b[1;33m,\u001b[0m \u001b[0m_VT\u001b[0m\u001b[1;33m]\u001b[0m\u001b[1;33m,\u001b[0m \u001b[0mkey\u001b[0m\u001b[1;33m:\u001b[0m \u001b[0m_KT\u001b[0m\u001b[1;33m,\u001b[0m \u001b[0mdefault\u001b[0m\u001b[1;33m:\u001b[0m \u001b[0m_VT\u001b[0m\u001b[1;33m)\u001b[0m \u001b[1;33m->\u001b[0m \u001b[0m_VT\u001b[0m\u001b[1;33m:\u001b[0m\u001b[1;33m\u001b[0m\u001b[1;33m\u001b[0m\u001b[0m\n",
      "\u001b[1;31mElementClickInterceptedException\u001b[0m: Message: element click intercepted: Element <div class=\"zgAlFc\">...</div> is not clickable at point (780, 214). Other element would receive the click: <iframe role=\"presentation\" frameborder=\"0\" scrolling=\"no\" name=\"callout\" src=\"https://ogs.google.co.in/widget/callout?prid=19028915&amp;pgid=19027681&amp;puid=3e9e72cbc9a83b93&amp;cce=1&amp;dc=1&amp;origin=https%3A%2F%2Fwww.google.co.in&amp;cn=callout&amp;pid=1&amp;spid=2&amp;hl=en\" style=\"height: 100%; width: 100%;\" data-iml=\"1659788066112\"></iframe>\n  (Session info: chrome=103.0.5060.134)\nStacktrace:\nBacktrace:\n\tOrdinal0 [0x00A36463+2188387]\n\tOrdinal0 [0x009CE461+1762401]\n\tOrdinal0 [0x008E3D78+802168]\n\tOrdinal0 [0x00917F9B+1015707]\n\tOrdinal0 [0x00915F68+1007464]\n\tOrdinal0 [0x00913C6B+998507]\n\tOrdinal0 [0x009129D9+993753]\n\tOrdinal0 [0x00908613+951827]\n\tOrdinal0 [0x0092C7DC+1099740]\n\tOrdinal0 [0x00907FF4+950260]\n\tOrdinal0 [0x0092C9F4+1100276]\n\tOrdinal0 [0x0093CC22+1166370]\n\tOrdinal0 [0x0092C5F6+1099254]\n\tOrdinal0 [0x00906BE0+945120]\n\tOrdinal0 [0x00907AD6+948950]\n\tGetHandleVerifier [0x00CD71F2+2712546]\n\tGetHandleVerifier [0x00CC886D+2652765]\n\tGetHandleVerifier [0x00AC002A+520730]\n\tGetHandleVerifier [0x00ABEE06+516086]\n\tOrdinal0 [0x009D468B+1787531]\n\tOrdinal0 [0x009D8E88+1805960]\n\tOrdinal0 [0x009D8F75+1806197]\n\tOrdinal0 [0x009E1DF1+1842673]\n\tBaseThreadInitThunk [0x75DD6739+25]\n\tRtlGetFullPathName_UEx [0x77808FEF+1215]\n\tRtlGetFullPathName_UEx [0x77808FBD+1165]\n"
     ]
    }
   ],
   "source": [
    "search_btn.click()"
   ]
  },
  {
   "cell_type": "code",
   "execution_count": 120,
   "id": "01947746",
   "metadata": {},
   "outputs": [],
   "source": [
    "import time"
   ]
  },
  {
   "cell_type": "code",
   "execution_count": 97,
   "id": "6c259930",
   "metadata": {},
   "outputs": [],
   "source": [
    "driver.execute_script(\"window.scrollTo(0,document.body.scrollHeight);\")\n",
    "time.sleep(10)"
   ]
  },
  {
   "cell_type": "code",
   "execution_count": 100,
   "id": "0e022a26",
   "metadata": {},
   "outputs": [],
   "source": [
    "imgResults = driver.find_elements(By.XPATH,\"//img[contains(@class,'rg_i Q4LuWd')]\")"
   ]
  },
  {
   "cell_type": "code",
   "execution_count": 122,
   "id": "7b10f639",
   "metadata": {},
   "outputs": [],
   "source": [
    "src = []\n",
    "for img in imgResults:\n",
    "    src.append(img.get_attribute('href'))"
   ]
  },
  {
   "cell_type": "code",
   "execution_count": 123,
   "id": "01371f30",
   "metadata": {},
   "outputs": [],
   "source": [
    "src[1]"
   ]
  },
  {
   "cell_type": "code",
   "execution_count": 124,
   "id": "54c5e390",
   "metadata": {},
   "outputs": [],
   "source": [
    "import urllib"
   ]
  },
  {
   "cell_type": "code",
   "execution_count": 125,
   "id": "ae58b7be",
   "metadata": {},
   "outputs": [
    {
     "ename": "ValueError",
     "evalue": "unknown url type: 'None'",
     "output_type": "error",
     "traceback": [
      "\u001b[1;31m---------------------------------------------------------------------------\u001b[0m",
      "\u001b[1;31mValueError\u001b[0m                                Traceback (most recent call last)",
      "\u001b[1;32m~\\AppData\\Local\\Temp/ipykernel_5588/2361481140.py\u001b[0m in \u001b[0;36m<module>\u001b[1;34m\u001b[0m\n\u001b[0;32m      1\u001b[0m \u001b[1;32mfor\u001b[0m \u001b[0mi\u001b[0m \u001b[1;32min\u001b[0m \u001b[0mrange\u001b[0m\u001b[1;33m(\u001b[0m\u001b[1;36m10\u001b[0m\u001b[1;33m)\u001b[0m\u001b[1;33m:\u001b[0m\u001b[1;33m\u001b[0m\u001b[1;33m\u001b[0m\u001b[0m\n\u001b[1;32m----> 2\u001b[1;33m     \u001b[0murllib\u001b[0m\u001b[1;33m.\u001b[0m\u001b[0mrequest\u001b[0m\u001b[1;33m.\u001b[0m\u001b[0murlretrieve\u001b[0m\u001b[1;33m(\u001b[0m\u001b[0mstr\u001b[0m\u001b[1;33m(\u001b[0m\u001b[0msrc\u001b[0m\u001b[1;33m[\u001b[0m\u001b[0mi\u001b[0m\u001b[1;33m]\u001b[0m\u001b[1;33m)\u001b[0m\u001b[1;33m,\u001b[0m\u001b[1;34m\"fruit\"\u001b[0m\u001b[1;33m.\u001b[0m\u001b[0mformat\u001b[0m\u001b[1;33m(\u001b[0m\u001b[0mi\u001b[0m\u001b[1;33m)\u001b[0m\u001b[1;33m)\u001b[0m\u001b[1;33m\u001b[0m\u001b[1;33m\u001b[0m\u001b[0m\n\u001b[0m",
      "\u001b[1;32m~\\anaconda3\\lib\\urllib\\request.py\u001b[0m in \u001b[0;36murlretrieve\u001b[1;34m(url, filename, reporthook, data)\u001b[0m\n\u001b[0;32m    237\u001b[0m     \u001b[0murl_type\u001b[0m\u001b[1;33m,\u001b[0m \u001b[0mpath\u001b[0m \u001b[1;33m=\u001b[0m \u001b[0m_splittype\u001b[0m\u001b[1;33m(\u001b[0m\u001b[0murl\u001b[0m\u001b[1;33m)\u001b[0m\u001b[1;33m\u001b[0m\u001b[1;33m\u001b[0m\u001b[0m\n\u001b[0;32m    238\u001b[0m \u001b[1;33m\u001b[0m\u001b[0m\n\u001b[1;32m--> 239\u001b[1;33m     \u001b[1;32mwith\u001b[0m \u001b[0mcontextlib\u001b[0m\u001b[1;33m.\u001b[0m\u001b[0mclosing\u001b[0m\u001b[1;33m(\u001b[0m\u001b[0murlopen\u001b[0m\u001b[1;33m(\u001b[0m\u001b[0murl\u001b[0m\u001b[1;33m,\u001b[0m \u001b[0mdata\u001b[0m\u001b[1;33m)\u001b[0m\u001b[1;33m)\u001b[0m \u001b[1;32mas\u001b[0m \u001b[0mfp\u001b[0m\u001b[1;33m:\u001b[0m\u001b[1;33m\u001b[0m\u001b[1;33m\u001b[0m\u001b[0m\n\u001b[0m\u001b[0;32m    240\u001b[0m         \u001b[0mheaders\u001b[0m \u001b[1;33m=\u001b[0m \u001b[0mfp\u001b[0m\u001b[1;33m.\u001b[0m\u001b[0minfo\u001b[0m\u001b[1;33m(\u001b[0m\u001b[1;33m)\u001b[0m\u001b[1;33m\u001b[0m\u001b[1;33m\u001b[0m\u001b[0m\n\u001b[0;32m    241\u001b[0m \u001b[1;33m\u001b[0m\u001b[0m\n",
      "\u001b[1;32m~\\anaconda3\\lib\\urllib\\request.py\u001b[0m in \u001b[0;36murlopen\u001b[1;34m(url, data, timeout, cafile, capath, cadefault, context)\u001b[0m\n\u001b[0;32m    212\u001b[0m     \u001b[1;32melse\u001b[0m\u001b[1;33m:\u001b[0m\u001b[1;33m\u001b[0m\u001b[1;33m\u001b[0m\u001b[0m\n\u001b[0;32m    213\u001b[0m         \u001b[0mopener\u001b[0m \u001b[1;33m=\u001b[0m \u001b[0m_opener\u001b[0m\u001b[1;33m\u001b[0m\u001b[1;33m\u001b[0m\u001b[0m\n\u001b[1;32m--> 214\u001b[1;33m     \u001b[1;32mreturn\u001b[0m \u001b[0mopener\u001b[0m\u001b[1;33m.\u001b[0m\u001b[0mopen\u001b[0m\u001b[1;33m(\u001b[0m\u001b[0murl\u001b[0m\u001b[1;33m,\u001b[0m \u001b[0mdata\u001b[0m\u001b[1;33m,\u001b[0m \u001b[0mtimeout\u001b[0m\u001b[1;33m)\u001b[0m\u001b[1;33m\u001b[0m\u001b[1;33m\u001b[0m\u001b[0m\n\u001b[0m\u001b[0;32m    215\u001b[0m \u001b[1;33m\u001b[0m\u001b[0m\n\u001b[0;32m    216\u001b[0m \u001b[1;32mdef\u001b[0m \u001b[0minstall_opener\u001b[0m\u001b[1;33m(\u001b[0m\u001b[0mopener\u001b[0m\u001b[1;33m)\u001b[0m\u001b[1;33m:\u001b[0m\u001b[1;33m\u001b[0m\u001b[1;33m\u001b[0m\u001b[0m\n",
      "\u001b[1;32m~\\anaconda3\\lib\\urllib\\request.py\u001b[0m in \u001b[0;36mopen\u001b[1;34m(self, fullurl, data, timeout)\u001b[0m\n\u001b[0;32m    499\u001b[0m         \u001b[1;31m# accept a URL or a Request object\u001b[0m\u001b[1;33m\u001b[0m\u001b[1;33m\u001b[0m\u001b[0m\n\u001b[0;32m    500\u001b[0m         \u001b[1;32mif\u001b[0m \u001b[0misinstance\u001b[0m\u001b[1;33m(\u001b[0m\u001b[0mfullurl\u001b[0m\u001b[1;33m,\u001b[0m \u001b[0mstr\u001b[0m\u001b[1;33m)\u001b[0m\u001b[1;33m:\u001b[0m\u001b[1;33m\u001b[0m\u001b[1;33m\u001b[0m\u001b[0m\n\u001b[1;32m--> 501\u001b[1;33m             \u001b[0mreq\u001b[0m \u001b[1;33m=\u001b[0m \u001b[0mRequest\u001b[0m\u001b[1;33m(\u001b[0m\u001b[0mfullurl\u001b[0m\u001b[1;33m,\u001b[0m \u001b[0mdata\u001b[0m\u001b[1;33m)\u001b[0m\u001b[1;33m\u001b[0m\u001b[1;33m\u001b[0m\u001b[0m\n\u001b[0m\u001b[0;32m    502\u001b[0m         \u001b[1;32melse\u001b[0m\u001b[1;33m:\u001b[0m\u001b[1;33m\u001b[0m\u001b[1;33m\u001b[0m\u001b[0m\n\u001b[0;32m    503\u001b[0m             \u001b[0mreq\u001b[0m \u001b[1;33m=\u001b[0m \u001b[0mfullurl\u001b[0m\u001b[1;33m\u001b[0m\u001b[1;33m\u001b[0m\u001b[0m\n",
      "\u001b[1;32m~\\anaconda3\\lib\\urllib\\request.py\u001b[0m in \u001b[0;36m__init__\u001b[1;34m(self, url, data, headers, origin_req_host, unverifiable, method)\u001b[0m\n\u001b[0;32m    318\u001b[0m                  \u001b[0morigin_req_host\u001b[0m\u001b[1;33m=\u001b[0m\u001b[1;32mNone\u001b[0m\u001b[1;33m,\u001b[0m \u001b[0munverifiable\u001b[0m\u001b[1;33m=\u001b[0m\u001b[1;32mFalse\u001b[0m\u001b[1;33m,\u001b[0m\u001b[1;33m\u001b[0m\u001b[1;33m\u001b[0m\u001b[0m\n\u001b[0;32m    319\u001b[0m                  method=None):\n\u001b[1;32m--> 320\u001b[1;33m         \u001b[0mself\u001b[0m\u001b[1;33m.\u001b[0m\u001b[0mfull_url\u001b[0m \u001b[1;33m=\u001b[0m \u001b[0murl\u001b[0m\u001b[1;33m\u001b[0m\u001b[1;33m\u001b[0m\u001b[0m\n\u001b[0m\u001b[0;32m    321\u001b[0m         \u001b[0mself\u001b[0m\u001b[1;33m.\u001b[0m\u001b[0mheaders\u001b[0m \u001b[1;33m=\u001b[0m \u001b[1;33m{\u001b[0m\u001b[1;33m}\u001b[0m\u001b[1;33m\u001b[0m\u001b[1;33m\u001b[0m\u001b[0m\n\u001b[0;32m    322\u001b[0m         \u001b[0mself\u001b[0m\u001b[1;33m.\u001b[0m\u001b[0munredirected_hdrs\u001b[0m \u001b[1;33m=\u001b[0m \u001b[1;33m{\u001b[0m\u001b[1;33m}\u001b[0m\u001b[1;33m\u001b[0m\u001b[1;33m\u001b[0m\u001b[0m\n",
      "\u001b[1;32m~\\anaconda3\\lib\\urllib\\request.py\u001b[0m in \u001b[0;36mfull_url\u001b[1;34m(self, url)\u001b[0m\n\u001b[0;32m    344\u001b[0m         \u001b[0mself\u001b[0m\u001b[1;33m.\u001b[0m\u001b[0m_full_url\u001b[0m \u001b[1;33m=\u001b[0m \u001b[0munwrap\u001b[0m\u001b[1;33m(\u001b[0m\u001b[0murl\u001b[0m\u001b[1;33m)\u001b[0m\u001b[1;33m\u001b[0m\u001b[1;33m\u001b[0m\u001b[0m\n\u001b[0;32m    345\u001b[0m         \u001b[0mself\u001b[0m\u001b[1;33m.\u001b[0m\u001b[0m_full_url\u001b[0m\u001b[1;33m,\u001b[0m \u001b[0mself\u001b[0m\u001b[1;33m.\u001b[0m\u001b[0mfragment\u001b[0m \u001b[1;33m=\u001b[0m \u001b[0m_splittag\u001b[0m\u001b[1;33m(\u001b[0m\u001b[0mself\u001b[0m\u001b[1;33m.\u001b[0m\u001b[0m_full_url\u001b[0m\u001b[1;33m)\u001b[0m\u001b[1;33m\u001b[0m\u001b[1;33m\u001b[0m\u001b[0m\n\u001b[1;32m--> 346\u001b[1;33m         \u001b[0mself\u001b[0m\u001b[1;33m.\u001b[0m\u001b[0m_parse\u001b[0m\u001b[1;33m(\u001b[0m\u001b[1;33m)\u001b[0m\u001b[1;33m\u001b[0m\u001b[1;33m\u001b[0m\u001b[0m\n\u001b[0m\u001b[0;32m    347\u001b[0m \u001b[1;33m\u001b[0m\u001b[0m\n\u001b[0;32m    348\u001b[0m     \u001b[1;33m@\u001b[0m\u001b[0mfull_url\u001b[0m\u001b[1;33m.\u001b[0m\u001b[0mdeleter\u001b[0m\u001b[1;33m\u001b[0m\u001b[1;33m\u001b[0m\u001b[0m\n",
      "\u001b[1;32m~\\anaconda3\\lib\\urllib\\request.py\u001b[0m in \u001b[0;36m_parse\u001b[1;34m(self)\u001b[0m\n\u001b[0;32m    373\u001b[0m         \u001b[0mself\u001b[0m\u001b[1;33m.\u001b[0m\u001b[0mtype\u001b[0m\u001b[1;33m,\u001b[0m \u001b[0mrest\u001b[0m \u001b[1;33m=\u001b[0m \u001b[0m_splittype\u001b[0m\u001b[1;33m(\u001b[0m\u001b[0mself\u001b[0m\u001b[1;33m.\u001b[0m\u001b[0m_full_url\u001b[0m\u001b[1;33m)\u001b[0m\u001b[1;33m\u001b[0m\u001b[1;33m\u001b[0m\u001b[0m\n\u001b[0;32m    374\u001b[0m         \u001b[1;32mif\u001b[0m \u001b[0mself\u001b[0m\u001b[1;33m.\u001b[0m\u001b[0mtype\u001b[0m \u001b[1;32mis\u001b[0m \u001b[1;32mNone\u001b[0m\u001b[1;33m:\u001b[0m\u001b[1;33m\u001b[0m\u001b[1;33m\u001b[0m\u001b[0m\n\u001b[1;32m--> 375\u001b[1;33m             \u001b[1;32mraise\u001b[0m \u001b[0mValueError\u001b[0m\u001b[1;33m(\u001b[0m\u001b[1;34m\"unknown url type: %r\"\u001b[0m \u001b[1;33m%\u001b[0m \u001b[0mself\u001b[0m\u001b[1;33m.\u001b[0m\u001b[0mfull_url\u001b[0m\u001b[1;33m)\u001b[0m\u001b[1;33m\u001b[0m\u001b[1;33m\u001b[0m\u001b[0m\n\u001b[0m\u001b[0;32m    376\u001b[0m         \u001b[0mself\u001b[0m\u001b[1;33m.\u001b[0m\u001b[0mhost\u001b[0m\u001b[1;33m,\u001b[0m \u001b[0mself\u001b[0m\u001b[1;33m.\u001b[0m\u001b[0mselector\u001b[0m \u001b[1;33m=\u001b[0m \u001b[0m_splithost\u001b[0m\u001b[1;33m(\u001b[0m\u001b[0mrest\u001b[0m\u001b[1;33m)\u001b[0m\u001b[1;33m\u001b[0m\u001b[1;33m\u001b[0m\u001b[0m\n\u001b[0;32m    377\u001b[0m         \u001b[1;32mif\u001b[0m \u001b[0mself\u001b[0m\u001b[1;33m.\u001b[0m\u001b[0mhost\u001b[0m\u001b[1;33m:\u001b[0m\u001b[1;33m\u001b[0m\u001b[1;33m\u001b[0m\u001b[0m\n",
      "\u001b[1;31mValueError\u001b[0m: unknown url type: 'None'"
     ]
    }
   ],
   "source": [
    "for i in range(10):\n",
    "    urllib.request.urlretrieve(str(src[i]),\"fruit\".format(i))"
   ]
  },
  {
   "cell_type": "code",
   "execution_count": null,
   "id": "97fe0d55",
   "metadata": {},
   "outputs": [],
   "source": []
  },
  {
   "cell_type": "code",
   "execution_count": null,
   "id": "b512f284",
   "metadata": {},
   "outputs": [],
   "source": []
  },
  {
   "cell_type": "code",
   "execution_count": null,
   "id": "1814d1c2",
   "metadata": {},
   "outputs": [],
   "source": []
  },
  {
   "cell_type": "markdown",
   "id": "b6847c97",
   "metadata": {},
   "source": [
    "# flipkart data"
   ]
  },
  {
   "cell_type": "code",
   "execution_count": 13,
   "id": "d3936c5d",
   "metadata": {},
   "outputs": [],
   "source": [
    "import selenium\n",
    "from selenium import webdriver\n",
    "import pandas as pd\n",
    "import warnings\n",
    "warnings.filterwarnings(\"ignore\")"
   ]
  },
  {
   "cell_type": "code",
   "execution_count": 14,
   "id": "ff321e26",
   "metadata": {},
   "outputs": [],
   "source": [
    "driver=webdriver.Chrome(r'D:\\flip robo\\chromedriver_win32\\chromedriver.exe')"
   ]
  },
  {
   "cell_type": "code",
   "execution_count": 15,
   "id": "7f60b8e7",
   "metadata": {},
   "outputs": [],
   "source": [
    "url=\"https://www.flipkart.com/\"\n",
    "driver.get(url)"
   ]
  },
  {
   "cell_type": "code",
   "execution_count": 16,
   "id": "927d7716",
   "metadata": {},
   "outputs": [],
   "source": [
    "from selenium.webdriver.common.by import By"
   ]
  },
  {
   "cell_type": "code",
   "execution_count": 17,
   "id": "333d491b",
   "metadata": {},
   "outputs": [
    {
     "data": {
      "text/plain": [
       "<selenium.webdriver.remote.webelement.WebElement (session=\"6bb35ff72a1be451c6b4594440bc97b6\", element=\"38dd89ba-6286-4da2-aef5-96af7f2d1554\")>"
      ]
     },
     "execution_count": 17,
     "metadata": {},
     "output_type": "execute_result"
    }
   ],
   "source": [
    "search_product= driver.find_element(By.CLASS_NAME,\"_3704LK\")\n",
    "search_product"
   ]
  },
  {
   "cell_type": "code",
   "execution_count": 18,
   "id": "ca870086",
   "metadata": {},
   "outputs": [],
   "source": [
    "search_product.send_keys(\"Vivo v23 pro\")"
   ]
  },
  {
   "cell_type": "code",
   "execution_count": 21,
   "id": "2d56cef7",
   "metadata": {},
   "outputs": [
    {
     "data": {
      "text/plain": [
       "<selenium.webdriver.remote.webelement.WebElement (session=\"6bb35ff72a1be451c6b4594440bc97b6\", element=\"c5344b7e-b5aa-4520-b03f-5d5b23d26caa\")>"
      ]
     },
     "execution_count": 21,
     "metadata": {},
     "output_type": "execute_result"
    }
   ],
   "source": [
    "search_btn=driver.find_element(By.XPATH,'/html/body/div[1]/div/div[1]/div[1]/div[2]/div[2]/form/div/button')\n",
    "search_btn"
   ]
  },
  {
   "cell_type": "code",
   "execution_count": 22,
   "id": "787ae390",
   "metadata": {},
   "outputs": [],
   "source": [
    "search_btn.click()"
   ]
  },
  {
   "cell_type": "code",
   "execution_count": null,
   "id": "511de9f0",
   "metadata": {},
   "outputs": [],
   "source": [
    "first_product=driver.find_element(By.XPATH,'/html/body/div[1]/div/div[3]/div[1]/div[2]/div[2]/div/div/div/a/div[1]/div[1]/div/div/img')\n",
    "first_product"
   ]
  },
  {
   "cell_type": "code",
   "execution_count": null,
   "id": "6be27019",
   "metadata": {},
   "outputs": [],
   "source": [
    "first_product.click()"
   ]
  },
  {
   "cell_type": "code",
   "execution_count": 24,
   "id": "e2eab58a",
   "metadata": {},
   "outputs": [],
   "source": [
    "brand_name=driver.find_elements(By.XPATH,'//div[@class=\"_4rR01T\"]')"
   ]
  },
  {
   "cell_type": "code",
   "execution_count": 30,
   "id": "ee0a7d2c",
   "metadata": {},
   "outputs": [],
   "source": [
    "brand=[]\n",
    "for i in brand_name:\n",
    "    brand.append(i.text.split('(')[0])"
   ]
  },
  {
   "cell_type": "code",
   "execution_count": 31,
   "id": "e29e0246",
   "metadata": {},
   "outputs": [
    {
     "data": {
      "text/plain": [
       "['vivo Z1Pro ',\n",
       " 'vivo Z1Pro ',\n",
       " 'vivo Z1Pro ',\n",
       " 'vivo Z1Pro ',\n",
       " 'vivo V23 Pro 5G ']"
      ]
     },
     "execution_count": 31,
     "metadata": {},
     "output_type": "execute_result"
    }
   ],
   "source": [
    "brand[:5]"
   ]
  },
  {
   "cell_type": "code",
   "execution_count": 32,
   "id": "3be5e9d3",
   "metadata": {},
   "outputs": [],
   "source": [
    "color=[]\n",
    "for i in brand_name:\n",
    "    color.append(i.text.split('(')[1])\n",
    "    "
   ]
  },
  {
   "cell_type": "code",
   "execution_count": 33,
   "id": "e5ae28bb",
   "metadata": {},
   "outputs": [
    {
     "data": {
      "text/plain": [
       "['Mirror Black, 64 GB)',\n",
       " 'Sonic Black, 64 GB)',\n",
       " 'Sonic Blue, 64 GB)',\n",
       " 'Sonic Blue, 64 GB)',\n",
       " 'Stardust Black, 128 GB)']"
      ]
     },
     "execution_count": 33,
     "metadata": {},
     "output_type": "execute_result"
    }
   ],
   "source": [
    "color[:5]"
   ]
  },
  {
   "cell_type": "code",
   "execution_count": 73,
   "id": "abf60bef",
   "metadata": {},
   "outputs": [
    {
     "data": {
      "text/plain": [
       "[<selenium.webdriver.remote.webelement.WebElement (session=\"6bb35ff72a1be451c6b4594440bc97b6\", element=\"1e54e6bd-99fe-47fd-a4c6-9c8b50a17e56\")>,\n",
       " <selenium.webdriver.remote.webelement.WebElement (session=\"6bb35ff72a1be451c6b4594440bc97b6\", element=\"b0f49810-7ebb-43ec-83a1-ec8f9fe8ab76\")>,\n",
       " <selenium.webdriver.remote.webelement.WebElement (session=\"6bb35ff72a1be451c6b4594440bc97b6\", element=\"7e953df1-a841-4987-ae47-b8110a75017c\")>,\n",
       " <selenium.webdriver.remote.webelement.WebElement (session=\"6bb35ff72a1be451c6b4594440bc97b6\", element=\"a8654fdb-069e-47b8-bf61-dc133e807e04\")>,\n",
       " <selenium.webdriver.remote.webelement.WebElement (session=\"6bb35ff72a1be451c6b4594440bc97b6\", element=\"c350b4c4-dcff-44f8-a676-104e9676e792\")>,\n",
       " <selenium.webdriver.remote.webelement.WebElement (session=\"6bb35ff72a1be451c6b4594440bc97b6\", element=\"687916f6-e588-4508-96e8-fc81f7d3427a\")>,\n",
       " <selenium.webdriver.remote.webelement.WebElement (session=\"6bb35ff72a1be451c6b4594440bc97b6\", element=\"a8e9cd2d-88a6-49e4-8d60-6bac2210b533\")>,\n",
       " <selenium.webdriver.remote.webelement.WebElement (session=\"6bb35ff72a1be451c6b4594440bc97b6\", element=\"d22319b0-419b-4c45-9d54-ddc6c1c85bfe\")>,\n",
       " <selenium.webdriver.remote.webelement.WebElement (session=\"6bb35ff72a1be451c6b4594440bc97b6\", element=\"b2ed3dd4-e12b-4346-8fc1-d571c614ec8e\")>,\n",
       " <selenium.webdriver.remote.webelement.WebElement (session=\"6bb35ff72a1be451c6b4594440bc97b6\", element=\"7459102d-36d2-42f3-9899-8535a818a39f\")>,\n",
       " <selenium.webdriver.remote.webelement.WebElement (session=\"6bb35ff72a1be451c6b4594440bc97b6\", element=\"80ee1026-5df4-4989-b740-adb1537272be\")>,\n",
       " <selenium.webdriver.remote.webelement.WebElement (session=\"6bb35ff72a1be451c6b4594440bc97b6\", element=\"e6be25eb-edab-4df5-a064-ed495f3a12da\")>,\n",
       " <selenium.webdriver.remote.webelement.WebElement (session=\"6bb35ff72a1be451c6b4594440bc97b6\", element=\"2455e4ef-cacb-44de-8d37-a8657f40c3b8\")>,\n",
       " <selenium.webdriver.remote.webelement.WebElement (session=\"6bb35ff72a1be451c6b4594440bc97b6\", element=\"7ab188b5-bf79-4beb-9226-8e1f3e4e92e2\")>,\n",
       " <selenium.webdriver.remote.webelement.WebElement (session=\"6bb35ff72a1be451c6b4594440bc97b6\", element=\"c6cf51c3-ddce-4db4-8171-3e9ae32bc5a6\")>,\n",
       " <selenium.webdriver.remote.webelement.WebElement (session=\"6bb35ff72a1be451c6b4594440bc97b6\", element=\"78423213-f9ad-435f-ae28-0d00be1d0a9e\")>,\n",
       " <selenium.webdriver.remote.webelement.WebElement (session=\"6bb35ff72a1be451c6b4594440bc97b6\", element=\"882528f8-db8a-49f3-84e8-aa151c7c2381\")>,\n",
       " <selenium.webdriver.remote.webelement.WebElement (session=\"6bb35ff72a1be451c6b4594440bc97b6\", element=\"c3fb965d-c815-4021-954b-3f0273ebb305\")>,\n",
       " <selenium.webdriver.remote.webelement.WebElement (session=\"6bb35ff72a1be451c6b4594440bc97b6\", element=\"51218a2f-3cd7-4e19-8be3-2e10759aba7b\")>,\n",
       " <selenium.webdriver.remote.webelement.WebElement (session=\"6bb35ff72a1be451c6b4594440bc97b6\", element=\"ccc80158-e710-438e-abb8-bda67af3d675\")>,\n",
       " <selenium.webdriver.remote.webelement.WebElement (session=\"6bb35ff72a1be451c6b4594440bc97b6\", element=\"433fdd83-d024-4bac-8068-3391fd21b8f2\")>,\n",
       " <selenium.webdriver.remote.webelement.WebElement (session=\"6bb35ff72a1be451c6b4594440bc97b6\", element=\"42c543df-cf40-4689-974f-39eddcf61b2a\")>,\n",
       " <selenium.webdriver.remote.webelement.WebElement (session=\"6bb35ff72a1be451c6b4594440bc97b6\", element=\"638ad88a-6578-44ee-b770-0c4fdfe312bc\")>,\n",
       " <selenium.webdriver.remote.webelement.WebElement (session=\"6bb35ff72a1be451c6b4594440bc97b6\", element=\"ef3b65c0-3148-461d-8dcd-66a27e28d443\")>,\n",
       " <selenium.webdriver.remote.webelement.WebElement (session=\"6bb35ff72a1be451c6b4594440bc97b6\", element=\"a47d0fb1-d45e-44c4-9f47-8904aba87a76\")>,\n",
       " <selenium.webdriver.remote.webelement.WebElement (session=\"6bb35ff72a1be451c6b4594440bc97b6\", element=\"05768cf5-3edc-49a3-a7c5-54a03d3e1bea\")>,\n",
       " <selenium.webdriver.remote.webelement.WebElement (session=\"6bb35ff72a1be451c6b4594440bc97b6\", element=\"b8a29ead-2791-4d4a-ba99-c17f848e7d34\")>,\n",
       " <selenium.webdriver.remote.webelement.WebElement (session=\"6bb35ff72a1be451c6b4594440bc97b6\", element=\"6031486b-b2d7-44b9-b1f0-d9b8bc970dea\")>,\n",
       " <selenium.webdriver.remote.webelement.WebElement (session=\"6bb35ff72a1be451c6b4594440bc97b6\", element=\"63f82467-4efc-4dd3-9390-bb09f9bd2f5c\")>,\n",
       " <selenium.webdriver.remote.webelement.WebElement (session=\"6bb35ff72a1be451c6b4594440bc97b6\", element=\"d41345c0-63b0-4702-8bc9-c66ba53c5937\")>,\n",
       " <selenium.webdriver.remote.webelement.WebElement (session=\"6bb35ff72a1be451c6b4594440bc97b6\", element=\"c9625924-0145-4c8f-9553-a4a6a437c724\")>,\n",
       " <selenium.webdriver.remote.webelement.WebElement (session=\"6bb35ff72a1be451c6b4594440bc97b6\", element=\"e113ec26-cab5-41b4-a237-d4860f40ec81\")>,\n",
       " <selenium.webdriver.remote.webelement.WebElement (session=\"6bb35ff72a1be451c6b4594440bc97b6\", element=\"07b0b60f-a797-457a-ac4e-1f64b464f32a\")>,\n",
       " <selenium.webdriver.remote.webelement.WebElement (session=\"6bb35ff72a1be451c6b4594440bc97b6\", element=\"6a25f6bd-127d-4efc-835f-f0ea8203e8ed\")>,\n",
       " <selenium.webdriver.remote.webelement.WebElement (session=\"6bb35ff72a1be451c6b4594440bc97b6\", element=\"b7457ee7-c17b-40ab-8bb6-e55209d23b3e\")>,\n",
       " <selenium.webdriver.remote.webelement.WebElement (session=\"6bb35ff72a1be451c6b4594440bc97b6\", element=\"f1c51bc4-5838-45ae-937d-5fe710ad3413\")>,\n",
       " <selenium.webdriver.remote.webelement.WebElement (session=\"6bb35ff72a1be451c6b4594440bc97b6\", element=\"7b07cb54-0251-46ca-a807-044b0a16fa93\")>,\n",
       " <selenium.webdriver.remote.webelement.WebElement (session=\"6bb35ff72a1be451c6b4594440bc97b6\", element=\"f922872a-bbe5-4e0e-bb24-91c4efb18095\")>,\n",
       " <selenium.webdriver.remote.webelement.WebElement (session=\"6bb35ff72a1be451c6b4594440bc97b6\", element=\"4f8c83a8-2e1d-41e2-977c-9cb79cf1ee2b\")>,\n",
       " <selenium.webdriver.remote.webelement.WebElement (session=\"6bb35ff72a1be451c6b4594440bc97b6\", element=\"a44c9d5c-bc06-4873-89de-9daedf646546\")>,\n",
       " <selenium.webdriver.remote.webelement.WebElement (session=\"6bb35ff72a1be451c6b4594440bc97b6\", element=\"b36d1e5a-ced0-434f-90e3-215157eb4f48\")>,\n",
       " <selenium.webdriver.remote.webelement.WebElement (session=\"6bb35ff72a1be451c6b4594440bc97b6\", element=\"af806a2a-9936-43bc-9a18-50b7e994a51e\")>,\n",
       " <selenium.webdriver.remote.webelement.WebElement (session=\"6bb35ff72a1be451c6b4594440bc97b6\", element=\"3de69f3b-eb40-49b6-b802-4d6ab74802aa\")>,\n",
       " <selenium.webdriver.remote.webelement.WebElement (session=\"6bb35ff72a1be451c6b4594440bc97b6\", element=\"6e3bea57-9def-45ce-ac1c-a68626f7a877\")>,\n",
       " <selenium.webdriver.remote.webelement.WebElement (session=\"6bb35ff72a1be451c6b4594440bc97b6\", element=\"2265bb14-953f-46f6-876b-48d8f835a9c7\")>,\n",
       " <selenium.webdriver.remote.webelement.WebElement (session=\"6bb35ff72a1be451c6b4594440bc97b6\", element=\"2b6c8f57-4005-4b21-92ec-c77c36e2bb99\")>,\n",
       " <selenium.webdriver.remote.webelement.WebElement (session=\"6bb35ff72a1be451c6b4594440bc97b6\", element=\"c6aceb61-ff5c-4cc4-a59e-388f8b11bb6f\")>,\n",
       " <selenium.webdriver.remote.webelement.WebElement (session=\"6bb35ff72a1be451c6b4594440bc97b6\", element=\"3c969fd4-c21c-4865-94a2-4fd2120abda8\")>,\n",
       " <selenium.webdriver.remote.webelement.WebElement (session=\"6bb35ff72a1be451c6b4594440bc97b6\", element=\"b1943ff6-52b9-4c9a-a828-2189b2904969\")>,\n",
       " <selenium.webdriver.remote.webelement.WebElement (session=\"6bb35ff72a1be451c6b4594440bc97b6\", element=\"bc9b1b73-ae86-48cb-8eb5-ca5fadef2685\")>,\n",
       " <selenium.webdriver.remote.webelement.WebElement (session=\"6bb35ff72a1be451c6b4594440bc97b6\", element=\"f2550aff-8c09-4976-9ad3-956a2f5ac93e\")>,\n",
       " <selenium.webdriver.remote.webelement.WebElement (session=\"6bb35ff72a1be451c6b4594440bc97b6\", element=\"5e790430-022e-48ca-aa7b-39c510e9719e\")>,\n",
       " <selenium.webdriver.remote.webelement.WebElement (session=\"6bb35ff72a1be451c6b4594440bc97b6\", element=\"458ec841-0d85-4aa7-8617-efa814e206bb\")>,\n",
       " <selenium.webdriver.remote.webelement.WebElement (session=\"6bb35ff72a1be451c6b4594440bc97b6\", element=\"9a38ba5a-aa3a-4ebf-a35f-d84dee381e1e\")>,\n",
       " <selenium.webdriver.remote.webelement.WebElement (session=\"6bb35ff72a1be451c6b4594440bc97b6\", element=\"4208a631-6dd6-41db-866b-4d22b0c1e6f9\")>,\n",
       " <selenium.webdriver.remote.webelement.WebElement (session=\"6bb35ff72a1be451c6b4594440bc97b6\", element=\"031dd2a8-363c-4a21-8fcb-7e7db3748fbc\")>,\n",
       " <selenium.webdriver.remote.webelement.WebElement (session=\"6bb35ff72a1be451c6b4594440bc97b6\", element=\"b6d2fc0e-2d48-4962-a3f0-0db6749e0692\")>,\n",
       " <selenium.webdriver.remote.webelement.WebElement (session=\"6bb35ff72a1be451c6b4594440bc97b6\", element=\"8ef44050-31c0-427e-88dc-c1a4e6ee383a\")>,\n",
       " <selenium.webdriver.remote.webelement.WebElement (session=\"6bb35ff72a1be451c6b4594440bc97b6\", element=\"323d5b94-4f74-4835-99d1-5b7f62478f5c\")>,\n",
       " <selenium.webdriver.remote.webelement.WebElement (session=\"6bb35ff72a1be451c6b4594440bc97b6\", element=\"9eb05185-de1a-4edd-94c3-7af19dce0524\")>,\n",
       " <selenium.webdriver.remote.webelement.WebElement (session=\"6bb35ff72a1be451c6b4594440bc97b6\", element=\"1bfada54-7e28-43cc-baaa-b99f6208db17\")>,\n",
       " <selenium.webdriver.remote.webelement.WebElement (session=\"6bb35ff72a1be451c6b4594440bc97b6\", element=\"98d80e11-6f24-4d30-ab56-1d6a4dfc7427\")>,\n",
       " <selenium.webdriver.remote.webelement.WebElement (session=\"6bb35ff72a1be451c6b4594440bc97b6\", element=\"20d707c4-f3dd-468b-bda6-ffd984516bb0\")>,\n",
       " <selenium.webdriver.remote.webelement.WebElement (session=\"6bb35ff72a1be451c6b4594440bc97b6\", element=\"b6908f8c-c61e-4c29-8b86-a3d14b4ea081\")>,\n",
       " <selenium.webdriver.remote.webelement.WebElement (session=\"6bb35ff72a1be451c6b4594440bc97b6\", element=\"5d28e58e-e61f-465d-aaf8-3c6afbc835c3\")>,\n",
       " <selenium.webdriver.remote.webelement.WebElement (session=\"6bb35ff72a1be451c6b4594440bc97b6\", element=\"0f297fc6-1880-4c28-a61a-72fb1e6ba438\")>,\n",
       " <selenium.webdriver.remote.webelement.WebElement (session=\"6bb35ff72a1be451c6b4594440bc97b6\", element=\"e26a9d31-a75c-4a31-ade4-531b49ea803c\")>,\n",
       " <selenium.webdriver.remote.webelement.WebElement (session=\"6bb35ff72a1be451c6b4594440bc97b6\", element=\"641d8ebf-5dda-4e67-9578-9a40139c17ca\")>,\n",
       " <selenium.webdriver.remote.webelement.WebElement (session=\"6bb35ff72a1be451c6b4594440bc97b6\", element=\"5e96112c-3831-42b0-b6eb-33947701b128\")>,\n",
       " <selenium.webdriver.remote.webelement.WebElement (session=\"6bb35ff72a1be451c6b4594440bc97b6\", element=\"a0101558-0eb9-4c73-aa94-1c13ec53edf2\")>,\n",
       " <selenium.webdriver.remote.webelement.WebElement (session=\"6bb35ff72a1be451c6b4594440bc97b6\", element=\"33a7a438-5df8-4849-91f0-76280ee7d2fc\")>,\n",
       " <selenium.webdriver.remote.webelement.WebElement (session=\"6bb35ff72a1be451c6b4594440bc97b6\", element=\"b0b28bce-ff04-4bb1-97ee-70fb48590fa4\")>,\n",
       " <selenium.webdriver.remote.webelement.WebElement (session=\"6bb35ff72a1be451c6b4594440bc97b6\", element=\"2401fa62-5610-4927-bed1-83a04fb8c8f0\")>,\n",
       " <selenium.webdriver.remote.webelement.WebElement (session=\"6bb35ff72a1be451c6b4594440bc97b6\", element=\"9d5158dc-52e3-4ced-95c8-7262447f9def\")>,\n",
       " <selenium.webdriver.remote.webelement.WebElement (session=\"6bb35ff72a1be451c6b4594440bc97b6\", element=\"fab15449-24f5-4573-bff5-eafa0a2d7a0e\")>,\n",
       " <selenium.webdriver.remote.webelement.WebElement (session=\"6bb35ff72a1be451c6b4594440bc97b6\", element=\"78267845-1ed3-42cf-9e2e-80c3f239c74e\")>,\n",
       " <selenium.webdriver.remote.webelement.WebElement (session=\"6bb35ff72a1be451c6b4594440bc97b6\", element=\"f0b3c9b3-0870-43ca-81ac-b1da50a836ff\")>,\n",
       " <selenium.webdriver.remote.webelement.WebElement (session=\"6bb35ff72a1be451c6b4594440bc97b6\", element=\"8e771984-1cde-4427-82c6-1379ac5005a7\")>,\n",
       " <selenium.webdriver.remote.webelement.WebElement (session=\"6bb35ff72a1be451c6b4594440bc97b6\", element=\"c0e938e7-d907-449d-8e8f-7ee3550f18f5\")>,\n",
       " <selenium.webdriver.remote.webelement.WebElement (session=\"6bb35ff72a1be451c6b4594440bc97b6\", element=\"f0460f44-c918-48a6-a8df-dd86e58b9ac6\")>]"
      ]
     },
     "execution_count": 73,
     "metadata": {},
     "output_type": "execute_result"
    }
   ],
   "source": [
    "ram_tag=driver.find_elements(By.XPATH,'//li[@class=\"rgWa7D\"]')\n",
    "#ram_tag=driver.find_elements(By.XPATH,'/html/body/div/div/div[3]/div[1]/div[2]/div[2]/div/div/div/a/div[2]/div[1]/div[3]/ul')\n",
    "ram_tag"
   ]
  },
  {
   "cell_type": "code",
   "execution_count": 112,
   "id": "54be4d20",
   "metadata": {},
   "outputs": [],
   "source": [
    "ram=[]\n",
    "for i in ram_tag:\n",
    "    ram.append(i.text)\n",
    "    "
   ]
  },
  {
   "cell_type": "code",
   "execution_count": 85,
   "id": "584936ff",
   "metadata": {},
   "outputs": [
    {
     "data": {
      "text/plain": [
       "['4 GB RAM | 64 GB ROM | Expandable Upto 256 GB',\n",
       " '16.59 cm (6.53 inch) Full HD+ Display',\n",
       " '16MP + 2MP + 8MP | 32MP Front Camera',\n",
       " '5000 mAh Battery',\n",
       " 'Qualcomm Snapdragon 712 AIE Octa Core 2.3GHz Processor',\n",
       " 'Fast Charging',\n",
       " 'Triple Card Slot',\n",
       " 'Brand Warranty of 1 Year Available for Mobile and 6 Months for Accessories',\n",
       " '4 GB RAM | 64 GB ROM | Expandable Upto 256 GB',\n",
       " '16.59 cm (6.53 inch) Full HD+ Display',\n",
       " '16MP + 2MP + 8MP | 32MP Front Camera',\n",
       " '5000 mAh Battery',\n",
       " 'Qualcomm Snapdragon 712 AIE Octa Core 2.3GHz Processor',\n",
       " 'Fast Charging',\n",
       " 'Triple Card Slot',\n",
       " 'Brand Warranty of 1 Year Available for Mobile and 6 Months for Accessories',\n",
       " '4 GB RAM | 64 GB ROM | Expandable Upto 256 GB',\n",
       " '16.59 cm (6.53 inch) Full HD+ Display',\n",
       " '16MP + 2MP + 8MP | 32MP Front Camera',\n",
       " '5000 mAh Battery',\n",
       " 'Qualcomm Snapdragon 712 AIE Octa Core 2.3GHz Processor',\n",
       " 'Fast Charging',\n",
       " 'Triple Card Slot',\n",
       " 'Brand Warranty of 1 Year Available for Mobile and 6 Months for Accessories',\n",
       " '6 GB RAM | 64 GB ROM | Expandable Upto 256 GB',\n",
       " '16.59 cm (6.53 inch) Full HD+ Display',\n",
       " '16MP + 2MP + 8MP | 32MP Front Camera',\n",
       " '5000 mAh Battery',\n",
       " 'Qualcomm Snapdragon 712 AIE Octa Core 2.3GHz Processor',\n",
       " 'Fast Charging',\n",
       " 'Triple Card Slot',\n",
       " 'Brand Warranty of 1 Year Available for Mobile and 6 Months for Accessories',\n",
       " '8 GB RAM | 128 GB ROM | Expandable Upto 12 GB',\n",
       " '16.66 cm (6.56 inch) Full HD+ Display',\n",
       " '108MP + 8MP + 2MP | 50MP + 8MP Dual Front Camera',\n",
       " '4300 mAh Lithium Battery',\n",
       " 'Mediatek Dimensity 1200 Processor',\n",
       " '1 Year Manufacturer Warranty for Phone and 6 Months Warranty for In the Box Accessories',\n",
       " '12 GB RAM | 256 GB ROM',\n",
       " '16.66 cm (6.56 inch) Full HD+ Display',\n",
       " '108MP + 8MP + 2MP | 50MP + 8MP Dual Front Camera',\n",
       " '4300 mAh Lithium Battery',\n",
       " 'Mediatek Dimensity 1200 Processor',\n",
       " '1 Year Manufacturer Warranty for Phone and 6 Months Warranty for In the Box Accessories',\n",
       " '12 GB RAM | 256 GB ROM',\n",
       " '16.66 cm (6.56 inch) Full HD+ Display',\n",
       " '108MP + 8MP + 2MP | 50MP + 8MP Dual Front Camera',\n",
       " '4300 mAh Lithium Battery',\n",
       " 'Mediatek Dimensity 1200 Processor',\n",
       " '1 Year Manufacturer Warranty for Phone and 6 Months Warranty for In the Box Accessories',\n",
       " '8 GB RAM | 128 GB ROM',\n",
       " '16.66 cm (6.56 inch) Full HD+ Display',\n",
       " '108MP + 8MP + 2MP | 50MP + 8MP Dual Front Camera',\n",
       " '4300 mAh Lithium Battery',\n",
       " 'Mediatek Dimensity 1200 Processor',\n",
       " '1 Year Manufacturer Warranty for Phone and 6 Months Warranty for In the Box Accessories',\n",
       " '6 GB RAM | 128 GB ROM | Expandable Upto 256 GB',\n",
       " '16.59 cm (6.53 inch) Full HD+ Display',\n",
       " '16MP + 2MP + 8MP | 32MP Front Camera',\n",
       " '5000 mAh Battery',\n",
       " 'Qualcomm Snapdragon 712 AIE Octa Core 2.3GHz Processor',\n",
       " 'Fast Charging',\n",
       " 'Triple Card Slot',\n",
       " 'Brand Warranty of 1 Year Available for Mobile and 6 Months for Accessories',\n",
       " '6 GB RAM | 128 GB ROM | Expandable Upto 256 GB',\n",
       " '16.59 cm (6.53 inch) Full HD+ Display',\n",
       " '16MP + 2MP + 8MP | 32MP Front Camera',\n",
       " '5000 mAh Battery',\n",
       " 'Qualcomm Snapdragon 712 AIE Octa Core 2.3GHz Processor',\n",
       " 'Fast Charging',\n",
       " 'Triple Card Slot',\n",
       " 'Brand Warranty of 1 Year Available for Mobile and 6 Months for Accessories',\n",
       " '6 GB RAM | 64 GB ROM | Expandable Upto 256 GB',\n",
       " '16.59 cm (6.53 inch) Full HD+ Display',\n",
       " '16MP + 2MP + 8MP | 32MP Front Camera',\n",
       " '5000 mAh Battery',\n",
       " 'Qualcomm Snapdragon 712 AIE Octa Core 2.3GHz Processor',\n",
       " 'Fast Charging',\n",
       " 'Triple Card Slot',\n",
       " 'Brand Warranty of 1 Year Available for Mobile and 6 Months for Accessories']"
      ]
     },
     "execution_count": 85,
     "metadata": {},
     "output_type": "execute_result"
    }
   ],
   "source": [
    "ram"
   ]
  },
  {
   "cell_type": "code",
   "execution_count": 92,
   "id": "409be5f8",
   "metadata": {},
   "outputs": [],
   "source": []
  },
  {
   "cell_type": "code",
   "execution_count": null,
   "id": "7128186e",
   "metadata": {},
   "outputs": [],
   "source": []
  },
  {
   "cell_type": "markdown",
   "id": "fe07cdda",
   "metadata": {},
   "source": [
    "# TRAK.IN"
   ]
  },
  {
   "cell_type": "code",
   "execution_count": 114,
   "id": "3f50dea9",
   "metadata": {},
   "outputs": [],
   "source": [
    "import selenium\n",
    "from selenium import webdriver\n",
    "import pandas as pd\n",
    "import warnings\n",
    "warnings.filterwarnings(\"ignore\")\n",
    "from selenium.webdriver.support.ui import WebDriverWait\n",
    "from selenium.webdriver.support import expected_conditions as EC\n",
    "import time"
   ]
  },
  {
   "cell_type": "code",
   "execution_count": 115,
   "id": "7328e7c7",
   "metadata": {},
   "outputs": [],
   "source": [
    "driver=webdriver.Chrome('chromedriver.exe')"
   ]
  },
  {
   "cell_type": "code",
   "execution_count": 116,
   "id": "63c086af",
   "metadata": {},
   "outputs": [],
   "source": [
    "url=\"https://trak.in/india-startup-funding-investment-2015/\"\n",
    "driver.get(url)"
   ]
  },
  {
   "cell_type": "code",
   "execution_count": 117,
   "id": "551c6ff2",
   "metadata": {},
   "outputs": [],
   "source": [
    "from selenium.webdriver.common.by import By"
   ]
  },
  {
   "cell_type": "code",
   "execution_count": 163,
   "id": "70275c17",
   "metadata": {},
   "outputs": [
    {
     "data": {
      "text/plain": [
       "<selenium.webdriver.remote.webelement.WebElement (session=\"ca085a0b5e37d75a2c2df94ee541528d\", element=\"89e63c3b-fa40-4c76-8007-d39307a2a7e1\")>"
      ]
     },
     "execution_count": 163,
     "metadata": {},
     "output_type": "execute_result"
    }
   ],
   "source": [
    "heading_tag=driver.find_element(By.CLASS_NAME,\"dataTables_scrollHead\")\n",
    "heading_tag"
   ]
  },
  {
   "cell_type": "code",
   "execution_count": 164,
   "id": "ae53768d",
   "metadata": {},
   "outputs": [],
   "source": [
    "heading=[]\n",
    "\n",
    "heading.append(heading_tag.text)"
   ]
  },
  {
   "cell_type": "code",
   "execution_count": 165,
   "id": "48f9fcfd",
   "metadata": {},
   "outputs": [
    {
     "data": {
      "text/plain": [
       "[\"Sr. No. Date (dd/mm/yyyy) Startup Name Industry / Vertical Sub-Vertical City / Location Investors' Name Investment Type Amount (In USD)\"]"
      ]
     },
     "execution_count": 165,
     "metadata": {},
     "output_type": "execute_result"
    }
   ],
   "source": [
    "heading"
   ]
  },
  {
   "cell_type": "code",
   "execution_count": 178,
   "id": "5b6fadd4",
   "metadata": {},
   "outputs": [],
   "source": [
    "\n",
    "funding_detail= driver.find_elements(By.CLASS_NAME,\"row-hover\")\n"
   ]
  },
  {
   "cell_type": "code",
   "execution_count": 172,
   "id": "79e93851",
   "metadata": {},
   "outputs": [],
   "source": [
    "funding=[]\n",
    "funding.append(heading)\n",
    "for i in funding_detail:\n",
    "    funding.append(i.text.split('\\n'))\n",
    "    "
   ]
  },
  {
   "cell_type": "code",
   "execution_count": 177,
   "id": "f3fa90e9",
   "metadata": {},
   "outputs": [
    {
     "data": {
      "text/plain": [
       "[[\"Sr. No. Date (dd/mm/yyyy) Startup Name Industry / Vertical Sub-Vertical City / Location Investors' Name Investment Type Amount (In USD)\"],\n",
       " ['1 01/04/2021 BYJU’S Edu-tech Online tutoring Bengaluru Innoven Capital Series F 460,000,000',\n",
       "  '2 05/04/2021 Meesho E-commerce Online reselling platform Bengaluru SoftBank Vision Fund 2 Series E 300,000,000',\n",
       "  '3 14/04/2021 Swiggy Online Food Delivery Online Food Delivery Bengaluru Amansa Holdings, Carmignac, Falcon Edge Capital, Goldman Sachs, Think Investments Series J 343,000,000',\n",
       "  '4 07/04/2021 Groww FinTech Investment platform Bengaluru MC Global Edtech, B Capital, Baron, others Series D 83,000,000',\n",
       "  '5 14/04/2021 Beldara E-commerce Global B2B marketplace Mumbai Hindustan Media Ventures Venture 7,400,000'],\n",
       " ['1 04/03/2021 DealShare E-commerce Online shopping platform Jaipur, Rajasthan Innoven Capital Debt Financing 250,000,000',\n",
       "  '2 31/03/2021 Uniphore Technology Conversational Service Automation (CSA) Palo Alto Sorenson Capital Partners Series D 140,000,000',\n",
       "  '3 30/03/2021 Dunzo E-commerce Hyper-local delivery app Bengaluru Krishtal Advisors Pte Ltd Series E 8,000,000',\n",
       "  '4 30/03/2021 BYJU’S Edu-tech Online tutoring Bengaluru MC Global Edtech, B Capital, Baron, others Series F 460,000,000',\n",
       "  '5 23/03/2021 SkilloVilla Edu-tech Career and job-oriented upskilling. Bengaluru Titan Capital, others Seed 300,000,000',\n",
       "  '6 25/03/2021 CityMall E-commerce Social ecommerce and online grocery platform Gurgaon Accel Partners Series A 11,000,000',\n",
       "  '7 26/03/2021 DotPe FinTech Commerce and payments platform to offline enterprise businesses. Gurgaon PayU Series A 27,500,000'],\n",
       " ['1 11/02/2021 Doubtnut Edu Tech E-Learning Platform Gurgaon SIG Global, Sequoia Capital, WaterBridge Ventures and ON Mauritius Series B 2,500,000',\n",
       "  '2 22/02/2021 Zomato Hospitality Online Food Delivery Platform Gurgaon Tiger Global, Kora Venture 250,000,000',\n",
       "  '3 19/02/2021 Fingerlix Hospitality Semi-cooked food delivery app Mumbai Rhodium Trust, Accel Partners and Swiggy Series C 2,747,045.20',\n",
       "  '4 17/02/2021 Zolve FinTech Global Neobank Venture Mumbai Accel Partners and Lightspeed Venture Partners Seed 1,50,00,000',\n",
       "  '5 15/02/2021 KreditBee Finance Digital lending platform Bengaluru Azim Premji’s PremjiInvest and South Korea’s Mirae Asset Venture Series C 75,000,000',\n",
       "  '6 12/02/2021 Pepperfry E-commerce Multi-brand furniture brand Mumbai InnoVen Capital Debt Financing 4,773,958',\n",
       "  '7 12/02/2021 Grofers E-Commerce Online supermarket Gurgaon SoftBank Vision Fund (SVF) Unspecified 55,000,000',\n",
       "  '8 09/02/2021 Nothing Technology Consumer Technology Venture London GV Series A 15,000,000',\n",
       "  '9 09/02/2021 SplashLearn EdTech Game-based learning programme Gurgaon Owl Ventures Series C 18,000,000'],\n",
       " ['1 15/01/2021 Digit Insurance Financial Services Insurance Services Bengaluru A91 Partners, Faering Capital, TVS Capital Funds Venture 1,80,00,000',\n",
       "  '2 28/01/2021 Bombay Shaving Company Consumer Goods Company Shave care, beard care, and skincare products New Delhi Reckitt Benckiser Venture 6,172,258.50',\n",
       "  '3 19/01/2021 DeHaat AgriTech Startup online marketplace for farm products and services Patna Prosus Ventures Series C 30,000,000',\n",
       "  '4 19/01/2021 Darwinbox SaaS HR Tech Mumbai Salesforce Ventures Seed 15,000,000',\n",
       "  '5 18/01/2021 mfine Health Tech Startup AI-powered telemedicine mobile app Bengaluru Heritas Capital Management Venture Round 16,000,000',\n",
       "  '6 18/01/2021 Udayy EdTech Online learning platform for kids in class 1-5 Gurgaon Sequoia Capital Seed Funding 15,000,000',\n",
       "  '7 11/01/2021 True Elements Food Startup Whole Food plant based Nashta Pune SIDBI Venture Capital Series 100,000,000',\n",
       "  '8 13/01/2021 Saveo B2B E-commerce Pharmacies Bengaluru Matrix Partners India, RTP Global, others Seed 4,000,000'],\n",
       " ['1 15/12/2020 Bira 91 Food and Beverage Craft Beer New Delhi Nishant Mittal, Pankaj Chaddah and Shikha Sunil Chandak Funding 1,273,634.07',\n",
       "  '2 21/12/2020 Pine Labs Financial Services Payment Solutions Provider Noida Lone Pine Capital Secondary Market Undisclosed',\n",
       "  '3 15/12/2020 Zenoti Technology Provider Cloud-based software provider for the spa and salon industries Washington Advent International Series D 160,000,000',\n",
       "  '4 22/12/2020 Tax Buddy India FinTech Online tax adviser Mumbai Zenith Global Seed 1,000,000',\n",
       "  '5 15/12/2020 Delhivery Supply chain Transportation Gurgaon Steadview Capital Secondary Market 25,000,000',\n",
       "  '6 18/12/2020 PagarBook SaaS Employee management platform Bengaluru Sequoia Capital Series A 15,000,000'],\n",
       " ['1 30/11/2020 Codingal EduTech Online coding platform Bengaluru Rebright Partners, Java Capital, and GSF Accelerator Seed 560,000',\n",
       "  '2 30/11/2020 CRED Financial Services Credit Card Behavior Services Bengaluru DST Global Series C 80,000,000',\n",
       "  '3 29/11/2020 Bira 91 Food and Beverage Craft Beer New Delhi Sofina, Sequoia Capital, Sixth Sense Ventures, Neoplux Bridge Funding 3,000,000',\n",
       "  '4 27/11/2020 Chumbak Lifestyle Gifting Startup Bengaluru Gaja Capital Fund (GCFII-A) Pre-series E 1,001,047.92',\n",
       "  '5 25/11/2020 Cityflo Transportation App-based bus commute startup Mumbai Lightbox Ventures Series A 7,700,000',\n",
       "  '6 25/11/2020 Shipsy SaaS Software Automation Of Logistics Gurgaon Sequoia Capital India’s Surge, Info Edge Series A 6,003,806',\n",
       "  '7 25/11/2020 Unacademy Edutech Online Learning Platform Bengaluru Tiger Global Management, Dragoneer Investment Group Venture 75,000,000-100,000,000',\n",
       "  '8 24/11/2020 Cashfree FinTech Payments and banking technology Bengaluru Matrix Partners India, SAIF Partners, Ward Ferry Management and Bertelsmann India Series B 35,300,000',\n",
       "  '9 30/11/2020 Credgenics Fintech Critical NPA reduction for Fintech lenders and banks Gurgaon Venture Capital firm, Accel Partners and DMI Finance Pre-Series A 3,500,000',\n",
       "  '10 23/11/2020 Country Delight Dairy Tech Milk delivery startup Gurugram Elevation Capital Series C 25,000,000'],\n",
       " ['1 28/10/2020 Nykaa E-commerce Beauty, Fashion, Lifestyle, Wellness Mumbai Alia Bhatt Personal Investment NA',\n",
       "  '2 28/10/2020 Betterplace Digital Solutions Blue Collar Workforce Management Platform Bangalore Jungle Ventures Series B 10,000,000',\n",
       "  '3 28/10/2020 FlexiLoans FinTech Digital Lending Platform Mumbai Falguni and Sanjay Nayar Family Office Equity and Debt 20,160,000',\n",
       "  '4 27/10/2020 GetVantage FinTech Revenue-Based Financing Platform Mumbai Chiratae Ventures, Dream Incubators Seed 5,000,000',\n",
       "  '5 27/10/2020 FreshToHome E-commerce Food Delivery Bangalore Corporation of Dubai (ICD), Ascent Capital, DFC, the Allana Group',\n",
       "  'Series C 121,000,000',\n",
       "  '6 27/10/2020 Origo AgriTech Agricultural Commodities Management Gurgaon Northern Arc Capital Debt 4,700,000',\n",
       "  '7 27/10/2020 Origo Advertising Online Video Editing Mumbai Sequoia Capital India Series A 15,000,000',\n",
       "  '8 15/10/2020 Treebo Hotels Hospitality Budget Hospitality Chain Bangalore Matrix Partners India, SAIF Partners, Ward Ferry Management and Bertelsmann India 6,000,000',\n",
       "  '9 26/10/2020 Hubilo Information Technology Virtual Events Platform Wilmington, Delaware, United States Lightspeed Venture Partners Seed 4,500,000',\n",
       "  '10 28/10/2020 CredAble FinTech Supply Chain Finance Mumbai Oaks Asset Management and V’Ocean Investment Follow-On 4,500,000'],\n",
       " ['1 08/09/2020 Byju’s EduTech Online Tutoring Bangalore Silver Lake, Tiger Global, General Atlantic and Owl Ventures',\n",
       "  'Private Equity 500,000,000',\n",
       "  '2 12/09/2020 mCaffeine Personal Care Skincare & Haircare Mumbai Amicus Capital Private Equity I LLP, Amicus Capital Partners India Fund I and RP-SG Venture Fund 1 Series B 3,000,000',\n",
       "  '3 09/09/2020 Qshala EduTech Online Curiosity Platform for Kids Bangalore Rainmatter Capital Angel 370,000',\n",
       "  '4 02/09/2020 Winzo Online Gaming Online Gaming New Delhi Kalaari Capital Partners, IndigoEdge Management Consultancy Series B 15,500,000',\n",
       "  '5 09/09/2020 Hippo Video Video Customer Experience(CX) Platform Video Customer Experience(CX) Platform Newark, Delaware, United States of Amercia Alpha Wave Incubation, Exfinity Venture Partners and existing backers.',\n",
       "  'Series A 4,500,000',\n",
       "  '6 07/09/2020 Melorra E-commerce Online Jewelry Store',\n",
       "  'Bangalore Shadow Holdings, Lightbox. Debt Financing upto 8,900,000',\n",
       "  '7 07/09/2020 1mg E-commerce Online Pharmacy Gurgaon Gaja Capital, Tata Capital, Partners Group In Progress 100,000,000',\n",
       "  '8 31/08/2020 mfine HealthTech On-Demand Healthcare Services Bangalore Caretech Pte Inc Series B 5,400,000',\n",
       "  '9 31/08/2020 Apna Human Resources Recruitment Platform Bangalore Lightspeed India and Sequoia Capital India Series A 8,000,000',\n",
       "  '10 03/09/2020 Railofy Transportation WL & RAC protection platform Mumbai Chiratae Ventures Seed 950,000'],\n",
       " ['1 15/08/2020 Practo HealthTech Health care and Wellness Bangalore A1A Company',\n",
       "  'Series F 32,000,000',\n",
       "  '2 13/08/2020 Medlife E-commerce Online Pharmacy Bangalore Prasid Uno Family Trust and SC Credit Fund 23,000,000',\n",
       "  '3 13/08/2020 HungerBox',\n",
       "  'FoodTech Online Food Delivery Service Bangalore One97, Sabre Partners Trust, Pratithi Investment Trust, and Srihari Kumar Series D1 1,560,000',\n",
       "  '4 04/08/2020 Dunzo Hyper-local Logistics Online Delivery Services Bangalore Existing Backers In Progress 30,000,000',\n",
       "  '5 11/08/2020 Terra.do EduTech Online Climate School, E-learning Stanford, California, Stanford Angels and Entrepreneurs (India), BEENEXT Emerging Asia, Rainmatter Capital',\n",
       "  '',\n",
       "  'Seed 1,400,000',\n",
       "  '6 12/08/2020 Classplus EduTech E-learning, Online Tutoring',\n",
       "  '',\n",
       "  'Noida Falcon Edge In Progress upto 15,000,000',\n",
       "  '7 14/08/2020 Niyo FinTech Financial Services Bangalore Niyo Solutions Inc. 6,000,000',\n",
       "  '8 10/08/2020 ZestMoney FinTech Financial Services Bangalore Primrose Hills Ventures 10,670,000',\n",
       "  '9 07/08/2020 FreshToHome E-commerce Food Delivery Bangalore Ascent Capital Venture 16,200,000',\n",
       "  '10 13/08/2020 Eduvanz FinTech Financial Services Mumbai Sequoia India, Unitus Series A 5,000,000'],\n",
       " ['1 15/07/2020 Flipkart E-commerce E-commerce Bangalore Walmart Inc',\n",
       "  'M&A 1,200,000,000',\n",
       "  '2 16/07/2020 Vedantu EduTech Online Tutoring Bangalore Coatue Management Series D 100,000,000',\n",
       "  '3 16/07/2020 Crio EduTech Learning Platform for Developers Bangalore 021 Capital pre-Series A 934,160',\n",
       "  '4 14/07/2020 goDutch FinTech Group Payments Mumbai Matrix India,Y Combinator, Global Founders Capital, Soma Capital, and VentureSouq. Seed 1,700,000',\n",
       "  '5 13/07/2020 Mystifly',\n",
       "  'Airfare Marketplace Ticketing, Airline Retailing, and Post-Ticketing Services Singapore and Bangalore Recruit Co. Ltd.',\n",
       "  '',\n",
       "  'pre-Series B 3,300,000',\n",
       "  '6 09/07/2020 JetSynthesys Gaming and Entertainment Gaming and Entertainment',\n",
       "  '',\n",
       "  'Pune Adar Poonawalla and Kris Gopalakrishnan.',\n",
       "  'Venture-Series Unknown 400,000',\n",
       "  '7 10/07/2020 gigIndia',\n",
       "  'Marketplace Crowd Sourcing, Freelance Pune Incubate Fund India and Beyond Next Ventures pre-Series A 974,200',\n",
       "  '8 15/07/2020 PumPumPum Automotive Rental Used Car-leasing platform Gurgaon Early Adapters Syndicate Seed 292,800',\n",
       "  '9 14/07/2020 FLYX OTT Player Streaming Social Network New York and Delhi Raj Mishra, founder of AIT Global Inc pre-Seed 200,000',\n",
       "  '10 13/07/2020 Open Appliances Pvt. Ltd. Information Technology Internet-of-Things Security Solutions Bangalore Unicorn India Ventures Venture-Series Unknown 500,000'],\n",
       " ['1 18/06/2020 Drishti Technologies Technology Artificial Intelligence, Video Analytics Mumbai Sozo Ventures',\n",
       "  'Series B 25,000,000',\n",
       "  '2 17/06/2020 Stellaps AgriTech Farming, Dairy Management Apps Bangalore Stride Ventures',\n",
       "  'Debt Financing NA',\n",
       "  '3 17/06/2020 Peppermint',\n",
       "  'Industrial Robotics Industrial Robotics Mumbai Venture Catalysts and Naveen Kshatriya Seed NA',\n",
       "  '4 16/06/2020 Jai Kisan Rural FinTech AgriTech, Financial Services Mumbai Arkam Ventures and NABVENTURES Fund I Pre-Series A 3,934,941',\n",
       "  '5 16/06/2020 Biomoneta',\n",
       "  'BioTech HealthTech, Biotechnology Research Bangalore Beyond Next Ventures, ArthaVida Ventures and Dr. Aniruddha Malpani',\n",
       "  'Seed NA',\n",
       "  '6 15/06/2020 Sai Estate Management and Skills Institute EdTech Education',\n",
       "  '',\n",
       "  'Mumbai Suniel Shetty',\n",
       "  'Angel NA',\n",
       "  '7 15/06/2020 LetsTransport',\n",
       "  '',\n",
       "  'Logistics Solution Provider Logistics, Transportation, Travel Bangalore Stride Ventures Venture - Series Unknown 1,311,647',\n",
       "  '8 10/06/2020 WayCool Foods AgriTech Food and Beverage Chennai Indusland Bank Series C 5,500,000',\n",
       "  '9 11/06/2020 Myelin Foundry Deep Tech AI Artificial Intelligence Bangalore Kris Gopalakrishnan’s family office — Pratithi.',\n",
       "  'Seed 1,000,000',\n",
       "  '10 10/06/2020 Hapramp Block Chain, Cryptocurrency Block Chain, Cryptocurrency Gurugram Anand Mahindra Seed 1,000,000'],\n",
       " ['1 21/05/2020 leap.club Professional Network for Women Professional Network for Women Gurugram Whiteboard Capital (Sandeep Tandon’s VC fund), FirstCheque, Artha India Ventures, Sweta Rau (Founder, White Ventures), Amrish Rau (CEO Pinelabs, Founder Citrus Pay), Deepak Abbot (Former SVP, Paytm), and Harpreet Singh Grover (Co-founder, Co-Cubes) and others.',\n",
       "  'Pre Seed 340,000',\n",
       "  '2 20/05/2020 Tring Advertising Celebrity Engagement Platform Mumbai Tencent, Ark Impact, KoKalyan Krishnamurthy of Flipkart, Sujeet Kumar of Udaan, Gaurav Munjal of Unacademy, Keshav Sanghi of VentureWorks India, Roman Saini of Unacademy, Hemesh Singh of Unacademy, and Sumit Jain of Opentalk amongst others.',\n",
       "  'Angel NA',\n",
       "  '3 20/05/2020 Khatabook',\n",
       "  'Utility Solutions Provider Financial Services, Accounting, Payments. Bangalore B Capital Group, Sequoia India, Partners of DST Global, Tencent, GGV, RTP Global, Hummingbird Ventures, Falcon Edge Capital, Rocketship.vc, Unilever Ventures, Kevin Weil, Alexander Will, Kunal Shah, Kunal Bahl, and Rohit Bansal',\n",
       "  '',\n",
       "  '',\n",
       "  'Series B 60,000,000',\n",
       "  '4 19/05/2020 Vakilsearch LegalTech Online professional services platform for lawyers, corporate bodies, and professionals in India. Chennai Udaan co-founder, Sujeet Kumar Series A NA',\n",
       "  '5 19/05/2020 Lendingkart',\n",
       "  'FinTech Financial Services, Lending, Micro Lending. Ahmedabad Fullerton Financial Holdings Pte Ltd (FFH) and Bertelsmann India Investments, Sistema Asia Fund and India Quotient.',\n",
       "  'Series D 42,000,000',\n",
       "  '6 21/05/2020 No Worry No Tension Healthcare (NWNT) Healthcare Emotional health and mental health wellness',\n",
       "  '',\n",
       "  'New Delhi Amit Burman, Chairman of Dabur India,',\n",
       "  'Pre Series A NA',\n",
       "  '7 05/05/2020 Classplus',\n",
       "  '',\n",
       "  \"EduTech e-learning, education solutions. Noida RTP Global, lume Ventures, Sequoia Capital India's Surge, Spiral Ventures, and Strive. Series A 9,000,000\",\n",
       "  '8 11/05/2020 Nykaa E-commerce Cosmetic and Beauty Products Mumbai Steadview Capital Series F 8,800,000',\n",
       "  '9 13/05/2020 Magicpin E-commerce E-commerce Gurugram Lightspeed Venture Partners, along with the participation of Moonstone Investments, WaterBridge Venture, The Bunting Family Private Fund, and Srivatsan Rajan',\n",
       "  'Series C 4,000,000',\n",
       "  '10 18/05/2020 LetsTransport Logistics Solution Provider Logistics, Transportation, Travel Bangalore InnoVen Capital Venture - Series Unknown 1,700,000'],\n",
       " ['1 09/04/2020 Vedantu EduTech Online Tutoring Bengaluru Legend Capital Series C1 12,560,000',\n",
       "  '2 06/04/2020 Swiggy Online Food Delivery Online Food Delivery Bengaluru Tencent, Ark Impact, Korea Investment Partners, Samsung Ventures, and Mirae Asset Capital Markets',\n",
       "  'Series 1 43,000,000',\n",
       "  '3 08/04/2020 Zupee',\n",
       "  'Gaming Gaming Gurugram Matrix Partners India, Falcon Edge Capital, WestCap Group, Orios Venture Partners and Smile Group',\n",
       "  '',\n",
       "  'Series A 8,000,000',\n",
       "  '4 07/04/2020 DeHaat AgriTech AgriTech Patna Sequoia Capital India, FMO, Omnivore and AgFunder. Series A 12,000,000',\n",
       "  '5 15/04/2020 BigBasket',\n",
       "  'E-commerce Online Grocery Delivery Bengaluru Alibaba Group Debt Financing 50,000,000',\n",
       "  '6 08/04/2020 Fingerlix Food Delivery Ready-to-Cook Food Mumbai Accel, Zephyr Peacock, Swiggy, and RB Investments',\n",
       "  'Series C 1,800,000',\n",
       "  '7 31/03/2020 Nykaa',\n",
       "  '',\n",
       "  'E-commerce Cosmetic and Beauty Products Mumbai Steadview Capital Series F 13,000,000',\n",
       "  '8 02/04/2020 Recko Digital Reconcilation and Financial Services AI-powered Reconciliation of Digital Transactions Bengaluru Vertex Ventures Southeast Asia and India and Prime Venture Partners Series A 6,000,000'],\n",
       " ['1 04/03/2020 Soxytoes E-commerce Socks Noida Angel Networks Angel NA',\n",
       "  '2 02/03/2020 Chqbook.com Finance Financial Services Gurugram Aavishkaar Capital Series A 5,000,000',\n",
       "  '3 06/03/2020 Paperboat',\n",
       "  'E-commerce Beverages and Snacks Bengaluru Advent Management, A91 Emerging Fund, and Trifecta Venture.',\n",
       "  '',\n",
       "  'Debt Financing 4,000,000',\n",
       "  '4 13/03/2020 CollegeKhabri EduTech Education Bhopal Vdiec Global Angel NA',\n",
       "  '5 12/03/2020 FamPay',\n",
       "  'Finance Online Payment Bengaluru Y Combinator, Venture Highway, Sequoia India, and GFC (Global Founders Capital). Seed 4,700,000',\n",
       "  '6 12/03/2020 MultiLiving Real Estate Home Renting and Management Mumbai Lodha Ventures Series A 6,000,000',\n",
       "  '7 12/03/2020 Ola Electric',\n",
       "  'Transport Cab and Bike Taxi Bengaluru Pawan Munjal Family Trust Series B 1,000,000',\n",
       "  '8 12/03/2020 Mera Kisan Food Production Organic Products Pune Ajinkya Rahane Private Equity NA'],\n",
       " ['1 03/02/2020 1mg E-commerce Medicine Gurugram Bill & Melinda Gates Foundation Venture Series 10,000,000',\n",
       "  '2 03/02/2020 RACEnergy Transportation Electric Vehicle Hyderabad GrowX Ventures Seed NA',\n",
       "  '3 31/01/2020 Adonmo',\n",
       "  'Advertising Advertising Hyderabad BAce Capital Pre-Series A 3,000,000',\n",
       "  '4 31/01/2020 DoubtNut Education Online Tutoring Gurugram Tencent Holdings Series A 15,000,000',\n",
       "  '5 30/01/2020 MultiplyMyLeads Real Estate Real Estate New Delhi Frontline Strategy Funds and SucSEED Venture Partners. Venture Series NA',\n",
       "  '6 03/02/2020 Embibe EduTech AI based learning Mumbai Reliance Industries Limited (RIL) Venture Series 12,625,020',\n",
       "  '7 10/02/2020 FirstCry',\n",
       "  'E-commerce Baby Products Pune Softbank Vision Fund Series E 296,000,000',\n",
       "  '8 10/02/2020 Pepperfry E-commerce Furniture Mumbai Pidilite Industries Series F 37,000,000',\n",
       "  '9 18/02/2020 MaxWholesale E-commerce B2B platform for groceries New Delhi IAN Fund and Al Falaj Investment Co Series A 3,000,000',\n",
       "  '10 06/02/2020 Dot Information Technology and Services Information Technology and Services Gurgaon PayU and Fosun RZ Capital Seed 8,000,000'],\n",
       " ['1 09/01/2020 BYJU’S E-Tech E-learning Bengaluru Tiger Global Management Private Equity Round 200,000,000',\n",
       "  '2 13/01/2020 Shuttl Transportation App based shuttle service Gurgaon Susquehanna Growth Equity Series C 8,048,394',\n",
       "  '3 09/01/2020 Mamaearth E-commerce Retailer of baby and toddler products Bengaluru Sequoia Capital India Series B 18,358,860',\n",
       "  '4 02/01/2020 https://www.wealthbucket.in/ FinTech Online Investment New Delhi Vinod Khatumal Pre-series A 3,000,000',\n",
       "  '5 02/01/2020 Fashor Fashion and Apparel Embroiled Clothes For Women Mumbai Sprout Venture Partners Seed Round 1,800,000',\n",
       "  '6 13/01/2020 Pando Logistics Open-market, freight management platform Chennai Chiratae Ventures Series A 9,000,000',\n",
       "  '7 10/01/2020 Zomato Hospitality Online Food Delivery Platform Gurgaon Ant Financial Private Equity Round 150,000,000'],\n",
       " ['1 12/12/2019 Ecozen Technology Agritech Pune Sathguru Catalyzer Advisors Series A 6,000,000',\n",
       "  '2 06/12/2019 CarDekho E-Commerce Automobile Gurgaon Ping An Global Voyager Fund Series D 70,000,000',\n",
       "  '3 3/12/2019 Dhruva Space Aerospace Satellite Communication Bengaluru Mumbai Angels, Ravikanth Reddy Seed 50,000,000',\n",
       "  '4 13/12/2019 Rivigo Technology Logistics Services and Solutions Gurgaon SAIF Partners, Spring Canter Investment Ltd. Series F 20,000,000',\n",
       "  '5 17/12/2019 Healthians B2B-focused foodtech startup Food Solutions For Corporate Bengaluru Paytm, NPTK, Sabre Partners and Neoplux Series C 12,000,000',\n",
       "  '6 16/12/2019 Licious E-Commerce Online Meat And Seafood Ordering Startup Bengaluru Vertex Growth Fund Series E 30,000,000',\n",
       "  '7 16/12/2019 InCred Finance Non-Banking Financial Company Mumbai Debt Funding 5,900,000',\n",
       "  '8 14/12/2019 Trell Video Experience Discovery Platform Bengaluru Ruizheng Investment Seed Round 2,000,000',\n",
       "  '9 11/12/2019 Rein Games Gaming Real money based gaming startup Noida Manipal Education and Medical Group (MEMG) Seed Round 50,000,000',\n",
       "  '10 20/12/2019 Lenskart.com E-Commerce Online Eyewear Shopping Portal Faridabad SoftBank Vision Fund Series G 231,000,000'],\n",
       " ['1 13/11/2019 Freshworks Software Business and customer engagement tools San Francisco Sequoia, CapitalG, Accel Series H 15,000,0000',\n",
       "  \"2 14/11/2019 Misters Health and wellness Men's Health and Wellness brand Gurgaon Sauce.vc, Rainforest Ventures Series B 486,000\",\n",
       "  '3 13/11/2019 Sunstone Eduversity Pvt. Ltd Education Elearning Gurgaon Prime Venture Partners, LetsVenture, PS1 Venture and GlobalLogic co-founder Rajul Garg Seed 1,500,000',\n",
       "  '4 17/11/2019 Burger Singh Food and Beverage Indian Burger Brand Gurgaon RB Investments Venture undisclosed',\n",
       "  '5 18/11/2019 Healthians Health and Wellness Healthcare services Gurgaon DG Daiwa Ventures, DG Incubation Series B 12,000,000',\n",
       "  '6 15/11/2019 Ninjacart B2B Marketing Agritech Bengaluru Trifecta Capital Advisors Debt Funding 26,000,000',\n",
       "  '7 20/11/2019 Aye Finance FinTech Financial Services To MSMEs Gurgaon FinTech Debt Funding 17,411,265',\n",
       "  '8 12/11/2019 SuperGaming Video Games Social gaming platform Pune Dream Incubator Seed Funding 1,300,000',\n",
       "  '9 20/11/2019 Clumio SaaS Recovery software San Jose, Altimeter Capital, Sutter Hill Ventures Series C 135,000,000',\n",
       "  '10 11/11/2019 eBikeGo Last Mile Transportation Electric bike rental Amritsar Startup Buddy Seed 300,000'],\n",
       " ['1 04/10/2019 Dunzo Customer Service Delivery Service Bengaluru Lightbox Series D 4,50,00,000',\n",
       "  '2 02/10/2019 Udaan B2B Business development Bengaluru Altimeter Capital, DST Global Series D 58,50,00,000',\n",
       "  '3 21/10/2019 The Man Company',\n",
       "  'Consumer Goods Beauty and Grooming Gurgaon Ayushmann Khurana Corporate Round unknown'],\n",
       " ['1 05/09/2019 FPL Technologies FinTech Financial Services Pune Matrix Partners India, Sequoia India Maiden Round 4,500,000',\n",
       "  '2 04/09/2019 Cashflo FinTech Invoice discounting platform and SME lending marketplace Mumbai SAIF Partners Series A 3,300,000',\n",
       "  '3 04/09/2019 Digital F5 Advertising, Marketing Digital marketing firm Mumbai TIW Private Equity Private Equity Round 6,000,000',\n",
       "  '4 04/09/2019 3rdFlix SaaS Education Technology Hyderabad Exfinity Venture Partners pre-series A 5,000,000',\n",
       "  '5 04/09/2019 75F IoT Building automation system Burnsville Breakthrough Energy Ventures Series A 18,000,000',\n",
       "  '6 04/09/2019 Myelin Foundry Information Technology Deep-technology Bengaluru Endiya Partners Seed 10,00,000',\n",
       "  '7 04/09/2019 Atomberg Technology Consumer Technology Consumer Electronics, Home Appliances Mumbai A91 Partners Series A 10,000,000',\n",
       "  '8 04/09/2019 GOQii Health and Wellness Wearable Fitness Bands Menlo Park Bennett Coleman and Company Ltd (BCCL) Series C 450,000,000',\n",
       "  '9 03/09/2019 Vyapar App Accounting Mobile-based Accounting Software Bengaluru India Quotient, Axilor Ventures Series A 5,000,000'],\n",
       " ['1 01/08/2019 CarDekho E-Commerce Automotive Gurgaon SC GG India Mobility Holdings LLC Series C 20,000,000',\n",
       "  '2 01/08/2019 Progcap Finance Supply Chain Management New Delhi Sequoia India Series A 5,000,000',\n",
       "  '3 01/08/2019 MyPetrolPump Retail Fuel Delivery Bengaluru Seed Funding Round 1,600,000',\n",
       "  '4 01/08/2019 Alteria Capital Finance VC Funds Mumbai Azim Premji, Binny Bansal Single Venture 140,000,000',\n",
       "  '5 01/08/2019 Pine Labs Information Technology Last-mile retail transaction technology Noida Pine Labs Pte Ltd Corporate Round 38,080,000',\n",
       "  '6 12/08/2019 Meesho E-Commerce Social Commerce Bengaluru Naspers Series D 125,000,000',\n",
       "  '7 13/08/2019 Cars24 E-Commerce Car Retail Gurugram MS Dhoni Series D 11,000,000',\n",
       "  '8 13/08/2019 Uniphore Customer Service Platform Conversational AI Palo Alto March Capital Partners Series C 51,000,000',\n",
       "  '9 23/08/2019 Zendrive Automotive Road Safety Analytics San Francisco XL Innovate Series B 37,000,000',\n",
       "  '10 23/08/2019 Lo! Foods Consumer Goods Low carb food for Diabetics Bengaluru Rashmi Daga (founder, FreshMenu), Raveen Sastry (co-founder, Myntra) and Mitesh Shah (finance chief, BookMyShow) Seed Round 500,000'],\n",
       " ['1 02/07/2019 RenewBuy Finance Auto Insurance Gurgaon Lok Capital, IIFL Wealth Series B 19,000,000',\n",
       "  '2 02/07/2019 Atlan Information Technology Big Data Singapore WaterBridge Ventures Pre-Series A 2,500,000',\n",
       "  '3 01/07/2019 WizCounsel Compliance Consulting New Delhi Kapil Dev Angel 145,000',\n",
       "  '4 03/07/2019 Ola Cabs Transport Cabs Kormangala DIG Investment Ab, Deshe Holdings, Samih Toukan and Hussam Khoury Series J 1,000,000',\n",
       "  '5 01/07/2019 Uniphore Artificial Intelligence Speech Recognition Taramani March Capital Partners Series C 38,080,000',\n",
       "  '6 04/07/2019 Daalchini Technologies Food and Beverage Digital Vending Machine New Delhi Artha Venture Seed Round 500,000',\n",
       "  \"7 10/07/2019 BYJU'S EdTech Education Bengaluru Qatar Investment Authority Private Equity Round 150,000,000\",\n",
       "  '8 11/07/2019 Moglix E-Commerce Industrial Tools and Equipments Singapore Composite Capital Management, Sequoia Capital India, Tiger Global Management Series D 60,000,000',\n",
       "  '9 10/07/2019 Ezyhaul Tech Logistics Singapore Undisclosed Series B 16,000,000',\n",
       "  '10 10/07/2019 Indus OS Tech Smartphone Operating System Andheri Ventureast Series B 5,750,000'],\n",
       " ['1 05/06/2019 NoBroker E-Commerce Real Estate Bengaluru General Atlantic Series C 5,10,00,000',\n",
       "  '2 04/06/2019 Bira91 Food and Beverage Brewery New Delhi Anicut Capital Debt Funding 1,00,00,000',\n",
       "  '3 03/06/2019 FabHotels E-Commerce Hospitality Gurgaon Goldman Sachs, Accel Partners and Qualcomm 48,89,975.54',\n",
       "  '4 03/06/2019 Avail Finance Finance FinTech Bengaluru Matrix Partners Series A 90,00,000',\n",
       "  '5 04/06/2019 BharatPe Finance FinTech New Delhi Insight Partners Series B 7,50,00,000',\n",
       "  '6 04/06/2019 Recykal Waste Management Service Optimization Hyderabad Triton Investment Advisors, Pidilite Industries director Ajay Parekh pre-Series A 26,000,000',\n",
       "  '7 03/06/2019 Agara Labs Deep-Tech Artificial Intelligence Bengaluru Blume Ventures and RTP Global pre-Series A 25,00,000',\n",
       "  '8 06/06/2019 Sistema.bio Agriculture Hybrid Reactor Biodigestor Nairobi Shell Foundation, DILA CAPITAL, Engie RDE Fund, EcoEnterprise Fund, EDFIMC (ElectriFI), Endeavor Catalyst Fund, CoCapital, Triodos, Alpha Mundi, and Lendahand 27,39,034.68',\n",
       "  '9 06/06/2019 Chakr Innovation Energy Renewable Energy New Delhi IAN Fund Series A 26,000,000',\n",
       "  '10 06/06/2019 Pratilipi Digital Media E-Books Bengaluru Qiming Venture Partners Series B 1,51,09,500.00'],\n",
       " ['1 06/05/2019 Ola Electric Transport Cabs Bengaluru Tata Sons Series A undisclosed',\n",
       "  '2 06/05/2019 Saahas Zero Waste Waste Management Service Optimization Bengaluru C4D Partners Venture - Series Unknown 868,600',\n",
       "  '3 05/05/2019 StyleDotMe E-commerce Fashion and Shopping Delhi Indian Angel Network and other angel investors, Innov8 founder Ritesh Malik, Josh Talks founders Supriya Paul and Shobha Banga, and former Hero Corporate president Rohit Chanana Bridge Round undisclosed',\n",
       "  '4 01/05/2019 BlackBuck Transport Logistics Bengaluru Goldman Sachs Investment Partners and Silicon Valley-based Accel, Wellington, Sequoia Capital, B Capital, LightStreet, Sands Capital and International Finance Corporation, Series D 150,000,000',\n",
       "  '5 02/05/2019 Zenoti Saas Beauty and Wellness Industry Hyderabad Tiger Global Management Series C 50,000,000',\n",
       "  '6 28/05/2019 Ather Energy Automobile Electric Vehicle Bengaluru Sachin Bansal Series C 5,10,00,000',\n",
       "  '7 28/05/2019 FreshVnF Agtech Fresh Agriculture Produces Mumbai Equanimity Ventures Seed Round 14,00,00,000',\n",
       "  '8 30/05/2019 GlowRoad E-commerce Retail Bengaluru Korea Investment Partners, Vertex Ventures Series B 1,15,00,000',\n",
       "  '9 31/05/2019 Bira91 Food and Beverage Brewery New Delhi Sixth Sense Ventures Series B 56,00,000'],\n",
       " ['1 16/04/2019 Kuvera Finance Wealth Management Bengaluru Eight Roads Series A 45,000,000',\n",
       "  '2 12/04/2019 Medlife E-commerce Online Medicine Bengaluru Prasid Uno Family Trust Private Equity 17,000,000',\n",
       "  '3 10/04/2019 Kabadiwala E-commerce Waste Management Bhopal Unilever, Beehive Capital Advisor, ABCOM Investments, Parekh Marine Transport, Private Equity 430,665',\n",
       "  '4 13/04/2019 Tripoto Social Media Travel New Delhi Orchid India, Hornbill Orchid India Fund, Chiratae Ventures (formerly IDG Ventures), 3one4 Capital, Lasmer NV Series B 3,591,375',\n",
       "  '5 12/04/2019 Azah Health and Wellness Organic wellness Gurugram Unnamed angel investors Seed Funding 200,000',\n",
       "  '6 11/04/2019 Setu Fintech Banking Bengaluru Lightspeed India Partners Seed Funding 3,500,000',\n",
       "  '7 10/04/2019 Toppr Edtech E-learning Mumbai Milestone Debt and Preference capital 6,320,820',\n",
       "  '8 10/04/2019 Craftsvilla E-commerce Fashion and Apparel Mumbai Supera Pte Ltd Inhouse Funding 2,443,495',\n",
       "  '9 10/04/2019 Unacademy Edtech E-learning Bengaluru Kalyan Krishnamurthy Seed/ Angel Funding 307,000',\n",
       "  '10 11/04/2019 CleverTap SaaS Mobile analytics and marketing Mumbai Sequoia India, Tiger Global Management, Accel Partners Series B 26,000,000'],\n",
       " ['1 1/02/2019 FleetX AI Logistics Gurgaon India Quotient and LetsVenture’s Angel Fund Pre Series A Undisclosed',\n",
       "  '2 8/02/2019 Zilingo Ecommerce Fashion & Apparel India/Singapore Sequoia Capital and Temasek Holdings, EDBI, Burda Principal Investments, and Sofina Series D 226,000,000',\n",
       "  '3 13/02/2019 NanoClean Global Nanotechnology Anti-Pollution New Delhi LetsVenture, PitchRight Venture, 91SpringBoard, AL Nour International Holdings and Mark V Investments Series A 600,000',\n",
       "  '4 14/02/2018 OyoRooms Hospitality Budget Rooms Gurgaon DiDi Chuxing Equity 100,000,000'],\n",
       " ['1 03/01/2019 CarDekho Automobile Online Marketplace Jaipur Sequoia India, Hillhouse Capital, Alphabet’s growth investment arm Capital G and Axis Bank Series C 110,000,000',\n",
       "  '2 04/01/2019 Vyome Therapeutics Inc. Health and Wellness Specialty pharmaceutical India/US Iron Pillar, Perceptive Advisors, Romulus Capital and Kalaari Capital Series D 22,000,000',\n",
       "  '3 04/01/2019 Samunnati Financial Intermediation & Services Pvt. Ltd Finance Non-banking financial company Chennai MASSIF, a Dutch government fund Debt-Funding 5,000,000',\n",
       "  '4 04/12/2018 Manch Social Media Hyperlocal Content Delhi Stellaris Venture Partners Seed Funding 700,000'],\n",
       " ['1 01/12/2018 UrbanClap Technologies Pvt. Ltd Services Platform Home services marketplace New Delhi Steadview Capital and Vy Capital. Series D 50,000,000',\n",
       "  '2 02/12/2018 Guiddoo Travel Tech Platform for travel agents Mumbai Individual Investors Pre-Series A 800,000',\n",
       "  '3 02/12/2018 Career Anna Online Education Video-based certification, trainings Gurugram Individual Investors Pre-Series A 572,000',\n",
       "  '4 04/12/2018 Nagpur Wholesale Online Marketplace eCommerce Nagpur Omphalos Ventures India LLP Seed Funding 143,000',\n",
       "  '5 06/12/2018 ShopKirana B2B eCommerce Indore Info Edge, AET Fund, Akatsuki and Incubate Fund from Japan and Better Capital AngelList syndicate. Seed Funding 2,000,000',\n",
       "  '6 06/12/2018 BuildSupply SaaS, Ecommerce Real Estate, ERP Gurugram Venture Highway, GREE Ventures, Space Matrix, Individual Investors Series A 3,500,000'],\n",
       " ['1 01/11/2018 GoDesi Food and Beverage Regional Flavours Bengaluru Lead Angels Network Seed/ Angel Funding 1,38,995',\n",
       "  '2 03/11/2018 Veritas Finance Ltd. NBFC MSME Finance Chennai Norwest Venture Partners, CDC Group, the UK’s Development Finance Institution and P Surendra Pai Series D 27,799,000',\n",
       "  '3 06/11/2018 Meesho Ecommerce Social Commerce Bengaluru Shunwei Capital, DST Partners and RPS Ventures Series C 50,000,000',\n",
       "  '4 08/11/2018 Mobile Premier League Gaming Mobile e-Sports Bengaluru Undisclosed Series A 5,00,000',\n",
       "  '5 8/11/2018 A&R Bon Vivants Food Meat Retail Chain Jaipur RB Investments, Singapore Equity 1,000,000',\n",
       "  '6 12/11/2018 Blackbuck Food Tech POS For Online Ordering New York, Bengaluru Tiger Global Series A 1,000,000',\n",
       "  '7 12/11/2018 MilkBAsket Food Micro-delivery grocery service New Delhi Mayfield Fund Series B 1,300,000',\n",
       "  '8 13/11/2018 DriveU Transport On-Demand Drivers Bengaluru Stevens Creek Ventures Mezzanine 1,000,000',\n",
       "  '9 14/11/2018 CleanseCar Services Car Wash Bengaluru Venture Catalysts Seed/ Angel Funding 500,000',\n",
       "  '10 19/11/2018 Automation Anywhere Automation Robotics California SoftBank Vision Fund Series B 300,000,000'],\n",
       " ['1 01/10/2018 Northmist Fashion Mens Wear Delhi Prashant Jaiswal Seed/ Angel Funding N/A',\n",
       "  '2 02/10/2018 Origo Commodities India Pvt. Ltd Logistics Supply Chain Hyderabad Cooperative Oikocredit, Caspian and Hivos-Triodos Fund Seed/ Angel Funding 11,000,000',\n",
       "  '3 04/10/2018 Grover Zampa Food Wine Mumbai Ravi Viswanathan Private Equity 8,200,000',\n",
       "  '4 05/10/2018 Droom Automobile New and Used Cars Platform Gurgaon ZigExN Series E 30,00,000',\n",
       "  '5 11/10/2018 Innov8 Real Estate Co-Working New Delhi Credence Family Office Pre-Series A 4,000,000',\n",
       "  '6 12/10/2018 Blackbuck Logistics Tech Largest Trucking Platform Bengaluru Sequoia Capital India Private Funding 14,680,000',\n",
       "  '7 12/10/2018 LetsTransport Logistics Tech Book Trucks Online Bengaluru Fosun International Series C 12,000,000'],\n",
       " ['1 01/09/2018 Netmeds Consumer Internet Online Pharmacy Chain Chennai Sistema Asia Fund, Sistema JSFC and Tanncam Investment Private Equity 35,000,000',\n",
       "  '2 03/09/2018 Udaan B2B Platform Logistics and Shipping Bengaluru DST Global and Lightspeed Venture Partners’ global fund. Private Equity 225,000,000',\n",
       "  '3 03/09/2018 Daily hunt Consumer Internet News and ebooks Mobile App  Bengaluru Falcon Edge Private Equity 63,90,000',\n",
       "  '4 04/09/2018 3HCare Healthcare Healthcare Service Provider Delhi N/A Seed / Angel Funding 1,000,000',\n",
       "  '5 04/09/2018 HappyGoEasy Consumer Internet Online Travel Agecy Gurugram Korea Investment Partners (KIP), Samsung and China-based CITIC Capital and others Private Equity N/A',\n",
       "  '6 05/09/2018 Nykaa Consumer Internet Online Marketplace For Multi-brand Beauty Cosmetic and Wellness Products Mumbai Lighthouse Private Equity 15,72,00,000',\n",
       "  '7 05/09/2018 Mad Street Den Technology Computer Vision And Artificial Intelligence (Ai) Platform Chennai KDDI  Private Equity N/A',\n",
       "  '8 06/09/2018 Dream11 Consumer Internet Online Gaming Platform Mumbai Tencent, Kalaari Capital and Private equity firm Multiples Alternate Asset Management Private Equity 100,000,000',\n",
       "  '9 10/09/2018 MamaEarth Healthcare Online Marketplace For Mother and Babycare Products Gurugram Stellaris Ventures & Others Private Equity 4,000,000',\n",
       "  '10 11/09/2018 AutoGrid Technology AI-Based Energy Optimisation and Control Provider Bengaluru CLP Holdings Group, Innogy, Ørstead, and Tenaska Private Equity 32,000,000'],\n",
       " ['1 01/08/2018 dishq Food-Tech Personalisation Technology Firm Focusing On The Food And Beverage Industry Bengaluru Farm To Fork, Arts Alliance, The Syndicate Fund, Sven Hensen, Zeroth and Artesian Venture Partners Seed/ Angel Funding 400,000',\n",
       "  '2 01/08/2018 HealthFin Finance Patient Financing Platform Pune Axilor, Sprout Venture Partners and others Seed/ Angel Funding N/A',\n",
       "  '3 02/08/2018 Samosa Labs Consumer Internet Social Media and Chat Entertainment Platform Hyderabad Xiaomi and Sequoia Capital India Private Equity 7,000,000',\n",
       "  '4 03/08/2018 ZiffyHomes Consumer Internet Online Home Rental Marketplace Gurugram Y Combinator Private Equity 120,000',\n",
       "  '5 07/08/2018 My OmNamo Consumer Internet Holy Platform Offering Customised Puja Packages To Individuals and Corporates Mumbai N/A Seed/ Angel Funding 1,000,000',\n",
       "  '6 07/08/2018 ShopX Consumer Internet Assisted E-commerce Platform Bengaluru Fung Strategic Holdings Private Equity 35,000,000',\n",
       "  '7 07/08/2018 MakeMyTrip Consumer Internet Online Travel Aggregator Gurugram MakeMyTrip Limited Private Equity 10,000,000',\n",
       "  '8 08/08/2018 Hansel io Consumer Internet Real-time Mobile App Management Bengaluru Vertex Ventures Seed/ Angel Funding 40,00,000',\n",
       "  '9 08/08/2018 Metro Bikes Consumer Internet Online Bike Rental Marketplace Bengaluru Sequoia Capital India Advisors, Accel Partners and G Raghunandan Private Equity 12,200,000',\n",
       "  '10 08/08/2018 Phone Pe Consumer Internet UPI Payments App Bengaluru Flipkart Private Equity 66,000,000'],\n",
       " ['1 01/07/2018 Leena AI Technology HR Virtual Agent For Employees Gurugram Y Combinator Seed/ Angel Funding N/A',\n",
       "  '2 02/07/2018 Biryani By Kilo Consumer Internet Online Food Delivery Gurugram Ajay Relan and Vinay Mittal Seed/ Angel Funding 1,000,000',\n",
       "  '3 04/07/2018 Anchanto IT E-commerce Fulfilment Platform Pune MDI Ventures & Telkom Indonesia Private Equity 4,000,000',\n",
       "  '4 05/072018 Loan Tap Consumer Internet Online Lending Platform For Salaried Professionals Mumbai Shunwei Capital, Tuscan Ventures, Ashish Goenka, VC firms India Quotient and Kae Capital Private Equity 62,50,000',\n",
       "  '5 06/07/2018 PolicyBazaar Consumer Internet Online Insurance Selling Platform Gurugram Info Edge (India) Ltd and Temasek Private Equity 2,7700,000',\n",
       "  '6 09/07/2018 zippserv Consumer Internet Online Platform For Risk-Assessment Services For Real Estate Investments Bengaluru Info Edge (India) Ltd Seed/ Angel Funding 440,000',\n",
       "  '7 09/07/2018 Groww Consumer Internet Online Platform That Sells Direct Plans Of Mutual Funds Bengaluru Insignia Ventures Partners, Lightbridge Partners & Kairos Seed/ Angel Funding 1,100,000',\n",
       "  '8 10/07/2018 Avenue Growth Consumer Internet Online Platform That Connects Brands With Freelance Sales Professionals Gurugram Avtar Monga, chief operating office at IDFC Bank, Aditya Malik & Others Seed/ Angel Funding 437,000',\n",
       "  '9 10/07/2018 iNICU Healthcare Med-tech Platform Providing Care For Newborns Delhi Venture Catalysts Seed/ Angel Funding N/A',\n",
       "  '10 10/07/2018 Kinara Capital Finance Lending Platform For Micro and Small Enterprises Bengaluru ResponsAbility Private Equity 5,000,000'],\n",
       " ['1 01/10/2018 Northmist Fashion Mens Wear Delhi Prashant Jaiswal Seed/ Angel Funding N/A',\n",
       "  '2 02/10/2018 Origo Commodities India Pvt. Ltd Logistics Supply Chain Hyderabad Cooperative Oikocredit, Caspian and Hivos-Triodos Fund Seed/ Angel Funding 11,000,000',\n",
       "  '3 04/10/2018 Grover Zampa Food Wine Mumbai Ravi Viswanathan Private Equity 8,200,000',\n",
       "  '4 05/10/2018 Droom Automobile New and Used Cars Platform Gurgaon ZigExN Series E 30,00,000',\n",
       "  '5 11/10/2018 Innov8 Real Estate Co-Working New Delhi Credence Family Office Pre-Series A 4,000,000',\n",
       "  '6 12/10/2018 Blackbuck Logistics Tech Largest Trucking Platform Bengaluru Sequoia Capital India Private Funding 14,680,000',\n",
       "  '7 12/10/2018 LetsTransport Logistics Tech Book Trucks Online Bengaluru Fosun International Series C 12,000,000'],\n",
       " ['1 01/09/2018 Netmeds Consumer Internet Online Pharmacy Chain Chennai Sistema Asia Fund, Sistema JSFC and Tanncam Investment Private Equity 35,000,000',\n",
       "  '2 03/09/2018 Udaan B2B Platform Logistics and Shipping Bengaluru DST Global and Lightspeed Venture Partners’ global fund. Private Equity 225,000,000',\n",
       "  '3 03/09/2018 Daily hunt Consumer Internet News and ebooks Mobile App  Bengaluru Falcon Edge Private Equity 63,90,000',\n",
       "  '4 04/09/2018 3HCare Healthcare Healthcare Service Provider Delhi N/A Seed / Angel Funding 1,000,000',\n",
       "  '5 04/09/2018 HappyGoEasy Consumer Internet Online Travel Agecy Gurugram Korea Investment Partners (KIP), Samsung and China-based CITIC Capital and others Private Equity N/A',\n",
       "  '6 05/09/2018 Nykaa Consumer Internet Online Marketplace For Multi-brand Beauty Cosmetic and Wellness Products Mumbai Lighthouse Private Equity 15,72,00,000',\n",
       "  '7 05/09/2018 Mad Street Den Technology Computer Vision And Artificial Intelligence (Ai) Platform Chennai KDDI  Private Equity N/A',\n",
       "  '8 06/09/2018 Dream11 Consumer Internet Online Gaming Platform Mumbai Tencent, Kalaari Capital and Private equity firm Multiples Alternate Asset Management Private Equity 100,000,000',\n",
       "  '9 10/09/2018 MamaEarth Healthcare Online Marketplace For Mother and Babycare Products Gurugram Stellaris Ventures & Others Private Equity 4,000,000',\n",
       "  '10 11/09/2018 AutoGrid Technology AI-Based Energy Optimisation and Control Provider Bengaluru CLP Holdings Group, Innogy, Ørstead, and Tenaska Private Equity 32,000,000'],\n",
       " ['1 01/08/2018 dishq Food-Tech Personalisation Technology Firm Focusing On The Food And Beverage Industry Bengaluru Farm To Fork, Arts Alliance, The Syndicate Fund, Sven Hensen, Zeroth and Artesian Venture Partners Seed/ Angel Funding 400,000',\n",
       "  '2 01/08/2018 HealthFin Finance Patient Financing Platform Pune Axilor, Sprout Venture Partners and others Seed/ Angel Funding N/A',\n",
       "  '3 02/08/2018 Samosa Labs Consumer Internet Social Media and Chat Entertainment Platform Hyderabad Xiaomi and Sequoia Capital India Private Equity 7,000,000',\n",
       "  '4 03/08/2018 ZiffyHomes Consumer Internet Online Home Rental Marketplace Gurugram Y Combinator Private Equity 120,000',\n",
       "  '5 07/08/2018 My OmNamo Consumer Internet Holy Platform Offering Customised Puja Packages To Individuals and Corporates Mumbai N/A Seed/ Angel Funding 1,000,000',\n",
       "  '6 07/08/2018 ShopX Consumer Internet Assisted E-commerce Platform Bengaluru Fung Strategic Holdings Private Equity 35,000,000',\n",
       "  '7 07/08/2018 MakeMyTrip Consumer Internet Online Travel Aggregator Gurugram MakeMyTrip Limited Private Equity 10,000,000',\n",
       "  '8 08/08/2018 Hansel io Consumer Internet Real-time Mobile App Management Bengaluru Vertex Ventures Seed/ Angel Funding 40,00,000',\n",
       "  '9 08/08/2018 Metro Bikes Consumer Internet Online Bike Rental Marketplace Bengaluru Sequoia Capital India Advisors, Accel Partners and G Raghunandan Private Equity 12,200,000',\n",
       "  '10 08/08/2018 Phone Pe Consumer Internet UPI Payments App Bengaluru Flipkart Private Equity 66,000,000'],\n",
       " ['1 01/07/2018 Leena AI Technology HR Virtual Agent For Employees Gurugram Y Combinator Seed/ Angel Funding N/A',\n",
       "  '2 02/07/2018 Biryani By Kilo Consumer Internet Online Food Delivery Gurugram Ajay Relan and Vinay Mittal Seed/ Angel Funding 1,000,000',\n",
       "  '3 04/07/2018 Anchanto IT E-commerce Fulfilment Platform Pune MDI Ventures & Telkom Indonesia Private Equity 4,000,000',\n",
       "  '4 05/072018 Loan Tap Consumer Internet Online Lending Platform For Salaried Professionals Mumbai Shunwei Capital, Tuscan Ventures, Ashish Goenka, VC firms India Quotient and Kae Capital Private Equity 62,50,000',\n",
       "  '5 06/07/2018 PolicyBazaar Consumer Internet Online Insurance Selling Platform Gurugram Info Edge (India) Ltd and Temasek Private Equity 2,7700,000',\n",
       "  '6 09/07/2018 zippserv Consumer Internet Online Platform For Risk-Assessment Services For Real Estate Investments Bengaluru Info Edge (India) Ltd Seed/ Angel Funding 440,000',\n",
       "  '7 09/07/2018 Groww Consumer Internet Online Platform That Sells Direct Plans Of Mutual Funds Bengaluru Insignia Ventures Partners, Lightbridge Partners & Kairos Seed/ Angel Funding 1,100,000',\n",
       "  '8 10/07/2018 Avenue Growth Consumer Internet Online Platform That Connects Brands With Freelance Sales Professionals Gurugram Avtar Monga, chief operating office at IDFC Bank, Aditya Malik & Others Seed/ Angel Funding 437,000',\n",
       "  '9 10/07/2018 iNICU Healthcare Med-tech Platform Providing Care For Newborns Delhi Venture Catalysts Seed/ Angel Funding N/A',\n",
       "  '10 10/07/2018 Kinara Capital Finance Lending Platform For Micro and Small Enterprises Bengaluru ResponsAbility Private Equity 5,000,000'],\n",
       " ['1 01/10/2018 Northmist Fashion Mens Wear Delhi Prashant Jaiswal Seed/ Angel Funding N/A',\n",
       "  '2 02/10/2018 Origo Commodities India Pvt. Ltd Logistics Supply Chain Hyderabad Cooperative Oikocredit, Caspian and Hivos-Triodos Fund Seed/ Angel Funding 11,000,000',\n",
       "  '3 04/10/2018 Grover Zampa Food Wine Mumbai Ravi Viswanathan Private Equity 8,200,000',\n",
       "  '4 05/10/2018 Droom Automobile New and Used Cars Platform Gurgaon ZigExN Series E 30,00,000',\n",
       "  '5 11/10/2018 Innov8 Real Estate Co-Working New Delhi Credence Family Office Pre-Series A 4,000,000',\n",
       "  '6 12/10/2018 Blackbuck Logistics Tech Largest Trucking Platform Bengaluru Sequoia Capital India Private Funding 14,680,000',\n",
       "  '7 12/10/2018 LetsTransport Logistics Tech Book Trucks Online Bengaluru Fosun International Series C 12,000,000'],\n",
       " ['1 01/09/2018 Netmeds Consumer Internet Online Pharmacy Chain Chennai Sistema Asia Fund, Sistema JSFC and Tanncam Investment Private Equity 35,000,000',\n",
       "  '2 03/09/2018 Udaan B2B Platform Logistics and Shipping Bengaluru DST Global and Lightspeed Venture Partners’ global fund. Private Equity 225,000,000',\n",
       "  '3 03/09/2018 Daily hunt Consumer Internet News and ebooks Mobile App  Bengaluru Falcon Edge Private Equity 63,90,000',\n",
       "  '4 04/09/2018 3HCare Healthcare Healthcare Service Provider Delhi N/A Seed / Angel Funding 1,000,000',\n",
       "  '5 04/09/2018 HappyGoEasy Consumer Internet Online Travel Agecy Gurugram Korea Investment Partners (KIP), Samsung and China-based CITIC Capital and others Private Equity N/A',\n",
       "  '6 05/09/2018 Nykaa Consumer Internet Online Marketplace For Multi-brand Beauty Cosmetic and Wellness Products Mumbai Lighthouse Private Equity 15,72,00,000',\n",
       "  '7 05/09/2018 Mad Street Den Technology Computer Vision And Artificial Intelligence (Ai) Platform Chennai KDDI  Private Equity N/A',\n",
       "  '8 06/09/2018 Dream11 Consumer Internet Online Gaming Platform Mumbai Tencent, Kalaari Capital and Private equity firm Multiples Alternate Asset Management Private Equity 100,000,000',\n",
       "  '9 10/09/2018 MamaEarth Healthcare Online Marketplace For Mother and Babycare Products Gurugram Stellaris Ventures & Others Private Equity 4,000,000',\n",
       "  '10 11/09/2018 AutoGrid Technology AI-Based Energy Optimisation and Control Provider Bengaluru CLP Holdings Group, Innogy, Ørstead, and Tenaska Private Equity 32,000,000'],\n",
       " ['1 01/08/2018 dishq Food-Tech Personalisation Technology Firm Focusing On The Food And Beverage Industry Bengaluru Farm To Fork, Arts Alliance, The Syndicate Fund, Sven Hensen, Zeroth and Artesian Venture Partners Seed/ Angel Funding 400,000',\n",
       "  '2 01/08/2018 HealthFin Finance Patient Financing Platform Pune Axilor, Sprout Venture Partners and others Seed/ Angel Funding N/A',\n",
       "  '3 02/08/2018 Samosa Labs Consumer Internet Social Media and Chat Entertainment Platform Hyderabad Xiaomi and Sequoia Capital India Private Equity 7,000,000',\n",
       "  '4 03/08/2018 ZiffyHomes Consumer Internet Online Home Rental Marketplace Gurugram Y Combinator Private Equity 120,000',\n",
       "  '5 07/08/2018 My OmNamo Consumer Internet Holy Platform Offering Customised Puja Packages To Individuals and Corporates Mumbai N/A Seed/ Angel Funding 1,000,000',\n",
       "  '6 07/08/2018 ShopX Consumer Internet Assisted E-commerce Platform Bengaluru Fung Strategic Holdings Private Equity 35,000,000',\n",
       "  '7 07/08/2018 MakeMyTrip Consumer Internet Online Travel Aggregator Gurugram MakeMyTrip Limited Private Equity 10,000,000',\n",
       "  '8 08/08/2018 Hansel io Consumer Internet Real-time Mobile App Management Bengaluru Vertex Ventures Seed/ Angel Funding 40,00,000',\n",
       "  '9 08/08/2018 Metro Bikes Consumer Internet Online Bike Rental Marketplace Bengaluru Sequoia Capital India Advisors, Accel Partners and G Raghunandan Private Equity 12,200,000',\n",
       "  '10 08/08/2018 Phone Pe Consumer Internet UPI Payments App Bengaluru Flipkart Private Equity 66,000,000']]"
      ]
     },
     "execution_count": 177,
     "metadata": {},
     "output_type": "execute_result"
    }
   ],
   "source": [
    "funding"
   ]
  },
  {
   "cell_type": "code",
   "execution_count": null,
   "id": "78ad5c4d",
   "metadata": {},
   "outputs": [],
   "source": []
  },
  {
   "cell_type": "markdown",
   "id": "67a825da",
   "metadata": {},
   "source": [
    "# DIGIT"
   ]
  },
  {
   "cell_type": "code",
   "execution_count": 1,
   "id": "a19dfe8b",
   "metadata": {},
   "outputs": [],
   "source": [
    "import selenium\n",
    "from selenium import webdriver\n",
    "import pandas as pd\n",
    "import warnings\n",
    "warnings.filterwarnings(\"ignore\")"
   ]
  },
  {
   "cell_type": "code",
   "execution_count": 3,
   "id": "d6d1842d",
   "metadata": {},
   "outputs": [],
   "source": [
    "driver=webdriver.Chrome('chromedriver.exe')"
   ]
  },
  {
   "cell_type": "code",
   "execution_count": 4,
   "id": "7602926c",
   "metadata": {},
   "outputs": [],
   "source": [
    "url=\"https://www.digit.in/\"\n",
    "driver.get(url)"
   ]
  },
  {
   "cell_type": "code",
   "execution_count": 5,
   "id": "a19e8236",
   "metadata": {},
   "outputs": [],
   "source": [
    "from selenium.webdriver.common.by import By"
   ]
  },
  {
   "cell_type": "code",
   "execution_count": 6,
   "id": "805103cc",
   "metadata": {},
   "outputs": [
    {
     "data": {
      "text/plain": [
       "<selenium.webdriver.remote.webelement.WebElement (session=\"8f90b565a7184dc9a4ce9849369b7e08\", element=\"f0482b34-410c-4dfd-87e8-680368f6ba7e\")>"
      ]
     },
     "execution_count": 6,
     "metadata": {},
     "output_type": "execute_result"
    }
   ],
   "source": [
    "bestgamlap=driver.find_element(By.XPATH,'/html/body/div[3]/div/div[2]/div[2]/div[4]/ul/li[9]/a')\n",
    "bestgamlap"
   ]
  },
  {
   "cell_type": "code",
   "execution_count": 7,
   "id": "6b97ba32",
   "metadata": {},
   "outputs": [],
   "source": [
    "bestgamlap.click()"
   ]
  },
  {
   "cell_type": "code",
   "execution_count": 49,
   "id": "0c81bbb0",
   "metadata": {},
   "outputs": [
    {
     "data": {
      "text/plain": [
       "[<selenium.webdriver.remote.webelement.WebElement (session=\"8f90b565a7184dc9a4ce9849369b7e08\", element=\"06e2ad61-3d72-4729-8ae7-799541fcc58a\")>,\n",
       " <selenium.webdriver.remote.webelement.WebElement (session=\"8f90b565a7184dc9a4ce9849369b7e08\", element=\"68a5c94d-63a2-4910-9b91-823cabc8d2a3\")>,\n",
       " <selenium.webdriver.remote.webelement.WebElement (session=\"8f90b565a7184dc9a4ce9849369b7e08\", element=\"561afada-ae7c-4fe4-99dd-51f29fe5a568\")>,\n",
       " <selenium.webdriver.remote.webelement.WebElement (session=\"8f90b565a7184dc9a4ce9849369b7e08\", element=\"e8aeb06a-10c2-435b-8a0f-64d96d31d593\")>,\n",
       " <selenium.webdriver.remote.webelement.WebElement (session=\"8f90b565a7184dc9a4ce9849369b7e08\", element=\"a7cabc61-c79b-468f-8714-a4ec08a6345f\")>,\n",
       " <selenium.webdriver.remote.webelement.WebElement (session=\"8f90b565a7184dc9a4ce9849369b7e08\", element=\"507f61e5-7202-45b4-a491-b3cbe0ac47d4\")>,\n",
       " <selenium.webdriver.remote.webelement.WebElement (session=\"8f90b565a7184dc9a4ce9849369b7e08\", element=\"f3870011-5685-4f45-a6b1-526c62179c09\")>,\n",
       " <selenium.webdriver.remote.webelement.WebElement (session=\"8f90b565a7184dc9a4ce9849369b7e08\", element=\"cc204e77-16ae-4408-bea8-3868156b877c\")>,\n",
       " <selenium.webdriver.remote.webelement.WebElement (session=\"8f90b565a7184dc9a4ce9849369b7e08\", element=\"16a2f1b4-5774-490e-bf61-c82aad7db7ae\")>,\n",
       " <selenium.webdriver.remote.webelement.WebElement (session=\"8f90b565a7184dc9a4ce9849369b7e08\", element=\"bb18d8b4-3cf7-4587-abe0-838517870a21\")>]"
      ]
     },
     "execution_count": 49,
     "metadata": {},
     "output_type": "execute_result"
    }
   ],
   "source": [
    "product_det=driver.find_elements(By.XPATH,'//div[@class=\"Top10-Seller\"]//td[1]')\n",
    "product_det"
   ]
  },
  {
   "cell_type": "code",
   "execution_count": 50,
   "id": "d9e26148",
   "metadata": {},
   "outputs": [],
   "source": [
    "product=[]\n",
    "for i in product_det:\n",
    "    product.append(i.text)\n"
   ]
  },
  {
   "cell_type": "code",
   "execution_count": 51,
   "id": "51303557",
   "metadata": {},
   "outputs": [
    {
     "data": {
      "text/plain": [
       "['MSI Titan GT77-12UHS',\n",
       " 'Alienware x17 R2',\n",
       " 'Acer Predator Triton 500 SE PT516-52s',\n",
       " 'Omen by HP (16-B1371TX)',\n",
       " 'Acer Predator Helios 300 AN515-45 (NH.QBRSI.0',\n",
       " 'MSI Delta 15 (A5EFK-083IN)',\n",
       " 'Omen by HP (16-c0141AX)',\n",
       " 'Lenovo Legion 5i Pro (82RF00MGIN)',\n",
       " 'Alienware m15 R5 Ryzen Edition icc-c780001win',\n",
       " 'Lenovo Slim 7 Gen 6 (82K8002JIN)']"
      ]
     },
     "execution_count": 51,
     "metadata": {},
     "output_type": "execute_result"
    }
   ],
   "source": [
    "product"
   ]
  },
  {
   "cell_type": "code",
   "execution_count": 52,
   "id": "d3d236a7",
   "metadata": {},
   "outputs": [
    {
     "data": {
      "text/plain": [
       "[<selenium.webdriver.remote.webelement.WebElement (session=\"8f90b565a7184dc9a4ce9849369b7e08\", element=\"7697840e-0579-4462-a99f-f908d118d742\")>,\n",
       " <selenium.webdriver.remote.webelement.WebElement (session=\"8f90b565a7184dc9a4ce9849369b7e08\", element=\"8cd5872e-68a4-444e-8c94-4f324e712a24\")>,\n",
       " <selenium.webdriver.remote.webelement.WebElement (session=\"8f90b565a7184dc9a4ce9849369b7e08\", element=\"420725aa-2bac-4eff-90c0-f4ebf493ed1f\")>,\n",
       " <selenium.webdriver.remote.webelement.WebElement (session=\"8f90b565a7184dc9a4ce9849369b7e08\", element=\"86fb2e1e-e222-4fff-9ff4-24c8663e3a6c\")>,\n",
       " <selenium.webdriver.remote.webelement.WebElement (session=\"8f90b565a7184dc9a4ce9849369b7e08\", element=\"b67044d3-541d-4180-91cd-e519204f0044\")>,\n",
       " <selenium.webdriver.remote.webelement.WebElement (session=\"8f90b565a7184dc9a4ce9849369b7e08\", element=\"ec987897-4109-4e57-8edb-0c5c0ff4a5ac\")>,\n",
       " <selenium.webdriver.remote.webelement.WebElement (session=\"8f90b565a7184dc9a4ce9849369b7e08\", element=\"e1a4f9b5-b90d-474d-957d-b492b0f8c614\")>,\n",
       " <selenium.webdriver.remote.webelement.WebElement (session=\"8f90b565a7184dc9a4ce9849369b7e08\", element=\"35bc0a9f-9f46-4b55-a917-20fd2578e450\")>,\n",
       " <selenium.webdriver.remote.webelement.WebElement (session=\"8f90b565a7184dc9a4ce9849369b7e08\", element=\"58e4c8f5-6d65-4c22-85cb-37f9a355c4b6\")>,\n",
       " <selenium.webdriver.remote.webelement.WebElement (session=\"8f90b565a7184dc9a4ce9849369b7e08\", element=\"53c36f68-df3c-4c8d-af1d-564b9551b62f\")>]"
      ]
     },
     "execution_count": 52,
     "metadata": {},
     "output_type": "execute_result"
    }
   ],
   "source": [
    "seller_det=driver.find_elements(By.XPATH,'//div[@class=\"Top10-Seller\"]//td[2]')\n",
    "seller_det"
   ]
  },
  {
   "cell_type": "code",
   "execution_count": 55,
   "id": "6fe51b2f",
   "metadata": {},
   "outputs": [],
   "source": [
    "seller=[]\n",
    "for i in seller_det:\n",
    "    seller.append(i.text)"
   ]
  },
  {
   "cell_type": "code",
   "execution_count": 56,
   "id": "c1bd79ad",
   "metadata": {},
   "outputs": [
    {
     "data": {
      "text/plain": [
       "['N/A',\n",
       " 'Dell',\n",
       " 'N/A',\n",
       " 'Amazon',\n",
       " 'N/A',\n",
       " 'N/A',\n",
       " 'Amazon',\n",
       " 'N/A',\n",
       " 'Amazon',\n",
       " 'Croma']"
      ]
     },
     "execution_count": 56,
     "metadata": {},
     "output_type": "execute_result"
    }
   ],
   "source": [
    "seller"
   ]
  },
  {
   "cell_type": "code",
   "execution_count": 57,
   "id": "b0377afa",
   "metadata": {},
   "outputs": [
    {
     "data": {
      "text/plain": [
       "[<selenium.webdriver.remote.webelement.WebElement (session=\"8f90b565a7184dc9a4ce9849369b7e08\", element=\"0ff080c3-a46d-4b0b-b423-6cb6a8e96469\")>,\n",
       " <selenium.webdriver.remote.webelement.WebElement (session=\"8f90b565a7184dc9a4ce9849369b7e08\", element=\"42c5f9cf-4784-450e-afef-2def493ac9a9\")>,\n",
       " <selenium.webdriver.remote.webelement.WebElement (session=\"8f90b565a7184dc9a4ce9849369b7e08\", element=\"67119fb0-f788-4c5f-b2a3-9d7dce26e7d1\")>,\n",
       " <selenium.webdriver.remote.webelement.WebElement (session=\"8f90b565a7184dc9a4ce9849369b7e08\", element=\"9b1f5a2f-220c-47fb-adfc-627d1aa64588\")>,\n",
       " <selenium.webdriver.remote.webelement.WebElement (session=\"8f90b565a7184dc9a4ce9849369b7e08\", element=\"80a05538-3d4b-4394-9ba5-295e0e9c899a\")>,\n",
       " <selenium.webdriver.remote.webelement.WebElement (session=\"8f90b565a7184dc9a4ce9849369b7e08\", element=\"6873759e-ec36-4dbc-9f28-b44308e7ac23\")>,\n",
       " <selenium.webdriver.remote.webelement.WebElement (session=\"8f90b565a7184dc9a4ce9849369b7e08\", element=\"00c6a4d3-76c8-4ec4-b440-7251508fd846\")>,\n",
       " <selenium.webdriver.remote.webelement.WebElement (session=\"8f90b565a7184dc9a4ce9849369b7e08\", element=\"a1deffd7-57d2-4242-aaf8-1f5a02f89647\")>,\n",
       " <selenium.webdriver.remote.webelement.WebElement (session=\"8f90b565a7184dc9a4ce9849369b7e08\", element=\"a06e881e-38af-445c-833a-348ac1b44cc4\")>,\n",
       " <selenium.webdriver.remote.webelement.WebElement (session=\"8f90b565a7184dc9a4ce9849369b7e08\", element=\"73e98cc6-bc47-4429-89fe-668dd5b269df\")>]"
      ]
     },
     "execution_count": 57,
     "metadata": {},
     "output_type": "execute_result"
    }
   ],
   "source": [
    "prices=driver.find_elements(By.XPATH,'//div[@class=\"Top10-Seller\"]//td[3]')\n",
    "prices"
   ]
  },
  {
   "cell_type": "code",
   "execution_count": 58,
   "id": "de5766dc",
   "metadata": {},
   "outputs": [],
   "source": [
    "price=[]\n",
    "for i in prices:\n",
    "    price.append(i.text)"
   ]
  },
  {
   "cell_type": "code",
   "execution_count": 59,
   "id": "40d94dcd",
   "metadata": {},
   "outputs": [
    {
     "data": {
      "text/plain": [
       "['N/A',\n",
       " '₹ 389,990',\n",
       " '₹ 300,000',\n",
       " '₹ 195,000',\n",
       " '₹ 172,999',\n",
       " '₹ 188,990',\n",
       " '₹ 127,490',\n",
       " '₹ 230,890',\n",
       " '₹ 140,999',\n",
       " '₹ 135,490']"
      ]
     },
     "execution_count": 59,
     "metadata": {},
     "output_type": "execute_result"
    }
   ],
   "source": [
    "price"
   ]
  },
  {
   "cell_type": "code",
   "execution_count": 61,
   "id": "609770d7",
   "metadata": {},
   "outputs": [],
   "source": [
    "df=pd.DataFrame()"
   ]
  },
  {
   "cell_type": "code",
   "execution_count": 62,
   "id": "ac3f4c3a",
   "metadata": {},
   "outputs": [],
   "source": [
    "df['PRODUCT']=product\n",
    "df['seller detail']=seller\n",
    "df['PRICE']=price\n"
   ]
  },
  {
   "cell_type": "code",
   "execution_count": 63,
   "id": "3a316460",
   "metadata": {},
   "outputs": [
    {
     "data": {
      "text/html": [
       "<div>\n",
       "<style scoped>\n",
       "    .dataframe tbody tr th:only-of-type {\n",
       "        vertical-align: middle;\n",
       "    }\n",
       "\n",
       "    .dataframe tbody tr th {\n",
       "        vertical-align: top;\n",
       "    }\n",
       "\n",
       "    .dataframe thead th {\n",
       "        text-align: right;\n",
       "    }\n",
       "</style>\n",
       "<table border=\"1\" class=\"dataframe\">\n",
       "  <thead>\n",
       "    <tr style=\"text-align: right;\">\n",
       "      <th></th>\n",
       "      <th>PRODUCT</th>\n",
       "      <th>seller detail</th>\n",
       "      <th>PRICE</th>\n",
       "    </tr>\n",
       "  </thead>\n",
       "  <tbody>\n",
       "    <tr>\n",
       "      <th>0</th>\n",
       "      <td>MSI Titan GT77-12UHS</td>\n",
       "      <td>N/A</td>\n",
       "      <td>N/A</td>\n",
       "    </tr>\n",
       "    <tr>\n",
       "      <th>1</th>\n",
       "      <td>Alienware x17 R2</td>\n",
       "      <td>Dell</td>\n",
       "      <td>₹ 389,990</td>\n",
       "    </tr>\n",
       "    <tr>\n",
       "      <th>2</th>\n",
       "      <td>Acer Predator Triton 500 SE PT516-52s</td>\n",
       "      <td>N/A</td>\n",
       "      <td>₹ 300,000</td>\n",
       "    </tr>\n",
       "    <tr>\n",
       "      <th>3</th>\n",
       "      <td>Omen by HP (16-B1371TX)</td>\n",
       "      <td>Amazon</td>\n",
       "      <td>₹ 195,000</td>\n",
       "    </tr>\n",
       "    <tr>\n",
       "      <th>4</th>\n",
       "      <td>Acer Predator Helios 300 AN515-45 (NH.QBRSI.0</td>\n",
       "      <td>N/A</td>\n",
       "      <td>₹ 172,999</td>\n",
       "    </tr>\n",
       "    <tr>\n",
       "      <th>5</th>\n",
       "      <td>MSI Delta 15 (A5EFK-083IN)</td>\n",
       "      <td>N/A</td>\n",
       "      <td>₹ 188,990</td>\n",
       "    </tr>\n",
       "    <tr>\n",
       "      <th>6</th>\n",
       "      <td>Omen by HP (16-c0141AX)</td>\n",
       "      <td>Amazon</td>\n",
       "      <td>₹ 127,490</td>\n",
       "    </tr>\n",
       "    <tr>\n",
       "      <th>7</th>\n",
       "      <td>Lenovo Legion 5i Pro (82RF00MGIN)</td>\n",
       "      <td>N/A</td>\n",
       "      <td>₹ 230,890</td>\n",
       "    </tr>\n",
       "    <tr>\n",
       "      <th>8</th>\n",
       "      <td>Alienware m15 R5 Ryzen Edition icc-c780001win</td>\n",
       "      <td>Amazon</td>\n",
       "      <td>₹ 140,999</td>\n",
       "    </tr>\n",
       "    <tr>\n",
       "      <th>9</th>\n",
       "      <td>Lenovo Slim 7 Gen 6 (82K8002JIN)</td>\n",
       "      <td>Croma</td>\n",
       "      <td>₹ 135,490</td>\n",
       "    </tr>\n",
       "  </tbody>\n",
       "</table>\n",
       "</div>"
      ],
      "text/plain": [
       "                                         PRODUCT seller detail      PRICE\n",
       "0                           MSI Titan GT77-12UHS           N/A        N/A\n",
       "1                               Alienware x17 R2          Dell  ₹ 389,990\n",
       "2          Acer Predator Triton 500 SE PT516-52s           N/A  ₹ 300,000\n",
       "3                        Omen by HP (16-B1371TX)        Amazon  ₹ 195,000\n",
       "4  Acer Predator Helios 300 AN515-45 (NH.QBRSI.0           N/A  ₹ 172,999\n",
       "5                     MSI Delta 15 (A5EFK-083IN)           N/A  ₹ 188,990\n",
       "6                        Omen by HP (16-c0141AX)        Amazon  ₹ 127,490\n",
       "7              Lenovo Legion 5i Pro (82RF00MGIN)           N/A  ₹ 230,890\n",
       "8  Alienware m15 R5 Ryzen Edition icc-c780001win        Amazon  ₹ 140,999\n",
       "9               Lenovo Slim 7 Gen 6 (82K8002JIN)         Croma  ₹ 135,490"
      ]
     },
     "execution_count": 63,
     "metadata": {},
     "output_type": "execute_result"
    }
   ],
   "source": [
    "df"
   ]
  },
  {
   "cell_type": "code",
   "execution_count": null,
   "id": "1adf1dea",
   "metadata": {},
   "outputs": [],
   "source": []
  },
  {
   "cell_type": "markdown",
   "id": "8da99428",
   "metadata": {},
   "source": [
    "# forbes"
   ]
  },
  {
   "cell_type": "code",
   "execution_count": 2,
   "id": "5b2d4eb0",
   "metadata": {},
   "outputs": [],
   "source": [
    "import selenium\n",
    "from selenium import webdriver\n",
    "import pandas as pd\n",
    "import warnings\n",
    "warnings.filterwarnings(\"ignore\")\n",
    "import time"
   ]
  },
  {
   "cell_type": "code",
   "execution_count": 3,
   "id": "3335ead5",
   "metadata": {},
   "outputs": [],
   "source": [
    "driver=webdriver.Chrome(r'D:\\flip robo\\chromedriver_win32\\chromedriver.exe')\n",
    "time.sleep(7)"
   ]
  },
  {
   "cell_type": "code",
   "execution_count": 4,
   "id": "f5b36277",
   "metadata": {},
   "outputs": [],
   "source": [
    "url=\"https://www.forbes.com/billionaires/\"\n",
    "driver.get(url)"
   ]
  },
  {
   "cell_type": "code",
   "execution_count": 5,
   "id": "d3450826",
   "metadata": {},
   "outputs": [],
   "source": [
    "from selenium.webdriver.common.by import By"
   ]
  },
  {
   "cell_type": "code",
   "execution_count": 6,
   "id": "235b5709",
   "metadata": {},
   "outputs": [],
   "source": [
    "rank=driver.find_elements(By.CLASS_NAME,\"rank\")"
   ]
  },
  {
   "cell_type": "code",
   "execution_count": 56,
   "id": "8479fd83",
   "metadata": {},
   "outputs": [],
   "source": [
    "ranks=[]\n",
    "for i in rank:\n",
    "    ranks.append(i.text)"
   ]
  },
  {
   "cell_type": "code",
   "execution_count": 54,
   "id": "05ed4ca0",
   "metadata": {},
   "outputs": [
    {
     "data": {
      "text/plain": [
       "['RANK', '1.', '2.', '3.', '4.']"
      ]
     },
     "execution_count": 54,
     "metadata": {},
     "output_type": "execute_result"
    }
   ],
   "source": [
    "ranks[:5]"
   ]
  },
  {
   "cell_type": "code",
   "execution_count": 9,
   "id": "829ddc67",
   "metadata": {},
   "outputs": [],
   "source": [
    "person_name=driver.find_elements(By.CLASS_NAME,\"personName\")"
   ]
  },
  {
   "cell_type": "code",
   "execution_count": 10,
   "id": "14f653e9",
   "metadata": {},
   "outputs": [],
   "source": [
    "person=[]\n",
    "for i in person_name:\n",
    "    person.append(i.text)"
   ]
  },
  {
   "cell_type": "code",
   "execution_count": 11,
   "id": "a5aced97",
   "metadata": {},
   "outputs": [
    {
     "data": {
      "text/plain": [
       "['Elon Musk', 'Jeff Bezos', 'Bernard Arnault & family', 'Bill Gates']"
      ]
     },
     "execution_count": 11,
     "metadata": {},
     "output_type": "execute_result"
    }
   ],
   "source": [
    "person[1:5]"
   ]
  },
  {
   "cell_type": "code",
   "execution_count": 25,
   "id": "262c216f",
   "metadata": {},
   "outputs": [],
   "source": [
    "net_worth=driver.find_elements(By.CLASS_NAME,\"netWorth\")"
   ]
  },
  {
   "cell_type": "code",
   "execution_count": 28,
   "id": "a329b36a",
   "metadata": {},
   "outputs": [],
   "source": [
    "net_worths=[]\n",
    "for i in net_worth:\n",
    "    net_worths.append(i.text)\n",
    "    "
   ]
  },
  {
   "cell_type": "code",
   "execution_count": 29,
   "id": "904c1983",
   "metadata": {},
   "outputs": [
    {
     "data": {
      "text/plain": [
       "['NET WORTH', '$219 B', '$171 B', '$158 B', '$129 B']"
      ]
     },
     "execution_count": 29,
     "metadata": {},
     "output_type": "execute_result"
    }
   ],
   "source": [
    "net_worths[:5]"
   ]
  },
  {
   "cell_type": "code",
   "execution_count": 30,
   "id": "d0f1b420",
   "metadata": {},
   "outputs": [],
   "source": [
    "country_cit=driver.find_elements(By.CLASS_NAME,\"countryOfCitizenship\")\n"
   ]
  },
  {
   "cell_type": "code",
   "execution_count": 31,
   "id": "65608d71",
   "metadata": {},
   "outputs": [],
   "source": [
    "country=[]\n",
    "for i in country_cit:\n",
    "    country.append(i.text)"
   ]
  },
  {
   "cell_type": "code",
   "execution_count": 32,
   "id": "e79426e7",
   "metadata": {},
   "outputs": [
    {
     "data": {
      "text/plain": [
       "['COUNTRY / TERRITORY',\n",
       " 'United States',\n",
       " 'United States',\n",
       " 'France',\n",
       " 'United States']"
      ]
     },
     "execution_count": 32,
     "metadata": {},
     "output_type": "execute_result"
    }
   ],
   "source": [
    "country[:5]"
   ]
  },
  {
   "cell_type": "code",
   "execution_count": 33,
   "id": "72973c11",
   "metadata": {},
   "outputs": [],
   "source": [
    "source_income=driver.find_elements(By.CLASS_NAME,\"source-text\")"
   ]
  },
  {
   "cell_type": "code",
   "execution_count": 59,
   "id": "1bc56f5e",
   "metadata": {},
   "outputs": [],
   "source": [
    "source=[]\n",
    "source.append('-')\n",
    "for i in source_income:\n",
    "    source.append(i.text)\n",
    "    "
   ]
  },
  {
   "cell_type": "code",
   "execution_count": 60,
   "id": "ece9dd7f",
   "metadata": {},
   "outputs": [
    {
     "data": {
      "text/plain": [
       "['-', 'Tesla, SpaceX', 'Amazon', 'LVMH', 'Microsoft']"
      ]
     },
     "execution_count": 60,
     "metadata": {},
     "output_type": "execute_result"
    }
   ],
   "source": [
    "source[:5]"
   ]
  },
  {
   "cell_type": "code",
   "execution_count": 47,
   "id": "09e1c6d7",
   "metadata": {},
   "outputs": [
    {
     "data": {
      "text/plain": [
       "201"
      ]
     },
     "execution_count": 47,
     "metadata": {},
     "output_type": "execute_result"
    }
   ],
   "source": [
    "len(source)"
   ]
  },
  {
   "cell_type": "code",
   "execution_count": 36,
   "id": "989cbde6",
   "metadata": {},
   "outputs": [],
   "source": [
    "industry_tag=driver.find_elements(By.XPATH,'//div[@class=\"category\"]//div')"
   ]
  },
  {
   "cell_type": "code",
   "execution_count": 57,
   "id": "bdbc556b",
   "metadata": {},
   "outputs": [],
   "source": [
    "industry=[]\n",
    "industry.append('-')\n",
    "for i in industry_tag:\n",
    "    industry.append(i.text)\n"
   ]
  },
  {
   "cell_type": "code",
   "execution_count": 58,
   "id": "d084d992",
   "metadata": {},
   "outputs": [
    {
     "data": {
      "text/plain": [
       "['-', 'Automotive', 'Technology', 'Fashion & Retail', 'Technology']"
      ]
     },
     "execution_count": 58,
     "metadata": {},
     "output_type": "execute_result"
    }
   ],
   "source": [
    "industry[:5]"
   ]
  },
  {
   "cell_type": "code",
   "execution_count": 50,
   "id": "4f5730da",
   "metadata": {},
   "outputs": [
    {
     "data": {
      "text/plain": [
       "(201, 201, 201, 201, 201, 201)"
      ]
     },
     "execution_count": 50,
     "metadata": {},
     "output_type": "execute_result"
    }
   ],
   "source": [
    "len(ranks),len(person),len(net_worths),len(country),len(source),len(industry)"
   ]
  },
  {
   "cell_type": "code",
   "execution_count": 61,
   "id": "a51bfe1a",
   "metadata": {},
   "outputs": [],
   "source": [
    "df=pd.DataFrame()"
   ]
  },
  {
   "cell_type": "code",
   "execution_count": 62,
   "id": "34165003",
   "metadata": {},
   "outputs": [],
   "source": [
    "df['RANK']=ranks\n",
    "df['NAME']=person\n",
    "df['NET WORTH']=net_worths\n",
    "df['COUNTRY']=country\n",
    "df['SOURCES']=source\n",
    "df['INDUSTRY']=industry\n"
   ]
  },
  {
   "cell_type": "code",
   "execution_count": 63,
   "id": "988b09a1",
   "metadata": {},
   "outputs": [
    {
     "data": {
      "text/html": [
       "<div>\n",
       "<style scoped>\n",
       "    .dataframe tbody tr th:only-of-type {\n",
       "        vertical-align: middle;\n",
       "    }\n",
       "\n",
       "    .dataframe tbody tr th {\n",
       "        vertical-align: top;\n",
       "    }\n",
       "\n",
       "    .dataframe thead th {\n",
       "        text-align: right;\n",
       "    }\n",
       "</style>\n",
       "<table border=\"1\" class=\"dataframe\">\n",
       "  <thead>\n",
       "    <tr style=\"text-align: right;\">\n",
       "      <th></th>\n",
       "      <th>RANK</th>\n",
       "      <th>NAME</th>\n",
       "      <th>NET WORTH</th>\n",
       "      <th>COUNTRY</th>\n",
       "      <th>SOURCES</th>\n",
       "      <th>INDUSTRY</th>\n",
       "    </tr>\n",
       "  </thead>\n",
       "  <tbody>\n",
       "    <tr>\n",
       "      <th>0</th>\n",
       "      <td>RANK</td>\n",
       "      <td>NAME</td>\n",
       "      <td>NET WORTH</td>\n",
       "      <td>COUNTRY / TERRITORY</td>\n",
       "      <td>-</td>\n",
       "      <td>-</td>\n",
       "    </tr>\n",
       "    <tr>\n",
       "      <th>1</th>\n",
       "      <td>1.</td>\n",
       "      <td>Elon Musk</td>\n",
       "      <td>$219 B</td>\n",
       "      <td>United States</td>\n",
       "      <td>Tesla, SpaceX</td>\n",
       "      <td>Automotive</td>\n",
       "    </tr>\n",
       "    <tr>\n",
       "      <th>2</th>\n",
       "      <td>2.</td>\n",
       "      <td>Jeff Bezos</td>\n",
       "      <td>$171 B</td>\n",
       "      <td>United States</td>\n",
       "      <td>Amazon</td>\n",
       "      <td>Technology</td>\n",
       "    </tr>\n",
       "    <tr>\n",
       "      <th>3</th>\n",
       "      <td>3.</td>\n",
       "      <td>Bernard Arnault &amp; family</td>\n",
       "      <td>$158 B</td>\n",
       "      <td>France</td>\n",
       "      <td>LVMH</td>\n",
       "      <td>Fashion &amp; Retail</td>\n",
       "    </tr>\n",
       "    <tr>\n",
       "      <th>4</th>\n",
       "      <td>4.</td>\n",
       "      <td>Bill Gates</td>\n",
       "      <td>$129 B</td>\n",
       "      <td>United States</td>\n",
       "      <td>Microsoft</td>\n",
       "      <td>Technology</td>\n",
       "    </tr>\n",
       "    <tr>\n",
       "      <th>...</th>\n",
       "      <td>...</td>\n",
       "      <td>...</td>\n",
       "      <td>...</td>\n",
       "      <td>...</td>\n",
       "      <td>...</td>\n",
       "      <td>...</td>\n",
       "    </tr>\n",
       "    <tr>\n",
       "      <th>196</th>\n",
       "      <td>192.</td>\n",
       "      <td>Marcel Herrmann Telles</td>\n",
       "      <td>$10.3 B</td>\n",
       "      <td>Brazil</td>\n",
       "      <td>beer</td>\n",
       "      <td>Food &amp; Beverage</td>\n",
       "    </tr>\n",
       "    <tr>\n",
       "      <th>197</th>\n",
       "      <td>197.</td>\n",
       "      <td>Leon Black</td>\n",
       "      <td>$10 B</td>\n",
       "      <td>United States</td>\n",
       "      <td>private equity</td>\n",
       "      <td>Finance &amp; Investments</td>\n",
       "    </tr>\n",
       "    <tr>\n",
       "      <th>198</th>\n",
       "      <td>197.</td>\n",
       "      <td>Joe Gebbia</td>\n",
       "      <td>$10 B</td>\n",
       "      <td>United States</td>\n",
       "      <td>Airbnb</td>\n",
       "      <td>Technology</td>\n",
       "    </tr>\n",
       "    <tr>\n",
       "      <th>199</th>\n",
       "      <td>197.</td>\n",
       "      <td>David Geffen</td>\n",
       "      <td>$10 B</td>\n",
       "      <td>United States</td>\n",
       "      <td>movies, record labels</td>\n",
       "      <td>Media &amp; Entertainment</td>\n",
       "    </tr>\n",
       "    <tr>\n",
       "      <th>200</th>\n",
       "      <td>197.</td>\n",
       "      <td>Yu Renrong</td>\n",
       "      <td>$10 B</td>\n",
       "      <td>China</td>\n",
       "      <td>semiconductors</td>\n",
       "      <td>Manufacturing</td>\n",
       "    </tr>\n",
       "  </tbody>\n",
       "</table>\n",
       "<p>201 rows × 6 columns</p>\n",
       "</div>"
      ],
      "text/plain": [
       "     RANK                      NAME  NET WORTH              COUNTRY  \\\n",
       "0    RANK                      NAME  NET WORTH  COUNTRY / TERRITORY   \n",
       "1      1.                 Elon Musk     $219 B        United States   \n",
       "2      2.                Jeff Bezos     $171 B        United States   \n",
       "3      3.  Bernard Arnault & family     $158 B               France   \n",
       "4      4.                Bill Gates     $129 B        United States   \n",
       "..    ...                       ...        ...                  ...   \n",
       "196  192.    Marcel Herrmann Telles    $10.3 B               Brazil   \n",
       "197  197.                Leon Black      $10 B        United States   \n",
       "198  197.                Joe Gebbia      $10 B        United States   \n",
       "199  197.              David Geffen      $10 B        United States   \n",
       "200  197.                Yu Renrong      $10 B                China   \n",
       "\n",
       "                   SOURCES               INDUSTRY  \n",
       "0                        -                      -  \n",
       "1            Tesla, SpaceX             Automotive  \n",
       "2                   Amazon             Technology  \n",
       "3                     LVMH       Fashion & Retail  \n",
       "4                Microsoft             Technology  \n",
       "..                     ...                    ...  \n",
       "196                   beer        Food & Beverage  \n",
       "197         private equity  Finance & Investments  \n",
       "198                 Airbnb             Technology  \n",
       "199  movies, record labels  Media & Entertainment  \n",
       "200         semiconductors          Manufacturing  \n",
       "\n",
       "[201 rows x 6 columns]"
      ]
     },
     "execution_count": 63,
     "metadata": {},
     "output_type": "execute_result"
    }
   ],
   "source": [
    "df"
   ]
  },
  {
   "cell_type": "markdown",
   "id": "5d8a0dd6",
   "metadata": {},
   "source": [
    "# youtube"
   ]
  },
  {
   "cell_type": "code",
   "execution_count": 1,
   "id": "22bd1b44",
   "metadata": {},
   "outputs": [],
   "source": [
    "import selenium\n",
    "from selenium import webdriver\n",
    "import pandas as pd\n",
    "import warnings\n",
    "warnings.filterwarnings(\"ignore\")\n",
    "import time"
   ]
  },
  {
   "cell_type": "code",
   "execution_count": 2,
   "id": "50136a29",
   "metadata": {},
   "outputs": [],
   "source": [
    "driver=webdriver.Chrome(r'D:\\flip robo\\chromedriver_win32\\chromedriver.exe')"
   ]
  },
  {
   "cell_type": "code",
   "execution_count": 3,
   "id": "d08b6a6e",
   "metadata": {},
   "outputs": [],
   "source": [
    "url=\"https://www.youtube.com/watch?v=jtn-hRJjl68\"\n",
    "driver.get(url)\n",
    "time.sleep(4)"
   ]
  },
  {
   "cell_type": "code",
   "execution_count": 4,
   "id": "37bfee89",
   "metadata": {},
   "outputs": [],
   "source": [
    "from selenium.webdriver.common.by import By"
   ]
  },
  {
   "cell_type": "code",
   "execution_count": 33,
   "id": "54de915f",
   "metadata": {},
   "outputs": [],
   "source": [
    "comment_tag=driver.find_elements(By.CLASS_NAME,\"style-scope yt-formatted-string\")\n",
    "#comment_tag=driver.find_elements(By.XPATH,'/html/body/ytd-app/div[1]/ytd-page-manager/ytd-watch-flexy/div[5]/div[1]/div/div[2]/ytd-comments/ytd-item-section-renderer/div[3]/ytd-comment-thread-renderer[1]/ytd-comment-renderer/div[3]/div[2]/div[2]/ytd-expander/div/yt-formatted-string/span')"
   ]
  },
  {
   "cell_type": "code",
   "execution_count": 34,
   "id": "c5c43ee4",
   "metadata": {},
   "outputs": [
    {
     "data": {
      "text/plain": [
       "[<selenium.webdriver.remote.webelement.WebElement (session=\"b513342d88265e64d62319c2af6e495d\", element=\"35e81f5d-a575-45ad-a817-462774795a70\")>,\n",
       " <selenium.webdriver.remote.webelement.WebElement (session=\"b513342d88265e64d62319c2af6e495d\", element=\"ecad6cdb-295e-4ed5-9417-35cc949dfb34\")>,\n",
       " <selenium.webdriver.remote.webelement.WebElement (session=\"b513342d88265e64d62319c2af6e495d\", element=\"acfa02d6-9123-4436-a9d9-6fcf974f3a37\")>,\n",
       " <selenium.webdriver.remote.webelement.WebElement (session=\"b513342d88265e64d62319c2af6e495d\", element=\"ad7d62e4-9872-4932-8d32-f3fa912194af\")>,\n",
       " <selenium.webdriver.remote.webelement.WebElement (session=\"b513342d88265e64d62319c2af6e495d\", element=\"96eff0a3-dc5b-4977-a76c-883ee682f717\")>,\n",
       " <selenium.webdriver.remote.webelement.WebElement (session=\"b513342d88265e64d62319c2af6e495d\", element=\"06bbe6f7-3fc6-47e2-bd6a-88258aababb8\")>,\n",
       " <selenium.webdriver.remote.webelement.WebElement (session=\"b513342d88265e64d62319c2af6e495d\", element=\"27c195f2-75dc-49c3-ba91-d5a218176674\")>,\n",
       " <selenium.webdriver.remote.webelement.WebElement (session=\"b513342d88265e64d62319c2af6e495d\", element=\"ee97a509-f0d8-470e-85b8-f20b60a1b3c5\")>,\n",
       " <selenium.webdriver.remote.webelement.WebElement (session=\"b513342d88265e64d62319c2af6e495d\", element=\"60f426dd-c84e-4adf-b4a6-a4c4e08a0881\")>,\n",
       " <selenium.webdriver.remote.webelement.WebElement (session=\"b513342d88265e64d62319c2af6e495d\", element=\"83c6b0f0-414f-4588-9377-933430bcfd3a\")>,\n",
       " <selenium.webdriver.remote.webelement.WebElement (session=\"b513342d88265e64d62319c2af6e495d\", element=\"cbdbfc98-df2f-49d8-a574-a5a377b8be78\")>,\n",
       " <selenium.webdriver.remote.webelement.WebElement (session=\"b513342d88265e64d62319c2af6e495d\", element=\"d3909bc5-f2b5-4d43-88a5-ad564f135c14\")>,\n",
       " <selenium.webdriver.remote.webelement.WebElement (session=\"b513342d88265e64d62319c2af6e495d\", element=\"583f0cc2-b05b-4095-bc39-d218d06942f0\")>,\n",
       " <selenium.webdriver.remote.webelement.WebElement (session=\"b513342d88265e64d62319c2af6e495d\", element=\"b2d05b56-aaad-4a6c-a56f-9f23932c213d\")>,\n",
       " <selenium.webdriver.remote.webelement.WebElement (session=\"b513342d88265e64d62319c2af6e495d\", element=\"5094b5a9-cdea-4877-97fc-5b2be45950e9\")>,\n",
       " <selenium.webdriver.remote.webelement.WebElement (session=\"b513342d88265e64d62319c2af6e495d\", element=\"427ab875-6041-4091-8aef-0e3e4d6d2ee5\")>,\n",
       " <selenium.webdriver.remote.webelement.WebElement (session=\"b513342d88265e64d62319c2af6e495d\", element=\"f3769a48-0526-4918-8691-13b7236f6cc2\")>,\n",
       " <selenium.webdriver.remote.webelement.WebElement (session=\"b513342d88265e64d62319c2af6e495d\", element=\"be981653-9a71-492f-8329-1427408af742\")>,\n",
       " <selenium.webdriver.remote.webelement.WebElement (session=\"b513342d88265e64d62319c2af6e495d\", element=\"9c7f4d8e-4f71-48df-89fb-6225e916a193\")>,\n",
       " <selenium.webdriver.remote.webelement.WebElement (session=\"b513342d88265e64d62319c2af6e495d\", element=\"4d9bbda2-f127-47d2-be59-a074f1ee8162\")>,\n",
       " <selenium.webdriver.remote.webelement.WebElement (session=\"b513342d88265e64d62319c2af6e495d\", element=\"21357a6f-d696-4d93-8963-386aa5610e95\")>,\n",
       " <selenium.webdriver.remote.webelement.WebElement (session=\"b513342d88265e64d62319c2af6e495d\", element=\"e2881cfd-d117-4f13-aefb-4a7d2f5fdaa6\")>,\n",
       " <selenium.webdriver.remote.webelement.WebElement (session=\"b513342d88265e64d62319c2af6e495d\", element=\"77f508bf-f9e7-463e-b799-272b57a88980\")>,\n",
       " <selenium.webdriver.remote.webelement.WebElement (session=\"b513342d88265e64d62319c2af6e495d\", element=\"8b9a3fa8-75fc-4ce3-8d79-9e3bbf62a180\")>,\n",
       " <selenium.webdriver.remote.webelement.WebElement (session=\"b513342d88265e64d62319c2af6e495d\", element=\"1a3166f2-84a5-4e92-9ff0-9bd953943b96\")>,\n",
       " <selenium.webdriver.remote.webelement.WebElement (session=\"b513342d88265e64d62319c2af6e495d\", element=\"07897e66-06f1-4855-befa-a6c662a29840\")>,\n",
       " <selenium.webdriver.remote.webelement.WebElement (session=\"b513342d88265e64d62319c2af6e495d\", element=\"ffc1da94-0822-493d-aac8-51b00103b45c\")>,\n",
       " <selenium.webdriver.remote.webelement.WebElement (session=\"b513342d88265e64d62319c2af6e495d\", element=\"da0b35e5-3f58-439c-9986-7ab2fdda2958\")>,\n",
       " <selenium.webdriver.remote.webelement.WebElement (session=\"b513342d88265e64d62319c2af6e495d\", element=\"019c06af-a973-40ff-8a5b-8dcc24560606\")>,\n",
       " <selenium.webdriver.remote.webelement.WebElement (session=\"b513342d88265e64d62319c2af6e495d\", element=\"35c7df29-e804-45ac-833e-63e3ebbc6a04\")>,\n",
       " <selenium.webdriver.remote.webelement.WebElement (session=\"b513342d88265e64d62319c2af6e495d\", element=\"22ec6b07-61b8-4dbe-8687-af71dedda982\")>,\n",
       " <selenium.webdriver.remote.webelement.WebElement (session=\"b513342d88265e64d62319c2af6e495d\", element=\"6b7f7d0b-49f4-40cb-b72d-94e35fae445c\")>,\n",
       " <selenium.webdriver.remote.webelement.WebElement (session=\"b513342d88265e64d62319c2af6e495d\", element=\"8e40ac3b-6d1f-4264-baf1-9d3db55c44c0\")>,\n",
       " <selenium.webdriver.remote.webelement.WebElement (session=\"b513342d88265e64d62319c2af6e495d\", element=\"734feba3-a179-4555-ac64-23a9f7e32601\")>,\n",
       " <selenium.webdriver.remote.webelement.WebElement (session=\"b513342d88265e64d62319c2af6e495d\", element=\"a6d8f7ef-4066-4c7b-900a-e68262f9d499\")>,\n",
       " <selenium.webdriver.remote.webelement.WebElement (session=\"b513342d88265e64d62319c2af6e495d\", element=\"ae183b9e-039a-431a-80d1-e02b3c858a03\")>,\n",
       " <selenium.webdriver.remote.webelement.WebElement (session=\"b513342d88265e64d62319c2af6e495d\", element=\"b43dcbd1-7352-450d-8e5c-6dad905ce546\")>,\n",
       " <selenium.webdriver.remote.webelement.WebElement (session=\"b513342d88265e64d62319c2af6e495d\", element=\"eac6a7da-8364-4a58-a1ed-8cedc0351ff5\")>,\n",
       " <selenium.webdriver.remote.webelement.WebElement (session=\"b513342d88265e64d62319c2af6e495d\", element=\"cd8a2644-9c8b-437d-9d37-13b3392ab1d6\")>,\n",
       " <selenium.webdriver.remote.webelement.WebElement (session=\"b513342d88265e64d62319c2af6e495d\", element=\"cf65a2f2-0601-4320-a22a-f8d220766c64\")>,\n",
       " <selenium.webdriver.remote.webelement.WebElement (session=\"b513342d88265e64d62319c2af6e495d\", element=\"4c09bb1d-f2c8-4a8e-9d59-feac349f99b3\")>,\n",
       " <selenium.webdriver.remote.webelement.WebElement (session=\"b513342d88265e64d62319c2af6e495d\", element=\"dad6359c-ef60-4d44-a39b-0f99c201ee5a\")>,\n",
       " <selenium.webdriver.remote.webelement.WebElement (session=\"b513342d88265e64d62319c2af6e495d\", element=\"2277f685-d64b-4193-af45-556e023017d9\")>,\n",
       " <selenium.webdriver.remote.webelement.WebElement (session=\"b513342d88265e64d62319c2af6e495d\", element=\"eba15c9f-23ea-4cd6-9c21-ddd54a0546fc\")>,\n",
       " <selenium.webdriver.remote.webelement.WebElement (session=\"b513342d88265e64d62319c2af6e495d\", element=\"60f1008f-19bd-4880-843e-4ce9f79566a7\")>,\n",
       " <selenium.webdriver.remote.webelement.WebElement (session=\"b513342d88265e64d62319c2af6e495d\", element=\"2e60d4fa-4f51-4293-a9e1-b314ed797960\")>,\n",
       " <selenium.webdriver.remote.webelement.WebElement (session=\"b513342d88265e64d62319c2af6e495d\", element=\"5faa13a7-48bf-44d3-b4f6-dfb3b5a61a3f\")>,\n",
       " <selenium.webdriver.remote.webelement.WebElement (session=\"b513342d88265e64d62319c2af6e495d\", element=\"5d5bb887-c7ea-487b-9ef7-cc740882c954\")>,\n",
       " <selenium.webdriver.remote.webelement.WebElement (session=\"b513342d88265e64d62319c2af6e495d\", element=\"19f6323b-b36e-4d8a-a6fe-738c2474eaaf\")>,\n",
       " <selenium.webdriver.remote.webelement.WebElement (session=\"b513342d88265e64d62319c2af6e495d\", element=\"e01c7a09-3d21-4599-95c1-67fb3157f644\")>,\n",
       " <selenium.webdriver.remote.webelement.WebElement (session=\"b513342d88265e64d62319c2af6e495d\", element=\"e844e6a7-f075-4dfe-8964-69cf6ff508ce\")>,\n",
       " <selenium.webdriver.remote.webelement.WebElement (session=\"b513342d88265e64d62319c2af6e495d\", element=\"58c83826-8cca-40a3-a072-aa69d2daca99\")>,\n",
       " <selenium.webdriver.remote.webelement.WebElement (session=\"b513342d88265e64d62319c2af6e495d\", element=\"a46d3b1b-7919-4244-a22a-c2c7ce38f6ce\")>,\n",
       " <selenium.webdriver.remote.webelement.WebElement (session=\"b513342d88265e64d62319c2af6e495d\", element=\"77d73bd1-f5de-423b-b6ee-64d66bda2913\")>,\n",
       " <selenium.webdriver.remote.webelement.WebElement (session=\"b513342d88265e64d62319c2af6e495d\", element=\"5dc3fa3b-20b1-46aa-8089-3af752b1eed9\")>,\n",
       " <selenium.webdriver.remote.webelement.WebElement (session=\"b513342d88265e64d62319c2af6e495d\", element=\"a18fc3a0-26e0-401e-b9f0-51c708265785\")>,\n",
       " <selenium.webdriver.remote.webelement.WebElement (session=\"b513342d88265e64d62319c2af6e495d\", element=\"a0d56343-e89a-4ffc-80ae-e6814f2d7314\")>,\n",
       " <selenium.webdriver.remote.webelement.WebElement (session=\"b513342d88265e64d62319c2af6e495d\", element=\"79898058-1c80-4b21-b2f6-485ee8470b78\")>,\n",
       " <selenium.webdriver.remote.webelement.WebElement (session=\"b513342d88265e64d62319c2af6e495d\", element=\"a7af9ccc-791d-430c-a601-36f2382c7abc\")>,\n",
       " <selenium.webdriver.remote.webelement.WebElement (session=\"b513342d88265e64d62319c2af6e495d\", element=\"113dace9-094b-478e-8c7b-65fc9d255fec\")>,\n",
       " <selenium.webdriver.remote.webelement.WebElement (session=\"b513342d88265e64d62319c2af6e495d\", element=\"974925ae-0967-4a42-a1d5-e3fe9a2bd2d4\")>,\n",
       " <selenium.webdriver.remote.webelement.WebElement (session=\"b513342d88265e64d62319c2af6e495d\", element=\"6c8c6350-ba3a-493c-a86c-40cc4c201031\")>,\n",
       " <selenium.webdriver.remote.webelement.WebElement (session=\"b513342d88265e64d62319c2af6e495d\", element=\"912fe2a8-fab2-4d7d-adcb-e382d6e68924\")>,\n",
       " <selenium.webdriver.remote.webelement.WebElement (session=\"b513342d88265e64d62319c2af6e495d\", element=\"d56ba1d7-966b-48d0-bc03-dbf1ebf7e7fe\")>,\n",
       " <selenium.webdriver.remote.webelement.WebElement (session=\"b513342d88265e64d62319c2af6e495d\", element=\"bf3b95fd-a32f-4204-9ff7-528245702f0c\")>,\n",
       " <selenium.webdriver.remote.webelement.WebElement (session=\"b513342d88265e64d62319c2af6e495d\", element=\"96e19708-2917-4380-9bb6-3d29ad803151\")>,\n",
       " <selenium.webdriver.remote.webelement.WebElement (session=\"b513342d88265e64d62319c2af6e495d\", element=\"37110037-2f83-4126-b072-c0b59b206a53\")>,\n",
       " <selenium.webdriver.remote.webelement.WebElement (session=\"b513342d88265e64d62319c2af6e495d\", element=\"5801e5d8-eeb4-40ec-925d-c1b9747cfa6c\")>,\n",
       " <selenium.webdriver.remote.webelement.WebElement (session=\"b513342d88265e64d62319c2af6e495d\", element=\"ae87026f-d84a-470e-ab41-818fe4fb58f0\")>,\n",
       " <selenium.webdriver.remote.webelement.WebElement (session=\"b513342d88265e64d62319c2af6e495d\", element=\"e1582624-916f-478e-9822-c94bcff2ff47\")>,\n",
       " <selenium.webdriver.remote.webelement.WebElement (session=\"b513342d88265e64d62319c2af6e495d\", element=\"c6b01d67-e4e8-4aec-a7e6-8ac0358dd8a9\")>,\n",
       " <selenium.webdriver.remote.webelement.WebElement (session=\"b513342d88265e64d62319c2af6e495d\", element=\"66739a3a-16af-4109-90fe-3c8af8993e46\")>,\n",
       " <selenium.webdriver.remote.webelement.WebElement (session=\"b513342d88265e64d62319c2af6e495d\", element=\"18c1974f-77a8-418d-bb45-beac7ee2248b\")>,\n",
       " <selenium.webdriver.remote.webelement.WebElement (session=\"b513342d88265e64d62319c2af6e495d\", element=\"1daf9fdd-84cd-4296-bfb1-ff302f3a5c0f\")>,\n",
       " <selenium.webdriver.remote.webelement.WebElement (session=\"b513342d88265e64d62319c2af6e495d\", element=\"0e9496a4-7edd-4082-ab7a-306b2b767d87\")>,\n",
       " <selenium.webdriver.remote.webelement.WebElement (session=\"b513342d88265e64d62319c2af6e495d\", element=\"f600afd9-6afa-4f73-9925-e4db014c1d43\")>,\n",
       " <selenium.webdriver.remote.webelement.WebElement (session=\"b513342d88265e64d62319c2af6e495d\", element=\"1173a4e1-c3a5-46aa-bb0b-e461493a5277\")>,\n",
       " <selenium.webdriver.remote.webelement.WebElement (session=\"b513342d88265e64d62319c2af6e495d\", element=\"5e7c25b6-951e-4cd0-9ebb-2edff5ca0005\")>,\n",
       " <selenium.webdriver.remote.webelement.WebElement (session=\"b513342d88265e64d62319c2af6e495d\", element=\"c2515dc7-0ac7-4e05-95ce-614a67c92ad8\")>,\n",
       " <selenium.webdriver.remote.webelement.WebElement (session=\"b513342d88265e64d62319c2af6e495d\", element=\"c60ce461-dc99-4d81-bf64-30610e4312ca\")>,\n",
       " <selenium.webdriver.remote.webelement.WebElement (session=\"b513342d88265e64d62319c2af6e495d\", element=\"d128b760-29cc-4cec-86d1-cf774472df4f\")>,\n",
       " <selenium.webdriver.remote.webelement.WebElement (session=\"b513342d88265e64d62319c2af6e495d\", element=\"9a78733e-4a25-4d71-88ca-83f3e3aa4783\")>,\n",
       " <selenium.webdriver.remote.webelement.WebElement (session=\"b513342d88265e64d62319c2af6e495d\", element=\"2a9386a2-c5c7-4180-bc7c-d05ef778942f\")>,\n",
       " <selenium.webdriver.remote.webelement.WebElement (session=\"b513342d88265e64d62319c2af6e495d\", element=\"15a7d439-26b3-4184-a8c6-c9355f0dd6d8\")>,\n",
       " <selenium.webdriver.remote.webelement.WebElement (session=\"b513342d88265e64d62319c2af6e495d\", element=\"aff74751-1e9b-422d-8dd8-5ac3c1fa3fe4\")>,\n",
       " <selenium.webdriver.remote.webelement.WebElement (session=\"b513342d88265e64d62319c2af6e495d\", element=\"8efc8339-a2e3-4839-bf88-9cc555970c8a\")>,\n",
       " <selenium.webdriver.remote.webelement.WebElement (session=\"b513342d88265e64d62319c2af6e495d\", element=\"6941131b-93f6-4f0b-8149-3678ce78fb9d\")>,\n",
       " <selenium.webdriver.remote.webelement.WebElement (session=\"b513342d88265e64d62319c2af6e495d\", element=\"6ddc05c7-64cb-4557-97ba-79dd8da0a50b\")>,\n",
       " <selenium.webdriver.remote.webelement.WebElement (session=\"b513342d88265e64d62319c2af6e495d\", element=\"f179a3db-2763-4ed8-b02d-cdf07826680d\")>,\n",
       " <selenium.webdriver.remote.webelement.WebElement (session=\"b513342d88265e64d62319c2af6e495d\", element=\"e9084d1d-61c8-4004-bb68-4d2b69913dc5\")>,\n",
       " <selenium.webdriver.remote.webelement.WebElement (session=\"b513342d88265e64d62319c2af6e495d\", element=\"55243f3b-b8bf-4622-940b-578bf24968bb\")>,\n",
       " <selenium.webdriver.remote.webelement.WebElement (session=\"b513342d88265e64d62319c2af6e495d\", element=\"cc9ec17c-3ff7-4085-9d55-72a620496d31\")>,\n",
       " <selenium.webdriver.remote.webelement.WebElement (session=\"b513342d88265e64d62319c2af6e495d\", element=\"86cd0528-8b99-42eb-80d1-a58c19f8c964\")>,\n",
       " <selenium.webdriver.remote.webelement.WebElement (session=\"b513342d88265e64d62319c2af6e495d\", element=\"a71fb918-e2c6-4653-a984-edc7b074d469\")>,\n",
       " <selenium.webdriver.remote.webelement.WebElement (session=\"b513342d88265e64d62319c2af6e495d\", element=\"22a450b8-3b13-4611-95d9-690d6adb8670\")>,\n",
       " <selenium.webdriver.remote.webelement.WebElement (session=\"b513342d88265e64d62319c2af6e495d\", element=\"86b599da-15e8-4253-9a67-51fe51be9006\")>,\n",
       " <selenium.webdriver.remote.webelement.WebElement (session=\"b513342d88265e64d62319c2af6e495d\", element=\"c81a17b4-1cd8-45f7-b43d-9c893ead83c2\")>,\n",
       " <selenium.webdriver.remote.webelement.WebElement (session=\"b513342d88265e64d62319c2af6e495d\", element=\"f13af22f-5631-412a-8139-f3b6a8106d5b\")>,\n",
       " <selenium.webdriver.remote.webelement.WebElement (session=\"b513342d88265e64d62319c2af6e495d\", element=\"f0300b63-94da-4efb-9cf9-054eb6ef54bb\")>,\n",
       " <selenium.webdriver.remote.webelement.WebElement (session=\"b513342d88265e64d62319c2af6e495d\", element=\"83670f62-4690-4f9c-a8b7-1385f09ae987\")>,\n",
       " <selenium.webdriver.remote.webelement.WebElement (session=\"b513342d88265e64d62319c2af6e495d\", element=\"b6d0b2a5-1bd4-47c9-ab97-68b931a42f4c\")>,\n",
       " <selenium.webdriver.remote.webelement.WebElement (session=\"b513342d88265e64d62319c2af6e495d\", element=\"a0276138-747d-4364-8a07-1c1322980c91\")>,\n",
       " <selenium.webdriver.remote.webelement.WebElement (session=\"b513342d88265e64d62319c2af6e495d\", element=\"addbeb99-3a5f-4a98-9103-3a419ab0acbe\")>,\n",
       " <selenium.webdriver.remote.webelement.WebElement (session=\"b513342d88265e64d62319c2af6e495d\", element=\"11ae413c-299a-4460-9a85-d53853ee5815\")>,\n",
       " <selenium.webdriver.remote.webelement.WebElement (session=\"b513342d88265e64d62319c2af6e495d\", element=\"341c044e-a21c-4038-a82b-354a445f684b\")>]"
      ]
     },
     "execution_count": 34,
     "metadata": {},
     "output_type": "execute_result"
    }
   ],
   "source": [
    "comment_tag"
   ]
  },
  {
   "cell_type": "code",
   "execution_count": 6,
   "id": "281d0562",
   "metadata": {},
   "outputs": [],
   "source": [
    "#comment=[]\n",
    "#for i in comment_tag:\n",
    " #   comment.append(i.text)"
   ]
  },
  {
   "cell_type": "code",
   "execution_count": 32,
   "id": "c1840b7d",
   "metadata": {},
   "outputs": [
    {
     "data": {
      "text/plain": [
       "[]"
      ]
     },
     "execution_count": 32,
     "metadata": {},
     "output_type": "execute_result"
    }
   ],
   "source": [
    "#title_tag=driver.find_elements(By.XPATH,'//a[@class=\"title fw500 ellipsis\"]')\n",
    "cm = driver.find_elements(By.XPATH,'//yt-formatted-string[@id=\"content-text\"]')\n",
    "cm"
   ]
  },
  {
   "cell_type": "code",
   "execution_count": 35,
   "id": "df7dfcdb",
   "metadata": {},
   "outputs": [],
   "source": [
    "comments=[]\n",
    "for i in comment_tag :\n",
    "    comments.append(i.text)\n",
    "\n",
    "time.sleep(5)"
   ]
  },
  {
   "cell_type": "code",
   "execution_count": 36,
   "id": "5e044ab6",
   "metadata": {},
   "outputs": [
    {
     "data": {
      "text/plain": [
       "['',\n",
       " '',\n",
       " '',\n",
       " '',\n",
       " '',\n",
       " '',\n",
       " '',\n",
       " '',\n",
       " 'What is Data Science? | Complete RoadMap | Simply Explained',\n",
       " '',\n",
       " 'Apna College',\n",
       " '3.22M subscribers',\n",
       " '1.2M views  1 year ago',\n",
       " '',\n",
       " '🔥Java Placement Course : https://www.youtube.com/watch?v=yRpLl...\\n🔥Complete C++ Placement Course (Data Structures+Algorithm) :https://www.youtube.com/playlist?list...',\n",
       " '',\n",
       " '',\n",
       " '',\n",
       " '',\n",
       " '',\n",
       " '',\n",
       " '',\n",
       " '',\n",
       " '',\n",
       " '',\n",
       " '',\n",
       " '',\n",
       " '',\n",
       " '',\n",
       " '',\n",
       " '',\n",
       " '',\n",
       " '',\n",
       " '',\n",
       " '',\n",
       " '',\n",
       " '',\n",
       " '',\n",
       " '',\n",
       " '',\n",
       " '',\n",
       " '',\n",
       " '',\n",
       " '',\n",
       " '',\n",
       " '',\n",
       " '',\n",
       " '',\n",
       " '',\n",
       " '',\n",
       " '',\n",
       " '',\n",
       " '',\n",
       " '',\n",
       " '',\n",
       " 'CodeWithHarry',\n",
       " '',\n",
       " 'Apna College',\n",
       " '',\n",
       " 'Apna College',\n",
       " '',\n",
       " 'Technical Suneja',\n",
       " '',\n",
       " 'Apna College',\n",
       " '',\n",
       " '',\n",
       " '5',\n",
       " 'CodeWithHarry',\n",
       " '',\n",
       " 'CodeWithHarry',\n",
       " '',\n",
       " 'E-Learning Bridge',\n",
       " '',\n",
       " 'Apna College',\n",
       " '',\n",
       " 'Apna College',\n",
       " '',\n",
       " 'Apna College',\n",
       " '',\n",
       " 'Apna College',\n",
       " '',\n",
       " 'Ujjwal Kumar Sen',\n",
       " '',\n",
       " 'CodeWithHarry',\n",
       " '',\n",
       " 'जोश Talks',\n",
       " '',\n",
       " 'Apna College',\n",
       " '',\n",
       " 'Apna College',\n",
       " '',\n",
       " 'Anuj Bhaiya',\n",
       " '',\n",
       " '',\n",
       " 'Personalized playlist for you',\n",
       " '',\n",
       " 'Apna College',\n",
       " '',\n",
       " '',\n",
       " '',\n",
       " '',\n",
       " '',\n",
       " '',\n",
       " '',\n",
       " '']"
      ]
     },
     "execution_count": 36,
     "metadata": {},
     "output_type": "execute_result"
    }
   ],
   "source": [
    "comments"
   ]
  },
  {
   "cell_type": "code",
   "execution_count": 21,
   "id": "21c58872",
   "metadata": {},
   "outputs": [],
   "source": [
    "df=pd.DataFrame()\n",
    "df['Comments']=comments"
   ]
  },
  {
   "cell_type": "code",
   "execution_count": null,
   "id": "c4f8927e",
   "metadata": {},
   "outputs": [],
   "source": []
  },
  {
   "cell_type": "markdown",
   "id": "4804a117",
   "metadata": {},
   "source": [
    "# hostelworld"
   ]
  },
  {
   "cell_type": "code",
   "execution_count": 1,
   "id": "b3f81025",
   "metadata": {},
   "outputs": [],
   "source": [
    "import selenium\n",
    "from selenium import webdriver\n",
    "import pandas as pd\n",
    "import warnings\n",
    "from selenium.webdriver.common.by import By\n",
    "import time\n",
    "warnings.filterwarnings(\"ignore\")"
   ]
  },
  {
   "cell_type": "code",
   "execution_count": 2,
   "id": "97f04389",
   "metadata": {},
   "outputs": [],
   "source": [
    "driver=webdriver.Chrome(r'D:\\flip robo\\chromedriver_win32\\chromedriver.exe')"
   ]
  },
  {
   "cell_type": "code",
   "execution_count": 3,
   "id": "f16e4d69",
   "metadata": {},
   "outputs": [],
   "source": [
    "url=\"https://www.hostelworld.com/\"\n",
    "driver.get(url)\n",
    "time.sleep(5)"
   ]
  },
  {
   "cell_type": "code",
   "execution_count": 12,
   "id": "82faedc6",
   "metadata": {},
   "outputs": [
    {
     "data": {
      "text/plain": [
       "<selenium.webdriver.remote.webelement.WebElement (session=\"ef68972cf2d693dfdd95a797cd6fd0ee\", element=\"f42573af-06ee-44dc-a9a0-14bb601236c3\")>"
      ]
     },
     "execution_count": 12,
     "metadata": {},
     "output_type": "execute_result"
    }
   ],
   "source": [
    "search_amz=driver.find_element(By.ID,\"search-input-field\")\n",
    "#search=driver.find_element(By.XPATH,'/html/body/div[3]/div/div/div[2]/div[2]/div/div/div[4]/div/div[2]/div/div[1]/div/div/div')\n",
    "search_amz"
   ]
  },
  {
   "cell_type": "code",
   "execution_count": 13,
   "id": "cb354aa4",
   "metadata": {},
   "outputs": [],
   "source": [
    "search_amz.send_keys(\"London\")\n",
    "time.sleep(3)"
   ]
  },
  {
   "cell_type": "code",
   "execution_count": 25,
   "id": "0ddde62c",
   "metadata": {},
   "outputs": [],
   "source": [
    "opt=driver.find_element(By.XPATH,\"/html/body/div[3]/div/div/div[2]/div[2]/div/div/div[4]/div/div[2]/div/div[1]/div/div/ul/li[2]/div/span\")\n",
    "#opt=driver.find_elements(By.CLASS_NAME,\"label\")"
   ]
  },
  {
   "cell_type": "code",
   "execution_count": 26,
   "id": "1b0f0eed",
   "metadata": {},
   "outputs": [],
   "source": [
    "opt.click()\n",
    "time.sleep(2)"
   ]
  },
  {
   "cell_type": "code",
   "execution_count": 27,
   "id": "18b04d98",
   "metadata": {},
   "outputs": [],
   "source": [
    "search_btn=driver.find_element(By.ID,'search-button')\n",
    "search_btn.click()"
   ]
  },
  {
   "cell_type": "code",
   "execution_count": 28,
   "id": "a919ffcb",
   "metadata": {},
   "outputs": [
    {
     "data": {
      "text/plain": [
       "[<selenium.webdriver.remote.webelement.WebElement (session=\"ef68972cf2d693dfdd95a797cd6fd0ee\", element=\"da437c48-14ae-46a2-a4dc-64476388a864\")>,\n",
       " <selenium.webdriver.remote.webelement.WebElement (session=\"ef68972cf2d693dfdd95a797cd6fd0ee\", element=\"c084a9e4-6e77-4267-aa18-8e29e373127b\")>,\n",
       " <selenium.webdriver.remote.webelement.WebElement (session=\"ef68972cf2d693dfdd95a797cd6fd0ee\", element=\"77830821-5e90-4401-9e41-31108b94f701\")>,\n",
       " <selenium.webdriver.remote.webelement.WebElement (session=\"ef68972cf2d693dfdd95a797cd6fd0ee\", element=\"e6294fd4-2007-4c74-bb7c-1826fcec1196\")>,\n",
       " <selenium.webdriver.remote.webelement.WebElement (session=\"ef68972cf2d693dfdd95a797cd6fd0ee\", element=\"a38ae810-0caa-43d1-813c-815942f2bc2b\")>,\n",
       " <selenium.webdriver.remote.webelement.WebElement (session=\"ef68972cf2d693dfdd95a797cd6fd0ee\", element=\"a879cb7b-7d70-4b4d-99b6-ad6da5d1ded8\")>,\n",
       " <selenium.webdriver.remote.webelement.WebElement (session=\"ef68972cf2d693dfdd95a797cd6fd0ee\", element=\"0832f6ed-25fc-4b7f-9a8f-f75cc4059532\")>,\n",
       " <selenium.webdriver.remote.webelement.WebElement (session=\"ef68972cf2d693dfdd95a797cd6fd0ee\", element=\"c15c85c6-3bd5-4f34-b628-7f2234845129\")>,\n",
       " <selenium.webdriver.remote.webelement.WebElement (session=\"ef68972cf2d693dfdd95a797cd6fd0ee\", element=\"a5701261-0c03-47b5-8bd0-c649c59f712d\")>,\n",
       " <selenium.webdriver.remote.webelement.WebElement (session=\"ef68972cf2d693dfdd95a797cd6fd0ee\", element=\"7f4cb6fb-11c5-47f8-9d58-97981ecdbf5d\")>,\n",
       " <selenium.webdriver.remote.webelement.WebElement (session=\"ef68972cf2d693dfdd95a797cd6fd0ee\", element=\"54caaa19-82e1-4177-af19-0cbb723c83ec\")>,\n",
       " <selenium.webdriver.remote.webelement.WebElement (session=\"ef68972cf2d693dfdd95a797cd6fd0ee\", element=\"e21c3b86-57e5-4ed6-94c9-47405b4d0c73\")>,\n",
       " <selenium.webdriver.remote.webelement.WebElement (session=\"ef68972cf2d693dfdd95a797cd6fd0ee\", element=\"afdfadd6-965a-4f75-aafe-a8254a1e5669\")>,\n",
       " <selenium.webdriver.remote.webelement.WebElement (session=\"ef68972cf2d693dfdd95a797cd6fd0ee\", element=\"56453d9b-bcec-4bec-9e85-db3b73366dc1\")>,\n",
       " <selenium.webdriver.remote.webelement.WebElement (session=\"ef68972cf2d693dfdd95a797cd6fd0ee\", element=\"65a90a28-3ff7-4a7c-851c-4f8648c78603\")>,\n",
       " <selenium.webdriver.remote.webelement.WebElement (session=\"ef68972cf2d693dfdd95a797cd6fd0ee\", element=\"1df9406e-ad55-44c9-8863-5eb1c4cc2fa3\")>,\n",
       " <selenium.webdriver.remote.webelement.WebElement (session=\"ef68972cf2d693dfdd95a797cd6fd0ee\", element=\"3650b996-e4de-4f93-8526-5b117a3092f1\")>,\n",
       " <selenium.webdriver.remote.webelement.WebElement (session=\"ef68972cf2d693dfdd95a797cd6fd0ee\", element=\"67f003f8-2065-40cf-9b10-f9e05e5b7277\")>,\n",
       " <selenium.webdriver.remote.webelement.WebElement (session=\"ef68972cf2d693dfdd95a797cd6fd0ee\", element=\"84e5ecff-062c-44b6-a662-8ac6e19d5129\")>,\n",
       " <selenium.webdriver.remote.webelement.WebElement (session=\"ef68972cf2d693dfdd95a797cd6fd0ee\", element=\"398479c3-a2fb-458e-b280-f6ae164b2df6\")>,\n",
       " <selenium.webdriver.remote.webelement.WebElement (session=\"ef68972cf2d693dfdd95a797cd6fd0ee\", element=\"6c39eb2f-f2d5-4196-bbae-2763fd843ef2\")>,\n",
       " <selenium.webdriver.remote.webelement.WebElement (session=\"ef68972cf2d693dfdd95a797cd6fd0ee\", element=\"5ee3ff5e-6aa0-42af-9569-23ebf3789cbe\")>,\n",
       " <selenium.webdriver.remote.webelement.WebElement (session=\"ef68972cf2d693dfdd95a797cd6fd0ee\", element=\"5b495461-9d39-424b-8c8c-5c6b22af44dd\")>,\n",
       " <selenium.webdriver.remote.webelement.WebElement (session=\"ef68972cf2d693dfdd95a797cd6fd0ee\", element=\"1b9ff188-85fd-4f54-b752-08432bb8d45a\")>,\n",
       " <selenium.webdriver.remote.webelement.WebElement (session=\"ef68972cf2d693dfdd95a797cd6fd0ee\", element=\"c36e0f93-23e7-486a-989d-21ee4925e32d\")>,\n",
       " <selenium.webdriver.remote.webelement.WebElement (session=\"ef68972cf2d693dfdd95a797cd6fd0ee\", element=\"520decfc-2439-4f7a-8da7-916894d35c6a\")>,\n",
       " <selenium.webdriver.remote.webelement.WebElement (session=\"ef68972cf2d693dfdd95a797cd6fd0ee\", element=\"903bda8d-2d68-47e8-bd16-a72027dd4d99\")>,\n",
       " <selenium.webdriver.remote.webelement.WebElement (session=\"ef68972cf2d693dfdd95a797cd6fd0ee\", element=\"d11a0249-7946-4fce-9bc8-f14ba6fbc4de\")>,\n",
       " <selenium.webdriver.remote.webelement.WebElement (session=\"ef68972cf2d693dfdd95a797cd6fd0ee\", element=\"a2f4cdba-3803-41b5-91bb-b68e8f737d63\")>,\n",
       " <selenium.webdriver.remote.webelement.WebElement (session=\"ef68972cf2d693dfdd95a797cd6fd0ee\", element=\"67bd57cb-19ca-4564-953a-cd97c6ab8e73\")>]"
      ]
     },
     "execution_count": 28,
     "metadata": {},
     "output_type": "execute_result"
    }
   ],
   "source": [
    "hostel_name=driver.find_elements(By.XPATH,'//div[@class=\"property\"]//h2//a')\n",
    "hostel_name"
   ]
  },
  {
   "cell_type": "code",
   "execution_count": 29,
   "id": "a2d1dad5",
   "metadata": {},
   "outputs": [],
   "source": [
    "hostel=[]\n",
    "for i in hostel_name:\n",
    "    hostel.append(i.text)\n",
    "    "
   ]
  },
  {
   "cell_type": "code",
   "execution_count": 30,
   "id": "235f139f",
   "metadata": {},
   "outputs": [
    {
     "data": {
      "text/plain": [
       "[\"Wombat's City Hostel London\",\n",
       " \"St Christopher's Village\",\n",
       " 'Hostel One Notting Hill',\n",
       " 'Astor Hyde Park',\n",
       " 'Generator London']"
      ]
     },
     "execution_count": 30,
     "metadata": {},
     "output_type": "execute_result"
    }
   ],
   "source": [
    "hostel[:5]"
   ]
  },
  {
   "cell_type": "code",
   "execution_count": 31,
   "id": "c0ff12d1",
   "metadata": {},
   "outputs": [],
   "source": [
    "distance_tag=driver.find_elements(By.XPATH,'//span[@class=\"description\"]')\n"
   ]
  },
  {
   "cell_type": "code",
   "execution_count": 32,
   "id": "21066d0e",
   "metadata": {},
   "outputs": [],
   "source": [
    "distance=[]\n",
    "for i in distance_tag:\n",
    "    distance.append(i.text)"
   ]
  },
  {
   "cell_type": "code",
   "execution_count": 33,
   "id": "199849fa",
   "metadata": {},
   "outputs": [
    {
     "data": {
      "text/plain": [
       "['Hostel - 3.6km from city centre',\n",
       " 'Hostel - 1.8km from city centre',\n",
       " 'Hostel - 5.5km from city centre',\n",
       " 'Hostel - 4.3km from city centre',\n",
       " 'Hostel - 3km from city centre']"
      ]
     },
     "execution_count": 33,
     "metadata": {},
     "output_type": "execute_result"
    }
   ],
   "source": [
    "distance[:5]"
   ]
  },
  {
   "cell_type": "code",
   "execution_count": 60,
   "id": "09a2ae15",
   "metadata": {},
   "outputs": [
    {
     "data": {
      "text/plain": [
       "[<selenium.webdriver.remote.webelement.WebElement (session=\"ef68972cf2d693dfdd95a797cd6fd0ee\", element=\"e77cb2d5-9525-4b67-91ca-e05a1d4f38ab\")>,\n",
       " <selenium.webdriver.remote.webelement.WebElement (session=\"ef68972cf2d693dfdd95a797cd6fd0ee\", element=\"b470bf4c-ab2c-4335-ac56-9998cca2dd56\")>,\n",
       " <selenium.webdriver.remote.webelement.WebElement (session=\"ef68972cf2d693dfdd95a797cd6fd0ee\", element=\"a5b8ea39-cdcb-4cf9-80c9-ecdfd2b4b0f7\")>,\n",
       " <selenium.webdriver.remote.webelement.WebElement (session=\"ef68972cf2d693dfdd95a797cd6fd0ee\", element=\"6a84a3b2-577e-4ded-996c-57dad4806dcd\")>,\n",
       " <selenium.webdriver.remote.webelement.WebElement (session=\"ef68972cf2d693dfdd95a797cd6fd0ee\", element=\"1e93a87b-b933-4306-a1c1-183c3c5d2dd4\")>,\n",
       " <selenium.webdriver.remote.webelement.WebElement (session=\"ef68972cf2d693dfdd95a797cd6fd0ee\", element=\"4d2e68eb-98e1-4a59-a0e8-58e3e4181054\")>,\n",
       " <selenium.webdriver.remote.webelement.WebElement (session=\"ef68972cf2d693dfdd95a797cd6fd0ee\", element=\"7c664521-9e28-4bea-b514-3cef2628ec4c\")>,\n",
       " <selenium.webdriver.remote.webelement.WebElement (session=\"ef68972cf2d693dfdd95a797cd6fd0ee\", element=\"2bb1b662-27df-4e69-ac35-f40491050f9f\")>,\n",
       " <selenium.webdriver.remote.webelement.WebElement (session=\"ef68972cf2d693dfdd95a797cd6fd0ee\", element=\"e9bbd8f0-ec9d-4b41-b347-4df85d65bb46\")>,\n",
       " <selenium.webdriver.remote.webelement.WebElement (session=\"ef68972cf2d693dfdd95a797cd6fd0ee\", element=\"d40db408-9b60-4be6-8d12-be5ba9f6e0e8\")>,\n",
       " <selenium.webdriver.remote.webelement.WebElement (session=\"ef68972cf2d693dfdd95a797cd6fd0ee\", element=\"e1b1b0ec-86b0-4477-bced-4aba9172edb4\")>,\n",
       " <selenium.webdriver.remote.webelement.WebElement (session=\"ef68972cf2d693dfdd95a797cd6fd0ee\", element=\"bdd8408f-71ad-48ea-a620-c1d559d3d449\")>,\n",
       " <selenium.webdriver.remote.webelement.WebElement (session=\"ef68972cf2d693dfdd95a797cd6fd0ee\", element=\"ece2a705-102f-4abb-8cdc-1780c2dd1024\")>,\n",
       " <selenium.webdriver.remote.webelement.WebElement (session=\"ef68972cf2d693dfdd95a797cd6fd0ee\", element=\"295d2e50-a490-4213-9522-82a8fb1f1d30\")>,\n",
       " <selenium.webdriver.remote.webelement.WebElement (session=\"ef68972cf2d693dfdd95a797cd6fd0ee\", element=\"50f66294-f98f-48de-b6a7-a091d013c0fc\")>,\n",
       " <selenium.webdriver.remote.webelement.WebElement (session=\"ef68972cf2d693dfdd95a797cd6fd0ee\", element=\"9a337ea2-853d-4e80-9c4d-615131f4c64c\")>,\n",
       " <selenium.webdriver.remote.webelement.WebElement (session=\"ef68972cf2d693dfdd95a797cd6fd0ee\", element=\"ba67dfba-b763-4e28-860a-7b032f322327\")>,\n",
       " <selenium.webdriver.remote.webelement.WebElement (session=\"ef68972cf2d693dfdd95a797cd6fd0ee\", element=\"72a047aa-2093-4369-b825-617e40885590\")>,\n",
       " <selenium.webdriver.remote.webelement.WebElement (session=\"ef68972cf2d693dfdd95a797cd6fd0ee\", element=\"e4ef36ed-e63f-4bdd-bb87-f2aad614c611\")>,\n",
       " <selenium.webdriver.remote.webelement.WebElement (session=\"ef68972cf2d693dfdd95a797cd6fd0ee\", element=\"bb3c58c5-c3e6-4bf6-a826-7356d0d0e045\")>,\n",
       " <selenium.webdriver.remote.webelement.WebElement (session=\"ef68972cf2d693dfdd95a797cd6fd0ee\", element=\"28ab1474-0320-401c-91c6-29ff03a81ff7\")>,\n",
       " <selenium.webdriver.remote.webelement.WebElement (session=\"ef68972cf2d693dfdd95a797cd6fd0ee\", element=\"609b7e53-7e4f-43dd-9d13-d8204a7ad861\")>,\n",
       " <selenium.webdriver.remote.webelement.WebElement (session=\"ef68972cf2d693dfdd95a797cd6fd0ee\", element=\"0436ffd7-51e4-4241-b9d2-e01e816630a8\")>,\n",
       " <selenium.webdriver.remote.webelement.WebElement (session=\"ef68972cf2d693dfdd95a797cd6fd0ee\", element=\"94b6c12f-d8d4-4f7d-9e53-28045c38af93\")>,\n",
       " <selenium.webdriver.remote.webelement.WebElement (session=\"ef68972cf2d693dfdd95a797cd6fd0ee\", element=\"ca85215a-5f94-4764-90d3-f385cb368917\")>,\n",
       " <selenium.webdriver.remote.webelement.WebElement (session=\"ef68972cf2d693dfdd95a797cd6fd0ee\", element=\"828e0f7c-ddb3-4010-8d65-dc4708e50a50\")>,\n",
       " <selenium.webdriver.remote.webelement.WebElement (session=\"ef68972cf2d693dfdd95a797cd6fd0ee\", element=\"d8139a1a-26d8-4303-813f-1986effcda22\")>,\n",
       " <selenium.webdriver.remote.webelement.WebElement (session=\"ef68972cf2d693dfdd95a797cd6fd0ee\", element=\"aa83ae2d-b929-473d-88b9-47967f85e1a0\")>,\n",
       " <selenium.webdriver.remote.webelement.WebElement (session=\"ef68972cf2d693dfdd95a797cd6fd0ee\", element=\"460690b5-0d91-4e0e-8d0f-59a5c3887fd0\")>,\n",
       " <selenium.webdriver.remote.webelement.WebElement (session=\"ef68972cf2d693dfdd95a797cd6fd0ee\", element=\"a0acfa9a-72cc-4d37-b3d3-0e2c00ac482f\")>]"
      ]
     },
     "execution_count": 60,
     "metadata": {},
     "output_type": "execute_result"
    }
   ],
   "source": [
    "ratings=driver.find_elements(By.XPATH,'//div[@class=\"rating rating-summary-container big\"]')\n",
    "ratings"
   ]
  },
  {
   "cell_type": "code",
   "execution_count": 63,
   "id": "2ef3ede8",
   "metadata": {},
   "outputs": [],
   "source": [
    "rating=[]\n",
    "try:\n",
    "    for i in ratings:\n",
    "        rating.append(i.text.split('\\n')[0])\n",
    "except:\n",
    "      rating.append('-')"
   ]
  },
  {
   "cell_type": "code",
   "execution_count": 64,
   "id": "92c8baaf",
   "metadata": {},
   "outputs": [
    {
     "data": {
      "text/plain": [
       "['8.9',\n",
       " '8.0',\n",
       " '9.4',\n",
       " '8.7',\n",
       " '7.7',\n",
       " '8.6',\n",
       " '7.3',\n",
       " '9.2',\n",
       " '8.2',\n",
       " '7.2',\n",
       " '7.1',\n",
       " '8.2',\n",
       " '9.4',\n",
       " '5.5',\n",
       " '7.7',\n",
       " '6.8',\n",
       " '8.4',\n",
       " '7.9',\n",
       " '7.7',\n",
       " '7.8',\n",
       " '7.0',\n",
       " '7.8',\n",
       " '8.2',\n",
       " '8.9',\n",
       " '7.6',\n",
       " '8.1',\n",
       " '7.1',\n",
       " '7.2',\n",
       " '5.1',\n",
       " '7.6']"
      ]
     },
     "execution_count": 64,
     "metadata": {},
     "output_type": "execute_result"
    }
   ],
   "source": [
    "rating"
   ]
  },
  {
   "cell_type": "code",
   "execution_count": 65,
   "id": "5f605721",
   "metadata": {},
   "outputs": [
    {
     "data": {
      "text/plain": [
       "30"
      ]
     },
     "execution_count": 65,
     "metadata": {},
     "output_type": "execute_result"
    }
   ],
   "source": [
    "len(rating)"
   ]
  },
  {
   "cell_type": "code",
   "execution_count": 37,
   "id": "1739ebb3",
   "metadata": {},
   "outputs": [],
   "source": [
    "odetail=driver.find_elements(By.XPATH,'//div[@class=\"summary orange\"]')"
   ]
  },
  {
   "cell_type": "code",
   "execution_count": 38,
   "id": "401ea6ca",
   "metadata": {},
   "outputs": [],
   "source": [
    "overall=[]\n",
    "for i in odetail:\n",
    "    overall.append(i.text.split('\\n')[0])\n",
    "    \n"
   ]
  },
  {
   "cell_type": "code",
   "execution_count": 39,
   "id": "bd41edb0",
   "metadata": {},
   "outputs": [
    {
     "data": {
      "text/plain": [
       "['Fabulous', 'Fabulous', 'Fabulous', 'Fabulous', 'Superb']"
      ]
     },
     "execution_count": 39,
     "metadata": {},
     "output_type": "execute_result"
    }
   ],
   "source": [
    "overall[:5]"
   ]
  },
  {
   "cell_type": "code",
   "execution_count": 40,
   "id": "3d88e549",
   "metadata": {},
   "outputs": [],
   "source": [
    "odetail1=driver.find_elements(By.XPATH,'//div[@class=\"reviews\"]')"
   ]
  },
  {
   "cell_type": "code",
   "execution_count": 41,
   "id": "9a882147",
   "metadata": {},
   "outputs": [],
   "source": [
    "total_review=[]\n",
    "for i in odetail1:\n",
    "    total_review.append(i.text)"
   ]
  },
  {
   "cell_type": "code",
   "execution_count": 42,
   "id": "31b13f20",
   "metadata": {},
   "outputs": [
    {
     "data": {
      "text/plain": [
       "['14482 Total Reviews',\n",
       " '11829 Total Reviews',\n",
       " '1695 Total Reviews',\n",
       " '11846 Total Reviews',\n",
       " '7311 Total Reviews']"
      ]
     },
     "execution_count": 42,
     "metadata": {},
     "output_type": "execute_result"
    }
   ],
   "source": [
    "total_review[:5]"
   ]
  },
  {
   "cell_type": "code",
   "execution_count": 45,
   "id": "7c66c6c2",
   "metadata": {},
   "outputs": [
    {
     "data": {
      "text/plain": [
       "[<selenium.webdriver.remote.webelement.WebElement (session=\"ef68972cf2d693dfdd95a797cd6fd0ee\", element=\"18c3f38e-00ad-4753-a9cf-5d3fb1cde9f1\")>,\n",
       " <selenium.webdriver.remote.webelement.WebElement (session=\"ef68972cf2d693dfdd95a797cd6fd0ee\", element=\"72531a90-ae85-4410-b67e-52bd635fda40\")>,\n",
       " <selenium.webdriver.remote.webelement.WebElement (session=\"ef68972cf2d693dfdd95a797cd6fd0ee\", element=\"d1b7a4d2-0744-4f1c-89e1-96c348b839d1\")>,\n",
       " <selenium.webdriver.remote.webelement.WebElement (session=\"ef68972cf2d693dfdd95a797cd6fd0ee\", element=\"a068902a-0303-40c9-9846-2895600c43e5\")>,\n",
       " <selenium.webdriver.remote.webelement.WebElement (session=\"ef68972cf2d693dfdd95a797cd6fd0ee\", element=\"42a81328-7131-48a9-84fe-58ed2011a27e\")>,\n",
       " <selenium.webdriver.remote.webelement.WebElement (session=\"ef68972cf2d693dfdd95a797cd6fd0ee\", element=\"6fe5334b-2ed7-4df9-9cf5-b382e558e353\")>,\n",
       " <selenium.webdriver.remote.webelement.WebElement (session=\"ef68972cf2d693dfdd95a797cd6fd0ee\", element=\"31a405e4-69f5-4f4d-bba8-d4266a97e36c\")>,\n",
       " <selenium.webdriver.remote.webelement.WebElement (session=\"ef68972cf2d693dfdd95a797cd6fd0ee\", element=\"141833f4-6a49-474b-a35b-3269a4bfdafc\")>,\n",
       " <selenium.webdriver.remote.webelement.WebElement (session=\"ef68972cf2d693dfdd95a797cd6fd0ee\", element=\"da36b005-5a02-41fc-ab8d-2f17dffd8493\")>,\n",
       " <selenium.webdriver.remote.webelement.WebElement (session=\"ef68972cf2d693dfdd95a797cd6fd0ee\", element=\"f4bc8b36-1304-41f8-9543-c98b0b02dbc7\")>,\n",
       " <selenium.webdriver.remote.webelement.WebElement (session=\"ef68972cf2d693dfdd95a797cd6fd0ee\", element=\"44edec73-2bc3-464a-bfe9-fcd86e69c37d\")>,\n",
       " <selenium.webdriver.remote.webelement.WebElement (session=\"ef68972cf2d693dfdd95a797cd6fd0ee\", element=\"97c0963d-a64b-421d-b458-be03cf939355\")>,\n",
       " <selenium.webdriver.remote.webelement.WebElement (session=\"ef68972cf2d693dfdd95a797cd6fd0ee\", element=\"40c92394-172e-4078-852b-a50479578902\")>,\n",
       " <selenium.webdriver.remote.webelement.WebElement (session=\"ef68972cf2d693dfdd95a797cd6fd0ee\", element=\"2b050f15-63b5-4cd8-8ad6-fcedb591b5c2\")>,\n",
       " <selenium.webdriver.remote.webelement.WebElement (session=\"ef68972cf2d693dfdd95a797cd6fd0ee\", element=\"4a75e0f9-90c9-4d3e-91ba-5f922ff12c12\")>,\n",
       " <selenium.webdriver.remote.webelement.WebElement (session=\"ef68972cf2d693dfdd95a797cd6fd0ee\", element=\"22811448-bb0e-42f2-b83a-898e01ff11c8\")>,\n",
       " <selenium.webdriver.remote.webelement.WebElement (session=\"ef68972cf2d693dfdd95a797cd6fd0ee\", element=\"94fbd5f0-e4ac-4899-b0a5-51b9003d4eb8\")>,\n",
       " <selenium.webdriver.remote.webelement.WebElement (session=\"ef68972cf2d693dfdd95a797cd6fd0ee\", element=\"3760ea51-6a29-4d52-96a1-f9b3b1590373\")>,\n",
       " <selenium.webdriver.remote.webelement.WebElement (session=\"ef68972cf2d693dfdd95a797cd6fd0ee\", element=\"f45fb409-e67b-4220-a31b-eba85a203d80\")>,\n",
       " <selenium.webdriver.remote.webelement.WebElement (session=\"ef68972cf2d693dfdd95a797cd6fd0ee\", element=\"29e7a1a0-bb3b-49e2-aeba-ffe402b726d3\")>,\n",
       " <selenium.webdriver.remote.webelement.WebElement (session=\"ef68972cf2d693dfdd95a797cd6fd0ee\", element=\"5322bd68-289a-4422-af5e-765e48ca7ab2\")>,\n",
       " <selenium.webdriver.remote.webelement.WebElement (session=\"ef68972cf2d693dfdd95a797cd6fd0ee\", element=\"12d8bcd0-087b-462c-8e38-473993402d6a\")>,\n",
       " <selenium.webdriver.remote.webelement.WebElement (session=\"ef68972cf2d693dfdd95a797cd6fd0ee\", element=\"ecbefd01-07fb-4f4c-ab87-b9d91b35d762\")>,\n",
       " <selenium.webdriver.remote.webelement.WebElement (session=\"ef68972cf2d693dfdd95a797cd6fd0ee\", element=\"2e43ac19-4feb-4e82-8e6d-767cef010c0b\")>,\n",
       " <selenium.webdriver.remote.webelement.WebElement (session=\"ef68972cf2d693dfdd95a797cd6fd0ee\", element=\"428228b8-f20f-4894-aa2c-fc6bd0748d7c\")>,\n",
       " <selenium.webdriver.remote.webelement.WebElement (session=\"ef68972cf2d693dfdd95a797cd6fd0ee\", element=\"1f2108d8-8388-45dc-aeeb-d3cf0d6b0989\")>,\n",
       " <selenium.webdriver.remote.webelement.WebElement (session=\"ef68972cf2d693dfdd95a797cd6fd0ee\", element=\"2edf035c-5b7d-493c-a5c6-ff7b6ddae5b2\")>,\n",
       " <selenium.webdriver.remote.webelement.WebElement (session=\"ef68972cf2d693dfdd95a797cd6fd0ee\", element=\"902c142c-9bee-4e11-97cd-5ebd3e5d717f\")>,\n",
       " <selenium.webdriver.remote.webelement.WebElement (session=\"ef68972cf2d693dfdd95a797cd6fd0ee\", element=\"83d066bd-ea8b-4134-b1e5-893be4b56e86\")>,\n",
       " <selenium.webdriver.remote.webelement.WebElement (session=\"ef68972cf2d693dfdd95a797cd6fd0ee\", element=\"5b8395f3-08ce-453a-be91-c384c3b81f87\")>,\n",
       " <selenium.webdriver.remote.webelement.WebElement (session=\"ef68972cf2d693dfdd95a797cd6fd0ee\", element=\"6be1b481-b80b-47c8-99a7-454a6f0fdc1e\")>,\n",
       " <selenium.webdriver.remote.webelement.WebElement (session=\"ef68972cf2d693dfdd95a797cd6fd0ee\", element=\"fa4cd8ea-47a3-4f3f-98f0-3a4add059d24\")>,\n",
       " <selenium.webdriver.remote.webelement.WebElement (session=\"ef68972cf2d693dfdd95a797cd6fd0ee\", element=\"833396a1-6dcd-4778-a819-94e32feee19e\")>,\n",
       " <selenium.webdriver.remote.webelement.WebElement (session=\"ef68972cf2d693dfdd95a797cd6fd0ee\", element=\"7bf8f18a-a3e2-42c3-ace5-c27230665c2c\")>,\n",
       " <selenium.webdriver.remote.webelement.WebElement (session=\"ef68972cf2d693dfdd95a797cd6fd0ee\", element=\"1aabd21b-9b69-4c22-90e3-45d7c65912eb\")>,\n",
       " <selenium.webdriver.remote.webelement.WebElement (session=\"ef68972cf2d693dfdd95a797cd6fd0ee\", element=\"40199c34-e919-4d4f-95e7-e61792ba7ab5\")>,\n",
       " <selenium.webdriver.remote.webelement.WebElement (session=\"ef68972cf2d693dfdd95a797cd6fd0ee\", element=\"e8dde6c4-8bee-4f5f-b18a-24da09720924\")>,\n",
       " <selenium.webdriver.remote.webelement.WebElement (session=\"ef68972cf2d693dfdd95a797cd6fd0ee\", element=\"36dd75b4-9a2c-48da-ad1a-1b3b6db30089\")>,\n",
       " <selenium.webdriver.remote.webelement.WebElement (session=\"ef68972cf2d693dfdd95a797cd6fd0ee\", element=\"bdce4f6e-cc91-49d9-a91d-e08340b9c874\")>,\n",
       " <selenium.webdriver.remote.webelement.WebElement (session=\"ef68972cf2d693dfdd95a797cd6fd0ee\", element=\"178ce4d5-aaf0-47fe-b590-8d53e5427c18\")>,\n",
       " <selenium.webdriver.remote.webelement.WebElement (session=\"ef68972cf2d693dfdd95a797cd6fd0ee\", element=\"a8826b2c-2d46-41e4-afe0-c8afc25cf17a\")>,\n",
       " <selenium.webdriver.remote.webelement.WebElement (session=\"ef68972cf2d693dfdd95a797cd6fd0ee\", element=\"6cc0b8ad-9ba8-4674-8af4-dd3f639e853b\")>,\n",
       " <selenium.webdriver.remote.webelement.WebElement (session=\"ef68972cf2d693dfdd95a797cd6fd0ee\", element=\"b46cd3c5-1959-4c83-806c-40aa2c7ec261\")>,\n",
       " <selenium.webdriver.remote.webelement.WebElement (session=\"ef68972cf2d693dfdd95a797cd6fd0ee\", element=\"1a6dbe4e-56bc-493b-a329-dc0e88326b73\")>,\n",
       " <selenium.webdriver.remote.webelement.WebElement (session=\"ef68972cf2d693dfdd95a797cd6fd0ee\", element=\"e2f4b561-bc2c-4405-86ee-5f29bfe1c64b\")>,\n",
       " <selenium.webdriver.remote.webelement.WebElement (session=\"ef68972cf2d693dfdd95a797cd6fd0ee\", element=\"c9bdecc5-6ed9-4f89-bd35-0224e0418281\")>,\n",
       " <selenium.webdriver.remote.webelement.WebElement (session=\"ef68972cf2d693dfdd95a797cd6fd0ee\", element=\"9e06acfe-f527-43f2-82ad-ecce2090b2c8\")>,\n",
       " <selenium.webdriver.remote.webelement.WebElement (session=\"ef68972cf2d693dfdd95a797cd6fd0ee\", element=\"f122d6a7-d357-4531-a377-0f396f562c5d\")>,\n",
       " <selenium.webdriver.remote.webelement.WebElement (session=\"ef68972cf2d693dfdd95a797cd6fd0ee\", element=\"c2e527fe-c0cc-4598-908f-cc7002855622\")>,\n",
       " <selenium.webdriver.remote.webelement.WebElement (session=\"ef68972cf2d693dfdd95a797cd6fd0ee\", element=\"614d9c4a-3276-48e7-8403-0996410f3a54\")>,\n",
       " <selenium.webdriver.remote.webelement.WebElement (session=\"ef68972cf2d693dfdd95a797cd6fd0ee\", element=\"c2b23a6b-ec17-4943-998a-9b88bf221baa\")>,\n",
       " <selenium.webdriver.remote.webelement.WebElement (session=\"ef68972cf2d693dfdd95a797cd6fd0ee\", element=\"5a10db42-db8d-4f66-8b99-c2774ca203e2\")>,\n",
       " <selenium.webdriver.remote.webelement.WebElement (session=\"ef68972cf2d693dfdd95a797cd6fd0ee\", element=\"6a4f4af3-61ff-4515-8859-5236c0a57a3d\")>,\n",
       " <selenium.webdriver.remote.webelement.WebElement (session=\"ef68972cf2d693dfdd95a797cd6fd0ee\", element=\"01f11e87-4642-435f-8b68-f96000dc27c2\")>,\n",
       " <selenium.webdriver.remote.webelement.WebElement (session=\"ef68972cf2d693dfdd95a797cd6fd0ee\", element=\"bc8ec17d-32c7-43b5-a658-a85ebaba564d\")>,\n",
       " <selenium.webdriver.remote.webelement.WebElement (session=\"ef68972cf2d693dfdd95a797cd6fd0ee\", element=\"04ff994f-ed7d-4b54-b887-2a2a11b684b1\")>,\n",
       " <selenium.webdriver.remote.webelement.WebElement (session=\"ef68972cf2d693dfdd95a797cd6fd0ee\", element=\"afe82bb7-cd6f-43b0-8abf-4285933eb3e1\")>,\n",
       " <selenium.webdriver.remote.webelement.WebElement (session=\"ef68972cf2d693dfdd95a797cd6fd0ee\", element=\"733c41ba-9564-4cf3-94d2-17145a343e77\")>,\n",
       " <selenium.webdriver.remote.webelement.WebElement (session=\"ef68972cf2d693dfdd95a797cd6fd0ee\", element=\"6ef5a11e-d3cb-455f-bf8d-f941ab89eaac\")>,\n",
       " <selenium.webdriver.remote.webelement.WebElement (session=\"ef68972cf2d693dfdd95a797cd6fd0ee\", element=\"15bfc05b-aa10-4f45-a6f8-38643217a0e1\")>]"
      ]
     },
     "execution_count": 45,
     "metadata": {},
     "output_type": "execute_result"
    }
   ],
   "source": [
    "pfp_tag=driver.find_elements(By.XPATH,'//div[@class=\"price-col\"]')\n",
    "pfp_tag"
   ]
  },
  {
   "cell_type": "code",
   "execution_count": 46,
   "id": "fb43d35c",
   "metadata": {},
   "outputs": [],
   "source": [
    "pfp=[]\n",
    "for i in pfp_tag:\n",
    "    pfp.append(i.text)\n",
    "        "
   ]
  },
  {
   "cell_type": "code",
   "execution_count": 47,
   "id": "9da36f93",
   "metadata": {},
   "outputs": [
    {
     "data": {
      "text/plain": [
       "['Privates From\\nRs14982.57 Rs11986',\n",
       " 'Dorms From\\nRs3604.95 Rs2884',\n",
       " 'No Privates Available',\n",
       " 'Dorms From\\nRs1463.49 Rs1317',\n",
       " 'Privates From\\nRs9279']"
      ]
     },
     "execution_count": 47,
     "metadata": {},
     "output_type": "execute_result"
    }
   ],
   "source": [
    "pfp[:5]"
   ]
  },
  {
   "cell_type": "code",
   "execution_count": 48,
   "id": "63b0805b",
   "metadata": {},
   "outputs": [],
   "source": [
    "Privates_From = []\n",
    "for i in range(0,len(pfp),2):\n",
    "    Privates_From.append(pfp[i])\n",
    "time.sleep(2)\n",
    "\n",
    "Dorms_From = []\n",
    "for i in range(1,len(pfp),2):\n",
    "    Dorms_From.append(pfp[i])"
   ]
  },
  {
   "cell_type": "code",
   "execution_count": 50,
   "id": "4c0ed9a2",
   "metadata": {},
   "outputs": [
    {
     "data": {
      "text/plain": [
       "['Privates From\\nRs14982.57 Rs11986',\n",
       " 'No Privates Available',\n",
       " 'Privates From\\nRs9279',\n",
       " 'Privates From\\nRs7305',\n",
       " 'Privates From\\nRs7309']"
      ]
     },
     "execution_count": 50,
     "metadata": {},
     "output_type": "execute_result"
    }
   ],
   "source": [
    "Privates_From[:5]"
   ]
  },
  {
   "cell_type": "code",
   "execution_count": 51,
   "id": "5c84d7d4",
   "metadata": {},
   "outputs": [
    {
     "data": {
      "text/plain": [
       "['Dorms From\\nRs3604.95 Rs2884',\n",
       " 'Dorms From\\nRs1463.49 Rs1317',\n",
       " 'No Dorms Available',\n",
       " 'Dorms From\\nRs1826',\n",
       " 'Dorms From\\nRs1981']"
      ]
     },
     "execution_count": 51,
     "metadata": {},
     "output_type": "execute_result"
    }
   ],
   "source": [
    "Dorms_From[:5]"
   ]
  },
  {
   "cell_type": "code",
   "execution_count": 66,
   "id": "d7fb12d9",
   "metadata": {},
   "outputs": [],
   "source": [
    "df=pd.DataFrame()\n",
    "df['HOSTEL']=hostel\n",
    "df['DISTANCE']=distance\n",
    "df['RATING']=rating\n",
    "df['OVER REVIEW']=overall\n",
    "df['TOTAL_REVIEW']=total_review\n",
    "df['PRIVATE PRICE']=Privates_From\n",
    "df['DORMS PRICE']=Dorms_From"
   ]
  },
  {
   "cell_type": "code",
   "execution_count": 67,
   "id": "ecf45b1d",
   "metadata": {},
   "outputs": [
    {
     "data": {
      "text/html": [
       "<div>\n",
       "<style scoped>\n",
       "    .dataframe tbody tr th:only-of-type {\n",
       "        vertical-align: middle;\n",
       "    }\n",
       "\n",
       "    .dataframe tbody tr th {\n",
       "        vertical-align: top;\n",
       "    }\n",
       "\n",
       "    .dataframe thead th {\n",
       "        text-align: right;\n",
       "    }\n",
       "</style>\n",
       "<table border=\"1\" class=\"dataframe\">\n",
       "  <thead>\n",
       "    <tr style=\"text-align: right;\">\n",
       "      <th></th>\n",
       "      <th>HOSTEL</th>\n",
       "      <th>DISTANCE</th>\n",
       "      <th>RATING</th>\n",
       "      <th>OVER REVIEW</th>\n",
       "      <th>TOTAL_REVIEW</th>\n",
       "      <th>PRIVATE PRICE</th>\n",
       "      <th>DORMS PRICE</th>\n",
       "    </tr>\n",
       "  </thead>\n",
       "  <tbody>\n",
       "    <tr>\n",
       "      <th>0</th>\n",
       "      <td>Wombat's City Hostel London</td>\n",
       "      <td>Hostel - 3.6km from city centre</td>\n",
       "      <td>8.9</td>\n",
       "      <td>Fabulous</td>\n",
       "      <td>14482 Total Reviews</td>\n",
       "      <td>Privates From\\nRs14982.57 Rs11986</td>\n",
       "      <td>Dorms From\\nRs3604.95 Rs2884</td>\n",
       "    </tr>\n",
       "    <tr>\n",
       "      <th>1</th>\n",
       "      <td>St Christopher's Village</td>\n",
       "      <td>Hostel - 1.8km from city centre</td>\n",
       "      <td>8.0</td>\n",
       "      <td>Fabulous</td>\n",
       "      <td>11829 Total Reviews</td>\n",
       "      <td>No Privates Available</td>\n",
       "      <td>Dorms From\\nRs1463.49 Rs1317</td>\n",
       "    </tr>\n",
       "    <tr>\n",
       "      <th>2</th>\n",
       "      <td>Hostel One Notting Hill</td>\n",
       "      <td>Hostel - 5.5km from city centre</td>\n",
       "      <td>9.4</td>\n",
       "      <td>Fabulous</td>\n",
       "      <td>1695 Total Reviews</td>\n",
       "      <td>Privates From\\nRs9279</td>\n",
       "      <td>No Dorms Available</td>\n",
       "    </tr>\n",
       "    <tr>\n",
       "      <th>3</th>\n",
       "      <td>Astor Hyde Park</td>\n",
       "      <td>Hostel - 4.3km from city centre</td>\n",
       "      <td>8.7</td>\n",
       "      <td>Fabulous</td>\n",
       "      <td>11846 Total Reviews</td>\n",
       "      <td>Privates From\\nRs7305</td>\n",
       "      <td>Dorms From\\nRs1826</td>\n",
       "    </tr>\n",
       "    <tr>\n",
       "      <th>4</th>\n",
       "      <td>Generator London</td>\n",
       "      <td>Hostel - 3km from city centre</td>\n",
       "      <td>7.7</td>\n",
       "      <td>Superb</td>\n",
       "      <td>7311 Total Reviews</td>\n",
       "      <td>Privates From\\nRs7309</td>\n",
       "      <td>Dorms From\\nRs1981</td>\n",
       "    </tr>\n",
       "    <tr>\n",
       "      <th>5</th>\n",
       "      <td>Pickwick Hall</td>\n",
       "      <td>Hostel - 2.3km from city centre</td>\n",
       "      <td>8.6</td>\n",
       "      <td>Fabulous</td>\n",
       "      <td>2548 Total Reviews</td>\n",
       "      <td>Privates From\\nRs6973</td>\n",
       "      <td>No Dorms Available</td>\n",
       "    </tr>\n",
       "    <tr>\n",
       "      <th>6</th>\n",
       "      <td>Safestay London Elephant &amp; Castle</td>\n",
       "      <td>Hostel - 1.7km from city centre</td>\n",
       "      <td>7.3</td>\n",
       "      <td>Very Good</td>\n",
       "      <td>4773 Total Reviews</td>\n",
       "      <td>Privates From\\nRs10758</td>\n",
       "      <td>Dorms From\\nRs1942</td>\n",
       "    </tr>\n",
       "    <tr>\n",
       "      <th>7</th>\n",
       "      <td>Urbany Hostel London</td>\n",
       "      <td>Hostel - 5.4km from city centre</td>\n",
       "      <td>9.2</td>\n",
       "      <td>Fabulous</td>\n",
       "      <td>608 Total Reviews</td>\n",
       "      <td>Privates From\\nRs8704</td>\n",
       "      <td>Dorms From\\nRs2596</td>\n",
       "    </tr>\n",
       "    <tr>\n",
       "      <th>8</th>\n",
       "      <td>St Christopher's Camden</td>\n",
       "      <td>Hostel - 4.3km from city centre</td>\n",
       "      <td>8.2</td>\n",
       "      <td>Very Good</td>\n",
       "      <td>3957 Total Reviews</td>\n",
       "      <td>No Privates Available</td>\n",
       "      <td>Dorms From\\nRs1978.87 Rs1781</td>\n",
       "    </tr>\n",
       "    <tr>\n",
       "      <th>9</th>\n",
       "      <td>Smart Russell Square Hostel</td>\n",
       "      <td>Hostel - 2.6km from city centre</td>\n",
       "      <td>7.2</td>\n",
       "      <td>Superb</td>\n",
       "      <td>9875 Total Reviews</td>\n",
       "      <td>Privates From\\nRs9031</td>\n",
       "      <td>Dorms From\\nRs7231</td>\n",
       "    </tr>\n",
       "    <tr>\n",
       "      <th>10</th>\n",
       "      <td>Safestay London Kensington Holland Park</td>\n",
       "      <td>Hostel - 5.9km from city centre</td>\n",
       "      <td>7.1</td>\n",
       "      <td>Fabulous</td>\n",
       "      <td>1411 Total Reviews</td>\n",
       "      <td>No Privates Available</td>\n",
       "      <td>Dorms From\\nRs1345</td>\n",
       "    </tr>\n",
       "    <tr>\n",
       "      <th>11</th>\n",
       "      <td>Smart Camden Inn Hostel</td>\n",
       "      <td>Hostel - 4.4km from city centre</td>\n",
       "      <td>8.2</td>\n",
       "      <td>Very Good</td>\n",
       "      <td>3016 Total Reviews</td>\n",
       "      <td>Privates From\\nRs8869</td>\n",
       "      <td>No Dorms Available</td>\n",
       "    </tr>\n",
       "    <tr>\n",
       "      <th>12</th>\n",
       "      <td>Destinations Hostels @ The Gallery</td>\n",
       "      <td>Hostel - 1.7km from city centre</td>\n",
       "      <td>9.4</td>\n",
       "      <td>Very Good</td>\n",
       "      <td>102 Total Reviews</td>\n",
       "      <td>No Privates Available</td>\n",
       "      <td>Dorms From\\nRs3984</td>\n",
       "    </tr>\n",
       "    <tr>\n",
       "      <th>13</th>\n",
       "      <td>No.8 Seven Sisters</td>\n",
       "      <td>Hostel - 9km from city centre</td>\n",
       "      <td>5.5</td>\n",
       "      <td>Fabulous</td>\n",
       "      <td>3951 Total Reviews</td>\n",
       "      <td>No Privates Available</td>\n",
       "      <td>Dorms From\\nRs925</td>\n",
       "    </tr>\n",
       "    <tr>\n",
       "      <th>14</th>\n",
       "      <td>NX London Hostel</td>\n",
       "      <td>Hostel - 6.1km from city centre</td>\n",
       "      <td>7.7</td>\n",
       "      <td>Superb</td>\n",
       "      <td>1499 Total Reviews</td>\n",
       "      <td>Privates From\\nRs7649.82 Rs6120</td>\n",
       "      <td>Dorms From\\nRs1878.84 Rs1503</td>\n",
       "    </tr>\n",
       "    <tr>\n",
       "      <th>15</th>\n",
       "      <td>No.8 Willesden Hostel London</td>\n",
       "      <td>Hostel - 10km from city centre</td>\n",
       "      <td>6.8</td>\n",
       "      <td>Very Good</td>\n",
       "      <td>4928 Total Reviews</td>\n",
       "      <td>Privates From\\nRs2153</td>\n",
       "      <td>Dorms From\\nRs925</td>\n",
       "    </tr>\n",
       "    <tr>\n",
       "      <th>16</th>\n",
       "      <td>Dover Castle Hostel and Bar</td>\n",
       "      <td>Hostel - 1.7km from city centre</td>\n",
       "      <td>8.4</td>\n",
       "      <td>Good</td>\n",
       "      <td>2322 Total Reviews</td>\n",
       "      <td>No Privates Available</td>\n",
       "      <td>Dorms From\\nRs1594</td>\n",
       "    </tr>\n",
       "    <tr>\n",
       "      <th>17</th>\n",
       "      <td>London Backpackers</td>\n",
       "      <td>Hostel - 11.9km from city centre</td>\n",
       "      <td>7.9</td>\n",
       "      <td>Fabulous</td>\n",
       "      <td>4397 Total Reviews</td>\n",
       "      <td>Privates From\\nRs6050</td>\n",
       "      <td>Dorms From\\nRs1703</td>\n",
       "    </tr>\n",
       "    <tr>\n",
       "      <th>18</th>\n",
       "      <td>St Christopher's Hammersmith</td>\n",
       "      <td>Hostel - 7.5km from city centre</td>\n",
       "      <td>7.7</td>\n",
       "      <td>Very Good</td>\n",
       "      <td>4185 Total Reviews</td>\n",
       "      <td>No Privates Available</td>\n",
       "      <td>Dorms From\\nRs1279.03 Rs1151</td>\n",
       "    </tr>\n",
       "    <tr>\n",
       "      <th>19</th>\n",
       "      <td>Astor Victoria</td>\n",
       "      <td>Hostel - 1.8km from city centre</td>\n",
       "      <td>7.8</td>\n",
       "      <td>Very Good</td>\n",
       "      <td>14881 Total Reviews</td>\n",
       "      <td>No Privates Available</td>\n",
       "      <td>Dorms From\\nRs1793</td>\n",
       "    </tr>\n",
       "    <tr>\n",
       "      <th>20</th>\n",
       "      <td>Phoenix Hostel</td>\n",
       "      <td>Hostel - 4.2km from city centre</td>\n",
       "      <td>7.0</td>\n",
       "      <td>Very Good</td>\n",
       "      <td>3931 Total Reviews</td>\n",
       "      <td>No Privates Available</td>\n",
       "      <td>Dorms From\\nRs1763.22 Rs1675</td>\n",
       "    </tr>\n",
       "    <tr>\n",
       "      <th>21</th>\n",
       "      <td>Smart Hyde Park View Hostel</td>\n",
       "      <td>Hostel - 4.8km from city centre</td>\n",
       "      <td>7.8</td>\n",
       "      <td>Very Good</td>\n",
       "      <td>4658 Total Reviews</td>\n",
       "      <td>Privates From\\nRs7969</td>\n",
       "      <td>Dorms From\\nRs1849</td>\n",
       "    </tr>\n",
       "    <tr>\n",
       "      <th>22</th>\n",
       "      <td>Prime Backpackers Angel</td>\n",
       "      <td>Hostel - 3.6km from city centre</td>\n",
       "      <td>8.2</td>\n",
       "      <td>Very Good</td>\n",
       "      <td>707 Total Reviews</td>\n",
       "      <td>Privates From\\nRs7387</td>\n",
       "      <td>Dorms From\\nRs2357</td>\n",
       "    </tr>\n",
       "    <tr>\n",
       "      <th>23</th>\n",
       "      <td>Barmy Badger Backpackers</td>\n",
       "      <td>Hostel - 5.5km from city centre</td>\n",
       "      <td>8.9</td>\n",
       "      <td>Fabulous</td>\n",
       "      <td>1875 Total Reviews</td>\n",
       "      <td>Privates From\\nRs8666</td>\n",
       "      <td>Dorms From\\nRs2689</td>\n",
       "    </tr>\n",
       "    <tr>\n",
       "      <th>24</th>\n",
       "      <td>St Christopher's Inn - London Bridge</td>\n",
       "      <td>Hostel - 1.8km from city centre</td>\n",
       "      <td>7.6</td>\n",
       "      <td>Fabulous</td>\n",
       "      <td>3424 Total Reviews</td>\n",
       "      <td>No Privates Available</td>\n",
       "      <td>Dorms From\\nRs2237.1 Rs2013</td>\n",
       "    </tr>\n",
       "    <tr>\n",
       "      <th>25</th>\n",
       "      <td>Clink261</td>\n",
       "      <td>Hostel - 3.2km from city centre</td>\n",
       "      <td>8.1</td>\n",
       "      <td>Very Good</td>\n",
       "      <td>181 Total Reviews</td>\n",
       "      <td>No Privates Available</td>\n",
       "      <td>Dorms From\\nRs2085.84 Rs1877</td>\n",
       "    </tr>\n",
       "    <tr>\n",
       "      <th>26</th>\n",
       "      <td>Queen Elizabeth Chelsea</td>\n",
       "      <td>Hostel - 5.7km from city centre</td>\n",
       "      <td>7.1</td>\n",
       "      <td>Fabulous</td>\n",
       "      <td>3384 Total Reviews</td>\n",
       "      <td>No Privates Available</td>\n",
       "      <td>Dorms From\\nRs1891</td>\n",
       "    </tr>\n",
       "    <tr>\n",
       "      <th>27</th>\n",
       "      <td>St Christopher's Greenwich</td>\n",
       "      <td>Hostel - 7.6km from city centre</td>\n",
       "      <td>7.2</td>\n",
       "      <td>Very Good</td>\n",
       "      <td>3301 Total Reviews</td>\n",
       "      <td>No Privates Available</td>\n",
       "      <td>Dorms From\\nRs1279.03 Rs1151</td>\n",
       "    </tr>\n",
       "    <tr>\n",
       "      <th>28</th>\n",
       "      <td>Kensal Green Backpackers</td>\n",
       "      <td>Hostel - 8.2km from city centre</td>\n",
       "      <td>5.1</td>\n",
       "      <td>Very Good</td>\n",
       "      <td>3693 Total Reviews</td>\n",
       "      <td>Privates From\\nRs5349</td>\n",
       "      <td>Dorms From\\nRs1693</td>\n",
       "    </tr>\n",
       "    <tr>\n",
       "      <th>29</th>\n",
       "      <td>Saint James Backpackers</td>\n",
       "      <td>Hostel - 5.5km from city centre</td>\n",
       "      <td>7.6</td>\n",
       "      <td>Very Good</td>\n",
       "      <td>1860 Total Reviews</td>\n",
       "      <td>Privates From\\nRs6410</td>\n",
       "      <td>Dorms From\\nRs2391</td>\n",
       "    </tr>\n",
       "  </tbody>\n",
       "</table>\n",
       "</div>"
      ],
      "text/plain": [
       "                                     HOSTEL                          DISTANCE  \\\n",
       "0               Wombat's City Hostel London   Hostel - 3.6km from city centre   \n",
       "1                  St Christopher's Village   Hostel - 1.8km from city centre   \n",
       "2                   Hostel One Notting Hill   Hostel - 5.5km from city centre   \n",
       "3                           Astor Hyde Park   Hostel - 4.3km from city centre   \n",
       "4                          Generator London     Hostel - 3km from city centre   \n",
       "5                             Pickwick Hall   Hostel - 2.3km from city centre   \n",
       "6         Safestay London Elephant & Castle   Hostel - 1.7km from city centre   \n",
       "7                      Urbany Hostel London   Hostel - 5.4km from city centre   \n",
       "8                   St Christopher's Camden   Hostel - 4.3km from city centre   \n",
       "9               Smart Russell Square Hostel   Hostel - 2.6km from city centre   \n",
       "10  Safestay London Kensington Holland Park   Hostel - 5.9km from city centre   \n",
       "11                  Smart Camden Inn Hostel   Hostel - 4.4km from city centre   \n",
       "12       Destinations Hostels @ The Gallery   Hostel - 1.7km from city centre   \n",
       "13                       No.8 Seven Sisters     Hostel - 9km from city centre   \n",
       "14                         NX London Hostel   Hostel - 6.1km from city centre   \n",
       "15             No.8 Willesden Hostel London    Hostel - 10km from city centre   \n",
       "16              Dover Castle Hostel and Bar   Hostel - 1.7km from city centre   \n",
       "17                       London Backpackers  Hostel - 11.9km from city centre   \n",
       "18             St Christopher's Hammersmith   Hostel - 7.5km from city centre   \n",
       "19                           Astor Victoria   Hostel - 1.8km from city centre   \n",
       "20                           Phoenix Hostel   Hostel - 4.2km from city centre   \n",
       "21              Smart Hyde Park View Hostel   Hostel - 4.8km from city centre   \n",
       "22                  Prime Backpackers Angel   Hostel - 3.6km from city centre   \n",
       "23                 Barmy Badger Backpackers   Hostel - 5.5km from city centre   \n",
       "24     St Christopher's Inn - London Bridge   Hostel - 1.8km from city centre   \n",
       "25                                 Clink261   Hostel - 3.2km from city centre   \n",
       "26                  Queen Elizabeth Chelsea   Hostel - 5.7km from city centre   \n",
       "27               St Christopher's Greenwich   Hostel - 7.6km from city centre   \n",
       "28                 Kensal Green Backpackers   Hostel - 8.2km from city centre   \n",
       "29                  Saint James Backpackers   Hostel - 5.5km from city centre   \n",
       "\n",
       "   RATING OVER REVIEW         TOTAL_REVIEW                      PRIVATE PRICE  \\\n",
       "0     8.9    Fabulous  14482 Total Reviews  Privates From\\nRs14982.57 Rs11986   \n",
       "1     8.0    Fabulous  11829 Total Reviews              No Privates Available   \n",
       "2     9.4    Fabulous   1695 Total Reviews              Privates From\\nRs9279   \n",
       "3     8.7    Fabulous  11846 Total Reviews              Privates From\\nRs7305   \n",
       "4     7.7      Superb   7311 Total Reviews              Privates From\\nRs7309   \n",
       "5     8.6    Fabulous   2548 Total Reviews              Privates From\\nRs6973   \n",
       "6     7.3   Very Good   4773 Total Reviews             Privates From\\nRs10758   \n",
       "7     9.2    Fabulous    608 Total Reviews              Privates From\\nRs8704   \n",
       "8     8.2   Very Good   3957 Total Reviews              No Privates Available   \n",
       "9     7.2      Superb   9875 Total Reviews              Privates From\\nRs9031   \n",
       "10    7.1    Fabulous   1411 Total Reviews              No Privates Available   \n",
       "11    8.2   Very Good   3016 Total Reviews              Privates From\\nRs8869   \n",
       "12    9.4   Very Good    102 Total Reviews              No Privates Available   \n",
       "13    5.5    Fabulous   3951 Total Reviews              No Privates Available   \n",
       "14    7.7      Superb   1499 Total Reviews    Privates From\\nRs7649.82 Rs6120   \n",
       "15    6.8   Very Good   4928 Total Reviews              Privates From\\nRs2153   \n",
       "16    8.4        Good   2322 Total Reviews              No Privates Available   \n",
       "17    7.9    Fabulous   4397 Total Reviews              Privates From\\nRs6050   \n",
       "18    7.7   Very Good   4185 Total Reviews              No Privates Available   \n",
       "19    7.8   Very Good  14881 Total Reviews              No Privates Available   \n",
       "20    7.0   Very Good   3931 Total Reviews              No Privates Available   \n",
       "21    7.8   Very Good   4658 Total Reviews              Privates From\\nRs7969   \n",
       "22    8.2   Very Good    707 Total Reviews              Privates From\\nRs7387   \n",
       "23    8.9    Fabulous   1875 Total Reviews              Privates From\\nRs8666   \n",
       "24    7.6    Fabulous   3424 Total Reviews              No Privates Available   \n",
       "25    8.1   Very Good    181 Total Reviews              No Privates Available   \n",
       "26    7.1    Fabulous   3384 Total Reviews              No Privates Available   \n",
       "27    7.2   Very Good   3301 Total Reviews              No Privates Available   \n",
       "28    5.1   Very Good   3693 Total Reviews              Privates From\\nRs5349   \n",
       "29    7.6   Very Good   1860 Total Reviews              Privates From\\nRs6410   \n",
       "\n",
       "                     DORMS PRICE  \n",
       "0   Dorms From\\nRs3604.95 Rs2884  \n",
       "1   Dorms From\\nRs1463.49 Rs1317  \n",
       "2             No Dorms Available  \n",
       "3             Dorms From\\nRs1826  \n",
       "4             Dorms From\\nRs1981  \n",
       "5             No Dorms Available  \n",
       "6             Dorms From\\nRs1942  \n",
       "7             Dorms From\\nRs2596  \n",
       "8   Dorms From\\nRs1978.87 Rs1781  \n",
       "9             Dorms From\\nRs7231  \n",
       "10            Dorms From\\nRs1345  \n",
       "11            No Dorms Available  \n",
       "12            Dorms From\\nRs3984  \n",
       "13             Dorms From\\nRs925  \n",
       "14  Dorms From\\nRs1878.84 Rs1503  \n",
       "15             Dorms From\\nRs925  \n",
       "16            Dorms From\\nRs1594  \n",
       "17            Dorms From\\nRs1703  \n",
       "18  Dorms From\\nRs1279.03 Rs1151  \n",
       "19            Dorms From\\nRs1793  \n",
       "20  Dorms From\\nRs1763.22 Rs1675  \n",
       "21            Dorms From\\nRs1849  \n",
       "22            Dorms From\\nRs2357  \n",
       "23            Dorms From\\nRs2689  \n",
       "24   Dorms From\\nRs2237.1 Rs2013  \n",
       "25  Dorms From\\nRs2085.84 Rs1877  \n",
       "26            Dorms From\\nRs1891  \n",
       "27  Dorms From\\nRs1279.03 Rs1151  \n",
       "28            Dorms From\\nRs1693  \n",
       "29            Dorms From\\nRs2391  "
      ]
     },
     "execution_count": 67,
     "metadata": {},
     "output_type": "execute_result"
    }
   ],
   "source": [
    "df"
   ]
  },
  {
   "cell_type": "code",
   "execution_count": null,
   "id": "5e591d97",
   "metadata": {},
   "outputs": [],
   "source": []
  }
 ],
 "metadata": {
  "kernelspec": {
   "display_name": "Python 3 (ipykernel)",
   "language": "python",
   "name": "python3"
  },
  "language_info": {
   "codemirror_mode": {
    "name": "ipython",
    "version": 3
   },
   "file_extension": ".py",
   "mimetype": "text/x-python",
   "name": "python",
   "nbconvert_exporter": "python",
   "pygments_lexer": "ipython3",
   "version": "3.9.7"
  }
 },
 "nbformat": 4,
 "nbformat_minor": 5
}
